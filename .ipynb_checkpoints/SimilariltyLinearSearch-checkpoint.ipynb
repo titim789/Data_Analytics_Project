{
 "cells": [
  {
   "cell_type": "code",
   "execution_count": 1,
   "id": "f176cb50",
   "metadata": {},
   "outputs": [],
   "source": [
    "import pandas as pd"
   ]
  },
  {
   "cell_type": "code",
   "execution_count": 2,
   "id": "440aed6f",
   "metadata": {},
   "outputs": [],
   "source": [
    "df = pd.read_json(\"job_postings_prepped.json\")"
   ]
  },
  {
   "cell_type": "code",
   "execution_count": 11,
   "id": "e13aa25c",
   "metadata": {},
   "outputs": [
    {
     "data": {
      "text/html": [
       "<div>\n",
       "<style scoped>\n",
       "    .dataframe tbody tr th:only-of-type {\n",
       "        vertical-align: middle;\n",
       "    }\n",
       "\n",
       "    .dataframe tbody tr th {\n",
       "        vertical-align: top;\n",
       "    }\n",
       "\n",
       "    .dataframe thead th {\n",
       "        text-align: right;\n",
       "    }\n",
       "</style>\n",
       "<table border=\"1\" class=\"dataframe\">\n",
       "  <thead>\n",
       "    <tr style=\"text-align: right;\">\n",
       "      <th></th>\n",
       "      <th>Data</th>\n",
       "      <th>Vector</th>\n",
       "    </tr>\n",
       "  </thead>\n",
       "  <tbody>\n",
       "    <tr>\n",
       "      <th>15885</th>\n",
       "      <td>Area Director Business Development Nexion Heal...</td>\n",
       "      <td>[0, 0, 0, 0, 0, 0, 0, 0, 0, 0, 0, 0, 0, 0, 0, ...</td>\n",
       "    </tr>\n",
       "  </tbody>\n",
       "</table>\n",
       "</div>"
      ],
      "text/plain": [
       "                                                    Data  \\\n",
       "15885  Area Director Business Development Nexion Heal...   \n",
       "\n",
       "                                                  Vector  \n",
       "15885  [0, 0, 0, 0, 0, 0, 0, 0, 0, 0, 0, 0, 0, 0, 0, ...  "
      ]
     },
     "execution_count": 11,
     "metadata": {},
     "output_type": "execute_result"
    }
   ],
   "source": [
    "df.tail(1)"
   ]
  },
  {
   "cell_type": "code",
   "execution_count": 4,
   "id": "4b4cd4a2",
   "metadata": {},
   "outputs": [
    {
     "data": {
      "text/plain": [
       "(15885, 2)"
      ]
     },
     "execution_count": 4,
     "metadata": {},
     "output_type": "execute_result"
    }
   ],
   "source": [
    "df.shape"
   ]
  },
  {
   "cell_type": "markdown",
   "id": "f6d1331e",
   "metadata": {},
   "source": [
    "# Data Processing"
   ]
  },
  {
   "cell_type": "markdown",
   "id": "7f257fdb",
   "metadata": {},
   "source": [
    "## Stop Words Removal"
   ]
  },
  {
   "cell_type": "code",
   "execution_count": null,
   "id": "0b16ba4f",
   "metadata": {
    "scrolled": true
   },
   "outputs": [],
   "source": [
    "from nltk.corpus import stopwords\n",
    "# import nltk\n",
    "# nltk.download('stopwords')\n",
    "stop_words = stopwords.words('english')\n",
    "stop_words.append('nan')\n",
    "stop_words.append('removed')\n",
    "stop_words.remove('not')\n",
    "stop_words.remove('no')\n",
    "stop_words[:10]"
   ]
  },
  {
   "cell_type": "code",
   "execution_count": null,
   "id": "1a83c9cc",
   "metadata": {},
   "outputs": [],
   "source": [
    "df['Data'] = df['Data'].apply(lambda x: ' '.join([word for word in x.split() if word not in (stop_words)]))"
   ]
  },
  {
   "cell_type": "code",
   "execution_count": null,
   "id": "f41f193a",
   "metadata": {},
   "outputs": [],
   "source": [
    "df.head()"
   ]
  },
  {
   "cell_type": "markdown",
   "id": "d3abcd78",
   "metadata": {},
   "source": [
    "## Tokenise Words & Put into Matrix"
   ]
  },
  {
   "cell_type": "code",
   "execution_count": null,
   "id": "7ad2b116",
   "metadata": {},
   "outputs": [],
   "source": [
    "from sklearn.feature_extraction.text import CountVectorizer\n",
    "import numpy as np"
   ]
  },
  {
   "cell_type": "code",
   "execution_count": null,
   "id": "d5081359",
   "metadata": {},
   "outputs": [],
   "source": [
    "# Create a CountVectorizer instance\n",
    "vectorizer = CountVectorizer()\n",
    "\n",
    "# Preparing the data to fit_tranformation\n",
    "listofData  = list(df[\"Data\"].array)\n",
    "\n",
    "# Create the Matrix\n",
    "matrix = vectorizer.fit_transform(listofData)\n",
    "matrix = matrix.toarray()\n",
    "\n",
    "# Add into new column in df\n",
    "df[\"Vector\"] = [row.tolist() for row in matrix]\n",
    "df"
   ]
  },
  {
   "cell_type": "markdown",
   "id": "f3cf7fe1-77d8-487f-a6bc-e655f2f8c973",
   "metadata": {},
   "source": [
    "## Calculating L2 Distance"
   ]
  },
  {
   "cell_type": "code",
   "execution_count": null,
   "id": "02e204a6-d40f-4a68-9000-f3ca10f38045",
   "metadata": {},
   "outputs": [],
   "source": [
    "def l2_distance(v1, v2):\n",
    "    if (len(v1) != len(v2)):\n",
    "        print(\"Vectors not of the same dimension\")\n",
    "        return -1\n",
    "    sum = 0\n",
    "    for i, pt in enumerate(v1):\n",
    "        sum += (pt - v2[i])**2\n",
    "    return sum ** 0.5"
   ]
  },
  {
   "cell_type": "code",
   "execution_count": null,
   "id": "3490839c-0291-441d-8499-8d668f102f50",
   "metadata": {},
   "outputs": [],
   "source": [
    "l2_distance(df['Vector'][0], df['Vector'][1])"
   ]
  },
  {
   "cell_type": "code",
   "execution_count": null,
   "id": "6b217d8c-4bf1-48ca-bae3-38a421ca9be2",
   "metadata": {
    "scrolled": true
   },
   "outputs": [],
   "source": [
    "l2DistanceDf = df.copy()\n",
    "v1 = df['Vector'][0]\n",
    "l2DistanceDf[\"Distance from v1\"] = df['Vector'].apply(lambda x: l2_distance(v1,x))\n",
    "l2DistanceDf"
   ]
  },
  {
   "cell_type": "markdown",
   "id": "981d8c46-993c-49d2-b818-b6bf9c3cb076",
   "metadata": {},
   "source": [
    "## Calculating Cosine Similarity"
   ]
  },
  {
   "cell_type": "code",
   "execution_count": 5,
   "id": "108a0ad1-4adf-4544-89c3-7b6ad5ec82c1",
   "metadata": {},
   "outputs": [],
   "source": [
    "def cosine_sim(v1,v2):\n",
    "    if (len(v1) != len(v2)):\n",
    "        print(\"Vectors not of the same dimension\")\n",
    "        return -1\n",
    "    dotProduct = 0\n",
    "    sumOfSquaredV1 = 0\n",
    "    sumOfSquaredV2 = 0\n",
    "    for i, pt in enumerate(v1):\n",
    "        dotProduct += pt*v2[i]\n",
    "        sumOfSquaredV1 += pt*pt\n",
    "        sumOfSquaredV2 += v2[i] * v2[i]\n",
    "    \n",
    "    cosineSimilarity = dotProduct/((sumOfSquaredV1 ** 0.5) * (sumOfSquaredV2 ** 0.5))\n",
    "    return cosineSimilarity"
   ]
  },
  {
   "cell_type": "code",
   "execution_count": null,
   "id": "dd0a4bcf-6ff4-4b46-9a43-20d7c5f65095",
   "metadata": {},
   "outputs": [],
   "source": [
    "print(cosine_sim(df['Vector'][0], df['Vector'][1]))\n",
    "print(cosine_sim(df['Vector'][0], df['Vector'][0]))"
   ]
  },
  {
   "cell_type": "code",
   "execution_count": null,
   "id": "d61052ea-dead-43f9-93ce-353b9322bf96",
   "metadata": {},
   "outputs": [],
   "source": [
    "cosSimDf = df.copy()\n",
    "v1 = df['Vector'][0]\n",
    "cosSimDf[\"Cosine Similarity with v1\"] = df['Vector'].apply(lambda x: cosine_sim(v1,x))\n",
    "cosSimDf"
   ]
  },
  {
   "cell_type": "code",
   "execution_count": null,
   "id": "3491cd54-1f1c-4b33-b55a-9d404795d9ae",
   "metadata": {},
   "outputs": [],
   "source": [
    "cosSimDf[cosSimDf[\"Cosine Similarity with v1\"] != 0]"
   ]
  },
  {
   "cell_type": "code",
   "execution_count": null,
   "id": "0c67c5db-758d-450d-aa05-2c21bd3737c9",
   "metadata": {},
   "outputs": [],
   "source": [
    "print(cosSimDf[\"Data\"][0])\n",
    "print(cosSimDf[\"Data\"][119])\n",
    "print(cosSimDf[\"Data\"][len(cosSimDf['Data'])-1])"
   ]
  },
  {
   "cell_type": "code",
   "execution_count": 12,
   "id": "cce6fb5b-5ea1-4568-ad5a-6d3a50b7edea",
   "metadata": {},
   "outputs": [
    {
     "name": "stdout",
     "output_type": "stream",
     "text": [
      "resilient investment banker\n",
      "2 years experience product manager\n",
      "10 years risk analyst problem solver\n",
      "tax analyst for big company\n",
      "software engineer for google or amazon\n",
      "video editor for advertisements with 5 year experience\n",
      "full time senior head nurse position\n",
      "after school math and science tutor\n",
      "dietitian for professional atheletes\n",
      "costume designer and makeup artist\n",
      "[243.0468626022339, 162.32361245155334, 165.2898588180542, 160.19741201400757, 160.39379787445068, 225.03185367584229, 161.4221270084381, 166.50238347053528, 249.01232147216797, 162.443368434906]\n"
     ]
    }
   ],
   "source": [
    "import time\n",
    "from sklearn.feature_extraction.text import CountVectorizer\n",
    "import numpy as np\n",
    "\n",
    "sample_queries = [\"resilient investment banker\",\n",
    "                  \"2 years experience product manager\",\n",
    "                  \"10 years risk analyst problem solver\",\n",
    "                  \"tax analyst for big company\",\n",
    "                  \"software engineer for google or amazon\",\n",
    "                  \"video editor for advertisements with 5 year experience\",\n",
    "                  \"full time senior head nurse position\",\n",
    "                  \"after school math and science tutor\",\n",
    "                  \"dietitian for professional atheletes\",\n",
    "                  \"costume designer and makeup artist\"]\n",
    "\n",
    "elapse_time = []\n",
    "\n",
    "for query in sample_queries:\n",
    "    tempDf = df[['Data']].copy()\n",
    "    start_time = time.time()\n",
    "    \n",
    "    new_record = pd.DataFrame([{'Data':query}])\n",
    "    tempDf = pd.concat([tempDf, new_record], ignore_index=True)\n",
    "    \n",
    "    # Create a CountVectorizer instance\n",
    "    vectorizer = CountVectorizer()\n",
    "    # Preparing the data to fit_tranformation\n",
    "    listofData  = list(tempDf[\"Data\"].array)\n",
    "    # Create the Matrix\n",
    "    matrix = vectorizer.fit_transform(listofData)\n",
    "    matrix = matrix.toarray()\n",
    "    # Creating a Vector column column in df\n",
    "    tempDf[\"Vector\"] = [row.tolist() for row in matrix]\n",
    "    \n",
    "    print(tempDf['Data'][len(tempDf['Data'])-1])\n",
    "    v1 = tempDf['Vector'][len(tempDf['Data'])-1]\n",
    "    tempDf['Vector'] = tempDf['Vector'].apply(lambda x: cosine_sim(v1,x))\n",
    "    \n",
    "    end_time = time.time()\n",
    "    tempDf.drop(df.tail(1).index,inplace=True)\n",
    "    tempDf.to_csv(\"Linear Search Results//\"+query.replace(\" \",\"_\")+\".csv\")\n",
    "    \n",
    "    elapse_time.append(end_time-start_time)\n",
    "\n",
    "print(elapse_time)"
   ]
  },
  {
   "cell_type": "code",
   "execution_count": null,
   "id": "66620f83-522e-4b6b-bc75-221992cad813",
   "metadata": {},
   "outputs": [],
   "source": [
    "tempDf[tempDf['Vector'] > 0.5]"
   ]
  },
  {
   "cell_type": "code",
   "execution_count": null,
   "id": "2d8d84aa-150d-469e-b1ad-7613d2e2b1e5",
   "metadata": {},
   "outputs": [],
   "source": [
    "[10.759878635406494, 10.649078607559204, 10.477964639663696, 10.413733005523682, 10.690922498703003, 11.268934488296509, 10.590667247772217, 10.398170709609985, 10.412941455841064, 10.494908809661865]\n",
    "[243.0468626022339, 162.32361245155334, 165.2898588180542, 160.19741201400757, 160.39379787445068, 225.03185367584229, 161.4221270084381, 166.50238347053528, 249.01232147216797, 162.443368434906]"
   ]
  }
 ],
 "metadata": {
  "kernelspec": {
   "display_name": "Python 3 (ipykernel)",
   "language": "python",
   "name": "python3"
  },
  "language_info": {
   "codemirror_mode": {
    "name": "ipython",
    "version": 3
   },
   "file_extension": ".py",
   "mimetype": "text/x-python",
   "name": "python",
   "nbconvert_exporter": "python",
   "pygments_lexer": "ipython3",
   "version": "3.11.6"
  }
 },
 "nbformat": 4,
 "nbformat_minor": 5
}
