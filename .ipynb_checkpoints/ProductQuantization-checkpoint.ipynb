{
 "cells": [
  {
   "cell_type": "markdown",
   "metadata": {},
   "source": [
    "Product Quantization"
   ]
  },
  {
   "cell_type": "code",
   "execution_count": 3,
   "metadata": {},
   "outputs": [],
   "source": [
    "# Load Libraries\n",
    "\n",
    "import pandas as pd\n",
    "from sklearn.feature_extraction.text import CountVectorizer\n",
    "from sklearn.cluster import KMeans\n",
    "from sklearn.neighbors import NearestNeighbors\n",
    "from sklearn.preprocessing import normalize\n",
    "import numpy as np"
   ]
  },
  {
   "cell_type": "code",
   "execution_count": 4,
   "metadata": {},
   "outputs": [
    {
     "data": {
      "text/html": [
       "<div>\n",
       "<style scoped>\n",
       "    .dataframe tbody tr th:only-of-type {\n",
       "        vertical-align: middle;\n",
       "    }\n",
       "\n",
       "    .dataframe tbody tr th {\n",
       "        vertical-align: top;\n",
       "    }\n",
       "\n",
       "    .dataframe thead th {\n",
       "        text-align: right;\n",
       "    }\n",
       "</style>\n",
       "<table border=\"1\" class=\"dataframe\">\n",
       "  <thead>\n",
       "    <tr style=\"text-align: right;\">\n",
       "      <th></th>\n",
       "      <th>Polarity</th>\n",
       "      <th>Data</th>\n",
       "    </tr>\n",
       "  </thead>\n",
       "  <tbody>\n",
       "    <tr>\n",
       "      <th>0</th>\n",
       "      <td>4</td>\n",
       "      <td>__TiffanyAndCo Cousinnnn the return coming soon</td>\n",
       "    </tr>\n",
       "    <tr>\n",
       "      <th>1</th>\n",
       "      <td>4</td>\n",
       "      <td>at the balenciaga thinking about my friends fa...</td>\n",
       "    </tr>\n",
       "    <tr>\n",
       "      <th>2</th>\n",
       "      <td>0</td>\n",
       "      <td>TiffanyAndCo bracelet I bought in Milan in Oct...</td>\n",
       "    </tr>\n",
       "    <tr>\n",
       "      <th>3</th>\n",
       "      <td>2</td>\n",
       "      <td>QueenMoniB personifier channel_gibbs eccentric...</td>\n",
       "    </tr>\n",
       "    <tr>\n",
       "      <th>4</th>\n",
       "      <td>4</td>\n",
       "      <td>Pup_Dior_ Happy Valentines Day  You are so gor...</td>\n",
       "    </tr>\n",
       "  </tbody>\n",
       "</table>\n",
       "</div>"
      ],
      "text/plain": [
       "   Polarity                                               Data\n",
       "0         4   __TiffanyAndCo Cousinnnn the return coming soon \n",
       "1         4  at the balenciaga thinking about my friends fa...\n",
       "2         0  TiffanyAndCo bracelet I bought in Milan in Oct...\n",
       "3         2  QueenMoniB personifier channel_gibbs eccentric...\n",
       "4         4  Pup_Dior_ Happy Valentines Day  You are so gor..."
      ]
     },
     "execution_count": 4,
     "metadata": {},
     "output_type": "execute_result"
    }
   ],
   "source": [
    "# Data Exploration \n",
    "\n",
    "df = pd.read_csv('Polarity.csv')\n",
    "df.head()"
   ]
  },
  {
   "cell_type": "code",
   "execution_count": null,
   "metadata": {},
   "outputs": [],
   "source": [
    "# Data Preprocessing\n",
    "\n"
   ]
  },
  {
   "cell_type": "code",
   "execution_count": 8,
   "metadata": {},
   "outputs": [
    {
     "data": {
      "text/plain": [
       "(4300, 32167)"
      ]
     },
     "execution_count": 8,
     "metadata": {},
     "output_type": "execute_result"
    }
   ],
   "source": [
    "# Converting the text data into vectors using CountVectorizer\n",
    "vectorizer = CountVectorizer()\n",
    "X = vectorizer.fit_transform(df['Data'])\n",
    "\n",
    "# SHow the shape of the vectorized data\n",
    "X.shape"
   ]
  },
  {
   "cell_type": "code",
   "execution_count": 10,
   "metadata": {},
   "outputs": [],
   "source": [
    "# Split the matrix of numerical features into subvectors using product quantization\n",
    "n_subvectors = 4\n",
    "subvector_size = X.shape[1] // n_subvectors\n",
    "subvectors = np.array([X[:, i*subvector_size:(i+1)*subvector_size].toarray() for i in range(n_subvectors)])\n",
    "\n",
    "# Train a k-means clustering model on each subvector to obtain a codebook of subvector centroids\n",
    "n_clusters = 256\n",
    "codebooks = []\n",
    "for subvector in subvectors:\n",
    "    kmeans = KMeans(n_clusters=n_clusters, n_init=1, random_state=0).fit(subvector)\n",
    "    codebooks.append(kmeans.cluster_centers_)\n",
    "\n",
    "# Encode each subvector using the corresponding codebook to obtain a vector of subvector indices\n",
    "subvector_indices = []\n",
    "for i, subvector in enumerate(subvectors):\n",
    "    nn = NearestNeighbors(n_neighbors=1, algorithm='brute', metric='euclidean').fit(codebooks[i])\n",
    "    _, indices = nn.kneighbors(subvector)\n",
    "    subvector_indices.append(indices.flatten())\n",
    "\n"
   ]
  },
  {
   "cell_type": "code",
   "execution_count": 12,
   "metadata": {},
   "outputs": [
    {
     "data": {
      "text/plain": [
       "(4300, 4)"
      ]
     },
     "execution_count": 12,
     "metadata": {},
     "output_type": "execute_result"
    }
   ],
   "source": [
    "# Concatenate the subvector indices to obtain the final product quantization code for each document\n",
    "pq_codes = np.concatenate(subvector_indices, axis=0).reshape(-1, n_subvectors)\n",
    "pq_codes.shape"
   ]
  },
  {
   "cell_type": "code",
   "execution_count": 23,
   "metadata": {},
   "outputs": [
    {
     "data": {
      "text/plain": [
       "array([[ 61, 126,  61,  88],\n",
       "       [ 61,  88, 126,  61],\n",
       "       [ 61, 126, 253,  61],\n",
       "       ...,\n",
       "       [131,  69,  58, 172],\n",
       "       [ 69,  69,  69, 172],\n",
       "       [ 58, 212, 159, 170]])"
      ]
     },
     "execution_count": 23,
     "metadata": {},
     "output_type": "execute_result"
    }
   ],
   "source": [
    "# Normalize the product quantization codes to unit length\n",
    "pq_codes_norm = normalize(pq_codes)\n",
    "pq_codes"
   ]
  },
  {
   "cell_type": "code",
   "execution_count": 22,
   "metadata": {},
   "outputs": [
    {
     "ename": "ValueError",
     "evalue": "inconsistent shapes",
     "output_type": "error",
     "traceback": [
      "\u001b[0;31m---------------------------------------------------------------------------\u001b[0m",
      "\u001b[0;31mValueError\u001b[0m                                Traceback (most recent call last)",
      "\u001b[1;32m/Users/chris/Documents/GitHub/Data_Analytics_Project/ProductQuantization.ipynb Cell 9\u001b[0m line \u001b[0;36m1\n\u001b[1;32m     <a href='vscode-notebook-cell:/Users/chris/Documents/GitHub/Data_Analytics_Project/ProductQuantization.ipynb#X11sZmlsZQ%3D%3D?line=11'>12</a>\u001b[0m query_pq_code_norm \u001b[39m=\u001b[39m normalize(np\u001b[39m.\u001b[39mconcatenate(query_indices, axis\u001b[39m=\u001b[39m\u001b[39m0\u001b[39m)\u001b[39m.\u001b[39mreshape(\u001b[39m-\u001b[39m\u001b[39m1\u001b[39m, n_subvectors))\n\u001b[1;32m     <a href='vscode-notebook-cell:/Users/chris/Documents/GitHub/Data_Analytics_Project/ProductQuantization.ipynb#X11sZmlsZQ%3D%3D?line=13'>14</a>\u001b[0m \u001b[39m# Compute the L2 distance between the query vector and each document vector\u001b[39;00m\n\u001b[0;32m---> <a href='vscode-notebook-cell:/Users/chris/Documents/GitHub/Data_Analytics_Project/ProductQuantization.ipynb#X11sZmlsZQ%3D%3D?line=14'>15</a>\u001b[0m distances \u001b[39m=\u001b[39m np\u001b[39m.\u001b[39mlinalg\u001b[39m.\u001b[39mnorm(csr_matrix(pq_codes_norm) \u001b[39m-\u001b[39;49m csr_matrix(query_pq_code_norm), axis\u001b[39m=\u001b[39m\u001b[39m1\u001b[39m)\n",
      "File \u001b[0;32m/usr/local/lib/python3.11/site-packages/scipy/sparse/_base.py:490\u001b[0m, in \u001b[0;36mspmatrix.__sub__\u001b[0;34m(self, other)\u001b[0m\n\u001b[1;32m    488\u001b[0m \u001b[39melif\u001b[39;00m isspmatrix(other):\n\u001b[1;32m    489\u001b[0m     \u001b[39mif\u001b[39;00m other\u001b[39m.\u001b[39mshape \u001b[39m!=\u001b[39m \u001b[39mself\u001b[39m\u001b[39m.\u001b[39mshape:\n\u001b[0;32m--> 490\u001b[0m         \u001b[39mraise\u001b[39;00m \u001b[39mValueError\u001b[39;00m(\u001b[39m\"\u001b[39m\u001b[39minconsistent shapes\u001b[39m\u001b[39m\"\u001b[39m)\n\u001b[1;32m    491\u001b[0m     \u001b[39mreturn\u001b[39;00m \u001b[39mself\u001b[39m\u001b[39m.\u001b[39m_sub_sparse(other)\n\u001b[1;32m    492\u001b[0m \u001b[39melif\u001b[39;00m isdense(other):\n",
      "\u001b[0;31mValueError\u001b[0m: inconsistent shapes"
     ]
    }
   ],
   "source": [
    "# from scipy.sparse import csr_matrix\n",
    "\n",
    "# # Compute the L2 distance between the query vector and each document vector\n",
    "# query = 'some text to search for'\n",
    "# query_vec = vectorizer.transform([query])\n",
    "# query_subvectors = np.array([query_vec[:, i*subvector_size:(i+1)*subvector_size].toarray() for i in range(n_subvectors)])\n",
    "# query_indices = []\n",
    "# for i, subvector in enumerate(query_subvectors):\n",
    "#     nn = NearestNeighbors(n_neighbors=1, algorithm='brute', metric='euclidean').fit(codebooks[i])\n",
    "#     _, indices = nn.kneighbors(subvector)\n",
    "#     query_indices.append(indices.flatten())\n",
    "# query_pq_code_norm = normalize(np.concatenate(query_indices, axis=0).reshape(-1, n_subvectors))\n",
    "\n",
    "# # Compute the L2 distance between the query vector and each document vector\n",
    "# distances = np.linalg.norm(csr_matrix(pq_codes_norm) - np.tile(csr_matrix(query_pq_code_norm), (pq_codes_norm.shape[0], 1)), axis=1)\n"
   ]
  }
 ],
 "metadata": {
  "kernelspec": {
   "display_name": "Python 3",
   "language": "python",
   "name": "python3"
  },
  "language_info": {
   "codemirror_mode": {
    "name": "ipython",
    "version": 3
   },
   "file_extension": ".py",
   "mimetype": "text/x-python",
   "name": "python",
   "nbconvert_exporter": "python",
   "pygments_lexer": "ipython3",
   "version": "3.11.4"
  },
  "orig_nbformat": 4
 },
 "nbformat": 4,
 "nbformat_minor": 2
}
