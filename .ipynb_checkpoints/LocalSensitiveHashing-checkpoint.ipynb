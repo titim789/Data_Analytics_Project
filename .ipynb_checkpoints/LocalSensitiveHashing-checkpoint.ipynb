{
 "cells": [
  {
   "cell_type": "code",
   "execution_count": 1,
   "metadata": {
    "id": "LfYW-mWOCeOi"
   },
   "outputs": [],
   "source": [
    "import pandas as pd\n",
    "import time\n",
    "import random\n",
    "from nltk.corpus import stopwords\n",
    "import nltk\n",
    "from sklearn.feature_extraction.text import CountVectorizer\n",
    "import numpy as np\n",
    "import math"
   ]
  },
  {
   "cell_type": "code",
   "execution_count": 2,
   "metadata": {
    "id": "HNZm-LufF2o4"
   },
   "outputs": [],
   "source": [
    "df = pd.read_json(\"job_postings_prepped.json\")"
   ]
  },
  {
   "cell_type": "code",
   "execution_count": 3,
   "metadata": {},
   "outputs": [],
   "source": [
    "import pickle\n",
    "vectorizer = pickle.load(open('vectorizer.pkl','rb'))"
   ]
  },
  {
   "cell_type": "markdown",
   "metadata": {},
   "source": [
    "## LSH **Calculations**\n"
   ]
  },
  {
   "cell_type": "code",
   "execution_count": 6,
   "metadata": {},
   "outputs": [
    {
     "name": "stdout",
     "output_type": "stream",
     "text": [
      "Progress: 0/300\n"
     ]
    },
    {
     "name": "stderr",
     "output_type": "stream",
     "text": [
      "C:\\Users\\Admin\\AppData\\Local\\Temp\\ipykernel_4364\\4081861469.py:17: DeprecationWarning: Conversion of an array with ndim > 0 to a scalar is deprecated, and will error in future. Ensure you extract a single element from your array before performing this operation. (Deprecated NumPy 1.25.)\n",
      "  hash_functions[index] = random_vector\n"
     ]
    },
    {
     "name": "stdout",
     "output_type": "stream",
     "text": [
      "Progress: 10/300\n",
      "Progress: 20/300\n",
      "Progress: 30/300\n",
      "Progress: 40/300\n",
      "Progress: 50/300\n",
      "Progress: 60/300\n",
      "Progress: 70/300\n",
      "Progress: 80/300\n",
      "Progress: 90/300\n",
      "Progress: 100/300\n",
      "Progress: 110/300\n",
      "Progress: 120/300\n",
      "Progress: 130/300\n",
      "Progress: 140/300\n",
      "Progress: 150/300\n",
      "Progress: 160/300\n",
      "Progress: 170/300\n",
      "Progress: 180/300\n",
      "Progress: 190/300\n",
      "Progress: 200/300\n",
      "Progress: 210/300\n",
      "Progress: 220/300\n",
      "Progress: 230/300\n",
      "Progress: 240/300\n",
      "Progress: 250/300\n",
      "Progress: 260/300\n",
      "Progress: 270/300\n",
      "Progress: 280/300\n",
      "Progress: 290/300\n"
     ]
    }
   ],
   "source": [
    "import json\n",
    "\n",
    "k = 300 #TODO: find out optimal value\n",
    "vector_dimensions = len(df['Vector'][0])\n",
    "non_zero_values = len(df['Vector'][0]) #TODO: find out optimal value\n",
    "\n",
    "def generate_hash_function(k,vector_dimensions,non_zero_values):\n",
    "    hash_functions_list = []\n",
    "\n",
    "    for i in range(k):\n",
    "        if i%10 == 0: print(\"Progress:\", str(i)+\"/\"+str(k))\n",
    "        hash_functions = np.zeros(vector_dimensions)\n",
    "        selected_indexes = random.sample(range(vector_dimensions),non_zero_values)\n",
    "        \n",
    "        for index in selected_indexes:\n",
    "            random_vector = np.random.randn(1)\n",
    "            hash_functions[index] = random_vector\n",
    "\n",
    "        hash_functions_list.append(hash_functions)\n",
    "\n",
    "    return hash_functions_list\n",
    "\n",
    "random_hash_functions = generate_hash_function(k,vector_dimensions,non_zero_values)\n",
    "random_hash_functions_df = pd.DataFrame({'Hash_Functions': random_hash_functions})\n",
    "\n",
    "random_hash_functions_df.to_json('LSH Search Results/LSH 300 Random Hash Functions.json', index=False)\n"
   ]
  },
  {
   "cell_type": "code",
   "execution_count": 4,
   "metadata": {
    "colab": {
     "background_save": true
    },
    "id": "YofeI8XDNe8t",
    "outputId": "ec9b6cf4-1175-4d13-982b-b8cf03e96c50"
   },
   "outputs": [],
   "source": [
    "# import time\n",
    "\n",
    "# Perform dot product and get binary vectors\n",
    "def generate_binary_vectors(input_vector,random_hash_functions_df):\n",
    "    binary_vector = []\n",
    "    for i,row in random_hash_functions_df.iterrows():\n",
    "        input_vector = np.asarray(input_vector, dtype=np.float64)\n",
    "        hash_function = np.asarray(row['Hash_Functions'], dtype=np.float64)\n",
    "    \n",
    "        dot_product = np.dot(input_vector,hash_function)\n",
    "        # result = 0 if dot_product <= 0 else 1\n",
    "        result = np.where(dot_product <= 0, 0, 1)\n",
    "        binary_vector.append(result.tolist())\n",
    "    return binary_vector\n",
    "\n",
    "# Make a new column called Binary Vectors for all the binary vectors\n",
    "# random_hash_functions_df = pd.read_json('LSH Search Results/LSH Random Hash Functions.json')\n",
    "# df['Binary Vectors'] = df['Vector'].apply(lambda x : generate_binary_vectors(x,random_hash_functions_df))"
   ]
  },
  {
   "cell_type": "code",
   "execution_count": 56,
   "metadata": {},
   "outputs": [
    {
     "name": "stderr",
     "output_type": "stream",
     "text": [
      "C:\\Users\\Admin\\AppData\\Local\\Temp\\ipykernel_14292\\3669591667.py:17: DeprecationWarning: Conversion of an array with ndim > 0 to a scalar is deprecated, and will error in future. Ensure you extract a single element from your array before performing this operation. (Deprecated NumPy 1.25.)\n",
      "  hash_functions[index] = random_vector\n"
     ]
    },
    {
     "name": "stdout",
     "output_type": "stream",
     "text": [
      "Time Taken to generate binary vectors: 0.003000020980834961\n"
     ]
    },
    {
     "data": {
      "text/plain": [
       "[0, 1]"
      ]
     },
     "execution_count": 56,
     "metadata": {},
     "output_type": "execute_result"
    }
   ],
   "source": [
    "import json\n",
    "test_hash = pd.DataFrame({'Hash_Functions': generate_hash_function(2, 105248, 105248)})\n",
    "generate_binary_vectors(json.loads(df.iloc[0][\"Vector\"]), test_hash)\n",
    "# len(query_matrix[0])\n",
    "# json.loads(df.iloc[0][\"Vector\"])"
   ]
  },
  {
   "cell_type": "code",
   "execution_count": 23,
   "metadata": {},
   "outputs": [],
   "source": [
    "# Perform linear search on binary vector using hamming distance Dh\n",
    "def hamming_distance(query_vector,database_sample):\n",
    "  mismatched_bits = 0\n",
    "  for i in range(len(query_vector)):\n",
    "    if query_vector[i] != database_sample[i]:\n",
    "      mismatched_bits += 1\n",
    "  return mismatched_bits"
   ]
  },
  {
   "cell_type": "markdown",
   "metadata": {},
   "source": [
    "##### Find Best K Value Time from 10 to 100"
   ]
  },
  {
   "cell_type": "code",
   "execution_count": null,
   "metadata": {},
   "outputs": [],
   "source": [
    "#Calculate K Value Time Comparison\n",
    "# k_time_dict = {}\n",
    "# vector_dimensions = len(df['Vector'][0])\n",
    "# non_zero_values = len(df['Vector'][0]) #TODO: find out optimal value\n",
    "\n",
    "# for k in range(10,101,10):\n",
    "#     start = time.time()\n",
    "\n",
    "#     random_hash_functions = generate_hash_function(k,vector_dimensions,non_zero_values)\n",
    "#     binary_vectors_list = df['Vector'].apply( lambda x : one_hashing_function(x,random_hash_functions))\n",
    "\n",
    "#     end = time.time()\n",
    "#     results_time = end - start\n",
    "#     k_time_dict[k] = results_time\n",
    "#     k_df = pd.DataFrame(list(k_time_dict.items()), columns=['K Value', 'Time'])\n",
    "#     k_df.to_csv(f'LSH Search Results/K_Value_Time.csv', index=False)\n"
   ]
  },
  {
   "cell_type": "markdown",
   "metadata": {},
   "source": [
    "### Calculate binary of dataset"
   ]
  },
  {
   "cell_type": "code",
   "execution_count": 5,
   "metadata": {},
   "outputs": [
    {
     "name": "stdout",
     "output_type": "stream",
     "text": [
      "Imported  hash functions from Json file\n",
      "Index: [159, 215, 144, 31, 0, 33, 210, 299, 227, 133]\n",
      "Time Taken to generate binary vectors(k = 10): 340.71075892448425 secs\n",
      "Binary vectors successfully added, Exporting to Json...\n",
      "Index: [56, 59, 46, 43, 84, 227, 172, 5, 165, 52, 92, 213, 176, 17, 67, 77, 96, 131, 175, 110, 254, 41, 66, 290, 287, 58, 6, 219, 4, 32]\n",
      "Time Taken to generate binary vectors(k = 30): 935.3069818019867 secs\n",
      "Binary vectors successfully added, Exporting to Json...\n",
      "Index: [243, 60, 115, 254, 59, 296, 19, 299, 186, 155, 272, 257, 141, 54, 149, 266, 209, 193, 225, 221, 287, 146, 293, 196, 75, 67, 276, 175, 295, 142, 104, 22, 49, 114, 42, 203, 58, 6, 292, 55, 108, 82, 286, 217, 69, 268, 91, 48, 30, 93]\n",
      "Time Taken to generate binary vectors(k = 50): 1529.8507180213928 secs\n",
      "Binary vectors successfully added, Exporting to Json...\n",
      "Index: [8, 53, 289, 133, 226, 21, 216, 295, 268, 296, 214, 165, 218, 61, 121, 243, 62, 140, 16, 143, 183, 223, 262, 30, 55, 110, 284, 91, 89, 77, 95, 168, 98, 106, 5, 127, 265, 99, 56, 201, 23, 103, 174, 287, 87, 230, 1, 49, 124, 173, 82, 215, 172, 288, 107, 271, 11, 108, 83, 136, 160, 198, 182, 217, 207, 88, 32, 257, 2, 233]\n",
      "Time Taken to generate binary vectors(k = 70): 2128.7754426002502 secs\n",
      "Binary vectors successfully added, Exporting to Json...\n",
      "Index: [41, 33, 76, 279, 158, 144, 237, 244, 8, 19, 126, 100, 196, 93, 291, 245, 51, 247, 178, 243, 277, 96, 42, 118, 194, 36, 86, 21, 119, 107, 71, 166, 217, 269, 229, 184, 117, 115, 231, 141, 289, 282, 79, 12, 132, 241, 264, 32, 83, 124, 198, 169, 147, 159, 92, 154, 40, 105, 4, 288, 37, 67, 193, 38, 143, 252, 44, 157, 212, 220, 104, 283, 114, 258, 180, 185, 197, 227, 202, 27, 165, 224, 228, 218, 112, 275, 97, 1, 134, 215]\n",
      "Time Taken to generate binary vectors(k = 90): 2729.048449277878 secs\n",
      "Binary vectors successfully added, Exporting to Json...\n",
      "Index: [17, 219, 215, 223, 298, 290, 33, 114, 85, 183, 67, 258, 208, 122, 281, 140, 294, 182, 100, 144, 292, 204, 131, 252, 160, 59, 125, 19, 201, 37, 177, 52, 280, 171, 14, 132, 112, 12, 247, 291, 3, 203, 22, 261, 192, 293, 227, 34, 23, 241, 118, 230, 272, 87, 187, 20, 83, 58, 188, 138, 41, 133, 297, 66, 256, 88, 103, 105, 169, 172, 94, 266, 174, 86, 69, 96, 221, 245, 278, 89, 121, 1, 285, 11, 40, 198, 287, 190, 15, 71, 176, 57, 250, 189, 236, 124, 137, 55, 143, 296, 82, 156, 60, 276, 141, 54, 167, 259, 154, 148]\n",
      "Time Taken to generate binary vectors(k = 110): 3328.7621116638184 secs\n",
      "Binary vectors successfully added, Exporting to Json...\n",
      "Index: [194, 224, 222, 90, 158, 72, 293, 89, 140, 100, 28, 45, 68, 78, 274, 2, 206, 209, 242, 148, 129, 29, 298, 236, 56, 159, 81, 151, 26, 124, 123, 230, 168, 128, 92, 284, 157, 166, 121, 103, 256, 253, 235, 299, 86, 185, 50, 22, 133, 176, 277, 125, 74, 229, 126, 155, 228, 295, 30, 116, 276, 14, 55, 44, 83, 286, 127, 248, 212, 102, 184, 150, 135, 259, 297, 269, 193, 62, 202, 153, 205, 165, 82, 249, 73, 120, 271, 142, 138, 88, 6, 188, 265, 134, 266, 84, 41, 260, 52, 245, 93, 163, 111, 5, 280, 67, 220, 136, 15, 180, 213, 7, 196, 17, 48, 95, 227, 18, 240, 175, 64, 152, 31, 113, 3, 255, 10, 105, 263, 200]\n",
      "Time Taken to generate binary vectors(k = 130): 3929.8682622909546 secs\n",
      "Binary vectors successfully added, Exporting to Json...\n",
      "Index: [200, 50, 213, 59, 212, 190, 275, 48, 293, 80, 260, 151, 280, 215, 218, 270, 68, 239, 160, 49, 86, 164, 145, 88, 154, 137, 243, 129, 252, 122, 29, 55, 6, 97, 138, 39, 2, 123, 284, 53, 207, 295, 274, 269, 208, 214, 155, 32, 89, 9, 199, 286, 19, 233, 82, 156, 21, 92, 105, 147, 265, 108, 264, 296, 7, 273, 90, 42, 238, 204, 245, 14, 205, 144, 254, 298, 244, 271, 234, 91, 255, 159, 266, 165, 111, 8, 58, 112, 249, 248, 223, 173, 294, 66, 95, 100, 61, 171, 12, 203, 78, 168, 23, 206, 128, 44, 290, 229, 13, 41, 194, 26, 140, 235, 153, 70, 170, 31, 37, 192, 291, 232, 136, 149, 299, 11, 191, 27, 30, 186, 195, 104, 1, 246, 118, 211, 121, 101, 297, 185, 179, 236, 15, 81, 257, 38, 259, 225, 289, 35]\n",
      "Time Taken to generate binary vectors(k = 150): 4527.362153530121 secs\n",
      "Binary vectors successfully added, Exporting to Json...\n",
      "Index: [245, 25, 79, 187, 161, 197, 250, 205, 240, 195, 129, 214, 75, 82, 66, 119, 84, 169, 174, 39, 78, 112, 124, 57, 51, 88, 203, 157, 266, 24, 60, 61, 154, 131, 269, 190, 73, 291, 178, 93, 270, 160, 292, 247, 257, 52, 54, 22, 126, 275, 128, 246, 111, 12, 30, 207, 76, 172, 227, 192, 149, 74, 217, 244, 184, 299, 273, 232, 280, 223, 18, 55, 44, 115, 6, 237, 145, 254, 163, 0, 17, 294, 9, 81, 114, 89, 251, 239, 3, 21, 35, 225, 159, 36, 32, 13, 1, 220, 46, 140, 201, 92, 268, 11, 150, 177, 224, 121, 100, 42, 113, 105, 34, 144, 208, 165, 14, 53, 7, 233, 56, 285, 122, 238, 162, 59, 132, 106, 101, 27, 143, 277, 98, 236, 204, 116, 164, 183, 213, 80, 290, 146, 252, 230, 4, 2, 85, 108, 241, 286, 33, 198, 202, 210, 260, 8, 104, 287, 151, 175, 107, 86, 173, 284, 16, 48, 91, 37, 63, 152]\n",
      "Time Taken to generate binary vectors(k = 170): 5132.845893621445 secs\n",
      "Binary vectors successfully added, Exporting to Json...\n",
      "Index: [176, 211, 298, 121, 252, 17, 195, 57, 129, 115, 208, 142, 155, 69, 250, 46, 39, 47, 266, 40, 19, 164, 76, 114, 9, 79, 161, 24, 20, 201, 143, 220, 102, 37, 33, 27, 95, 224, 290, 2, 205, 177, 158, 124, 284, 196, 94, 275, 296, 141, 200, 242, 62, 74, 179, 64, 207, 163, 170, 276, 13, 206, 10, 175, 191, 108, 32, 292, 209, 70, 98, 41, 4, 160, 58, 293, 286, 96, 210, 233, 218, 5, 12, 287, 133, 247, 186, 244, 230, 18, 126, 215, 100, 110, 197, 43, 234, 72, 216, 297, 80, 169, 295, 152, 136, 29, 146, 42, 277, 174, 166, 50, 282, 11, 63, 235, 138, 68, 178, 78, 232, 192, 294, 16, 257, 92, 147, 229, 45, 184, 1, 15, 236, 145, 3, 77, 173, 269, 246, 272, 263, 111, 172, 199, 90, 159, 0, 189, 144, 48, 54, 84, 60, 280, 71, 279, 83, 52, 223, 198, 65, 171, 291, 66, 168, 153, 61, 262, 231, 213, 157, 88, 30, 117, 249, 214, 148, 118, 273, 225, 238, 261, 44, 271, 154, 156, 248, 278, 109, 285]\n",
      "Time Taken to generate binary vectors(k = 190): 5724.967362880707 secs\n",
      "Binary vectors successfully added, Exporting to Json...\n",
      "Index: [297, 284, 293, 82, 286, 215, 231, 203, 263, 95, 128, 153, 262, 31, 185, 139, 66, 217, 194, 160, 24, 266, 64, 47, 40, 259, 61, 145, 188, 22, 243, 256, 265, 21, 245, 219, 164, 52, 122, 36, 207, 86, 150, 23, 296, 183, 148, 26, 88, 63, 195, 270, 273, 200, 46, 288, 138, 78, 58, 99, 92, 271, 81, 121, 74, 11, 14, 199, 267, 30, 57, 201, 76, 142, 141, 260, 182, 51, 98, 115, 154, 227, 133, 55, 83, 32, 79, 167, 278, 102, 48, 44, 261, 97, 193, 39, 100, 275, 240, 232, 223, 140, 211, 184, 33, 91, 277, 236, 109, 253, 123, 257, 118, 125, 119, 28, 62, 295, 12, 213, 292, 90, 18, 230, 226, 43, 210, 19, 224, 87, 96, 250, 252, 130, 126, 151, 285, 298, 221, 247, 246, 156, 45, 10, 190, 116, 166, 282, 228, 163, 234, 68, 206, 187, 299, 110, 179, 254, 165, 7, 155, 152, 149, 0, 112, 120, 162, 202, 238, 280, 80, 177, 291, 272, 137, 269, 129, 59, 180, 274, 276, 132, 239, 71, 17, 294, 216, 229, 107, 197, 6, 94, 192, 20, 283, 8, 60, 159, 111, 255, 29, 287, 143, 258, 225, 77, 50, 49, 25, 124]\n",
      "Time Taken to generate binary vectors(k = 210): 6333.679386377335 secs\n",
      "Binary vectors successfully added, Exporting to Json...\n",
      "Index: [287, 252, 243, 84, 127, 120, 217, 25, 275, 137, 51, 2, 68, 238, 278, 151, 6, 9, 105, 215, 175, 222, 135, 118, 206, 211, 44, 0, 288, 23, 212, 196, 255, 80, 128, 179, 290, 210, 149, 37, 246, 142, 292, 110, 63, 136, 231, 79, 32, 237, 38, 5, 219, 178, 281, 270, 261, 134, 41, 236, 190, 98, 113, 170, 35, 293, 119, 58, 14, 30, 221, 191, 40, 16, 198, 257, 209, 226, 26, 173, 145, 94, 262, 123, 284, 60, 266, 122, 264, 183, 21, 171, 283, 240, 103, 86, 20, 160, 188, 117, 121, 69, 85, 104, 250, 203, 169, 8, 263, 247, 230, 280, 147, 3, 207, 239, 72, 202, 124, 141, 193, 286, 144, 49, 162, 168, 274, 216, 291, 172, 297, 129, 13, 233, 36, 295, 106, 11, 273, 185, 116, 27, 17, 31, 213, 150, 48, 158, 224, 248, 299, 174, 139, 46, 34, 4, 186, 199, 184, 276, 166, 272, 77, 56, 109, 180, 165, 187, 33, 50, 65, 214, 138, 59, 140, 254, 268, 176, 154, 220, 12, 55, 7, 260, 39, 259, 64, 232, 22, 96, 47, 73, 155, 43, 189, 192, 267, 251, 201, 57, 1, 161, 227, 97, 204, 102, 269, 258, 245, 153, 28, 265, 62, 24, 218, 143, 289, 71, 298, 167, 101, 18, 78, 76, 242, 91, 42, 83, 100, 108]\n",
      "Time Taken to generate binary vectors(k = 230): 6928.7646379470825 secs\n",
      "Binary vectors successfully added, Exporting to Json...\n",
      "Index: [36, 194, 185, 293, 245, 60, 173, 250, 297, 254, 274, 85, 291, 218, 80, 272, 150, 226, 251, 142, 269, 191, 157, 160, 125, 289, 262, 133, 122, 276, 24, 267, 156, 216, 260, 79, 43, 65, 183, 248, 2, 103, 204, 249, 223, 196, 21, 47, 268, 298, 294, 153, 234, 227, 49, 101, 12, 199, 81, 127, 110, 92, 113, 263, 27, 124, 282, 28, 66, 67, 265, 165, 246, 195, 215, 114, 278, 235, 104, 86, 5, 129, 98, 33, 18, 117, 261, 152, 155, 115, 175, 84, 184, 225, 100, 171, 239, 90, 154, 236, 52, 6, 213, 130, 257, 181, 45, 4, 210, 198, 40, 34, 82, 95, 148, 118, 35, 146, 123, 94, 151, 162, 89, 219, 136, 68, 141, 83, 158, 259, 147, 91, 252, 286, 41, 228, 78, 44, 168, 197, 106, 128, 138, 189, 8, 258, 182, 105, 140, 74, 211, 119, 167, 48, 170, 166, 121, 275, 135, 177, 15, 51, 1, 238, 25, 242, 270, 224, 233, 14, 88, 176, 179, 283, 220, 112, 159, 271, 143, 299, 22, 214, 186, 11, 295, 149, 55, 192, 292, 187, 56, 29, 17, 201, 212, 145, 281, 232, 58, 26, 209, 231, 285, 76, 273, 222, 190, 23, 253, 73, 207, 172, 87, 264, 46, 108, 169, 280, 163, 288, 77, 71, 279, 57, 296, 96, 180, 54, 61, 19, 255, 132, 217, 120, 109, 277, 16, 70, 178, 59, 97, 131, 7, 0, 93, 174, 193, 72, 205, 137]\n",
      "Time Taken to generate binary vectors(k = 250): 7533.202527761459 secs\n",
      "Binary vectors successfully added, Exporting to Json...\n",
      "Index: [144, 190, 147, 93, 297, 86, 287, 140, 103, 172, 282, 5, 169, 187, 128, 92, 235, 221, 83, 223, 111, 77, 85, 206, 158, 114, 104, 175, 227, 26, 208, 271, 108, 192, 276, 191, 199, 50, 24, 165, 269, 2, 122, 149, 203, 89, 173, 167, 160, 195, 38, 219, 226, 275, 193, 244, 117, 4, 154, 64, 67, 17, 231, 151, 143, 253, 3, 6, 243, 119, 131, 100, 272, 84, 91, 135, 255, 141, 202, 71, 180, 148, 116, 9, 7, 261, 274, 99, 281, 178, 146, 29, 201, 142, 229, 267, 88, 283, 184, 75, 120, 258, 241, 20, 37, 299, 239, 138, 54, 49, 163, 78, 277, 51, 53, 80, 60, 251, 19, 228, 11, 57, 156, 293, 66, 45, 109, 279, 292, 290, 90, 225, 113, 183, 273, 177, 294, 55, 176, 0, 72, 186, 179, 98, 247, 232, 248, 222, 76, 263, 22, 82, 105, 129, 264, 97, 27, 288, 69, 224, 1, 127, 291, 220, 256, 107, 252, 298, 200, 262, 130, 286, 211, 215, 95, 106, 121, 123, 102, 14, 23, 32, 268, 70, 259, 152, 137, 159, 194, 132, 242, 153, 218, 68, 41, 48, 237, 62, 185, 238, 110, 150, 101, 96, 74, 188, 16, 157, 245, 59, 79, 289, 162, 280, 58, 125, 171, 36, 233, 46, 25, 205, 170, 270, 145, 182, 21, 139, 40, 61, 112, 161, 15, 18, 257, 250, 33, 265, 216, 12, 10, 73, 212, 8, 295, 34, 210, 35, 63, 230, 28, 214, 136, 213, 296, 266, 278, 284, 87, 236, 189, 249, 65, 260, 217, 164, 13, 124, 52, 204]\n",
      "Time Taken to generate binary vectors(k = 270): 8222.080114841461 secs\n",
      "Binary vectors successfully added, Exporting to Json...\n",
      "Index: [27, 5, 214, 222, 224, 2, 245, 285, 191, 246, 184, 35, 210, 269, 264, 227, 177, 172, 114, 244, 225, 211, 202, 295, 121, 230, 215, 139, 44, 132, 89, 9, 148, 103, 43, 13, 175, 155, 223, 67, 135, 76, 99, 49, 152, 163, 267, 178, 26, 66, 257, 119, 56, 136, 91, 190, 187, 75, 188, 259, 131, 143, 78, 123, 120, 176, 255, 294, 22, 149, 162, 29, 166, 54, 32, 156, 287, 109, 278, 85, 69, 256, 238, 73, 265, 234, 141, 241, 198, 142, 286, 52, 107, 77, 129, 251, 127, 186, 57, 212, 96, 167, 101, 146, 102, 170, 45, 272, 83, 203, 160, 242, 95, 154, 159, 137, 209, 104, 100, 30, 0, 68, 217, 1, 266, 15, 282, 165, 23, 125, 206, 50, 71, 122, 168, 270, 144, 213, 25, 196, 158, 62, 235, 118, 20, 237, 128, 293, 60, 233, 40, 218, 173, 105, 37, 124, 151, 220, 231, 110, 181, 8, 117, 31, 24, 94, 72, 47, 111, 157, 185, 90, 33, 252, 61, 84, 219, 290, 88, 277, 221, 254, 130, 11, 80, 74, 268, 289, 36, 194, 4, 97, 34, 279, 115, 283, 28, 82, 204, 299, 64, 195, 19, 297, 161, 182, 70, 273, 106, 281, 7, 63, 134, 79, 39, 150, 10, 53, 298, 171, 262, 46, 108, 174, 58, 296, 280, 147, 98, 236, 200, 260, 288, 145, 248, 140, 133, 3, 48, 164, 179, 291, 65, 253, 113, 169, 271, 232, 243, 263, 284, 138, 189, 41, 51, 14, 275, 6, 199, 21, 192, 93, 207, 87, 258, 180, 81, 38, 247, 16, 292, 59, 112, 42, 250, 201, 249, 183, 17, 116, 239, 92, 274, 226, 229, 193, 197, 228, 216, 18]\n",
      "Time Taken to generate binary vectors(k = 290): 8821.674087047577 secs\n",
      "Binary vectors successfully added, Exporting to Json...\n"
     ]
    }
   ],
   "source": [
    "import time\n",
    "import json\n",
    "\n",
    "# Import Hash functions *\n",
    "random_hash_functions_df = pd.read_json('LSH Search Results/LSH 300 Random Hash Functions.json')\n",
    "print(\"Imported  hash functions from Json file\")\n",
    "# df['Vector'] = df['Vector'].apply(lambda x : json.loads(x))\n",
    "\n",
    "for i in range(10,300,20):\n",
    "    start_time = time.time()\n",
    "    i_size_random_hash_functions = random_hash_functions_df.sample(i)\n",
    "    print(\"Index:\",list(i_size_random_hash_functions.index))\n",
    "    # # Do LSH Calculations for dataset *\n",
    "    df['Binary Vectors'] = df['Vector'].apply( lambda x : generate_binary_vectors(x,i_size_random_hash_functions))\n",
    "    end_time = time.time()\n",
    "    print(\"Time Taken to generate binary vectors(k =\",str(i)+\"):\", end_time-start_time, \"secs\")\n",
    "    print(\"Binary vectors successfully added, Exporting to Json...\")\n",
    "    df.to_csv('LSH Search Results/LSH Database with Binary Vectors (k is '+str(i)+').csv')"
   ]
  },
  {
   "cell_type": "markdown",
   "metadata": {},
   "source": [
    "## Calculate 10 different queries accuracies"
   ]
  },
  {
   "cell_type": "code",
   "execution_count": 6,
   "metadata": {},
   "outputs": [
    {
     "name": "stdout",
     "output_type": "stream",
     "text": [
      "Time Taken to generate binary vectors: 0.18794512748718262\n",
      "Time Taken to generate binary vectors: 0.1875159740447998\n",
      "Time Taken to generate binary vectors: 0.18975400924682617\n",
      "Time Taken to generate binary vectors: 0.18224525451660156\n",
      "Time Taken to generate binary vectors: 0.17214012145996094\n",
      "Time Taken to generate binary vectors: 0.20138168334960938\n",
      "Time Taken to generate binary vectors: 0.180006742477417\n",
      "Time Taken to generate binary vectors: 0.1985175609588623\n",
      "Time Taken to generate binary vectors: 0.19063329696655273\n",
      "Time Taken to generate binary vectors: 0.19053316116333008\n"
     ]
    }
   ],
   "source": [
    "# Calculate 10 different queries accuracies\n",
    "import os\n",
    "\n",
    "# Defining queries\n",
    "query_dict = {'Q1': \"resilient investment banker\", \n",
    "              'Q2': \"2 years experience product manager\", \n",
    "              'Q3': \"10 years risk analyst problem solver\", \n",
    "              'Q4': \"tax analyst for big company\", \n",
    "              'Q5': \"software engineer for google or amazon\", \n",
    "              'Q6': \"video editor for advertisements with 5 year experience\",\n",
    "              'Q7': \"full time senior head nurse position\",\n",
    "              'Q8': \"after school math and science tutor\",\n",
    "              'Q9': \"dietitian for professional atheletes\",\n",
    "              'Q10': \"costume designer and makeup artist\"}\n",
    "\n",
    "query_df = pd.DataFrame.from_dict(query_dict, orient='index', columns=['Query Text'])\n",
    "\n",
    "# Using the imported count vectorizer to generate counter vector of queries (N)\n",
    "query_vectors = vectorizer.transform(list(query_dict.values()))\n",
    "query_matrix = query_vectors.toarray()\n",
    "\n",
    "# Import Hash functions *\n",
    "random_hash_functions_df = pd.read_json('LSH Search Results/LSH Random Hash Functions.json')\n",
    "\n",
    "# Do LSH Calculations for query vectors *\n",
    "query_dict_binary_vectors = [generate_binary_vectors(vector, random_hash_functions_df) for vector in query_matrix]\n",
    "\n",
    "query_df['Vectors'] = [row.tolist() for row in query_matrix]\n",
    "query_df['Binary Vectors'] = query_dict_binary_vectors\n",
    "\n",
    "query_df.to_csv('LSH Search Results/LSH Query Vectors with Binary Vectors.csv')"
   ]
  },
  {
   "cell_type": "code",
   "execution_count": null,
   "metadata": {},
   "outputs": [],
   "source": [
    "# Calculate 10 different queries accuracies\n",
    "import os\n",
    "\n",
    "# Defining queries\n",
    "query_dict = {'Q1': \"resilient investment banker\", \n",
    "              'Q2': \"2 years experience product manager\", \n",
    "              'Q3': \"10 years risk analyst problem solver\", \n",
    "              'Q4': \"tax analyst for big company\", \n",
    "              'Q5': \"software engineer for google or amazon\", \n",
    "              'Q6': \"video editor for advertisements with 5 year experience\",\n",
    "              'Q7': \"full time senior head nurse position\",\n",
    "              'Q8': \"after school math and science tutor\",\n",
    "              'Q9': \"dietitian for professional atheletes\",\n",
    "              'Q10': \"costume designer and makeup artist\"}\n",
    "\n",
    "query_df = pd.DataFrame.from_dict(query_dict, orient='index', columns=['Query Text'])\n",
    "\n",
    "# Combine the data from the DataFrame and query_dict into a single list\n",
    "# all_data = list(df[\"Data\"].array) + list(query_dict.values())\n",
    "\n",
    "# vectorizer = CountVectorizer()\n",
    "# matrix = vectorizer.fit_transform(list(query_dict.values()))\n",
    "# matrix = matrix.toarray()\n",
    "\n",
    "# Using the imported count vectorizer to generate counter vector of queries (N)\n",
    "query_vectors = vectorizer.transform(list(query_dict.values()))\n",
    "query_matrix = query_vectors.toarray()\n",
    "\n",
    "# Separate the vectors for the DataFrame and query_dict *\n",
    "# df_vectors = matrix[:len(df)]\n",
    "# query_dict_vectors = matrix[len(df):]\n",
    "\n",
    "# df[\"Vector\"] = [row.tolist() for row in df_vectors]\n",
    "\n",
    "# Variables for LSH #TODO: EDIT THIS FOR ACCURACY *\n",
    "k = 100\n",
    "vector_dimensions = len(df['Vector'][0])\n",
    "non_zero_values = len(df['Vector'][0])\n",
    "\n",
    "# Generate Random Hash Functions\n",
    "# random_hash_functions = generate_hash_function(k,vector_dimensions,non_zero_values)\n",
    "# random_hash_functions.to_csv('LSH Search Results/LSH Random Hash Functions.csv')\n",
    "\n",
    "# Import Hash functions *\n",
    "random_hash_functions_df = pd.read_json('LSH Search Results/LSH Random Hash Functions.json')\n",
    "\n",
    "# # Do LSH Calculations for database *\n",
    "# df['Binary Vectors'] = df['Vector'].apply( lambda x : generate_binary_vectors(x,random_hash_functions_df))\n",
    "# df.to_csv('LSH Search Results/LSH Database with Binary Vectors.csv')\n",
    "\n",
    "# Do LSH Calculations for query vectors *\n",
    "query_dict_binary_vectors = [generate_binary_vectors(vector, random_hash_functions_df) for vector in query_matrix]\n",
    "\n",
    "query_df['Vectors'] = [row.tolist() for row in query_matrix]\n",
    "query_df['Binary Vectors'] = query_dict_binary_vectors\n",
    "\n",
    "query_df.to_csv('LSH Search Results/LSH Query Vectors with Binary Vectors.csv')"
   ]
  },
  {
   "cell_type": "code",
   "execution_count": 7,
   "metadata": {},
   "outputs": [],
   "source": [
    "import json\n",
    "\n",
    "query_df = pd.read_csv('LSH Search Results/LSH Query Vectors with Binary Vectors.csv')\n",
    "df = pd.read_csv('LSH Search Results/LSH Database with Binary Vectors.csv')\n",
    "\n",
    "query_df['Binary Vectors'] = query_df['Binary Vectors'].apply(lambda x : json.loads(x))\n",
    "df['Binary Vectors'] = df['Binary Vectors'].apply(lambda x : json.loads(x))"
   ]
  },
  {
   "cell_type": "code",
   "execution_count": 21,
   "metadata": {},
   "outputs": [
    {
     "data": {
      "text/html": [
       "<div>\n",
       "<style scoped>\n",
       "    .dataframe tbody tr th:only-of-type {\n",
       "        vertical-align: middle;\n",
       "    }\n",
       "\n",
       "    .dataframe tbody tr th {\n",
       "        vertical-align: top;\n",
       "    }\n",
       "\n",
       "    .dataframe thead th {\n",
       "        text-align: right;\n",
       "    }\n",
       "</style>\n",
       "<table border=\"1\" class=\"dataframe\">\n",
       "  <thead>\n",
       "    <tr style=\"text-align: right;\">\n",
       "      <th></th>\n",
       "      <th>Unnamed: 0</th>\n",
       "      <th>Query Text</th>\n",
       "      <th>Vectors</th>\n",
       "      <th>Binary Vectors</th>\n",
       "    </tr>\n",
       "  </thead>\n",
       "  <tbody>\n",
       "    <tr>\n",
       "      <th>0</th>\n",
       "      <td>Q1</td>\n",
       "      <td>resilient investment banker</td>\n",
       "      <td>[0, 0, 0, 0, 0, 0, 0, 0, 0, 0, 0, 0, 0, 0, 0, ...</td>\n",
       "      <td>[0, 0, 0, 1, 1, 1, 0, 0, 1, 0, 0, 0, 0, 0, 1, ...</td>\n",
       "    </tr>\n",
       "    <tr>\n",
       "      <th>1</th>\n",
       "      <td>Q2</td>\n",
       "      <td>2 years experience product manager</td>\n",
       "      <td>[0, 0, 0, 0, 0, 0, 0, 0, 0, 0, 0, 0, 0, 0, 0, ...</td>\n",
       "      <td>[0, 0, 0, 0, 0, 1, 0, 0, 0, 0, 1, 1, 0, 1, 0, ...</td>\n",
       "    </tr>\n",
       "    <tr>\n",
       "      <th>2</th>\n",
       "      <td>Q3</td>\n",
       "      <td>10 years risk analyst problem solver</td>\n",
       "      <td>[0, 0, 0, 0, 0, 0, 0, 0, 0, 0, 0, 0, 0, 0, 0, ...</td>\n",
       "      <td>[0, 1, 0, 1, 0, 1, 0, 0, 0, 0, 1, 0, 0, 1, 0, ...</td>\n",
       "    </tr>\n",
       "    <tr>\n",
       "      <th>3</th>\n",
       "      <td>Q4</td>\n",
       "      <td>tax analyst for big company</td>\n",
       "      <td>[0, 0, 0, 0, 0, 0, 0, 0, 0, 0, 0, 0, 0, 0, 0, ...</td>\n",
       "      <td>[1, 1, 1, 1, 0, 1, 1, 0, 1, 0, 1, 0, 0, 0, 0, ...</td>\n",
       "    </tr>\n",
       "    <tr>\n",
       "      <th>4</th>\n",
       "      <td>Q5</td>\n",
       "      <td>software engineer for google or amazon</td>\n",
       "      <td>[0, 0, 0, 0, 0, 0, 0, 0, 0, 0, 0, 0, 0, 0, 0, ...</td>\n",
       "      <td>[1, 1, 1, 1, 1, 0, 0, 0, 0, 1, 0, 0, 0, 1, 1, ...</td>\n",
       "    </tr>\n",
       "  </tbody>\n",
       "</table>\n",
       "</div>"
      ],
      "text/plain": [
       "  Unnamed: 0                              Query Text  \\\n",
       "0         Q1             resilient investment banker   \n",
       "1         Q2      2 years experience product manager   \n",
       "2         Q3    10 years risk analyst problem solver   \n",
       "3         Q4             tax analyst for big company   \n",
       "4         Q5  software engineer for google or amazon   \n",
       "\n",
       "                                             Vectors  \\\n",
       "0  [0, 0, 0, 0, 0, 0, 0, 0, 0, 0, 0, 0, 0, 0, 0, ...   \n",
       "1  [0, 0, 0, 0, 0, 0, 0, 0, 0, 0, 0, 0, 0, 0, 0, ...   \n",
       "2  [0, 0, 0, 0, 0, 0, 0, 0, 0, 0, 0, 0, 0, 0, 0, ...   \n",
       "3  [0, 0, 0, 0, 0, 0, 0, 0, 0, 0, 0, 0, 0, 0, 0, ...   \n",
       "4  [0, 0, 0, 0, 0, 0, 0, 0, 0, 0, 0, 0, 0, 0, 0, ...   \n",
       "\n",
       "                                      Binary Vectors  \n",
       "0  [0, 0, 0, 1, 1, 1, 0, 0, 1, 0, 0, 0, 0, 0, 1, ...  \n",
       "1  [0, 0, 0, 0, 0, 1, 0, 0, 0, 0, 1, 1, 0, 1, 0, ...  \n",
       "2  [0, 1, 0, 1, 0, 1, 0, 0, 0, 0, 1, 0, 0, 1, 0, ...  \n",
       "3  [1, 1, 1, 1, 0, 1, 1, 0, 1, 0, 1, 0, 0, 0, 0, ...  \n",
       "4  [1, 1, 1, 1, 1, 0, 0, 0, 0, 1, 0, 0, 0, 1, 1, ...  "
      ]
     },
     "execution_count": 21,
     "metadata": {},
     "output_type": "execute_result"
    }
   ],
   "source": [
    "query_df.head()"
   ]
  },
  {
   "cell_type": "code",
   "execution_count": 25,
   "metadata": {},
   "outputs": [
    {
     "name": "stdout",
     "output_type": "stream",
     "text": [
      "Duration taken to calculate hamming distance of '0' with dataset: 0.29659366607666016\n",
      "Duration taken to calculate hamming distance of '1' with dataset: 0.30701422691345215\n",
      "Duration taken to calculate hamming distance of '2' with dataset: 0.30878257751464844\n",
      "Duration taken to calculate hamming distance of '3' with dataset: 0.30289363861083984\n",
      "Duration taken to calculate hamming distance of '4' with dataset: 0.3064234256744385\n",
      "Duration taken to calculate hamming distance of '5' with dataset: 0.29548072814941406\n",
      "Duration taken to calculate hamming distance of '6' with dataset: 0.30573081970214844\n",
      "Duration taken to calculate hamming distance of '7' with dataset: 0.2996821403503418\n",
      "Duration taken to calculate hamming distance of '8' with dataset: 0.31114745140075684\n",
      "Duration taken to calculate hamming distance of '9' with dataset: 0.3057389259338379\n"
     ]
    }
   ],
   "source": [
    "import time\n",
    "\n",
    "# Specify the folder path\n",
    "folder_path = 'LSH Search Results'\n",
    "\n",
    "# Define the Excel file path\n",
    "excel_file_path = os.path.join(folder_path, 'LSH_Search_Results.xlsx')\n",
    "\n",
    "with pd.ExcelWriter(excel_file_path, engine='xlsxwriter') as writer:     \n",
    "    \n",
    "    for query_name,query_row in query_df.iterrows():\n",
    "\n",
    "        mismatched_list = []\n",
    "\n",
    "        start_time = time.time()\n",
    "        for i, row in df.iterrows():\n",
    "            mismatched_list.append(hamming_distance(query_row['Binary Vectors'],row['Binary Vectors'])) \n",
    "        end_time = time.time()\n",
    "        print(\"Duration taken to calculate hamming distance of '\"+ str(query_name) +\"' with dataset:\", end_time-start_time)\n",
    "        \n",
    "        df['Distance'] = mismatched_list\n",
    "\n",
    "        # Get only data and distance from query_name\n",
    "        query_result_df = df[['Data', 'Distance']].copy()\n",
    "\n",
    "        # Get the top 50 results based on the 'Distance' column\n",
    "        # query_result_top = query_result_df.nsmallest(50, 'Distance') \n",
    "    \n",
    "        # Loop through each unique query and create separate sheets\n",
    "        query_result_df.to_excel(writer, sheet_name=f'Results_{query_name}', index=False)"
   ]
  },
  {
   "cell_type": "code",
   "execution_count": null,
   "metadata": {},
   "outputs": [],
   "source": []
  }
 ],
 "metadata": {
  "colab": {
   "provenance": []
  },
  "kernelspec": {
   "display_name": "Python 3 (ipykernel)",
   "language": "python",
   "name": "python3"
  },
  "language_info": {
   "codemirror_mode": {
    "name": "ipython",
    "version": 3
   },
   "file_extension": ".py",
   "mimetype": "text/x-python",
   "name": "python",
   "nbconvert_exporter": "python",
   "pygments_lexer": "ipython3",
   "version": "3.11.6"
  }
 },
 "nbformat": 4,
 "nbformat_minor": 4
}
