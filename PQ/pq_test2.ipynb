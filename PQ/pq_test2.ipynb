{
 "cells": [
  {
   "cell_type": "markdown",
   "metadata": {},
   "source": [
    "# Product Quantization"
   ]
  },
  {
   "cell_type": "code",
   "execution_count": 109,
   "metadata": {},
   "outputs": [],
   "source": [
    "import pandas as pd"
   ]
  },
  {
   "cell_type": "code",
   "execution_count": 110,
   "metadata": {},
   "outputs": [
    {
     "data": {
      "text/html": [
       "<div>\n",
       "<style scoped>\n",
       "    .dataframe tbody tr th:only-of-type {\n",
       "        vertical-align: middle;\n",
       "    }\n",
       "\n",
       "    .dataframe tbody tr th {\n",
       "        vertical-align: top;\n",
       "    }\n",
       "\n",
       "    .dataframe thead th {\n",
       "        text-align: right;\n",
       "    }\n",
       "</style>\n",
       "<table border=\"1\" class=\"dataframe\">\n",
       "  <thead>\n",
       "    <tr style=\"text-align: right;\">\n",
       "      <th></th>\n",
       "      <th>Polarity</th>\n",
       "      <th>Data</th>\n",
       "    </tr>\n",
       "  </thead>\n",
       "  <tbody>\n",
       "    <tr>\n",
       "      <th>0</th>\n",
       "      <td>4</td>\n",
       "      <td>__TiffanyAndCo Cousinnnn the return coming soon</td>\n",
       "    </tr>\n",
       "    <tr>\n",
       "      <th>1</th>\n",
       "      <td>4</td>\n",
       "      <td>at the balenciaga thinking about my friends fa...</td>\n",
       "    </tr>\n",
       "    <tr>\n",
       "      <th>2</th>\n",
       "      <td>0</td>\n",
       "      <td>TiffanyAndCo bracelet I bought in Milan in Oct...</td>\n",
       "    </tr>\n",
       "    <tr>\n",
       "      <th>3</th>\n",
       "      <td>2</td>\n",
       "      <td>QueenMoniB personifier channel_gibbs eccentric...</td>\n",
       "    </tr>\n",
       "    <tr>\n",
       "      <th>4</th>\n",
       "      <td>4</td>\n",
       "      <td>Pup_Dior_ Happy Valentines Day  You are so gor...</td>\n",
       "    </tr>\n",
       "  </tbody>\n",
       "</table>\n",
       "</div>"
      ],
      "text/plain": [
       "   Polarity                                               Data\n",
       "0         4   __TiffanyAndCo Cousinnnn the return coming soon \n",
       "1         4  at the balenciaga thinking about my friends fa...\n",
       "2         0  TiffanyAndCo bracelet I bought in Milan in Oct...\n",
       "3         2  QueenMoniB personifier channel_gibbs eccentric...\n",
       "4         4  Pup_Dior_ Happy Valentines Day  You are so gor..."
      ]
     },
     "execution_count": 110,
     "metadata": {},
     "output_type": "execute_result"
    }
   ],
   "source": [
    "# Data exploration\n",
    "\n",
    "# Load data\n",
    "df = pd.read_excel(\"Polarity.xlsx\")\n",
    "df.head()"
   ]
  },
  {
   "cell_type": "markdown",
   "metadata": {},
   "source": [
    "## Data Preprocessing"
   ]
  },
  {
   "cell_type": "code",
   "execution_count": 111,
   "metadata": {},
   "outputs": [
    {
     "name": "stderr",
     "output_type": "stream",
     "text": [
      "[nltk_data] Downloading package stopwords to /Users/chris/nltk_data...\n",
      "[nltk_data]   Package stopwords is already up-to-date!\n"
     ]
    }
   ],
   "source": [
    "# Import Libraries for Data Processing\n",
    "# Stopwords removal\n",
    "from nltk.corpus import stopwords\n",
    "import nltk\n",
    "nltk.download('stopwords')\n",
    "\n",
    "# Tokenization\n",
    "from nltk.tokenize import word_tokenize\n",
    "\n",
    "# Vectorization\n",
    "from sklearn.feature_extraction.text import CountVectorizer"
   ]
  },
  {
   "cell_type": "code",
   "execution_count": 112,
   "metadata": {},
   "outputs": [
    {
     "data": {
      "text/html": [
       "<div>\n",
       "<style scoped>\n",
       "    .dataframe tbody tr th:only-of-type {\n",
       "        vertical-align: middle;\n",
       "    }\n",
       "\n",
       "    .dataframe tbody tr th {\n",
       "        vertical-align: top;\n",
       "    }\n",
       "\n",
       "    .dataframe thead th {\n",
       "        text-align: right;\n",
       "    }\n",
       "</style>\n",
       "<table border=\"1\" class=\"dataframe\">\n",
       "  <thead>\n",
       "    <tr style=\"text-align: right;\">\n",
       "      <th></th>\n",
       "      <th>Polarity</th>\n",
       "      <th>Data</th>\n",
       "      <th>Cleaned_Data</th>\n",
       "    </tr>\n",
       "  </thead>\n",
       "  <tbody>\n",
       "    <tr>\n",
       "      <th>0</th>\n",
       "      <td>4</td>\n",
       "      <td>__TiffanyAndCo Cousinnnn the return coming soon</td>\n",
       "      <td>__TiffanyAndCo Cousinnnn return coming soon</td>\n",
       "    </tr>\n",
       "    <tr>\n",
       "      <th>1</th>\n",
       "      <td>4</td>\n",
       "      <td>at the balenciaga thinking about my friends fa...</td>\n",
       "      <td>balenciaga thinking friends family guy good ti...</td>\n",
       "    </tr>\n",
       "    <tr>\n",
       "      <th>2</th>\n",
       "      <td>0</td>\n",
       "      <td>TiffanyAndCo bracelet I bought in Milan in Oct...</td>\n",
       "      <td>TiffanyAndCo bracelet I bought Milan Oct sent ...</td>\n",
       "    </tr>\n",
       "    <tr>\n",
       "      <th>3</th>\n",
       "      <td>2</td>\n",
       "      <td>QueenMoniB personifier channel_gibbs eccentric...</td>\n",
       "      <td>QueenMoniB personifier channel_gibbs eccentric...</td>\n",
       "    </tr>\n",
       "    <tr>\n",
       "      <th>4</th>\n",
       "      <td>4</td>\n",
       "      <td>Pup_Dior_ Happy Valentines Day  You are so gor...</td>\n",
       "      <td>Pup_Dior_ Happy Valentines Day You gorgeous</td>\n",
       "    </tr>\n",
       "  </tbody>\n",
       "</table>\n",
       "</div>"
      ],
      "text/plain": [
       "   Polarity                                               Data  \\\n",
       "0         4   __TiffanyAndCo Cousinnnn the return coming soon    \n",
       "1         4  at the balenciaga thinking about my friends fa...   \n",
       "2         0  TiffanyAndCo bracelet I bought in Milan in Oct...   \n",
       "3         2  QueenMoniB personifier channel_gibbs eccentric...   \n",
       "4         4  Pup_Dior_ Happy Valentines Day  You are so gor...   \n",
       "\n",
       "                                        Cleaned_Data  \n",
       "0        __TiffanyAndCo Cousinnnn return coming soon  \n",
       "1  balenciaga thinking friends family guy good ti...  \n",
       "2  TiffanyAndCo bracelet I bought Milan Oct sent ...  \n",
       "3  QueenMoniB personifier channel_gibbs eccentric...  \n",
       "4        Pup_Dior_ Happy Valentines Day You gorgeous  "
      ]
     },
     "execution_count": 112,
     "metadata": {},
     "output_type": "execute_result"
    }
   ],
   "source": [
    "stop_words = stopwords.words('english')\n",
    "stop_words.append('nan')\n",
    "stop_words.append('removed')\n",
    "stop_words.remove('not')\n",
    "stop_words.remove('no')\n",
    "stop_words[:10]\n",
    "\n",
    "df['Cleaned_Data'] = df['Data'].apply(lambda x: ' '.join([word for word in x.split() if word not in (stop_words)]))\n",
    "df.head()"
   ]
  },
  {
   "cell_type": "code",
   "execution_count": 113,
   "metadata": {},
   "outputs": [
    {
     "name": "stdout",
     "output_type": "stream",
     "text": [
      "Tokenizing\n",
      "Tokenization done\n",
      "0    [__TiffanyAndCo, Cousinnnn, return, coming, soon]\n",
      "1    [balenciaga, thinking, friends, family, guy, g...\n",
      "2    [TiffanyAndCo, bracelet, I, bought, Milan, Oct...\n",
      "3    [QueenMoniB, personifier, channel_gibbs, eccen...\n",
      "4    [Pup_Dior_, Happy, Valentines, Day, You, gorge...\n",
      "Name: Cleaned_Data, dtype: object\n",
      "Largest token:  ['Kei_xD_', 'AM', 'Loyzaga_xD_', 'AA_xD_', 'AALIYAHANN_xD_', 'Abbie', 'Pura_xD_', 'Abby', 'Asi_xD_', 'Abby', 'Bordeos_xD_', 'Abby', 'Buza_xD_', 'Abby', 'Madriaga_xD_', 'ABC', 'VIII_xD_', 'Abegail', 'Alexandra', 'Zape_xD_', 'Abey', 'Dg_xD_', 'Abi', 'Asi_xD_', 'Abi', 'Kassem_xD_', 'Abi', 'Paet_xD_', 'Abigael', 'Audrey', 'Antonio_xD_', 'Abigail', 'B_xD_', 'Abigail', 'Balinas_xD_', 'Abigail', 'Christine', 'Tolomia_xD_', 'Abigail', 'Dado_xD_', 'Abilla', 'Pauline_xD_', 'Abizeyp_xD_', 'Abrielle', 'Gonzalvo_xD_', 'Abygail', 'Dado_xD_', 'Acel', 'Fuentes_xD_', 'Acent', 'Pearl', 'Morada_xD_', 'AD_xD_', 'Addison_xD_', 'Ade', 'Babiera_xD_', 'Aeriel', 'Anne', 'Garcia_xD_', 'AG_xD_', 'Agandaaax_xD_', 'Agot', 'Limbo_xD_', 'Ahram', 'Jeong_xD_', 'Ahby_xD_', 'AIANE', 'GRAMATICA_xD_', 'Aika_xD_', 'Aika', 'Almonte_xD_', 'Aiko', 'Chan_xD_', 'Aiko', 'Serrano_xD_', 'Aila', 'Isavelle', 'Atienza_xD_', 'Aileen', 'Serilla_xD_', 'Aileene', 'Angeles', 'Serilla_xD_', 'aimeenyan_xD_', 'Ainsly', 'Meneses_xD_', 'Aira', 'Campo_xD_', 'Aira', 'Moreno_xD_', 'Aira', 'Nicole', 'Bartido_xD_', 'Aira', 'Soriano_xD_', 'Airah', 'Lyn', 'Arroyo_xD_', 'Airen_xD_', 'Aiza', 'Ledesma_xD_', 'AJ_xD_', 'Ajna', 'Mari', 'Ysabel', 'Domingo_xD_', 'Alay', 'Paz_xD_', 'Alecx', 'Aguilar_xD_', 'Alekzandra', 'De', 'Leon_xD_', 'Alena', 'Toyo_xD_', 'ALEX_xD_', 'Alex', 'Lacsa_xD_', 'Alex', 'Tinio_xD_', 'Alexa', 'Asahina_xD_', 'Alexa', 'Marie', 'Calalang', 'Lopez_xD_', 'Alexa', 'Miro_xD_', 'Alexandra', 'Ashley', 'Pelayo_xD_', 'Alexandra', 'Cadayona_xD_', 'Alexandra', 'Gomez_xD_', 'Alexandra', 'saavedra_xD_', 'Alexandra', 'San', 'Diego_xD_', 'Alexandra', 'Tinio_xD_', 'Alexandria', 'Sharylle_xD_', 'Alexia', 'Camsty_xD_', 'Alexis', 'Clavel_xD_', 'Alexis', 'Corbi_xD_', 'Alexis', 'Gapuzan_xD_', 'Alexis', 'Marquez_xD_', 'Alexis', 'Paula', 'Martinez_xD_', 'Alexis', 'vivienn_xD_', 'Alezzandra', 'Khyra', 'Concepcion_xD_', 'ALFA', 'CONSTANTINO_xD_', 'ali', 'naomi_xD_', 'Alia', 'Tejero', 'Tagura_xD_', 'Alic', 'Lapina_xD_', 'ALICE', 'IN', 'WONDERLAND_xD_', 'Alicia', 'Lizardo_xD_', 'Alicia', 'Sarmiento_xD_', 'Alina', 'Paola_xD_', 'aling', 'marites_xD_', 'Alisha_xD_', 'Alita', 'Anlei', 'Tupaz_xD_', 'aliyah_xD_', 'aliyah', 'keith', 'oblena_xD_', 'Aliyah', 'Mendoza_xD_', 'aljur_xD_', 'ALLAHU', 'AKBAR_xD_', 'Allana', 'Clemente_xD_', 'Alliah', 'Christina', 'Dagus_xD_', 'ALLIAH', 'KEITH', 'OBLENA_xD_', 'Alliana', 'Shane_xD_', 'Allijah', 'Charlize_xD_', 'Allison', 'Mendiola_xD_', 'Ally_xD_', 'Ally', 'Romano_xD_', 'Allyssa', 'Yumi_xD_', 'Allyssa', 'Yumi', 'Lauro_xD_', 'Almira', 'Yabut_xD_', 'alota_xD_', 'ALTER', 'Cassie_xD_', 'ALTER', 'Chloe_xD_', 'ALTER', '_Chen_xD_', 'Alter', 'Akifuckkk_xD_', 'ALTER', 'Alice_xD_', 'Alter', 'Amber_xD_', 'Alter', 'Angela_xD_', 'Alter', 'Anne_xD_', 'Alter', 'arie_xD_', 'ALTER', 'ASHI_xD_', 'ALTER', 'ASUPANVIRA_xD_', 'Alter', 'Azumii_xD_', 'ALTER', 'Babylynch_xD_', 'Alter', 'Bella', 'Park_xD_', 'Alter', 'Chantal_xD_', 'ALTER', 'Cherry_miyazakiXRhada_xD_', 'ALTER', 'ChickenxSpag_xD_', 'ALTER', 'Cloudddcreammmm_xD_', 'Alter', 'codeo_xD_', 'ALTER', 'Crystaldxd_xD_', 'ALTER', 'cuddlesndmilk_xD_', 'Alter', 'Dane_xD_', 'Alter', 'Eishi_xD_', 'ALTER', 'EMPRESS_xD_', 'ALTER', 'EVE_xD_', 'ALTER', 'Eys_xD_', 'ALTER', 'GEISHA_xD_', 'Alter', 'Hera_xD_', 'ALTER', 'HOERANGE_xD_', 'Alter', 'HoneyGlossedLips_xD_', 'ALTER', 'ishi_babyy_xD_', 'Alter', 'issei_xD_', 'Alter', 'JYE_xD_', 'Alter', 'Jea_xD_', 'Alter', 'jenny_xD_', 'Alter', 'Kaori_xD_', 'Alter', 'Keira', 'Lim_xD_', 'ALTER', 'KenkieBella_xD_', 'Alter', 'KNP_xD_', 'alter', 'Ksell_xD_', 'Alter', 'LilithAstrid_xD_', 'ALTER', 'lorraine_sexxy_xD_', 'Alter', 'Marie', 'Amy_xD_', 'Alter', 'Maxxy_xD_', 'Alter', 'Notsocreampie_xD_', 'ALTER', 'PETITE', 'JULIETA_xD_', 'ALTER', 'Petite_Julieta_xD_', 'alter', 'pinipig_xD_', 'alter', 'Precious_xD_', 'ALTER', 'Pussycath_xD_', 'ALTER', 'Riaza_xD_', 'ALTER', 'riazaxsy_xD_', 'Alter', 'Sarapkobehh_xD_', 'Alter', 'Shaira_xD_', 'alter', 'sheesh_xD_', 'ALTER', 'SHOMAYYY_xD_', 'ALTER', 'SIMPFORSAMARA_xD_', 'Alter', 'SinforLilith_xD_', 'ALTER', 'SNFLWR_xD_', 'Alter', 'Solana_xD_', 'ALTER', 'Styxxx_xD_', 'Alter', 'Sunday', 'Full_xD_', 'ALTER', 'tinypeachpuff_xD_', 'ALTER', 'Tokyo_xD_', 'ALTER', 'VILLA', 'SISIG_xD_', 'ALTER', 'Vixxen_xD_', 'ALTER', 'Xavloli_xD_', 'ALTER', 'yeehaw_xD_', 'Althea', 'Caete_xD_', 'Althea', 'Dee_xD_', 'Althea', 'Elasin_xD_', 'Althea', 'Jean_xD_', 'Althea', 'marimar_xD_', 'ALUA', 'Angelique', 'Cheska', 'Ayad_xD_', 'ALUA', 'CAMILLE', 'SY_xD_', 'Alua', 'Cristin', 'Shin_xD_', 'ALUA', 'Jenica', 'Angeles_xD_', 'ALUA', 'Lyndanle_xD_', 'ALUA', 'Maria', 'Eloise', 'Okazaki_xD_', 'ALUA', 'Maria', 'Follosco_xD_', 'ALUA', 'Rizza', 'Mae', 'Degala', 'Cruz_xD_', 'ALUA', 'Sassy', 'Mei_xD_', 'ALUA', 'Sittie_xD_', 'ALUA', 'Soda_xD_', 'Alyanna', 'Cagandahan_xD_', 'Alyanna', 'Lizada_xD_', 'Alyanna', 'Rule_xD_', 'Alyson', 'Yuzon_xD_', 'Alyssa_xD_', 'Alyssa', 'Caguete_xD_', 'Alyssa', 'Hamojeda_xD_', 'Alyssa', 'mecate_xD_', 'Alyssa', 'Miro_xD_', 'Alyssa', 'Sarzaba_xD_', 'AMAM_xD_', 'Amanda_xD_', 'AMANDA', 'OANDASAN', 'ROTIA_xD_', 'Amara', 'Scarlett', 'Tolentino_xD_', 'Amara', 'Victoria_xD_', 'Amber_xD_', 'amberseducious_xD_', 'Amdan', 'Manuguid', 'Balauro_xD_', 'Amiel', 'Louise', 'Villas', 'Garces_xD_', 'Amiel', 'Oropesa_xD_', 'Amira_xD_', 'Amira', 'Mae', 'Tuao', 'Veles_xD_', 'Amirah', 'Andres_xD_', 'Amommyxx_xD_', 'Amor', 'Flores_xD_', 'Amor', 'Jorda_xD_', 'Amyths', 'Rimorin_xD_', 'Ana', 'Carandang_xD_', 'Analyn_xD_', 'anatalia', 'I_xD_', 'Ancela', 'Martinez_xD_', 'Andeng', 'Sanchez_xD_', 'Andrea_xD_', 'Andrea', 'Arulfo_xD_', 'Andrea', 'Barraquia_xD_', 'Andrea', 'Cruz_xD_', 'Andrea', 'Gale', 'Calsis_xD_', 'Andrea', 'Garrett_xD_', 'Andrea', 'Jana', 'Ladores_xD_', 'Andrea', 'Marcoso_xD_', 'Andy', 'Gatchilan_xD_', 'Angel', 'Grace', 'Boloy_xD_', 'Angel', 'Aniban_xD_', 'Angel', 'Monforte_xD_', 'Angel', 'Queri_xD_', 'Angel', 'Rose', 'Minon_xD_', 'Angel', 'Teruel_xD_', 'Angel', 'Vi', 'Lauron_xD_', 'Angel', 'Vienne_xD_', 'Angel', 'Vitor_xD_', 'Angela_xD_', 'Angela', 'C_xD_', 'ANGELA', 'BAGAYGAY_xD_', 'Angela', 'Chen_xD_', 'ANGELA', 'CHIANG_xD_', 'Angela', 'Eunice', 'Apalit_xD_', 'Angela', 'Poblete_xD_', 'Angelaeun_xD_', 'Angelica', 'Caritero_xD_', 'Angelica', 'De', 'Los', 'Santos_xD_', 'Angelica', 'Galan', 'Vizcarra', 'Fulgencio_xD_', 'Angelica', 'Galdones', 'Delino_xD_', 'Angelica', 'Olayvar_xD_', 'Angelie', 'C_xD_', 'Angelie', 'Gonzales_xD_', 'Angelique', 'Cheska', 'Ayad', 'Xtine', 'Anj_xD_', 'Angelique', 'Trinidad_xD_', 'Angilyn', 'Bemida_xD_', 'Anika', 'Madrid_xD_', 'Anikka', 'Camaya_xD_', 'Anina', 'Sofia', 'Rodriguez_xD_', 'Anis', 'JB_xD_', 'ankilla_xD_', 'Anlyka', 'Canesia_xD_', 'Ann', 'Ashlhey_xD_', 'Ann', 'Cabreira_xD_', 'Ann', 'Camposuelo_xD_', 'ANN', 'MASCARADO_xD_', 'Ann', 'Ocampo_xD_', 'Anna', 'Kristina', 'Ylaya_xD_', 'Anna', 'Talabis', 'Jimenez_xD_', 'Annamay', 'Rafil_xD_', 'anne', 'catriz', 'coronel_xD_', 'Anne', 'Charise', 'Borca', 'Ferdez_xD_', 'Anne', 'Gaskarth_xD_', 'Anne', 'GwynetH_xD_', 'Anne', 'Larinay_xD_', 'Anne', 'Mascardo_xD_', 'Anne', 'Mendoza_xD_', 'Anne', 'Queveno_xD_', 'Anne', 'Robiekath', 'Andes_xD_', 'Anne', 'Uy_xD_', 'Annie', 'Fante_xD_', 'Annika', 'Estella_xD_', 'Annjulian', 'Mendoza_xD_', 'Anonymous_xD_', 'anonymous', '_xD_', 'anonymous', '_xD_', 'ANONYMOUS', '_xD_', 'ANONYMOUS', '_xD_', 'anonymous', '_xD_', 'anonymous', '_xD_', 'anonymous', '_xD_', 'ANONYMOUS', '_xD_', 'ANONYMOUS', '_xD_', 'ANONYMOUS', '_xD_', 'ANONYMOUS', '_xD_', 'ANONYMOUS', '_xD_', 'ANONYMOUS', '_xD_', 'ANONYMOUS', '_xD_', 'ANONYMOUS', '_xD_', 'ANONYMOUS', '_xD_', 'ANONYMOUS', '_xD_', 'ANONYMOUS', '_xD_', 'ANONYMOUS', '_xD_', 'ANONYMOUS', '_xD_', 'ANONYMOUS', '_xD_', 'ANONYMOUS', '_xD_', 'ANONYMOUS', '_xD_', 'ANONYMOUS', '_xD_', 'ANONYMOUS', '_xD_', 'anonymous', '_xD_', 'anonymous', 'some_xD_', 'ANONYMOUS', '_xD_', 'anonymous', '_xD_', 'anonymous', '_xD_', 'anonymous', '_xD_', 'anonymous', '_xD_', 'anonymous', '_xD_', 'anonymous', '_xD_', 'anonymous', '_xD_', 'anonymous', '_xD_', 'anonymous', '_xD_', 'anonymous', '_xD_', 'anonymous', '_xD_', 'ANONYMOUS', '_xD_', 'ANONYMOUS', '_xD_', 'Antonella', 'Dimayuga_xD_', 'Antoneth', 'Berioso_xD_', 'ANTONIETTE', 'DE', 'LUNA_xD_', 'Anya', 'Alcausen_xD_', 'Anya', 'Gabrielle_xD_', 'Anya', 'Limjoco_xD_', 'Aphro_xD_', 'Aphro', 'nakapakyu_xD_', 'Apol', 'Torre_xD_', 'Apple', 'Mae', 'Aquino_xD_', 'April_xD_', 'April', 'Ira', 'Mantal_xD_', 'AR_xD_', 'Ara', 'Mae', 'Cadtillo_xD_', 'AranbeR_xD_', 'Archie', 'Choi_xD_', 'Arianna_xD_', 'Arianna', 'Dichoso_xD_', 'Arianna', 'Nikee', 'Trinitas_xD_', 'Arianne_xD_', 'Arianne', 'Quevado_xD_', 'Ariessa', 'Navarro_xD_', 'Ariesvenus_xD_', 'Arisa_xD_', 'Arlene', 'Jean_xD_', 'Arvee', 'Topaz_xD_', 'Arya', 'Valdez_xD_', 'ASH_xD_', 'Ashlee', 'XX_xD_', 'Ashley', 'Oredina_xD_', 'ASHLY', 'CHAVES_xD_', 'Ashlynn', 'Webber_xD_', 'Asia', 'Catacutan_xD_', 'asianbabyggirl_xD_', 'AsianCandy_xD_', 'ASUPANVIRA_xD_', 'Atandax_xD_', 'Athena_xD_', 'ATHENS_xD_', 'Audinaleo_xD_', 'Austria_xD_', 'Avibaby_xD_', 'Avy', 'Fainsan_xD_', 'Aya', 'Gonzales_xD_', 'Ayca', 'Delos', 'Santos_xD_', 'Ayesha', 'Kimberly_xD_', 'Ayeshayummy_xD_', 'Ayisha', 'Degollacion_xD_', 'Ayra', 'Celine', 'Gem', 'Manabat_xD_', 'Azae', 'Hans', 'Rillera_xD_', 'Azaria', 'Shamane', 'Mukthar_xD_', 'Azenith', 'Romero_xD_', 'Baby_xD_', 'Baby', 'Camille_xD_', 'baby', 'jane_xD_', 'Baby', 'Watson_xD_', 'babycreampufff_xD_', 'babysquirty_xD_', 'Baitoey_xD_', 'BAMBEI_xD_', 'Barbie', 'Micka', 'Villagracia_xD_', 'BBGMOLI_xD_', 'BBjade_xD_', 'BBQ_xD_', 'BCandy_xD_', 'Bea_xD_', 'Bea', 'Aguado_xD_', 'Bea', 'Bianca', 'Espeleta_xD_', 'Bea', 'Bianca', 'Espeleta', '_xD_', 'Bea', 'Tagle', 'Lara_xD_', 'Bea', 'Villanueva_xD_', 'Beatriz', 'Iglesia_xD_', 'Beatriz', 'Tan_xD_', 'BEBE_xD_', 'Bebe', 'ni', 'Tyler_xD_', 'BELA', 'LEGASPI_xD_', 'Bela', 'Rodrigo_xD_', 'Bell', 'Atidtaya_xD_', 'Bernadeth', 'Goc_xD_', 'Bernadette', 'Davac_xD_', 'beth_xD_', 'Beya', 'Noya_xD_', 'Beybi_xD_', 'Bianca', 'Batinga_xD_', 'bianca', 'denise_xD_', 'Bianca', 'Tapat_xD_', 'BIGO', 'ANONYMOUS_xD_', 'BIGO', 'Babycious_xD_', 'BIGO', 'Itstelle_xD_', 'BIGO', 'JADE_xD_', 'Bigo', 'Jezz_xD_', 'Bigo', 'JOEJOE_xD_', 'BIGO', 'Queen', 'B_xD_', 'Bigo', 'Sugar_xD_', 'BIKINI', 'POBLA_xD_', 'Bimm', 'Parida_xD_', 'Blessie_xD_', 'BM_xD_', 'breanne', 'Shiela_xD_', 'Bree_xD_', 'Brinette', 'Anne', 'Encabo_xD_', 'BS_xD_', 'Busyarty_xD_', 'Caitlyn', 'mapuya_xD_', 'Callista', 'Ray_xD_', 'CallmeKokko_xD_', 'CAMELA', 'ARIANE_xD_', 'Camille', 'Espiritu_xD_', 'Camille', 'Estillore_xD_', 'Capricorn_xD_', 'carabelle_xD_', 'Carissa', 'Jane', 'Lascano', 'Valerio', 'Ceej', 'Valerio_xD_', 'carla', 'nipal_xD_', 'Carla', 'Torres_xD_', 'Carly', 'Herdez_xD_', 'Carmela', 'Ariane', 'Ko_xD_', 'Cartel', 'Bold_xD_', 'Caryl', 'Marion', 'Lawas_xD_', 'Caryl', 'Moraleda_xD_', 'Cassie_xD_', 'Cassie', 'K_xD_', 'Cate', 'Ashley', 'Ann', 'Heart_xD_', 'CATE', 'M_xD_', 'Cath', 'Delo', 'Santos_xD_', 'Cath', 'Palomares_xD_', 'Catherine', 'Sy_xD_', 'Catherine', 'TH_xD_', 'Cathleya', 'reyes_xD_', 'Cathlyn', 'Bella_xD_', 'Cathy', 'Garcia_xD_', 'Cathy', 'Holy_xD_', 'CD_xD_', 'Celina_xD_', 'Celina', 'Boquiren_xD_', 'Cezarena', 'De', 'Pedro_xD_', 'CHAEYE', 'IZON_xD_', 'Champagne_xD_', 'Chanlia_xD_', 'CHANTAL', 'FLORIANO_xD_', 'CHARISMA', 'ZABALA_xD_', 'Charizared_xD_', 'Charlene', 'Chua_xD_', 'Charlene', 'Erica', 'D_xD_', 'CHARLENE', 'MAE', 'RADA_xD_', 'Charlene', 'Migalang_xD_', 'Charlize', 'Ivy_xD_', 'Charlize', 'Ivy', 'Josefina', 'Santiago_xD_', 'Charlotte_xD_', 'Charlotte', 'Pealosa_xD_', 'Charm', 'Artiola_xD_', 'Charmaigne', 'Delacruz_xD_', 'CHARMAINE_xD_', 'Charmaine', 'B_xD_', 'Charmaine', 'kalaw', 'Ma_xD_', 'Charmie', 'Cruz_xD_', 'Cheen', 'Dy_xD_', 'Cheenee', 'Louisse_xD_', 'Chekwa', 'XX_xD_', 'Chelle', 'Signio_xD_', 'Chelssy', 'Jose_xD_', 'CHEN', 'XIEN_xD_', 'Chenelle', 'Casidsid_xD_', 'CHENIE', 'LC_xD_', 'Cherihoely', 'Glyza', 'Mae', 'Parina_xD_', 'Ches', 'Cardones_xD_', 'Chesca', 'Cristal_xD_', 'CHESKA', 'AYAD_xD_', 'CHESNAYA', 'CEBALLOS_xD_', 'Chessa', 'Jacaban_xD_', 'ChiChi_xD_', 'cHIE_xD_', 'CHILL', 'PH_xD_', 'Chillka', 'Ramos_xD_', 'Chilloist_xD_', 'Chique', 'Sabonsolin_xD_', 'Chiyo', 'De', 'la', 'Vega_xD_', 'CHLOE', 'ROQUE_xD_', 'Chris', 'G_xD_', 'CHRISTIAN', 'MAE_xD_', 'Christiane', 'Mae', 'Griego_xD_', 'Christine', 'Adlawon', 'Hinaldo_xD_', 'Christine', 'Cabacungan_xD_', 'Christine', 'Cordero_xD_', 'Christine', 'Enoc_xD_', 'Christine', 'Grace', 'co_xD_', 'Christine', 'Joy', 'Abcede_xD_', 'CHRISTINE', 'SANTOS_xD_', 'Chry', 'Selle_xD_', 'Chrysan', 'Lee_xD_', 'Ciara', 'Nulud_xD_', 'Cielo', 'Gonzales_xD_', 'Cielo', 'Valero_xD_', 'CITRA_xD_', 'CJ', 'Atienza_xD_', 'Claire_xD_', 'Claire', 'Chao_xD_', 'Clarence', 'dollentas_xD_', 'Clarice', 'Ann', 'Bueno_xD_', 'Clarice', 'Limsui_xD_', 'Clarisa', 'Sandra_xD_', 'Clouie', 'Siote_xD_', 'CM_xD_', 'COCOMELON_xD_', 'CODE_xD_', 'COLEEN', 'CHAVEZ_xD_', 'Coley', 'Salceda_xD_', 'Cong', 'Tua', 'Banh', 'Bao_xD_', 'CREAMBERRY_xD_', 'Creamy', 'Glossy_xD_', 'CRESSIAAA_xD_', 'Cris', 'Solatorio_xD_', 'Crischel', 'Dela', 'Cruz_xD_', 'Crisna', 'Dueas_xD_', 'Cristalmae', 'Palacio_xD_', 'CristalynNagtalon_xD_', 'CRISTIN', 'NICOLETTE', 'BOLINTIAM_xD_', 'Cristin', 'Shin_xD_', 'Cristina', 'Maria', 'Ferrer_xD_', 'Cristine_xD_', 'Cristine', 'Cervantes_xD_', 'Crizel_xD_', 'cuntapay_xD_', 'CVERIES_xD_', 'Cynelle', 'Abejuela', 'Padrino_xD_', 'Cyrene', 'Urrea_xD_', 'Czaira', 'Danielle', 'Miraflor_xD_', 'Czarina', 'de', 'Pedro_xD_', 'Czarina', 'Nicole', 'Orlino_xD_', 'Czereena', 'M_xD_', 'Dainiel', 'Leones_xD_', 'Dairly', 'Quimpan', 'abatas_xD_', 'DAMBIE', 'TENSUAN_xD_', 'DamnChiki_xD_', 'Dane', 'Zapanta_xD_', 'Dange_xD_', 'Dani', 'Arreza_xD_', 'Dani', 'Naotiuq_xD_', 'Danica', '_xD_', 'Danica', 'Jumawan_xD_', 'DANICA', 'OLANDRES_xD_', 'Danica', 'Tacud_xD_', 'Daniel', 'Sinocruz_xD_', 'Daniella', 'Antonio_xD_', 'Danielle', 'Doria_xD_', 'Danielle', 'sinocruz_xD_', 'Danisha_xD_', 'Danissa', 'Pesongco_xD_', 'Danniella', 'Coleen', 'Sy_xD_', 'DAP', '_xD_', 'Daphnee', 'Deniesse_xD_', 'Darien', 'Albino_xD_', 'Darlene_xD_', 'daruma_xD_', 'Davina_xD_', 'Dawn_xD_', 'Dea', 'Febrina_xD_', 'declador_xD_', 'Deidre', 'Anne', 'Aytalin_xD_', 'Demi', 'Louis_xD_', 'Denise', 'Mikay_xD_', 'Denise', 'Q_xD_', 'Denise', 'Ryll_xD_', 'Denisse', 'Margarete_xD_', 'Derick', 'Hiraya_xD_', 'Devils', 'Advocate_xD_', 'devilnever_xD_', 'Devita', 'Poupou_xD_', 'DEXXY_xD_', 'Deyanmln_xD_', 'Deynuh', 'Sophie_xD_', 'Dianara', 'Nicholas_xD_', 'Dianara', 'Nicolas', 'Ondevilla_xD_', 'Diane_xD_', 'Diane', 'Luna_xD_', 'DIANE', 'TANJUECO_xD_', 'Dianne', 'Abigail_xD_', 'Dianne', 'Angela', 'Ignacio_xD_', 'Dianne', 'Flor_xD_', 'Dianne', 'Joyce', 'Ebron_xD_', 'Dianne', 'Rose', 'G', 'Lucero_xD_', 'Dina', 'XX_xD_', 'Dindi', 'Libunao_xD_', 'DJ', 'x', 'JESSICA', 'FU_xD_', 'dolly_xD_', 'Dominic', 'Unidad_xD_', 'Donita', 'Garcia_xD_', 'DONITA', 'LAGUA_xD_', 'Donna', 'Brizuela_xD_', 'Donna', 'Drio_xD_', 'Donna', 'vigilla_xD_', 'DS', 'Shae_xD_', 'Duhnice_xD_', 'Dyra', 'Ocampo_xD_', 'EKBA_xD_', 'Edrian', 'Jovita_xD_', 'Eilyn', 'Nicdao_xD_', 'Eimereen', 'Juarez_xD_', 'Eiza_xD_', 'EJ', 'Laure_xD_', 'elaine', 'agnas_xD_', 'Elaine', 'Cruz_xD_', 'Elaine', 'Ochoa_xD_', 'Elen_xD_', 'Elena', 'Mariee_xD_', 'Elhaiza', 'Malto_xD_', 'Elisaaline_xD_', 'Elisha', 'Galvez_xD_', 'Eliza', 'Celis_xD_', 'Eliza', 'Gutierre_xD_', 'ELLA_xD_', 'Ella', 'Cabahug_xD_', 'Ella', 'Joy_xD_', 'ELLE_xD_', 'Elliza', 'Raneses_xD_', 'Elly', 'Nurlyana_xD_', 'Elyza', 'Lorenzana_xD_', 'Ema', 'Onig_xD_', 'EMEROSE', 'CABAG', 'COTINGJO_xD_', 'Emiko', 'Servidio_xD_', 'Emilia', 'Ito_xD_', 'EMILY', 'ORTIZ_xD_', 'emma_xD_', 'Emme', 'Alcalde_xD_', 'Eon_xD_', 'Erica', 'Louise_xD_', 'Erica', 'Lu_xD_', 'Erica', 'Rosales_xD_', 'Ericka', 'Gascon_xD_', 'Erielle', 'Gato_xD_', 'Erika', 'Aguilar_xD_', 'Erika', 'Delfinado_xD_', 'ERIKA', 'KYLE', 'BONES', 'ALINDOGAN_xD_', 'Erika', 'Lipata_xD_', 'Erika', 'Siao_xD_', 'Erzelina', 'Tamayo_xD_', 'Esme', 'Ponce', 'Balisi_xD_', 'Esplana_xD_', 'Essel', 'Presto_xD_', 'Estephanie', 'Romabaoa_xD_', 'Eunice_xD_', 'Eunice', 'Lois_xD_', 'Eunice', 'Magarejo_xD_', 'Eunys', 'Abad_xD_', 'EYA', 'BEA_xD_', 'Eyalicioous_xD_', 'Fabiola', 'Mendoza_xD_', 'Facecast', 'Rosie_xD_', 'Fairyana_xD_', 'Faith_xD_', 'Faith', 'Calvario_xD_', 'Farrah', 'Suarez_xD_', 'Faye', 'Basalo_xD_', 'FAYE', 'IBARRA_xD_', 'Febe', 'Valerie', 'Dionaldo', 'Igpit_xD_', 'FELECIA_xD_', 'Felicia', 'hosea_xD_', 'Fhria', 'Mendoza_xD_', 'Fisha_xD_', 'Floofandfur_xD_', 'FlyHighButterfly_xD_', 'Francesca', 'Thea', 'Magnampo_xD_', 'Francesca', 'Ysabelle', 'Simon_xD_', 'franches_xD_', 'Franchesca', 'Cristal', 'Iman_xD_', 'Franchesca', 'Perez_xD_', 'Francine', 'Natasha', 'Cirilo_xD_', 'Frent', 'Aenlle_xD_', 'Freya_xD_', 'Freyuh_xD_', 'Frivy', 'Bismonte_xD_', 'FUCKAFAN_xD_', 'Fuckarenn_xD_', 'G', 'SANTOS_xD_', 'Gab', 'Gabriel_xD_', 'GABBIE', 'SALAO_xD_', 'Gabie', 'Lustre_xD_', 'Gabriel', 'Linaban_xD_', 'Gail', 'Marquez_xD_', 'Gail', 'Reyes_xD_', 'Galan_xD_', 'Gale', 'Espejo_xD_', 'Geli', 'Cruz_xD_', 'Genie', 'Cauba_xD_', 'Genina', 'Ysabel_xD_', 'georgintuan_xD_', 'GG_xD_', 'Gia', 'Angelica', 'Ramil', 'Pasion_xD_', 'Gia', 'Leigh', 'Maris', 'Carreon_xD_', 'Gianna', 'Angela_xD_', 'Gianna', 'Layug_xD_', 'GIGA_xD_', 'GISELLE', 'ANASTASIA_xD_', 'Glam_xD_', 'Glydel', 'Sabares_xD_', 'Glyza', 'Joy', 'Veloso', 'Gacoscosim_xD_', 'GMC_xD_', 'Golda', 'Sanchez_xD_', 'GONZALES_xD_', 'Grace', 'Ashley', 'Cubero_xD_', 'GRACE', 'CARAS_xD_', 'Grace', 'Gabriel_xD_', 'Grace', 'Joy', 'De', 'castro_xD_', 'Grace', 'Vargas_xD_', 'GS_xD_', 'GT_xD_', 'GXG_xD_', 'GY', 'PEREZ_xD_', 'GYP_xD_', 'Haina', 'Manuel_xD_', 'Hana', 'Delacruz_xD_', 'Hannah', 'Chua_xD_', 'Hannah', 'Gwyn', 'Hermoso_xD_', 'Hannah', 'Joanne', 'Taplac_xD_', 'Hannah', 'Lei', 'Quisay_xD_', 'Hannah', 'Supino_xD_', 'Hannah', 'T_xD_', 'Hannica', 'Reyes_xD_', 'Hans', 'Rillera_xD_', 'harmony_xD_', 'Harty_xD_', 'HAWT', 'Mama', 'COCO', 'P_xD_', 'hazel', 'agbunag_xD_', 'HAZEL', 'MASION_xD_', 'Hazelle', 'Agbunag_xD_', 'Hazelyn', 'Joy', 'Herrera_xD_', 'HE', 'sing', 'xue_xD_', 'Heart', 'Javines_xD_', 'Hee', 'Eun', 'Park_xD_', 'Heidi', 'Alvarez_xD_', 'Hershey', 'C', 'Santilan_xD_', 'Hershey', 'Morano_xD_', 'Holy', 'Javier_xD_', 'Honey', 'Rato_xD_', 'Hornekkkun_xD_', 'Huang', 'Ke_xD_', 'Hyacinth', 'Bea', 'Ordinario_xD_', 'Ica', 'Caparas_xD_', 'ICEJ_xD_', 'iciah', 'parma_xD_', 'ICYPWINCESS_xD_', 'Imee', 'Gonzales_xD_', 'ImpitisLove_xD_', 'Ingrid', 'Villanueva_xD_', 'Irah_xD_', 'Irene', 'Joyce', 'Tan', 'Dichosa_xD_', 'Irisa', 'Damsone_xD_', 'Irish', 'Buendicho_xD_', 'Irish', 'Tan_xD_', 'IrishBandal_xD_', 'Isabel', 'Carlos', 'Versoza_xD_', 'Isabella', 'Ardolino_xD_', 'isabelle', 'haris_xD_', 'Ishi_xD_', 'Isla', 'Chelsea_xD_', 'Istel', 'Espao_xD_', 'Isza_xD_', 'Ivana', 'glipo_xD_', 'Iya', 'Dela', 'Torre_xD_', 'Iyra', 'Chioco_xD_', 'Izyrich', 'Bernardino', 'Doon_xD_', 'JADE', 'COARTE_xD_', 'Jade', 'Dianne', 'Tajonera', '_xD_', 'Jade', 'Mendez_xD_', 'Jaeanne', 'Alligato_xD_', 'Jaira', 'Alexa', 'Basa_xD_', 'Jaiza', 'Leila', 'Rubio_xD_', 'Jam', 'Villanueva_xD_', 'Jamaica', 'Grace', 'Ortiz_xD_', 'Jan', 'tiffany', 'mendoza_xD_', 'Jane', 'Benedicto_xD_', 'Jane', 'De', 'Vera_xD_', 'Janella', 'Coral_xD_', 'Janella', 'Nina_xD_', 'Janella', 'Ooi_xD_', 'Janine', 'Santos_xD_', 'Janine', 'XX_xD_', 'Janna', 'Kristine_xD_', 'Jannene', 'Anne', 'Nidoy', 'GJ', 'Felix_xD_', 'Jasmine', 'Olay_xD_', 'Jasmine', 'Rusca_xD_', 'JASTIN', 'LOMIBAO_xD_', 'Jay', 'Ann', 'Perol_xD_', 'JAY', 'RHAMAE', 'DOBLADO_xD_', 'Jaylyn', 'Reyes_xD_', 'Jaymie', 'V', 'Marquez_xD_', 'Jazel', 'Anne', 'Abesamis_xD_', 'JAZMINE_xD_', 'Jazmine', 'Abalo_xD_', 'Jazrine', 'Dyllah', 'C', 'Flores_xD_', 'Jazzia', 'Telebanco_xD_', 'JC', 'AL_xD_', 'JC', 'ANNE', 'SOTELO_xD_', 'jea_xD_', 'Jea', 'Kassandra', 'Talavera_xD_', 'jeahN_xD_', 'Jealene', 'Laureta_xD_', 'Jean', 'Seagraves_xD_', 'Jeanine', 'Ferdez_xD_', 'jeanne', 'tanng_xD_', 'jeanwanwan_xD_', 'Jeia', 'Sanchez_xD_', 'Jeila', 'Dizon_xD_', 'JEKANNE_xD_', 'Jem', 'Milton_xD_', 'Jen_xD_', 'Jenefa', 'Narido_xD_', 'Jenela', 'Tuguinay_xD_', 'Jenica', 'Angeles_xD_', 'JENICA', 'HALILI_xD_', 'Jenice', 'Agcaoili_xD_', 'Jennel', 'Buanzi_xD_', 'Jennica', 'Francisco_xD_', 'Jennie', 'Palopalo_xD_', 'JENNIEVA', 'SANTOS_xD_', 'Jennifer', 'Del', 'Rosario_xD_', 'Jennifer', 'Ricca', 'Confessor_xD_', 'Jennifer', 'Wheelband_xD_', 'JENNY', 'RODRIGUEZ_xD_', 'Jenny', 'Solis_xD_', 'Jenya', 'Escalante', 'Torres_xD_', 'Jeraldine', 'Antonio_xD_', 'Jeremie', 'Rivera_xD_', 'JESLIE', 'ANTALAN_xD_', 'Jessa', 'Bariuan_xD_', 'Jessa', 'Niegas_xD_', 'JESSICA', 'ANN', 'CHAN_xD_', 'Jewel', 'Barrameda_xD_', 'Jeysel', 'Ferrer_xD_', 'JH_xD_', 'Jham', 'Pamintuan', 'Favor_xD_', 'Jhane', 'Santiaguel_xD_', 'Jhene', 'Rose_xD_', 'JHONNA', 'CASTRO_xD_', 'Jiamie_xD_', 'Jirah', 'Elisha', 'Revuelta', 'Flavier_xD_', 'Jizzel', 'Kianne_xD_', 'JL', 'x', 'Heirarchy_xD_', 'Joah', 'Mae', 'Bathan_xD_', 'Joan', 'Baez_xD_', 'Joan', 'Delacruz_xD_', 'Joana', 'Petalan_xD_', 'Joanie', 'Sanchez_xD_', 'Joanna', 'Colleen_xD_', 'Joanna', 'Paula', 'Julleza_xD_', 'Joanne', 'Cadiente_xD_', 'Jochell', 'Agcaoili_xD_', 'Johann', 'Claveria_xD_', 'johann', 'gabrielle', 'ducusin_xD_', 'jojojxlenee_xD_', 'Jolina', 'Yusilon_xD_', 'Jolyn', 'Yauco_xD_', 'Jonah', 'freebie_xD_', 'Jonaliza', 'Benedicto_xD_', 'Jonnalyn', 'Sevilla_xD_', 'Josefina', 'Santiago_xD_', 'Jovelyn', 'Rogers_xD_', 'Joy_xD_', 'Joy', 'Alfaro_xD_', 'Joy', 'Clorado_xD_', 'Joyzelle', 'Sangalang_xD_', 'JP_xD_', 'JRD_xD_', 'JS_xD_', 'Jstn', 'Ally', 'Chnl_xD_', 'Julia_xD_', 'Julia', 'Danielle', 'Hollanda_xD_', 'Juliana', 'Rodriguez_xD_', 'Juliana', 'Venturina_xD_', 'Juliana', 'Wyn', 'See_xD_', 'Julianne', 'Labajo_xD_', 'Julie_xD_', 'julie', 'reah_xD_', 'Julienne', 'Frances', 'De', 'Castro_xD_', 'Julz', 'Panizales_xD_', 'Junina', 'Ponce_xD_', 'Junna', 'Mangalindan_xD_', 'Justhine', 'Kiel', 'Suzara_xD_', 'Justine', 'Cristobal_xD_', 'Justine', 'Escobal_xD_', 'Justine', 'Franchesca_xD_', 'JV_xD_', 'JZ_xD_', 'Kaela', 'Baares_xD_', 'Kaila', 'Tiu_xD_', 'Kaitlyn', 'Tighe_xD_', 'Kansuda_xD_', 'Kanya_xD_', 'Karen', 'Lopez_xD_', 'Karen', 'Palustre_xD_', 'Karla', 'Alfonso_xD_', 'Karla', 'Patricio_xD_', 'Karylle', 'Grimaldo_xD_', 'Kate', 'Borja_xD_', 'Kate', 'Larra_xD_', 'Kate', 'Lim_xD_', 'Kate', 'Pineda_xD_', 'Kath_xD_', 'Kath', 'Billanes_xD_', 'Kath', 'Dumlao_xD_', 'Kath', 'Garcia_xD_', 'Kath', 'Quintela_xD_', 'Kath', 'Sese_xD_', 'KATHERIN', 'BACS_xD_', 'Katherina', 'Marie', 'Garcia_xD_', 'Katherine', 'Baylon', 'Rivera_xD_', 'katherine', 'fajardo_xD_', 'Kathleen', 'Gozo_xD_', 'Kathleen', 'Veronica_xD_', 'Katie', 'Cakey_xD_', 'Katricia', 'Solis_xD_', 'Katrina', 'Alexis', 'Cruz_xD_', 'Katrina', 'Alibanto_xD_', 'Kaye', 'Valdez_xD_', 'Kaye', 'Anne', 'Cando_xD_', 'Kaye', 'Cosa_xD_', 'Kaye', 'Cyrel', 'Veloso_xD_', 'Kaye', 'Marcos_xD_', 'Kaye', 'Nicerio_xD_', 'kaye', 'selle_xD_', 'Kaye', 'Veloso_xD_', 'Kayee_xD_', 'Kayt_xD_', 'KB_xD_', 'KC_xD_', 'Kea', 'Bravo_xD_', 'Keana', 'De', 'Leon_xD_', 'KEI_xD_', 'Kei', 'Asagi_xD_', 'Keihly', 'Dela', 'Rosa_xD_', 'Keii', 'Zylith_xD_', 'KeilyXRhada_xD_', 'kegan', 'mantan_xD_', 'Keziah', 'Manliquez_xD_', 'KF_xD_', 'Khaila', 'Rein', 'De', 'Guzman_xD_', 'Khal', 'Rano_xD_', 'KHALEESI_xD_', 'KHASLY_xD_', 'Khate', 'Feliciano_xD_', 'Khate', 'Kalikot_xD_', 'Khim', 'Latorre_xD_', 'Khyan', 'Jewel', 'Cacapit_xD_', 'KHYLLA_xD_', 'Kiana', 'Monica', 'Aora_xD_', 'Kiara', 'Lee_xD_', 'Kiara', 'XX_xD_', 'Kiehl', 'Dela', 'Rosa_xD_', 'Kiki', 'Farel_xD_', 'Kiki_Permata_xD_', 'Kim', 'Aubrey', 'Saguinsin_xD_', 'Kim', 'Borre_xD_', 'Kim', 'Flores_xD_', 'kim', 'melody_xD_', 'Kim', 'Sanchez_xD_', 'Kimberley', 'Lexis_xD_', 'Kitty', 'Kum_xD_', 'Kl_xD_', 'Kloe', 'Gaye', 'Maroket_xD_', 'KNKYBELLA_xD_', 'Kobi', 'Ashley', 'Perez_xD_', 'Kokies', 'Lim_xD_', 'KR', 'Velasco_xD_', 'KREAN_xD_', 'Kressha_xD_', 'Kris', 'Sunita_xD_', 'Krisch', 'Sta', 'Maria_xD_', 'Krischelle', 'Talabis_xD_', 'KRISELLA', 'ANGELA', 'MANIAGO_xD_', 'Krissy_xD_', 'Krista', 'Calixto_xD_', 'Kristel', 'Toledo_xD_', 'Kristina', 'Celine', 'Suan_xD_', 'Kristine', 'Ann', 'Santos_xD_', 'Kristine', 'Malaluan_xD_', 'Kristinugh_xD_', 'Kristy', 'Gabres_xD_', 'Krix', 'Roque_xD_', 'Krysta', 'Matias_xD_', 'Krystal', 'Kate', 'Mana_xD_', 'Krystel', 'Anne', 'Servida_xD_', 'kyccczx_xD_', 'kyla', 'allana_xD_', 'Kyla', 'Auza_xD_', 'Kyla', 'Barleta_xD_', 'Kyla', 'Castrodes_xD_', 'Kyla', 'delossantos', 'cruz_xD_', 'KYLA', 'FERDEZ_xD_', 'Kyla', 'Francesca_xD_', 'Kyla', 'Francisco_xD_', 'Kyle', 'De', 'Lumban_xD_', 'Kylie', 'Cabral_xD_', 'Kylie', 'Lopez_xD_', 'Kylie', 'R', 'Santos_xD_', 'Kylly', 'Amantillo_xD_', 'KYMIE', 'CATIGAN_xD_', 'Kyoko', 'Soeda_xD_', 'Kyra', 'Gabrielle', 'Encisa_xD_', 'Kyutiegwen_xD_', 'L', 'Perso_xD_', 'Laaalaz_xD_', 'Laarni', 'Alastoy_xD_', 'LACY', 'ROSE_xD_', 'Lakysha_xD_', 'Lara', 'Fortuna_xD_', 'Laras_xD_', 'laura_xD_', 'Laureana', 'Santos_xD_', 'Laurie', 'Buemia_xD_', 'Laurie', 'Dimayuga_xD_', 'Laurielle', 'Badillo_xD_', 'Laya_xD_', 'Lazada_xD_', 'Leah', 'Guttierez_xD_', 'Lean', 'Encina_xD_', 'LEEN', 'CORPUZ_xD_', 'Legitpink_xD_', 'Lei', 'Medina_xD_', 'Leila', 'Canonoy_xD_', 'Leiren', 'Arcenas_xD_', 'Lena_xD_', 'Lenne', 'Velasquez_xD_', 'Lenra', 'Therese', 'Gueco', 'Pio', 'Gueco_xD_', 'Leona', 'Luisa', 'A', 'Andersen_xD_', 'Leoniza', 'Nicole', 'Corona_xD_', 'Leslie', 'Joy', 'Gutierrez_xD_', 'levi_xD_', 'Lexa', 'Baclaan_xD_', 'Lexi', 'Ang_xD_', 'Lhea', 'Bernardino_xD_', 'Lhyn', 'Ampong_xD_', 'Lia_xD_', 'Lia', 'Chang', 'Monteclaro_xD_', 'Lia', 'Laureola_xD_', 'Lia', 'Mae', 'Vumbaca_xD_', 'Lia', 'Mcmannis_xD_', 'Lia', 'Tokushu_xD_', 'Lia', 'vumbaca_xD_', 'Liana', 'Anggraini_xD_', 'Lianna', 'Lau_xD_', 'Lianne', 'Flores_xD_', 'Lianne', 'Gulanes_xD_', 'LICIOUS_xD_', 'Lilly', 'k_xD_', 'Lily_xD_', 'Lily', 'Morishita_xD_', 'Lina_xD_', 'Lisean', 'mae_xD_', 'Litz', 'Aquino_xD_', 'LIVE', 'SHOW', 'SA', 'TALIPAPA_xD_', 'Liz', 'Castro_xD_', 'Loraine', 'Cernias_xD_', 'Lorie', 'Via_xD_', 'Louis_xD_', 'Louise', 'Jane', 'SobreviNAS_xD_', 'Louise', 'Querobin_xD_', 'Louisse', 'Anne', 'Realon_xD_', 'Love', 'Dela', 'Pena_xD_', 'Lovelyn', 'C', 'Cabrieto_xD_', 'Lucy', 'Audrey_xD_', 'Lui_xD_', 'LUI', 'QUINONES_xD_', 'Lui', 'Shen_xD_', 'Luisa', 'F_xD_', 'Luissa', 'Flores', 'Yacap_xD_', 'Luna_xD_', 'LunaCutie_xD_', 'Lyndel', 'Novencido_xD_', 'Lyniniii_xD_', 'Lyra', 'Saige_xD_', 'Lysa', 'Canlas_xD_', 'Ma', 'Beatriz', 'B', 'Gutierrez_xD_', 'Ma', 'Chrystine', 'Lodriguito_xD_', 'MackenzieBulilan_xD_', 'Madel', 'Deano_xD_', 'Mae_xD_', 'Mae', 'ablan_xD_', 'Maegan', 'Constantino_xD_', 'Maezzie', 'Toledo_xD_', 'Maggie_xD_', 'Maica', 'Ocampo_xD_', 'Maity', 'Cristel', 'Balancio_xD_', 'Majel', 'Santiago_xD_', 'Malay', 'Couple', 'Hot_xD_', 'Mami', 'chula_xD_', 'MAMITA_xD_', 'Mamita', 'Secret_xD_', 'manko_xD_', 'Mara', 'Alberto_xD_', 'Mara', 'Sarmiento', 'Loreno_xD_', 'mara', 'sheha', 'lee_xD_', 'Mardy', 'Nicolette', 'Moralejo_xD_', 'MARGA', 'CHAMBER_xD_', 'Margaux', 'Alexandra_xD_', 'Mari', 'Claude_xD_', 'Mari', 'Lanchita_xD_', 'Maria_xD_', 'Maria', 'allyssa', 'herdez_xD_', 'Maria', 'Beatrice', 'Sandoval_xD_', 'Maria', 'Bernadette', 'Tabuena_xD_', 'Maria', 'Christina', 'Ferrer_xD_', 'Maria', 'Eloise', 'Okazaki_xD_', 'Maria', 'Eloise', 'WinchelL_xD_', 'Maria', 'Follosco_xD_', 'Maria', 'Jessica_xD_', 'maria', 'lee', 'matsasuki_xD_', 'Maria', 'Nirian', 'Moral_xD_', 'Maria', 'Reyes_xD_', 'Maria', 'Susana_xD_', 'Maria', 'Tricia', 'Grace', 'Baltazar', 'Esparagoza_xD_', 'Mariaaky_xD_', 'MARIAARICKAAA_xD_', 'Mariah', 'P_xD_', 'Marian', 'Salud_xD_', 'Marianne', 'Diamante_xD_', 'Marianne', 'Gomez_xD_', 'MARICAR', 'ANGELES_xD_', 'Marie', 'Quanco_xD_', 'Marie', 'Roman_xD_', 'Marie', 'Trinidad_xD_', 'Mariel', 'Benito_xD_', 'Mariel', 'Del', 'Rosario_xD_', 'Mariela', 'Redondo_xD_', 'Marissa', 'Umaegi_xD_', 'Mariyadagreyt_xD_', 'Marj', 'Samonte_xD_', 'Marjorie', 'Enriquez_xD_', 'MARRIES', 'CABRAL_xD_', 'Marsell', 'Cali_xD_', 'marthacelinearradaza_xD_', 'Martie', 'Alcantara_xD_', 'martina', 'alim_xD_', 'Mary', 'Beth_xD_', 'Mary', 'Clare', 'Francisco_xD_', 'Mary', 'Darnyl', 'Bondad_xD_', 'Mary', 'Elinell', 'Palanca_xD_', 'Mary', 'Grace', 'Bocala_xD_', 'Mary', 'Grace', 'Magno', 'Bocala_xD_', 'Mary', 'Holyana', 'Santos_xD_', 'Mary', 'lorna', 'cahiwat_xD_', 'Mary', 'Margarette', 'Herrera_xD_', 'Mary', 'Therese', 'Rizon_xD_', 'Mau', 'Grepaldeo_xD_', 'mauwi', 'sivillia_xD_', 'Maxine_xD_', 'Maxine', 'Magdangal_xD_', 'Maxine', 'Rosales_xD_', 'Maxine', 'Ruedas_xD_', 'May', 'Bituin_xD_', 'May', 'Daplas_xD_', 'Maya_xD_', 'Maya', 'Gacumo_xD_', 'maya', 'mustika_xD_', 'Maybel', 'Generillo_xD_', 'Mayumi', 'De', 'Leon_xD_', 'MAZIKEEN_xD_', 'MC_xD_', 'mcc_xD_', 'McQueen', 'Juliana', 'Kirsten_xD_', 'MD_xD_', 'Megan', 'Morgado_xD_', 'Mei_xD_', 'Melania', 'Panlok_xD_', 'Melanie', 'Cuan', 'Goddard_xD_', 'Melina', 'Alcantara_xD_', 'Melissa', 'Galpoz_xD_', 'Melly', 'Coritana_xD_', 'Merill', 'Ravago_xD_', 'Merry_xD_', 'Merryl', 'Nestor_xD_', 'Mersilde_xD_', 'Meruchan_xD_', 'Meryl', 'Dizon_xD_', 'Meryll', 'Buyuccan_xD_', 'Mhae', 'Rivera_xD_', 'Mi', 'Kiee_xD_', 'MIA', 'ADELAINE_xD_', 'Mia', 'Ariana_xD_', 'Mia', 'Gabuyo_xD_', 'Mica', 'Adriano_xD_', 'Mica', 'M_xD_', 'Micah', 'Elliah_xD_', 'MICHELL', 'GUJER_xD_', 'Michelle', 'Declarador_xD_', 'Michelle', 'Omlero', 'Caraballos_xD_', 'Michelle', 'x', 'Rhada_xD_', 'Mijares_xD_', 'Mika', 'Aguilar_xD_', 'Mika', 'Aguinaldo_xD_', 'mikaela', 'baldos_xD_', 'Mikaela', 'manuel_xD_', 'Mikaela', 'Reyes_xD_', 'mikasa_xD_', 'Mikayla', 'Nazareno_xD_', 'MILKY_xD_', 'mimai', 'ong_xD_', 'Mimi_xD_', 'Mimi', 'Obaila_xD_', 'Mira', 'XX_xD_', 'Mishell', 'Faca', 'Arayan_xD_', 'Miss', 'Cindy_xD_', 'Miss', 'viona', 'veras_xD_', 'MissAle_xD_', 'MISSLA_xD_', 'Mitzi', 'Hosoya_xD_', 'miya', 'lee_xD_', 'Miyaka', 'Abe_xD_', 'Mizz', 'Hyun_xD_', 'Mizzie', 'Mie_xD_', 'MIZZIE', 'x', 'UNKNOWN_xD_', 'Mo', 'id', '_xD_', 'Moanjiya_xD_', 'ms', 'puiyi_xD_', 'Ms', 'Lara_xD_', 'Ms', 'Roxzie_xD_', 'Myka', 'Angeel', 'Aguirre_xD_', 'Myrrh', 'Guttierez_xD_', 'MYSTERY', 'CHIC_xD_', 'MYSTERY', 'CHIC', '_xD_', 'Mythos_xD_', 'Nabila', 'Perodua_xD_', 'Nadine', 'Corachea_xD_', 'Nadine', 'Espiritu_xD_', 'Nafisha_xD_', 'Naide', 'Perez_xD_', 'Nala', 'Melegrito_xD_', 'Nami', 'Swan_xD_', 'athikah_xD_', 'Narcisa_xD_', 'Natalie', 'C_xD_', 'NATALIE', 'CHLOE', 'ROXAS_xD_', 'Natalie', 'Worth_xD_', 'Natasha', 'Dallo_xD_', 'Natasha', 'Nicole_xD_', 'Navie', 'Herradura_xD_', 'ndream_xD_', 'Nea', 'Poon_xD_', 'NEJI_xD_', 'nejisui_xD_', 'nerdy', 'girl_xD_', 'Neslyn', 'Ly_xD_', 'Neysa', 'Alina_xD_', 'NG_xD_', 'NHEL', 'JHEN', 'BUANZI_xD_', 'Nhikky', 'Joyce', 'Limpiada_xD_', 'Nhisa', 'Poquita_xD_', 'Nia', 'Irwan_xD_', 'Nica_xD_', 'Nica', 'Guevara_xD_', 'Nica', 'Guevarra_xD_', 'nicas', 'kalat_xD_', 'Nicca', 'Gomez_xD_', 'Nichole', 'Ann', 'Barot_xD_', 'Nico', 'Robin_xD_', 'Nicole', 'Asares_xD_', 'Nicole', 'Banhag_xD_', 'Nicole', 'Clanor_xD_', 'Nicole', 'Espolong_xD_', 'Nicole', 'Tesoro_xD_', 'nicoline', 'young_xD_', 'Nika', 'Ella', 'Perez_xD_', 'Nika', 'Ellnea_xD_', 'Niki_xD_', 'Nikka', 'Ella', 'Perez_xD_', 'Nikka', 'Faith_xD_', 'Nikki', 'Padillo_xD_', 'Nikki', 'Tan_xD_', 'Nikkie', 'Pepito_xD_', 'Nikkie', 'Taboloc_xD_', 'Nikkita_xD_', 'Nina', 'Alcantara_xD_', 'nissa', 'arroyo_xD_', 'Nia', 'Dayao_xD_', 'No', 'Face', 'Petite_xD_', 'No', 'id_xD_', 'No', 'id', '_xD_', 'NO', 'ID', '_xD_', 'no', 'id', '_xD_', 'no', 'id', '_xD_', 'NO', 'ID', '_xD_', 'NO', 'ID', '_xD_', 'NO', 'ID', '_xD_', 'no', 'id', '_xD_', 'No', 'id', '_xD_', 'No', 'id', '_xD_', 'NO', 'ID', '_xD_', 'NO', 'ID', '_xD_', 'NO', 'ID', '_xD_', 'no', 'id', '_xD_', 'no', 'id', '_xD_', 'NO', 'ID', '_xD_', 'no', 'id', 'pob_xD_', 'no', 'id', 'pob', '_xD_', 'Noelle', 'Morela_xD_', 'Noemixlili_xD_', 'NOID', '_xD_', 'Nolissa', 'Raquel_xD_', 'Noomeiying_xD_', 'norilyn', 'kylie', 'vasquez_xD_', 'Nun', 'model_xD_', 'Nur', 'Syafinaz', 'Binte', 'Johari_xD_', 'nurfth_xD_', 'Nurul', 'Nafisha_xD_', 'Ody', 'Bliss_xD_', 'OFzxc_xD_', 'OMNIS', 'Anonymous', '_xD_', 'Only', 'Fans', 'bambei_xD_', 'ONLY', 'FANS', 'AREA_xD_', 'ONLY', 'FANS', 'Ahornyslut_xD_', 'ONLY', 'FANS', 'ANGELSWEETXO_xD_', 'ONLY', 'FANS', 'bbgmolli_xD_', 'ONLY', 'FANS', 'Bigcryingenergy_xD_', 'ONLY', 'FANS', 'BITBIRDIES_xD_', 'ONLY', 'FANS', 'DarcyLovesYou_xD_', 'ONLY', 'FANS', 'ELAISA', 'ELAINE_xD_', 'ONLY', 'FANS', 'EmilyOrtiz_xD_', 'ONLY', 'FANS', 'EMMA_xD_', 'ONLY', 'FANS', 'Hello', 'Langiie_xD_', 'ONLY', 'FANS', 'honey_xD_', 'ONLY', 'FANS', 'HONGKONG', 'DOLL_xD_', 'ONLY', 'FANS', 'Icypwincess_xD_', 'fans', 'jeanwanwan_xD_', 'ONLY', 'FANS', 'KAINAOA_xD_', 'ONLY', 'FANS', 'Kileylynn_xD_', 'ONLY', 'FANS', 'LAVANDAIREEE_xD_', 'ONLY', 'FANS', 'Lavendaireee_xD_', 'ONLY', 'FANS', 'Lolita_xD_', 'ONLY', 'FANS', 'lupiiinzz_xD_', 'ONLY', 'FANS', 'Maxine', 'Rosales_xD_', 'fans', 'Meikoui_xD_', 'ONLY', 'FANS', 'msmeancreature_xD_', 'ONLY', 'FANS', 'Ms_meancreature_xD_', 'fans', 'Musclemochi_xD_', 'ONLY', 'FANS', 'NEKO', 'CHAN_xD_', 'ONLY', 'FANS', 'QTbunn_xD_', 'oNLY', 'FANS', 'SnowwPeachh_xD_', 'ONLY', 'FANS', 'Xinniefxy_xD_', 'ONLY', 'FANS', 'Yapadoxx_xD_', 'ONLY', 'FANS', 'Yona_xD_', 'OnlyFans', 'localbimbo_xD_', 'Oshley', 'Apostol_xD_', 'Paige', 'Arota_xD_', 'Pamela', 'Cruz_xD_', 'Pamela', 'Kaye_xD_', 'Pamela', 'Spencer_xD_', 'Pamela', 'Tanbua_xD_', 'Pandora', 'Kaaki_xD_', 'Panisa_xD_', 'Panisa', 'Montrivade_xD_', 'Papa', 'De', 'Asukal_xD_', 'Papaitan_xD_', 'Papat', 'Catriz_xD_', 'Pat', 'Centeno_xD_', 'Pat', 'Si_xD_', 'PATITA', 'TUMPALAN_xD_', 'Patricia_xD_', 'Patricia', 'Ann', 'Sy_xD_', 'Patricia', 'Anne', 'Rogel_xD_', 'Patricia', 'Claire_xD_', 'PATRICIA', 'DELOS', 'SANTOS_xD_', 'Patricia', 'Herdez_xD_', 'Pats', 'Fetelbero_xD_', 'Patty', 'Calata_xD_', 'Paula', 'Norberte_xD_', 'Paula', 'Poblete', 'Lucero_xD_', 'Paula', 'Reyes_xD_', 'Paula', 'Valveuna_xD_', 'Pauline', 'Angel', 'Perez_xD_', 'Pauline', 'Luna_xD_', 'Paulliene', 'Lainette', 'Masungsong_xD_', 'Pem', 'Leysis', 'Altubar_xD_', 'Perso_xD_', 'Petita_xD_', 'petitenotburgis_xD_', 'PF_xD_', 'PHMafiaxLeona_xD_', 'Pilarme', 'Urbano_xD_', 'Pimpattama_xD_', 'Pinay', 'CreamPie_xD_', 'Pinaylcious_xD_', 'pinky_xD_', 'PoblaDimsum_xD_', 'poll', '_xD_', 'Polly', 'Rivero_xD_', 'Polyanna', 'Martina', 'Manalo_xD_', 'Popster_xD_', 'pouncake_xD_', 'Powpaii_xD_', 'Presley', 'Calapre_xD_', 'Prettyghieanne_xD_', 'PRINCESS_xD_', 'PRINCESS', 'MAE', 'R_xD_', 'Princess', 'Manalac_xD_', 'Princess', 'Mercado_xD_', 'princess', 'reyes_xD_', 'PTK_xD_', 'Putri', 'Sukmasari_xD_', 'pxrplxzz_xD_', 'RG_xD_', 'Rachael', 'Lillo_xD_', 'Rachel_xD_', 'Rachel', 'Anne', 'Lyka', 'Manalo_xD_', 'Rachel', 'Casino_xD_', 'Rachelle', 'Ann', 'Rosas_xD_', 'Rachelle', 'Joy', 'Esplana_xD_', 'Rachelle', 'Joyce', 'Esplana_xD_', 'Raicein', 'A', 'Herdez_xD_', 'Rain', 'Marasigan_xD_', 'Rain', 'Morales_xD_', 'Raine', 'Chong_xD_', 'Raisa_xD_', 'RAISA', 'MARVA_xD_', 'Raiza', 'Mikaela', 'Ferdez_xD_', 'Ramoana_xD_', 'RANDOM_xD_', 'Rane', 'Liwanag_xD_', 'RangiXIslaw_xD_', 'Rani', 'Amor', 'Serquina_xD_', 'rapsababe_xD_', 'Rara_xD_', 'RAW_xD_', 'Rayen', 'Portus_xD_', 'Rebecca', 'Reyes_xD_', 'Reena', 'Rinloma_xD_', 'ReeyaXRhada_xD_', 'Reina', 'Juliana', 'Luartez_xD_', 'Remaja', 'Montong_xD_', 'Renjielyn', 'Largo_xD_', 'Renz', 'Jamisola_xD_', 'Resel', 'Calusin_xD_', 'Reyn', 'Andreannah_xD_', 'Rhianna', 'Santos_xD_', 'Ria', 'Pancho_xD_', 'Riaza', 'chu_xD_', 'RICAMAE', 'ROMULO_xD_', 'Rinka_xD_', 'RIZELLE', 'MENDOZA_xD_', 'Rizza', 'Kyla_xD_', 'Rizza', 'Mae', 'Degala', 'Cruz_xD_', 'Rizza', 'Regis_xD_', 'rjdc_xD_', 'RL_xD_', 'Robelyn', 'Gonzales_xD_', 'Robie', 'Rose_xD_', 'Robie', 'Rose', 'Santiago_xD_', 'ROBLES_xD_', 'ROMALYN', 'CORTES_xD_', 'Romica', 'Lyan_xD_', 'Romica', 'Lyan', 'Cornito_xD_', 'Ronalyn', 'Nono_xD_', 'Rose_xD_', 'Roselle', 'Mercado_xD_', 'Rosenina', 'Reyes_xD_', 'Roseniamae', 'reyes_xD_', 'Rosme', 'Listahan', 'sa', 'wwwgawkgawkfun', 'NOT', 'A', 'TELEGRAM', 'GROUP', 'WEB', 'BASED', 'FOR', 'MOBILE', 'AND', 'COMPUTERS']\n"
     ]
    }
   ],
   "source": [
    "# Tokenization\n",
    "\n",
    "\n",
    "# Check if Cleaned_Data is already tokenized else tokenize it\n",
    "if not isinstance(df['Cleaned_Data'][0], list):\n",
    "    # Tokenize\n",
    "    print(\"Tokenizing\")\n",
    "    df['Cleaned_Data'] = df['Cleaned_Data'].apply(lambda x: word_tokenize(x))\n",
    "    print(\"Tokenization done\")\n",
    "else:\n",
    "    print(\"Data already tokenized\")\n",
    "    \n",
    "print(df['Cleaned_Data'].head())\n",
    "# Print and show largest token \n",
    "print(\"Largest token: \", max(df['Cleaned_Data'], key=len))\n",
    "\n"
   ]
  },
  {
   "cell_type": "code",
   "execution_count": 114,
   "metadata": {},
   "outputs": [
    {
     "name": "stdout",
     "output_type": "stream",
     "text": [
      "Vocabulary size:  32155\n",
      "Vector Dimension:  32155\n"
     ]
    },
    {
     "data": {
      "text/html": [
       "<div>\n",
       "<style scoped>\n",
       "    .dataframe tbody tr th:only-of-type {\n",
       "        vertical-align: middle;\n",
       "    }\n",
       "\n",
       "    .dataframe tbody tr th {\n",
       "        vertical-align: top;\n",
       "    }\n",
       "\n",
       "    .dataframe thead th {\n",
       "        text-align: right;\n",
       "    }\n",
       "</style>\n",
       "<table border=\"1\" class=\"dataframe\">\n",
       "  <thead>\n",
       "    <tr style=\"text-align: right;\">\n",
       "      <th></th>\n",
       "      <th>Polarity</th>\n",
       "      <th>Data</th>\n",
       "      <th>Cleaned_Data</th>\n",
       "      <th>Vector</th>\n",
       "    </tr>\n",
       "  </thead>\n",
       "  <tbody>\n",
       "    <tr>\n",
       "      <th>0</th>\n",
       "      <td>4</td>\n",
       "      <td>__TiffanyAndCo Cousinnnn the return coming soon</td>\n",
       "      <td>[__TiffanyAndCo, Cousinnnn, return, coming, soon]</td>\n",
       "      <td>[0, 0, 0, 0, 1, 0, 0, 0, 0, 0, 0, 0, 0, 0, 0, ...</td>\n",
       "    </tr>\n",
       "    <tr>\n",
       "      <th>1</th>\n",
       "      <td>4</td>\n",
       "      <td>at the balenciaga thinking about my friends fa...</td>\n",
       "      <td>[balenciaga, thinking, friends, family, guy, g...</td>\n",
       "      <td>[0, 0, 0, 0, 0, 0, 0, 0, 0, 0, 0, 0, 0, 0, 0, ...</td>\n",
       "    </tr>\n",
       "    <tr>\n",
       "      <th>2</th>\n",
       "      <td>0</td>\n",
       "      <td>TiffanyAndCo bracelet I bought in Milan in Oct...</td>\n",
       "      <td>[TiffanyAndCo, bracelet, I, bought, Milan, Oct...</td>\n",
       "      <td>[0, 0, 0, 0, 0, 0, 0, 0, 0, 0, 0, 0, 0, 0, 0, ...</td>\n",
       "    </tr>\n",
       "    <tr>\n",
       "      <th>3</th>\n",
       "      <td>2</td>\n",
       "      <td>QueenMoniB personifier channel_gibbs eccentric...</td>\n",
       "      <td>[QueenMoniB, personifier, channel_gibbs, eccen...</td>\n",
       "      <td>[0, 0, 0, 0, 0, 0, 0, 0, 0, 0, 0, 0, 0, 0, 0, ...</td>\n",
       "    </tr>\n",
       "    <tr>\n",
       "      <th>4</th>\n",
       "      <td>4</td>\n",
       "      <td>Pup_Dior_ Happy Valentines Day  You are so gor...</td>\n",
       "      <td>[Pup_Dior_, Happy, Valentines, Day, You, gorge...</td>\n",
       "      <td>[0, 0, 0, 0, 0, 0, 0, 0, 0, 0, 0, 0, 0, 0, 0, ...</td>\n",
       "    </tr>\n",
       "    <tr>\n",
       "      <th>...</th>\n",
       "      <td>...</td>\n",
       "      <td>...</td>\n",
       "      <td>...</td>\n",
       "      <td>...</td>\n",
       "    </tr>\n",
       "    <tr>\n",
       "      <th>4295</th>\n",
       "      <td>2</td>\n",
       "      <td>Tag  timestamp \\n\\nLouis Vuitton pastel camo s...</td>\n",
       "      <td>[Tag, timestamp, Louis, Vuitton, pastel, camo,...</td>\n",
       "      <td>[0, 0, 0, 0, 0, 0, 0, 0, 0, 0, 0, 0, 0, 0, 0, ...</td>\n",
       "    </tr>\n",
       "    <tr>\n",
       "      <th>4296</th>\n",
       "      <td>2</td>\n",
       "      <td>What is the best place to buy a Rolex at in F...</td>\n",
       "      <td>[What, best, place, buy, Rolex, Florida, Not, ...</td>\n",
       "      <td>[0, 0, 0, 0, 0, 0, 0, 0, 0, 0, 0, 0, 0, 0, 0, ...</td>\n",
       "    </tr>\n",
       "    <tr>\n",
       "      <th>4297</th>\n",
       "      <td>2</td>\n",
       "      <td>Suggest a Book Can you recommend me books abo...</td>\n",
       "      <td>[Suggest, Book, Can, recommend, books, Greek, ...</td>\n",
       "      <td>[0, 0, 0, 0, 0, 0, 0, 0, 0, 0, 0, 0, 0, 0, 0, ...</td>\n",
       "    </tr>\n",
       "    <tr>\n",
       "      <th>4298</th>\n",
       "      <td>2</td>\n",
       "      <td>Chloe wears Louis Vuitton in HUNGER Magazine</td>\n",
       "      <td>[Chloe, wears, Louis, Vuitton, HUNGER, Magazine]</td>\n",
       "      <td>[0, 0, 0, 0, 0, 0, 0, 0, 0, 0, 0, 0, 0, 0, 0, ...</td>\n",
       "    </tr>\n",
       "    <tr>\n",
       "      <th>4299</th>\n",
       "      <td>0</td>\n",
       "      <td>Has a video or image of someone wearing a bag ...</td>\n",
       "      <td>[Has, video, image, someone, wearing, bag, sto...</td>\n",
       "      <td>[0, 0, 0, 0, 0, 0, 0, 0, 0, 0, 0, 0, 0, 0, 0, ...</td>\n",
       "    </tr>\n",
       "  </tbody>\n",
       "</table>\n",
       "<p>4300 rows × 4 columns</p>\n",
       "</div>"
      ],
      "text/plain": [
       "      Polarity                                               Data  \\\n",
       "0            4   __TiffanyAndCo Cousinnnn the return coming soon    \n",
       "1            4  at the balenciaga thinking about my friends fa...   \n",
       "2            0  TiffanyAndCo bracelet I bought in Milan in Oct...   \n",
       "3            2  QueenMoniB personifier channel_gibbs eccentric...   \n",
       "4            4  Pup_Dior_ Happy Valentines Day  You are so gor...   \n",
       "...        ...                                                ...   \n",
       "4295         2  Tag  timestamp \\n\\nLouis Vuitton pastel camo s...   \n",
       "4296         2   What is the best place to buy a Rolex at in F...   \n",
       "4297         2   Suggest a Book Can you recommend me books abo...   \n",
       "4298         2       Chloe wears Louis Vuitton in HUNGER Magazine   \n",
       "4299         0  Has a video or image of someone wearing a bag ...   \n",
       "\n",
       "                                           Cleaned_Data  \\\n",
       "0     [__TiffanyAndCo, Cousinnnn, return, coming, soon]   \n",
       "1     [balenciaga, thinking, friends, family, guy, g...   \n",
       "2     [TiffanyAndCo, bracelet, I, bought, Milan, Oct...   \n",
       "3     [QueenMoniB, personifier, channel_gibbs, eccen...   \n",
       "4     [Pup_Dior_, Happy, Valentines, Day, You, gorge...   \n",
       "...                                                 ...   \n",
       "4295  [Tag, timestamp, Louis, Vuitton, pastel, camo,...   \n",
       "4296  [What, best, place, buy, Rolex, Florida, Not, ...   \n",
       "4297  [Suggest, Book, Can, recommend, books, Greek, ...   \n",
       "4298   [Chloe, wears, Louis, Vuitton, HUNGER, Magazine]   \n",
       "4299  [Has, video, image, someone, wearing, bag, sto...   \n",
       "\n",
       "                                                 Vector  \n",
       "0     [0, 0, 0, 0, 1, 0, 0, 0, 0, 0, 0, 0, 0, 0, 0, ...  \n",
       "1     [0, 0, 0, 0, 0, 0, 0, 0, 0, 0, 0, 0, 0, 0, 0, ...  \n",
       "2     [0, 0, 0, 0, 0, 0, 0, 0, 0, 0, 0, 0, 0, 0, 0, ...  \n",
       "3     [0, 0, 0, 0, 0, 0, 0, 0, 0, 0, 0, 0, 0, 0, 0, ...  \n",
       "4     [0, 0, 0, 0, 0, 0, 0, 0, 0, 0, 0, 0, 0, 0, 0, ...  \n",
       "...                                                 ...  \n",
       "4295  [0, 0, 0, 0, 0, 0, 0, 0, 0, 0, 0, 0, 0, 0, 0, ...  \n",
       "4296  [0, 0, 0, 0, 0, 0, 0, 0, 0, 0, 0, 0, 0, 0, 0, ...  \n",
       "4297  [0, 0, 0, 0, 0, 0, 0, 0, 0, 0, 0, 0, 0, 0, 0, ...  \n",
       "4298  [0, 0, 0, 0, 0, 0, 0, 0, 0, 0, 0, 0, 0, 0, 0, ...  \n",
       "4299  [0, 0, 0, 0, 0, 0, 0, 0, 0, 0, 0, 0, 0, 0, 0, ...  \n",
       "\n",
       "[4300 rows x 4 columns]"
      ]
     },
     "execution_count": 114,
     "metadata": {},
     "output_type": "execute_result"
    }
   ],
   "source": [
    "# Vectorization\n",
    "# Initialize CountVectorizer\n",
    "vectorizer = CountVectorizer()\n",
    "\n",
    "# Fit and transform\n",
    "X = vectorizer.fit_transform(df['Cleaned_Data'].apply(lambda x: ' '.join(x)))\n",
    "\n",
    "# Add the vectors to the dataframe in a new column\n",
    "df['Vector'] = [x for x in X.toarray()]\n",
    "\n",
    "# Print the vocabulary size\n",
    "print(\"Vocabulary size: \", len(vectorizer.vocabulary_))\n",
    "print(\"Vector Dimension: \", len(df['Vector'][0]))\n",
    "df"
   ]
  },
  {
   "cell_type": "markdown",
   "metadata": {},
   "source": [
    "# Product Quantization \n",
    "Product Quatization is a method to reduce the memory usage of the codebook.\n",
    "The idea is to split the codebook into sub-codebooks and quantize the data into sub-vectors.\n",
    "The sub-vectors are then quantized into sub-codebooks.\n",
    "The sub-codebook indices are then concatenated to form the final codebook index.\n"
   ]
  },
  {
   "cell_type": "code",
   "execution_count": 115,
   "metadata": {},
   "outputs": [
    {
     "name": "stdout",
     "output_type": "stream",
     "text": [
      "X Type <class 'numpy.ndarray'> [0. 0. 0. ... 0. 0. 0.]\n",
      "X_Train Type <class 'numpy.ndarray'> [0. 0. 0. ... 0. 0. 0.]\n",
      "M: 5, Ks: 256, metric : <class 'numpy.uint8'>, code_dtype: l2\n",
      "iter: 20, seed: 123\n",
      "Training the subspace: 0 / 5\n"
     ]
    },
    {
     "name": "stderr",
     "output_type": "stream",
     "text": [
      "/usr/local/lib/python3.11/site-packages/scipy/cluster/vq.py:602: UserWarning: One of the clusters is empty. Re-run kmeans with a different initialization.\n",
      "  warnings.warn(\"One of the clusters is empty. \"\n"
     ]
    },
    {
     "name": "stdout",
     "output_type": "stream",
     "text": [
      "Training the subspace: 1 / 5\n",
      "Training the subspace: 2 / 5\n",
      "Training the subspace: 3 / 5\n",
      "Training the subspace: 4 / 5\n",
      "Encoding the subspace: 0 / 5\n",
      "Encoding the subspace: 1 / 5\n",
      "Encoding the subspace: 2 / 5\n",
      "Encoding the subspace: 3 / 5\n",
      "Encoding the subspace: 4 / 5\n"
     ]
    }
   ],
   "source": [
    "import nanopq \n",
    "import numpy as np\n",
    "from sklearn.model_selection import train_test_split\n",
    "\n",
    "# Load data of the vector column\n",
    "X = np.array(df['Vector'].values.tolist(), dtype=np.float32)\n",
    "print(\"X Type\" , type(X), X[0])\n",
    "\n",
    "# Split the data into training and testing\n",
    "X_train, X_test = train_test_split(X, test_size=0.2, random_state=42)\n",
    "\n",
    "print(\"X_Train Type\" , type(X_train), X_train[0])\n",
    "# Initialize the PQ encoder (M=5 sub-spaces, 256 centroids per sub-space)\n",
    "pq = nanopq.PQ(M=5, Ks=256) # M=5 as vector dimension must be divisible by M\n",
    "\n",
    "# Fit the training data\n",
    "pq.fit(vecs=X_train)\n",
    "\n",
    "# Encode the vectors\n",
    "X_code = pq.encode(X)\n"
   ]
  },
  {
   "cell_type": "code",
   "execution_count": 116,
   "metadata": {},
   "outputs": [
    {
     "data": {
      "text/plain": [
       "(4300, 5)"
      ]
     },
     "execution_count": 116,
     "metadata": {},
     "output_type": "execute_result"
    }
   ],
   "source": [
    "# Save the X_code to a file\n",
    "np.save(\"pq_code\", X_code)\n",
    "\n",
    "X_code.shape"
   ]
  },
  {
   "cell_type": "code",
   "execution_count": 137,
   "metadata": {},
   "outputs": [
    {
     "name": "stdout",
     "output_type": "stream",
     "text": [
      "Query Vector:  [0. 0. 0. ... 0. 0. 0.] (32155,)\n",
      "Query Data:  109    sunnydayzsoon StackieRobinsn BALENCIAGA You do...\n",
      "Name: Data, dtype: object\n",
      "Top 5 closest vectors:  [ 109  989 2361 1357 2648]\n",
      "Actual Data:  109     sunnydayzsoon StackieRobinsn BALENCIAGA You do...\n",
      "989                     Balenciaga WTF ARE YOU GUYS DOING\n",
      "2361    removed FS USA KAPITAL BALENCIAGA BOUND STUSSY...\n",
      "1357    KimKardashian Umm your family is worth billion...\n",
      "2648             Balenciaga X Crocs Wellington Boots Pink\n",
      "Name: Data, dtype: object\n"
     ]
    }
   ],
   "source": [
    "# Load the X_code from the file\n",
    "# X_code = np.load(\"pq_code.npy\")\n",
    "\n",
    "# Test Query with asymmetric distance\n",
    "# query = \"I am not happy with the product LV\"\n",
    "# query_vec = vectorizer.transform([query]).toarray()\n",
    "# # Get query vector to be of same dimension as the vectors in the dataset\n",
    "# query_vec = np.pad(query_vec, (0, 1), 'constant', constant_values=(0, 0))\n",
    "query = X_test[4]\n",
    "query_vec = np.array(query, dtype=np.float32)\n",
    "\n",
    "print(\"Query Vector: \", query_vec, query_vec.shape)\n",
    "print(\"Query Data: \", df['Data'][df['Vector'].apply(lambda x: np.array_equal(x, query_vec))])\n",
    "\n",
    "\n",
    "# Compute the distance between the query and the vectors\n",
    "distance_table = pq.dtable(query_vec)\n",
    "dists = distance_table.adist(codes=X_code)\n",
    "\n",
    "# Get the top 5 closest vectors\n",
    "top5 = np.argsort(dists)[:5]\n",
    "print(\"Top 5 closest vectors: \", top5)\n",
    "print(\"Actual Data: \", df['Data'][top5])\n",
    "\n"
   ]
  }
 ],
 "metadata": {
  "kernelspec": {
   "display_name": "Python 3",
   "language": "python",
   "name": "python3"
  },
  "language_info": {
   "codemirror_mode": {
    "name": "ipython",
    "version": 3
   },
   "file_extension": ".py",
   "mimetype": "text/x-python",
   "name": "python",
   "nbconvert_exporter": "python",
   "pygments_lexer": "ipython3",
   "version": "3.11.4"
  },
  "orig_nbformat": 4
 },
 "nbformat": 4,
 "nbformat_minor": 2
}
