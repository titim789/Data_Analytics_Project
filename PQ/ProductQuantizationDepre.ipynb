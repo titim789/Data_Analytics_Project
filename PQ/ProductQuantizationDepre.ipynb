{
 "cells": [
  {
   "cell_type": "markdown",
   "metadata": {},
   "source": [
    "Product Quantization"
   ]
  },
  {
   "cell_type": "code",
   "execution_count": 1,
   "metadata": {},
   "outputs": [],
   "source": [
    "# Load Libraries\n",
    "\n",
    "import pandas as pd\n",
    "from sklearn.feature_extraction.text import CountVectorizer\n",
    "from sklearn.cluster import KMeans\n",
    "from sklearn.neighbors import NearestNeighbors\n",
    "from sklearn.preprocessing import normalize\n",
    "import numpy as np"
   ]
  },
  {
   "cell_type": "code",
   "execution_count": 2,
   "metadata": {},
   "outputs": [
    {
     "data": {
      "text/html": [
       "<div>\n",
       "<style scoped>\n",
       "    .dataframe tbody tr th:only-of-type {\n",
       "        vertical-align: middle;\n",
       "    }\n",
       "\n",
       "    .dataframe tbody tr th {\n",
       "        vertical-align: top;\n",
       "    }\n",
       "\n",
       "    .dataframe thead th {\n",
       "        text-align: right;\n",
       "    }\n",
       "</style>\n",
       "<table border=\"1\" class=\"dataframe\">\n",
       "  <thead>\n",
       "    <tr style=\"text-align: right;\">\n",
       "      <th></th>\n",
       "      <th>Polarity</th>\n",
       "      <th>Data</th>\n",
       "    </tr>\n",
       "  </thead>\n",
       "  <tbody>\n",
       "    <tr>\n",
       "      <th>0</th>\n",
       "      <td>4</td>\n",
       "      <td>__TiffanyAndCo Cousinnnn the return coming soon</td>\n",
       "    </tr>\n",
       "    <tr>\n",
       "      <th>1</th>\n",
       "      <td>4</td>\n",
       "      <td>at the balenciaga thinking about my friends fa...</td>\n",
       "    </tr>\n",
       "    <tr>\n",
       "      <th>2</th>\n",
       "      <td>0</td>\n",
       "      <td>TiffanyAndCo bracelet I bought in Milan in Oct...</td>\n",
       "    </tr>\n",
       "    <tr>\n",
       "      <th>3</th>\n",
       "      <td>2</td>\n",
       "      <td>QueenMoniB personifier channel_gibbs eccentric...</td>\n",
       "    </tr>\n",
       "    <tr>\n",
       "      <th>4</th>\n",
       "      <td>4</td>\n",
       "      <td>Pup_Dior_ Happy Valentines Day  You are so gor...</td>\n",
       "    </tr>\n",
       "  </tbody>\n",
       "</table>\n",
       "</div>"
      ],
      "text/plain": [
       "   Polarity                                               Data\n",
       "0         4   __TiffanyAndCo Cousinnnn the return coming soon \n",
       "1         4  at the balenciaga thinking about my friends fa...\n",
       "2         0  TiffanyAndCo bracelet I bought in Milan in Oct...\n",
       "3         2  QueenMoniB personifier channel_gibbs eccentric...\n",
       "4         4  Pup_Dior_ Happy Valentines Day  You are so gor..."
      ]
     },
     "execution_count": 2,
     "metadata": {},
     "output_type": "execute_result"
    }
   ],
   "source": [
    "# Data Exploration \n",
    "\n",
    "df = pd.read_csv('Polarity.csv')\n",
    "df.head()"
   ]
  },
  {
   "cell_type": "code",
   "execution_count": 3,
   "metadata": {},
   "outputs": [
    {
     "data": {
      "text/html": [
       "<div>\n",
       "<style scoped>\n",
       "    .dataframe tbody tr th:only-of-type {\n",
       "        vertical-align: middle;\n",
       "    }\n",
       "\n",
       "    .dataframe tbody tr th {\n",
       "        vertical-align: top;\n",
       "    }\n",
       "\n",
       "    .dataframe thead th {\n",
       "        text-align: right;\n",
       "    }\n",
       "</style>\n",
       "<table border=\"1\" class=\"dataframe\">\n",
       "  <thead>\n",
       "    <tr style=\"text-align: right;\">\n",
       "      <th></th>\n",
       "      <th>Polarity</th>\n",
       "      <th>Data</th>\n",
       "    </tr>\n",
       "  </thead>\n",
       "  <tbody>\n",
       "    <tr>\n",
       "      <th>0</th>\n",
       "      <td>4</td>\n",
       "      <td>__TiffanyAndCo Cousinnnn return coming soon</td>\n",
       "    </tr>\n",
       "    <tr>\n",
       "      <th>1</th>\n",
       "      <td>4</td>\n",
       "      <td>balenciaga thinking friends family guy good ti...</td>\n",
       "    </tr>\n",
       "    <tr>\n",
       "      <th>2</th>\n",
       "      <td>0</td>\n",
       "      <td>TiffanyAndCo bracelet I bought Milan Oct sent ...</td>\n",
       "    </tr>\n",
       "    <tr>\n",
       "      <th>3</th>\n",
       "      <td>2</td>\n",
       "      <td>QueenMoniB personifier channel_gibbs eccentric...</td>\n",
       "    </tr>\n",
       "    <tr>\n",
       "      <th>4</th>\n",
       "      <td>4</td>\n",
       "      <td>Pup_Dior_ Happy Valentines Day You gorgeous</td>\n",
       "    </tr>\n",
       "  </tbody>\n",
       "</table>\n",
       "</div>"
      ],
      "text/plain": [
       "   Polarity                                               Data\n",
       "0         4        __TiffanyAndCo Cousinnnn return coming soon\n",
       "1         4  balenciaga thinking friends family guy good ti...\n",
       "2         0  TiffanyAndCo bracelet I bought Milan Oct sent ...\n",
       "3         2  QueenMoniB personifier channel_gibbs eccentric...\n",
       "4         4        Pup_Dior_ Happy Valentines Day You gorgeous"
      ]
     },
     "execution_count": 3,
     "metadata": {},
     "output_type": "execute_result"
    }
   ],
   "source": [
    "# Data Cleaning\n",
    "import pandas as pd\n",
    "import re\n",
    "import nltk\n",
    "from nltk.corpus import stopwords\n",
    "\n",
    "# Tokenize and clean up\n",
    "def tokenize_and_clean(text):\n",
    "    # Tokenize by sentence, then by lowercase word\n",
    "    tokens = [word.lower() for sent in nltk.sent_tokenize(text) for word in nltk.word_tokenize(sent)]\n",
    "    # Remove stopwords\n",
    "    stop = stopwords.words('english')\n",
    "    tokens = [token for token in tokens if token not in stop]\n",
    "    # Remove words less than three letters\n",
    "    tokens = [word for word in tokens if len(word) >= 3]\n",
    "    # Remove remaining tokens that are not alphabetic\n",
    "    tokens = [word for word in tokens if word.isalpha()]\n",
    "    return tokens\n",
    "\n",
    "\n",
    "df = pd.read_csv('Polarity.csv')\n",
    "df.head()\n",
    "\n",
    "# Apply tokenize_and_clean to Polarity DataFrame\n",
    "# df['Tokens'] = df['Data'].map(tokenize_and_clean)\n",
    "\n",
    "# Apply stopwords removal to Polarity DataFrame\n",
    "stop = stopwords.words('english')\n",
    "df['Data'] = df['Data'].apply(lambda x: ' '.join([word for word in x.split() if word not in (stop)]))\n",
    "\n",
    "df.head()\n"
   ]
  },
  {
   "cell_type": "code",
   "execution_count": 4,
   "metadata": {},
   "outputs": [
    {
     "data": {
      "text/plain": [
       "(4300, 32159)"
      ]
     },
     "execution_count": 4,
     "metadata": {},
     "output_type": "execute_result"
    }
   ],
   "source": [
    "# Converting the text data into vectors using CountVectorizer\n",
    "vectorizer = CountVectorizer()\n",
    "X = vectorizer.fit_transform(df['Data'])\n",
    "\n",
    "# Show the shape of the vectorized data\n",
    "X.shape"
   ]
  },
  {
   "cell_type": "code",
   "execution_count": 5,
   "metadata": {},
   "outputs": [
    {
     "name": "stdout",
     "output_type": "stream",
     "text": [
      "Subvector indices shape: (8, 4300)\n"
     ]
    },
    {
     "data": {
      "text/plain": [
       "[array([ 0, 37,  0, ...,  0,  0,  0]),\n",
       " array([ 6,  6,  6, ...,  6,  6, 43]),\n",
       " array([24, 24, 24, ..., 24, 24, 24]),\n",
       " array([0, 0, 0, ..., 0, 0, 0]),\n",
       " array([ 0,  0,  0, ...,  0,  0, 50]),\n",
       " array([0, 0, 0, ..., 0, 0, 0]),\n",
       " array([0, 0, 0, ..., 0, 0, 0]),\n",
       " array([ 8,  8,  8, ...,  8, 44,  8])]"
      ]
     },
     "execution_count": 5,
     "metadata": {},
     "output_type": "execute_result"
    }
   ],
   "source": [
    "# Split the matrix of numerical features into subvectors using product quantization\n",
    "n_subvectors = 8\n",
    "subvector_size = X.shape[1] // n_subvectors\n",
    "subvectors = np.array([X[:, i*subvector_size:(i+1)*subvector_size].toarray() for i in range(n_subvectors)])\n",
    "\n",
    "# Train a k-means clustering model on each subvector to obtain a codebook of subvector centroids\n",
    "n_clusters =64\n",
    "codebooks = []\n",
    "for subvector in subvectors:\n",
    "    kmeans = KMeans(n_clusters=n_clusters, n_init=1, random_state=0).fit(subvector)\n",
    "    codebooks.append(kmeans.cluster_centers_)\n",
    "\n",
    "# Encode each subvector using the corresponding codebook to obtain a vector of subvector indices\n",
    "subvector_indices = []\n",
    "for i, subvector in enumerate(subvectors):\n",
    "    nn = NearestNeighbors(n_neighbors=1, algorithm='brute', metric='euclidean').fit(codebooks[i])\n",
    "    _, indices = nn.kneighbors(subvector)\n",
    "    subvector_indices.append(indices.flatten())\n",
    "\n",
    "print('Subvector indices shape:', np.array(subvector_indices).shape)\n",
    "# show the values of the subvector indices\n",
    "subvector_indices"
   ]
  },
  {
   "cell_type": "code",
   "execution_count": 6,
   "metadata": {},
   "outputs": [
    {
     "name": "stdout",
     "output_type": "stream",
     "text": [
      "Encoded Vector Code Size: (4300, 8)\n"
     ]
    },
    {
     "data": {
      "text/plain": [
       "array([[ 0, 37,  0, ...,  0, 37,  0],\n",
       "       [ 0, 37,  0, ...,  0,  0,  0],\n",
       "       [37,  0,  0, ...,  0,  0,  0],\n",
       "       ...,\n",
       "       [ 8,  8,  8, ...,  8,  8,  8],\n",
       "       [ 8,  8, 44, ...,  8,  8, 44],\n",
       "       [ 8,  8,  8, ...,  8, 44,  8]])"
      ]
     },
     "execution_count": 6,
     "metadata": {},
     "output_type": "execute_result"
    }
   ],
   "source": [
    "# Concatenate the subvector indices to obtain the final product quantization code for each document\n",
    "pq_codes = np.concatenate(subvector_indices, axis=0).reshape(-1, n_subvectors)\n",
    "print(\"Encoded Vector Code Size:\", pq_codes.shape)\n",
    "pq_codes"
   ]
  },
  {
   "cell_type": "code",
   "execution_count": 7,
   "metadata": {},
   "outputs": [
    {
     "name": "stdout",
     "output_type": "stream",
     "text": [
      "Normalized Encoded Vector Code Shape: (4300, 8)\n"
     ]
    },
    {
     "data": {
      "text/plain": [
       "array([[ 0, 37,  0, ...,  0, 37,  0],\n",
       "       [ 0, 37,  0, ...,  0,  0,  0],\n",
       "       [37,  0,  0, ...,  0,  0,  0],\n",
       "       ...,\n",
       "       [ 8,  8,  8, ...,  8,  8,  8],\n",
       "       [ 8,  8, 44, ...,  8,  8, 44],\n",
       "       [ 8,  8,  8, ...,  8, 44,  8]])"
      ]
     },
     "execution_count": 7,
     "metadata": {},
     "output_type": "execute_result"
    }
   ],
   "source": [
    "# Normalize the product quantization codes to unit length\n",
    "pq_codes_norm = normalize(pq_codes)\n",
    "\n",
    "# print the shape of the normalized codes\n",
    "print(\"Normalized Encoded Vector Code Shape:\", pq_codes_norm.shape)\n",
    "pq_codes"
   ]
  },
  {
   "cell_type": "code",
   "execution_count": 8,
   "metadata": {},
   "outputs": [],
   "source": [
    "# Save the product quantization codes to a file\n",
    "np.savetxt('pq_codes.txt', pq_codes, fmt='%.8f')\n",
    "\n"
   ]
  },
  {
   "cell_type": "code",
   "execution_count": 9,
   "metadata": {},
   "outputs": [
    {
     "name": "stdout",
     "output_type": "stream",
     "text": [
      "Query Text: Unique D Sculpture Size xxin sale miamiartbasel artcollector luxuryhomes artgallery popart popartist gardaniart artdealers interiordesign artlovers chanel hpmkt singulart hermes instaart instadaily dailyart luxury\n",
      "Top 5 similar texts to the query from the dataset:\n",
      "Just context I high school well senior I junior I knew wealthy wear Rolex school wealthy I told cool watch I liked I Not much discussion saying something cool I spotted Discussion Saw something cool today One friends high school wearing Rolex Explorer II black dial\n",
      "=====================================\n",
      "tamachan_ BLACKPINK TiffanyAndCo This huge ROSÉ 로제 TIFFANYXROSÉ TIFFANYANDCO\n",
      "=====================================\n",
      "darrengrimes_ What name Hermes Aphrodites child\n",
      "=====================================\n",
      "Check listing I added Poshmark closet Polo Ralph Lauren striped lace back piece shopmycloset poshmarkapp\n",
      "=====================================\n"
     ]
    }
   ],
   "source": [
    "# Create a NearestNeighbors object with PQ codes\n",
    "nbrs = NearestNeighbors(n_neighbors=5, algorithm='brute', metric='euclidean')\n",
    "nbrs.fit(pq_codes_norm)\n",
    "\n",
    "# Query for similar vectors\n",
    "query_vector = np.random.rand(pq_codes.shape[1])\n",
    "distances, indices = nbrs.kneighbors([query_vector])\n",
    "\n",
    "# Print the Query and top 5 similar vectors to the query from the dataset\n",
    "# print(\"Query Vector:\", query_vector)\n",
    "print(\"Query Text:\", df['Data'][indices[0][0]])\n",
    "# print(\"Top 5 similar vectors to the query from the dataset:\", indices[0][1:])\n",
    "print(\"Top 5 similar texts to the query from the dataset:\")\n",
    "for i in indices[0][1:]:\n",
    "    print(df['Data'][i])\n",
    "    print(\"=====================================\")\n",
    "    \n",
    "    "
   ]
  },
  {
   "cell_type": "code",
   "execution_count": null,
   "metadata": {},
   "outputs": [],
   "source": []
  }
 ],
 "metadata": {
  "kernelspec": {
   "display_name": "Python 3",
   "language": "python",
   "name": "python3"
  },
  "language_info": {
   "codemirror_mode": {
    "name": "ipython",
    "version": 3
   },
   "file_extension": ".py",
   "mimetype": "text/x-python",
   "name": "python",
   "nbconvert_exporter": "python",
   "pygments_lexer": "ipython3",
   "version": "3.11.4"
  },
  "orig_nbformat": 4
 },
 "nbformat": 4,
 "nbformat_minor": 2
}
