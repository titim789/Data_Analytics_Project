{
 "cells": [
  {
   "cell_type": "code",
   "execution_count": 2,
   "metadata": {
    "id": "6MJShG6iX6Q6"
   },
   "outputs": [
    {
     "name": "stderr",
     "output_type": "stream",
     "text": [
      "d:\\UsefulSoftware\\Anaconda\\lib\\site-packages\\scipy\\__init__.py:155: UserWarning: A NumPy version >=1.18.5 and <1.25.0 is required for this version of SciPy (detected version 1.25.0\n",
      "  warnings.warn(f\"A NumPy version >={np_minversion} and <{np_maxversion}\"\n"
     ]
    }
   ],
   "source": [
    "import nltk\n",
    "import numpy as np\n",
    "import pandas as pd\n",
    "import time"
   ]
  },
  {
   "cell_type": "code",
   "execution_count": 2,
   "metadata": {},
   "outputs": [
    {
     "data": {
      "text/html": [
       "<div>\n",
       "<style scoped>\n",
       "    .dataframe tbody tr th:only-of-type {\n",
       "        vertical-align: middle;\n",
       "    }\n",
       "\n",
       "    .dataframe tbody tr th {\n",
       "        vertical-align: top;\n",
       "    }\n",
       "\n",
       "    .dataframe thead th {\n",
       "        text-align: right;\n",
       "    }\n",
       "</style>\n",
       "<table border=\"1\" class=\"dataframe\">\n",
       "  <thead>\n",
       "    <tr style=\"text-align: right;\">\n",
       "      <th></th>\n",
       "      <th>Data</th>\n",
       "      <th>Vector</th>\n",
       "    </tr>\n",
       "  </thead>\n",
       "  <tbody>\n",
       "    <tr>\n",
       "      <th>0</th>\n",
       "      <td>Licensed Insurance Agent While many industries...</td>\n",
       "      <td>[2, 0, 0, 0, 0, 0, 0, 0, 0, 0, 0, 0, 0, 0, 0, ...</td>\n",
       "    </tr>\n",
       "    <tr>\n",
       "      <th>1</th>\n",
       "      <td>Sales Manager Are dynamic creative marketing p...</td>\n",
       "      <td>[0, 0, 0, 0, 0, 0, 0, 0, 0, 0, 0, 0, 0, 0, 0, ...</td>\n",
       "    </tr>\n",
       "    <tr>\n",
       "      <th>2</th>\n",
       "      <td>Model Risk Auditor Join Us Model Risk Auditor ...</td>\n",
       "      <td>[0, 0, 0, 0, 0, 0, 0, 0, 0, 0, 0, 0, 0, 0, 0, ...</td>\n",
       "    </tr>\n",
       "    <tr>\n",
       "      <th>3</th>\n",
       "      <td>Business Manager Business ManagerFirst Baptist...</td>\n",
       "      <td>[0, 0, 0, 0, 0, 0, 0, 0, 0, 0, 0, 0, 0, 0, 0, ...</td>\n",
       "    </tr>\n",
       "    <tr>\n",
       "      <th>4</th>\n",
       "      <td>NY Studio Assistant YOU COULD BE ONE OF THE MA...</td>\n",
       "      <td>[0, 0, 0, 0, 0, 0, 0, 0, 0, 0, 0, 0, 0, 0, 0, ...</td>\n",
       "    </tr>\n",
       "  </tbody>\n",
       "</table>\n",
       "</div>"
      ],
      "text/plain": [
       "                                                Data  \\\n",
       "0  Licensed Insurance Agent While many industries...   \n",
       "1  Sales Manager Are dynamic creative marketing p...   \n",
       "2  Model Risk Auditor Join Us Model Risk Auditor ...   \n",
       "3  Business Manager Business ManagerFirst Baptist...   \n",
       "4  NY Studio Assistant YOU COULD BE ONE OF THE MA...   \n",
       "\n",
       "                                              Vector  \n",
       "0  [2, 0, 0, 0, 0, 0, 0, 0, 0, 0, 0, 0, 0, 0, 0, ...  \n",
       "1  [0, 0, 0, 0, 0, 0, 0, 0, 0, 0, 0, 0, 0, 0, 0, ...  \n",
       "2  [0, 0, 0, 0, 0, 0, 0, 0, 0, 0, 0, 0, 0, 0, 0, ...  \n",
       "3  [0, 0, 0, 0, 0, 0, 0, 0, 0, 0, 0, 0, 0, 0, 0, ...  \n",
       "4  [0, 0, 0, 0, 0, 0, 0, 0, 0, 0, 0, 0, 0, 0, 0, ...  "
      ]
     },
     "execution_count": 2,
     "metadata": {},
     "output_type": "execute_result"
    }
   ],
   "source": [
    "df = pd.read_json(\"job_postings_prepped.json\")\n",
    "df.head()"
   ]
  },
  {
   "cell_type": "code",
   "execution_count": 45,
   "metadata": {},
   "outputs": [
    {
     "name": "stdout",
     "output_type": "stream",
     "text": [
      "Memory usage of the DataFrame: 13.41672064177692 GB\n"
     ]
    }
   ],
   "source": [
    "memory_usage = df.memory_usage(deep=True).sum()\n",
    "print(f\"Memory usage of the DataFrame: {memory_usage/1024/1024/1024} GB\")"
   ]
  },
  {
   "cell_type": "markdown",
   "metadata": {},
   "source": [
    "### Import the files from pre-processing"
   ]
  },
  {
   "cell_type": "code",
   "execution_count": 1,
   "metadata": {},
   "outputs": [],
   "source": [
    "import json\n",
    "with open('inverted_index_processed.json', 'r') as file:\n",
    "    inverted_index_processed = json.load(file)\n",
    "\n",
    "with open('tokenized_nostopw_corpus.json', 'r') as file:\n",
    "    tokenized_nostopw_corpus = json.load(file)"
   ]
  },
  {
   "cell_type": "code",
   "execution_count": 51,
   "metadata": {},
   "outputs": [
    {
     "name": "stdout",
     "output_type": "stream",
     "text": [
      "Memory usage of the dictionary: 10.000091552734375 MB\n"
     ]
    }
   ],
   "source": [
    "import sys\n",
    "\n",
    "memory_usage = sys.getsizeof(inverted_index_processed)\n",
    "print(f\"Memory usage of the dictionary: {memory_usage/1024/1024} MB\")"
   ]
  },
  {
   "cell_type": "code",
   "execution_count": 5,
   "metadata": {},
   "outputs": [],
   "source": [
    "def printKeys(obj, number):\n",
    "    if isinstance(obj, list):\n",
    "        for row in obj[:3]:\n",
    "            print(row)\n",
    "    else:\n",
    "        first_3_keys = list(obj.keys())[:number]\n",
    "        print(first_3_keys)"
   ]
  },
  {
   "cell_type": "code",
   "execution_count": 6,
   "metadata": {},
   "outputs": [
    {
     "name": "stdout",
     "output_type": "stream",
     "text": [
      "['licensed', 'insurance', 'agent']\n"
     ]
    }
   ],
   "source": [
    "printKeys(inverted_index_processed, 3)"
   ]
  },
  {
   "cell_type": "markdown",
   "metadata": {
    "id": "qQ34LjEwlYqH"
   },
   "source": [
    "### Similarity Search"
   ]
  },
  {
   "cell_type": "code",
   "execution_count": 3,
   "metadata": {
    "id": "IcNNdUFelRcD"
   },
   "outputs": [],
   "source": [
    "from nltk.corpus import wordnet as wn\n",
    "from nltk.tokenize import word_tokenize\n",
    "\n",
    "# define a function to calculate semantic similarity between two words using WordNet\n",
    "def calculate_similarity(word1, word2):\n",
    "    synsets1 = wn.synsets(word1)\n",
    "    synsets2 = wn.synsets(word2)\n",
    "    if not synsets1 or not synsets2:\n",
    "        return 0.0\n",
    "    max_sim = -1\n",
    "    for synset1 in synsets1:\n",
    "        for synset2 in synsets2:\n",
    "            sim = wn.path_similarity(synset1, synset2)\n",
    "            if sim is not None and sim > max_sim:\n",
    "                max_sim = sim\n",
    "    return max_sim\n",
    "    \n",
    "# define a function to perform semantic matching of a query against a document\n",
    "def semantic_matching(query):\n",
    "    documents = inverted_index_processed\n",
    "\n",
    "    scores = []\n",
    "\n",
    "    query_tokens = word_tokenize(query)\n",
    "\n",
    "    for document in documents:\n",
    "        doc_tokens = word_tokenize(document)\n",
    "        similarity_score = 0.0\n",
    "        for query_token in query_tokens:\n",
    "            max_sim = -1\n",
    "            for doc_token in doc_tokens:\n",
    "                # sim = calculate_similarity(query_token, doc_token)\n",
    "                sim = calculate_similarity_word2vec(query_token, doc_token)\n",
    "                if sim > max_sim:\n",
    "                    max_sim = sim\n",
    "            similarity_score += max_sim\n",
    "        scores.append((document, similarity_score / len(query_tokens)))\n",
    "    return scores"
   ]
  },
  {
   "cell_type": "markdown",
   "metadata": {},
   "source": [
    "### Calculate the accuracy for the first query"
   ]
  },
  {
   "cell_type": "code",
   "execution_count": 9,
   "metadata": {},
   "outputs": [],
   "source": [
    "with open('rst.json', 'r') as file:\n",
    "    rst = json.load(file)"
   ]
  },
  {
   "cell_type": "code",
   "execution_count": 10,
   "metadata": {},
   "outputs": [
    {
     "name": "stdout",
     "output_type": "stream",
     "text": [
      "['licensed', 0.1898148148148148]\n",
      "['insurance', 0.14814814814814814]\n",
      "['agent', 0.15925925925925927]\n"
     ]
    }
   ],
   "source": [
    "printKeys(rst, 3)"
   ]
  },
  {
   "cell_type": "code",
   "execution_count": 13,
   "metadata": {
    "scrolled": true
   },
   "outputs": [],
   "source": [
    "tokenized_nostopw_corpus_lower = [[item.lower() for item in inner_list] for inner_list in tokenized_nostopw_corpus]"
   ]
  },
  {
   "cell_type": "code",
   "execution_count": 14,
   "metadata": {},
   "outputs": [
    {
     "data": {
      "text/html": [
       "<div>\n",
       "<style scoped>\n",
       "    .dataframe tbody tr th:only-of-type {\n",
       "        vertical-align: middle;\n",
       "    }\n",
       "\n",
       "    .dataframe tbody tr th {\n",
       "        vertical-align: top;\n",
       "    }\n",
       "\n",
       "    .dataframe thead th {\n",
       "        text-align: right;\n",
       "    }\n",
       "</style>\n",
       "<table border=\"1\" class=\"dataframe\">\n",
       "  <thead>\n",
       "    <tr style=\"text-align: right;\">\n",
       "      <th></th>\n",
       "      <th>Keyword</th>\n",
       "      <th>Score</th>\n",
       "    </tr>\n",
       "  </thead>\n",
       "  <tbody>\n",
       "    <tr>\n",
       "      <th>0</th>\n",
       "      <td>licensed</td>\n",
       "      <td>0.189815</td>\n",
       "    </tr>\n",
       "    <tr>\n",
       "      <th>1</th>\n",
       "      <td>insurance</td>\n",
       "      <td>0.148148</td>\n",
       "    </tr>\n",
       "    <tr>\n",
       "      <th>2</th>\n",
       "      <td>agent</td>\n",
       "      <td>0.159259</td>\n",
       "    </tr>\n",
       "    <tr>\n",
       "      <th>3</th>\n",
       "      <td>while</td>\n",
       "      <td>0.098148</td>\n",
       "    </tr>\n",
       "    <tr>\n",
       "      <th>4</th>\n",
       "      <td>many</td>\n",
       "      <td>0.189815</td>\n",
       "    </tr>\n",
       "    <tr>\n",
       "      <th>...</th>\n",
       "      <td>...</td>\n",
       "      <td>...</td>\n",
       "    </tr>\n",
       "    <tr>\n",
       "      <th>184714</th>\n",
       "      <td>process.actively</td>\n",
       "      <td>0.000000</td>\n",
       "    </tr>\n",
       "    <tr>\n",
       "      <th>184715</th>\n",
       "      <td>meetingsdevelopment</td>\n",
       "      <td>0.000000</td>\n",
       "    </tr>\n",
       "    <tr>\n",
       "      <th>184716</th>\n",
       "      <td>calendarswork</td>\n",
       "      <td>0.000000</td>\n",
       "    </tr>\n",
       "    <tr>\n",
       "      <th>184717</th>\n",
       "      <td>techniqueability</td>\n",
       "      <td>0.000000</td>\n",
       "    </tr>\n",
       "    <tr>\n",
       "      <th>184718</th>\n",
       "      <td>managershave</td>\n",
       "      <td>0.000000</td>\n",
       "    </tr>\n",
       "  </tbody>\n",
       "</table>\n",
       "<p>184719 rows × 2 columns</p>\n",
       "</div>"
      ],
      "text/plain": [
       "                    Keyword     Score\n",
       "0                  licensed  0.189815\n",
       "1                 insurance  0.148148\n",
       "2                     agent  0.159259\n",
       "3                     while  0.098148\n",
       "4                      many  0.189815\n",
       "...                     ...       ...\n",
       "184714     process.actively  0.000000\n",
       "184715  meetingsdevelopment  0.000000\n",
       "184716        calendarswork  0.000000\n",
       "184717     techniqueability  0.000000\n",
       "184718         managershave  0.000000\n",
       "\n",
       "[184719 rows x 2 columns]"
      ]
     },
     "execution_count": 14,
     "metadata": {},
     "output_type": "execute_result"
    }
   ],
   "source": [
    "# df['value'] = 0\n",
    "# test_df = df.copy()\n",
    "rst_dict = {keyword.lower(): score for keyword, score in rst}\n",
    "df_keywords_with_scores = pd.DataFrame(list(rst_dict.items()), columns=['Keyword', 'Score'])\n",
    "df_keywords_with_scores"
   ]
  },
  {
   "cell_type": "code",
   "execution_count": 15,
   "metadata": {},
   "outputs": [
    {
     "data": {
      "text/html": [
       "<div>\n",
       "<style scoped>\n",
       "    .dataframe tbody tr th:only-of-type {\n",
       "        vertical-align: middle;\n",
       "    }\n",
       "\n",
       "    .dataframe tbody tr th {\n",
       "        vertical-align: top;\n",
       "    }\n",
       "\n",
       "    .dataframe thead th {\n",
       "        text-align: right;\n",
       "    }\n",
       "</style>\n",
       "<table border=\"1\" class=\"dataframe\">\n",
       "  <thead>\n",
       "    <tr style=\"text-align: right;\">\n",
       "      <th></th>\n",
       "      <th>Data</th>\n",
       "      <th>Total Score</th>\n",
       "    </tr>\n",
       "  </thead>\n",
       "  <tbody>\n",
       "    <tr>\n",
       "      <th>0</th>\n",
       "      <td>[licensed, insurance, agent, while, many, indu...</td>\n",
       "      <td>24.596086</td>\n",
       "    </tr>\n",
       "    <tr>\n",
       "      <th>1</th>\n",
       "      <td>[sales, manager, are, dynamic, creative, marke...</td>\n",
       "      <td>31.483183</td>\n",
       "    </tr>\n",
       "    <tr>\n",
       "      <th>2</th>\n",
       "      <td>[model, risk, auditor, join, us, model, risk, ...</td>\n",
       "      <td>23.539180</td>\n",
       "    </tr>\n",
       "    <tr>\n",
       "      <th>3</th>\n",
       "      <td>[business, manager, business, managerfirst, ba...</td>\n",
       "      <td>25.918365</td>\n",
       "    </tr>\n",
       "    <tr>\n",
       "      <th>4</th>\n",
       "      <td>[ny, studio, assistant, you, could, be, one, o...</td>\n",
       "      <td>26.237192</td>\n",
       "    </tr>\n",
       "    <tr>\n",
       "      <th>...</th>\n",
       "      <td>...</td>\n",
       "      <td>...</td>\n",
       "    </tr>\n",
       "    <tr>\n",
       "      <th>15880</th>\n",
       "      <td>[sanitation, technician, location, :, west, co...</td>\n",
       "      <td>31.474300</td>\n",
       "    </tr>\n",
       "    <tr>\n",
       "      <th>15881</th>\n",
       "      <td>[unit, secretary, job, title, :, unit, secreta...</td>\n",
       "      <td>15.796584</td>\n",
       "    </tr>\n",
       "    <tr>\n",
       "      <th>15882</th>\n",
       "      <td>[radiology, aide, ,, perdiem, job, title, :, r...</td>\n",
       "      <td>25.806056</td>\n",
       "    </tr>\n",
       "    <tr>\n",
       "      <th>15883</th>\n",
       "      <td>[mri, manager, grade, 105, job, type, :, offic...</td>\n",
       "      <td>48.425984</td>\n",
       "    </tr>\n",
       "    <tr>\n",
       "      <th>15884</th>\n",
       "      <td>[area, director, business, development, nexion...</td>\n",
       "      <td>23.073896</td>\n",
       "    </tr>\n",
       "  </tbody>\n",
       "</table>\n",
       "<p>15885 rows × 2 columns</p>\n",
       "</div>"
      ],
      "text/plain": [
       "                                                    Data  Total Score\n",
       "0      [licensed, insurance, agent, while, many, indu...    24.596086\n",
       "1      [sales, manager, are, dynamic, creative, marke...    31.483183\n",
       "2      [model, risk, auditor, join, us, model, risk, ...    23.539180\n",
       "3      [business, manager, business, managerfirst, ba...    25.918365\n",
       "4      [ny, studio, assistant, you, could, be, one, o...    26.237192\n",
       "...                                                  ...          ...\n",
       "15880  [sanitation, technician, location, :, west, co...    31.474300\n",
       "15881  [unit, secretary, job, title, :, unit, secreta...    15.796584\n",
       "15882  [radiology, aide, ,, perdiem, job, title, :, r...    25.806056\n",
       "15883  [mri, manager, grade, 105, job, type, :, offic...    48.425984\n",
       "15884  [area, director, business, development, nexion...    23.073896\n",
       "\n",
       "[15885 rows x 2 columns]"
      ]
     },
     "execution_count": 15,
     "metadata": {},
     "output_type": "execute_result"
    }
   ],
   "source": [
    "# Create a dictionary from keyword_scores for efficient lookup\n",
    "keyword_scores_dict = dict(zip(df_keywords_with_scores['Keyword'], df_keywords_with_scores['Score']))\n",
    "\n",
    "# Calculate the total score for each bracket\n",
    "total_scores = []\n",
    "for bracket in tokenized_nostopw_corpus_lower:\n",
    "    total_score = sum(keyword_scores_dict.get(word.lower(), 0) for word in bracket)\n",
    "    total_scores.append(total_score)\n",
    "\n",
    "# Create a new dataframe with brackets and total scores\n",
    "df_with_total_scores = pd.DataFrame({'Data': tokenized_nostopw_corpus_lower, 'Total Score': total_scores})\n",
    "# Sort the DataFrame by the \"Total Score\" column in ascending order\n",
    "# df_with_total_scores_sorted = df_with_total_scores.sort_values(by='Total Score', ascending=False)\n",
    "\n",
    "# Reset the index of the sorted DataFrame\n",
    "# df_with_total_scores_sorted.reset_index(drop=True, inplace=True)\n",
    "# df_with_total_scores_sorted\n",
    "df_with_total_scores"
   ]
  },
  {
   "cell_type": "code",
   "execution_count": 16,
   "metadata": {},
   "outputs": [
    {
     "data": {
      "text/html": [
       "<div>\n",
       "<style scoped>\n",
       "    .dataframe tbody tr th:only-of-type {\n",
       "        vertical-align: middle;\n",
       "    }\n",
       "\n",
       "    .dataframe tbody tr th {\n",
       "        vertical-align: top;\n",
       "    }\n",
       "\n",
       "    .dataframe thead th {\n",
       "        text-align: right;\n",
       "    }\n",
       "</style>\n",
       "<table border=\"1\" class=\"dataframe\">\n",
       "  <thead>\n",
       "    <tr style=\"text-align: right;\">\n",
       "      <th></th>\n",
       "      <th>Data</th>\n",
       "      <th>Total Score</th>\n",
       "    </tr>\n",
       "  </thead>\n",
       "  <tbody>\n",
       "    <tr>\n",
       "      <th>0</th>\n",
       "      <td>Communications Manager Please note, applicants...</td>\n",
       "      <td>227.778648</td>\n",
       "    </tr>\n",
       "    <tr>\n",
       "      <th>1</th>\n",
       "      <td>Research Assistant - PACT Study The Roskamp In...</td>\n",
       "      <td>211.381800</td>\n",
       "    </tr>\n",
       "    <tr>\n",
       "      <th>2</th>\n",
       "      <td>Registered Nurse 2 Discover Vanderbilt Univers...</td>\n",
       "      <td>203.682475</td>\n",
       "    </tr>\n",
       "    <tr>\n",
       "      <th>3</th>\n",
       "      <td>Eligibility Data Analyst # 3219 GRAIL healthca...</td>\n",
       "      <td>179.590307</td>\n",
       "    </tr>\n",
       "    <tr>\n",
       "      <th>4</th>\n",
       "      <td>IT Operations ServiceNow Admin Elastic free op...</td>\n",
       "      <td>171.259264</td>\n",
       "    </tr>\n",
       "    <tr>\n",
       "      <th>...</th>\n",
       "      <td>...</td>\n",
       "      <td>...</td>\n",
       "    </tr>\n",
       "    <tr>\n",
       "      <th>15879</th>\n",
       "      <td>Customer Success Manager, Woopra About AppierA...</td>\n",
       "      <td>0.237570</td>\n",
       "    </tr>\n",
       "    <tr>\n",
       "      <th>15880</th>\n",
       "      <td>Implementation Analyst (Hybrid, Libertyville I...</td>\n",
       "      <td>0.207126</td>\n",
       "    </tr>\n",
       "    <tr>\n",
       "      <th>15881</th>\n",
       "      <td>Salesforce Developer 𝐒𝐮𝐦𝐦𝐚𝐫𝐲 𝐨𝐟 𝐑𝐨𝐥𝐞 👤𝐑𝐨𝐥𝐞: 𝐒𝐚...</td>\n",
       "      <td>0.134007</td>\n",
       "    </tr>\n",
       "    <tr>\n",
       "      <th>15882</th>\n",
       "      <td>Staff Accountant II, Ops. Accounting Staff Acc...</td>\n",
       "      <td>0.000000</td>\n",
       "    </tr>\n",
       "    <tr>\n",
       "      <th>15883</th>\n",
       "      <td>National Maternal Mental Health Hotline Shift ...</td>\n",
       "      <td>0.000000</td>\n",
       "    </tr>\n",
       "  </tbody>\n",
       "</table>\n",
       "<p>15884 rows × 2 columns</p>\n",
       "</div>"
      ],
      "text/plain": [
       "                                                    Data  Total Score\n",
       "0      Communications Manager Please note, applicants...   227.778648\n",
       "1      Research Assistant - PACT Study The Roskamp In...   211.381800\n",
       "2      Registered Nurse 2 Discover Vanderbilt Univers...   203.682475\n",
       "3      Eligibility Data Analyst # 3219 GRAIL healthca...   179.590307\n",
       "4      IT Operations ServiceNow Admin Elastic free op...   171.259264\n",
       "...                                                  ...          ...\n",
       "15879  Customer Success Manager, Woopra About AppierA...     0.237570\n",
       "15880  Implementation Analyst (Hybrid, Libertyville I...     0.207126\n",
       "15881  Salesforce Developer 𝐒𝐮𝐦𝐦𝐚𝐫𝐲 𝐨𝐟 𝐑𝐨𝐥𝐞 👤𝐑𝐨𝐥𝐞: 𝐒𝐚...     0.134007\n",
       "15882  Staff Accountant II, Ops. Accounting Staff Acc...     0.000000\n",
       "15883  National Maternal Mental Health Hotline Shift ...     0.000000\n",
       "\n",
       "[15884 rows x 2 columns]"
      ]
     },
     "execution_count": 16,
     "metadata": {},
     "output_type": "execute_result"
    }
   ],
   "source": [
    "score = pd.DataFrame(df_with_total_scores['Total Score'])\n",
    "result = pd.concat([df['Data'], score], axis=1)\n",
    "result = result.dropna()\n",
    "# result\n",
    "result = result.sort_values(by='Total Score', ascending=False)\n",
    "resutl = result.reset_index(drop=True, inplace=True)\n",
    "result"
   ]
  },
  {
   "cell_type": "code",
   "execution_count": 17,
   "metadata": {
    "scrolled": true
   },
   "outputs": [],
   "source": [
    "# file_path = 'result.csv'\n",
    "# output_df = result[:49].reset_index()\n",
    "# output_df.to_csv(file_path, index=True)"
   ]
  },
  {
   "cell_type": "code",
   "execution_count": 23,
   "metadata": {},
   "outputs": [
    {
     "data": {
      "text/html": [
       "<div>\n",
       "<style scoped>\n",
       "    .dataframe tbody tr th:only-of-type {\n",
       "        vertical-align: middle;\n",
       "    }\n",
       "\n",
       "    .dataframe tbody tr th {\n",
       "        vertical-align: top;\n",
       "    }\n",
       "\n",
       "    .dataframe thead th {\n",
       "        text-align: right;\n",
       "    }\n",
       "</style>\n",
       "<table border=\"1\" class=\"dataframe\">\n",
       "  <thead>\n",
       "    <tr style=\"text-align: right;\">\n",
       "      <th></th>\n",
       "      <th>Unnamed: 0</th>\n",
       "      <th>Data</th>\n",
       "      <th>Vector</th>\n",
       "    </tr>\n",
       "  </thead>\n",
       "  <tbody>\n",
       "    <tr>\n",
       "      <th>0</th>\n",
       "      <td>1960</td>\n",
       "      <td>Investment Officer The County San Diego's Offi...</td>\n",
       "      <td>0.392322</td>\n",
       "    </tr>\n",
       "    <tr>\n",
       "      <th>1</th>\n",
       "      <td>13110</td>\n",
       "      <td>Investment Associate The Client: Was establish...</td>\n",
       "      <td>0.311891</td>\n",
       "    </tr>\n",
       "    <tr>\n",
       "      <th>2</th>\n",
       "      <td>13878</td>\n",
       "      <td>Investment Product Specialist Company Allsprin...</td>\n",
       "      <td>0.291462</td>\n",
       "    </tr>\n",
       "    <tr>\n",
       "      <th>3</th>\n",
       "      <td>13928</td>\n",
       "      <td>Investment Product Specialist Company Allsprin...</td>\n",
       "      <td>0.291462</td>\n",
       "    </tr>\n",
       "    <tr>\n",
       "      <th>4</th>\n",
       "      <td>14051</td>\n",
       "      <td>Investment Product Specialist Company Allsprin...</td>\n",
       "      <td>0.291462</td>\n",
       "    </tr>\n",
       "    <tr>\n",
       "      <th>...</th>\n",
       "      <td>...</td>\n",
       "      <td>...</td>\n",
       "      <td>...</td>\n",
       "    </tr>\n",
       "    <tr>\n",
       "      <th>15880</th>\n",
       "      <td>5409</td>\n",
       "      <td>Principal Software Developer When join Verizon...</td>\n",
       "      <td>0.000000</td>\n",
       "    </tr>\n",
       "    <tr>\n",
       "      <th>15881</th>\n",
       "      <td>5410</td>\n",
       "      <td>Retail Sales Associate When join Verizon Veriz...</td>\n",
       "      <td>0.000000</td>\n",
       "    </tr>\n",
       "    <tr>\n",
       "      <th>15882</th>\n",
       "      <td>5411</td>\n",
       "      <td>Territory Associate Job Responsibilities As Hi...</td>\n",
       "      <td>0.000000</td>\n",
       "    </tr>\n",
       "    <tr>\n",
       "      <th>15883</th>\n",
       "      <td>5412</td>\n",
       "      <td>Local Strategy &amp; Analytics Manager - Coastal P...</td>\n",
       "      <td>0.000000</td>\n",
       "    </tr>\n",
       "    <tr>\n",
       "      <th>15884</th>\n",
       "      <td>15884</td>\n",
       "      <td>Area Director Business Development Nexion Heal...</td>\n",
       "      <td>0.000000</td>\n",
       "    </tr>\n",
       "  </tbody>\n",
       "</table>\n",
       "<p>15885 rows × 3 columns</p>\n",
       "</div>"
      ],
      "text/plain": [
       "       Unnamed: 0                                               Data    Vector\n",
       "0            1960  Investment Officer The County San Diego's Offi...  0.392322\n",
       "1           13110  Investment Associate The Client: Was establish...  0.311891\n",
       "2           13878  Investment Product Specialist Company Allsprin...  0.291462\n",
       "3           13928  Investment Product Specialist Company Allsprin...  0.291462\n",
       "4           14051  Investment Product Specialist Company Allsprin...  0.291462\n",
       "...           ...                                                ...       ...\n",
       "15880        5409  Principal Software Developer When join Verizon...  0.000000\n",
       "15881        5410  Retail Sales Associate When join Verizon Veriz...  0.000000\n",
       "15882        5411  Territory Associate Job Responsibilities As Hi...  0.000000\n",
       "15883        5412  Local Strategy & Analytics Manager - Coastal P...  0.000000\n",
       "15884       15884  Area Director Business Development Nexion Heal...  0.000000\n",
       "\n",
       "[15885 rows x 3 columns]"
      ]
     },
     "execution_count": 23,
     "metadata": {},
     "output_type": "execute_result"
    }
   ],
   "source": [
    "base_result_df = pd.read_csv(\"resilient_investment_banker.csv\")\n",
    "base_result_df = base_result_df.sort_values(by='Vector', ascending=False)\n",
    "base_result_df = base_result_df.reset_index(drop=True, inplace=False)\n",
    "base_result_df"
   ]
  },
  {
   "cell_type": "code",
   "execution_count": 38,
   "metadata": {},
   "outputs": [
    {
     "name": "stdout",
     "output_type": "stream",
     "text": [
      "Accuracy: 0.01%\n"
     ]
    }
   ],
   "source": [
    "# Specify the column you want to compare\n",
    "column_to_compare = 'Data'\n",
    "cnt = 0\n",
    "\n",
    "# Iterate through the rows and compare the specified column\n",
    "for index, (row1, row2) in enumerate(zip(base_result_df[column_to_compare], result[column_to_compare])):\n",
    "    if row1 == row2:\n",
    "        cnt+=1\n",
    "print(\"Accuracy:\",str(round(((cnt/result.shape[0])*100),2))+\"%\")\n"
   ]
  },
  {
   "cell_type": "markdown",
   "metadata": {},
   "source": [
    "### Calculate the accuracy for the second query"
   ]
  },
  {
   "cell_type": "code",
   "execution_count": 61,
   "metadata": {},
   "outputs": [
    {
     "name": "stdout",
     "output_type": "stream",
     "text": [
      "Time for searching: 525.3357918262482\n"
     ]
    }
   ],
   "source": [
    "start_time = time.time()\n",
    "rst2 = semantic_matching('full time senior head nurse position')\n",
    "end_time = time.time()\n",
    "# full_time_senior_head_nurse_position\n",
    "rst_dict = {keyword.lower(): score for keyword, score in rst2}\n",
    "df_keywords_with_scores = pd.DataFrame(list(rst_dict.items()), columns=['Keyword', 'Score'])\n",
    "df_keywords_with_scores\n",
    "print(\"Time for searching:\", end_time-start_time)"
   ]
  },
  {
   "cell_type": "code",
   "execution_count": 32,
   "metadata": {},
   "outputs": [
    {
     "data": {
      "text/html": [
       "<div>\n",
       "<style scoped>\n",
       "    .dataframe tbody tr th:only-of-type {\n",
       "        vertical-align: middle;\n",
       "    }\n",
       "\n",
       "    .dataframe tbody tr th {\n",
       "        vertical-align: top;\n",
       "    }\n",
       "\n",
       "    .dataframe thead th {\n",
       "        text-align: right;\n",
       "    }\n",
       "</style>\n",
       "<table border=\"1\" class=\"dataframe\">\n",
       "  <thead>\n",
       "    <tr style=\"text-align: right;\">\n",
       "      <th></th>\n",
       "      <th>Data</th>\n",
       "      <th>Total Score</th>\n",
       "    </tr>\n",
       "  </thead>\n",
       "  <tbody>\n",
       "    <tr>\n",
       "      <th>0</th>\n",
       "      <td>[licensed, insurance, agent, while, many, indu...</td>\n",
       "      <td>34.927444</td>\n",
       "    </tr>\n",
       "    <tr>\n",
       "      <th>1</th>\n",
       "      <td>[sales, manager, are, dynamic, creative, marke...</td>\n",
       "      <td>43.723827</td>\n",
       "    </tr>\n",
       "    <tr>\n",
       "      <th>2</th>\n",
       "      <td>[model, risk, auditor, join, us, model, risk, ...</td>\n",
       "      <td>32.663630</td>\n",
       "    </tr>\n",
       "    <tr>\n",
       "      <th>3</th>\n",
       "      <td>[business, manager, business, managerfirst, ba...</td>\n",
       "      <td>35.830000</td>\n",
       "    </tr>\n",
       "    <tr>\n",
       "      <th>4</th>\n",
       "      <td>[ny, studio, assistant, you, could, be, one, o...</td>\n",
       "      <td>36.906629</td>\n",
       "    </tr>\n",
       "    <tr>\n",
       "      <th>...</th>\n",
       "      <td>...</td>\n",
       "      <td>...</td>\n",
       "    </tr>\n",
       "    <tr>\n",
       "      <th>15880</th>\n",
       "      <td>[sanitation, technician, location, :, west, co...</td>\n",
       "      <td>44.596450</td>\n",
       "    </tr>\n",
       "    <tr>\n",
       "      <th>15881</th>\n",
       "      <td>[unit, secretary, job, title, :, unit, secreta...</td>\n",
       "      <td>23.461754</td>\n",
       "    </tr>\n",
       "    <tr>\n",
       "      <th>15882</th>\n",
       "      <td>[radiology, aide, ,, perdiem, job, title, :, r...</td>\n",
       "      <td>36.547085</td>\n",
       "    </tr>\n",
       "    <tr>\n",
       "      <th>15883</th>\n",
       "      <td>[mri, manager, grade, 105, job, type, :, offic...</td>\n",
       "      <td>69.676239</td>\n",
       "    </tr>\n",
       "    <tr>\n",
       "      <th>15884</th>\n",
       "      <td>[area, director, business, development, nexion...</td>\n",
       "      <td>31.887794</td>\n",
       "    </tr>\n",
       "  </tbody>\n",
       "</table>\n",
       "<p>15885 rows × 2 columns</p>\n",
       "</div>"
      ],
      "text/plain": [
       "                                                    Data  Total Score\n",
       "0      [licensed, insurance, agent, while, many, indu...    34.927444\n",
       "1      [sales, manager, are, dynamic, creative, marke...    43.723827\n",
       "2      [model, risk, auditor, join, us, model, risk, ...    32.663630\n",
       "3      [business, manager, business, managerfirst, ba...    35.830000\n",
       "4      [ny, studio, assistant, you, could, be, one, o...    36.906629\n",
       "...                                                  ...          ...\n",
       "15880  [sanitation, technician, location, :, west, co...    44.596450\n",
       "15881  [unit, secretary, job, title, :, unit, secreta...    23.461754\n",
       "15882  [radiology, aide, ,, perdiem, job, title, :, r...    36.547085\n",
       "15883  [mri, manager, grade, 105, job, type, :, offic...    69.676239\n",
       "15884  [area, director, business, development, nexion...    31.887794\n",
       "\n",
       "[15885 rows x 2 columns]"
      ]
     },
     "execution_count": 32,
     "metadata": {},
     "output_type": "execute_result"
    }
   ],
   "source": [
    "# Create a dictionary from keyword_scores for efficient lookup\n",
    "keyword_scores_dict = dict(zip(df_keywords_with_scores['Keyword'], df_keywords_with_scores['Score']))\n",
    "\n",
    "# Calculate the total score for each bracket\n",
    "total_scores = []\n",
    "for bracket in tokenized_nostopw_corpus_lower:\n",
    "    total_score = sum(keyword_scores_dict.get(word.lower(), 0) for word in bracket)\n",
    "    total_scores.append(total_score)\n",
    "\n",
    "# Create a new dataframe with brackets and total scores\n",
    "df_with_total_scores = pd.DataFrame({'Data': tokenized_nostopw_corpus_lower, 'Total Score': total_scores})\n",
    "# Sort the DataFrame by the \"Total Score\" column in ascending order\n",
    "# df_with_total_scores_sorted = df_with_total_scores.sort_values(by='Total Score', ascending=False)\n",
    "\n",
    "# Reset the index of the sorted DataFrame\n",
    "# df_with_total_scores_sorted.reset_index(drop=True, inplace=True)\n",
    "# df_with_total_scores_sorted\n",
    "df_with_total_scores"
   ]
  },
  {
   "cell_type": "code",
   "execution_count": 33,
   "metadata": {},
   "outputs": [
    {
     "data": {
      "text/html": [
       "<div>\n",
       "<style scoped>\n",
       "    .dataframe tbody tr th:only-of-type {\n",
       "        vertical-align: middle;\n",
       "    }\n",
       "\n",
       "    .dataframe tbody tr th {\n",
       "        vertical-align: top;\n",
       "    }\n",
       "\n",
       "    .dataframe thead th {\n",
       "        text-align: right;\n",
       "    }\n",
       "</style>\n",
       "<table border=\"1\" class=\"dataframe\">\n",
       "  <thead>\n",
       "    <tr style=\"text-align: right;\">\n",
       "      <th></th>\n",
       "      <th>Data</th>\n",
       "      <th>Total Score</th>\n",
       "    </tr>\n",
       "  </thead>\n",
       "  <tbody>\n",
       "    <tr>\n",
       "      <th>0</th>\n",
       "      <td>Communications Manager Please note, applicants...</td>\n",
       "      <td>323.137097</td>\n",
       "    </tr>\n",
       "    <tr>\n",
       "      <th>1</th>\n",
       "      <td>Research Assistant - PACT Study The Roskamp In...</td>\n",
       "      <td>299.846823</td>\n",
       "    </tr>\n",
       "    <tr>\n",
       "      <th>2</th>\n",
       "      <td>Registered Nurse 2 Discover Vanderbilt Univers...</td>\n",
       "      <td>284.304506</td>\n",
       "    </tr>\n",
       "    <tr>\n",
       "      <th>3</th>\n",
       "      <td>Eligibility Data Analyst # 3219 GRAIL healthca...</td>\n",
       "      <td>255.015300</td>\n",
       "    </tr>\n",
       "    <tr>\n",
       "      <th>4</th>\n",
       "      <td>IT Operations ServiceNow Admin Elastic free op...</td>\n",
       "      <td>244.088231</td>\n",
       "    </tr>\n",
       "    <tr>\n",
       "      <th>...</th>\n",
       "      <td>...</td>\n",
       "      <td>...</td>\n",
       "    </tr>\n",
       "    <tr>\n",
       "      <th>15879</th>\n",
       "      <td>Customer Success Manager, Woopra About AppierA...</td>\n",
       "      <td>0.295653</td>\n",
       "    </tr>\n",
       "    <tr>\n",
       "      <th>15880</th>\n",
       "      <td>Implementation Analyst (Hybrid, Libertyville I...</td>\n",
       "      <td>0.227814</td>\n",
       "    </tr>\n",
       "    <tr>\n",
       "      <th>15881</th>\n",
       "      <td>Salesforce Developer 𝐒𝐮𝐦𝐦𝐚𝐫𝐲 𝐨𝐟 𝐑𝐨𝐥𝐞 👤𝐑𝐨𝐥𝐞: 𝐒𝐚...</td>\n",
       "      <td>0.150000</td>\n",
       "    </tr>\n",
       "    <tr>\n",
       "      <th>15882</th>\n",
       "      <td>Staff Accountant II, Ops. Accounting Staff Acc...</td>\n",
       "      <td>0.000000</td>\n",
       "    </tr>\n",
       "    <tr>\n",
       "      <th>15883</th>\n",
       "      <td>National Maternal Mental Health Hotline Shift ...</td>\n",
       "      <td>0.000000</td>\n",
       "    </tr>\n",
       "  </tbody>\n",
       "</table>\n",
       "<p>15884 rows × 2 columns</p>\n",
       "</div>"
      ],
      "text/plain": [
       "                                                    Data  Total Score\n",
       "0      Communications Manager Please note, applicants...   323.137097\n",
       "1      Research Assistant - PACT Study The Roskamp In...   299.846823\n",
       "2      Registered Nurse 2 Discover Vanderbilt Univers...   284.304506\n",
       "3      Eligibility Data Analyst # 3219 GRAIL healthca...   255.015300\n",
       "4      IT Operations ServiceNow Admin Elastic free op...   244.088231\n",
       "...                                                  ...          ...\n",
       "15879  Customer Success Manager, Woopra About AppierA...     0.295653\n",
       "15880  Implementation Analyst (Hybrid, Libertyville I...     0.227814\n",
       "15881  Salesforce Developer 𝐒𝐮𝐦𝐦𝐚𝐫𝐲 𝐨𝐟 𝐑𝐨𝐥𝐞 👤𝐑𝐨𝐥𝐞: 𝐒𝐚...     0.150000\n",
       "15882  Staff Accountant II, Ops. Accounting Staff Acc...     0.000000\n",
       "15883  National Maternal Mental Health Hotline Shift ...     0.000000\n",
       "\n",
       "[15884 rows x 2 columns]"
      ]
     },
     "execution_count": 33,
     "metadata": {},
     "output_type": "execute_result"
    }
   ],
   "source": [
    "score = pd.DataFrame(df_with_total_scores['Total Score'])\n",
    "result = pd.concat([df['Data'], score], axis=1)\n",
    "result = result.dropna()\n",
    "# result\n",
    "result = result.sort_values(by='Total Score', ascending=False)\n",
    "result = result.reset_index(drop=True, inplace=True)\n",
    "result"
   ]
  },
  {
   "cell_type": "code",
   "execution_count": 34,
   "metadata": {},
   "outputs": [
    {
     "data": {
      "text/html": [
       "<div>\n",
       "<style scoped>\n",
       "    .dataframe tbody tr th:only-of-type {\n",
       "        vertical-align: middle;\n",
       "    }\n",
       "\n",
       "    .dataframe tbody tr th {\n",
       "        vertical-align: top;\n",
       "    }\n",
       "\n",
       "    .dataframe thead th {\n",
       "        text-align: right;\n",
       "    }\n",
       "</style>\n",
       "<table border=\"1\" class=\"dataframe\">\n",
       "  <thead>\n",
       "    <tr style=\"text-align: right;\">\n",
       "      <th></th>\n",
       "      <th>Unnamed: 0</th>\n",
       "      <th>Data</th>\n",
       "      <th>Vector</th>\n",
       "    </tr>\n",
       "  </thead>\n",
       "  <tbody>\n",
       "    <tr>\n",
       "      <th>0</th>\n",
       "      <td>8145</td>\n",
       "      <td>Full Time - Steward/Dishwasher Organization- T...</td>\n",
       "      <td>0.362844</td>\n",
       "    </tr>\n",
       "    <tr>\n",
       "      <th>1</th>\n",
       "      <td>11657</td>\n",
       "      <td>Registered Nurse (RN) - Full-Time 1st Shift Re...</td>\n",
       "      <td>0.356172</td>\n",
       "    </tr>\n",
       "    <tr>\n",
       "      <th>2</th>\n",
       "      <td>8002</td>\n",
       "      <td>Banquet Server (On-Call) Organization- Thompso...</td>\n",
       "      <td>0.348298</td>\n",
       "    </tr>\n",
       "    <tr>\n",
       "      <th>3</th>\n",
       "      <td>7910</td>\n",
       "      <td>PM Line Cook | Full-Time Organization- Thompso...</td>\n",
       "      <td>0.347987</td>\n",
       "    </tr>\n",
       "    <tr>\n",
       "      <th>4</th>\n",
       "      <td>11636</td>\n",
       "      <td>Licensed Practical Nurse - Full-Time 1st Shift...</td>\n",
       "      <td>0.322254</td>\n",
       "    </tr>\n",
       "    <tr>\n",
       "      <th>...</th>\n",
       "      <td>...</td>\n",
       "      <td>...</td>\n",
       "      <td>...</td>\n",
       "    </tr>\n",
       "    <tr>\n",
       "      <th>15880</th>\n",
       "      <td>1561</td>\n",
       "      <td>Fortinet SME Job:Fortinet SMEDuration: 1 yearL...</td>\n",
       "      <td>0.000000</td>\n",
       "    </tr>\n",
       "    <tr>\n",
       "      <th>15881</th>\n",
       "      <td>1559</td>\n",
       "      <td>Accounting Consultant Description Firm: Beyer ...</td>\n",
       "      <td>0.000000</td>\n",
       "    </tr>\n",
       "    <tr>\n",
       "      <th>15882</th>\n",
       "      <td>3779</td>\n",
       "      <td>AEM Architect In role, play crucial role trans...</td>\n",
       "      <td>0.000000</td>\n",
       "    </tr>\n",
       "    <tr>\n",
       "      <th>15883</th>\n",
       "      <td>1555</td>\n",
       "      <td>Project Manager Newmark Group, Inc. (Nasdaq: N...</td>\n",
       "      <td>0.000000</td>\n",
       "    </tr>\n",
       "    <tr>\n",
       "      <th>15884</th>\n",
       "      <td>15884</td>\n",
       "      <td>Area Director Business Development Nexion Heal...</td>\n",
       "      <td>0.000000</td>\n",
       "    </tr>\n",
       "  </tbody>\n",
       "</table>\n",
       "<p>15885 rows × 3 columns</p>\n",
       "</div>"
      ],
      "text/plain": [
       "       Unnamed: 0                                               Data    Vector\n",
       "0            8145  Full Time - Steward/Dishwasher Organization- T...  0.362844\n",
       "1           11657  Registered Nurse (RN) - Full-Time 1st Shift Re...  0.356172\n",
       "2            8002  Banquet Server (On-Call) Organization- Thompso...  0.348298\n",
       "3            7910  PM Line Cook | Full-Time Organization- Thompso...  0.347987\n",
       "4           11636  Licensed Practical Nurse - Full-Time 1st Shift...  0.322254\n",
       "...           ...                                                ...       ...\n",
       "15880        1561  Fortinet SME Job:Fortinet SMEDuration: 1 yearL...  0.000000\n",
       "15881        1559  Accounting Consultant Description Firm: Beyer ...  0.000000\n",
       "15882        3779  AEM Architect In role, play crucial role trans...  0.000000\n",
       "15883        1555  Project Manager Newmark Group, Inc. (Nasdaq: N...  0.000000\n",
       "15884       15884  Area Director Business Development Nexion Heal...  0.000000\n",
       "\n",
       "[15885 rows x 3 columns]"
      ]
     },
     "execution_count": 34,
     "metadata": {},
     "output_type": "execute_result"
    }
   ],
   "source": [
    "base_result_df = pd.read_csv(\"full_time_senior_head_nurse_position.csv\")\n",
    "base_result_df = base_result_df.sort_values(by='Vector', ascending=False)\n",
    "base_result_df = base_result_df.reset_index(drop=True, inplace=False)\n",
    "base_result_df"
   ]
  },
  {
   "cell_type": "code",
   "execution_count": 37,
   "metadata": {},
   "outputs": [
    {
     "name": "stdout",
     "output_type": "stream",
     "text": [
      "Accuracy: 0.01%\n"
     ]
    }
   ],
   "source": [
    "# Specify the column you want to compare\n",
    "column_to_compare = 'Data'\n",
    "cnt = 0\n",
    "\n",
    "# Iterate through the rows and compare the specified column\n",
    "for index, (row1, row2) in enumerate(zip(base_result_df[column_to_compare], result[column_to_compare])):\n",
    "    if row1 == row2:\n",
    "        cnt+=1\n",
    "print(\"Accuracy:\", str(round(((cnt/result.shape[0])*100),2))+\"%\")"
   ]
  },
  {
   "cell_type": "markdown",
   "metadata": {},
   "source": [
    "## Spacial Analysis"
   ]
  },
  {
   "cell_type": "code",
   "execution_count": 58,
   "metadata": {},
   "outputs": [
    {
     "name": "stdout",
     "output_type": "stream",
     "text": [
      "Memory usage of the Dataset in csv version: 13.41672064177692 GB\n",
      "Memory usage of the pre-processed model: 10.000091552734375 MB\n",
      "Memory usage of the search result: 1.5488204956054688 MB\n"
     ]
    }
   ],
   "source": [
    "import sys\n",
    "\n",
    "memory_usage = df.memory_usage(deep=True).sum()\n",
    "print(f\"Memory usage of the Dataset in csv version: {memory_usage/1024/1024/1024} GB\")\n",
    "memory_usage = sys.getsizeof(inverted_index_processed)\n",
    "print(f\"Memory usage of the pre-processed model: {memory_usage/1024/1024} MB\")\n",
    "memory_usage = sys.getsizeof(rst)\n",
    "print(f\"Memory usage of the search result: {memory_usage/1024/1024} MB\")"
   ]
  },
  {
   "cell_type": "markdown",
   "metadata": {
    "id": "BnKX3qagloyF"
   },
   "source": []
  },
  {
   "cell_type": "code",
   "execution_count": null,
   "metadata": {},
   "outputs": [],
   "source": []
  }
 ],
 "metadata": {
  "colab": {
   "provenance": []
  },
  "kernelspec": {
   "display_name": "Python 3 (ipykernel)",
   "language": "python",
   "name": "python3"
  },
  "language_info": {
   "codemirror_mode": {
    "name": "ipython",
    "version": 3
   },
   "file_extension": ".py",
   "mimetype": "text/x-python",
   "name": "python",
   "nbconvert_exporter": "python",
   "pygments_lexer": "ipython3",
   "version": "3.9.13"
  }
 },
 "nbformat": 4,
 "nbformat_minor": 1
}
