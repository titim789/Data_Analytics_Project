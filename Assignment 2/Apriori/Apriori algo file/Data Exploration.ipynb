{
 "cells": [
  {
   "cell_type": "code",
   "execution_count": null,
   "metadata": {},
   "outputs": [],
   "source": [
    "\n",
    "\n",
    "# Extracting itemsets and their support values\n",
    "itemsets = {f\"File {i+1}\": df[['Itemset', 'Support']] for i, df in enumerate(dataframes)}\n",
    "\n",
    "# Displaying the top 5 itemsets for each file\n",
    "top_itemsets = {file_name: df.sort_values(by='Support', ascending=False).head(5) for file_name, df in itemsets.items()}\n",
    "top_itemsets"
   ]
  }
 ],
 "metadata": {
  "language_info": {
   "name": "python"
  }
 },
 "nbformat": 4,
 "nbformat_minor": 2
}
