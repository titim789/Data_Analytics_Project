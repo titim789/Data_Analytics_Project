{
 "cells": [
  {
   "cell_type": "markdown",
   "metadata": {},
   "source": [
    "##### Data Processing for Job Titles"
   ]
  },
  {
   "cell_type": "code",
   "execution_count": null,
   "metadata": {},
   "outputs": [],
   "source": [
    "import pandas as pd\n",
    "\n",
    "def clean_and_split_job_titles(title_str):\n",
    "    \"\"\"Clean and split the job title string into individual words.\"\"\"\n",
    "    # Basic cleaning: strip leading/trailing spaces, convert to lowercase, and split into words\n",
    "    return title_str.strip().lower().split()\n",
    "\n",
    "def process_job_title_chunks(input_path, chunk_size=100000):\n",
    "    \"\"\"Process the dataset in chunks and save the split job titles to separate CSV files.\"\"\"\n",
    "    chunks = pd.read_csv(input_path, chunksize=chunk_size, usecols=['Job Title'])\n",
    "\n",
    "    for i, chunk in enumerate(chunks):\n",
    "        print(f'Processing chunk {i}')\n",
    "        # Clean and split the 'Job Title' column\n",
    "        chunk['Job Title'] = chunk['Job Title'].dropna().apply(clean_and_split_job_titles)\n",
    "\n",
    "        # Save to a CSV file\n",
    "        output_file = f'Dataset/job_title_split_chunks/job_title_split_chunk_{i}.csv'\n",
    "        chunk['Job Title'].to_csv(output_file, index=False, header=False)\n",
    "\n",
    "        print(f'Chunk {i} saved to {output_file}')\n",
    "\n",
    "# Path to your dataset\n",
    "dataset_path = 'Dataset/job_descriptions.csv'\n",
    "\n",
    "# Process the dataset\n",
    "process_job_title_chunks(dataset_path)"
   ]
  }
 ],
 "metadata": {
  "language_info": {
   "name": "python"
  }
 },
 "nbformat": 4,
 "nbformat_minor": 2
}
