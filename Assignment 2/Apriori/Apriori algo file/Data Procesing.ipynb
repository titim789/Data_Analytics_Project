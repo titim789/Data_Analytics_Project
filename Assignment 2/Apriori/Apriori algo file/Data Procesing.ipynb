{
 "cells": [
  {
   "cell_type": "markdown",
   "metadata": {},
   "source": [
    "##### Data Processing for Job Titles"
   ]
  },
  {
   "cell_type": "code",
   "execution_count": null,
   "metadata": {},
   "outputs": [
    {
     "ename": "",
     "evalue": "",
     "output_type": "error",
     "traceback": [
      "\u001b[1;31mThe Kernel crashed while executing code in the the current cell or a previous cell. Please review the code in the cell(s) to identify a possible cause of the failure. Click <a href='https://aka.ms/vscodeJupyterKernelCrash'>here</a> for more info. View Jupyter <a href='command:jupyter.viewOutput'>log</a> for further details."
     ]
    }
   ],
   "source": [
    "import pandas as pd\n",
    "\n",
    "def clean_and_split_job_titles(title_str):\n",
    "    # Basic cleaning: strip leading/trailing spaces, convert to lowercase, and split into words\n",
    "    return title_str.strip().lower().split()\n",
    "\n",
    "def process_job_title_chunks(input_path, chunk_size=100000):\n",
    "    chunks = pd.read_csv(input_path, chunksize=chunk_size, usecols=['Job Title'])\n",
    "\n",
    "    for i, chunk in enumerate(chunks):\n",
    "        print(f'Processing chunk {i}')\n",
    "        # Clean and split the 'Job Title' column\n",
    "        chunk['Job Title'] = chunk['Job Title'].dropna().apply(clean_and_split_job_titles)\n",
    "\n",
    "        # Save to a CSV file\n",
    "        output_file = f'Dataset/job_title_split_chunks/job_title_split_chunk_{i}.csv'\n",
    "        chunk['Job Title'].to_csv(output_file, index=False, header=False)\n",
    "\n",
    "        print(f'Chunk {i} saved to {output_file}')\n",
    "\n",
    "# Path to your dataset\n",
    "dataset_path = 'Dataset/job_descriptions.csv'\n",
    "\n",
    "# Process the dataset\n",
    "process_job_title_chunks(dataset_path)"
   ]
  },
  {
   "cell_type": "code",
   "execution_count": 3,
   "metadata": {},
   "outputs": [],
   "source": [
    "import pandas as pd\n",
    "\n",
    "def clean_and_split_job_titles(title_str):\n",
    "    # Basic cleaning: strip leading/trailing spaces, convert to lowercase, and split into words\n",
    "    return title_str.strip().lower().split()\n",
    "\n",
    "def create_dataset(input_path, output_path):\n",
    "    data = pd.read_csv(input_path, usecols=['Job Title'])\n",
    "\n",
    "    # Apply the cleaning and splitting function\n",
    "    split_titles = data['Job Title'].dropna().apply(clean_and_split_job_titles)\n",
    "\n",
    "    # Determine the maximum number of words in any title\n",
    "    max_words = split_titles.apply(len).max()\n",
    "\n",
    "    # Create a DataFrame with each word in a separate column\n",
    "    titles_df = pd.DataFrame(split_titles.tolist(), index=split_titles.index)\n",
    "    titles_df = titles_df.reindex(columns=range(max_words))  # Add missing columns for shorter titles\n",
    "\n",
    "    # Save to CSV\n",
    "    titles_df.to_csv(output_path, index=False, header=False)\n",
    "\n",
    "input_path = '../Dataset/job_descriptions.csv'\n",
    "output_path = '../Dataset/job_title_split.csv'\n",
    "create_dataset(input_path,output_path)"
   ]
  }
 ],
 "metadata": {
  "kernelspec": {
   "display_name": "Python 3",
   "language": "python",
   "name": "python3"
  },
  "language_info": {
   "codemirror_mode": {
    "name": "ipython",
    "version": 3
   },
   "file_extension": ".py",
   "mimetype": "text/x-python",
   "name": "python",
   "nbconvert_exporter": "python",
   "pygments_lexer": "ipython3",
   "version": "3.12.0"
  }
 },
 "nbformat": 4,
 "nbformat_minor": 2
}
