{
 "cells": [
  {
   "cell_type": "code",
   "execution_count": 2,
   "metadata": {},
   "outputs": [],
   "source": [
    "import pandas as pd\n",
    "from itertools import chain, combinations\n",
    "from collections import defaultdict\n",
    "import os\n",
    "import csv\n",
    "import ast"
   ]
  },
  {
   "cell_type": "code",
   "execution_count": 3,
   "metadata": {},
   "outputs": [],
   "source": [
    "# Step 1: Reading and Processing CSV Files\n",
    "def read_transactions(csv_folder):\n",
    "    transactions = []\n",
    "    for filename in os.listdir(csv_folder):\n",
    "        # print(f'filename = {filename}')\n",
    "        if filename.endswith('.csv'):\n",
    "            file = open(f\"{csv_folder}/{filename}\") \n",
    "            csvreader = csv.reader(file)\n",
    "\n",
    "            for row in csvreader:\n",
    "                # Evaluate the string in each row as a Python list\n",
    "                transaction = ast.literal_eval(row[0])\n",
    "                transactions.append(transaction)\n",
    "\n",
    "            file.close()\n",
    "    return transactions"
   ]
  },
  {
   "cell_type": "code",
   "execution_count": 3,
   "metadata": {},
   "outputs": [],
   "source": [
    "# Step 2: Candidate Generation\n",
    "def generate_candidate_itemsets(transactions, size=1):\n",
    "    all_items = set(item for transaction in transactions for item in transaction)\n",
    "    return set(combinations(all_items, size))\n",
    "\n",
    "def generate_candidate_itemsets_from_previous(frequent_itemsets, size):\n",
    "    all_items = set()\n",
    "    for itemset in frequent_itemsets:\n",
    "        all_items.update(itemset)\n",
    "    return set(combinations(all_items, size))\n",
    "\n",
    "# Step 3: Support Calculation and Pruning\n",
    "def calculate_support(transactions, candidates, min_support):\n",
    "    candidate_counts = defaultdict(int)\n",
    "    # print(f\"Calculating support for {transactions}\")\n",
    "    for transaction in transactions:\n",
    "        for candidate in candidates:\n",
    "            if set(candidate).issubset(transaction):\n",
    "                candidate_counts[candidate] += 1\n",
    "    total_transactions = len(transactions)\n",
    "    return {candidate: count / total_transactions for candidate, count in candidate_counts.items() if count / total_transactions >= min_support}\n",
    "\n",
    "# Step 5: Saving the Frequent Itemsets\n",
    "def save_frequent_itemsets_csv(frequent_itemsets, output_file):\n",
    "    # Convert the frequent itemsets dictionary into a list of tuples\n",
    "    itemsets_list = [(list(itemset), support) for itemset, support in frequent_itemsets.items()]\n",
    "\n",
    "    # Create a DataFrame from this list\n",
    "    itemsets_df = pd.DataFrame(itemsets_list, columns=['Itemset', 'Support'])\n",
    "\n",
    "    # Save the DataFrame to a CSV file\n",
    "    itemsets_df.to_csv(output_file, index=False)"
   ]
  },
  {
   "cell_type": "code",
   "execution_count": null,
   "metadata": {},
   "outputs": [],
   "source": [
    "# Main Apriori Function\n",
    "def apriori(csv_folder, max_length, min_support, output_file):\n",
    "    transactions = read_transactions(csv_folder)\n",
    "    all_frequent_itemsets = {}\n",
    "\n",
    "    for k in range(1, max_length + 1):\n",
    "        # print(f\"== {k} Frequent Itemsets ==\")\n",
    "        if k == 1:\n",
    "            candidate_itemsets = generate_candidate_itemsets(transactions, size=k)\n",
    "        else:\n",
    "            candidate_itemsets = generate_candidate_itemsets_from_previous(all_frequent_itemsets, k)\n",
    "\n",
    "        frequent_itemsets = calculate_support(transactions, candidate_itemsets, min_support)\n",
    "        if not frequent_itemsets:\n",
    "            break\n",
    "\n",
    "        all_frequent_itemsets.update(frequent_itemsets)\n",
    "        # print(f\"== Finished {k} Frequent Itemsets ==\")\n",
    "\n",
    "    save_frequent_itemsets_csv(all_frequent_itemsets, output_file)\n",
    "    return all_frequent_itemsets\n",
    "\n",
    "# Run the Apriori algorithm\n",
    "final_frequent_itemsets = apriori(\n",
    "    csv_folder='..Dataset/job_title_split_chunks/', \n",
    "    max_length=3, \n",
    "    min_support=0.01, \n",
    "    output_file='frequent_itemsets.csv'\n",
    ")\n",
    "print(\"Done\")"
   ]
  }
 ],
 "metadata": {
  "kernelspec": {
   "display_name": "Python 3",
   "language": "python",
   "name": "python3"
  },
  "language_info": {
   "codemirror_mode": {
    "name": "ipython",
    "version": 3
   },
   "file_extension": ".py",
   "mimetype": "text/x-python",
   "name": "python",
   "nbconvert_exporter": "python",
   "pygments_lexer": "ipython3",
   "version": "3.12.0"
  }
 },
 "nbformat": 4,
 "nbformat_minor": 2
}
