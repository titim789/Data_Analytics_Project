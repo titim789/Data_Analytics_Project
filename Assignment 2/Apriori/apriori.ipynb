{
 "cells": [
  {
   "cell_type": "code",
   "execution_count": 2,
   "metadata": {},
   "outputs": [],
   "source": [
    "import pandas as pd\n",
    "from itertools import chain, combinations"
   ]
  },
  {
   "cell_type": "code",
   "execution_count": 3,
   "metadata": {},
   "outputs": [
    {
     "data": {
      "text/plain": [
       "[{'pastry', 'salty snack', 'whole milk'},\n",
       " {'sausage', 'semi-finished bread', 'whole milk', 'yogurt'},\n",
       " {'pickled vegetables', 'soda'},\n",
       " {'canned beer', 'misc. beverages'},\n",
       " {'hygiene articles', 'sausage'}]"
      ]
     },
     "execution_count": 3,
     "metadata": {},
     "output_type": "execute_result"
    }
   ],
   "source": [
    "data = pd.read_csv('Dataset/basket.csv')\n",
    "\n",
    "def preprocess_data(df):\n",
    "    transactions = []\n",
    "    for index, row in df.iterrows():\n",
    "        transaction = set(row.dropna().unique())\n",
    "        if transaction:\n",
    "            transactions.append(transaction)\n",
    "    return transactions\n",
    "\n",
    "transactions = preprocess_data(data)\n",
    "transactions[:5]"
   ]
  },
  {
   "cell_type": "code",
   "execution_count": 4,
   "metadata": {},
   "outputs": [],
   "source": [
    "def apriori(transactions, min_support):\n",
    "\n",
    "    def find_frequent_1_itemsets(transactions, min_support):\n",
    "    # Initialize a dictionary to store the count of each item\n",
    "        item_count = {}\n",
    "        for transaction in transactions:\n",
    "            for item in transaction:\n",
    "                if item in item_count:\n",
    "                    item_count[item] += 1\n",
    "                else:\n",
    "                    item_count[item] = 1\n",
    "        \n",
    "        # Calculate the total number of transactions\n",
    "        total_transactions = len(transactions)\n",
    "        \n",
    "        # Initialize a list to store the frequent 1-itemsets\n",
    "        frequent_1_itemsets = []\n",
    "        \n",
    "        # Identify the frequent 1-itemsets\n",
    "        for item, count in item_count.items():\n",
    "            support = count / total_transactions\n",
    "            if support >= min_support:\n",
    "                frequent_1_itemsets.append({item})\n",
    "        \n",
    "        return frequent_1_itemsets\n",
    "\n",
    "    # Step 1: Find frequent 1-itemsets\n",
    "    frequent_itemsets = find_frequent_1_itemsets(transactions, min_support)\n",
    "    all_frequent_itemsets = {1: frequent_itemsets}\n",
    "    \n",
    "    k = 2\n",
    "    while frequent_itemsets:\n",
    "        # Step 2: Generate candidate k-itemsets\n",
    "        candidate_itemsets = set()\n",
    "        for combination in combinations(frequent_itemsets, 2):\n",
    "            union_set = combination[0].union(combination[1])\n",
    "            if len(union_set) == k:\n",
    "                candidate_itemsets.add(frozenset(union_set))\n",
    "        \n",
    "        # Step 3: Prune candidate k-itemsets based on subsets\n",
    "        pruned_candidates = set()\n",
    "        for candidate in candidate_itemsets:\n",
    "            is_frequent = True\n",
    "            for subset in combinations(candidate, k-1):\n",
    "                if set(subset) not in frequent_itemsets:\n",
    "                    is_frequent = False\n",
    "                    break\n",
    "            if is_frequent:\n",
    "                pruned_candidates.add(candidate)\n",
    "        \n",
    "        # Step 4: Count the support of each pruned candidate itemset\n",
    "        candidate_support = {itemset: 0 for itemset in pruned_candidates}\n",
    "        for transaction in transactions:\n",
    "            for candidate in pruned_candidates:\n",
    "                if candidate.issubset(transaction):\n",
    "                    candidate_support[candidate] += 1\n",
    "        \n",
    "        # Step 5: Identify the frequent k-itemsets\n",
    "        total_transactions = len(transactions)\n",
    "        frequent_itemsets = []\n",
    "        for itemset, count in candidate_support.items():\n",
    "            support = count / total_transactions\n",
    "            if support >= min_support:\n",
    "                frequent_itemsets.append(set(itemset))\n",
    "        \n",
    "        # Step 6: Add the frequent k-itemsets to the list of all frequent itemsets\n",
    "        if frequent_itemsets:\n",
    "            all_frequent_itemsets[k] = frequent_itemsets\n",
    "        k += 1  \n",
    "    \n",
    "    return all_frequent_itemsets"
   ]
  },
  {
   "cell_type": "code",
   "execution_count": 5,
   "metadata": {},
   "outputs": [
    {
     "name": "stdout",
     "output_type": "stream",
     "text": [
      "Frequent 1-itemsets: [{'salty snack'}, {'whole milk'}, {'pastry'}, {'sausage'}, {'yogurt'}, {'soda'}, {'canned beer'}, {'misc. beverages'}, {'hygiene articles'}, {'rolls/buns'}, {'whipped/sour cream'}, {'frankfurter'}, {'curd'}, {'white bread'}, {'beef'}, {'butter'}, {'other vegetables'}, {'frozen vegetables'}, {'tropical fruit'}, {'sugar'}, {'butter milk'}, {'specialty chocolate'}, {'frozen meals'}, {'root vegetables'}, {'pip fruit'}, {'chocolate'}, {'red/blush wine'}, {'shopping bags'}, {'margarine'}, {'bottled water'}, {'chicken'}, {'bottled beer'}, {'dessert'}, {'hamburger meat'}, {'white wine'}, {'domestic eggs'}, {'newspapers'}, {'herbs'}, {'coffee'}, {'UHT-milk'}, {'specialty bar'}, {'sliced cheese'}, {'citrus fruit'}, {'candy'}, {'grapes'}, {'brown bread'}, {'processed cheese'}, {'onions'}, {'napkins'}, {'hard cheese'}, {'meat'}, {'fruit/vegetable juice'}, {'soft cheese'}, {'oil'}, {'long life bakery product'}, {'beverages'}, {'berries'}, {'ham'}, {'cream cheese '}, {'pork'}, {'ice cream'}, {'waffles'}, {'cat food'}, {'chewing gum'}]\n",
      "\n",
      "Frequent 2-itemsets: [{'rolls/buns', 'other vegetables'}, {'whole milk', 'other vegetables'}, {'whole milk', 'rolls/buns'}, {'whole milk', 'soda'}, {'whole milk', 'yogurt'}]\n",
      "\n"
     ]
    }
   ],
   "source": [
    "min_support = 0.01\n",
    "\n",
    "# Apply the Apriori algorithm to find frequent itemsets\n",
    "frequent_itemsets = apriori(transactions, min_support)\n",
    "\n",
    "# Display the frequent itemsets\n",
    "itemset_data = []\n",
    "for k, itemsets in frequent_itemsets.items():\n",
    "    print(f\"Frequent {k}-itemsets: {itemsets}\\n\")\n",
    "    for itemset in itemsets:\n",
    "        itemset_data.append({'Size': k, 'Itemset': ', '.join(itemset)})\n",
    "\n",
    "itemset_df = pd.DataFrame(itemset_data).to_csv(\"./Apriori_dataset/apriori_dataset.csv\",index=False)"
   ]
  }
 ],
 "metadata": {
  "kernelspec": {
   "display_name": "Python 3",
   "language": "python",
   "name": "python3"
  },
  "language_info": {
   "codemirror_mode": {
    "name": "ipython",
    "version": 3
   },
   "file_extension": ".py",
   "mimetype": "text/x-python",
   "name": "python",
   "nbconvert_exporter": "python",
   "pygments_lexer": "ipython3",
   "version": "3.12.0"
  }
 },
 "nbformat": 4,
 "nbformat_minor": 2
}
