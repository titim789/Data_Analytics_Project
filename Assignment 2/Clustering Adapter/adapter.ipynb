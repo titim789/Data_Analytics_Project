{
 "cells": [
  {
   "cell_type": "code",
   "execution_count": 1,
   "metadata": {},
   "outputs": [],
   "source": [
    "import pandas as pd\n",
    "import numpy as np\n",
    "from ast import literal_eval"
   ]
  },
  {
   "cell_type": "markdown",
   "metadata": {},
   "source": [
    "### Importing BASKET data and Freq Itemset"
   ]
  },
  {
   "cell_type": "code",
   "execution_count": 2,
   "metadata": {},
   "outputs": [],
   "source": [
    "dataset = pd.read_csv('../Apriori/Dataset/basket.csv')\n",
    "\n",
    "def preprocess_data(df):\n",
    "    transactions = []\n",
    "    for index, row in df.iterrows():\n",
    "        transaction = set(row.dropna().unique())\n",
    "        if transaction:\n",
    "            transactions.append(list(transaction))\n",
    "    return transactions\n",
    "\n",
    "transactions = preprocess_data(dataset)\n",
    "# transactions[:5]"
   ]
  },
  {
   "cell_type": "code",
   "execution_count": 6,
   "metadata": {},
   "outputs": [
    {
     "data": {
      "text/html": [
       "<div>\n",
       "<style scoped>\n",
       "    .dataframe tbody tr th:only-of-type {\n",
       "        vertical-align: middle;\n",
       "    }\n",
       "\n",
       "    .dataframe tbody tr th {\n",
       "        vertical-align: top;\n",
       "    }\n",
       "\n",
       "    .dataframe thead th {\n",
       "        text-align: right;\n",
       "    }\n",
       "</style>\n",
       "<table border=\"1\" class=\"dataframe\">\n",
       "  <thead>\n",
       "    <tr style=\"text-align: right;\">\n",
       "      <th></th>\n",
       "      <th>Itemset</th>\n",
       "      <th>Support</th>\n",
       "    </tr>\n",
       "  </thead>\n",
       "  <tbody>\n",
       "    <tr>\n",
       "      <th>0</th>\n",
       "      <td>[whole milk]</td>\n",
       "      <td>0.157867</td>\n",
       "    </tr>\n",
       "    <tr>\n",
       "      <th>1</th>\n",
       "      <td>[sausage]</td>\n",
       "      <td>0.060353</td>\n",
       "    </tr>\n",
       "    <tr>\n",
       "      <th>2</th>\n",
       "      <td>[yogurt]</td>\n",
       "      <td>0.085884</td>\n",
       "    </tr>\n",
       "    <tr>\n",
       "      <th>3</th>\n",
       "      <td>[soda]</td>\n",
       "      <td>0.097113</td>\n",
       "    </tr>\n",
       "    <tr>\n",
       "      <th>4</th>\n",
       "      <td>[canned beer]</td>\n",
       "      <td>0.046919</td>\n",
       "    </tr>\n",
       "  </tbody>\n",
       "</table>\n",
       "</div>"
      ],
      "text/plain": [
       "         Itemset   Support\n",
       "0   [whole milk]  0.157867\n",
       "1      [sausage]  0.060353\n",
       "2       [yogurt]  0.085884\n",
       "3         [soda]  0.097113\n",
       "4  [canned beer]  0.046919"
      ]
     },
     "execution_count": 6,
     "metadata": {},
     "output_type": "execute_result"
    }
   ],
   "source": [
    "freq_dataset = pd.read_csv('../Apriori/Frequent Itemsets/Basket/basket_0.02_1.csv', converters={\"Itemset\": literal_eval} )\n",
    "freq_dataset = freq_dataset[freq_dataset.Itemset.map(len) == 1]\n",
    "freq_dataset.to_csv(\"../Clustering/Dataset/basket_0.02_freq_vector_mapping.csv\")\n",
    "freq_dataset.head()"
   ]
  },
  {
   "cell_type": "markdown",
   "metadata": {},
   "source": [
    "### Creating the BASKET transaction Vectors using frequent itemsets as features"
   ]
  },
  {
   "cell_type": "code",
   "execution_count": 7,
   "metadata": {},
   "outputs": [],
   "source": [
    "transaction_freq_vectors = []\n",
    "for transaction in transactions:\n",
    "    temp_vector = []\n",
    "    for freq_item in freq_dataset['Itemset'].values:\n",
    "        if freq_item in transaction:\n",
    "            temp_vector.append(1)\n",
    "        else:\n",
    "            temp_vector.append(0)\n",
    "    transaction_freq_vectors.append(temp_vector)\n",
    "\n",
    "# transaction_vectors[:5]"
   ]
  },
  {
   "cell_type": "code",
   "execution_count": 8,
   "metadata": {},
   "outputs": [
    {
     "data": {
      "text/html": [
       "<div>\n",
       "<style scoped>\n",
       "    .dataframe tbody tr th:only-of-type {\n",
       "        vertical-align: middle;\n",
       "    }\n",
       "\n",
       "    .dataframe tbody tr th {\n",
       "        vertical-align: top;\n",
       "    }\n",
       "\n",
       "    .dataframe thead th {\n",
       "        text-align: right;\n",
       "    }\n",
       "</style>\n",
       "<table border=\"1\" class=\"dataframe\">\n",
       "  <thead>\n",
       "    <tr style=\"text-align: right;\">\n",
       "      <th></th>\n",
       "      <th>Transaction</th>\n",
       "      <th>Vector</th>\n",
       "    </tr>\n",
       "  </thead>\n",
       "  <tbody>\n",
       "    <tr>\n",
       "      <th>0</th>\n",
       "      <td>[salty snack, whole milk, pastry]</td>\n",
       "      <td>[0, 0, 0, 0, 0, 0, 0, 0, 0, 0, 0, 0, 0, 0, 0, ...</td>\n",
       "    </tr>\n",
       "    <tr>\n",
       "      <th>1</th>\n",
       "      <td>[yogurt, semi-finished bread, whole milk, saus...</td>\n",
       "      <td>[0, 0, 0, 0, 0, 0, 0, 0, 0, 0, 0, 0, 0, 0, 0, ...</td>\n",
       "    </tr>\n",
       "    <tr>\n",
       "      <th>2</th>\n",
       "      <td>[soda, pickled vegetables]</td>\n",
       "      <td>[0, 0, 0, 0, 0, 0, 0, 0, 0, 0, 0, 0, 0, 0, 0, ...</td>\n",
       "    </tr>\n",
       "    <tr>\n",
       "      <th>3</th>\n",
       "      <td>[misc. beverages, canned beer]</td>\n",
       "      <td>[0, 0, 0, 0, 0, 0, 0, 0, 0, 0, 0, 0, 0, 0, 0, ...</td>\n",
       "    </tr>\n",
       "    <tr>\n",
       "      <th>4</th>\n",
       "      <td>[hygiene articles, sausage]</td>\n",
       "      <td>[0, 0, 0, 0, 0, 0, 0, 0, 0, 0, 0, 0, 0, 0, 0, ...</td>\n",
       "    </tr>\n",
       "  </tbody>\n",
       "</table>\n",
       "</div>"
      ],
      "text/plain": [
       "                                         Transaction  \\\n",
       "0                  [salty snack, whole milk, pastry]   \n",
       "1  [yogurt, semi-finished bread, whole milk, saus...   \n",
       "2                         [soda, pickled vegetables]   \n",
       "3                     [misc. beverages, canned beer]   \n",
       "4                        [hygiene articles, sausage]   \n",
       "\n",
       "                                              Vector  \n",
       "0  [0, 0, 0, 0, 0, 0, 0, 0, 0, 0, 0, 0, 0, 0, 0, ...  \n",
       "1  [0, 0, 0, 0, 0, 0, 0, 0, 0, 0, 0, 0, 0, 0, 0, ...  \n",
       "2  [0, 0, 0, 0, 0, 0, 0, 0, 0, 0, 0, 0, 0, 0, 0, ...  \n",
       "3  [0, 0, 0, 0, 0, 0, 0, 0, 0, 0, 0, 0, 0, 0, 0, ...  \n",
       "4  [0, 0, 0, 0, 0, 0, 0, 0, 0, 0, 0, 0, 0, 0, 0, ...  "
      ]
     },
     "execution_count": 8,
     "metadata": {},
     "output_type": "execute_result"
    }
   ],
   "source": [
    "result_transactions_w_vectors = pd.DataFrame({'Transaction':transactions, 'Vector':transaction_freq_vectors})\n",
    "result_transactions_w_vectors.head()"
   ]
  },
  {
   "cell_type": "code",
   "execution_count": 9,
   "metadata": {},
   "outputs": [],
   "source": [
    "result_transactions_w_vectors.to_csv(\"../Clustering/Dataset/basket_0.02_freq_vector.csv\")"
   ]
  },
  {
   "cell_type": "markdown",
   "metadata": {},
   "source": [
    "### Combined Code to iterate through all available Minimum Support of the Basket Dataset"
   ]
  },
  {
   "cell_type": "code",
   "execution_count": null,
   "metadata": {},
   "outputs": [],
   "source": [
    "import pandas as pd\n",
    "from ast import literal_eval\n",
    "\n",
    "dataset = pd.read_csv('../Apriori/Dataset/basket.csv')\n",
    "\n",
    "def preprocess_data(df):\n",
    "    transactions = []\n",
    "    for index, row in df.iterrows():\n",
    "        transaction = set(row.dropna().unique())\n",
    "        if transaction:\n",
    "            transactions.append(list(transaction))\n",
    "    return transactions\n",
    "\n",
    "transactions = preprocess_data(dataset)\n",
    "\n",
    "for i in range(1,6,1): \n",
    "    freq_dataset = pd.read_csv('../Apriori/Frequent Itemsets/Basket/basket_0.0{}_1.csv'.format(i), converters={\"Itemset\": literal_eval} )\n",
    "    freq_dataset = freq_dataset[freq_dataset.Itemset.map(len) == 1]\n",
    "\n",
    "    freq_dataset.to_csv(\"../Clustering/Dataset/Basket/basket_0.0{}_freq_vector_mapping.csv\".format(i))\n",
    "\n",
    "    transaction_freq_vectors = []\n",
    "    for transaction in transactions:\n",
    "        temp_vector = []\n",
    "        for freq_item in freq_dataset['Itemset'].values:\n",
    "            if freq_item[0] in transaction:\n",
    "                # temp_vector.append(1)\n",
    "                temp_vector.append(transaction.count(freq_item[0]))\n",
    "            else:\n",
    "                temp_vector.append(0)\n",
    "        transaction_freq_vectors.append(temp_vector)\n",
    "\n",
    "    result_transactions_w_vectors = pd.DataFrame({'Transaction':transactions, 'Vector':transaction_freq_vectors})\n",
    "\n",
    "    result_transactions_w_vectors.to_csv(\"../Clustering/Dataset/Basket/basket_0.0{}_freq_vector.csv\".format(i))"
   ]
  },
  {
   "cell_type": "markdown",
   "metadata": {},
   "source": [
    "### Vectorising BASKET Transactions with its full dimension"
   ]
  },
  {
   "cell_type": "code",
   "execution_count": 10,
   "metadata": {},
   "outputs": [
    {
     "data": {
      "text/html": [
       "<div>\n",
       "<style scoped>\n",
       "    .dataframe tbody tr th:only-of-type {\n",
       "        vertical-align: middle;\n",
       "    }\n",
       "\n",
       "    .dataframe tbody tr th {\n",
       "        vertical-align: top;\n",
       "    }\n",
       "\n",
       "    .dataframe thead th {\n",
       "        text-align: right;\n",
       "    }\n",
       "</style>\n",
       "<table border=\"1\" class=\"dataframe\">\n",
       "  <thead>\n",
       "    <tr style=\"text-align: right;\">\n",
       "      <th></th>\n",
       "      <th>Itemset</th>\n",
       "    </tr>\n",
       "  </thead>\n",
       "  <tbody>\n",
       "    <tr>\n",
       "      <th>0</th>\n",
       "      <td>salty snack</td>\n",
       "    </tr>\n",
       "    <tr>\n",
       "      <th>1</th>\n",
       "      <td>whole milk</td>\n",
       "    </tr>\n",
       "    <tr>\n",
       "      <th>2</th>\n",
       "      <td>pastry</td>\n",
       "    </tr>\n",
       "    <tr>\n",
       "      <th>3</th>\n",
       "      <td>yogurt</td>\n",
       "    </tr>\n",
       "    <tr>\n",
       "      <th>4</th>\n",
       "      <td>semi-finished bread</td>\n",
       "    </tr>\n",
       "  </tbody>\n",
       "</table>\n",
       "</div>"
      ],
      "text/plain": [
       "               Itemset\n",
       "0          salty snack\n",
       "1           whole milk\n",
       "2               pastry\n",
       "3               yogurt\n",
       "4  semi-finished bread"
      ]
     },
     "execution_count": 10,
     "metadata": {},
     "output_type": "execute_result"
    }
   ],
   "source": [
    "vectorised_transaction = []\n",
    "\n",
    "for transaction in transactions:\n",
    "    for item in transaction:\n",
    "        if item not in vectorised_transaction:\n",
    "            vectorised_transaction.append(item)\n",
    "\n",
    "basket_itemset = pd.DataFrame({'Itemset':vectorised_transaction})\n",
    "basket_itemset.head()"
   ]
  },
  {
   "cell_type": "code",
   "execution_count": 11,
   "metadata": {},
   "outputs": [],
   "source": [
    "basket_itemset.to_csv(\"../Clustering/Dataset/basket_infreq_vector_mapping.csv\")"
   ]
  },
  {
   "cell_type": "code",
   "execution_count": 12,
   "metadata": {},
   "outputs": [],
   "source": [
    "transaction_vectors = []\n",
    "for transaction in transactions:\n",
    "    temp_vector = []\n",
    "    for freq_item in vectorised_transaction:\n",
    "        if freq_item in transaction:\n",
    "            temp_vector.append(1)\n",
    "        else:\n",
    "            temp_vector.append(0)\n",
    "    transaction_vectors.append(temp_vector)"
   ]
  },
  {
   "cell_type": "code",
   "execution_count": 13,
   "metadata": {},
   "outputs": [
    {
     "data": {
      "text/html": [
       "<div>\n",
       "<style scoped>\n",
       "    .dataframe tbody tr th:only-of-type {\n",
       "        vertical-align: middle;\n",
       "    }\n",
       "\n",
       "    .dataframe tbody tr th {\n",
       "        vertical-align: top;\n",
       "    }\n",
       "\n",
       "    .dataframe thead th {\n",
       "        text-align: right;\n",
       "    }\n",
       "</style>\n",
       "<table border=\"1\" class=\"dataframe\">\n",
       "  <thead>\n",
       "    <tr style=\"text-align: right;\">\n",
       "      <th></th>\n",
       "      <th>Transaction</th>\n",
       "      <th>Vector</th>\n",
       "    </tr>\n",
       "  </thead>\n",
       "  <tbody>\n",
       "    <tr>\n",
       "      <th>0</th>\n",
       "      <td>[salty snack, whole milk, pastry]</td>\n",
       "      <td>[1, 1, 1, 0, 0, 0, 0, 0, 0, 0, 0, 0, 0, 0, 0, ...</td>\n",
       "    </tr>\n",
       "    <tr>\n",
       "      <th>1</th>\n",
       "      <td>[yogurt, semi-finished bread, whole milk, saus...</td>\n",
       "      <td>[0, 1, 0, 1, 1, 1, 0, 0, 0, 0, 0, 0, 0, 0, 0, ...</td>\n",
       "    </tr>\n",
       "    <tr>\n",
       "      <th>2</th>\n",
       "      <td>[soda, pickled vegetables]</td>\n",
       "      <td>[0, 0, 0, 0, 0, 0, 1, 1, 0, 0, 0, 0, 0, 0, 0, ...</td>\n",
       "    </tr>\n",
       "    <tr>\n",
       "      <th>3</th>\n",
       "      <td>[misc. beverages, canned beer]</td>\n",
       "      <td>[0, 0, 0, 0, 0, 0, 0, 0, 1, 1, 0, 0, 0, 0, 0, ...</td>\n",
       "    </tr>\n",
       "    <tr>\n",
       "      <th>4</th>\n",
       "      <td>[hygiene articles, sausage]</td>\n",
       "      <td>[0, 0, 0, 0, 0, 1, 0, 0, 0, 0, 1, 0, 0, 0, 0, ...</td>\n",
       "    </tr>\n",
       "  </tbody>\n",
       "</table>\n",
       "</div>"
      ],
      "text/plain": [
       "                                         Transaction  \\\n",
       "0                  [salty snack, whole milk, pastry]   \n",
       "1  [yogurt, semi-finished bread, whole milk, saus...   \n",
       "2                         [soda, pickled vegetables]   \n",
       "3                     [misc. beverages, canned beer]   \n",
       "4                        [hygiene articles, sausage]   \n",
       "\n",
       "                                              Vector  \n",
       "0  [1, 1, 1, 0, 0, 0, 0, 0, 0, 0, 0, 0, 0, 0, 0, ...  \n",
       "1  [0, 1, 0, 1, 1, 1, 0, 0, 0, 0, 0, 0, 0, 0, 0, ...  \n",
       "2  [0, 0, 0, 0, 0, 0, 1, 1, 0, 0, 0, 0, 0, 0, 0, ...  \n",
       "3  [0, 0, 0, 0, 0, 0, 0, 0, 1, 1, 0, 0, 0, 0, 0, ...  \n",
       "4  [0, 0, 0, 0, 0, 1, 0, 0, 0, 0, 1, 0, 0, 0, 0, ...  "
      ]
     },
     "execution_count": 13,
     "metadata": {},
     "output_type": "execute_result"
    }
   ],
   "source": [
    "result_freq_transactions_w_vectors = pd.DataFrame({'Transaction':transactions, 'Vector':transaction_vectors})\n",
    "result_freq_transactions_w_vectors.head()"
   ]
  },
  {
   "cell_type": "code",
   "execution_count": 18,
   "metadata": {},
   "outputs": [
    {
     "data": {
      "text/plain": [
       "167"
      ]
     },
     "execution_count": 18,
     "metadata": {},
     "output_type": "execute_result"
    }
   ],
   "source": [
    "len(result_freq_transactions_w_vectors[\"Vector\"][0])"
   ]
  },
  {
   "cell_type": "code",
   "execution_count": 19,
   "metadata": {},
   "outputs": [],
   "source": [
    "result_freq_transactions_w_vectors.to_csv(\"../Clustering/Dataset/basket_infreq_vector.csv\")"
   ]
  },
  {
   "cell_type": "markdown",
   "metadata": {},
   "source": [
    "### Book Review"
   ]
  },
  {
   "cell_type": "code",
   "execution_count": 20,
   "metadata": {},
   "outputs": [],
   "source": [
    "import pandas as pd\n",
    "from ast import literal_eval\n",
    "\n",
    "dataset = pd.read_csv('../Apriori/Dataset/book_review.csv', names=['description'], converters={\"description\": literal_eval})\n",
    "\n",
    "def preprocess_data(df):\n",
    "    transactions = []\n",
    "    for index, row in df.iterrows():\n",
    "        transaction = row[\"description\"]\n",
    "        transactions.append(transaction)\n",
    "    return transactions\n",
    "\n",
    "descriptions = preprocess_data(dataset)\n",
    "# descriptions[:5]"
   ]
  },
  {
   "cell_type": "code",
   "execution_count": 23,
   "metadata": {},
   "outputs": [
    {
     "data": {
      "text/html": [
       "<div>\n",
       "<style scoped>\n",
       "    .dataframe tbody tr th:only-of-type {\n",
       "        vertical-align: middle;\n",
       "    }\n",
       "\n",
       "    .dataframe tbody tr th {\n",
       "        vertical-align: top;\n",
       "    }\n",
       "\n",
       "    .dataframe thead th {\n",
       "        text-align: right;\n",
       "    }\n",
       "</style>\n",
       "<table border=\"1\" class=\"dataframe\">\n",
       "  <thead>\n",
       "    <tr style=\"text-align: right;\">\n",
       "      <th></th>\n",
       "      <th>Itemset</th>\n",
       "      <th>Support</th>\n",
       "    </tr>\n",
       "  </thead>\n",
       "  <tbody>\n",
       "    <tr>\n",
       "      <th>0</th>\n",
       "      <td>time</td>\n",
       "      <td>0.2298</td>\n",
       "    </tr>\n",
       "    <tr>\n",
       "      <th>1</th>\n",
       "      <td>famili</td>\n",
       "      <td>0.1390</td>\n",
       "    </tr>\n",
       "    <tr>\n",
       "      <th>2</th>\n",
       "      <td>help</td>\n",
       "      <td>0.0990</td>\n",
       "    </tr>\n",
       "    <tr>\n",
       "      <th>3</th>\n",
       "      <td>world</td>\n",
       "      <td>0.2120</td>\n",
       "    </tr>\n",
       "    <tr>\n",
       "      <th>4</th>\n",
       "      <td>take</td>\n",
       "      <td>0.1168</td>\n",
       "    </tr>\n",
       "  </tbody>\n",
       "</table>\n",
       "</div>"
      ],
      "text/plain": [
       "  Itemset  Support\n",
       "0    time   0.2298\n",
       "1  famili   0.1390\n",
       "2    help   0.0990\n",
       "3   world   0.2120\n",
       "4    take   0.1168"
      ]
     },
     "execution_count": 23,
     "metadata": {},
     "output_type": "execute_result"
    }
   ],
   "source": [
    "# book_freq_dataset = pd.read_csv('../Apriori/Frequent Itemsets/Books/books_1500_tfidf.csv')\n",
    "book_freq_dataset = pd.read_csv('../Apriori/Frequent Itemsets/Books/books_0.09_1.csv', converters={\"Itemset\": literal_eval})\n",
    "book_freq_dataset = book_freq_dataset[book_freq_dataset.Itemset.map(len) == 1]\n",
    "book_freq_dataset[\"Itemset\"] = book_freq_dataset[\"Itemset\"].apply(lambda x: \",\".join(map(str,x)))\n",
    "book_freq_dataset.head()"
   ]
  },
  {
   "cell_type": "code",
   "execution_count": 24,
   "metadata": {},
   "outputs": [],
   "source": [
    "book_freq_dataset.to_csv(\"../Clustering/Dataset/book_0.09_freq_vector_mapping.csv\")"
   ]
  },
  {
   "cell_type": "code",
   "execution_count": 25,
   "metadata": {},
   "outputs": [],
   "source": [
    "book_freq_vectors = []\n",
    "for description in descriptions:\n",
    "    temp_vector = []\n",
    "    for freq_item in book_freq_dataset['Itemset'].values:\n",
    "        if freq_item in description:\n",
    "            temp_vector.append(description.count(freq_item))\n",
    "            # temp_vector.append(1)\n",
    "        else:\n",
    "            temp_vector.append(0)\n",
    "    book_freq_vectors.append(temp_vector)\n",
    "\n",
    "# book_freq_vectors[:5]"
   ]
  },
  {
   "cell_type": "code",
   "execution_count": 26,
   "metadata": {},
   "outputs": [
    {
     "data": {
      "text/html": [
       "<div>\n",
       "<style scoped>\n",
       "    .dataframe tbody tr th:only-of-type {\n",
       "        vertical-align: middle;\n",
       "    }\n",
       "\n",
       "    .dataframe tbody tr th {\n",
       "        vertical-align: top;\n",
       "    }\n",
       "\n",
       "    .dataframe thead th {\n",
       "        text-align: right;\n",
       "    }\n",
       "</style>\n",
       "<table border=\"1\" class=\"dataframe\">\n",
       "  <thead>\n",
       "    <tr style=\"text-align: right;\">\n",
       "      <th></th>\n",
       "      <th>Description</th>\n",
       "      <th>Vector</th>\n",
       "    </tr>\n",
       "  </thead>\n",
       "  <tbody>\n",
       "    <tr>\n",
       "      <th>0</th>\n",
       "      <td>[rug, sackett, famili, stood, breed, apart, fe...</td>\n",
       "      <td>[1, 1, 0, 0, 0, 0, 0, 0, 0, 0, 0, 0, 0, 0, 0, ...</td>\n",
       "    </tr>\n",
       "    <tr>\n",
       "      <th>1</th>\n",
       "      <td>[allinclus, guid, design, vacat, retreat, hosp...</td>\n",
       "      <td>[0, 0, 1, 1, 1, 2, 0, 0, 0, 0, 0, 0, 0, 0, 0, ...</td>\n",
       "    </tr>\n",
       "    <tr>\n",
       "      <th>2</th>\n",
       "      <td>[world, war, two, luftwaff, aircraft, pilot, s...</td>\n",
       "      <td>[0, 0, 0, 2, 0, 0, 1, 1, 3, 0, 0, 0, 0, 0, 0, ...</td>\n",
       "    </tr>\n",
       "    <tr>\n",
       "      <th>3</th>\n",
       "      <td>[fiction, histori, fourthcenturi, irish, monk,...</td>\n",
       "      <td>[0, 0, 0, 1, 0, 0, 0, 0, 0, 1, 0, 0, 0, 0, 0, ...</td>\n",
       "    </tr>\n",
       "    <tr>\n",
       "      <th>4</th>\n",
       "      <td>[1941, killakeet, island, windswept, outer, ba...</td>\n",
       "      <td>[0, 1, 0, 1, 0, 0, 0, 0, 1, 0, 2, 1, 1, 1, 1, ...</td>\n",
       "    </tr>\n",
       "  </tbody>\n",
       "</table>\n",
       "</div>"
      ],
      "text/plain": [
       "                                         Description  \\\n",
       "0  [rug, sackett, famili, stood, breed, apart, fe...   \n",
       "1  [allinclus, guid, design, vacat, retreat, hosp...   \n",
       "2  [world, war, two, luftwaff, aircraft, pilot, s...   \n",
       "3  [fiction, histori, fourthcenturi, irish, monk,...   \n",
       "4  [1941, killakeet, island, windswept, outer, ba...   \n",
       "\n",
       "                                              Vector  \n",
       "0  [1, 1, 0, 0, 0, 0, 0, 0, 0, 0, 0, 0, 0, 0, 0, ...  \n",
       "1  [0, 0, 1, 1, 1, 2, 0, 0, 0, 0, 0, 0, 0, 0, 0, ...  \n",
       "2  [0, 0, 0, 2, 0, 0, 1, 1, 3, 0, 0, 0, 0, 0, 0, ...  \n",
       "3  [0, 0, 0, 1, 0, 0, 0, 0, 0, 1, 0, 0, 0, 0, 0, ...  \n",
       "4  [0, 1, 0, 1, 0, 0, 0, 0, 1, 0, 2, 1, 1, 1, 1, ...  "
      ]
     },
     "execution_count": 26,
     "metadata": {},
     "output_type": "execute_result"
    }
   ],
   "source": [
    "result_freq_transactions_w_vectors = pd.DataFrame({'Description':descriptions, 'Vector':book_freq_vectors})\n",
    "result_freq_transactions_w_vectors.head()"
   ]
  },
  {
   "cell_type": "code",
   "execution_count": 27,
   "metadata": {},
   "outputs": [],
   "source": [
    "result_freq_transactions_w_vectors.to_csv(\"../Clustering/Dataset/Book/book_1500_tfidf_vector.csv\")"
   ]
  },
  {
   "cell_type": "markdown",
   "metadata": {},
   "source": [
    "### Combined Code to iterate through all available Minimum Support of the Book Review Dataset"
   ]
  },
  {
   "cell_type": "code",
   "execution_count": 28,
   "metadata": {},
   "outputs": [],
   "source": [
    "import pandas as pd\n",
    "from ast import literal_eval\n",
    "\n",
    "dataset = pd.read_csv('../Apriori/Dataset/book_review.csv', names=['description'], converters={\"description\": literal_eval})\n",
    "\n",
    "def preprocess_data(df):\n",
    "    transactions = []\n",
    "    for index, row in df.iterrows():\n",
    "        transaction = row[\"description\"]\n",
    "        transactions.append(transaction)\n",
    "    return transactions\n",
    "\n",
    "descriptions = preprocess_data(dataset)\n",
    "\n",
    "for i in range(5,16,1): \n",
    "    if i < 10:\n",
    "        i = \"0{}\".format(i)\n",
    "    elif i == 10:\n",
    "        i = 1\n",
    "    book_freq_dataset = pd.read_csv('../Apriori/Frequent Itemsets/Books/books_0.{}_1.csv'.format(i), converters={\"Itemset\": literal_eval})\n",
    "    book_freq_dataset = book_freq_dataset[book_freq_dataset.Itemset.map(len) == 1]\n",
    "    book_freq_dataset[\"Itemset\"] = book_freq_dataset[\"Itemset\"].apply(lambda x: \",\".join(map(str,x)))\n",
    "\n",
    "    book_freq_dataset.to_csv(\"../Clustering/Dataset/Book/book_0.{}_freq_vector_mapping.csv\".format(i))\n",
    "\n",
    "    book_freq_vectors = []\n",
    "    for description in descriptions:\n",
    "        temp_vector = []\n",
    "        for freq_item in book_freq_dataset['Itemset'].values:\n",
    "            if freq_item in description:\n",
    "                temp_vector.append(description.count(freq_item))\n",
    "                # temp_vector.append(1)\n",
    "            else:\n",
    "                temp_vector.append(0)\n",
    "        book_freq_vectors.append(temp_vector)\n",
    "\n",
    "    result_freq_transactions_w_vectors = pd.DataFrame({'Description':descriptions, 'Vector':book_freq_vectors})\n",
    "\n",
    "    result_freq_transactions_w_vectors.to_csv(\"../Clustering/Dataset/Book/book_0.{}_freq_vector.csv\".format(i))"
   ]
  },
  {
   "cell_type": "markdown",
   "metadata": {},
   "source": [
    "### Vectorise Description with its full dimension"
   ]
  },
  {
   "cell_type": "code",
   "execution_count": 29,
   "metadata": {},
   "outputs": [
    {
     "name": "stdout",
     "output_type": "stream",
     "text": [
      "Dimension: 30198\n"
     ]
    }
   ],
   "source": [
    "vectorised_description = []\n",
    "\n",
    "for description in descriptions:\n",
    "    for word in description:\n",
    "        if word not in vectorised_description:\n",
    "            vectorised_description.append(word)\n",
    "\n",
    "print(\"Dimension:\",len(vectorised_description))\n",
    "\n",
    "book_itemset = pd.DataFrame({'Itemset':vectorised_description})\n",
    "\n",
    "book_itemset.to_csv(\"../Clustering/Dataset/Book/book_vector_mapping.csv\")\n",
    "\n",
    "description_vectors = []\n",
    "for description in descriptions:\n",
    "    temp_vector = []\n",
    "    for freq_item in vectorised_description:\n",
    "        if freq_item in description:\n",
    "            temp_vector.append(description.count(freq_item))\n",
    "            # temp_vector.append(1)\n",
    "        else:\n",
    "            temp_vector.append(0)\n",
    "    description_vectors.append(temp_vector)\n",
    "\n",
    "result_book_w_vectors = pd.DataFrame({'Description':descriptions, 'Vector':description_vectors})\n",
    "\n",
    "result_book_w_vectors.to_csv(\"../Clustering/Dataset/Book/book_vector.csv\")"
   ]
  }
 ],
 "metadata": {
  "kernelspec": {
   "display_name": "Python 3",
   "language": "python",
   "name": "python3"
  },
  "language_info": {
   "codemirror_mode": {
    "name": "ipython",
    "version": 3
   },
   "file_extension": ".py",
   "mimetype": "text/x-python",
   "name": "python",
   "nbconvert_exporter": "python",
   "pygments_lexer": "ipython3",
   "version": "3.11.6"
  }
 },
 "nbformat": 4,
 "nbformat_minor": 2
}
