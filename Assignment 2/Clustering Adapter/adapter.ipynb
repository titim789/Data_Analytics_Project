{
 "cells": [
  {
   "cell_type": "code",
   "execution_count": 1,
   "metadata": {},
   "outputs": [],
   "source": [
    "import pandas as pd\n",
    "import numpy as np"
   ]
  },
  {
   "cell_type": "code",
   "execution_count": 2,
   "metadata": {},
   "outputs": [
    {
     "data": {
      "text/plain": [
       "[['whole milk', 'pastry', 'salty snack'],\n",
       " ['whole milk', 'yogurt', 'semi-finished bread', 'sausage'],\n",
       " ['pickled vegetables', 'soda'],\n",
       " ['misc. beverages', 'canned beer'],\n",
       " ['hygiene articles', 'sausage']]"
      ]
     },
     "execution_count": 2,
     "metadata": {},
     "output_type": "execute_result"
    }
   ],
   "source": [
    "dataset = pd.read_csv('../Apriori/Dataset/basket.csv')\n",
    "\n",
    "def preprocess_data(df):\n",
    "    transactions = []\n",
    "    for index, row in df.iterrows():\n",
    "        transaction = set(row.dropna().unique())\n",
    "        if transaction:\n",
    "            transactions.append(list(transaction))\n",
    "    return transactions\n",
    "\n",
    "transactions = preprocess_data(dataset)\n",
    "transactions[:5]"
   ]
  },
  {
   "cell_type": "code",
   "execution_count": 72,
   "metadata": {},
   "outputs": [
    {
     "data": {
      "text/html": [
       "<div>\n",
       "<style scoped>\n",
       "    .dataframe tbody tr th:only-of-type {\n",
       "        vertical-align: middle;\n",
       "    }\n",
       "\n",
       "    .dataframe tbody tr th {\n",
       "        vertical-align: top;\n",
       "    }\n",
       "\n",
       "    .dataframe thead th {\n",
       "        text-align: right;\n",
       "    }\n",
       "</style>\n",
       "<table border=\"1\" class=\"dataframe\">\n",
       "  <thead>\n",
       "    <tr style=\"text-align: right;\">\n",
       "      <th></th>\n",
       "      <th>Size</th>\n",
       "      <th>Itemset</th>\n",
       "    </tr>\n",
       "  </thead>\n",
       "  <tbody>\n",
       "    <tr>\n",
       "      <th>0</th>\n",
       "      <td>1</td>\n",
       "      <td>salty snack</td>\n",
       "    </tr>\n",
       "    <tr>\n",
       "      <th>1</th>\n",
       "      <td>1</td>\n",
       "      <td>whole milk</td>\n",
       "    </tr>\n",
       "    <tr>\n",
       "      <th>2</th>\n",
       "      <td>1</td>\n",
       "      <td>pastry</td>\n",
       "    </tr>\n",
       "    <tr>\n",
       "      <th>3</th>\n",
       "      <td>1</td>\n",
       "      <td>yogurt</td>\n",
       "    </tr>\n",
       "    <tr>\n",
       "      <th>4</th>\n",
       "      <td>1</td>\n",
       "      <td>sausage</td>\n",
       "    </tr>\n",
       "    <tr>\n",
       "      <th>...</th>\n",
       "      <td>...</td>\n",
       "      <td>...</td>\n",
       "    </tr>\n",
       "    <tr>\n",
       "      <th>59</th>\n",
       "      <td>1</td>\n",
       "      <td>pork</td>\n",
       "    </tr>\n",
       "    <tr>\n",
       "      <th>60</th>\n",
       "      <td>1</td>\n",
       "      <td>ice cream</td>\n",
       "    </tr>\n",
       "    <tr>\n",
       "      <th>61</th>\n",
       "      <td>1</td>\n",
       "      <td>waffles</td>\n",
       "    </tr>\n",
       "    <tr>\n",
       "      <th>62</th>\n",
       "      <td>1</td>\n",
       "      <td>cat food</td>\n",
       "    </tr>\n",
       "    <tr>\n",
       "      <th>63</th>\n",
       "      <td>1</td>\n",
       "      <td>chewing gum</td>\n",
       "    </tr>\n",
       "  </tbody>\n",
       "</table>\n",
       "<p>64 rows × 2 columns</p>\n",
       "</div>"
      ],
      "text/plain": [
       "    Size      Itemset\n",
       "0      1  salty snack\n",
       "1      1   whole milk\n",
       "2      1       pastry\n",
       "3      1       yogurt\n",
       "4      1      sausage\n",
       "..   ...          ...\n",
       "59     1         pork\n",
       "60     1    ice cream\n",
       "61     1      waffles\n",
       "62     1     cat food\n",
       "63     1  chewing gum\n",
       "\n",
       "[64 rows x 2 columns]"
      ]
     },
     "execution_count": 72,
     "metadata": {},
     "output_type": "execute_result"
    }
   ],
   "source": [
    "freq_dataset = pd.read_csv('../Apriori/Dataset/apriori_dataset.csv')\n",
    "freq_dataset = freq_dataset[freq_dataset['Size'] == 1]\n",
    "freq_dataset.to_csv(\"Adapter Output/vector_mapping.csv\")\n",
    "freq_dataset\n"
   ]
  },
  {
   "cell_type": "markdown",
   "metadata": {},
   "source": [
    "### Creating the transaction Vectors using frequent itemsets as features"
   ]
  },
  {
   "cell_type": "code",
   "execution_count": 44,
   "metadata": {},
   "outputs": [
    {
     "data": {
      "text/html": [
       "<div>\n",
       "<style scoped>\n",
       "    .dataframe tbody tr th:only-of-type {\n",
       "        vertical-align: middle;\n",
       "    }\n",
       "\n",
       "    .dataframe tbody tr th {\n",
       "        vertical-align: top;\n",
       "    }\n",
       "\n",
       "    .dataframe thead th {\n",
       "        text-align: right;\n",
       "    }\n",
       "</style>\n",
       "<table border=\"1\" class=\"dataframe\">\n",
       "  <thead>\n",
       "    <tr style=\"text-align: right;\">\n",
       "      <th></th>\n",
       "      <th>salty snack</th>\n",
       "      <th>whole milk</th>\n",
       "      <th>pastry</th>\n",
       "      <th>yogurt</th>\n",
       "      <th>sausage</th>\n",
       "      <th>soda</th>\n",
       "      <th>canned beer</th>\n",
       "      <th>misc. beverages</th>\n",
       "      <th>hygiene articles</th>\n",
       "      <th>rolls/buns</th>\n",
       "      <th>...</th>\n",
       "      <th>long life bakery product</th>\n",
       "      <th>beverages</th>\n",
       "      <th>berries</th>\n",
       "      <th>ham</th>\n",
       "      <th>cream cheese</th>\n",
       "      <th>pork</th>\n",
       "      <th>ice cream</th>\n",
       "      <th>waffles</th>\n",
       "      <th>cat food</th>\n",
       "      <th>chewing gum</th>\n",
       "    </tr>\n",
       "  </thead>\n",
       "  <tbody>\n",
       "  </tbody>\n",
       "</table>\n",
       "<p>0 rows × 64 columns</p>\n",
       "</div>"
      ],
      "text/plain": [
       "Empty DataFrame\n",
       "Columns: [salty snack, whole milk, pastry, yogurt, sausage, soda, canned beer, misc. beverages, hygiene articles, rolls/buns, frankfurter, whipped/sour cream, curd, beef, white bread, butter, other vegetables, frozen vegetables, sugar, tropical fruit, specialty chocolate, butter milk, frozen meals, root vegetables, pip fruit, red/blush wine, chocolate, shopping bags, margarine, bottled water, chicken, bottled beer, dessert, hamburger meat, domestic eggs, white wine, newspapers, herbs, coffee, UHT-milk, specialty bar, sliced cheese, candy, citrus fruit, grapes, brown bread, processed cheese, onions, napkins, hard cheese, meat, fruit/vegetable juice, soft cheese, oil, long life bakery product, beverages, berries, ham, cream cheese , pork, ice cream, waffles, cat food, chewing gum]\n",
       "Index: []\n",
       "\n",
       "[0 rows x 64 columns]"
      ]
     },
     "execution_count": 44,
     "metadata": {},
     "output_type": "execute_result"
    }
   ],
   "source": [
    "result_vector = pd.DataFrame(columns=freq_dataset['Itemset'].values)\n",
    "result_vector"
   ]
  },
  {
   "cell_type": "code",
   "execution_count": 69,
   "metadata": {},
   "outputs": [],
   "source": [
    "transaction_vectors = []\n",
    "for transaction in transactions:\n",
    "    temp_vector = []\n",
    "    for freq_item in freq_dataset['Itemset'].values:\n",
    "        if freq_item in transaction:\n",
    "            temp_vector.append(1)\n",
    "        else:\n",
    "            temp_vector.append(0)\n",
    "    transaction_vectors.append(temp_vector)\n",
    "\n",
    "# transaction_vectors[:5]\n"
   ]
  },
  {
   "cell_type": "code",
   "execution_count": 70,
   "metadata": {},
   "outputs": [
    {
     "data": {
      "text/html": [
       "<div>\n",
       "<style scoped>\n",
       "    .dataframe tbody tr th:only-of-type {\n",
       "        vertical-align: middle;\n",
       "    }\n",
       "\n",
       "    .dataframe tbody tr th {\n",
       "        vertical-align: top;\n",
       "    }\n",
       "\n",
       "    .dataframe thead th {\n",
       "        text-align: right;\n",
       "    }\n",
       "</style>\n",
       "<table border=\"1\" class=\"dataframe\">\n",
       "  <thead>\n",
       "    <tr style=\"text-align: right;\">\n",
       "      <th></th>\n",
       "      <th>Transaction</th>\n",
       "      <th>Vector</th>\n",
       "    </tr>\n",
       "  </thead>\n",
       "  <tbody>\n",
       "    <tr>\n",
       "      <th>0</th>\n",
       "      <td>[salty snack, pastry, whole milk]</td>\n",
       "      <td>[1, 1, 1, 0, 0, 0, 0, 0, 0, 0, 0, 0, 0, 0, 0, ...</td>\n",
       "    </tr>\n",
       "    <tr>\n",
       "      <th>1</th>\n",
       "      <td>[yogurt, semi-finished bread, whole milk, saus...</td>\n",
       "      <td>[0, 1, 0, 1, 1, 0, 0, 0, 0, 0, 0, 0, 0, 0, 0, ...</td>\n",
       "    </tr>\n",
       "    <tr>\n",
       "      <th>2</th>\n",
       "      <td>[soda, pickled vegetables]</td>\n",
       "      <td>[0, 0, 0, 0, 0, 1, 0, 0, 0, 0, 0, 0, 0, 0, 0, ...</td>\n",
       "    </tr>\n",
       "    <tr>\n",
       "      <th>3</th>\n",
       "      <td>[misc. beverages, canned beer]</td>\n",
       "      <td>[0, 0, 0, 0, 0, 0, 1, 1, 0, 0, 0, 0, 0, 0, 0, ...</td>\n",
       "    </tr>\n",
       "    <tr>\n",
       "      <th>4</th>\n",
       "      <td>[hygiene articles, sausage]</td>\n",
       "      <td>[0, 0, 0, 0, 1, 0, 0, 0, 1, 0, 0, 0, 0, 0, 0, ...</td>\n",
       "    </tr>\n",
       "  </tbody>\n",
       "</table>\n",
       "</div>"
      ],
      "text/plain": [
       "                                         Transaction  \\\n",
       "0                  [salty snack, pastry, whole milk]   \n",
       "1  [yogurt, semi-finished bread, whole milk, saus...   \n",
       "2                         [soda, pickled vegetables]   \n",
       "3                     [misc. beverages, canned beer]   \n",
       "4                        [hygiene articles, sausage]   \n",
       "\n",
       "                                              Vector  \n",
       "0  [1, 1, 1, 0, 0, 0, 0, 0, 0, 0, 0, 0, 0, 0, 0, ...  \n",
       "1  [0, 1, 0, 1, 1, 0, 0, 0, 0, 0, 0, 0, 0, 0, 0, ...  \n",
       "2  [0, 0, 0, 0, 0, 1, 0, 0, 0, 0, 0, 0, 0, 0, 0, ...  \n",
       "3  [0, 0, 0, 0, 0, 0, 1, 1, 0, 0, 0, 0, 0, 0, 0, ...  \n",
       "4  [0, 0, 0, 0, 1, 0, 0, 0, 1, 0, 0, 0, 0, 0, 0, ...  "
      ]
     },
     "execution_count": 70,
     "metadata": {},
     "output_type": "execute_result"
    }
   ],
   "source": [
    "result_transactions_w_vectors = pd.DataFrame({'Transaction':transactions, 'Vector':transaction_vectors})\n",
    "result_transactions_w_vectors.head()"
   ]
  },
  {
   "cell_type": "code",
   "execution_count": 71,
   "metadata": {},
   "outputs": [],
   "source": [
    "result_transactions_w_vectors.to_csv(\"Adapter Output/result_w_vector.csv\")"
   ]
  },
  {
   "cell_type": "code",
   "execution_count": null,
   "metadata": {},
   "outputs": [],
   "source": []
  }
 ],
 "metadata": {
  "kernelspec": {
   "display_name": "Python 3",
   "language": "python",
   "name": "python3"
  },
  "language_info": {
   "codemirror_mode": {
    "name": "ipython",
    "version": 3
   },
   "file_extension": ".py",
   "mimetype": "text/x-python",
   "name": "python",
   "nbconvert_exporter": "python",
   "pygments_lexer": "ipython3",
   "version": "3.11.6"
  }
 },
 "nbformat": 4,
 "nbformat_minor": 2
}
