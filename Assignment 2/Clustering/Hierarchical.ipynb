{
 "cells": [
  {
   "cell_type": "code",
   "execution_count": 22,
   "metadata": {},
   "outputs": [
    {
     "name": "stdout",
     "output_type": "stream",
     "text": [
      "Generating cluster range for basket_0.02_freq_vector.csv...\n",
      "Clustering data (n_clusters = 3): basket_0.02_freq_vector.csv...\n",
      "Reading data from path: ./Dataset/Basket/basket_0.02_freq_vector.csv...\n",
      "Converting string representation of list to actual list...\n",
      "Converting list of vectors into DataFrame...\n",
      "Extracting Vector column...\n",
      "Creating model...\n",
      "Fitting model...\n"
     ]
    },
    {
     "name": "stderr",
     "output_type": "stream",
     "text": [
      "/usr/local/lib/python3.11/site-packages/sklearn/cluster/_agglomerative.py:983: FutureWarning: Attribute `affinity` was deprecated in version 1.2 and will be removed in 1.4. Use `metric` instead\n",
      "  warnings.warn(\n"
     ]
    },
    {
     "name": "stdout",
     "output_type": "stream",
     "text": [
      "Saving data as ./Output Clusters/Basket/basket_0.02_freq_vector_hc_3.csv...\n",
      "Clustering data (n_clusters = 3): basket_0.02_freq_vector.csvdone!\n",
      "Clustering data (n_clusters = 6): basket_0.02_freq_vector.csv...\n",
      "Reading data from path: ./Dataset/Basket/basket_0.02_freq_vector.csv...\n",
      "Converting string representation of list to actual list...\n",
      "Converting list of vectors into DataFrame...\n",
      "Extracting Vector column...\n",
      "Creating model...\n",
      "Fitting model...\n"
     ]
    },
    {
     "name": "stderr",
     "output_type": "stream",
     "text": [
      "/usr/local/lib/python3.11/site-packages/sklearn/cluster/_agglomerative.py:983: FutureWarning: Attribute `affinity` was deprecated in version 1.2 and will be removed in 1.4. Use `metric` instead\n",
      "  warnings.warn(\n"
     ]
    },
    {
     "name": "stdout",
     "output_type": "stream",
     "text": [
      "Saving data as ./Output Clusters/Basket/basket_0.02_freq_vector_hc_6.csv...\n",
      "Clustering data (n_clusters = 6): basket_0.02_freq_vector.csvdone!\n",
      "Clustering data (n_clusters = 9): basket_0.02_freq_vector.csv...\n",
      "Reading data from path: ./Dataset/Basket/basket_0.02_freq_vector.csv...\n",
      "Converting string representation of list to actual list...\n",
      "Converting list of vectors into DataFrame...\n",
      "Extracting Vector column...\n",
      "Creating model...\n",
      "Fitting model...\n"
     ]
    },
    {
     "name": "stderr",
     "output_type": "stream",
     "text": [
      "/usr/local/lib/python3.11/site-packages/sklearn/cluster/_agglomerative.py:983: FutureWarning: Attribute `affinity` was deprecated in version 1.2 and will be removed in 1.4. Use `metric` instead\n",
      "  warnings.warn(\n"
     ]
    },
    {
     "name": "stdout",
     "output_type": "stream",
     "text": [
      "Saving data as ./Output Clusters/Basket/basket_0.02_freq_vector_hc_9.csv...\n",
      "Clustering data (n_clusters = 9): basket_0.02_freq_vector.csvdone!\n",
      "Generating cluster range for basket_0.02_freq_vector.csv.csv done!\n"
     ]
    }
   ],
   "source": [
    "# Clustering using Hierarchical Clustering\n",
    "from sklearn.cluster import AgglomerativeClustering\n",
    "import pandas as pd\n",
    "import numpy as np\n",
    "import ast\n",
    "\n",
    "\n",
    "def cluster_data(file_name, n_clusters):\n",
    "    \"\"\"Perform hierarchical clustering on data and save as csv file.\n",
    "\n",
    "    Args:\n",
    "        file_name (string): name of the data file\n",
    "        n_clusters (int): no. of clusters to create\n",
    "    \"\"\"\n",
    "    print(\"Clustering data (n_clusters = \" + str(n_clusters) + \"): \" + file_name + \"...\")\n",
    "    \n",
    "    if \"book\" in file_name:\n",
    "        dataset_path = \"./Dataset/Book/\"\n",
    "        output_path = \"./Output Clusters/Book/\"\n",
    "    elif \"basket\" in file_name:\n",
    "        dataset_path = \"./Dataset/Basket/\"\n",
    "        output_path = \"./Output Clusters/Basket/\"\n",
    "    else:\n",
    "        dataset_path = \"./Dataset/\"\n",
    "        output_path = \"./Output Clusters/\"\n",
    "        \n",
    "    # Read data from csv\n",
    "    print(\"Reading data from path: \" + dataset_path + file_name + \"...\")\n",
    "    data = pd.read_csv(dataset_path + file_name )\n",
    "    \n",
    "    # Convert string representation of list to actual list\n",
    "    print(\"Converting string representation of list to actual list...\")\n",
    "    data['Vector'] = data['Vector'].apply(lambda x: ast.literal_eval(x))\n",
    "    \n",
    "    # Convert list of vectors into DataFrame\n",
    "    print(\"Converting list of vectors into DataFrame...\")\n",
    "    vector_df = pd.DataFrame(data['Vector'].to_list())\n",
    "    \n",
    "    # Extract Vector column\n",
    "    print(\"Extracting Vector column...\")\n",
    "    X = vector_df.values\n",
    "    \n",
    "    # Create model\n",
    "    print(\"Creating model...\")\n",
    "    hc = AgglomerativeClustering(n_clusters=n_clusters, affinity='euclidean', linkage='ward')\n",
    "    \n",
    "    # Fit model and add cluster column to df\n",
    "    print(\"Fitting model...\")\n",
    "    data['Cluster'] = hc.fit_predict(X)\n",
    "    \n",
    "    # Save to csv\n",
    "    save_csv_file = file_name.replace(\".csv\", \"_hc_\" + str(n_clusters) + \".csv\")\n",
    "    print(\"Saving data as \" + output_path + save_csv_file + \"...\")\n",
    "    data.to_csv(output_path + save_csv_file, index=False)\n",
    "    \n",
    "    print(\"Clustering data (n_clusters = \" + str(n_clusters) + \"): \" + file_name + \"done!\")\n",
    "    \n",
    "    \n",
    "def generate_cluster_range(file_name, n_start, n_end, n_step):\n",
    "    print(\"Generating cluster range for \" + file_name + \"...\")\n",
    "    cluster_range = range(n_start, n_end, n_step)\n",
    "    \n",
    "    for n in cluster_range:\n",
    "        cluster_data(file_name, n)\n",
    "        \n",
    "    print(\"Generating cluster range for \" + file_name + \".csv done!\")\n",
    "\n",
    "# ==================================================== Testing ====================================================\n",
    "# cluster_data(\"Basket/basket_freq_vector\", 3)\n",
    "generate_cluster_range(\"basket_0.02_freq_vector.csv\", 3, 12, 3)\n",
    "\n"
   ]
  },
  {
   "cell_type": "code",
   "execution_count": 24,
   "metadata": {},
   "outputs": [
    {
     "name": "stdout",
     "output_type": "stream",
     "text": [
      "basket_0.05_freq_vector.csv\n",
      "Generating cluster range for basket_0.05_freq_vector.csv...\n",
      "Clustering data (n_clusters = 3): basket_0.05_freq_vector.csv...\n",
      "Reading data from path: ./Dataset/Basket/basket_0.05_freq_vector.csv...\n",
      "Converting string representation of list to actual list...\n",
      "Converting list of vectors into DataFrame...\n",
      "Extracting Vector column...\n",
      "Creating model...\n",
      "Fitting model...\n"
     ]
    },
    {
     "name": "stderr",
     "output_type": "stream",
     "text": [
      "/usr/local/lib/python3.11/site-packages/sklearn/cluster/_agglomerative.py:983: FutureWarning: Attribute `affinity` was deprecated in version 1.2 and will be removed in 1.4. Use `metric` instead\n",
      "  warnings.warn(\n"
     ]
    },
    {
     "name": "stdout",
     "output_type": "stream",
     "text": [
      "Saving data as ./Output Clusters/Basket/basket_0.05_freq_vector_hc_3.csv...\n",
      "Clustering data (n_clusters = 3): basket_0.05_freq_vector.csvdone!\n",
      "Clustering data (n_clusters = 6): basket_0.05_freq_vector.csv...\n",
      "Reading data from path: ./Dataset/Basket/basket_0.05_freq_vector.csv...\n",
      "Converting string representation of list to actual list...\n",
      "Converting list of vectors into DataFrame...\n",
      "Extracting Vector column...\n",
      "Creating model...\n",
      "Fitting model...\n"
     ]
    },
    {
     "name": "stderr",
     "output_type": "stream",
     "text": [
      "/usr/local/lib/python3.11/site-packages/sklearn/cluster/_agglomerative.py:983: FutureWarning: Attribute `affinity` was deprecated in version 1.2 and will be removed in 1.4. Use `metric` instead\n",
      "  warnings.warn(\n"
     ]
    },
    {
     "name": "stdout",
     "output_type": "stream",
     "text": [
      "Saving data as ./Output Clusters/Basket/basket_0.05_freq_vector_hc_6.csv...\n",
      "Clustering data (n_clusters = 6): basket_0.05_freq_vector.csvdone!\n",
      "Clustering data (n_clusters = 9): basket_0.05_freq_vector.csv...\n",
      "Reading data from path: ./Dataset/Basket/basket_0.05_freq_vector.csv...\n",
      "Converting string representation of list to actual list...\n",
      "Converting list of vectors into DataFrame...\n",
      "Extracting Vector column...\n",
      "Creating model...\n",
      "Fitting model...\n"
     ]
    },
    {
     "name": "stderr",
     "output_type": "stream",
     "text": [
      "/usr/local/lib/python3.11/site-packages/sklearn/cluster/_agglomerative.py:983: FutureWarning: Attribute `affinity` was deprecated in version 1.2 and will be removed in 1.4. Use `metric` instead\n",
      "  warnings.warn(\n"
     ]
    },
    {
     "name": "stdout",
     "output_type": "stream",
     "text": [
      "Saving data as ./Output Clusters/Basket/basket_0.05_freq_vector_hc_9.csv...\n",
      "Clustering data (n_clusters = 9): basket_0.05_freq_vector.csvdone!\n",
      "Clustering data (n_clusters = 12): basket_0.05_freq_vector.csv...\n",
      "Reading data from path: ./Dataset/Basket/basket_0.05_freq_vector.csv...\n",
      "Converting string representation of list to actual list...\n",
      "Converting list of vectors into DataFrame...\n",
      "Extracting Vector column...\n",
      "Creating model...\n",
      "Fitting model...\n"
     ]
    },
    {
     "name": "stderr",
     "output_type": "stream",
     "text": [
      "/usr/local/lib/python3.11/site-packages/sklearn/cluster/_agglomerative.py:983: FutureWarning: Attribute `affinity` was deprecated in version 1.2 and will be removed in 1.4. Use `metric` instead\n",
      "  warnings.warn(\n"
     ]
    },
    {
     "name": "stdout",
     "output_type": "stream",
     "text": [
      "Saving data as ./Output Clusters/Basket/basket_0.05_freq_vector_hc_12.csv...\n",
      "Clustering data (n_clusters = 12): basket_0.05_freq_vector.csvdone!\n",
      "Clustering data (n_clusters = 15): basket_0.05_freq_vector.csv...\n",
      "Reading data from path: ./Dataset/Basket/basket_0.05_freq_vector.csv...\n",
      "Converting string representation of list to actual list...\n",
      "Converting list of vectors into DataFrame...\n",
      "Extracting Vector column...\n",
      "Creating model...\n",
      "Fitting model...\n"
     ]
    },
    {
     "name": "stderr",
     "output_type": "stream",
     "text": [
      "/usr/local/lib/python3.11/site-packages/sklearn/cluster/_agglomerative.py:983: FutureWarning: Attribute `affinity` was deprecated in version 1.2 and will be removed in 1.4. Use `metric` instead\n",
      "  warnings.warn(\n"
     ]
    },
    {
     "name": "stdout",
     "output_type": "stream",
     "text": [
      "Saving data as ./Output Clusters/Basket/basket_0.05_freq_vector_hc_15.csv...\n",
      "Clustering data (n_clusters = 15): basket_0.05_freq_vector.csvdone!\n",
      "Generating cluster range for basket_0.05_freq_vector.csv.csv done!\n",
      "basket_0.05_freq_vector_mapping.csv\n",
      "basket_0.02_freq_vector.csv\n",
      "Generating cluster range for basket_0.02_freq_vector.csv...\n",
      "Clustering data (n_clusters = 3): basket_0.02_freq_vector.csv...\n",
      "Reading data from path: ./Dataset/Basket/basket_0.02_freq_vector.csv...\n",
      "Converting string representation of list to actual list...\n",
      "Converting list of vectors into DataFrame...\n",
      "Extracting Vector column...\n",
      "Creating model...\n",
      "Fitting model...\n"
     ]
    },
    {
     "name": "stderr",
     "output_type": "stream",
     "text": [
      "/usr/local/lib/python3.11/site-packages/sklearn/cluster/_agglomerative.py:983: FutureWarning: Attribute `affinity` was deprecated in version 1.2 and will be removed in 1.4. Use `metric` instead\n",
      "  warnings.warn(\n"
     ]
    },
    {
     "name": "stdout",
     "output_type": "stream",
     "text": [
      "Saving data as ./Output Clusters/Basket/basket_0.02_freq_vector_hc_3.csv...\n",
      "Clustering data (n_clusters = 3): basket_0.02_freq_vector.csvdone!\n",
      "Clustering data (n_clusters = 6): basket_0.02_freq_vector.csv...\n",
      "Reading data from path: ./Dataset/Basket/basket_0.02_freq_vector.csv...\n",
      "Converting string representation of list to actual list...\n",
      "Converting list of vectors into DataFrame...\n",
      "Extracting Vector column...\n",
      "Creating model...\n",
      "Fitting model...\n"
     ]
    },
    {
     "name": "stderr",
     "output_type": "stream",
     "text": [
      "/usr/local/lib/python3.11/site-packages/sklearn/cluster/_agglomerative.py:983: FutureWarning: Attribute `affinity` was deprecated in version 1.2 and will be removed in 1.4. Use `metric` instead\n",
      "  warnings.warn(\n"
     ]
    },
    {
     "name": "stdout",
     "output_type": "stream",
     "text": [
      "Saving data as ./Output Clusters/Basket/basket_0.02_freq_vector_hc_6.csv...\n",
      "Clustering data (n_clusters = 6): basket_0.02_freq_vector.csvdone!\n",
      "Clustering data (n_clusters = 9): basket_0.02_freq_vector.csv...\n",
      "Reading data from path: ./Dataset/Basket/basket_0.02_freq_vector.csv...\n",
      "Converting string representation of list to actual list...\n",
      "Converting list of vectors into DataFrame...\n",
      "Extracting Vector column...\n",
      "Creating model...\n",
      "Fitting model...\n"
     ]
    },
    {
     "name": "stderr",
     "output_type": "stream",
     "text": [
      "/usr/local/lib/python3.11/site-packages/sklearn/cluster/_agglomerative.py:983: FutureWarning: Attribute `affinity` was deprecated in version 1.2 and will be removed in 1.4. Use `metric` instead\n",
      "  warnings.warn(\n"
     ]
    },
    {
     "name": "stdout",
     "output_type": "stream",
     "text": [
      "Saving data as ./Output Clusters/Basket/basket_0.02_freq_vector_hc_9.csv...\n",
      "Clustering data (n_clusters = 9): basket_0.02_freq_vector.csvdone!\n",
      "Clustering data (n_clusters = 12): basket_0.02_freq_vector.csv...\n",
      "Reading data from path: ./Dataset/Basket/basket_0.02_freq_vector.csv...\n",
      "Converting string representation of list to actual list...\n",
      "Converting list of vectors into DataFrame...\n",
      "Extracting Vector column...\n",
      "Creating model...\n",
      "Fitting model...\n"
     ]
    },
    {
     "name": "stderr",
     "output_type": "stream",
     "text": [
      "/usr/local/lib/python3.11/site-packages/sklearn/cluster/_agglomerative.py:983: FutureWarning: Attribute `affinity` was deprecated in version 1.2 and will be removed in 1.4. Use `metric` instead\n",
      "  warnings.warn(\n"
     ]
    },
    {
     "name": "stdout",
     "output_type": "stream",
     "text": [
      "Saving data as ./Output Clusters/Basket/basket_0.02_freq_vector_hc_12.csv...\n",
      "Clustering data (n_clusters = 12): basket_0.02_freq_vector.csvdone!\n",
      "Clustering data (n_clusters = 15): basket_0.02_freq_vector.csv...\n",
      "Reading data from path: ./Dataset/Basket/basket_0.02_freq_vector.csv...\n",
      "Converting string representation of list to actual list...\n",
      "Converting list of vectors into DataFrame...\n",
      "Extracting Vector column...\n",
      "Creating model...\n",
      "Fitting model...\n"
     ]
    },
    {
     "name": "stderr",
     "output_type": "stream",
     "text": [
      "/usr/local/lib/python3.11/site-packages/sklearn/cluster/_agglomerative.py:983: FutureWarning: Attribute `affinity` was deprecated in version 1.2 and will be removed in 1.4. Use `metric` instead\n",
      "  warnings.warn(\n"
     ]
    },
    {
     "name": "stdout",
     "output_type": "stream",
     "text": [
      "Saving data as ./Output Clusters/Basket/basket_0.02_freq_vector_hc_15.csv...\n",
      "Clustering data (n_clusters = 15): basket_0.02_freq_vector.csvdone!\n",
      "Generating cluster range for basket_0.02_freq_vector.csv.csv done!\n",
      "basket_0.02_freq_vector_mapping.csv\n"
     ]
    }
   ],
   "source": [
    "# Clustering basket data\n",
    "import os \n",
    "for file in os.listdir(\"./Dataset/Basket/\"):\n",
    "    print(file)\n",
    "    if \"mapping\" not in file:\n",
    "        generate_cluster_range(file, 3, 18, 3)\n",
    "# generate_cluster_range(\"basket_freq_vector.csv\", 3, 12, 3)"
   ]
  },
  {
   "cell_type": "code",
   "execution_count": 3,
   "metadata": {},
   "outputs": [
    {
     "name": "stdout",
     "output_type": "stream",
     "text": [
      "Generating cluster range for book_0.08_freq_vector.csv...\n",
      "Clustering data (n_clusters = 3): book_0.08_freq_vector.csv...\n",
      "Reading data from path: ./Dataset/Book/book_0.08_freq_vector.csv...\n",
      "Converting string representation of list to actual list...\n",
      "Converting list of vectors into DataFrame...\n",
      "Extracting Vector column...\n",
      "Creating model...\n",
      "Fitting model...\n"
     ]
    },
    {
     "name": "stderr",
     "output_type": "stream",
     "text": [
      "/usr/local/lib/python3.11/site-packages/sklearn/cluster/_agglomerative.py:983: FutureWarning: Attribute `affinity` was deprecated in version 1.2 and will be removed in 1.4. Use `metric` instead\n",
      "  warnings.warn(\n"
     ]
    },
    {
     "name": "stdout",
     "output_type": "stream",
     "text": [
      "Saving data as ./Output Clusters/Book/book_0.08_freq_vector_hc_3.csv...\n",
      "Clustering data (n_clusters = 3): book_0.08_freq_vector.csvdone!\n",
      "Clustering data (n_clusters = 6): book_0.08_freq_vector.csv...\n",
      "Reading data from path: ./Dataset/Book/book_0.08_freq_vector.csv...\n",
      "Converting string representation of list to actual list...\n",
      "Converting list of vectors into DataFrame...\n",
      "Extracting Vector column...\n",
      "Creating model...\n",
      "Fitting model...\n"
     ]
    },
    {
     "name": "stderr",
     "output_type": "stream",
     "text": [
      "/usr/local/lib/python3.11/site-packages/sklearn/cluster/_agglomerative.py:983: FutureWarning: Attribute `affinity` was deprecated in version 1.2 and will be removed in 1.4. Use `metric` instead\n",
      "  warnings.warn(\n"
     ]
    },
    {
     "name": "stdout",
     "output_type": "stream",
     "text": [
      "Saving data as ./Output Clusters/Book/book_0.08_freq_vector_hc_6.csv...\n",
      "Clustering data (n_clusters = 6): book_0.08_freq_vector.csvdone!\n",
      "Clustering data (n_clusters = 9): book_0.08_freq_vector.csv...\n",
      "Reading data from path: ./Dataset/Book/book_0.08_freq_vector.csv...\n",
      "Converting string representation of list to actual list...\n",
      "Converting list of vectors into DataFrame...\n",
      "Extracting Vector column...\n",
      "Creating model...\n",
      "Fitting model...\n"
     ]
    },
    {
     "name": "stderr",
     "output_type": "stream",
     "text": [
      "/usr/local/lib/python3.11/site-packages/sklearn/cluster/_agglomerative.py:983: FutureWarning: Attribute `affinity` was deprecated in version 1.2 and will be removed in 1.4. Use `metric` instead\n",
      "  warnings.warn(\n"
     ]
    },
    {
     "name": "stdout",
     "output_type": "stream",
     "text": [
      "Saving data as ./Output Clusters/Book/book_0.08_freq_vector_hc_9.csv...\n",
      "Clustering data (n_clusters = 9): book_0.08_freq_vector.csvdone!\n",
      "Clustering data (n_clusters = 12): book_0.08_freq_vector.csv...\n",
      "Reading data from path: ./Dataset/Book/book_0.08_freq_vector.csv...\n",
      "Converting string representation of list to actual list...\n",
      "Converting list of vectors into DataFrame...\n",
      "Extracting Vector column...\n",
      "Creating model...\n",
      "Fitting model...\n"
     ]
    },
    {
     "name": "stderr",
     "output_type": "stream",
     "text": [
      "/usr/local/lib/python3.11/site-packages/sklearn/cluster/_agglomerative.py:983: FutureWarning: Attribute `affinity` was deprecated in version 1.2 and will be removed in 1.4. Use `metric` instead\n",
      "  warnings.warn(\n"
     ]
    },
    {
     "name": "stdout",
     "output_type": "stream",
     "text": [
      "Saving data as ./Output Clusters/Book/book_0.08_freq_vector_hc_12.csv...\n",
      "Clustering data (n_clusters = 12): book_0.08_freq_vector.csvdone!\n",
      "Clustering data (n_clusters = 15): book_0.08_freq_vector.csv...\n",
      "Reading data from path: ./Dataset/Book/book_0.08_freq_vector.csv...\n",
      "Converting string representation of list to actual list...\n",
      "Converting list of vectors into DataFrame...\n",
      "Extracting Vector column...\n",
      "Creating model...\n",
      "Fitting model...\n"
     ]
    },
    {
     "name": "stderr",
     "output_type": "stream",
     "text": [
      "/usr/local/lib/python3.11/site-packages/sklearn/cluster/_agglomerative.py:983: FutureWarning: Attribute `affinity` was deprecated in version 1.2 and will be removed in 1.4. Use `metric` instead\n",
      "  warnings.warn(\n"
     ]
    },
    {
     "name": "stdout",
     "output_type": "stream",
     "text": [
      "Saving data as ./Output Clusters/Book/book_0.08_freq_vector_hc_15.csv...\n",
      "Clustering data (n_clusters = 15): book_0.08_freq_vector.csvdone!\n",
      "Generating cluster range for book_0.08_freq_vector.csv.csv done!\n",
      "Generating cluster range for book_0.07_freq_vector.csv...\n",
      "Clustering data (n_clusters = 3): book_0.07_freq_vector.csv...\n",
      "Reading data from path: ./Dataset/Book/book_0.07_freq_vector.csv...\n",
      "Converting string representation of list to actual list...\n",
      "Converting list of vectors into DataFrame...\n",
      "Extracting Vector column...\n",
      "Creating model...\n",
      "Fitting model...\n"
     ]
    },
    {
     "name": "stderr",
     "output_type": "stream",
     "text": [
      "/usr/local/lib/python3.11/site-packages/sklearn/cluster/_agglomerative.py:983: FutureWarning: Attribute `affinity` was deprecated in version 1.2 and will be removed in 1.4. Use `metric` instead\n",
      "  warnings.warn(\n"
     ]
    },
    {
     "name": "stdout",
     "output_type": "stream",
     "text": [
      "Saving data as ./Output Clusters/Book/book_0.07_freq_vector_hc_3.csv...\n",
      "Clustering data (n_clusters = 3): book_0.07_freq_vector.csvdone!\n",
      "Clustering data (n_clusters = 6): book_0.07_freq_vector.csv...\n",
      "Reading data from path: ./Dataset/Book/book_0.07_freq_vector.csv...\n",
      "Converting string representation of list to actual list...\n",
      "Converting list of vectors into DataFrame...\n",
      "Extracting Vector column...\n",
      "Creating model...\n",
      "Fitting model...\n"
     ]
    },
    {
     "name": "stderr",
     "output_type": "stream",
     "text": [
      "/usr/local/lib/python3.11/site-packages/sklearn/cluster/_agglomerative.py:983: FutureWarning: Attribute `affinity` was deprecated in version 1.2 and will be removed in 1.4. Use `metric` instead\n",
      "  warnings.warn(\n"
     ]
    },
    {
     "name": "stdout",
     "output_type": "stream",
     "text": [
      "Saving data as ./Output Clusters/Book/book_0.07_freq_vector_hc_6.csv...\n",
      "Clustering data (n_clusters = 6): book_0.07_freq_vector.csvdone!\n",
      "Clustering data (n_clusters = 9): book_0.07_freq_vector.csv...\n",
      "Reading data from path: ./Dataset/Book/book_0.07_freq_vector.csv...\n",
      "Converting string representation of list to actual list...\n",
      "Converting list of vectors into DataFrame...\n",
      "Extracting Vector column...\n",
      "Creating model...\n",
      "Fitting model...\n"
     ]
    },
    {
     "name": "stderr",
     "output_type": "stream",
     "text": [
      "/usr/local/lib/python3.11/site-packages/sklearn/cluster/_agglomerative.py:983: FutureWarning: Attribute `affinity` was deprecated in version 1.2 and will be removed in 1.4. Use `metric` instead\n",
      "  warnings.warn(\n"
     ]
    },
    {
     "name": "stdout",
     "output_type": "stream",
     "text": [
      "Saving data as ./Output Clusters/Book/book_0.07_freq_vector_hc_9.csv...\n",
      "Clustering data (n_clusters = 9): book_0.07_freq_vector.csvdone!\n",
      "Clustering data (n_clusters = 12): book_0.07_freq_vector.csv...\n",
      "Reading data from path: ./Dataset/Book/book_0.07_freq_vector.csv...\n",
      "Converting string representation of list to actual list...\n",
      "Converting list of vectors into DataFrame...\n",
      "Extracting Vector column...\n",
      "Creating model...\n",
      "Fitting model...\n"
     ]
    },
    {
     "name": "stderr",
     "output_type": "stream",
     "text": [
      "/usr/local/lib/python3.11/site-packages/sklearn/cluster/_agglomerative.py:983: FutureWarning: Attribute `affinity` was deprecated in version 1.2 and will be removed in 1.4. Use `metric` instead\n",
      "  warnings.warn(\n"
     ]
    },
    {
     "name": "stdout",
     "output_type": "stream",
     "text": [
      "Saving data as ./Output Clusters/Book/book_0.07_freq_vector_hc_12.csv...\n",
      "Clustering data (n_clusters = 12): book_0.07_freq_vector.csvdone!\n",
      "Clustering data (n_clusters = 15): book_0.07_freq_vector.csv...\n",
      "Reading data from path: ./Dataset/Book/book_0.07_freq_vector.csv...\n",
      "Converting string representation of list to actual list...\n",
      "Converting list of vectors into DataFrame...\n",
      "Extracting Vector column...\n",
      "Creating model...\n",
      "Fitting model...\n"
     ]
    },
    {
     "name": "stderr",
     "output_type": "stream",
     "text": [
      "/usr/local/lib/python3.11/site-packages/sklearn/cluster/_agglomerative.py:983: FutureWarning: Attribute `affinity` was deprecated in version 1.2 and will be removed in 1.4. Use `metric` instead\n",
      "  warnings.warn(\n"
     ]
    },
    {
     "name": "stdout",
     "output_type": "stream",
     "text": [
      "Saving data as ./Output Clusters/Book/book_0.07_freq_vector_hc_15.csv...\n",
      "Clustering data (n_clusters = 15): book_0.07_freq_vector.csvdone!\n",
      "Generating cluster range for book_0.07_freq_vector.csv.csv done!\n",
      "Generating cluster range for book_0.09_freq_vector.csv...\n",
      "Clustering data (n_clusters = 3): book_0.09_freq_vector.csv...\n",
      "Reading data from path: ./Dataset/Book/book_0.09_freq_vector.csv...\n",
      "Converting string representation of list to actual list...\n",
      "Converting list of vectors into DataFrame...\n",
      "Extracting Vector column...\n",
      "Creating model...\n",
      "Fitting model...\n"
     ]
    },
    {
     "name": "stderr",
     "output_type": "stream",
     "text": [
      "/usr/local/lib/python3.11/site-packages/sklearn/cluster/_agglomerative.py:983: FutureWarning: Attribute `affinity` was deprecated in version 1.2 and will be removed in 1.4. Use `metric` instead\n",
      "  warnings.warn(\n"
     ]
    },
    {
     "name": "stdout",
     "output_type": "stream",
     "text": [
      "Saving data as ./Output Clusters/Book/book_0.09_freq_vector_hc_3.csv...\n",
      "Clustering data (n_clusters = 3): book_0.09_freq_vector.csvdone!\n",
      "Clustering data (n_clusters = 6): book_0.09_freq_vector.csv...\n",
      "Reading data from path: ./Dataset/Book/book_0.09_freq_vector.csv...\n",
      "Converting string representation of list to actual list...\n",
      "Converting list of vectors into DataFrame...\n",
      "Extracting Vector column...\n",
      "Creating model...\n",
      "Fitting model...\n"
     ]
    },
    {
     "name": "stderr",
     "output_type": "stream",
     "text": [
      "/usr/local/lib/python3.11/site-packages/sklearn/cluster/_agglomerative.py:983: FutureWarning: Attribute `affinity` was deprecated in version 1.2 and will be removed in 1.4. Use `metric` instead\n",
      "  warnings.warn(\n"
     ]
    },
    {
     "name": "stdout",
     "output_type": "stream",
     "text": [
      "Saving data as ./Output Clusters/Book/book_0.09_freq_vector_hc_6.csv...\n",
      "Clustering data (n_clusters = 6): book_0.09_freq_vector.csvdone!\n",
      "Clustering data (n_clusters = 9): book_0.09_freq_vector.csv...\n",
      "Reading data from path: ./Dataset/Book/book_0.09_freq_vector.csv...\n",
      "Converting string representation of list to actual list...\n",
      "Converting list of vectors into DataFrame...\n",
      "Extracting Vector column...\n",
      "Creating model...\n",
      "Fitting model...\n"
     ]
    },
    {
     "name": "stderr",
     "output_type": "stream",
     "text": [
      "/usr/local/lib/python3.11/site-packages/sklearn/cluster/_agglomerative.py:983: FutureWarning: Attribute `affinity` was deprecated in version 1.2 and will be removed in 1.4. Use `metric` instead\n",
      "  warnings.warn(\n"
     ]
    },
    {
     "name": "stdout",
     "output_type": "stream",
     "text": [
      "Saving data as ./Output Clusters/Book/book_0.09_freq_vector_hc_9.csv...\n",
      "Clustering data (n_clusters = 9): book_0.09_freq_vector.csvdone!\n",
      "Clustering data (n_clusters = 12): book_0.09_freq_vector.csv...\n",
      "Reading data from path: ./Dataset/Book/book_0.09_freq_vector.csv...\n",
      "Converting string representation of list to actual list...\n",
      "Converting list of vectors into DataFrame...\n",
      "Extracting Vector column...\n",
      "Creating model...\n",
      "Fitting model...\n"
     ]
    },
    {
     "name": "stderr",
     "output_type": "stream",
     "text": [
      "/usr/local/lib/python3.11/site-packages/sklearn/cluster/_agglomerative.py:983: FutureWarning: Attribute `affinity` was deprecated in version 1.2 and will be removed in 1.4. Use `metric` instead\n",
      "  warnings.warn(\n"
     ]
    },
    {
     "name": "stdout",
     "output_type": "stream",
     "text": [
      "Saving data as ./Output Clusters/Book/book_0.09_freq_vector_hc_12.csv...\n",
      "Clustering data (n_clusters = 12): book_0.09_freq_vector.csvdone!\n",
      "Clustering data (n_clusters = 15): book_0.09_freq_vector.csv...\n",
      "Reading data from path: ./Dataset/Book/book_0.09_freq_vector.csv...\n",
      "Converting string representation of list to actual list...\n",
      "Converting list of vectors into DataFrame...\n",
      "Extracting Vector column...\n",
      "Creating model...\n",
      "Fitting model...\n"
     ]
    },
    {
     "name": "stderr",
     "output_type": "stream",
     "text": [
      "/usr/local/lib/python3.11/site-packages/sklearn/cluster/_agglomerative.py:983: FutureWarning: Attribute `affinity` was deprecated in version 1.2 and will be removed in 1.4. Use `metric` instead\n",
      "  warnings.warn(\n"
     ]
    },
    {
     "name": "stdout",
     "output_type": "stream",
     "text": [
      "Saving data as ./Output Clusters/Book/book_0.09_freq_vector_hc_15.csv...\n",
      "Clustering data (n_clusters = 15): book_0.09_freq_vector.csvdone!\n",
      "Generating cluster range for book_0.09_freq_vector.csv.csv done!\n",
      "Generating cluster range for book_0.06_freq_vector.csv...\n",
      "Clustering data (n_clusters = 3): book_0.06_freq_vector.csv...\n",
      "Reading data from path: ./Dataset/Book/book_0.06_freq_vector.csv...\n",
      "Converting string representation of list to actual list...\n",
      "Converting list of vectors into DataFrame...\n",
      "Extracting Vector column...\n",
      "Creating model...\n",
      "Fitting model...\n"
     ]
    },
    {
     "name": "stderr",
     "output_type": "stream",
     "text": [
      "/usr/local/lib/python3.11/site-packages/sklearn/cluster/_agglomerative.py:983: FutureWarning: Attribute `affinity` was deprecated in version 1.2 and will be removed in 1.4. Use `metric` instead\n",
      "  warnings.warn(\n"
     ]
    },
    {
     "name": "stdout",
     "output_type": "stream",
     "text": [
      "Saving data as ./Output Clusters/Book/book_0.06_freq_vector_hc_3.csv...\n",
      "Clustering data (n_clusters = 3): book_0.06_freq_vector.csvdone!\n",
      "Clustering data (n_clusters = 6): book_0.06_freq_vector.csv...\n",
      "Reading data from path: ./Dataset/Book/book_0.06_freq_vector.csv...\n",
      "Converting string representation of list to actual list...\n",
      "Converting list of vectors into DataFrame...\n",
      "Extracting Vector column...\n",
      "Creating model...\n",
      "Fitting model...\n"
     ]
    },
    {
     "name": "stderr",
     "output_type": "stream",
     "text": [
      "/usr/local/lib/python3.11/site-packages/sklearn/cluster/_agglomerative.py:983: FutureWarning: Attribute `affinity` was deprecated in version 1.2 and will be removed in 1.4. Use `metric` instead\n",
      "  warnings.warn(\n"
     ]
    },
    {
     "name": "stdout",
     "output_type": "stream",
     "text": [
      "Saving data as ./Output Clusters/Book/book_0.06_freq_vector_hc_6.csv...\n",
      "Clustering data (n_clusters = 6): book_0.06_freq_vector.csvdone!\n",
      "Clustering data (n_clusters = 9): book_0.06_freq_vector.csv...\n",
      "Reading data from path: ./Dataset/Book/book_0.06_freq_vector.csv...\n",
      "Converting string representation of list to actual list...\n",
      "Converting list of vectors into DataFrame...\n",
      "Extracting Vector column...\n",
      "Creating model...\n",
      "Fitting model...\n"
     ]
    },
    {
     "name": "stderr",
     "output_type": "stream",
     "text": [
      "/usr/local/lib/python3.11/site-packages/sklearn/cluster/_agglomerative.py:983: FutureWarning: Attribute `affinity` was deprecated in version 1.2 and will be removed in 1.4. Use `metric` instead\n",
      "  warnings.warn(\n"
     ]
    },
    {
     "name": "stdout",
     "output_type": "stream",
     "text": [
      "Saving data as ./Output Clusters/Book/book_0.06_freq_vector_hc_9.csv...\n",
      "Clustering data (n_clusters = 9): book_0.06_freq_vector.csvdone!\n",
      "Clustering data (n_clusters = 12): book_0.06_freq_vector.csv...\n",
      "Reading data from path: ./Dataset/Book/book_0.06_freq_vector.csv...\n",
      "Converting string representation of list to actual list...\n",
      "Converting list of vectors into DataFrame...\n",
      "Extracting Vector column...\n",
      "Creating model...\n",
      "Fitting model...\n"
     ]
    },
    {
     "name": "stderr",
     "output_type": "stream",
     "text": [
      "/usr/local/lib/python3.11/site-packages/sklearn/cluster/_agglomerative.py:983: FutureWarning: Attribute `affinity` was deprecated in version 1.2 and will be removed in 1.4. Use `metric` instead\n",
      "  warnings.warn(\n"
     ]
    },
    {
     "name": "stdout",
     "output_type": "stream",
     "text": [
      "Saving data as ./Output Clusters/Book/book_0.06_freq_vector_hc_12.csv...\n",
      "Clustering data (n_clusters = 12): book_0.06_freq_vector.csvdone!\n",
      "Clustering data (n_clusters = 15): book_0.06_freq_vector.csv...\n",
      "Reading data from path: ./Dataset/Book/book_0.06_freq_vector.csv...\n",
      "Converting string representation of list to actual list...\n",
      "Converting list of vectors into DataFrame...\n",
      "Extracting Vector column...\n",
      "Creating model...\n",
      "Fitting model...\n"
     ]
    },
    {
     "name": "stderr",
     "output_type": "stream",
     "text": [
      "/usr/local/lib/python3.11/site-packages/sklearn/cluster/_agglomerative.py:983: FutureWarning: Attribute `affinity` was deprecated in version 1.2 and will be removed in 1.4. Use `metric` instead\n",
      "  warnings.warn(\n"
     ]
    },
    {
     "name": "stdout",
     "output_type": "stream",
     "text": [
      "Saving data as ./Output Clusters/Book/book_0.06_freq_vector_hc_15.csv...\n",
      "Clustering data (n_clusters = 15): book_0.06_freq_vector.csvdone!\n",
      "Generating cluster range for book_0.06_freq_vector.csv.csv done!\n",
      "Generating cluster range for book_0.05_freq_vector.csv...\n",
      "Clustering data (n_clusters = 3): book_0.05_freq_vector.csv...\n",
      "Reading data from path: ./Dataset/Book/book_0.05_freq_vector.csv...\n",
      "Converting string representation of list to actual list...\n",
      "Converting list of vectors into DataFrame...\n",
      "Extracting Vector column...\n",
      "Creating model...\n",
      "Fitting model...\n"
     ]
    },
    {
     "name": "stderr",
     "output_type": "stream",
     "text": [
      "/usr/local/lib/python3.11/site-packages/sklearn/cluster/_agglomerative.py:983: FutureWarning: Attribute `affinity` was deprecated in version 1.2 and will be removed in 1.4. Use `metric` instead\n",
      "  warnings.warn(\n"
     ]
    },
    {
     "name": "stdout",
     "output_type": "stream",
     "text": [
      "Saving data as ./Output Clusters/Book/book_0.05_freq_vector_hc_3.csv...\n",
      "Clustering data (n_clusters = 3): book_0.05_freq_vector.csvdone!\n",
      "Clustering data (n_clusters = 6): book_0.05_freq_vector.csv...\n",
      "Reading data from path: ./Dataset/Book/book_0.05_freq_vector.csv...\n",
      "Converting string representation of list to actual list...\n",
      "Converting list of vectors into DataFrame...\n",
      "Extracting Vector column...\n",
      "Creating model...\n",
      "Fitting model...\n"
     ]
    },
    {
     "name": "stderr",
     "output_type": "stream",
     "text": [
      "/usr/local/lib/python3.11/site-packages/sklearn/cluster/_agglomerative.py:983: FutureWarning: Attribute `affinity` was deprecated in version 1.2 and will be removed in 1.4. Use `metric` instead\n",
      "  warnings.warn(\n"
     ]
    },
    {
     "name": "stdout",
     "output_type": "stream",
     "text": [
      "Saving data as ./Output Clusters/Book/book_0.05_freq_vector_hc_6.csv...\n",
      "Clustering data (n_clusters = 6): book_0.05_freq_vector.csvdone!\n",
      "Clustering data (n_clusters = 9): book_0.05_freq_vector.csv...\n",
      "Reading data from path: ./Dataset/Book/book_0.05_freq_vector.csv...\n",
      "Converting string representation of list to actual list...\n",
      "Converting list of vectors into DataFrame...\n",
      "Extracting Vector column...\n",
      "Creating model...\n",
      "Fitting model...\n"
     ]
    },
    {
     "name": "stderr",
     "output_type": "stream",
     "text": [
      "/usr/local/lib/python3.11/site-packages/sklearn/cluster/_agglomerative.py:983: FutureWarning: Attribute `affinity` was deprecated in version 1.2 and will be removed in 1.4. Use `metric` instead\n",
      "  warnings.warn(\n"
     ]
    },
    {
     "name": "stdout",
     "output_type": "stream",
     "text": [
      "Saving data as ./Output Clusters/Book/book_0.05_freq_vector_hc_9.csv...\n",
      "Clustering data (n_clusters = 9): book_0.05_freq_vector.csvdone!\n",
      "Clustering data (n_clusters = 12): book_0.05_freq_vector.csv...\n",
      "Reading data from path: ./Dataset/Book/book_0.05_freq_vector.csv...\n",
      "Converting string representation of list to actual list...\n",
      "Converting list of vectors into DataFrame...\n",
      "Extracting Vector column...\n",
      "Creating model...\n",
      "Fitting model...\n"
     ]
    },
    {
     "name": "stderr",
     "output_type": "stream",
     "text": [
      "/usr/local/lib/python3.11/site-packages/sklearn/cluster/_agglomerative.py:983: FutureWarning: Attribute `affinity` was deprecated in version 1.2 and will be removed in 1.4. Use `metric` instead\n",
      "  warnings.warn(\n"
     ]
    },
    {
     "name": "stdout",
     "output_type": "stream",
     "text": [
      "Saving data as ./Output Clusters/Book/book_0.05_freq_vector_hc_12.csv...\n",
      "Clustering data (n_clusters = 12): book_0.05_freq_vector.csvdone!\n",
      "Clustering data (n_clusters = 15): book_0.05_freq_vector.csv...\n",
      "Reading data from path: ./Dataset/Book/book_0.05_freq_vector.csv...\n",
      "Converting string representation of list to actual list...\n",
      "Converting list of vectors into DataFrame...\n",
      "Extracting Vector column...\n",
      "Creating model...\n",
      "Fitting model...\n"
     ]
    },
    {
     "name": "stderr",
     "output_type": "stream",
     "text": [
      "/usr/local/lib/python3.11/site-packages/sklearn/cluster/_agglomerative.py:983: FutureWarning: Attribute `affinity` was deprecated in version 1.2 and will be removed in 1.4. Use `metric` instead\n",
      "  warnings.warn(\n"
     ]
    },
    {
     "name": "stdout",
     "output_type": "stream",
     "text": [
      "Saving data as ./Output Clusters/Book/book_0.05_freq_vector_hc_15.csv...\n",
      "Clustering data (n_clusters = 15): book_0.05_freq_vector.csvdone!\n",
      "Generating cluster range for book_0.05_freq_vector.csv.csv done!\n"
     ]
    }
   ],
   "source": [
    "# Clustering Book Data\n",
    "import os\n",
    "directory = os.listdir(\"./Dataset/Book/\")\n",
    "for file in directory:\n",
    "    if \"mapping\" not in file:\n",
    "        generate_cluster_range(file, 3, 18, 3)\n",
    "\n"
   ]
  },
  {
   "cell_type": "code",
   "execution_count": 33,
   "metadata": {},
   "outputs": [
    {
     "name": "stdout",
     "output_type": "stream",
     "text": [
      "{'book_0.05_freq_vector_hc_3.csv': 0.1894758962228238, 'book_0.05_freq_vector_hc_6.csv': 0.18942032559512312, 'book_0.05_freq_vector_hc_9.csv': 0.18496116252477213, 'book_0.05_freq_vector_hc_12.csv': 0.183839437081724, 'book_0.05_freq_vector_hc_15.csv': 0.1845196246448473}\n",
      "{'basket_0.02_freq_vector_hc_3.csv': 0.0, 'basket_0.02_freq_vector_hc_6.csv': 0.0, 'basket_0.02_freq_vector_hc_9.csv': 0.0, 'basket_0.02_freq_vector_hc_12.csv': 0.0, 'basket_0.02_freq_vector_hc_15.csv': 0.0}\n"
     ]
    }
   ],
   "source": [
    "import os\n",
    "from sklearn.metrics import silhouette_score\n",
    "\n",
    "output_path = \"./Output Clusters/\"\n",
    "\n",
    "def get_silhouette_score(data_file):\n",
    "    if \"basket\" in data_file:\n",
    "        df = pd.read_csv(output_path + \"Basket/\" + data_file)\n",
    "    elif \"book\" in data_file:\n",
    "        df = pd.read_csv(output_path + \"Book/\" + data_file)\n",
    "        \n",
    "    features = [ast.literal_eval(i) for i in df['Vector']]\n",
    "    labels = list(df['Cluster'])\n",
    "    return silhouette_score(features, labels)\n",
    "\n",
    "def generate_scores(data_name):\n",
    "    # get all files with different cluster sizes\n",
    "    \n",
    "    # get file path based on the data name\n",
    "    if \"basket\" in data_name:\n",
    "        file_path = \"./Output Clusters/Basket/\"\n",
    "    elif \"book\" in data_name:\n",
    "        file_path = \"./Output Clusters/Book/\"\n",
    "    else:\n",
    "        print(\"Invalid data name\")\n",
    "        return\n",
    "    \n",
    "    # Create dictionary to store scores\n",
    "    scores = {}\n",
    "    for f in os.listdir(file_path):\n",
    "        if data_name in f:\n",
    "            scores[f] = get_silhouette_score(f)\n",
    "    # sort scores by cluster size\n",
    "    scores = dict(sorted(scores.items(), key=lambda item: int(item[0].split(\"_hc_\")[1].split(\".\")[0])))\n",
    "\n",
    "    return scores\n",
    "\n",
    "def save_silhouette_scores(data_type):\n",
    "    \"\"\"Save the silhouette scores into a csv file. Rows will be the frequency vectors and columns will be the cluster sizes.\"\"\"\n",
    "    if \"Basket\" in data_type:\n",
    "        directory = \"./Output Clusters/Basket/\"\n",
    "    elif \"Book\" in data_type:\n",
    "        directory = \"./Output Clusters/Book/\"\n",
    "    else:\n",
    "        print(\"Invalid data type\")\n",
    "        return\n",
    "    \n",
    "    # get sets of configurations based on the file name\n",
    "    configurations = set()\n",
    "    cluster_list = set()\n",
    "    \n",
    "    for f in os.listdir(directory):\n",
    "        if '_hc_' in f:\n",
    "            # delete the end of file from _hc_ onwards\n",
    "            configurations.add(f.split(\"_hc_\")[0])\n",
    "            cluster_list.add(f.split(\"_hc_\")[1].split(\".\")[0])\n",
    "        \n",
    "    # sort \n",
    "    configurations = sorted(list(configurations))\n",
    "    cluster_list = sorted([int(i) for i in list(cluster_list)])\n",
    "    \n",
    "    print(configurations)\n",
    "    print(cluster_list)\n",
    "    \n",
    "    \n",
    "    data_df = pd.DataFrame(columns= [\"Configurations\"] + cluster_list)\n",
    "    # print(data_df)\n",
    "    \n",
    "    for c in configurations:\n",
    "        score_dict = generate_scores(c)\n",
    "        print(score_dict)\n",
    "        data_row = [c]\n",
    "        for k, v in score_dict.items():\n",
    "            data_row.append(v)\n",
    "        data_df.loc[len(data_df)] = data_row\n",
    "            \n",
    "    print(data_df)  \n",
    "\n",
    "    data_df.to_csv(\"./Output Clusters/\" + data_type + '/' + data_type.lower() + \"_silhouette_scores.csv\", index=False)\n",
    "    print(\"Saved silhouette scores to \" + \"./Output Clusters/\" + data_type + '/' + data_type.lower() + \"_silhouette_scores.csv\")\n",
    "\n",
    "# print(get_silhouette_score(\"Book/book_0.05_freq_vector_hc_3.csv\"))\n",
    "# print(generate_scores(\"book_0.05_freq_vector\"))\n",
    "\n",
    "# save_silhouette_scores(\"Book\")\n",
    "\n",
    "# print(get_silhouette_score(\"Basket/basket_0.02_freq_vector_hc_3.csv\"))\n",
    "print(generate_scores(\"basket_0.02_freq_vector\"))\n",
    "# save_silhouette_scores(\"Basket\")"
   ]
  },
  {
   "cell_type": "code",
   "execution_count": 34,
   "metadata": {},
   "outputs": [
    {
     "name": "stdout",
     "output_type": "stream",
     "text": [
      "            Configurations    3    6    9   12   15\n",
      "0  basket_0.02_freq_vector  0.0  0.0  0.0  0.0  0.0\n",
      "1  basket_0.05_freq_vector  0.0  0.0  0.0  0.0  0.0\n",
      "                           3    6    9   12   15\n",
      "Configurations                                  \n",
      "basket_0.02_freq_vector  0.0  0.0  0.0  0.0  0.0\n",
      "basket_0.05_freq_vector  0.0  0.0  0.0  0.0  0.0\n"
     ]
    },
    {
     "data": {
      "image/png": "[encoded data removed]",
      "text/plain": [
       "<Figure size 1200x800 with 2 Axes>"
      ]
     },
     "metadata": {},
     "output_type": "display_data"
    },
    {
     "name": "stdout",
     "output_type": "stream",
     "text": [
      "          Configurations         3         6         9        12        15\n",
      "0  book_0.05_freq_vector  0.189476  0.189420  0.184961  0.183839  0.184520\n",
      "1  book_0.06_freq_vector  0.160233  0.159466  0.161268  0.161958  0.152393\n",
      "2  book_0.07_freq_vector  0.134781  0.108578  0.115840  0.117474  0.118777\n",
      "3  book_0.08_freq_vector  0.200574  0.125613  0.133861  0.096189  0.100734\n",
      "4  book_0.09_freq_vector  0.280779  0.279557  0.259726  0.226313  0.118757\n",
      "                              3         6         9        12        15\n",
      "Configurations                                                         \n",
      "book_0.05_freq_vector  0.189476  0.189420  0.184961  0.183839  0.184520\n",
      "book_0.06_freq_vector  0.160233  0.159466  0.161268  0.161958  0.152393\n",
      "book_0.07_freq_vector  0.134781  0.108578  0.115840  0.117474  0.118777\n",
      "book_0.08_freq_vector  0.200574  0.125613  0.133861  0.096189  0.100734\n",
      "book_0.09_freq_vector  0.280779  0.279557  0.259726  0.226313  0.118757\n"
     ]
    },
    {
     "data": {
      "image/png": "[encoded data removed]",
      "text/plain": [
       "<Figure size 1200x800 with 2 Axes>"
      ]
     },
     "metadata": {},
     "output_type": "display_data"
    }
   ],
   "source": [
    "# Comparing silhouette scores\n",
    "import pandas as pd\n",
    "import matplotlib.pyplot as plt\n",
    "import seaborn as sns\n",
    "\n",
    "def plot_silhouette_scores(data_type):\n",
    "    if \"Basket\" in data_type:\n",
    "        file_path = \"./Output Clusters/Basket/basket_silhouette_scores.csv\"\n",
    "    elif \"Book\" in data_type:\n",
    "        file_path = \"./Output Clusters/Book/book_silhouette_scores.csv\"\n",
    "    else:\n",
    "        print(\"Invalid data type\")\n",
    "        return\n",
    "    \n",
    "    df = pd.read_csv(file_path)\n",
    "    print(df)\n",
    "    \n",
    "    df = df.set_index(\"Configurations\")\n",
    "    print(df)\n",
    "    \n",
    "    plt.figure(figsize=(12, 8))\n",
    "    sns.heatmap(df, annot=True, cmap=\"YlGnBu\")\n",
    "    plt.title(\"Silhouette Scores for \" + data_type)\n",
    "    plt.xlabel(\"No. of Clusters\")\n",
    "    plt.ylabel(\"Frequency Vector\")\n",
    "    plt.show()\n",
    "    \n",
    "plot_silhouette_scores(\"Basket\")\n",
    "plot_silhouette_scores(\"Book\")"
   ]
  },
  {
   "cell_type": "code",
   "execution_count": 35,
   "metadata": {},
   "outputs": [
    {
     "name": "stderr",
     "output_type": "stream",
     "text": [
      "/usr/local/lib/python3.11/site-packages/scipy/cluster/hierarchy.py:2845: UserWarning: Attempting to set identical low and high ylims makes transformation singular; automatically expanding.\n",
      "  ax.set_ylim([0, dvw])\n"
     ]
    },
    {
     "data": {
      "image/png": "[encoded data removed]",
      "text/plain": [
       "<Figure size 1200x800 with 1 Axes>"
      ]
     },
     "metadata": {},
     "output_type": "display_data"
    },
    {
     "data": {
      "image/png": "[encoded data removed]",
      "text/plain": [
       "<Figure size 1200x800 with 1 Axes>"
      ]
     },
     "metadata": {},
     "output_type": "display_data"
    }
   ],
   "source": [
    "# Dendrogram\n",
    "import matplotlib.pyplot as plt\n",
    "import pandas as pd\n",
    "import numpy as np\n",
    "import ast\n",
    "from scipy.cluster.hierarchy import dendrogram, linkage\n",
    "\n",
    "def plot_dendrogram(data_file, n_clusters):\n",
    "    if \"basket\" in data_file:\n",
    "        df = pd.read_csv(\"./Output Clusters/Basket/\" + data_file)\n",
    "    elif \"book\" in data_file:\n",
    "        df = pd.read_csv(\"./Output Clusters/Book/\" + data_file)\n",
    "    else:\n",
    "        print(\"Invalid data file\")\n",
    "        return\n",
    "    \n",
    "    features = [ast.literal_eval(i) for i in df['Vector']]\n",
    "    labels = list(df['Cluster'])\n",
    "    \n",
    "    # create linkage matrix\n",
    "    Z = linkage(features, 'ward')\n",
    "    \n",
    "    # plot dendrogram\n",
    "    plt.figure(figsize=(12, 8))\n",
    "    plt.title(\"Dendrogram for \" + data_file)\n",
    "    plt.xlabel(\"Data Points\")\n",
    "    plt.ylabel(\"Distance\")\n",
    "    dendrogram(Z, truncate_mode='lastp', p=n_clusters)\n",
    "    plt.show()\n",
    "    \n",
    "plot_dendrogram(\"basket_0.02_freq_vector_hc_3.csv\", 3)\n",
    "plot_dendrogram(\"book_0.05_freq_vector_hc_3.csv\", 3)\n"
   ]
  },
  {
   "cell_type": "markdown",
   "metadata": {},
   "source": [
    "## Archive"
   ]
  },
  {
   "cell_type": "code",
   "execution_count": null,
   "metadata": {},
   "outputs": [],
   "source": [
    "# Show cluster membership in a table\n",
    "print(df.head())\n",
    "# Save the result to csv\n",
    "df.to_csv('./Output Clusters/hierarchical_3_clusters.csv')\n",
    "\n",
    "# Show scatter plot of data colored by cluster\n",
    "import matplotlib.pyplot as plt\n",
    "\n",
    "# # Convert 'Vectors' column to a list of lists\n",
    "# vectors = df['Vector'].tolist()\n",
    "\n",
    "# # Separate the vectors into two lists\n",
    "# x_values = [vector[0] for vector in vectors]\n",
    "# y_values = [vector[1] for vector in vectors]\n",
    "\n",
    "# # Plot the data points\n",
    "# plt.scatter(x_values, y_values, c=df['Cluster'], cmap='rainbow')\n",
    "# plt.show()"
   ]
  },
  {
   "cell_type": "code",
   "execution_count": null,
   "metadata": {},
   "outputs": [],
   "source": [
    "# Create Dendrogram\n",
    "from scipy.cluster.hierarchy import dendrogram, linkage\n",
    "\n",
    "# Generate the linkage matrix\n",
    "Z = linkage(X, 'ward')\n",
    "\n",
    "plt.figure(figsize=(15, 10))\n",
    "# Create a dendrogram\n",
    "dendrogram(Z, labels=df.index.values.tolist(), leaf_rotation=90, leaf_font_size=8)\n",
    "\n",
    "# Show the plot\n",
    "plt.show()"
   ]
  },
  {
   "cell_type": "code",
   "execution_count": null,
   "metadata": {},
   "outputs": [],
   "source": []
  }
 ],
 "metadata": {
  "kernelspec": {
   "display_name": "Python 3",
   "language": "python",
   "name": "python3"
  },
  "language_info": {
   "codemirror_mode": {
    "name": "ipython",
    "version": 3
   },
   "file_extension": ".py",
   "mimetype": "text/x-python",
   "name": "python",
   "nbconvert_exporter": "python",
   "pygments_lexer": "ipython3",
   "version": "3.11.4"
  }
 },
 "nbformat": 4,
 "nbformat_minor": 2
}
