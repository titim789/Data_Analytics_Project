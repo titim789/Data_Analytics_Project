{
 "cells": [
  {
   "cell_type": "code",
   "execution_count": 64,
   "metadata": {},
   "outputs": [],
   "source": [
    "# Clustering using Hierarchical Clustering\n",
    "from sklearn.cluster import AgglomerativeClustering\n",
    "import pandas as pd\n",
    "import numpy as np\n",
    "import ast\n",
    "import time\n",
    "\n",
    "\n",
    "def cluster_data(file_name, n_clusters):\n",
    "    \"\"\"Perform hierarchical clustering on data and save as csv file.\n",
    "\n",
    "    Args:\n",
    "        file_name (string): name of the data file\n",
    "        n_clusters (int): no. of clusters to create\n",
    "    \"\"\"\n",
    "    print(\"Clustering data (n_clusters = \" + str(n_clusters) + \"): \" + file_name + \"...\")\n",
    "    \n",
    "    if \"book\" in file_name:\n",
    "        dataset_path = \"./Dataset/Book/\"\n",
    "        output_path = \"./Output Clusters/Book/\"\n",
    "    elif \"basket\" in file_name:\n",
    "        dataset_path = \"./Dataset/Basket/\"\n",
    "        output_path = \"./Output Clusters/Basket/\"\n",
    "    else:\n",
    "        dataset_path = \"./Dataset/\"\n",
    "        output_path = \"./Output Clusters/\"\n",
    "        \n",
    "    # Read data from csv\n",
    "    print(\"Reading data from path: \" + dataset_path + file_name + \"...\")\n",
    "    data = pd.read_csv(dataset_path + file_name )\n",
    "    \n",
    "    # Convert string representation of list to actual list\n",
    "    print(\"Converting string representation of list to actual list...\")\n",
    "    data['Vector'] = data['Vector'].apply(lambda x: ast.literal_eval(x))\n",
    "    \n",
    "    # Convert list of vectors into DataFrame\n",
    "    print(\"Converting list of vectors into DataFrame...\")\n",
    "    vector_df = pd.DataFrame(data['Vector'].to_list())\n",
    "    \n",
    "    # Extract Vector column\n",
    "    print(\"Extracting Vector column...\")\n",
    "    X = vector_df.values\n",
    "    \n",
    "    # Start time \n",
    "    start_time = time.time()\n",
    "    \n",
    "    # Create model\n",
    "    print(\"Creating model...\")\n",
    "    hc = AgglomerativeClustering(n_clusters=n_clusters, affinity='euclidean', linkage='ward')\n",
    "    \n",
    "    # Fit model and add cluster column to df\n",
    "    print(\"Fitting model...\")\n",
    "    data['Cluster'] = hc.fit_predict(X)\n",
    "    \n",
    "    # End time\n",
    "    duration = time.time() - start_time \n",
    "    \n",
    "    # Save to csv\n",
    "    save_csv_file = file_name.replace(\".csv\", \"_hc_\" + str(n_clusters) + \".csv\")\n",
    "    print(\"Saving data as \" + output_path + save_csv_file + \"...\")\n",
    "    data.to_csv(output_path + save_csv_file, index=False)\n",
    "    \n",
    "    print(\"Duration: \" + str(duration) + \" seconds\")\n",
    "    print(\"Clustering data (n_clusters = \" + str(n_clusters) + \"): \" + file_name + \" done!\\n\")\n",
    "    return duration\n",
    "    \n",
    "def generate_cluster_range(file_name, n_start, n_end, n_step):\n",
    "    print(\"Generating cluster range for \" + file_name + \"...\")\n",
    "    cluster_range = range(n_start, n_end, n_step)\n",
    "    \n",
    "    # Create empty DataFrame with \n",
    "    data = pd.DataFrame(columns=['n_clusters', 'duration'])\n",
    "    \n",
    "    # Add data to DataFrame\n",
    "    for n in cluster_range:\n",
    "        duration = cluster_data(file_name, n)\n",
    "        data = data.append({'n_clusters': n, 'duration': duration}, ignore_index=True) # type: ignore\n",
    "\n",
    "    print(\"Generating cluster range for \" + file_name + \".csv done!\")\n",
    "    return data\n",
    "\n",
    "# ==================================================== Testing ====================================================\n",
    "# cluster_data(\"Basket/basket_freq_vector\", 3)\n",
    "# data = generate_cluster_range(\"basket_0.02_freq_vector.csv\", 3, 12, 3)\n",
    "# data.head()\n",
    "\n"
   ]
  },
  {
   "cell_type": "code",
   "execution_count": 58,
   "metadata": {},
   "outputs": [
    {
     "name": "stdout",
     "output_type": "stream",
     "text": [
      "Generating cluster range for the following files: ['basket_0.01_freq_vector.csv', 'basket_0.05_freq_vector.csv', 'basket_0.02_freq_vector.csv', 'basket_0.03_freq_vector.csv', 'basket_0.04_freq_vector.csv', 'basket_vector.csv']...\n",
      "==============================================================================================================================\n",
      "Generating cluster range for basket_0.01_freq_vector.csv...\n",
      "Clustering data (n_clusters = 3): basket_0.01_freq_vector.csv...\n",
      "Reading data from path: ./Dataset/Basket/basket_0.01_freq_vector.csv...\n",
      "Converting string representation of list to actual list...\n",
      "Converting list of vectors into DataFrame...\n",
      "Extracting Vector column...\n",
      "Creating model...\n",
      "Fitting model...\n"
     ]
    },
    {
     "name": "stderr",
     "output_type": "stream",
     "text": [
      "/usr/local/lib/python3.11/site-packages/sklearn/cluster/_agglomerative.py:983: FutureWarning: Attribute `affinity` was deprecated in version 1.2 and will be removed in 1.4. Use `metric` instead\n",
      "  warnings.warn(\n"
     ]
    },
    {
     "name": "stdout",
     "output_type": "stream",
     "text": [
      "Saving data as ./Output Clusters/Basket/basket_0.01_freq_vector_hc_3.csv...\n",
      "Duration: 15.599691152572632 seconds\n",
      "Clustering data (n_clusters = 3): basket_0.01_freq_vector.csv done!\n",
      "\n",
      "Clustering data (n_clusters = 6): basket_0.01_freq_vector.csv...\n",
      "Reading data from path: ./Dataset/Basket/basket_0.01_freq_vector.csv...\n"
     ]
    },
    {
     "name": "stderr",
     "output_type": "stream",
     "text": [
      "/var/folders/2q/bjqpws1153b0_y18lhffmh_m0000gn/T/ipykernel_96269/2570455119.py:77: FutureWarning: The frame.append method is deprecated and will be removed from pandas in a future version. Use pandas.concat instead.\n",
      "  data = data.append({'n_clusters': n, 'duration': duration}, ignore_index=True)\n"
     ]
    },
    {
     "name": "stdout",
     "output_type": "stream",
     "text": [
      "Converting string representation of list to actual list...\n",
      "Converting list of vectors into DataFrame...\n",
      "Extracting Vector column...\n",
      "Creating model...\n",
      "Fitting model...\n"
     ]
    },
    {
     "name": "stderr",
     "output_type": "stream",
     "text": [
      "/usr/local/lib/python3.11/site-packages/sklearn/cluster/_agglomerative.py:983: FutureWarning: Attribute `affinity` was deprecated in version 1.2 and will be removed in 1.4. Use `metric` instead\n",
      "  warnings.warn(\n"
     ]
    },
    {
     "name": "stdout",
     "output_type": "stream",
     "text": [
      "Saving data as ./Output Clusters/Basket/basket_0.01_freq_vector_hc_6.csv...\n",
      "Duration: 14.713701009750366 seconds\n",
      "Clustering data (n_clusters = 6): basket_0.01_freq_vector.csv done!\n",
      "\n",
      "Clustering data (n_clusters = 9): basket_0.01_freq_vector.csv...\n",
      "Reading data from path: ./Dataset/Basket/basket_0.01_freq_vector.csv...\n"
     ]
    },
    {
     "name": "stderr",
     "output_type": "stream",
     "text": [
      "/var/folders/2q/bjqpws1153b0_y18lhffmh_m0000gn/T/ipykernel_96269/2570455119.py:77: FutureWarning: The frame.append method is deprecated and will be removed from pandas in a future version. Use pandas.concat instead.\n",
      "  data = data.append({'n_clusters': n, 'duration': duration}, ignore_index=True)\n"
     ]
    },
    {
     "name": "stdout",
     "output_type": "stream",
     "text": [
      "Converting string representation of list to actual list...\n",
      "Converting list of vectors into DataFrame...\n",
      "Extracting Vector column...\n",
      "Creating model...\n",
      "Fitting model...\n"
     ]
    },
    {
     "name": "stderr",
     "output_type": "stream",
     "text": [
      "/usr/local/lib/python3.11/site-packages/sklearn/cluster/_agglomerative.py:983: FutureWarning: Attribute `affinity` was deprecated in version 1.2 and will be removed in 1.4. Use `metric` instead\n",
      "  warnings.warn(\n"
     ]
    },
    {
     "name": "stdout",
     "output_type": "stream",
     "text": [
      "Saving data as ./Output Clusters/Basket/basket_0.01_freq_vector_hc_9.csv...\n",
      "Duration: 14.093472957611084 seconds\n",
      "Clustering data (n_clusters = 9): basket_0.01_freq_vector.csv done!\n",
      "\n",
      "Clustering data (n_clusters = 12): basket_0.01_freq_vector.csv...\n",
      "Reading data from path: ./Dataset/Basket/basket_0.01_freq_vector.csv...\n",
      "Converting string representation of list to actual list...\n"
     ]
    },
    {
     "name": "stderr",
     "output_type": "stream",
     "text": [
      "/var/folders/2q/bjqpws1153b0_y18lhffmh_m0000gn/T/ipykernel_96269/2570455119.py:77: FutureWarning: The frame.append method is deprecated and will be removed from pandas in a future version. Use pandas.concat instead.\n",
      "  data = data.append({'n_clusters': n, 'duration': duration}, ignore_index=True)\n"
     ]
    },
    {
     "name": "stdout",
     "output_type": "stream",
     "text": [
      "Converting list of vectors into DataFrame...\n",
      "Extracting Vector column...\n",
      "Creating model...\n",
      "Fitting model...\n"
     ]
    },
    {
     "name": "stderr",
     "output_type": "stream",
     "text": [
      "/usr/local/lib/python3.11/site-packages/sklearn/cluster/_agglomerative.py:983: FutureWarning: Attribute `affinity` was deprecated in version 1.2 and will be removed in 1.4. Use `metric` instead\n",
      "  warnings.warn(\n"
     ]
    },
    {
     "name": "stdout",
     "output_type": "stream",
     "text": [
      "Saving data as ./Output Clusters/Basket/basket_0.01_freq_vector_hc_12.csv...\n",
      "Duration: 14.802742004394531 seconds\n",
      "Clustering data (n_clusters = 12): basket_0.01_freq_vector.csv done!\n",
      "\n",
      "Clustering data (n_clusters = 15): basket_0.01_freq_vector.csv...\n",
      "Reading data from path: ./Dataset/Basket/basket_0.01_freq_vector.csv...\n"
     ]
    },
    {
     "name": "stderr",
     "output_type": "stream",
     "text": [
      "/var/folders/2q/bjqpws1153b0_y18lhffmh_m0000gn/T/ipykernel_96269/2570455119.py:77: FutureWarning: The frame.append method is deprecated and will be removed from pandas in a future version. Use pandas.concat instead.\n",
      "  data = data.append({'n_clusters': n, 'duration': duration}, ignore_index=True)\n"
     ]
    },
    {
     "name": "stdout",
     "output_type": "stream",
     "text": [
      "Converting string representation of list to actual list...\n",
      "Converting list of vectors into DataFrame...\n",
      "Extracting Vector column...\n",
      "Creating model...\n",
      "Fitting model...\n"
     ]
    },
    {
     "name": "stderr",
     "output_type": "stream",
     "text": [
      "/usr/local/lib/python3.11/site-packages/sklearn/cluster/_agglomerative.py:983: FutureWarning: Attribute `affinity` was deprecated in version 1.2 and will be removed in 1.4. Use `metric` instead\n",
      "  warnings.warn(\n"
     ]
    },
    {
     "name": "stdout",
     "output_type": "stream",
     "text": [
      "Saving data as ./Output Clusters/Basket/basket_0.01_freq_vector_hc_15.csv...\n",
      "Duration: 13.878968000411987 seconds\n",
      "Clustering data (n_clusters = 15): basket_0.01_freq_vector.csv done!\n",
      "\n",
      "Generating cluster range for basket_0.01_freq_vector.csv.csv done!\n",
      "                          file          3          6          9         12  \\\n",
      "0  basket_0.01_freq_vector.csv  15.599691  14.713701  14.093473  14.802742   \n",
      "\n",
      "          15  \n",
      "0  13.878968  \n",
      "==============================================================================================================================\n",
      "==============================================================================================================================\n",
      "Generating cluster range for basket_0.05_freq_vector.csv...\n",
      "Clustering data (n_clusters = 3): basket_0.05_freq_vector.csv...\n",
      "Reading data from path: ./Dataset/Basket/basket_0.05_freq_vector.csv...\n",
      "Converting string representation of list to actual list...\n"
     ]
    },
    {
     "name": "stderr",
     "output_type": "stream",
     "text": [
      "/var/folders/2q/bjqpws1153b0_y18lhffmh_m0000gn/T/ipykernel_96269/2570455119.py:77: FutureWarning: The frame.append method is deprecated and will be removed from pandas in a future version. Use pandas.concat instead.\n",
      "  data = data.append({'n_clusters': n, 'duration': duration}, ignore_index=True)\n",
      "/var/folders/2q/bjqpws1153b0_y18lhffmh_m0000gn/T/ipykernel_96269/938909012.py:21: FutureWarning: The frame.append method is deprecated and will be removed from pandas in a future version. Use pandas.concat instead.\n",
      "  duration_df = duration_df.append({'file': file, '3': duration_range[0], '6': duration_range[1], '9': duration_range[2], '12': duration_range[3], '15': duration_range[4]}, ignore_index=True)\n"
     ]
    },
    {
     "name": "stdout",
     "output_type": "stream",
     "text": [
      "Converting list of vectors into DataFrame...\n",
      "Extracting Vector column...\n",
      "Creating model...\n",
      "Fitting model...\n"
     ]
    },
    {
     "name": "stderr",
     "output_type": "stream",
     "text": [
      "/usr/local/lib/python3.11/site-packages/sklearn/cluster/_agglomerative.py:983: FutureWarning: Attribute `affinity` was deprecated in version 1.2 and will be removed in 1.4. Use `metric` instead\n",
      "  warnings.warn(\n"
     ]
    },
    {
     "name": "stdout",
     "output_type": "stream",
     "text": [
      "Saving data as ./Output Clusters/Basket/basket_0.05_freq_vector_hc_3.csv...\n",
      "Duration: 7.375509977340698 seconds\n",
      "Clustering data (n_clusters = 3): basket_0.05_freq_vector.csv done!\n",
      "\n",
      "Clustering data (n_clusters = 6): basket_0.05_freq_vector.csv...\n",
      "Reading data from path: ./Dataset/Basket/basket_0.05_freq_vector.csv...\n",
      "Converting string representation of list to actual list...\n"
     ]
    },
    {
     "name": "stderr",
     "output_type": "stream",
     "text": [
      "/var/folders/2q/bjqpws1153b0_y18lhffmh_m0000gn/T/ipykernel_96269/2570455119.py:77: FutureWarning: The frame.append method is deprecated and will be removed from pandas in a future version. Use pandas.concat instead.\n",
      "  data = data.append({'n_clusters': n, 'duration': duration}, ignore_index=True)\n"
     ]
    },
    {
     "name": "stdout",
     "output_type": "stream",
     "text": [
      "Converting list of vectors into DataFrame...\n",
      "Extracting Vector column...\n",
      "Creating model...\n",
      "Fitting model...\n"
     ]
    },
    {
     "name": "stderr",
     "output_type": "stream",
     "text": [
      "/usr/local/lib/python3.11/site-packages/sklearn/cluster/_agglomerative.py:983: FutureWarning: Attribute `affinity` was deprecated in version 1.2 and will be removed in 1.4. Use `metric` instead\n",
      "  warnings.warn(\n"
     ]
    },
    {
     "name": "stdout",
     "output_type": "stream",
     "text": [
      "Saving data as ./Output Clusters/Basket/basket_0.05_freq_vector_hc_6.csv...\n",
      "Duration: 7.438573122024536 seconds\n",
      "Clustering data (n_clusters = 6): basket_0.05_freq_vector.csv done!\n",
      "\n",
      "Clustering data (n_clusters = 9): basket_0.05_freq_vector.csv...\n",
      "Reading data from path: ./Dataset/Basket/basket_0.05_freq_vector.csv...\n",
      "Converting string representation of list to actual list...\n"
     ]
    },
    {
     "name": "stderr",
     "output_type": "stream",
     "text": [
      "/var/folders/2q/bjqpws1153b0_y18lhffmh_m0000gn/T/ipykernel_96269/2570455119.py:77: FutureWarning: The frame.append method is deprecated and will be removed from pandas in a future version. Use pandas.concat instead.\n",
      "  data = data.append({'n_clusters': n, 'duration': duration}, ignore_index=True)\n"
     ]
    },
    {
     "name": "stdout",
     "output_type": "stream",
     "text": [
      "Converting list of vectors into DataFrame...\n",
      "Extracting Vector column...\n",
      "Creating model...\n",
      "Fitting model...\n"
     ]
    },
    {
     "name": "stderr",
     "output_type": "stream",
     "text": [
      "/usr/local/lib/python3.11/site-packages/sklearn/cluster/_agglomerative.py:983: FutureWarning: Attribute `affinity` was deprecated in version 1.2 and will be removed in 1.4. Use `metric` instead\n",
      "  warnings.warn(\n"
     ]
    },
    {
     "name": "stdout",
     "output_type": "stream",
     "text": [
      "Saving data as ./Output Clusters/Basket/basket_0.05_freq_vector_hc_9.csv...\n",
      "Duration: 7.728663921356201 seconds\n",
      "Clustering data (n_clusters = 9): basket_0.05_freq_vector.csv done!\n",
      "\n",
      "Clustering data (n_clusters = 12): basket_0.05_freq_vector.csv...\n",
      "Reading data from path: ./Dataset/Basket/basket_0.05_freq_vector.csv...\n",
      "Converting string representation of list to actual list...\n"
     ]
    },
    {
     "name": "stderr",
     "output_type": "stream",
     "text": [
      "/var/folders/2q/bjqpws1153b0_y18lhffmh_m0000gn/T/ipykernel_96269/2570455119.py:77: FutureWarning: The frame.append method is deprecated and will be removed from pandas in a future version. Use pandas.concat instead.\n",
      "  data = data.append({'n_clusters': n, 'duration': duration}, ignore_index=True)\n"
     ]
    },
    {
     "name": "stdout",
     "output_type": "stream",
     "text": [
      "Converting list of vectors into DataFrame...\n",
      "Extracting Vector column...\n",
      "Creating model...\n",
      "Fitting model...\n"
     ]
    },
    {
     "name": "stderr",
     "output_type": "stream",
     "text": [
      "/usr/local/lib/python3.11/site-packages/sklearn/cluster/_agglomerative.py:983: FutureWarning: Attribute `affinity` was deprecated in version 1.2 and will be removed in 1.4. Use `metric` instead\n",
      "  warnings.warn(\n"
     ]
    },
    {
     "name": "stdout",
     "output_type": "stream",
     "text": [
      "Saving data as ./Output Clusters/Basket/basket_0.05_freq_vector_hc_12.csv...\n",
      "Duration: 6.729247331619263 seconds\n",
      "Clustering data (n_clusters = 12): basket_0.05_freq_vector.csv done!\n",
      "\n",
      "Clustering data (n_clusters = 15): basket_0.05_freq_vector.csv...\n",
      "Reading data from path: ./Dataset/Basket/basket_0.05_freq_vector.csv...\n",
      "Converting string representation of list to actual list...\n"
     ]
    },
    {
     "name": "stderr",
     "output_type": "stream",
     "text": [
      "/var/folders/2q/bjqpws1153b0_y18lhffmh_m0000gn/T/ipykernel_96269/2570455119.py:77: FutureWarning: The frame.append method is deprecated and will be removed from pandas in a future version. Use pandas.concat instead.\n",
      "  data = data.append({'n_clusters': n, 'duration': duration}, ignore_index=True)\n"
     ]
    },
    {
     "name": "stdout",
     "output_type": "stream",
     "text": [
      "Converting list of vectors into DataFrame...\n",
      "Extracting Vector column...\n",
      "Creating model...\n",
      "Fitting model...\n"
     ]
    },
    {
     "name": "stderr",
     "output_type": "stream",
     "text": [
      "/usr/local/lib/python3.11/site-packages/sklearn/cluster/_agglomerative.py:983: FutureWarning: Attribute `affinity` was deprecated in version 1.2 and will be removed in 1.4. Use `metric` instead\n",
      "  warnings.warn(\n"
     ]
    },
    {
     "name": "stdout",
     "output_type": "stream",
     "text": [
      "Saving data as ./Output Clusters/Basket/basket_0.05_freq_vector_hc_15.csv...\n",
      "Duration: 8.070066928863525 seconds\n",
      "Clustering data (n_clusters = 15): basket_0.05_freq_vector.csv done!\n",
      "\n",
      "Generating cluster range for basket_0.05_freq_vector.csv.csv done!\n",
      "                          file          3          6          9         12  \\\n",
      "0  basket_0.01_freq_vector.csv  15.599691  14.713701  14.093473  14.802742   \n",
      "1  basket_0.05_freq_vector.csv   7.375510   7.438573   7.728664   6.729247   \n",
      "\n",
      "          15  \n",
      "0  13.878968  \n",
      "1   8.070067  \n",
      "==============================================================================================================================\n",
      "==============================================================================================================================\n",
      "Generating cluster range for basket_0.02_freq_vector.csv...\n",
      "Clustering data (n_clusters = 3): basket_0.02_freq_vector.csv...\n",
      "Reading data from path: ./Dataset/Basket/basket_0.02_freq_vector.csv...\n",
      "Converting string representation of list to actual list...\n"
     ]
    },
    {
     "name": "stderr",
     "output_type": "stream",
     "text": [
      "/var/folders/2q/bjqpws1153b0_y18lhffmh_m0000gn/T/ipykernel_96269/2570455119.py:77: FutureWarning: The frame.append method is deprecated and will be removed from pandas in a future version. Use pandas.concat instead.\n",
      "  data = data.append({'n_clusters': n, 'duration': duration}, ignore_index=True)\n",
      "/var/folders/2q/bjqpws1153b0_y18lhffmh_m0000gn/T/ipykernel_96269/938909012.py:21: FutureWarning: The frame.append method is deprecated and will be removed from pandas in a future version. Use pandas.concat instead.\n",
      "  duration_df = duration_df.append({'file': file, '3': duration_range[0], '6': duration_range[1], '9': duration_range[2], '12': duration_range[3], '15': duration_range[4]}, ignore_index=True)\n"
     ]
    },
    {
     "name": "stdout",
     "output_type": "stream",
     "text": [
      "Converting list of vectors into DataFrame...\n",
      "Extracting Vector column...\n",
      "Creating model...\n",
      "Fitting model...\n"
     ]
    },
    {
     "name": "stderr",
     "output_type": "stream",
     "text": [
      "/usr/local/lib/python3.11/site-packages/sklearn/cluster/_agglomerative.py:983: FutureWarning: Attribute `affinity` was deprecated in version 1.2 and will be removed in 1.4. Use `metric` instead\n",
      "  warnings.warn(\n"
     ]
    },
    {
     "name": "stdout",
     "output_type": "stream",
     "text": [
      "Saving data as ./Output Clusters/Basket/basket_0.02_freq_vector_hc_3.csv...\n",
      "Duration: 11.262420892715454 seconds\n",
      "Clustering data (n_clusters = 3): basket_0.02_freq_vector.csv done!\n",
      "\n",
      "Clustering data (n_clusters = 6): basket_0.02_freq_vector.csv...\n",
      "Reading data from path: ./Dataset/Basket/basket_0.02_freq_vector.csv...\n",
      "Converting string representation of list to actual list...\n"
     ]
    },
    {
     "name": "stderr",
     "output_type": "stream",
     "text": [
      "/var/folders/2q/bjqpws1153b0_y18lhffmh_m0000gn/T/ipykernel_96269/2570455119.py:77: FutureWarning: The frame.append method is deprecated and will be removed from pandas in a future version. Use pandas.concat instead.\n",
      "  data = data.append({'n_clusters': n, 'duration': duration}, ignore_index=True)\n"
     ]
    },
    {
     "name": "stdout",
     "output_type": "stream",
     "text": [
      "Converting list of vectors into DataFrame...\n",
      "Extracting Vector column...\n",
      "Creating model...\n",
      "Fitting model...\n"
     ]
    },
    {
     "name": "stderr",
     "output_type": "stream",
     "text": [
      "/usr/local/lib/python3.11/site-packages/sklearn/cluster/_agglomerative.py:983: FutureWarning: Attribute `affinity` was deprecated in version 1.2 and will be removed in 1.4. Use `metric` instead\n",
      "  warnings.warn(\n"
     ]
    },
    {
     "name": "stdout",
     "output_type": "stream",
     "text": [
      "Saving data as ./Output Clusters/Basket/basket_0.02_freq_vector_hc_6.csv...\n",
      "Duration: 12.186249256134033 seconds\n",
      "Clustering data (n_clusters = 6): basket_0.02_freq_vector.csv done!\n",
      "\n",
      "Clustering data (n_clusters = 9): basket_0.02_freq_vector.csv...\n",
      "Reading data from path: ./Dataset/Basket/basket_0.02_freq_vector.csv...\n",
      "Converting string representation of list to actual list...\n"
     ]
    },
    {
     "name": "stderr",
     "output_type": "stream",
     "text": [
      "/var/folders/2q/bjqpws1153b0_y18lhffmh_m0000gn/T/ipykernel_96269/2570455119.py:77: FutureWarning: The frame.append method is deprecated and will be removed from pandas in a future version. Use pandas.concat instead.\n",
      "  data = data.append({'n_clusters': n, 'duration': duration}, ignore_index=True)\n"
     ]
    },
    {
     "name": "stdout",
     "output_type": "stream",
     "text": [
      "Converting list of vectors into DataFrame...\n",
      "Extracting Vector column...\n",
      "Creating model...\n",
      "Fitting model...\n"
     ]
    },
    {
     "name": "stderr",
     "output_type": "stream",
     "text": [
      "/usr/local/lib/python3.11/site-packages/sklearn/cluster/_agglomerative.py:983: FutureWarning: Attribute `affinity` was deprecated in version 1.2 and will be removed in 1.4. Use `metric` instead\n",
      "  warnings.warn(\n"
     ]
    },
    {
     "name": "stdout",
     "output_type": "stream",
     "text": [
      "Saving data as ./Output Clusters/Basket/basket_0.02_freq_vector_hc_9.csv...\n",
      "Duration: 12.373034954071045 seconds\n",
      "Clustering data (n_clusters = 9): basket_0.02_freq_vector.csv done!\n",
      "\n",
      "Clustering data (n_clusters = 12): basket_0.02_freq_vector.csv...\n",
      "Reading data from path: ./Dataset/Basket/basket_0.02_freq_vector.csv...\n",
      "Converting string representation of list to actual list...\n"
     ]
    },
    {
     "name": "stderr",
     "output_type": "stream",
     "text": [
      "/var/folders/2q/bjqpws1153b0_y18lhffmh_m0000gn/T/ipykernel_96269/2570455119.py:77: FutureWarning: The frame.append method is deprecated and will be removed from pandas in a future version. Use pandas.concat instead.\n",
      "  data = data.append({'n_clusters': n, 'duration': duration}, ignore_index=True)\n"
     ]
    },
    {
     "name": "stdout",
     "output_type": "stream",
     "text": [
      "Converting list of vectors into DataFrame...\n",
      "Extracting Vector column...\n",
      "Creating model...\n",
      "Fitting model...\n"
     ]
    },
    {
     "name": "stderr",
     "output_type": "stream",
     "text": [
      "/usr/local/lib/python3.11/site-packages/sklearn/cluster/_agglomerative.py:983: FutureWarning: Attribute `affinity` was deprecated in version 1.2 and will be removed in 1.4. Use `metric` instead\n",
      "  warnings.warn(\n"
     ]
    },
    {
     "name": "stdout",
     "output_type": "stream",
     "text": [
      "Saving data as ./Output Clusters/Basket/basket_0.02_freq_vector_hc_12.csv...\n",
      "Duration: 11.279874086380005 seconds\n",
      "Clustering data (n_clusters = 12): basket_0.02_freq_vector.csv done!\n",
      "\n",
      "Clustering data (n_clusters = 15): basket_0.02_freq_vector.csv...\n",
      "Reading data from path: ./Dataset/Basket/basket_0.02_freq_vector.csv...\n",
      "Converting string representation of list to actual list...\n"
     ]
    },
    {
     "name": "stderr",
     "output_type": "stream",
     "text": [
      "/var/folders/2q/bjqpws1153b0_y18lhffmh_m0000gn/T/ipykernel_96269/2570455119.py:77: FutureWarning: The frame.append method is deprecated and will be removed from pandas in a future version. Use pandas.concat instead.\n",
      "  data = data.append({'n_clusters': n, 'duration': duration}, ignore_index=True)\n"
     ]
    },
    {
     "name": "stdout",
     "output_type": "stream",
     "text": [
      "Converting list of vectors into DataFrame...\n",
      "Extracting Vector column...\n",
      "Creating model...\n",
      "Fitting model...\n"
     ]
    },
    {
     "name": "stderr",
     "output_type": "stream",
     "text": [
      "/usr/local/lib/python3.11/site-packages/sklearn/cluster/_agglomerative.py:983: FutureWarning: Attribute `affinity` was deprecated in version 1.2 and will be removed in 1.4. Use `metric` instead\n",
      "  warnings.warn(\n"
     ]
    },
    {
     "name": "stdout",
     "output_type": "stream",
     "text": [
      "Saving data as ./Output Clusters/Basket/basket_0.02_freq_vector_hc_15.csv...\n",
      "Duration: 10.266127109527588 seconds\n",
      "Clustering data (n_clusters = 15): basket_0.02_freq_vector.csv done!\n",
      "\n",
      "Generating cluster range for basket_0.02_freq_vector.csv.csv done!\n",
      "                          file          3          6          9         12  \\\n",
      "0  basket_0.01_freq_vector.csv  15.599691  14.713701  14.093473  14.802742   \n",
      "1  basket_0.05_freq_vector.csv   7.375510   7.438573   7.728664   6.729247   \n",
      "2  basket_0.02_freq_vector.csv  11.262421  12.186249  12.373035  11.279874   \n",
      "\n",
      "          15  \n",
      "0  13.878968  \n",
      "1   8.070067  \n",
      "2  10.266127  \n",
      "==============================================================================================================================\n",
      "==============================================================================================================================\n",
      "Generating cluster range for basket_0.03_freq_vector.csv...\n",
      "Clustering data (n_clusters = 3): basket_0.03_freq_vector.csv...\n",
      "Reading data from path: ./Dataset/Basket/basket_0.03_freq_vector.csv...\n",
      "Converting string representation of list to actual list...\n"
     ]
    },
    {
     "name": "stderr",
     "output_type": "stream",
     "text": [
      "/var/folders/2q/bjqpws1153b0_y18lhffmh_m0000gn/T/ipykernel_96269/2570455119.py:77: FutureWarning: The frame.append method is deprecated and will be removed from pandas in a future version. Use pandas.concat instead.\n",
      "  data = data.append({'n_clusters': n, 'duration': duration}, ignore_index=True)\n",
      "/var/folders/2q/bjqpws1153b0_y18lhffmh_m0000gn/T/ipykernel_96269/938909012.py:21: FutureWarning: The frame.append method is deprecated and will be removed from pandas in a future version. Use pandas.concat instead.\n",
      "  duration_df = duration_df.append({'file': file, '3': duration_range[0], '6': duration_range[1], '9': duration_range[2], '12': duration_range[3], '15': duration_range[4]}, ignore_index=True)\n"
     ]
    },
    {
     "name": "stdout",
     "output_type": "stream",
     "text": [
      "Converting list of vectors into DataFrame...\n",
      "Extracting Vector column...\n",
      "Creating model...\n",
      "Fitting model...\n"
     ]
    },
    {
     "name": "stderr",
     "output_type": "stream",
     "text": [
      "/usr/local/lib/python3.11/site-packages/sklearn/cluster/_agglomerative.py:983: FutureWarning: Attribute `affinity` was deprecated in version 1.2 and will be removed in 1.4. Use `metric` instead\n",
      "  warnings.warn(\n"
     ]
    },
    {
     "name": "stdout",
     "output_type": "stream",
     "text": [
      "Saving data as ./Output Clusters/Basket/basket_0.03_freq_vector_hc_3.csv...\n",
      "Duration: 9.511945962905884 seconds\n",
      "Clustering data (n_clusters = 3): basket_0.03_freq_vector.csv done!\n",
      "\n",
      "Clustering data (n_clusters = 6): basket_0.03_freq_vector.csv...\n",
      "Reading data from path: ./Dataset/Basket/basket_0.03_freq_vector.csv...\n",
      "Converting string representation of list to actual list...\n"
     ]
    },
    {
     "name": "stderr",
     "output_type": "stream",
     "text": [
      "/var/folders/2q/bjqpws1153b0_y18lhffmh_m0000gn/T/ipykernel_96269/2570455119.py:77: FutureWarning: The frame.append method is deprecated and will be removed from pandas in a future version. Use pandas.concat instead.\n",
      "  data = data.append({'n_clusters': n, 'duration': duration}, ignore_index=True)\n"
     ]
    },
    {
     "name": "stdout",
     "output_type": "stream",
     "text": [
      "Converting list of vectors into DataFrame...\n",
      "Extracting Vector column...\n",
      "Creating model...\n",
      "Fitting model...\n"
     ]
    },
    {
     "name": "stderr",
     "output_type": "stream",
     "text": [
      "/usr/local/lib/python3.11/site-packages/sklearn/cluster/_agglomerative.py:983: FutureWarning: Attribute `affinity` was deprecated in version 1.2 and will be removed in 1.4. Use `metric` instead\n",
      "  warnings.warn(\n"
     ]
    },
    {
     "name": "stdout",
     "output_type": "stream",
     "text": [
      "Saving data as ./Output Clusters/Basket/basket_0.03_freq_vector_hc_6.csv...\n",
      "Duration: 9.870980024337769 seconds\n",
      "Clustering data (n_clusters = 6): basket_0.03_freq_vector.csv done!\n",
      "\n",
      "Clustering data (n_clusters = 9): basket_0.03_freq_vector.csv...\n",
      "Reading data from path: ./Dataset/Basket/basket_0.03_freq_vector.csv...\n",
      "Converting string representation of list to actual list...\n"
     ]
    },
    {
     "name": "stderr",
     "output_type": "stream",
     "text": [
      "/var/folders/2q/bjqpws1153b0_y18lhffmh_m0000gn/T/ipykernel_96269/2570455119.py:77: FutureWarning: The frame.append method is deprecated and will be removed from pandas in a future version. Use pandas.concat instead.\n",
      "  data = data.append({'n_clusters': n, 'duration': duration}, ignore_index=True)\n"
     ]
    },
    {
     "name": "stdout",
     "output_type": "stream",
     "text": [
      "Converting list of vectors into DataFrame...\n",
      "Extracting Vector column...\n",
      "Creating model...\n",
      "Fitting model...\n"
     ]
    },
    {
     "name": "stderr",
     "output_type": "stream",
     "text": [
      "/usr/local/lib/python3.11/site-packages/sklearn/cluster/_agglomerative.py:983: FutureWarning: Attribute `affinity` was deprecated in version 1.2 and will be removed in 1.4. Use `metric` instead\n",
      "  warnings.warn(\n"
     ]
    },
    {
     "name": "stdout",
     "output_type": "stream",
     "text": [
      "Saving data as ./Output Clusters/Basket/basket_0.03_freq_vector_hc_9.csv...\n",
      "Duration: 11.039576053619385 seconds\n",
      "Clustering data (n_clusters = 9): basket_0.03_freq_vector.csv done!\n",
      "\n",
      "Clustering data (n_clusters = 12): basket_0.03_freq_vector.csv...\n",
      "Reading data from path: ./Dataset/Basket/basket_0.03_freq_vector.csv...\n",
      "Converting string representation of list to actual list...\n"
     ]
    },
    {
     "name": "stderr",
     "output_type": "stream",
     "text": [
      "/var/folders/2q/bjqpws1153b0_y18lhffmh_m0000gn/T/ipykernel_96269/2570455119.py:77: FutureWarning: The frame.append method is deprecated and will be removed from pandas in a future version. Use pandas.concat instead.\n",
      "  data = data.append({'n_clusters': n, 'duration': duration}, ignore_index=True)\n"
     ]
    },
    {
     "name": "stdout",
     "output_type": "stream",
     "text": [
      "Converting list of vectors into DataFrame...\n",
      "Extracting Vector column...\n",
      "Creating model...\n",
      "Fitting model...\n"
     ]
    },
    {
     "name": "stderr",
     "output_type": "stream",
     "text": [
      "/usr/local/lib/python3.11/site-packages/sklearn/cluster/_agglomerative.py:983: FutureWarning: Attribute `affinity` was deprecated in version 1.2 and will be removed in 1.4. Use `metric` instead\n",
      "  warnings.warn(\n"
     ]
    },
    {
     "name": "stdout",
     "output_type": "stream",
     "text": [
      "Saving data as ./Output Clusters/Basket/basket_0.03_freq_vector_hc_12.csv...\n",
      "Duration: 9.734606742858887 seconds\n",
      "Clustering data (n_clusters = 12): basket_0.03_freq_vector.csv done!\n",
      "\n",
      "Clustering data (n_clusters = 15): basket_0.03_freq_vector.csv...\n",
      "Reading data from path: ./Dataset/Basket/basket_0.03_freq_vector.csv...\n",
      "Converting string representation of list to actual list...\n"
     ]
    },
    {
     "name": "stderr",
     "output_type": "stream",
     "text": [
      "/var/folders/2q/bjqpws1153b0_y18lhffmh_m0000gn/T/ipykernel_96269/2570455119.py:77: FutureWarning: The frame.append method is deprecated and will be removed from pandas in a future version. Use pandas.concat instead.\n",
      "  data = data.append({'n_clusters': n, 'duration': duration}, ignore_index=True)\n"
     ]
    },
    {
     "name": "stdout",
     "output_type": "stream",
     "text": [
      "Converting list of vectors into DataFrame...\n",
      "Extracting Vector column...\n",
      "Creating model...\n",
      "Fitting model...\n"
     ]
    },
    {
     "name": "stderr",
     "output_type": "stream",
     "text": [
      "/usr/local/lib/python3.11/site-packages/sklearn/cluster/_agglomerative.py:983: FutureWarning: Attribute `affinity` was deprecated in version 1.2 and will be removed in 1.4. Use `metric` instead\n",
      "  warnings.warn(\n"
     ]
    },
    {
     "name": "stdout",
     "output_type": "stream",
     "text": [
      "Saving data as ./Output Clusters/Basket/basket_0.03_freq_vector_hc_15.csv...\n",
      "Duration: 9.670593023300171 seconds\n",
      "Clustering data (n_clusters = 15): basket_0.03_freq_vector.csv done!\n",
      "\n",
      "Generating cluster range for basket_0.03_freq_vector.csv.csv done!\n",
      "                          file          3          6          9         12  \\\n",
      "0  basket_0.01_freq_vector.csv  15.599691  14.713701  14.093473  14.802742   \n",
      "1  basket_0.05_freq_vector.csv   7.375510   7.438573   7.728664   6.729247   \n",
      "2  basket_0.02_freq_vector.csv  11.262421  12.186249  12.373035  11.279874   \n",
      "3  basket_0.03_freq_vector.csv   9.511946   9.870980  11.039576   9.734607   \n",
      "\n",
      "          15  \n",
      "0  13.878968  \n",
      "1   8.070067  \n",
      "2  10.266127  \n",
      "3   9.670593  \n",
      "==============================================================================================================================\n",
      "==============================================================================================================================\n",
      "Generating cluster range for basket_0.04_freq_vector.csv...\n",
      "Clustering data (n_clusters = 3): basket_0.04_freq_vector.csv...\n",
      "Reading data from path: ./Dataset/Basket/basket_0.04_freq_vector.csv...\n",
      "Converting string representation of list to actual list...\n"
     ]
    },
    {
     "name": "stderr",
     "output_type": "stream",
     "text": [
      "/var/folders/2q/bjqpws1153b0_y18lhffmh_m0000gn/T/ipykernel_96269/2570455119.py:77: FutureWarning: The frame.append method is deprecated and will be removed from pandas in a future version. Use pandas.concat instead.\n",
      "  data = data.append({'n_clusters': n, 'duration': duration}, ignore_index=True)\n",
      "/var/folders/2q/bjqpws1153b0_y18lhffmh_m0000gn/T/ipykernel_96269/938909012.py:21: FutureWarning: The frame.append method is deprecated and will be removed from pandas in a future version. Use pandas.concat instead.\n",
      "  duration_df = duration_df.append({'file': file, '3': duration_range[0], '6': duration_range[1], '9': duration_range[2], '12': duration_range[3], '15': duration_range[4]}, ignore_index=True)\n"
     ]
    },
    {
     "name": "stdout",
     "output_type": "stream",
     "text": [
      "Converting list of vectors into DataFrame...\n",
      "Extracting Vector column...\n",
      "Creating model...\n",
      "Fitting model...\n"
     ]
    },
    {
     "name": "stderr",
     "output_type": "stream",
     "text": [
      "/usr/local/lib/python3.11/site-packages/sklearn/cluster/_agglomerative.py:983: FutureWarning: Attribute `affinity` was deprecated in version 1.2 and will be removed in 1.4. Use `metric` instead\n",
      "  warnings.warn(\n"
     ]
    },
    {
     "name": "stdout",
     "output_type": "stream",
     "text": [
      "Saving data as ./Output Clusters/Basket/basket_0.04_freq_vector_hc_3.csv...\n",
      "Duration: 7.7503039836883545 seconds\n",
      "Clustering data (n_clusters = 3): basket_0.04_freq_vector.csv done!\n",
      "\n",
      "Clustering data (n_clusters = 6): basket_0.04_freq_vector.csv...\n",
      "Reading data from path: ./Dataset/Basket/basket_0.04_freq_vector.csv...\n",
      "Converting string representation of list to actual list...\n"
     ]
    },
    {
     "name": "stderr",
     "output_type": "stream",
     "text": [
      "/var/folders/2q/bjqpws1153b0_y18lhffmh_m0000gn/T/ipykernel_96269/2570455119.py:77: FutureWarning: The frame.append method is deprecated and will be removed from pandas in a future version. Use pandas.concat instead.\n",
      "  data = data.append({'n_clusters': n, 'duration': duration}, ignore_index=True)\n"
     ]
    },
    {
     "name": "stdout",
     "output_type": "stream",
     "text": [
      "Converting list of vectors into DataFrame...\n",
      "Extracting Vector column...\n",
      "Creating model...\n",
      "Fitting model...\n"
     ]
    },
    {
     "name": "stderr",
     "output_type": "stream",
     "text": [
      "/usr/local/lib/python3.11/site-packages/sklearn/cluster/_agglomerative.py:983: FutureWarning: Attribute `affinity` was deprecated in version 1.2 and will be removed in 1.4. Use `metric` instead\n",
      "  warnings.warn(\n"
     ]
    },
    {
     "name": "stdout",
     "output_type": "stream",
     "text": [
      "Saving data as ./Output Clusters/Basket/basket_0.04_freq_vector_hc_6.csv...\n",
      "Duration: 8.276311159133911 seconds\n",
      "Clustering data (n_clusters = 6): basket_0.04_freq_vector.csv done!\n",
      "\n",
      "Clustering data (n_clusters = 9): basket_0.04_freq_vector.csv...\n",
      "Reading data from path: ./Dataset/Basket/basket_0.04_freq_vector.csv...\n",
      "Converting string representation of list to actual list...\n"
     ]
    },
    {
     "name": "stderr",
     "output_type": "stream",
     "text": [
      "/var/folders/2q/bjqpws1153b0_y18lhffmh_m0000gn/T/ipykernel_96269/2570455119.py:77: FutureWarning: The frame.append method is deprecated and will be removed from pandas in a future version. Use pandas.concat instead.\n",
      "  data = data.append({'n_clusters': n, 'duration': duration}, ignore_index=True)\n"
     ]
    },
    {
     "name": "stdout",
     "output_type": "stream",
     "text": [
      "Converting list of vectors into DataFrame...\n",
      "Extracting Vector column...\n",
      "Creating model...\n",
      "Fitting model...\n"
     ]
    },
    {
     "name": "stderr",
     "output_type": "stream",
     "text": [
      "/usr/local/lib/python3.11/site-packages/sklearn/cluster/_agglomerative.py:983: FutureWarning: Attribute `affinity` was deprecated in version 1.2 and will be removed in 1.4. Use `metric` instead\n",
      "  warnings.warn(\n"
     ]
    },
    {
     "name": "stdout",
     "output_type": "stream",
     "text": [
      "Saving data as ./Output Clusters/Basket/basket_0.04_freq_vector_hc_9.csv...\n",
      "Duration: 8.81649899482727 seconds\n",
      "Clustering data (n_clusters = 9): basket_0.04_freq_vector.csv done!\n",
      "\n",
      "Clustering data (n_clusters = 12): basket_0.04_freq_vector.csv...\n",
      "Reading data from path: ./Dataset/Basket/basket_0.04_freq_vector.csv...\n",
      "Converting string representation of list to actual list...\n"
     ]
    },
    {
     "name": "stderr",
     "output_type": "stream",
     "text": [
      "/var/folders/2q/bjqpws1153b0_y18lhffmh_m0000gn/T/ipykernel_96269/2570455119.py:77: FutureWarning: The frame.append method is deprecated and will be removed from pandas in a future version. Use pandas.concat instead.\n",
      "  data = data.append({'n_clusters': n, 'duration': duration}, ignore_index=True)\n"
     ]
    },
    {
     "name": "stdout",
     "output_type": "stream",
     "text": [
      "Converting list of vectors into DataFrame...\n",
      "Extracting Vector column...\n",
      "Creating model...\n",
      "Fitting model...\n"
     ]
    },
    {
     "name": "stderr",
     "output_type": "stream",
     "text": [
      "/usr/local/lib/python3.11/site-packages/sklearn/cluster/_agglomerative.py:983: FutureWarning: Attribute `affinity` was deprecated in version 1.2 and will be removed in 1.4. Use `metric` instead\n",
      "  warnings.warn(\n"
     ]
    },
    {
     "name": "stdout",
     "output_type": "stream",
     "text": [
      "Saving data as ./Output Clusters/Basket/basket_0.04_freq_vector_hc_12.csv...\n",
      "Duration: 9.191028833389282 seconds\n",
      "Clustering data (n_clusters = 12): basket_0.04_freq_vector.csv done!\n",
      "\n",
      "Clustering data (n_clusters = 15): basket_0.04_freq_vector.csv...\n",
      "Reading data from path: ./Dataset/Basket/basket_0.04_freq_vector.csv...\n",
      "Converting string representation of list to actual list...\n"
     ]
    },
    {
     "name": "stderr",
     "output_type": "stream",
     "text": [
      "/var/folders/2q/bjqpws1153b0_y18lhffmh_m0000gn/T/ipykernel_96269/2570455119.py:77: FutureWarning: The frame.append method is deprecated and will be removed from pandas in a future version. Use pandas.concat instead.\n",
      "  data = data.append({'n_clusters': n, 'duration': duration}, ignore_index=True)\n"
     ]
    },
    {
     "name": "stdout",
     "output_type": "stream",
     "text": [
      "Converting list of vectors into DataFrame...\n",
      "Extracting Vector column...\n",
      "Creating model...\n",
      "Fitting model...\n"
     ]
    },
    {
     "name": "stderr",
     "output_type": "stream",
     "text": [
      "/usr/local/lib/python3.11/site-packages/sklearn/cluster/_agglomerative.py:983: FutureWarning: Attribute `affinity` was deprecated in version 1.2 and will be removed in 1.4. Use `metric` instead\n",
      "  warnings.warn(\n"
     ]
    },
    {
     "name": "stdout",
     "output_type": "stream",
     "text": [
      "Saving data as ./Output Clusters/Basket/basket_0.04_freq_vector_hc_15.csv...\n",
      "Duration: 8.017571210861206 seconds\n",
      "Clustering data (n_clusters = 15): basket_0.04_freq_vector.csv done!\n",
      "\n",
      "Generating cluster range for basket_0.04_freq_vector.csv.csv done!\n",
      "                          file          3          6          9         12  \\\n",
      "0  basket_0.01_freq_vector.csv  15.599691  14.713701  14.093473  14.802742   \n",
      "1  basket_0.05_freq_vector.csv   7.375510   7.438573   7.728664   6.729247   \n",
      "2  basket_0.02_freq_vector.csv  11.262421  12.186249  12.373035  11.279874   \n",
      "3  basket_0.03_freq_vector.csv   9.511946   9.870980  11.039576   9.734607   \n",
      "4  basket_0.04_freq_vector.csv   7.750304   8.276311   8.816499   9.191029   \n",
      "\n",
      "          15  \n",
      "0  13.878968  \n",
      "1   8.070067  \n",
      "2  10.266127  \n",
      "3   9.670593  \n",
      "4   8.017571  \n",
      "==============================================================================================================================\n",
      "==============================================================================================================================\n",
      "Generating cluster range for basket_vector.csv...\n",
      "Clustering data (n_clusters = 3): basket_vector.csv...\n",
      "Reading data from path: ./Dataset/Basket/basket_vector.csv...\n"
     ]
    },
    {
     "name": "stderr",
     "output_type": "stream",
     "text": [
      "/var/folders/2q/bjqpws1153b0_y18lhffmh_m0000gn/T/ipykernel_96269/2570455119.py:77: FutureWarning: The frame.append method is deprecated and will be removed from pandas in a future version. Use pandas.concat instead.\n",
      "  data = data.append({'n_clusters': n, 'duration': duration}, ignore_index=True)\n",
      "/var/folders/2q/bjqpws1153b0_y18lhffmh_m0000gn/T/ipykernel_96269/938909012.py:21: FutureWarning: The frame.append method is deprecated and will be removed from pandas in a future version. Use pandas.concat instead.\n",
      "  duration_df = duration_df.append({'file': file, '3': duration_range[0], '6': duration_range[1], '9': duration_range[2], '12': duration_range[3], '15': duration_range[4]}, ignore_index=True)\n"
     ]
    },
    {
     "name": "stdout",
     "output_type": "stream",
     "text": [
      "Converting string representation of list to actual list...\n",
      "Converting list of vectors into DataFrame...\n",
      "Extracting Vector column...\n",
      "Creating model...\n",
      "Fitting model...\n"
     ]
    },
    {
     "name": "stderr",
     "output_type": "stream",
     "text": [
      "/usr/local/lib/python3.11/site-packages/sklearn/cluster/_agglomerative.py:983: FutureWarning: Attribute `affinity` was deprecated in version 1.2 and will be removed in 1.4. Use `metric` instead\n",
      "  warnings.warn(\n"
     ]
    },
    {
     "name": "stdout",
     "output_type": "stream",
     "text": [
      "Saving data as ./Output Clusters/Basket/basket_vector_hc_3.csv...\n",
      "Duration: 27.704519033432007 seconds\n",
      "Clustering data (n_clusters = 3): basket_vector.csv done!\n",
      "\n",
      "Clustering data (n_clusters = 6): basket_vector.csv...\n",
      "Reading data from path: ./Dataset/Basket/basket_vector.csv...\n",
      "Converting string representation of list to actual list...\n"
     ]
    },
    {
     "name": "stderr",
     "output_type": "stream",
     "text": [
      "/var/folders/2q/bjqpws1153b0_y18lhffmh_m0000gn/T/ipykernel_96269/2570455119.py:77: FutureWarning: The frame.append method is deprecated and will be removed from pandas in a future version. Use pandas.concat instead.\n",
      "  data = data.append({'n_clusters': n, 'duration': duration}, ignore_index=True)\n"
     ]
    },
    {
     "name": "stdout",
     "output_type": "stream",
     "text": [
      "Converting list of vectors into DataFrame...\n",
      "Extracting Vector column...\n",
      "Creating model...\n",
      "Fitting model...\n"
     ]
    },
    {
     "name": "stderr",
     "output_type": "stream",
     "text": [
      "/usr/local/lib/python3.11/site-packages/sklearn/cluster/_agglomerative.py:983: FutureWarning: Attribute `affinity` was deprecated in version 1.2 and will be removed in 1.4. Use `metric` instead\n",
      "  warnings.warn(\n"
     ]
    },
    {
     "name": "stdout",
     "output_type": "stream",
     "text": [
      "Saving data as ./Output Clusters/Basket/basket_vector_hc_6.csv...\n",
      "Duration: 25.420573949813843 seconds\n",
      "Clustering data (n_clusters = 6): basket_vector.csv done!\n",
      "\n",
      "Clustering data (n_clusters = 9): basket_vector.csv...\n",
      "Reading data from path: ./Dataset/Basket/basket_vector.csv...\n",
      "Converting string representation of list to actual list...\n"
     ]
    },
    {
     "name": "stderr",
     "output_type": "stream",
     "text": [
      "/var/folders/2q/bjqpws1153b0_y18lhffmh_m0000gn/T/ipykernel_96269/2570455119.py:77: FutureWarning: The frame.append method is deprecated and will be removed from pandas in a future version. Use pandas.concat instead.\n",
      "  data = data.append({'n_clusters': n, 'duration': duration}, ignore_index=True)\n"
     ]
    },
    {
     "name": "stdout",
     "output_type": "stream",
     "text": [
      "Converting list of vectors into DataFrame...\n",
      "Extracting Vector column...\n",
      "Creating model...\n",
      "Fitting model...\n"
     ]
    },
    {
     "name": "stderr",
     "output_type": "stream",
     "text": [
      "/usr/local/lib/python3.11/site-packages/sklearn/cluster/_agglomerative.py:983: FutureWarning: Attribute `affinity` was deprecated in version 1.2 and will be removed in 1.4. Use `metric` instead\n",
      "  warnings.warn(\n"
     ]
    },
    {
     "name": "stdout",
     "output_type": "stream",
     "text": [
      "Saving data as ./Output Clusters/Basket/basket_vector_hc_9.csv...\n",
      "Duration: 23.998247146606445 seconds\n",
      "Clustering data (n_clusters = 9): basket_vector.csv done!\n",
      "\n",
      "Clustering data (n_clusters = 12): basket_vector.csv...\n",
      "Reading data from path: ./Dataset/Basket/basket_vector.csv...\n",
      "Converting string representation of list to actual list...\n"
     ]
    },
    {
     "name": "stderr",
     "output_type": "stream",
     "text": [
      "/var/folders/2q/bjqpws1153b0_y18lhffmh_m0000gn/T/ipykernel_96269/2570455119.py:77: FutureWarning: The frame.append method is deprecated and will be removed from pandas in a future version. Use pandas.concat instead.\n",
      "  data = data.append({'n_clusters': n, 'duration': duration}, ignore_index=True)\n"
     ]
    },
    {
     "name": "stdout",
     "output_type": "stream",
     "text": [
      "Converting list of vectors into DataFrame...\n",
      "Extracting Vector column...\n",
      "Creating model...\n",
      "Fitting model...\n"
     ]
    },
    {
     "name": "stderr",
     "output_type": "stream",
     "text": [
      "/usr/local/lib/python3.11/site-packages/sklearn/cluster/_agglomerative.py:983: FutureWarning: Attribute `affinity` was deprecated in version 1.2 and will be removed in 1.4. Use `metric` instead\n",
      "  warnings.warn(\n"
     ]
    },
    {
     "name": "stdout",
     "output_type": "stream",
     "text": [
      "Saving data as ./Output Clusters/Basket/basket_vector_hc_12.csv...\n",
      "Duration: 25.41034483909607 seconds\n",
      "Clustering data (n_clusters = 12): basket_vector.csv done!\n",
      "\n",
      "Clustering data (n_clusters = 15): basket_vector.csv...\n",
      "Reading data from path: ./Dataset/Basket/basket_vector.csv...\n",
      "Converting string representation of list to actual list...\n"
     ]
    },
    {
     "name": "stderr",
     "output_type": "stream",
     "text": [
      "/var/folders/2q/bjqpws1153b0_y18lhffmh_m0000gn/T/ipykernel_96269/2570455119.py:77: FutureWarning: The frame.append method is deprecated and will be removed from pandas in a future version. Use pandas.concat instead.\n",
      "  data = data.append({'n_clusters': n, 'duration': duration}, ignore_index=True)\n"
     ]
    },
    {
     "name": "stdout",
     "output_type": "stream",
     "text": [
      "Converting list of vectors into DataFrame...\n",
      "Extracting Vector column...\n",
      "Creating model...\n",
      "Fitting model...\n"
     ]
    },
    {
     "name": "stderr",
     "output_type": "stream",
     "text": [
      "/usr/local/lib/python3.11/site-packages/sklearn/cluster/_agglomerative.py:983: FutureWarning: Attribute `affinity` was deprecated in version 1.2 and will be removed in 1.4. Use `metric` instead\n",
      "  warnings.warn(\n"
     ]
    },
    {
     "name": "stdout",
     "output_type": "stream",
     "text": [
      "Saving data as ./Output Clusters/Basket/basket_vector_hc_15.csv...\n",
      "Duration: 30.668181896209717 seconds\n",
      "Clustering data (n_clusters = 15): basket_vector.csv done!\n",
      "\n",
      "Generating cluster range for basket_vector.csv.csv done!\n",
      "                          file          3          6          9         12  \\\n",
      "0  basket_0.01_freq_vector.csv  15.599691  14.713701  14.093473  14.802742   \n",
      "1  basket_0.05_freq_vector.csv   7.375510   7.438573   7.728664   6.729247   \n",
      "2  basket_0.02_freq_vector.csv  11.262421  12.186249  12.373035  11.279874   \n",
      "3  basket_0.03_freq_vector.csv   9.511946   9.870980  11.039576   9.734607   \n",
      "4  basket_0.04_freq_vector.csv   7.750304   8.276311   8.816499   9.191029   \n",
      "\n",
      "          15  \n",
      "0  13.878968  \n",
      "1   8.070067  \n",
      "2  10.266127  \n",
      "3   9.670593  \n",
      "4   8.017571  \n",
      "==============================================================================================================================\n"
     ]
    },
    {
     "name": "stderr",
     "output_type": "stream",
     "text": [
      "/var/folders/2q/bjqpws1153b0_y18lhffmh_m0000gn/T/ipykernel_96269/2570455119.py:77: FutureWarning: The frame.append method is deprecated and will be removed from pandas in a future version. Use pandas.concat instead.\n",
      "  data = data.append({'n_clusters': n, 'duration': duration}, ignore_index=True)\n",
      "/var/folders/2q/bjqpws1153b0_y18lhffmh_m0000gn/T/ipykernel_96269/938909012.py:21: FutureWarning: The frame.append method is deprecated and will be removed from pandas in a future version. Use pandas.concat instead.\n",
      "  duration_df = duration_df.append({'file': file, '3': duration_range[0], '6': duration_range[1], '9': duration_range[2], '12': duration_range[3], '15': duration_range[4]}, ignore_index=True)\n"
     ]
    }
   ],
   "source": [
    "# Clustering basket data\n",
    "import os \n",
    "f_list = []\n",
    "for file in os.listdir(\"./Dataset/Basket/\"):\n",
    "    if \"mapping\" not in file:\n",
    "        f_list.append(file)\n",
    "        \n",
    "print(\"Generating cluster range for the following files: \" + str(f_list) + \"...\")\n",
    "\n",
    "# duration where the columns will be | file | 3 | 6 | 9 | 12 | 15 |\n",
    "duration_df = pd.DataFrame(columns=['file', '3', '6', '9', '12', '15'])\n",
    "\n",
    "# Add data to DataFrame\n",
    "for file in f_list:\n",
    "    print(\"==============================================================================================================================\")\n",
    "    duration_range = generate_cluster_range(file, 3, 18, 3)\n",
    "    \n",
    "    # convert duration_range to a list\n",
    "    duration_range = duration_range['duration'].to_list()\n",
    "    # add duration_range to duration_df\n",
    "    duration_df = duration_df.append({'file': file, '3': duration_range[0], '6': duration_range[1], '9': duration_range[2], '12': duration_range[3], '15': duration_range[4]}, ignore_index=True) # type: ignore\n",
    "    \n",
    "    print(duration_df.head())\n",
    "    print(\"==============================================================================================================================\")\n",
    "    \n",
    "duration_df.head()\n",
    "duration_df.to_csv(\"./Output Clusters/Basket/duration.csv\", index=False)\n",
    "# generate_cluster_range(\"basket_freq_vector.csv\", 3, 12, 3)"
   ]
  },
  {
   "cell_type": "code",
   "execution_count": 56,
   "metadata": {},
   "outputs": [
    {
     "name": "stdout",
     "output_type": "stream",
     "text": [
      "Generating cluster range for the following files: ['book_vector.csv', 'book_0.11_freq_vector.csv', 'book_0.08_freq_vector.csv', 'book_0.07_freq_vector.csv', 'book_0.09_freq_vector.csv', 'book_0.06_freq_vector.csv', 'book_0.12_freq_vector.csv', 'book_0.1_freq_vector.csv', 'book_0.15_freq_vector.csv', 'book_0.14_freq_vector.csv', 'book_0.13_freq_vector.csv', 'book_0.05_freq_vector.csv']...\n",
      "==============================================================================================================================\n",
      "Generating cluster range for book_vector.csv...\n",
      "Clustering data (n_clusters = 3): book_vector.csv...\n",
      "Reading data from path: ./Dataset/Book/book_vector.csv...\n",
      "Converting string representation of list to actual list...\n",
      "Converting list of vectors into DataFrame...\n",
      "Extracting Vector column...\n",
      "Creating model...\n",
      "Fitting model...\n"
     ]
    },
    {
     "name": "stderr",
     "output_type": "stream",
     "text": [
      "/usr/local/lib/python3.11/site-packages/sklearn/cluster/_agglomerative.py:983: FutureWarning: Attribute `affinity` was deprecated in version 1.2 and will be removed in 1.4. Use `metric` instead\n",
      "  warnings.warn(\n"
     ]
    },
    {
     "name": "stdout",
     "output_type": "stream",
     "text": [
      "Saving data as ./Output Clusters/Book/book_vector_hc_3.csv...\n",
      "Duration: 186.80601716041565 seconds\n",
      "Clustering data (n_clusters = 3): book_vector.csv done!\n",
      "\n",
      "Clustering data (n_clusters = 6): book_vector.csv...\n",
      "Reading data from path: ./Dataset/Book/book_vector.csv...\n"
     ]
    },
    {
     "name": "stderr",
     "output_type": "stream",
     "text": [
      "/var/folders/2q/bjqpws1153b0_y18lhffmh_m0000gn/T/ipykernel_96269/2472593214.py:77: FutureWarning: The frame.append method is deprecated and will be removed from pandas in a future version. Use pandas.concat instead.\n",
      "  data = data.append({'n_clusters': n, 'duration': duration}, ignore_index=True)\n"
     ]
    },
    {
     "name": "stdout",
     "output_type": "stream",
     "text": [
      "Converting string representation of list to actual list...\n",
      "Converting list of vectors into DataFrame...\n",
      "Extracting Vector column...\n",
      "Creating model...\n",
      "Fitting model...\n"
     ]
    },
    {
     "name": "stderr",
     "output_type": "stream",
     "text": [
      "/usr/local/lib/python3.11/site-packages/sklearn/cluster/_agglomerative.py:983: FutureWarning: Attribute `affinity` was deprecated in version 1.2 and will be removed in 1.4. Use `metric` instead\n",
      "  warnings.warn(\n"
     ]
    },
    {
     "name": "stdout",
     "output_type": "stream",
     "text": [
      "Saving data as ./Output Clusters/Book/book_vector_hc_6.csv...\n",
      "Duration: 231.57898807525635 seconds\n",
      "Clustering data (n_clusters = 6): book_vector.csv done!\n",
      "\n",
      "Clustering data (n_clusters = 9): book_vector.csv...\n",
      "Reading data from path: ./Dataset/Book/book_vector.csv...\n"
     ]
    },
    {
     "name": "stderr",
     "output_type": "stream",
     "text": [
      "/var/folders/2q/bjqpws1153b0_y18lhffmh_m0000gn/T/ipykernel_96269/2472593214.py:77: FutureWarning: The frame.append method is deprecated and will be removed from pandas in a future version. Use pandas.concat instead.\n",
      "  data = data.append({'n_clusters': n, 'duration': duration}, ignore_index=True)\n"
     ]
    },
    {
     "name": "stdout",
     "output_type": "stream",
     "text": [
      "Converting string representation of list to actual list...\n",
      "Converting list of vectors into DataFrame...\n",
      "Extracting Vector column...\n",
      "Creating model...\n",
      "Fitting model...\n"
     ]
    },
    {
     "name": "stderr",
     "output_type": "stream",
     "text": [
      "/usr/local/lib/python3.11/site-packages/sklearn/cluster/_agglomerative.py:983: FutureWarning: Attribute `affinity` was deprecated in version 1.2 and will be removed in 1.4. Use `metric` instead\n",
      "  warnings.warn(\n"
     ]
    },
    {
     "name": "stdout",
     "output_type": "stream",
     "text": [
      "Saving data as ./Output Clusters/Book/book_vector_hc_9.csv...\n",
      "Duration: 201.565190076828 seconds\n",
      "Clustering data (n_clusters = 9): book_vector.csv done!\n",
      "\n",
      "Clustering data (n_clusters = 12): book_vector.csv...\n",
      "Reading data from path: ./Dataset/Book/book_vector.csv...\n"
     ]
    },
    {
     "name": "stderr",
     "output_type": "stream",
     "text": [
      "/var/folders/2q/bjqpws1153b0_y18lhffmh_m0000gn/T/ipykernel_96269/2472593214.py:77: FutureWarning: The frame.append method is deprecated and will be removed from pandas in a future version. Use pandas.concat instead.\n",
      "  data = data.append({'n_clusters': n, 'duration': duration}, ignore_index=True)\n"
     ]
    },
    {
     "name": "stdout",
     "output_type": "stream",
     "text": [
      "Converting string representation of list to actual list...\n",
      "Converting list of vectors into DataFrame...\n",
      "Extracting Vector column...\n",
      "Creating model...\n",
      "Fitting model...\n"
     ]
    },
    {
     "name": "stderr",
     "output_type": "stream",
     "text": [
      "/usr/local/lib/python3.11/site-packages/sklearn/cluster/_agglomerative.py:983: FutureWarning: Attribute `affinity` was deprecated in version 1.2 and will be removed in 1.4. Use `metric` instead\n",
      "  warnings.warn(\n"
     ]
    },
    {
     "name": "stdout",
     "output_type": "stream",
     "text": [
      "Saving data as ./Output Clusters/Book/book_vector_hc_12.csv...\n",
      "Duration: 205.85286688804626 seconds\n",
      "Clustering data (n_clusters = 12): book_vector.csv done!\n",
      "\n",
      "Clustering data (n_clusters = 15): book_vector.csv...\n",
      "Reading data from path: ./Dataset/Book/book_vector.csv...\n"
     ]
    },
    {
     "name": "stderr",
     "output_type": "stream",
     "text": [
      "/var/folders/2q/bjqpws1153b0_y18lhffmh_m0000gn/T/ipykernel_96269/2472593214.py:77: FutureWarning: The frame.append method is deprecated and will be removed from pandas in a future version. Use pandas.concat instead.\n",
      "  data = data.append({'n_clusters': n, 'duration': duration}, ignore_index=True)\n"
     ]
    },
    {
     "name": "stdout",
     "output_type": "stream",
     "text": [
      "Converting string representation of list to actual list...\n",
      "Converting list of vectors into DataFrame...\n",
      "Extracting Vector column...\n",
      "Creating model...\n",
      "Fitting model...\n"
     ]
    },
    {
     "name": "stderr",
     "output_type": "stream",
     "text": [
      "/usr/local/lib/python3.11/site-packages/sklearn/cluster/_agglomerative.py:983: FutureWarning: Attribute `affinity` was deprecated in version 1.2 and will be removed in 1.4. Use `metric` instead\n",
      "  warnings.warn(\n"
     ]
    },
    {
     "name": "stdout",
     "output_type": "stream",
     "text": [
      "Saving data as ./Output Clusters/Book/book_vector_hc_15.csv...\n",
      "Duration: 193.91100192070007 seconds\n",
      "Clustering data (n_clusters = 15): book_vector.csv done!\n",
      "\n",
      "Generating cluster range for book_vector.csv.csv done!\n",
      "              file           3           6          9          12          15\n",
      "0  book_vector.csv  186.806017  231.578988  201.56519  205.852867  193.911002\n",
      "==============================================================================================================================\n",
      "==============================================================================================================================\n",
      "Generating cluster range for book_0.11_freq_vector.csv...\n",
      "Clustering data (n_clusters = 3): book_0.11_freq_vector.csv...\n",
      "Reading data from path: ./Dataset/Book/book_0.11_freq_vector.csv...\n"
     ]
    },
    {
     "name": "stderr",
     "output_type": "stream",
     "text": [
      "/var/folders/2q/bjqpws1153b0_y18lhffmh_m0000gn/T/ipykernel_96269/2472593214.py:77: FutureWarning: The frame.append method is deprecated and will be removed from pandas in a future version. Use pandas.concat instead.\n",
      "  data = data.append({'n_clusters': n, 'duration': duration}, ignore_index=True)\n",
      "/var/folders/2q/bjqpws1153b0_y18lhffmh_m0000gn/T/ipykernel_96269/2288603193.py:22: FutureWarning: The frame.append method is deprecated and will be removed from pandas in a future version. Use pandas.concat instead.\n",
      "  duration_df = duration_df.append({'file': file, '3': duration_range[0], '6': duration_range[1], '9': duration_range[2], '12': duration_range[3], '15': duration_range[4]}, ignore_index=True)\n"
     ]
    },
    {
     "name": "stdout",
     "output_type": "stream",
     "text": [
      "Converting string representation of list to actual list...\n",
      "Converting list of vectors into DataFrame...\n",
      "Extracting Vector column...\n",
      "Creating model...\n",
      "Fitting model...\n"
     ]
    },
    {
     "name": "stderr",
     "output_type": "stream",
     "text": [
      "/usr/local/lib/python3.11/site-packages/sklearn/cluster/_agglomerative.py:983: FutureWarning: Attribute `affinity` was deprecated in version 1.2 and will be removed in 1.4. Use `metric` instead\n",
      "  warnings.warn(\n"
     ]
    },
    {
     "name": "stdout",
     "output_type": "stream",
     "text": [
      "Saving data as ./Output Clusters/Book/book_0.11_freq_vector_hc_3.csv...\n",
      "Duration: 0.768592119216919 seconds\n",
      "Clustering data (n_clusters = 3): book_0.11_freq_vector.csv done!\n",
      "\n",
      "Clustering data (n_clusters = 6): book_0.11_freq_vector.csv...\n",
      "Reading data from path: ./Dataset/Book/book_0.11_freq_vector.csv...\n",
      "Converting string representation of list to actual list...\n"
     ]
    },
    {
     "name": "stderr",
     "output_type": "stream",
     "text": [
      "/var/folders/2q/bjqpws1153b0_y18lhffmh_m0000gn/T/ipykernel_96269/2472593214.py:77: FutureWarning: The frame.append method is deprecated and will be removed from pandas in a future version. Use pandas.concat instead.\n",
      "  data = data.append({'n_clusters': n, 'duration': duration}, ignore_index=True)\n"
     ]
    },
    {
     "name": "stdout",
     "output_type": "stream",
     "text": [
      "Converting list of vectors into DataFrame...\n",
      "Extracting Vector column...\n",
      "Creating model...\n",
      "Fitting model...\n"
     ]
    },
    {
     "name": "stderr",
     "output_type": "stream",
     "text": [
      "/usr/local/lib/python3.11/site-packages/sklearn/cluster/_agglomerative.py:983: FutureWarning: Attribute `affinity` was deprecated in version 1.2 and will be removed in 1.4. Use `metric` instead\n",
      "  warnings.warn(\n"
     ]
    },
    {
     "name": "stdout",
     "output_type": "stream",
     "text": [
      "Saving data as ./Output Clusters/Book/book_0.11_freq_vector_hc_6.csv...\n",
      "Duration: 0.7901308536529541 seconds\n",
      "Clustering data (n_clusters = 6): book_0.11_freq_vector.csv done!\n",
      "\n",
      "Clustering data (n_clusters = 9): book_0.11_freq_vector.csv...\n",
      "Reading data from path: ./Dataset/Book/book_0.11_freq_vector.csv...\n",
      "Converting string representation of list to actual list...\n"
     ]
    },
    {
     "name": "stderr",
     "output_type": "stream",
     "text": [
      "/var/folders/2q/bjqpws1153b0_y18lhffmh_m0000gn/T/ipykernel_96269/2472593214.py:77: FutureWarning: The frame.append method is deprecated and will be removed from pandas in a future version. Use pandas.concat instead.\n",
      "  data = data.append({'n_clusters': n, 'duration': duration}, ignore_index=True)\n"
     ]
    },
    {
     "name": "stdout",
     "output_type": "stream",
     "text": [
      "Converting list of vectors into DataFrame...\n",
      "Extracting Vector column...\n",
      "Creating model...\n",
      "Fitting model...\n"
     ]
    },
    {
     "name": "stderr",
     "output_type": "stream",
     "text": [
      "/usr/local/lib/python3.11/site-packages/sklearn/cluster/_agglomerative.py:983: FutureWarning: Attribute `affinity` was deprecated in version 1.2 and will be removed in 1.4. Use `metric` instead\n",
      "  warnings.warn(\n"
     ]
    },
    {
     "name": "stdout",
     "output_type": "stream",
     "text": [
      "Saving data as ./Output Clusters/Book/book_0.11_freq_vector_hc_9.csv...\n",
      "Duration: 0.80889892578125 seconds\n",
      "Clustering data (n_clusters = 9): book_0.11_freq_vector.csv done!\n",
      "\n",
      "Clustering data (n_clusters = 12): book_0.11_freq_vector.csv...\n",
      "Reading data from path: ./Dataset/Book/book_0.11_freq_vector.csv...\n",
      "Converting string representation of list to actual list...\n"
     ]
    },
    {
     "name": "stderr",
     "output_type": "stream",
     "text": [
      "/var/folders/2q/bjqpws1153b0_y18lhffmh_m0000gn/T/ipykernel_96269/2472593214.py:77: FutureWarning: The frame.append method is deprecated and will be removed from pandas in a future version. Use pandas.concat instead.\n",
      "  data = data.append({'n_clusters': n, 'duration': duration}, ignore_index=True)\n"
     ]
    },
    {
     "name": "stdout",
     "output_type": "stream",
     "text": [
      "Converting list of vectors into DataFrame...\n",
      "Extracting Vector column...\n",
      "Creating model...\n",
      "Fitting model...\n"
     ]
    },
    {
     "name": "stderr",
     "output_type": "stream",
     "text": [
      "/usr/local/lib/python3.11/site-packages/sklearn/cluster/_agglomerative.py:983: FutureWarning: Attribute `affinity` was deprecated in version 1.2 and will be removed in 1.4. Use `metric` instead\n",
      "  warnings.warn(\n"
     ]
    },
    {
     "name": "stdout",
     "output_type": "stream",
     "text": [
      "Saving data as ./Output Clusters/Book/book_0.11_freq_vector_hc_12.csv...\n",
      "Duration: 0.8648557662963867 seconds\n",
      "Clustering data (n_clusters = 12): book_0.11_freq_vector.csv done!\n",
      "\n",
      "Clustering data (n_clusters = 15): book_0.11_freq_vector.csv...\n",
      "Reading data from path: ./Dataset/Book/book_0.11_freq_vector.csv...\n",
      "Converting string representation of list to actual list...\n"
     ]
    },
    {
     "name": "stderr",
     "output_type": "stream",
     "text": [
      "/var/folders/2q/bjqpws1153b0_y18lhffmh_m0000gn/T/ipykernel_96269/2472593214.py:77: FutureWarning: The frame.append method is deprecated and will be removed from pandas in a future version. Use pandas.concat instead.\n",
      "  data = data.append({'n_clusters': n, 'duration': duration}, ignore_index=True)\n"
     ]
    },
    {
     "name": "stdout",
     "output_type": "stream",
     "text": [
      "Converting list of vectors into DataFrame...\n",
      "Extracting Vector column...\n",
      "Creating model...\n",
      "Fitting model...\n"
     ]
    },
    {
     "name": "stderr",
     "output_type": "stream",
     "text": [
      "/usr/local/lib/python3.11/site-packages/sklearn/cluster/_agglomerative.py:983: FutureWarning: Attribute `affinity` was deprecated in version 1.2 and will be removed in 1.4. Use `metric` instead\n",
      "  warnings.warn(\n"
     ]
    },
    {
     "name": "stdout",
     "output_type": "stream",
     "text": [
      "Saving data as ./Output Clusters/Book/book_0.11_freq_vector_hc_15.csv...\n",
      "Duration: 0.813209056854248 seconds\n",
      "Clustering data (n_clusters = 15): book_0.11_freq_vector.csv done!\n",
      "\n",
      "Generating cluster range for book_0.11_freq_vector.csv.csv done!\n",
      "                        file           3           6           9          12  \\\n",
      "0            book_vector.csv  186.806017  231.578988  201.565190  205.852867   \n",
      "1  book_0.11_freq_vector.csv    0.768592    0.790131    0.808899    0.864856   \n",
      "\n",
      "           15  \n",
      "0  193.911002  \n",
      "1    0.813209  \n",
      "==============================================================================================================================\n",
      "==============================================================================================================================\n",
      "Generating cluster range for book_0.08_freq_vector.csv...\n",
      "Clustering data (n_clusters = 3): book_0.08_freq_vector.csv...\n",
      "Reading data from path: ./Dataset/Book/book_0.08_freq_vector.csv...\n",
      "Converting string representation of list to actual list...\n"
     ]
    },
    {
     "name": "stderr",
     "output_type": "stream",
     "text": [
      "/var/folders/2q/bjqpws1153b0_y18lhffmh_m0000gn/T/ipykernel_96269/2472593214.py:77: FutureWarning: The frame.append method is deprecated and will be removed from pandas in a future version. Use pandas.concat instead.\n",
      "  data = data.append({'n_clusters': n, 'duration': duration}, ignore_index=True)\n",
      "/var/folders/2q/bjqpws1153b0_y18lhffmh_m0000gn/T/ipykernel_96269/2288603193.py:22: FutureWarning: The frame.append method is deprecated and will be removed from pandas in a future version. Use pandas.concat instead.\n",
      "  duration_df = duration_df.append({'file': file, '3': duration_range[0], '6': duration_range[1], '9': duration_range[2], '12': duration_range[3], '15': duration_range[4]}, ignore_index=True)\n"
     ]
    },
    {
     "name": "stdout",
     "output_type": "stream",
     "text": [
      "Converting list of vectors into DataFrame...\n",
      "Extracting Vector column...\n",
      "Creating model...\n",
      "Fitting model...\n"
     ]
    },
    {
     "name": "stderr",
     "output_type": "stream",
     "text": [
      "/usr/local/lib/python3.11/site-packages/sklearn/cluster/_agglomerative.py:983: FutureWarning: Attribute `affinity` was deprecated in version 1.2 and will be removed in 1.4. Use `metric` instead\n",
      "  warnings.warn(\n"
     ]
    },
    {
     "name": "stdout",
     "output_type": "stream",
     "text": [
      "Saving data as ./Output Clusters/Book/book_0.08_freq_vector_hc_3.csv...\n",
      "Duration: 1.0529539585113525 seconds\n",
      "Clustering data (n_clusters = 3): book_0.08_freq_vector.csv done!\n",
      "\n",
      "Clustering data (n_clusters = 6): book_0.08_freq_vector.csv...\n",
      "Reading data from path: ./Dataset/Book/book_0.08_freq_vector.csv...\n",
      "Converting string representation of list to actual list...\n"
     ]
    },
    {
     "name": "stderr",
     "output_type": "stream",
     "text": [
      "/var/folders/2q/bjqpws1153b0_y18lhffmh_m0000gn/T/ipykernel_96269/2472593214.py:77: FutureWarning: The frame.append method is deprecated and will be removed from pandas in a future version. Use pandas.concat instead.\n",
      "  data = data.append({'n_clusters': n, 'duration': duration}, ignore_index=True)\n"
     ]
    },
    {
     "name": "stdout",
     "output_type": "stream",
     "text": [
      "Converting list of vectors into DataFrame...\n",
      "Extracting Vector column...\n",
      "Creating model...\n",
      "Fitting model...\n"
     ]
    },
    {
     "name": "stderr",
     "output_type": "stream",
     "text": [
      "/usr/local/lib/python3.11/site-packages/sklearn/cluster/_agglomerative.py:983: FutureWarning: Attribute `affinity` was deprecated in version 1.2 and will be removed in 1.4. Use `metric` instead\n",
      "  warnings.warn(\n"
     ]
    },
    {
     "name": "stdout",
     "output_type": "stream",
     "text": [
      "Saving data as ./Output Clusters/Book/book_0.08_freq_vector_hc_6.csv...\n",
      "Duration: 1.1698839664459229 seconds\n",
      "Clustering data (n_clusters = 6): book_0.08_freq_vector.csv done!\n",
      "\n",
      "Clustering data (n_clusters = 9): book_0.08_freq_vector.csv...\n",
      "Reading data from path: ./Dataset/Book/book_0.08_freq_vector.csv...\n"
     ]
    },
    {
     "name": "stderr",
     "output_type": "stream",
     "text": [
      "/var/folders/2q/bjqpws1153b0_y18lhffmh_m0000gn/T/ipykernel_96269/2472593214.py:77: FutureWarning: The frame.append method is deprecated and will be removed from pandas in a future version. Use pandas.concat instead.\n",
      "  data = data.append({'n_clusters': n, 'duration': duration}, ignore_index=True)\n"
     ]
    },
    {
     "name": "stdout",
     "output_type": "stream",
     "text": [
      "Converting string representation of list to actual list...\n",
      "Converting list of vectors into DataFrame...\n",
      "Extracting Vector column...\n",
      "Creating model...\n",
      "Fitting model...\n"
     ]
    },
    {
     "name": "stderr",
     "output_type": "stream",
     "text": [
      "/usr/local/lib/python3.11/site-packages/sklearn/cluster/_agglomerative.py:983: FutureWarning: Attribute `affinity` was deprecated in version 1.2 and will be removed in 1.4. Use `metric` instead\n",
      "  warnings.warn(\n"
     ]
    },
    {
     "name": "stdout",
     "output_type": "stream",
     "text": [
      "Saving data as ./Output Clusters/Book/book_0.08_freq_vector_hc_9.csv...\n",
      "Duration: 1.0270521640777588 seconds\n",
      "Clustering data (n_clusters = 9): book_0.08_freq_vector.csv done!\n",
      "\n",
      "Clustering data (n_clusters = 12): book_0.08_freq_vector.csv...\n",
      "Reading data from path: ./Dataset/Book/book_0.08_freq_vector.csv...\n",
      "Converting string representation of list to actual list...\n"
     ]
    },
    {
     "name": "stderr",
     "output_type": "stream",
     "text": [
      "/var/folders/2q/bjqpws1153b0_y18lhffmh_m0000gn/T/ipykernel_96269/2472593214.py:77: FutureWarning: The frame.append method is deprecated and will be removed from pandas in a future version. Use pandas.concat instead.\n",
      "  data = data.append({'n_clusters': n, 'duration': duration}, ignore_index=True)\n"
     ]
    },
    {
     "name": "stdout",
     "output_type": "stream",
     "text": [
      "Converting list of vectors into DataFrame...\n",
      "Extracting Vector column...\n",
      "Creating model...\n",
      "Fitting model...\n"
     ]
    },
    {
     "name": "stderr",
     "output_type": "stream",
     "text": [
      "/usr/local/lib/python3.11/site-packages/sklearn/cluster/_agglomerative.py:983: FutureWarning: Attribute `affinity` was deprecated in version 1.2 and will be removed in 1.4. Use `metric` instead\n",
      "  warnings.warn(\n"
     ]
    },
    {
     "name": "stdout",
     "output_type": "stream",
     "text": [
      "Saving data as ./Output Clusters/Book/book_0.08_freq_vector_hc_12.csv...\n",
      "Duration: 1.0594658851623535 seconds\n",
      "Clustering data (n_clusters = 12): book_0.08_freq_vector.csv done!\n",
      "\n",
      "Clustering data (n_clusters = 15): book_0.08_freq_vector.csv...\n",
      "Reading data from path: ./Dataset/Book/book_0.08_freq_vector.csv...\n"
     ]
    },
    {
     "name": "stderr",
     "output_type": "stream",
     "text": [
      "/var/folders/2q/bjqpws1153b0_y18lhffmh_m0000gn/T/ipykernel_96269/2472593214.py:77: FutureWarning: The frame.append method is deprecated and will be removed from pandas in a future version. Use pandas.concat instead.\n",
      "  data = data.append({'n_clusters': n, 'duration': duration}, ignore_index=True)\n"
     ]
    },
    {
     "name": "stdout",
     "output_type": "stream",
     "text": [
      "Converting string representation of list to actual list...\n",
      "Converting list of vectors into DataFrame...\n",
      "Extracting Vector column...\n",
      "Creating model...\n",
      "Fitting model...\n"
     ]
    },
    {
     "name": "stderr",
     "output_type": "stream",
     "text": [
      "/usr/local/lib/python3.11/site-packages/sklearn/cluster/_agglomerative.py:983: FutureWarning: Attribute `affinity` was deprecated in version 1.2 and will be removed in 1.4. Use `metric` instead\n",
      "  warnings.warn(\n"
     ]
    },
    {
     "name": "stdout",
     "output_type": "stream",
     "text": [
      "Saving data as ./Output Clusters/Book/book_0.08_freq_vector_hc_15.csv...\n",
      "Duration: 1.0121290683746338 seconds\n",
      "Clustering data (n_clusters = 15): book_0.08_freq_vector.csv done!\n",
      "\n",
      "Generating cluster range for book_0.08_freq_vector.csv.csv done!\n",
      "                        file           3           6           9          12  \\\n",
      "0            book_vector.csv  186.806017  231.578988  201.565190  205.852867   \n",
      "1  book_0.11_freq_vector.csv    0.768592    0.790131    0.808899    0.864856   \n",
      "2  book_0.08_freq_vector.csv    1.052954    1.169884    1.027052    1.059466   \n",
      "\n",
      "           15  \n",
      "0  193.911002  \n",
      "1    0.813209  \n",
      "2    1.012129  \n",
      "==============================================================================================================================\n",
      "==============================================================================================================================\n",
      "Generating cluster range for book_0.07_freq_vector.csv...\n",
      "Clustering data (n_clusters = 3): book_0.07_freq_vector.csv...\n",
      "Reading data from path: ./Dataset/Book/book_0.07_freq_vector.csv...\n",
      "Converting string representation of list to actual list...\n"
     ]
    },
    {
     "name": "stderr",
     "output_type": "stream",
     "text": [
      "/var/folders/2q/bjqpws1153b0_y18lhffmh_m0000gn/T/ipykernel_96269/2472593214.py:77: FutureWarning: The frame.append method is deprecated and will be removed from pandas in a future version. Use pandas.concat instead.\n",
      "  data = data.append({'n_clusters': n, 'duration': duration}, ignore_index=True)\n",
      "/var/folders/2q/bjqpws1153b0_y18lhffmh_m0000gn/T/ipykernel_96269/2288603193.py:22: FutureWarning: The frame.append method is deprecated and will be removed from pandas in a future version. Use pandas.concat instead.\n",
      "  duration_df = duration_df.append({'file': file, '3': duration_range[0], '6': duration_range[1], '9': duration_range[2], '12': duration_range[3], '15': duration_range[4]}, ignore_index=True)\n"
     ]
    },
    {
     "name": "stdout",
     "output_type": "stream",
     "text": [
      "Converting list of vectors into DataFrame...\n",
      "Extracting Vector column...\n",
      "Creating model...\n",
      "Fitting model...\n"
     ]
    },
    {
     "name": "stderr",
     "output_type": "stream",
     "text": [
      "/usr/local/lib/python3.11/site-packages/sklearn/cluster/_agglomerative.py:983: FutureWarning: Attribute `affinity` was deprecated in version 1.2 and will be removed in 1.4. Use `metric` instead\n",
      "  warnings.warn(\n"
     ]
    },
    {
     "name": "stdout",
     "output_type": "stream",
     "text": [
      "Saving data as ./Output Clusters/Book/book_0.07_freq_vector_hc_3.csv...\n",
      "Duration: 1.1502976417541504 seconds\n",
      "Clustering data (n_clusters = 3): book_0.07_freq_vector.csv done!\n",
      "\n",
      "Clustering data (n_clusters = 6): book_0.07_freq_vector.csv...\n",
      "Reading data from path: ./Dataset/Book/book_0.07_freq_vector.csv...\n"
     ]
    },
    {
     "name": "stderr",
     "output_type": "stream",
     "text": [
      "/var/folders/2q/bjqpws1153b0_y18lhffmh_m0000gn/T/ipykernel_96269/2472593214.py:77: FutureWarning: The frame.append method is deprecated and will be removed from pandas in a future version. Use pandas.concat instead.\n",
      "  data = data.append({'n_clusters': n, 'duration': duration}, ignore_index=True)\n"
     ]
    },
    {
     "name": "stdout",
     "output_type": "stream",
     "text": [
      "Converting string representation of list to actual list...\n",
      "Converting list of vectors into DataFrame...\n",
      "Extracting Vector column...\n",
      "Creating model...\n",
      "Fitting model...\n"
     ]
    },
    {
     "name": "stderr",
     "output_type": "stream",
     "text": [
      "/usr/local/lib/python3.11/site-packages/sklearn/cluster/_agglomerative.py:983: FutureWarning: Attribute `affinity` was deprecated in version 1.2 and will be removed in 1.4. Use `metric` instead\n",
      "  warnings.warn(\n"
     ]
    },
    {
     "name": "stdout",
     "output_type": "stream",
     "text": [
      "Saving data as ./Output Clusters/Book/book_0.07_freq_vector_hc_6.csv...\n",
      "Duration: 1.1569879055023193 seconds\n",
      "Clustering data (n_clusters = 6): book_0.07_freq_vector.csv done!\n",
      "\n",
      "Clustering data (n_clusters = 9): book_0.07_freq_vector.csv...\n",
      "Reading data from path: ./Dataset/Book/book_0.07_freq_vector.csv...\n",
      "Converting string representation of list to actual list...\n"
     ]
    },
    {
     "name": "stderr",
     "output_type": "stream",
     "text": [
      "/var/folders/2q/bjqpws1153b0_y18lhffmh_m0000gn/T/ipykernel_96269/2472593214.py:77: FutureWarning: The frame.append method is deprecated and will be removed from pandas in a future version. Use pandas.concat instead.\n",
      "  data = data.append({'n_clusters': n, 'duration': duration}, ignore_index=True)\n"
     ]
    },
    {
     "name": "stdout",
     "output_type": "stream",
     "text": [
      "Converting list of vectors into DataFrame...\n",
      "Extracting Vector column...\n",
      "Creating model...\n",
      "Fitting model...\n"
     ]
    },
    {
     "name": "stderr",
     "output_type": "stream",
     "text": [
      "/usr/local/lib/python3.11/site-packages/sklearn/cluster/_agglomerative.py:983: FutureWarning: Attribute `affinity` was deprecated in version 1.2 and will be removed in 1.4. Use `metric` instead\n",
      "  warnings.warn(\n"
     ]
    },
    {
     "name": "stdout",
     "output_type": "stream",
     "text": [
      "Saving data as ./Output Clusters/Book/book_0.07_freq_vector_hc_9.csv...\n",
      "Duration: 1.1017379760742188 seconds\n",
      "Clustering data (n_clusters = 9): book_0.07_freq_vector.csv done!\n",
      "\n",
      "Clustering data (n_clusters = 12): book_0.07_freq_vector.csv...\n",
      "Reading data from path: ./Dataset/Book/book_0.07_freq_vector.csv...\n",
      "Converting string representation of list to actual list...\n"
     ]
    },
    {
     "name": "stderr",
     "output_type": "stream",
     "text": [
      "/var/folders/2q/bjqpws1153b0_y18lhffmh_m0000gn/T/ipykernel_96269/2472593214.py:77: FutureWarning: The frame.append method is deprecated and will be removed from pandas in a future version. Use pandas.concat instead.\n",
      "  data = data.append({'n_clusters': n, 'duration': duration}, ignore_index=True)\n"
     ]
    },
    {
     "name": "stdout",
     "output_type": "stream",
     "text": [
      "Converting list of vectors into DataFrame...\n",
      "Extracting Vector column...\n",
      "Creating model...\n",
      "Fitting model...\n"
     ]
    },
    {
     "name": "stderr",
     "output_type": "stream",
     "text": [
      "/usr/local/lib/python3.11/site-packages/sklearn/cluster/_agglomerative.py:983: FutureWarning: Attribute `affinity` was deprecated in version 1.2 and will be removed in 1.4. Use `metric` instead\n",
      "  warnings.warn(\n"
     ]
    },
    {
     "name": "stdout",
     "output_type": "stream",
     "text": [
      "Saving data as ./Output Clusters/Book/book_0.07_freq_vector_hc_12.csv...\n",
      "Duration: 1.2246122360229492 seconds\n",
      "Clustering data (n_clusters = 12): book_0.07_freq_vector.csv done!\n",
      "\n",
      "Clustering data (n_clusters = 15): book_0.07_freq_vector.csv...\n",
      "Reading data from path: ./Dataset/Book/book_0.07_freq_vector.csv...\n"
     ]
    },
    {
     "name": "stderr",
     "output_type": "stream",
     "text": [
      "/var/folders/2q/bjqpws1153b0_y18lhffmh_m0000gn/T/ipykernel_96269/2472593214.py:77: FutureWarning: The frame.append method is deprecated and will be removed from pandas in a future version. Use pandas.concat instead.\n",
      "  data = data.append({'n_clusters': n, 'duration': duration}, ignore_index=True)\n"
     ]
    },
    {
     "name": "stdout",
     "output_type": "stream",
     "text": [
      "Converting string representation of list to actual list...\n",
      "Converting list of vectors into DataFrame...\n",
      "Extracting Vector column...\n",
      "Creating model...\n",
      "Fitting model...\n"
     ]
    },
    {
     "name": "stderr",
     "output_type": "stream",
     "text": [
      "/usr/local/lib/python3.11/site-packages/sklearn/cluster/_agglomerative.py:983: FutureWarning: Attribute `affinity` was deprecated in version 1.2 and will be removed in 1.4. Use `metric` instead\n",
      "  warnings.warn(\n"
     ]
    },
    {
     "name": "stdout",
     "output_type": "stream",
     "text": [
      "Saving data as ./Output Clusters/Book/book_0.07_freq_vector_hc_15.csv...\n",
      "Duration: 1.1935789585113525 seconds\n",
      "Clustering data (n_clusters = 15): book_0.07_freq_vector.csv done!\n",
      "\n",
      "Generating cluster range for book_0.07_freq_vector.csv.csv done!\n",
      "                        file           3           6           9          12  \\\n",
      "0            book_vector.csv  186.806017  231.578988  201.565190  205.852867   \n",
      "1  book_0.11_freq_vector.csv    0.768592    0.790131    0.808899    0.864856   \n",
      "2  book_0.08_freq_vector.csv    1.052954    1.169884    1.027052    1.059466   \n",
      "3  book_0.07_freq_vector.csv    1.150298    1.156988    1.101738    1.224612   \n",
      "\n",
      "           15  \n",
      "0  193.911002  \n",
      "1    0.813209  \n",
      "2    1.012129  \n",
      "3    1.193579  \n",
      "==============================================================================================================================\n",
      "==============================================================================================================================\n",
      "Generating cluster range for book_0.09_freq_vector.csv...\n",
      "Clustering data (n_clusters = 3): book_0.09_freq_vector.csv...\n",
      "Reading data from path: ./Dataset/Book/book_0.09_freq_vector.csv...\n"
     ]
    },
    {
     "name": "stderr",
     "output_type": "stream",
     "text": [
      "/var/folders/2q/bjqpws1153b0_y18lhffmh_m0000gn/T/ipykernel_96269/2472593214.py:77: FutureWarning: The frame.append method is deprecated and will be removed from pandas in a future version. Use pandas.concat instead.\n",
      "  data = data.append({'n_clusters': n, 'duration': duration}, ignore_index=True)\n",
      "/var/folders/2q/bjqpws1153b0_y18lhffmh_m0000gn/T/ipykernel_96269/2288603193.py:22: FutureWarning: The frame.append method is deprecated and will be removed from pandas in a future version. Use pandas.concat instead.\n",
      "  duration_df = duration_df.append({'file': file, '3': duration_range[0], '6': duration_range[1], '9': duration_range[2], '12': duration_range[3], '15': duration_range[4]}, ignore_index=True)\n"
     ]
    },
    {
     "name": "stdout",
     "output_type": "stream",
     "text": [
      "Converting string representation of list to actual list...\n",
      "Converting list of vectors into DataFrame...\n",
      "Extracting Vector column...\n",
      "Creating model...\n",
      "Fitting model...\n"
     ]
    },
    {
     "name": "stderr",
     "output_type": "stream",
     "text": [
      "/usr/local/lib/python3.11/site-packages/sklearn/cluster/_agglomerative.py:983: FutureWarning: Attribute `affinity` was deprecated in version 1.2 and will be removed in 1.4. Use `metric` instead\n",
      "  warnings.warn(\n"
     ]
    },
    {
     "name": "stdout",
     "output_type": "stream",
     "text": [
      "Saving data as ./Output Clusters/Book/book_0.09_freq_vector_hc_3.csv...\n",
      "Duration: 0.933790922164917 seconds\n",
      "Clustering data (n_clusters = 3): book_0.09_freq_vector.csv done!\n",
      "\n",
      "Clustering data (n_clusters = 6): book_0.09_freq_vector.csv...\n",
      "Reading data from path: ./Dataset/Book/book_0.09_freq_vector.csv...\n",
      "Converting string representation of list to actual list...\n"
     ]
    },
    {
     "name": "stderr",
     "output_type": "stream",
     "text": [
      "/var/folders/2q/bjqpws1153b0_y18lhffmh_m0000gn/T/ipykernel_96269/2472593214.py:77: FutureWarning: The frame.append method is deprecated and will be removed from pandas in a future version. Use pandas.concat instead.\n",
      "  data = data.append({'n_clusters': n, 'duration': duration}, ignore_index=True)\n"
     ]
    },
    {
     "name": "stdout",
     "output_type": "stream",
     "text": [
      "Converting list of vectors into DataFrame...\n",
      "Extracting Vector column...\n",
      "Creating model...\n",
      "Fitting model...\n"
     ]
    },
    {
     "name": "stderr",
     "output_type": "stream",
     "text": [
      "/usr/local/lib/python3.11/site-packages/sklearn/cluster/_agglomerative.py:983: FutureWarning: Attribute `affinity` was deprecated in version 1.2 and will be removed in 1.4. Use `metric` instead\n",
      "  warnings.warn(\n"
     ]
    },
    {
     "name": "stdout",
     "output_type": "stream",
     "text": [
      "Saving data as ./Output Clusters/Book/book_0.09_freq_vector_hc_6.csv...\n",
      "Duration: 0.8952009677886963 seconds\n",
      "Clustering data (n_clusters = 6): book_0.09_freq_vector.csv done!\n",
      "\n",
      "Clustering data (n_clusters = 9): book_0.09_freq_vector.csv...\n",
      "Reading data from path: ./Dataset/Book/book_0.09_freq_vector.csv...\n",
      "Converting string representation of list to actual list...\n"
     ]
    },
    {
     "name": "stderr",
     "output_type": "stream",
     "text": [
      "/var/folders/2q/bjqpws1153b0_y18lhffmh_m0000gn/T/ipykernel_96269/2472593214.py:77: FutureWarning: The frame.append method is deprecated and will be removed from pandas in a future version. Use pandas.concat instead.\n",
      "  data = data.append({'n_clusters': n, 'duration': duration}, ignore_index=True)\n"
     ]
    },
    {
     "name": "stdout",
     "output_type": "stream",
     "text": [
      "Converting list of vectors into DataFrame...\n",
      "Extracting Vector column...\n",
      "Creating model...\n",
      "Fitting model...\n"
     ]
    },
    {
     "name": "stderr",
     "output_type": "stream",
     "text": [
      "/usr/local/lib/python3.11/site-packages/sklearn/cluster/_agglomerative.py:983: FutureWarning: Attribute `affinity` was deprecated in version 1.2 and will be removed in 1.4. Use `metric` instead\n",
      "  warnings.warn(\n"
     ]
    },
    {
     "name": "stdout",
     "output_type": "stream",
     "text": [
      "Saving data as ./Output Clusters/Book/book_0.09_freq_vector_hc_9.csv...\n",
      "Duration: 0.8982913494110107 seconds\n",
      "Clustering data (n_clusters = 9): book_0.09_freq_vector.csv done!\n",
      "\n",
      "Clustering data (n_clusters = 12): book_0.09_freq_vector.csv...\n",
      "Reading data from path: ./Dataset/Book/book_0.09_freq_vector.csv...\n",
      "Converting string representation of list to actual list...\n"
     ]
    },
    {
     "name": "stderr",
     "output_type": "stream",
     "text": [
      "/var/folders/2q/bjqpws1153b0_y18lhffmh_m0000gn/T/ipykernel_96269/2472593214.py:77: FutureWarning: The frame.append method is deprecated and will be removed from pandas in a future version. Use pandas.concat instead.\n",
      "  data = data.append({'n_clusters': n, 'duration': duration}, ignore_index=True)\n"
     ]
    },
    {
     "name": "stdout",
     "output_type": "stream",
     "text": [
      "Converting list of vectors into DataFrame...\n",
      "Extracting Vector column...\n",
      "Creating model...\n",
      "Fitting model...\n"
     ]
    },
    {
     "name": "stderr",
     "output_type": "stream",
     "text": [
      "/usr/local/lib/python3.11/site-packages/sklearn/cluster/_agglomerative.py:983: FutureWarning: Attribute `affinity` was deprecated in version 1.2 and will be removed in 1.4. Use `metric` instead\n",
      "  warnings.warn(\n"
     ]
    },
    {
     "name": "stdout",
     "output_type": "stream",
     "text": [
      "Saving data as ./Output Clusters/Book/book_0.09_freq_vector_hc_12.csv...\n",
      "Duration: 0.8629028797149658 seconds\n",
      "Clustering data (n_clusters = 12): book_0.09_freq_vector.csv done!\n",
      "\n",
      "Clustering data (n_clusters = 15): book_0.09_freq_vector.csv...\n",
      "Reading data from path: ./Dataset/Book/book_0.09_freq_vector.csv...\n",
      "Converting string representation of list to actual list...\n"
     ]
    },
    {
     "name": "stderr",
     "output_type": "stream",
     "text": [
      "/var/folders/2q/bjqpws1153b0_y18lhffmh_m0000gn/T/ipykernel_96269/2472593214.py:77: FutureWarning: The frame.append method is deprecated and will be removed from pandas in a future version. Use pandas.concat instead.\n",
      "  data = data.append({'n_clusters': n, 'duration': duration}, ignore_index=True)\n"
     ]
    },
    {
     "name": "stdout",
     "output_type": "stream",
     "text": [
      "Converting list of vectors into DataFrame...\n",
      "Extracting Vector column...\n",
      "Creating model...\n",
      "Fitting model...\n"
     ]
    },
    {
     "name": "stderr",
     "output_type": "stream",
     "text": [
      "/usr/local/lib/python3.11/site-packages/sklearn/cluster/_agglomerative.py:983: FutureWarning: Attribute `affinity` was deprecated in version 1.2 and will be removed in 1.4. Use `metric` instead\n",
      "  warnings.warn(\n"
     ]
    },
    {
     "name": "stdout",
     "output_type": "stream",
     "text": [
      "Saving data as ./Output Clusters/Book/book_0.09_freq_vector_hc_15.csv...\n",
      "Duration: 0.9040689468383789 seconds\n",
      "Clustering data (n_clusters = 15): book_0.09_freq_vector.csv done!\n",
      "\n",
      "Generating cluster range for book_0.09_freq_vector.csv.csv done!\n",
      "                        file           3           6           9          12  \\\n",
      "0            book_vector.csv  186.806017  231.578988  201.565190  205.852867   \n",
      "1  book_0.11_freq_vector.csv    0.768592    0.790131    0.808899    0.864856   \n",
      "2  book_0.08_freq_vector.csv    1.052954    1.169884    1.027052    1.059466   \n",
      "3  book_0.07_freq_vector.csv    1.150298    1.156988    1.101738    1.224612   \n",
      "4  book_0.09_freq_vector.csv    0.933791    0.895201    0.898291    0.862903   \n",
      "\n",
      "           15  \n",
      "0  193.911002  \n",
      "1    0.813209  \n",
      "2    1.012129  \n",
      "3    1.193579  \n",
      "4    0.904069  \n",
      "==============================================================================================================================\n",
      "==============================================================================================================================\n",
      "Generating cluster range for book_0.06_freq_vector.csv...\n",
      "Clustering data (n_clusters = 3): book_0.06_freq_vector.csv...\n",
      "Reading data from path: ./Dataset/Book/book_0.06_freq_vector.csv...\n"
     ]
    },
    {
     "name": "stderr",
     "output_type": "stream",
     "text": [
      "/var/folders/2q/bjqpws1153b0_y18lhffmh_m0000gn/T/ipykernel_96269/2472593214.py:77: FutureWarning: The frame.append method is deprecated and will be removed from pandas in a future version. Use pandas.concat instead.\n",
      "  data = data.append({'n_clusters': n, 'duration': duration}, ignore_index=True)\n",
      "/var/folders/2q/bjqpws1153b0_y18lhffmh_m0000gn/T/ipykernel_96269/2288603193.py:22: FutureWarning: The frame.append method is deprecated and will be removed from pandas in a future version. Use pandas.concat instead.\n",
      "  duration_df = duration_df.append({'file': file, '3': duration_range[0], '6': duration_range[1], '9': duration_range[2], '12': duration_range[3], '15': duration_range[4]}, ignore_index=True)\n"
     ]
    },
    {
     "name": "stdout",
     "output_type": "stream",
     "text": [
      "Converting string representation of list to actual list...\n",
      "Converting list of vectors into DataFrame...\n",
      "Extracting Vector column...\n",
      "Creating model...\n",
      "Fitting model...\n"
     ]
    },
    {
     "name": "stderr",
     "output_type": "stream",
     "text": [
      "/usr/local/lib/python3.11/site-packages/sklearn/cluster/_agglomerative.py:983: FutureWarning: Attribute `affinity` was deprecated in version 1.2 and will be removed in 1.4. Use `metric` instead\n",
      "  warnings.warn(\n"
     ]
    },
    {
     "name": "stdout",
     "output_type": "stream",
     "text": [
      "Saving data as ./Output Clusters/Book/book_0.06_freq_vector_hc_3.csv...\n",
      "Duration: 1.418076992034912 seconds\n",
      "Clustering data (n_clusters = 3): book_0.06_freq_vector.csv done!\n",
      "\n",
      "Clustering data (n_clusters = 6): book_0.06_freq_vector.csv...\n",
      "Reading data from path: ./Dataset/Book/book_0.06_freq_vector.csv...\n",
      "Converting string representation of list to actual list...\n"
     ]
    },
    {
     "name": "stderr",
     "output_type": "stream",
     "text": [
      "/var/folders/2q/bjqpws1153b0_y18lhffmh_m0000gn/T/ipykernel_96269/2472593214.py:77: FutureWarning: The frame.append method is deprecated and will be removed from pandas in a future version. Use pandas.concat instead.\n",
      "  data = data.append({'n_clusters': n, 'duration': duration}, ignore_index=True)\n"
     ]
    },
    {
     "name": "stdout",
     "output_type": "stream",
     "text": [
      "Converting list of vectors into DataFrame...\n",
      "Extracting Vector column...\n",
      "Creating model...\n",
      "Fitting model...\n"
     ]
    },
    {
     "name": "stderr",
     "output_type": "stream",
     "text": [
      "/usr/local/lib/python3.11/site-packages/sklearn/cluster/_agglomerative.py:983: FutureWarning: Attribute `affinity` was deprecated in version 1.2 and will be removed in 1.4. Use `metric` instead\n",
      "  warnings.warn(\n"
     ]
    },
    {
     "name": "stdout",
     "output_type": "stream",
     "text": [
      "Saving data as ./Output Clusters/Book/book_0.06_freq_vector_hc_6.csv...\n",
      "Duration: 1.479496955871582 seconds\n",
      "Clustering data (n_clusters = 6): book_0.06_freq_vector.csv done!\n",
      "\n",
      "Clustering data (n_clusters = 9): book_0.06_freq_vector.csv...\n",
      "Reading data from path: ./Dataset/Book/book_0.06_freq_vector.csv...\n"
     ]
    },
    {
     "name": "stderr",
     "output_type": "stream",
     "text": [
      "/var/folders/2q/bjqpws1153b0_y18lhffmh_m0000gn/T/ipykernel_96269/2472593214.py:77: FutureWarning: The frame.append method is deprecated and will be removed from pandas in a future version. Use pandas.concat instead.\n",
      "  data = data.append({'n_clusters': n, 'duration': duration}, ignore_index=True)\n"
     ]
    },
    {
     "name": "stdout",
     "output_type": "stream",
     "text": [
      "Converting string representation of list to actual list...\n",
      "Converting list of vectors into DataFrame...\n",
      "Extracting Vector column...\n",
      "Creating model...\n",
      "Fitting model...\n"
     ]
    },
    {
     "name": "stderr",
     "output_type": "stream",
     "text": [
      "/usr/local/lib/python3.11/site-packages/sklearn/cluster/_agglomerative.py:983: FutureWarning: Attribute `affinity` was deprecated in version 1.2 and will be removed in 1.4. Use `metric` instead\n",
      "  warnings.warn(\n"
     ]
    },
    {
     "name": "stdout",
     "output_type": "stream",
     "text": [
      "Saving data as ./Output Clusters/Book/book_0.06_freq_vector_hc_9.csv...\n",
      "Duration: 1.620934247970581 seconds\n",
      "Clustering data (n_clusters = 9): book_0.06_freq_vector.csv done!\n",
      "\n",
      "Clustering data (n_clusters = 12): book_0.06_freq_vector.csv...\n",
      "Reading data from path: ./Dataset/Book/book_0.06_freq_vector.csv...\n",
      "Converting string representation of list to actual list...\n"
     ]
    },
    {
     "name": "stderr",
     "output_type": "stream",
     "text": [
      "/var/folders/2q/bjqpws1153b0_y18lhffmh_m0000gn/T/ipykernel_96269/2472593214.py:77: FutureWarning: The frame.append method is deprecated and will be removed from pandas in a future version. Use pandas.concat instead.\n",
      "  data = data.append({'n_clusters': n, 'duration': duration}, ignore_index=True)\n"
     ]
    },
    {
     "name": "stdout",
     "output_type": "stream",
     "text": [
      "Converting list of vectors into DataFrame...\n",
      "Extracting Vector column...\n",
      "Creating model...\n",
      "Fitting model...\n"
     ]
    },
    {
     "name": "stderr",
     "output_type": "stream",
     "text": [
      "/usr/local/lib/python3.11/site-packages/sklearn/cluster/_agglomerative.py:983: FutureWarning: Attribute `affinity` was deprecated in version 1.2 and will be removed in 1.4. Use `metric` instead\n",
      "  warnings.warn(\n"
     ]
    },
    {
     "name": "stdout",
     "output_type": "stream",
     "text": [
      "Saving data as ./Output Clusters/Book/book_0.06_freq_vector_hc_12.csv...\n",
      "Duration: 1.4761881828308105 seconds\n",
      "Clustering data (n_clusters = 12): book_0.06_freq_vector.csv done!\n",
      "\n",
      "Clustering data (n_clusters = 15): book_0.06_freq_vector.csv...\n",
      "Reading data from path: ./Dataset/Book/book_0.06_freq_vector.csv...\n",
      "Converting string representation of list to actual list...\n"
     ]
    },
    {
     "name": "stderr",
     "output_type": "stream",
     "text": [
      "/var/folders/2q/bjqpws1153b0_y18lhffmh_m0000gn/T/ipykernel_96269/2472593214.py:77: FutureWarning: The frame.append method is deprecated and will be removed from pandas in a future version. Use pandas.concat instead.\n",
      "  data = data.append({'n_clusters': n, 'duration': duration}, ignore_index=True)\n"
     ]
    },
    {
     "name": "stdout",
     "output_type": "stream",
     "text": [
      "Converting list of vectors into DataFrame...\n",
      "Extracting Vector column...\n",
      "Creating model...\n",
      "Fitting model...\n"
     ]
    },
    {
     "name": "stderr",
     "output_type": "stream",
     "text": [
      "/usr/local/lib/python3.11/site-packages/sklearn/cluster/_agglomerative.py:983: FutureWarning: Attribute `affinity` was deprecated in version 1.2 and will be removed in 1.4. Use `metric` instead\n",
      "  warnings.warn(\n"
     ]
    },
    {
     "name": "stdout",
     "output_type": "stream",
     "text": [
      "Saving data as ./Output Clusters/Book/book_0.06_freq_vector_hc_15.csv...\n",
      "Duration: 1.470149040222168 seconds\n",
      "Clustering data (n_clusters = 15): book_0.06_freq_vector.csv done!\n",
      "\n",
      "Generating cluster range for book_0.06_freq_vector.csv.csv done!\n",
      "                        file           3           6           9          12  \\\n",
      "0            book_vector.csv  186.806017  231.578988  201.565190  205.852867   \n",
      "1  book_0.11_freq_vector.csv    0.768592    0.790131    0.808899    0.864856   \n",
      "2  book_0.08_freq_vector.csv    1.052954    1.169884    1.027052    1.059466   \n",
      "3  book_0.07_freq_vector.csv    1.150298    1.156988    1.101738    1.224612   \n",
      "4  book_0.09_freq_vector.csv    0.933791    0.895201    0.898291    0.862903   \n",
      "\n",
      "           15  \n",
      "0  193.911002  \n",
      "1    0.813209  \n",
      "2    1.012129  \n",
      "3    1.193579  \n",
      "4    0.904069  \n",
      "==============================================================================================================================\n",
      "==============================================================================================================================\n",
      "Generating cluster range for book_0.12_freq_vector.csv...\n",
      "Clustering data (n_clusters = 3): book_0.12_freq_vector.csv...\n",
      "Reading data from path: ./Dataset/Book/book_0.12_freq_vector.csv...\n",
      "Converting string representation of list to actual list...\n"
     ]
    },
    {
     "name": "stderr",
     "output_type": "stream",
     "text": [
      "/var/folders/2q/bjqpws1153b0_y18lhffmh_m0000gn/T/ipykernel_96269/2472593214.py:77: FutureWarning: The frame.append method is deprecated and will be removed from pandas in a future version. Use pandas.concat instead.\n",
      "  data = data.append({'n_clusters': n, 'duration': duration}, ignore_index=True)\n",
      "/var/folders/2q/bjqpws1153b0_y18lhffmh_m0000gn/T/ipykernel_96269/2288603193.py:22: FutureWarning: The frame.append method is deprecated and will be removed from pandas in a future version. Use pandas.concat instead.\n",
      "  duration_df = duration_df.append({'file': file, '3': duration_range[0], '6': duration_range[1], '9': duration_range[2], '12': duration_range[3], '15': duration_range[4]}, ignore_index=True)\n"
     ]
    },
    {
     "name": "stdout",
     "output_type": "stream",
     "text": [
      "Converting list of vectors into DataFrame...\n",
      "Extracting Vector column...\n",
      "Creating model...\n",
      "Fitting model...\n"
     ]
    },
    {
     "name": "stderr",
     "output_type": "stream",
     "text": [
      "/usr/local/lib/python3.11/site-packages/sklearn/cluster/_agglomerative.py:983: FutureWarning: Attribute `affinity` was deprecated in version 1.2 and will be removed in 1.4. Use `metric` instead\n",
      "  warnings.warn(\n"
     ]
    },
    {
     "name": "stdout",
     "output_type": "stream",
     "text": [
      "Saving data as ./Output Clusters/Book/book_0.12_freq_vector_hc_3.csv...\n",
      "Duration: 0.7328579425811768 seconds\n",
      "Clustering data (n_clusters = 3): book_0.12_freq_vector.csv done!\n",
      "\n",
      "Clustering data (n_clusters = 6): book_0.12_freq_vector.csv...\n",
      "Reading data from path: ./Dataset/Book/book_0.12_freq_vector.csv...\n",
      "Converting string representation of list to actual list...\n"
     ]
    },
    {
     "name": "stderr",
     "output_type": "stream",
     "text": [
      "/var/folders/2q/bjqpws1153b0_y18lhffmh_m0000gn/T/ipykernel_96269/2472593214.py:77: FutureWarning: The frame.append method is deprecated and will be removed from pandas in a future version. Use pandas.concat instead.\n",
      "  data = data.append({'n_clusters': n, 'duration': duration}, ignore_index=True)\n"
     ]
    },
    {
     "name": "stdout",
     "output_type": "stream",
     "text": [
      "Converting list of vectors into DataFrame...\n",
      "Extracting Vector column...\n",
      "Creating model...\n",
      "Fitting model...\n"
     ]
    },
    {
     "name": "stderr",
     "output_type": "stream",
     "text": [
      "/usr/local/lib/python3.11/site-packages/sklearn/cluster/_agglomerative.py:983: FutureWarning: Attribute `affinity` was deprecated in version 1.2 and will be removed in 1.4. Use `metric` instead\n",
      "  warnings.warn(\n"
     ]
    },
    {
     "name": "stdout",
     "output_type": "stream",
     "text": [
      "Saving data as ./Output Clusters/Book/book_0.12_freq_vector_hc_6.csv...\n",
      "Duration: 0.8058328628540039 seconds\n",
      "Clustering data (n_clusters = 6): book_0.12_freq_vector.csv done!\n",
      "\n",
      "Clustering data (n_clusters = 9): book_0.12_freq_vector.csv...\n",
      "Reading data from path: ./Dataset/Book/book_0.12_freq_vector.csv...\n",
      "Converting string representation of list to actual list...\n"
     ]
    },
    {
     "name": "stderr",
     "output_type": "stream",
     "text": [
      "/var/folders/2q/bjqpws1153b0_y18lhffmh_m0000gn/T/ipykernel_96269/2472593214.py:77: FutureWarning: The frame.append method is deprecated and will be removed from pandas in a future version. Use pandas.concat instead.\n",
      "  data = data.append({'n_clusters': n, 'duration': duration}, ignore_index=True)\n"
     ]
    },
    {
     "name": "stdout",
     "output_type": "stream",
     "text": [
      "Converting list of vectors into DataFrame...\n",
      "Extracting Vector column...\n",
      "Creating model...\n",
      "Fitting model...\n"
     ]
    },
    {
     "name": "stderr",
     "output_type": "stream",
     "text": [
      "/usr/local/lib/python3.11/site-packages/sklearn/cluster/_agglomerative.py:983: FutureWarning: Attribute `affinity` was deprecated in version 1.2 and will be removed in 1.4. Use `metric` instead\n",
      "  warnings.warn(\n"
     ]
    },
    {
     "name": "stdout",
     "output_type": "stream",
     "text": [
      "Saving data as ./Output Clusters/Book/book_0.12_freq_vector_hc_9.csv...\n",
      "Duration: 0.7856760025024414 seconds\n",
      "Clustering data (n_clusters = 9): book_0.12_freq_vector.csv done!\n",
      "\n",
      "Clustering data (n_clusters = 12): book_0.12_freq_vector.csv...\n",
      "Reading data from path: ./Dataset/Book/book_0.12_freq_vector.csv...\n",
      "Converting string representation of list to actual list...\n"
     ]
    },
    {
     "name": "stderr",
     "output_type": "stream",
     "text": [
      "/var/folders/2q/bjqpws1153b0_y18lhffmh_m0000gn/T/ipykernel_96269/2472593214.py:77: FutureWarning: The frame.append method is deprecated and will be removed from pandas in a future version. Use pandas.concat instead.\n",
      "  data = data.append({'n_clusters': n, 'duration': duration}, ignore_index=True)\n"
     ]
    },
    {
     "name": "stdout",
     "output_type": "stream",
     "text": [
      "Converting list of vectors into DataFrame...\n",
      "Extracting Vector column...\n",
      "Creating model...\n",
      "Fitting model...\n"
     ]
    },
    {
     "name": "stderr",
     "output_type": "stream",
     "text": [
      "/usr/local/lib/python3.11/site-packages/sklearn/cluster/_agglomerative.py:983: FutureWarning: Attribute `affinity` was deprecated in version 1.2 and will be removed in 1.4. Use `metric` instead\n",
      "  warnings.warn(\n"
     ]
    },
    {
     "name": "stdout",
     "output_type": "stream",
     "text": [
      "Saving data as ./Output Clusters/Book/book_0.12_freq_vector_hc_12.csv...\n",
      "Duration: 0.7677953243255615 seconds\n",
      "Clustering data (n_clusters = 12): book_0.12_freq_vector.csv done!\n",
      "\n",
      "Clustering data (n_clusters = 15): book_0.12_freq_vector.csv...\n",
      "Reading data from path: ./Dataset/Book/book_0.12_freq_vector.csv...\n",
      "Converting string representation of list to actual list...\n"
     ]
    },
    {
     "name": "stderr",
     "output_type": "stream",
     "text": [
      "/var/folders/2q/bjqpws1153b0_y18lhffmh_m0000gn/T/ipykernel_96269/2472593214.py:77: FutureWarning: The frame.append method is deprecated and will be removed from pandas in a future version. Use pandas.concat instead.\n",
      "  data = data.append({'n_clusters': n, 'duration': duration}, ignore_index=True)\n"
     ]
    },
    {
     "name": "stdout",
     "output_type": "stream",
     "text": [
      "Converting list of vectors into DataFrame...\n",
      "Extracting Vector column...\n",
      "Creating model...\n",
      "Fitting model...\n"
     ]
    },
    {
     "name": "stderr",
     "output_type": "stream",
     "text": [
      "/usr/local/lib/python3.11/site-packages/sklearn/cluster/_agglomerative.py:983: FutureWarning: Attribute `affinity` was deprecated in version 1.2 and will be removed in 1.4. Use `metric` instead\n",
      "  warnings.warn(\n"
     ]
    },
    {
     "name": "stdout",
     "output_type": "stream",
     "text": [
      "Saving data as ./Output Clusters/Book/book_0.12_freq_vector_hc_15.csv...\n",
      "Duration: 0.7773079872131348 seconds\n",
      "Clustering data (n_clusters = 15): book_0.12_freq_vector.csv done!\n",
      "\n",
      "Generating cluster range for book_0.12_freq_vector.csv.csv done!\n",
      "                        file           3           6           9          12  \\\n",
      "0            book_vector.csv  186.806017  231.578988  201.565190  205.852867   \n",
      "1  book_0.11_freq_vector.csv    0.768592    0.790131    0.808899    0.864856   \n",
      "2  book_0.08_freq_vector.csv    1.052954    1.169884    1.027052    1.059466   \n",
      "3  book_0.07_freq_vector.csv    1.150298    1.156988    1.101738    1.224612   \n",
      "4  book_0.09_freq_vector.csv    0.933791    0.895201    0.898291    0.862903   \n",
      "\n",
      "           15  \n",
      "0  193.911002  \n",
      "1    0.813209  \n",
      "2    1.012129  \n",
      "3    1.193579  \n",
      "4    0.904069  \n",
      "==============================================================================================================================\n",
      "==============================================================================================================================\n",
      "Generating cluster range for book_0.1_freq_vector.csv...\n",
      "Clustering data (n_clusters = 3): book_0.1_freq_vector.csv...\n",
      "Reading data from path: ./Dataset/Book/book_0.1_freq_vector.csv...\n",
      "Converting string representation of list to actual list...\n"
     ]
    },
    {
     "name": "stderr",
     "output_type": "stream",
     "text": [
      "/var/folders/2q/bjqpws1153b0_y18lhffmh_m0000gn/T/ipykernel_96269/2472593214.py:77: FutureWarning: The frame.append method is deprecated and will be removed from pandas in a future version. Use pandas.concat instead.\n",
      "  data = data.append({'n_clusters': n, 'duration': duration}, ignore_index=True)\n",
      "/var/folders/2q/bjqpws1153b0_y18lhffmh_m0000gn/T/ipykernel_96269/2288603193.py:22: FutureWarning: The frame.append method is deprecated and will be removed from pandas in a future version. Use pandas.concat instead.\n",
      "  duration_df = duration_df.append({'file': file, '3': duration_range[0], '6': duration_range[1], '9': duration_range[2], '12': duration_range[3], '15': duration_range[4]}, ignore_index=True)\n"
     ]
    },
    {
     "name": "stdout",
     "output_type": "stream",
     "text": [
      "Converting list of vectors into DataFrame...\n",
      "Extracting Vector column...\n",
      "Creating model...\n",
      "Fitting model...\n"
     ]
    },
    {
     "name": "stderr",
     "output_type": "stream",
     "text": [
      "/usr/local/lib/python3.11/site-packages/sklearn/cluster/_agglomerative.py:983: FutureWarning: Attribute `affinity` was deprecated in version 1.2 and will be removed in 1.4. Use `metric` instead\n",
      "  warnings.warn(\n"
     ]
    },
    {
     "name": "stdout",
     "output_type": "stream",
     "text": [
      "Saving data as ./Output Clusters/Book/book_0.1_freq_vector_hc_3.csv...\n",
      "Duration: 1.040112018585205 seconds\n",
      "Clustering data (n_clusters = 3): book_0.1_freq_vector.csv done!\n",
      "\n",
      "Clustering data (n_clusters = 6): book_0.1_freq_vector.csv...\n",
      "Reading data from path: ./Dataset/Book/book_0.1_freq_vector.csv...\n",
      "Converting string representation of list to actual list...\n"
     ]
    },
    {
     "name": "stderr",
     "output_type": "stream",
     "text": [
      "/var/folders/2q/bjqpws1153b0_y18lhffmh_m0000gn/T/ipykernel_96269/2472593214.py:77: FutureWarning: The frame.append method is deprecated and will be removed from pandas in a future version. Use pandas.concat instead.\n",
      "  data = data.append({'n_clusters': n, 'duration': duration}, ignore_index=True)\n"
     ]
    },
    {
     "name": "stdout",
     "output_type": "stream",
     "text": [
      "Converting list of vectors into DataFrame...\n",
      "Extracting Vector column...\n",
      "Creating model...\n",
      "Fitting model...\n"
     ]
    },
    {
     "name": "stderr",
     "output_type": "stream",
     "text": [
      "/usr/local/lib/python3.11/site-packages/sklearn/cluster/_agglomerative.py:983: FutureWarning: Attribute `affinity` was deprecated in version 1.2 and will be removed in 1.4. Use `metric` instead\n",
      "  warnings.warn(\n"
     ]
    },
    {
     "name": "stdout",
     "output_type": "stream",
     "text": [
      "Saving data as ./Output Clusters/Book/book_0.1_freq_vector_hc_6.csv...\n",
      "Duration: 0.9003031253814697 seconds\n",
      "Clustering data (n_clusters = 6): book_0.1_freq_vector.csv done!\n",
      "\n",
      "Clustering data (n_clusters = 9): book_0.1_freq_vector.csv...\n",
      "Reading data from path: ./Dataset/Book/book_0.1_freq_vector.csv...\n",
      "Converting string representation of list to actual list...\n"
     ]
    },
    {
     "name": "stderr",
     "output_type": "stream",
     "text": [
      "/var/folders/2q/bjqpws1153b0_y18lhffmh_m0000gn/T/ipykernel_96269/2472593214.py:77: FutureWarning: The frame.append method is deprecated and will be removed from pandas in a future version. Use pandas.concat instead.\n",
      "  data = data.append({'n_clusters': n, 'duration': duration}, ignore_index=True)\n"
     ]
    },
    {
     "name": "stdout",
     "output_type": "stream",
     "text": [
      "Converting list of vectors into DataFrame...\n",
      "Extracting Vector column...\n",
      "Creating model...\n",
      "Fitting model...\n"
     ]
    },
    {
     "name": "stderr",
     "output_type": "stream",
     "text": [
      "/usr/local/lib/python3.11/site-packages/sklearn/cluster/_agglomerative.py:983: FutureWarning: Attribute `affinity` was deprecated in version 1.2 and will be removed in 1.4. Use `metric` instead\n",
      "  warnings.warn(\n"
     ]
    },
    {
     "name": "stdout",
     "output_type": "stream",
     "text": [
      "Saving data as ./Output Clusters/Book/book_0.1_freq_vector_hc_9.csv...\n",
      "Duration: 0.9037680625915527 seconds\n",
      "Clustering data (n_clusters = 9): book_0.1_freq_vector.csv done!\n",
      "\n",
      "Clustering data (n_clusters = 12): book_0.1_freq_vector.csv...\n",
      "Reading data from path: ./Dataset/Book/book_0.1_freq_vector.csv...\n",
      "Converting string representation of list to actual list...\n"
     ]
    },
    {
     "name": "stderr",
     "output_type": "stream",
     "text": [
      "/var/folders/2q/bjqpws1153b0_y18lhffmh_m0000gn/T/ipykernel_96269/2472593214.py:77: FutureWarning: The frame.append method is deprecated and will be removed from pandas in a future version. Use pandas.concat instead.\n",
      "  data = data.append({'n_clusters': n, 'duration': duration}, ignore_index=True)\n"
     ]
    },
    {
     "name": "stdout",
     "output_type": "stream",
     "text": [
      "Converting list of vectors into DataFrame...\n",
      "Extracting Vector column...\n",
      "Creating model...\n",
      "Fitting model...\n"
     ]
    },
    {
     "name": "stderr",
     "output_type": "stream",
     "text": [
      "/usr/local/lib/python3.11/site-packages/sklearn/cluster/_agglomerative.py:983: FutureWarning: Attribute `affinity` was deprecated in version 1.2 and will be removed in 1.4. Use `metric` instead\n",
      "  warnings.warn(\n"
     ]
    },
    {
     "name": "stdout",
     "output_type": "stream",
     "text": [
      "Saving data as ./Output Clusters/Book/book_0.1_freq_vector_hc_12.csv...\n",
      "Duration: 0.9799220561981201 seconds\n",
      "Clustering data (n_clusters = 12): book_0.1_freq_vector.csv done!\n",
      "\n",
      "Clustering data (n_clusters = 15): book_0.1_freq_vector.csv...\n",
      "Reading data from path: ./Dataset/Book/book_0.1_freq_vector.csv...\n",
      "Converting string representation of list to actual list...\n"
     ]
    },
    {
     "name": "stderr",
     "output_type": "stream",
     "text": [
      "/var/folders/2q/bjqpws1153b0_y18lhffmh_m0000gn/T/ipykernel_96269/2472593214.py:77: FutureWarning: The frame.append method is deprecated and will be removed from pandas in a future version. Use pandas.concat instead.\n",
      "  data = data.append({'n_clusters': n, 'duration': duration}, ignore_index=True)\n"
     ]
    },
    {
     "name": "stdout",
     "output_type": "stream",
     "text": [
      "Converting list of vectors into DataFrame...\n",
      "Extracting Vector column...\n",
      "Creating model...\n",
      "Fitting model...\n"
     ]
    },
    {
     "name": "stderr",
     "output_type": "stream",
     "text": [
      "/usr/local/lib/python3.11/site-packages/sklearn/cluster/_agglomerative.py:983: FutureWarning: Attribute `affinity` was deprecated in version 1.2 and will be removed in 1.4. Use `metric` instead\n",
      "  warnings.warn(\n"
     ]
    },
    {
     "name": "stdout",
     "output_type": "stream",
     "text": [
      "Saving data as ./Output Clusters/Book/book_0.1_freq_vector_hc_15.csv...\n",
      "Duration: 0.8878049850463867 seconds\n",
      "Clustering data (n_clusters = 15): book_0.1_freq_vector.csv done!\n",
      "\n",
      "Generating cluster range for book_0.1_freq_vector.csv.csv done!\n",
      "                        file           3           6           9          12  \\\n",
      "0            book_vector.csv  186.806017  231.578988  201.565190  205.852867   \n",
      "1  book_0.11_freq_vector.csv    0.768592    0.790131    0.808899    0.864856   \n",
      "2  book_0.08_freq_vector.csv    1.052954    1.169884    1.027052    1.059466   \n",
      "3  book_0.07_freq_vector.csv    1.150298    1.156988    1.101738    1.224612   \n",
      "4  book_0.09_freq_vector.csv    0.933791    0.895201    0.898291    0.862903   \n",
      "\n",
      "           15  \n",
      "0  193.911002  \n",
      "1    0.813209  \n",
      "2    1.012129  \n",
      "3    1.193579  \n",
      "4    0.904069  \n",
      "==============================================================================================================================\n",
      "==============================================================================================================================\n",
      "Generating cluster range for book_0.15_freq_vector.csv...\n",
      "Clustering data (n_clusters = 3): book_0.15_freq_vector.csv...\n",
      "Reading data from path: ./Dataset/Book/book_0.15_freq_vector.csv...\n",
      "Converting string representation of list to actual list...\n"
     ]
    },
    {
     "name": "stderr",
     "output_type": "stream",
     "text": [
      "/var/folders/2q/bjqpws1153b0_y18lhffmh_m0000gn/T/ipykernel_96269/2472593214.py:77: FutureWarning: The frame.append method is deprecated and will be removed from pandas in a future version. Use pandas.concat instead.\n",
      "  data = data.append({'n_clusters': n, 'duration': duration}, ignore_index=True)\n",
      "/var/folders/2q/bjqpws1153b0_y18lhffmh_m0000gn/T/ipykernel_96269/2288603193.py:22: FutureWarning: The frame.append method is deprecated and will be removed from pandas in a future version. Use pandas.concat instead.\n",
      "  duration_df = duration_df.append({'file': file, '3': duration_range[0], '6': duration_range[1], '9': duration_range[2], '12': duration_range[3], '15': duration_range[4]}, ignore_index=True)\n"
     ]
    },
    {
     "name": "stdout",
     "output_type": "stream",
     "text": [
      "Converting list of vectors into DataFrame...\n",
      "Extracting Vector column...\n",
      "Creating model...\n",
      "Fitting model...\n"
     ]
    },
    {
     "name": "stderr",
     "output_type": "stream",
     "text": [
      "/usr/local/lib/python3.11/site-packages/sklearn/cluster/_agglomerative.py:983: FutureWarning: Attribute `affinity` was deprecated in version 1.2 and will be removed in 1.4. Use `metric` instead\n",
      "  warnings.warn(\n"
     ]
    },
    {
     "name": "stdout",
     "output_type": "stream",
     "text": [
      "Saving data as ./Output Clusters/Book/book_0.15_freq_vector_hc_3.csv...\n",
      "Duration: 0.7487761974334717 seconds\n",
      "Clustering data (n_clusters = 3): book_0.15_freq_vector.csv done!\n",
      "\n",
      "Clustering data (n_clusters = 6): book_0.15_freq_vector.csv...\n",
      "Reading data from path: ./Dataset/Book/book_0.15_freq_vector.csv...\n",
      "Converting string representation of list to actual list...\n"
     ]
    },
    {
     "name": "stderr",
     "output_type": "stream",
     "text": [
      "/var/folders/2q/bjqpws1153b0_y18lhffmh_m0000gn/T/ipykernel_96269/2472593214.py:77: FutureWarning: The frame.append method is deprecated and will be removed from pandas in a future version. Use pandas.concat instead.\n",
      "  data = data.append({'n_clusters': n, 'duration': duration}, ignore_index=True)\n"
     ]
    },
    {
     "name": "stdout",
     "output_type": "stream",
     "text": [
      "Converting list of vectors into DataFrame...\n",
      "Extracting Vector column...\n",
      "Creating model...\n",
      "Fitting model...\n"
     ]
    },
    {
     "name": "stderr",
     "output_type": "stream",
     "text": [
      "/usr/local/lib/python3.11/site-packages/sklearn/cluster/_agglomerative.py:983: FutureWarning: Attribute `affinity` was deprecated in version 1.2 and will be removed in 1.4. Use `metric` instead\n",
      "  warnings.warn(\n"
     ]
    },
    {
     "name": "stdout",
     "output_type": "stream",
     "text": [
      "Saving data as ./Output Clusters/Book/book_0.15_freq_vector_hc_6.csv...\n",
      "Duration: 0.82369065284729 seconds\n",
      "Clustering data (n_clusters = 6): book_0.15_freq_vector.csv done!\n",
      "\n",
      "Clustering data (n_clusters = 9): book_0.15_freq_vector.csv...\n",
      "Reading data from path: ./Dataset/Book/book_0.15_freq_vector.csv...\n",
      "Converting string representation of list to actual list...\n"
     ]
    },
    {
     "name": "stderr",
     "output_type": "stream",
     "text": [
      "/var/folders/2q/bjqpws1153b0_y18lhffmh_m0000gn/T/ipykernel_96269/2472593214.py:77: FutureWarning: The frame.append method is deprecated and will be removed from pandas in a future version. Use pandas.concat instead.\n",
      "  data = data.append({'n_clusters': n, 'duration': duration}, ignore_index=True)\n"
     ]
    },
    {
     "name": "stdout",
     "output_type": "stream",
     "text": [
      "Converting list of vectors into DataFrame...\n",
      "Extracting Vector column...\n",
      "Creating model...\n",
      "Fitting model...\n"
     ]
    },
    {
     "name": "stderr",
     "output_type": "stream",
     "text": [
      "/usr/local/lib/python3.11/site-packages/sklearn/cluster/_agglomerative.py:983: FutureWarning: Attribute `affinity` was deprecated in version 1.2 and will be removed in 1.4. Use `metric` instead\n",
      "  warnings.warn(\n"
     ]
    },
    {
     "name": "stdout",
     "output_type": "stream",
     "text": [
      "Saving data as ./Output Clusters/Book/book_0.15_freq_vector_hc_9.csv...\n",
      "Duration: 0.9024031162261963 seconds\n",
      "Clustering data (n_clusters = 9): book_0.15_freq_vector.csv done!\n",
      "\n",
      "Clustering data (n_clusters = 12): book_0.15_freq_vector.csv...\n",
      "Reading data from path: ./Dataset/Book/book_0.15_freq_vector.csv...\n"
     ]
    },
    {
     "name": "stderr",
     "output_type": "stream",
     "text": [
      "/var/folders/2q/bjqpws1153b0_y18lhffmh_m0000gn/T/ipykernel_96269/2472593214.py:77: FutureWarning: The frame.append method is deprecated and will be removed from pandas in a future version. Use pandas.concat instead.\n",
      "  data = data.append({'n_clusters': n, 'duration': duration}, ignore_index=True)\n"
     ]
    },
    {
     "name": "stdout",
     "output_type": "stream",
     "text": [
      "Converting string representation of list to actual list...\n",
      "Converting list of vectors into DataFrame...\n",
      "Extracting Vector column...\n",
      "Creating model...\n",
      "Fitting model...\n"
     ]
    },
    {
     "name": "stderr",
     "output_type": "stream",
     "text": [
      "/usr/local/lib/python3.11/site-packages/sklearn/cluster/_agglomerative.py:983: FutureWarning: Attribute `affinity` was deprecated in version 1.2 and will be removed in 1.4. Use `metric` instead\n",
      "  warnings.warn(\n"
     ]
    },
    {
     "name": "stdout",
     "output_type": "stream",
     "text": [
      "Saving data as ./Output Clusters/Book/book_0.15_freq_vector_hc_12.csv...\n",
      "Duration: 0.7609789371490479 seconds\n",
      "Clustering data (n_clusters = 12): book_0.15_freq_vector.csv done!\n",
      "\n",
      "Clustering data (n_clusters = 15): book_0.15_freq_vector.csv...\n",
      "Reading data from path: ./Dataset/Book/book_0.15_freq_vector.csv...\n",
      "Converting string representation of list to actual list...\n"
     ]
    },
    {
     "name": "stderr",
     "output_type": "stream",
     "text": [
      "/var/folders/2q/bjqpws1153b0_y18lhffmh_m0000gn/T/ipykernel_96269/2472593214.py:77: FutureWarning: The frame.append method is deprecated and will be removed from pandas in a future version. Use pandas.concat instead.\n",
      "  data = data.append({'n_clusters': n, 'duration': duration}, ignore_index=True)\n",
      "/usr/local/lib/python3.11/site-packages/sklearn/cluster/_agglomerative.py:983: FutureWarning: Attribute `affinity` was deprecated in version 1.2 and will be removed in 1.4. Use `metric` instead\n",
      "  warnings.warn(\n"
     ]
    },
    {
     "name": "stdout",
     "output_type": "stream",
     "text": [
      "Converting list of vectors into DataFrame...\n",
      "Extracting Vector column...\n",
      "Creating model...\n",
      "Fitting model...\n",
      "Saving data as ./Output Clusters/Book/book_0.15_freq_vector_hc_15.csv...\n",
      "Duration: 0.8333041667938232 seconds\n",
      "Clustering data (n_clusters = 15): book_0.15_freq_vector.csv done!\n",
      "\n",
      "Generating cluster range for book_0.15_freq_vector.csv.csv done!\n",
      "                        file           3           6           9          12  \\\n",
      "0            book_vector.csv  186.806017  231.578988  201.565190  205.852867   \n",
      "1  book_0.11_freq_vector.csv    0.768592    0.790131    0.808899    0.864856   \n",
      "2  book_0.08_freq_vector.csv    1.052954    1.169884    1.027052    1.059466   \n",
      "3  book_0.07_freq_vector.csv    1.150298    1.156988    1.101738    1.224612   \n",
      "4  book_0.09_freq_vector.csv    0.933791    0.895201    0.898291    0.862903   \n",
      "\n",
      "           15  \n",
      "0  193.911002  \n",
      "1    0.813209  \n",
      "2    1.012129  \n",
      "3    1.193579  \n",
      "4    0.904069  \n",
      "==============================================================================================================================\n",
      "==============================================================================================================================\n",
      "Generating cluster range for book_0.14_freq_vector.csv...\n",
      "Clustering data (n_clusters = 3): book_0.14_freq_vector.csv...\n",
      "Reading data from path: ./Dataset/Book/book_0.14_freq_vector.csv...\n",
      "Converting string representation of list to actual list...\n"
     ]
    },
    {
     "name": "stderr",
     "output_type": "stream",
     "text": [
      "/var/folders/2q/bjqpws1153b0_y18lhffmh_m0000gn/T/ipykernel_96269/2472593214.py:77: FutureWarning: The frame.append method is deprecated and will be removed from pandas in a future version. Use pandas.concat instead.\n",
      "  data = data.append({'n_clusters': n, 'duration': duration}, ignore_index=True)\n",
      "/var/folders/2q/bjqpws1153b0_y18lhffmh_m0000gn/T/ipykernel_96269/2288603193.py:22: FutureWarning: The frame.append method is deprecated and will be removed from pandas in a future version. Use pandas.concat instead.\n",
      "  duration_df = duration_df.append({'file': file, '3': duration_range[0], '6': duration_range[1], '9': duration_range[2], '12': duration_range[3], '15': duration_range[4]}, ignore_index=True)\n"
     ]
    },
    {
     "name": "stdout",
     "output_type": "stream",
     "text": [
      "Converting list of vectors into DataFrame...\n",
      "Extracting Vector column...\n",
      "Creating model...\n",
      "Fitting model...\n"
     ]
    },
    {
     "name": "stderr",
     "output_type": "stream",
     "text": [
      "/usr/local/lib/python3.11/site-packages/sklearn/cluster/_agglomerative.py:983: FutureWarning: Attribute `affinity` was deprecated in version 1.2 and will be removed in 1.4. Use `metric` instead\n",
      "  warnings.warn(\n"
     ]
    },
    {
     "name": "stdout",
     "output_type": "stream",
     "text": [
      "Saving data as ./Output Clusters/Book/book_0.14_freq_vector_hc_3.csv...\n",
      "Duration: 0.8053839206695557 seconds\n",
      "Clustering data (n_clusters = 3): book_0.14_freq_vector.csv done!\n",
      "\n",
      "Clustering data (n_clusters = 6): book_0.14_freq_vector.csv...\n",
      "Reading data from path: ./Dataset/Book/book_0.14_freq_vector.csv...\n",
      "Converting string representation of list to actual list...\n"
     ]
    },
    {
     "name": "stderr",
     "output_type": "stream",
     "text": [
      "/var/folders/2q/bjqpws1153b0_y18lhffmh_m0000gn/T/ipykernel_96269/2472593214.py:77: FutureWarning: The frame.append method is deprecated and will be removed from pandas in a future version. Use pandas.concat instead.\n",
      "  data = data.append({'n_clusters': n, 'duration': duration}, ignore_index=True)\n"
     ]
    },
    {
     "name": "stdout",
     "output_type": "stream",
     "text": [
      "Converting list of vectors into DataFrame...\n",
      "Extracting Vector column...\n",
      "Creating model...\n",
      "Fitting model...\n"
     ]
    },
    {
     "name": "stderr",
     "output_type": "stream",
     "text": [
      "/usr/local/lib/python3.11/site-packages/sklearn/cluster/_agglomerative.py:983: FutureWarning: Attribute `affinity` was deprecated in version 1.2 and will be removed in 1.4. Use `metric` instead\n",
      "  warnings.warn(\n"
     ]
    },
    {
     "name": "stdout",
     "output_type": "stream",
     "text": [
      "Saving data as ./Output Clusters/Book/book_0.14_freq_vector_hc_6.csv...\n",
      "Duration: 0.7368979454040527 seconds\n",
      "Clustering data (n_clusters = 6): book_0.14_freq_vector.csv done!\n",
      "\n",
      "Clustering data (n_clusters = 9): book_0.14_freq_vector.csv...\n",
      "Reading data from path: ./Dataset/Book/book_0.14_freq_vector.csv...\n",
      "Converting string representation of list to actual list...\n"
     ]
    },
    {
     "name": "stderr",
     "output_type": "stream",
     "text": [
      "/var/folders/2q/bjqpws1153b0_y18lhffmh_m0000gn/T/ipykernel_96269/2472593214.py:77: FutureWarning: The frame.append method is deprecated and will be removed from pandas in a future version. Use pandas.concat instead.\n",
      "  data = data.append({'n_clusters': n, 'duration': duration}, ignore_index=True)\n",
      "/usr/local/lib/python3.11/site-packages/sklearn/cluster/_agglomerative.py:983: FutureWarning: Attribute `affinity` was deprecated in version 1.2 and will be removed in 1.4. Use `metric` instead\n",
      "  warnings.warn(\n"
     ]
    },
    {
     "name": "stdout",
     "output_type": "stream",
     "text": [
      "Converting list of vectors into DataFrame...\n",
      "Extracting Vector column...\n",
      "Creating model...\n",
      "Fitting model...\n",
      "Saving data as ./Output Clusters/Book/book_0.14_freq_vector_hc_9.csv...\n",
      "Duration: 0.8025069236755371 seconds\n",
      "Clustering data (n_clusters = 9): book_0.14_freq_vector.csv done!\n",
      "\n",
      "Clustering data (n_clusters = 12): book_0.14_freq_vector.csv...\n",
      "Reading data from path: ./Dataset/Book/book_0.14_freq_vector.csv...\n",
      "Converting string representation of list to actual list...\n"
     ]
    },
    {
     "name": "stderr",
     "output_type": "stream",
     "text": [
      "/var/folders/2q/bjqpws1153b0_y18lhffmh_m0000gn/T/ipykernel_96269/2472593214.py:77: FutureWarning: The frame.append method is deprecated and will be removed from pandas in a future version. Use pandas.concat instead.\n",
      "  data = data.append({'n_clusters': n, 'duration': duration}, ignore_index=True)\n"
     ]
    },
    {
     "name": "stdout",
     "output_type": "stream",
     "text": [
      "Converting list of vectors into DataFrame...\n",
      "Extracting Vector column...\n",
      "Creating model...\n",
      "Fitting model...\n"
     ]
    },
    {
     "name": "stderr",
     "output_type": "stream",
     "text": [
      "/usr/local/lib/python3.11/site-packages/sklearn/cluster/_agglomerative.py:983: FutureWarning: Attribute `affinity` was deprecated in version 1.2 and will be removed in 1.4. Use `metric` instead\n",
      "  warnings.warn(\n"
     ]
    },
    {
     "name": "stdout",
     "output_type": "stream",
     "text": [
      "Saving data as ./Output Clusters/Book/book_0.14_freq_vector_hc_12.csv...\n",
      "Duration: 0.7515130043029785 seconds\n",
      "Clustering data (n_clusters = 12): book_0.14_freq_vector.csv done!\n",
      "\n",
      "Clustering data (n_clusters = 15): book_0.14_freq_vector.csv...\n",
      "Reading data from path: ./Dataset/Book/book_0.14_freq_vector.csv...\n",
      "Converting string representation of list to actual list...\n"
     ]
    },
    {
     "name": "stderr",
     "output_type": "stream",
     "text": [
      "/var/folders/2q/bjqpws1153b0_y18lhffmh_m0000gn/T/ipykernel_96269/2472593214.py:77: FutureWarning: The frame.append method is deprecated and will be removed from pandas in a future version. Use pandas.concat instead.\n",
      "  data = data.append({'n_clusters': n, 'duration': duration}, ignore_index=True)\n"
     ]
    },
    {
     "name": "stdout",
     "output_type": "stream",
     "text": [
      "Converting list of vectors into DataFrame...\n",
      "Extracting Vector column...\n",
      "Creating model...\n",
      "Fitting model...\n"
     ]
    },
    {
     "name": "stderr",
     "output_type": "stream",
     "text": [
      "/usr/local/lib/python3.11/site-packages/sklearn/cluster/_agglomerative.py:983: FutureWarning: Attribute `affinity` was deprecated in version 1.2 and will be removed in 1.4. Use `metric` instead\n",
      "  warnings.warn(\n"
     ]
    },
    {
     "name": "stdout",
     "output_type": "stream",
     "text": [
      "Saving data as ./Output Clusters/Book/book_0.14_freq_vector_hc_15.csv...\n",
      "Duration: 0.9532170295715332 seconds\n",
      "Clustering data (n_clusters = 15): book_0.14_freq_vector.csv done!\n",
      "\n",
      "Generating cluster range for book_0.14_freq_vector.csv.csv done!\n",
      "                        file           3           6           9          12  \\\n",
      "0            book_vector.csv  186.806017  231.578988  201.565190  205.852867   \n",
      "1  book_0.11_freq_vector.csv    0.768592    0.790131    0.808899    0.864856   \n",
      "2  book_0.08_freq_vector.csv    1.052954    1.169884    1.027052    1.059466   \n",
      "3  book_0.07_freq_vector.csv    1.150298    1.156988    1.101738    1.224612   \n",
      "4  book_0.09_freq_vector.csv    0.933791    0.895201    0.898291    0.862903   \n",
      "\n",
      "           15  \n",
      "0  193.911002  \n",
      "1    0.813209  \n",
      "2    1.012129  \n",
      "3    1.193579  \n",
      "4    0.904069  \n",
      "==============================================================================================================================\n",
      "==============================================================================================================================\n",
      "Generating cluster range for book_0.13_freq_vector.csv...\n",
      "Clustering data (n_clusters = 3): book_0.13_freq_vector.csv...\n",
      "Reading data from path: ./Dataset/Book/book_0.13_freq_vector.csv...\n"
     ]
    },
    {
     "name": "stderr",
     "output_type": "stream",
     "text": [
      "/var/folders/2q/bjqpws1153b0_y18lhffmh_m0000gn/T/ipykernel_96269/2472593214.py:77: FutureWarning: The frame.append method is deprecated and will be removed from pandas in a future version. Use pandas.concat instead.\n",
      "  data = data.append({'n_clusters': n, 'duration': duration}, ignore_index=True)\n",
      "/var/folders/2q/bjqpws1153b0_y18lhffmh_m0000gn/T/ipykernel_96269/2288603193.py:22: FutureWarning: The frame.append method is deprecated and will be removed from pandas in a future version. Use pandas.concat instead.\n",
      "  duration_df = duration_df.append({'file': file, '3': duration_range[0], '6': duration_range[1], '9': duration_range[2], '12': duration_range[3], '15': duration_range[4]}, ignore_index=True)\n"
     ]
    },
    {
     "name": "stdout",
     "output_type": "stream",
     "text": [
      "Converting string representation of list to actual list...\n",
      "Converting list of vectors into DataFrame...\n",
      "Extracting Vector column...\n",
      "Creating model...\n",
      "Fitting model...\n"
     ]
    },
    {
     "name": "stderr",
     "output_type": "stream",
     "text": [
      "/usr/local/lib/python3.11/site-packages/sklearn/cluster/_agglomerative.py:983: FutureWarning: Attribute `affinity` was deprecated in version 1.2 and will be removed in 1.4. Use `metric` instead\n",
      "  warnings.warn(\n"
     ]
    },
    {
     "name": "stdout",
     "output_type": "stream",
     "text": [
      "Saving data as ./Output Clusters/Book/book_0.13_freq_vector_hc_3.csv...\n",
      "Duration: 0.8559720516204834 seconds\n",
      "Clustering data (n_clusters = 3): book_0.13_freq_vector.csv done!\n",
      "\n",
      "Clustering data (n_clusters = 6): book_0.13_freq_vector.csv...\n",
      "Reading data from path: ./Dataset/Book/book_0.13_freq_vector.csv...\n",
      "Converting string representation of list to actual list...\n"
     ]
    },
    {
     "name": "stderr",
     "output_type": "stream",
     "text": [
      "/var/folders/2q/bjqpws1153b0_y18lhffmh_m0000gn/T/ipykernel_96269/2472593214.py:77: FutureWarning: The frame.append method is deprecated and will be removed from pandas in a future version. Use pandas.concat instead.\n",
      "  data = data.append({'n_clusters': n, 'duration': duration}, ignore_index=True)\n"
     ]
    },
    {
     "name": "stdout",
     "output_type": "stream",
     "text": [
      "Converting list of vectors into DataFrame...\n",
      "Extracting Vector column...\n",
      "Creating model...\n",
      "Fitting model...\n"
     ]
    },
    {
     "name": "stderr",
     "output_type": "stream",
     "text": [
      "/usr/local/lib/python3.11/site-packages/sklearn/cluster/_agglomerative.py:983: FutureWarning: Attribute `affinity` was deprecated in version 1.2 and will be removed in 1.4. Use `metric` instead\n",
      "  warnings.warn(\n"
     ]
    },
    {
     "name": "stdout",
     "output_type": "stream",
     "text": [
      "Saving data as ./Output Clusters/Book/book_0.13_freq_vector_hc_6.csv...\n",
      "Duration: 0.7969908714294434 seconds\n",
      "Clustering data (n_clusters = 6): book_0.13_freq_vector.csv done!\n",
      "\n",
      "Clustering data (n_clusters = 9): book_0.13_freq_vector.csv...\n",
      "Reading data from path: ./Dataset/Book/book_0.13_freq_vector.csv...\n",
      "Converting string representation of list to actual list...\n"
     ]
    },
    {
     "name": "stderr",
     "output_type": "stream",
     "text": [
      "/var/folders/2q/bjqpws1153b0_y18lhffmh_m0000gn/T/ipykernel_96269/2472593214.py:77: FutureWarning: The frame.append method is deprecated and will be removed from pandas in a future version. Use pandas.concat instead.\n",
      "  data = data.append({'n_clusters': n, 'duration': duration}, ignore_index=True)\n"
     ]
    },
    {
     "name": "stdout",
     "output_type": "stream",
     "text": [
      "Converting list of vectors into DataFrame...\n",
      "Extracting Vector column...\n",
      "Creating model...\n",
      "Fitting model...\n"
     ]
    },
    {
     "name": "stderr",
     "output_type": "stream",
     "text": [
      "/usr/local/lib/python3.11/site-packages/sklearn/cluster/_agglomerative.py:983: FutureWarning: Attribute `affinity` was deprecated in version 1.2 and will be removed in 1.4. Use `metric` instead\n",
      "  warnings.warn(\n"
     ]
    },
    {
     "name": "stdout",
     "output_type": "stream",
     "text": [
      "Saving data as ./Output Clusters/Book/book_0.13_freq_vector_hc_9.csv...\n",
      "Duration: 0.7961428165435791 seconds\n",
      "Clustering data (n_clusters = 9): book_0.13_freq_vector.csv done!\n",
      "\n",
      "Clustering data (n_clusters = 12): book_0.13_freq_vector.csv...\n",
      "Reading data from path: ./Dataset/Book/book_0.13_freq_vector.csv...\n",
      "Converting string representation of list to actual list...\n"
     ]
    },
    {
     "name": "stderr",
     "output_type": "stream",
     "text": [
      "/var/folders/2q/bjqpws1153b0_y18lhffmh_m0000gn/T/ipykernel_96269/2472593214.py:77: FutureWarning: The frame.append method is deprecated and will be removed from pandas in a future version. Use pandas.concat instead.\n",
      "  data = data.append({'n_clusters': n, 'duration': duration}, ignore_index=True)\n"
     ]
    },
    {
     "name": "stdout",
     "output_type": "stream",
     "text": [
      "Converting list of vectors into DataFrame...\n",
      "Extracting Vector column...\n",
      "Creating model...\n",
      "Fitting model...\n"
     ]
    },
    {
     "name": "stderr",
     "output_type": "stream",
     "text": [
      "/usr/local/lib/python3.11/site-packages/sklearn/cluster/_agglomerative.py:983: FutureWarning: Attribute `affinity` was deprecated in version 1.2 and will be removed in 1.4. Use `metric` instead\n",
      "  warnings.warn(\n"
     ]
    },
    {
     "name": "stdout",
     "output_type": "stream",
     "text": [
      "Saving data as ./Output Clusters/Book/book_0.13_freq_vector_hc_12.csv...\n",
      "Duration: 0.7878828048706055 seconds\n",
      "Clustering data (n_clusters = 12): book_0.13_freq_vector.csv done!\n",
      "\n",
      "Clustering data (n_clusters = 15): book_0.13_freq_vector.csv...\n",
      "Reading data from path: ./Dataset/Book/book_0.13_freq_vector.csv...\n",
      "Converting string representation of list to actual list...\n"
     ]
    },
    {
     "name": "stderr",
     "output_type": "stream",
     "text": [
      "/var/folders/2q/bjqpws1153b0_y18lhffmh_m0000gn/T/ipykernel_96269/2472593214.py:77: FutureWarning: The frame.append method is deprecated and will be removed from pandas in a future version. Use pandas.concat instead.\n",
      "  data = data.append({'n_clusters': n, 'duration': duration}, ignore_index=True)\n"
     ]
    },
    {
     "name": "stdout",
     "output_type": "stream",
     "text": [
      "Converting list of vectors into DataFrame...\n",
      "Extracting Vector column...\n",
      "Creating model...\n",
      "Fitting model...\n"
     ]
    },
    {
     "name": "stderr",
     "output_type": "stream",
     "text": [
      "/usr/local/lib/python3.11/site-packages/sklearn/cluster/_agglomerative.py:983: FutureWarning: Attribute `affinity` was deprecated in version 1.2 and will be removed in 1.4. Use `metric` instead\n",
      "  warnings.warn(\n"
     ]
    },
    {
     "name": "stdout",
     "output_type": "stream",
     "text": [
      "Saving data as ./Output Clusters/Book/book_0.13_freq_vector_hc_15.csv...\n",
      "Duration: 1.0416581630706787 seconds\n",
      "Clustering data (n_clusters = 15): book_0.13_freq_vector.csv done!\n",
      "\n",
      "Generating cluster range for book_0.13_freq_vector.csv.csv done!\n",
      "                        file           3           6           9          12  \\\n",
      "0            book_vector.csv  186.806017  231.578988  201.565190  205.852867   \n",
      "1  book_0.11_freq_vector.csv    0.768592    0.790131    0.808899    0.864856   \n",
      "2  book_0.08_freq_vector.csv    1.052954    1.169884    1.027052    1.059466   \n",
      "3  book_0.07_freq_vector.csv    1.150298    1.156988    1.101738    1.224612   \n",
      "4  book_0.09_freq_vector.csv    0.933791    0.895201    0.898291    0.862903   \n",
      "\n",
      "           15  \n",
      "0  193.911002  \n",
      "1    0.813209  \n",
      "2    1.012129  \n",
      "3    1.193579  \n",
      "4    0.904069  \n",
      "==============================================================================================================================\n",
      "==============================================================================================================================\n",
      "Generating cluster range for book_0.05_freq_vector.csv...\n",
      "Clustering data (n_clusters = 3): book_0.05_freq_vector.csv...\n",
      "Reading data from path: ./Dataset/Book/book_0.05_freq_vector.csv...\n",
      "Converting string representation of list to actual list...\n"
     ]
    },
    {
     "name": "stderr",
     "output_type": "stream",
     "text": [
      "/var/folders/2q/bjqpws1153b0_y18lhffmh_m0000gn/T/ipykernel_96269/2472593214.py:77: FutureWarning: The frame.append method is deprecated and will be removed from pandas in a future version. Use pandas.concat instead.\n",
      "  data = data.append({'n_clusters': n, 'duration': duration}, ignore_index=True)\n",
      "/var/folders/2q/bjqpws1153b0_y18lhffmh_m0000gn/T/ipykernel_96269/2288603193.py:22: FutureWarning: The frame.append method is deprecated and will be removed from pandas in a future version. Use pandas.concat instead.\n",
      "  duration_df = duration_df.append({'file': file, '3': duration_range[0], '6': duration_range[1], '9': duration_range[2], '12': duration_range[3], '15': duration_range[4]}, ignore_index=True)\n"
     ]
    },
    {
     "name": "stdout",
     "output_type": "stream",
     "text": [
      "Converting list of vectors into DataFrame...\n",
      "Extracting Vector column...\n",
      "Creating model...\n",
      "Fitting model...\n"
     ]
    },
    {
     "name": "stderr",
     "output_type": "stream",
     "text": [
      "/usr/local/lib/python3.11/site-packages/sklearn/cluster/_agglomerative.py:983: FutureWarning: Attribute `affinity` was deprecated in version 1.2 and will be removed in 1.4. Use `metric` instead\n",
      "  warnings.warn(\n"
     ]
    },
    {
     "name": "stdout",
     "output_type": "stream",
     "text": [
      "Saving data as ./Output Clusters/Book/book_0.05_freq_vector_hc_3.csv...\n",
      "Duration: 1.8397977352142334 seconds\n",
      "Clustering data (n_clusters = 3): book_0.05_freq_vector.csv done!\n",
      "\n",
      "Clustering data (n_clusters = 6): book_0.05_freq_vector.csv...\n",
      "Reading data from path: ./Dataset/Book/book_0.05_freq_vector.csv...\n"
     ]
    },
    {
     "name": "stderr",
     "output_type": "stream",
     "text": [
      "/var/folders/2q/bjqpws1153b0_y18lhffmh_m0000gn/T/ipykernel_96269/2472593214.py:77: FutureWarning: The frame.append method is deprecated and will be removed from pandas in a future version. Use pandas.concat instead.\n",
      "  data = data.append({'n_clusters': n, 'duration': duration}, ignore_index=True)\n"
     ]
    },
    {
     "name": "stdout",
     "output_type": "stream",
     "text": [
      "Converting string representation of list to actual list...\n",
      "Converting list of vectors into DataFrame...\n",
      "Extracting Vector column...\n",
      "Creating model...\n",
      "Fitting model...\n"
     ]
    },
    {
     "name": "stderr",
     "output_type": "stream",
     "text": [
      "/usr/local/lib/python3.11/site-packages/sklearn/cluster/_agglomerative.py:983: FutureWarning: Attribute `affinity` was deprecated in version 1.2 and will be removed in 1.4. Use `metric` instead\n",
      "  warnings.warn(\n"
     ]
    },
    {
     "name": "stdout",
     "output_type": "stream",
     "text": [
      "Saving data as ./Output Clusters/Book/book_0.05_freq_vector_hc_6.csv...\n",
      "Duration: 1.7870137691497803 seconds\n",
      "Clustering data (n_clusters = 6): book_0.05_freq_vector.csv done!\n",
      "\n",
      "Clustering data (n_clusters = 9): book_0.05_freq_vector.csv...\n",
      "Reading data from path: ./Dataset/Book/book_0.05_freq_vector.csv...\n"
     ]
    },
    {
     "name": "stderr",
     "output_type": "stream",
     "text": [
      "/var/folders/2q/bjqpws1153b0_y18lhffmh_m0000gn/T/ipykernel_96269/2472593214.py:77: FutureWarning: The frame.append method is deprecated and will be removed from pandas in a future version. Use pandas.concat instead.\n",
      "  data = data.append({'n_clusters': n, 'duration': duration}, ignore_index=True)\n"
     ]
    },
    {
     "name": "stdout",
     "output_type": "stream",
     "text": [
      "Converting string representation of list to actual list...\n",
      "Converting list of vectors into DataFrame...\n",
      "Extracting Vector column...\n",
      "Creating model...\n",
      "Fitting model...\n"
     ]
    },
    {
     "name": "stderr",
     "output_type": "stream",
     "text": [
      "/usr/local/lib/python3.11/site-packages/sklearn/cluster/_agglomerative.py:983: FutureWarning: Attribute `affinity` was deprecated in version 1.2 and will be removed in 1.4. Use `metric` instead\n",
      "  warnings.warn(\n"
     ]
    },
    {
     "name": "stdout",
     "output_type": "stream",
     "text": [
      "Saving data as ./Output Clusters/Book/book_0.05_freq_vector_hc_9.csv...\n",
      "Duration: 1.8232171535491943 seconds\n",
      "Clustering data (n_clusters = 9): book_0.05_freq_vector.csv done!\n",
      "\n",
      "Clustering data (n_clusters = 12): book_0.05_freq_vector.csv...\n",
      "Reading data from path: ./Dataset/Book/book_0.05_freq_vector.csv...\n"
     ]
    },
    {
     "name": "stderr",
     "output_type": "stream",
     "text": [
      "/var/folders/2q/bjqpws1153b0_y18lhffmh_m0000gn/T/ipykernel_96269/2472593214.py:77: FutureWarning: The frame.append method is deprecated and will be removed from pandas in a future version. Use pandas.concat instead.\n",
      "  data = data.append({'n_clusters': n, 'duration': duration}, ignore_index=True)\n"
     ]
    },
    {
     "name": "stdout",
     "output_type": "stream",
     "text": [
      "Converting string representation of list to actual list...\n",
      "Converting list of vectors into DataFrame...\n",
      "Extracting Vector column...\n",
      "Creating model...\n",
      "Fitting model...\n"
     ]
    },
    {
     "name": "stderr",
     "output_type": "stream",
     "text": [
      "/usr/local/lib/python3.11/site-packages/sklearn/cluster/_agglomerative.py:983: FutureWarning: Attribute `affinity` was deprecated in version 1.2 and will be removed in 1.4. Use `metric` instead\n",
      "  warnings.warn(\n"
     ]
    },
    {
     "name": "stdout",
     "output_type": "stream",
     "text": [
      "Saving data as ./Output Clusters/Book/book_0.05_freq_vector_hc_12.csv...\n",
      "Duration: 1.8461298942565918 seconds\n",
      "Clustering data (n_clusters = 12): book_0.05_freq_vector.csv done!\n",
      "\n",
      "Clustering data (n_clusters = 15): book_0.05_freq_vector.csv...\n",
      "Reading data from path: ./Dataset/Book/book_0.05_freq_vector.csv...\n"
     ]
    },
    {
     "name": "stderr",
     "output_type": "stream",
     "text": [
      "/var/folders/2q/bjqpws1153b0_y18lhffmh_m0000gn/T/ipykernel_96269/2472593214.py:77: FutureWarning: The frame.append method is deprecated and will be removed from pandas in a future version. Use pandas.concat instead.\n",
      "  data = data.append({'n_clusters': n, 'duration': duration}, ignore_index=True)\n"
     ]
    },
    {
     "name": "stdout",
     "output_type": "stream",
     "text": [
      "Converting string representation of list to actual list...\n",
      "Converting list of vectors into DataFrame...\n",
      "Extracting Vector column...\n",
      "Creating model...\n",
      "Fitting model...\n"
     ]
    },
    {
     "name": "stderr",
     "output_type": "stream",
     "text": [
      "/usr/local/lib/python3.11/site-packages/sklearn/cluster/_agglomerative.py:983: FutureWarning: Attribute `affinity` was deprecated in version 1.2 and will be removed in 1.4. Use `metric` instead\n",
      "  warnings.warn(\n"
     ]
    },
    {
     "name": "stdout",
     "output_type": "stream",
     "text": [
      "Saving data as ./Output Clusters/Book/book_0.05_freq_vector_hc_15.csv...\n",
      "Duration: 1.8432562351226807 seconds\n",
      "Clustering data (n_clusters = 15): book_0.05_freq_vector.csv done!\n",
      "\n",
      "Generating cluster range for book_0.05_freq_vector.csv.csv done!\n",
      "                        file           3           6           9          12  \\\n",
      "0            book_vector.csv  186.806017  231.578988  201.565190  205.852867   \n",
      "1  book_0.11_freq_vector.csv    0.768592    0.790131    0.808899    0.864856   \n",
      "2  book_0.08_freq_vector.csv    1.052954    1.169884    1.027052    1.059466   \n",
      "3  book_0.07_freq_vector.csv    1.150298    1.156988    1.101738    1.224612   \n",
      "4  book_0.09_freq_vector.csv    0.933791    0.895201    0.898291    0.862903   \n",
      "\n",
      "           15  \n",
      "0  193.911002  \n",
      "1    0.813209  \n",
      "2    1.012129  \n",
      "3    1.193579  \n",
      "4    0.904069  \n",
      "==============================================================================================================================\n"
     ]
    },
    {
     "name": "stderr",
     "output_type": "stream",
     "text": [
      "/var/folders/2q/bjqpws1153b0_y18lhffmh_m0000gn/T/ipykernel_96269/2472593214.py:77: FutureWarning: The frame.append method is deprecated and will be removed from pandas in a future version. Use pandas.concat instead.\n",
      "  data = data.append({'n_clusters': n, 'duration': duration}, ignore_index=True)\n",
      "/var/folders/2q/bjqpws1153b0_y18lhffmh_m0000gn/T/ipykernel_96269/2288603193.py:22: FutureWarning: The frame.append method is deprecated and will be removed from pandas in a future version. Use pandas.concat instead.\n",
      "  duration_df = duration_df.append({'file': file, '3': duration_range[0], '6': duration_range[1], '9': duration_range[2], '12': duration_range[3], '15': duration_range[4]}, ignore_index=True)\n"
     ]
    }
   ],
   "source": [
    "# Clustering Book Data\n",
    "import os\n",
    "f_list = []\n",
    "\n",
    "for file in os.listdir(\"./Dataset/Book/\"):\n",
    "    if \"mapping\" not in file:\n",
    "        f_list.append(file)\n",
    "        \n",
    "print(\"Generating cluster range for the following files: \" + str(f_list) + \"...\")\n",
    "\n",
    "# duration where the columns will be | file | 3 | 6 | 9 | 12 | 15 |\n",
    "duration_df = pd.DataFrame(columns=['file', '3', '6', '9', '12', '15'])\n",
    "\n",
    "# Add data to DataFrame\n",
    "for file in f_list:\n",
    "    print(\"==============================================================================================================================\")\n",
    "    duration_range = generate_cluster_range(file, 3, 18, 3)\n",
    "    \n",
    "    # convert duration_range to a list\n",
    "    duration_range = duration_range['duration'].to_list()\n",
    "    # add duration_range to duration_df\n",
    "    duration_df = duration_df.append({'file': file, '3': duration_range[0], '6': duration_range[1], '9': duration_range[2], '12': duration_range[3], '15': duration_range[4]}, ignore_index=True) # type: ignore\n",
    "    \n",
    "    print(duration_df.head())\n",
    "    print(\"==============================================================================================================================\")\n",
    "    \n",
    "duration_df.head()\n",
    "duration_df.to_csv(\"./Output Clusters/Book/duration.csv\", index=False)"
   ]
  },
  {
   "cell_type": "code",
   "execution_count": 59,
   "metadata": {},
   "outputs": [
    {
     "name": "stdout",
     "output_type": "stream",
     "text": [
      "['book_0.05_freq_vector', 'book_0.06_freq_vector', 'book_0.07_freq_vector', 'book_0.08_freq_vector', 'book_0.09_freq_vector', 'book_0.11_freq_vector', 'book_0.12_freq_vector', 'book_0.13_freq_vector', 'book_0.14_freq_vector', 'book_0.15_freq_vector', 'book_0.1_freq_vector', 'book_vector']\n",
      "[3, 6, 9, 12, 15]\n"
     ]
    },
    {
     "name": "stdout",
     "output_type": "stream",
     "text": [
      "{'book_0.05_freq_vector_hc_3.csv': 0.1894758962228238, 'book_0.05_freq_vector_hc_6.csv': 0.18942032559512312, 'book_0.05_freq_vector_hc_9.csv': 0.18496116252477213, 'book_0.05_freq_vector_hc_12.csv': 0.183839437081724, 'book_0.05_freq_vector_hc_15.csv': 0.1845196246448473}\n",
      "{'book_0.06_freq_vector_hc_3.csv': 0.16023288836546687, 'book_0.06_freq_vector_hc_6.csv': 0.15946628743917168, 'book_0.06_freq_vector_hc_9.csv': 0.1612682613736634, 'book_0.06_freq_vector_hc_12.csv': 0.161957907304043, 'book_0.06_freq_vector_hc_15.csv': 0.15239269482967321}\n",
      "{'book_0.07_freq_vector_hc_3.csv': 0.13478085866327852, 'book_0.07_freq_vector_hc_6.csv': 0.1085781049534111, 'book_0.07_freq_vector_hc_9.csv': 0.11584031228426316, 'book_0.07_freq_vector_hc_12.csv': 0.1174735151963293, 'book_0.07_freq_vector_hc_15.csv': 0.11877659597656624}\n",
      "{'book_0.08_freq_vector_hc_3.csv': 0.200573940848182, 'book_0.08_freq_vector_hc_6.csv': 0.12561341961821157, 'book_0.08_freq_vector_hc_9.csv': 0.13386065396683816, 'book_0.08_freq_vector_hc_12.csv': 0.09618857003096283, 'book_0.08_freq_vector_hc_15.csv': 0.10073420886990918}\n",
      "{'book_0.09_freq_vector_hc_3.csv': 0.2807789115896848, 'book_0.09_freq_vector_hc_6.csv': 0.27955709935649575, 'book_0.09_freq_vector_hc_9.csv': 0.25972582639118946, 'book_0.09_freq_vector_hc_12.csv': 0.22631291625509278, 'book_0.09_freq_vector_hc_15.csv': 0.11875665555400819}\n",
      "{'book_0.11_freq_vector_hc_3.csv': 0.2831668592041409, 'book_0.11_freq_vector_hc_6.csv': 0.2739645706424164, 'book_0.11_freq_vector_hc_9.csv': 0.265881308852887, 'book_0.11_freq_vector_hc_12.csv': 0.09299738166809884, 'book_0.11_freq_vector_hc_15.csv': 0.09947307828439529}\n",
      "{'book_0.12_freq_vector_hc_3.csv': 0.3160914834183534, 'book_0.12_freq_vector_hc_6.csv': 0.3120405102504283, 'book_0.12_freq_vector_hc_9.csv': 0.29043192021480047, 'book_0.12_freq_vector_hc_12.csv': 0.1636436908187662, 'book_0.12_freq_vector_hc_15.csv': -0.01943050631399636}\n",
      "{'book_0.13_freq_vector_hc_3.csv': 0.3238231727560609, 'book_0.13_freq_vector_hc_6.csv': 0.3057297087227568, 'book_0.13_freq_vector_hc_9.csv': 0.2769507024061925, 'book_0.13_freq_vector_hc_12.csv': 0.04034742881442119, 'book_0.13_freq_vector_hc_15.csv': 0.053579484367100486}\n",
      "{'book_0.14_freq_vector_hc_3.csv': 0.3365873306094353, 'book_0.14_freq_vector_hc_6.csv': 0.17509885058033842, 'book_0.14_freq_vector_hc_9.csv': 0.19037988253429913, 'book_0.14_freq_vector_hc_12.csv': 0.13539545029318298, 'book_0.14_freq_vector_hc_15.csv': 0.11474378225995463}\n",
      "{'book_0.15_freq_vector_hc_3.csv': 0.3126162574890723, 'book_0.15_freq_vector_hc_6.csv': 0.25330089097984415, 'book_0.15_freq_vector_hc_9.csv': 0.26560633367312314, 'book_0.15_freq_vector_hc_12.csv': 0.14025549158318895, 'book_0.15_freq_vector_hc_15.csv': 0.062235553816488494}\n",
      "{'book_0.1_freq_vector_hc_3.csv': 0.3095715335841136, 'book_0.1_freq_vector_hc_6.csv': 0.30316374943617885, 'book_0.1_freq_vector_hc_9.csv': 0.27455598938155584, 'book_0.1_freq_vector_hc_12.csv': 0.06835202522282993, 'book_0.1_freq_vector_hc_15.csv': 0.07490773089522472}\n",
      "{'book_vector_hc_3.csv': 0.12097523799703667, 'book_vector_hc_6.csv': 0.10461649408559329, 'book_vector_hc_9.csv': 0.10685817849460154, 'book_vector_hc_12.csv': 0.10727647448926582, 'book_vector_hc_15.csv': 0.10843819048960522}\n",
      "           Configurations         3         6         9        12        15\n",
      "0   book_0.05_freq_vector  0.189476  0.189420  0.184961  0.183839  0.184520\n",
      "1   book_0.06_freq_vector  0.160233  0.159466  0.161268  0.161958  0.152393\n",
      "2   book_0.07_freq_vector  0.134781  0.108578  0.115840  0.117474  0.118777\n",
      "3   book_0.08_freq_vector  0.200574  0.125613  0.133861  0.096189  0.100734\n",
      "4   book_0.09_freq_vector  0.280779  0.279557  0.259726  0.226313  0.118757\n",
      "5   book_0.11_freq_vector  0.283167  0.273965  0.265881  0.092997  0.099473\n",
      "6   book_0.12_freq_vector  0.316091  0.312041  0.290432  0.163644 -0.019431\n",
      "7   book_0.13_freq_vector  0.323823  0.305730  0.276951  0.040347  0.053579\n",
      "8   book_0.14_freq_vector  0.336587  0.175099  0.190380  0.135395  0.114744\n",
      "9   book_0.15_freq_vector  0.312616  0.253301  0.265606  0.140255  0.062236\n",
      "10   book_0.1_freq_vector  0.309572  0.303164  0.274556  0.068352  0.074908\n",
      "11            book_vector  0.120975  0.104616  0.106858  0.107276  0.108438\n",
      "Saved silhouette scores to ./Output Clusters/Book/book_silhouette_scores.csv\n",
      "['basket_0.01_freq_vector', 'basket_0.02_freq_vector', 'basket_0.03_freq_vector', 'basket_0.04_freq_vector', 'basket_0.05_freq_vector', 'basket_vector']\n",
      "[3, 6, 9, 12, 15]\n",
      "{'basket_0.01_freq_vector_hc_3.csv': -0.02866612929255888, 'basket_0.01_freq_vector_hc_6.csv': -0.043177540017505886, 'basket_0.01_freq_vector_hc_9.csv': -0.056225079685967495, 'basket_0.01_freq_vector_hc_12.csv': -0.05225079911203668, 'basket_0.01_freq_vector_hc_15.csv': -0.04142854177822136}\n",
      "{'basket_0.02_freq_vector_hc_3.csv': -0.03332948896123286, 'basket_0.02_freq_vector_hc_6.csv': -0.019070453124752144, 'basket_0.02_freq_vector_hc_9.csv': 0.004609164434921355, 'basket_0.02_freq_vector_hc_12.csv': 0.025977025841656266, 'basket_0.02_freq_vector_hc_15.csv': 0.048801565405927616}\n",
      "{'basket_0.03_freq_vector_hc_3.csv': 0.013250271807642678, 'basket_0.03_freq_vector_hc_6.csv': 0.05046656517986793, 'basket_0.03_freq_vector_hc_9.csv': 0.08549451483614103, 'basket_0.03_freq_vector_hc_12.csv': 0.12308285214300124, 'basket_0.03_freq_vector_hc_15.csv': 0.15736852261300097}\n",
      "{'basket_0.04_freq_vector_hc_3.csv': 0.16560011248998785, 'basket_0.04_freq_vector_hc_6.csv': 0.19886823538144002, 'basket_0.04_freq_vector_hc_9.csv': 0.27901122228562136, 'basket_0.04_freq_vector_hc_12.csv': 0.3563820161749348, 'basket_0.04_freq_vector_hc_15.csv': 0.4382209328090807}\n",
      "{'basket_0.05_freq_vector_hc_3.csv': 0.2721526963182238, 'basket_0.05_freq_vector_hc_6.csv': 0.3940925139822833, 'basket_0.05_freq_vector_hc_9.csv': 0.5165467335765859, 'basket_0.05_freq_vector_hc_12.csv': 0.6464353549920242, 'basket_0.05_freq_vector_hc_15.csv': 0.6846934074136257}\n",
      "{'basket_vector_hc_3.csv': -0.021515570643192938, 'basket_vector_hc_6.csv': -0.030541449972713276, 'basket_vector_hc_9.csv': -0.042376477672340526, 'basket_vector_hc_12.csv': -0.038301524838902985, 'basket_vector_hc_15.csv': -0.04627283424510829}\n",
      "            Configurations         3         6         9        12        15\n",
      "0  basket_0.01_freq_vector -0.028666 -0.043178 -0.056225 -0.052251 -0.041429\n",
      "1  basket_0.02_freq_vector -0.033329 -0.019070  0.004609  0.025977  0.048802\n",
      "2  basket_0.03_freq_vector  0.013250  0.050467  0.085495  0.123083  0.157369\n",
      "3  basket_0.04_freq_vector  0.165600  0.198868  0.279011  0.356382  0.438221\n",
      "4  basket_0.05_freq_vector  0.272153  0.394093  0.516547  0.646435  0.684693\n",
      "5            basket_vector -0.021516 -0.030541 -0.042376 -0.038302 -0.046273\n",
      "Saved silhouette scores to ./Output Clusters/Basket/basket_silhouette_scores.csv\n"
     ]
    }
   ],
   "source": [
    "import os\n",
    "from sklearn.metrics import silhouette_score\n",
    "\n",
    "output_path = \"./Output Clusters/\"\n",
    "\n",
    "def get_silhouette_score(data_file):\n",
    "    if \"basket\" in data_file:\n",
    "        df = pd.read_csv(output_path + \"Basket/\" + data_file)\n",
    "    elif \"book\" in data_file:\n",
    "        df = pd.read_csv(output_path + \"Book/\" + data_file)\n",
    "        \n",
    "    features = [ast.literal_eval(i) for i in df['Vector']]\n",
    "    labels = list(df['Cluster'])\n",
    "    return silhouette_score(features, labels)\n",
    "\n",
    "def generate_scores(data_name):\n",
    "    # get all files with different cluster sizes\n",
    "    \n",
    "    # get file path based on the data name\n",
    "    if \"basket\" in data_name:\n",
    "        file_path = \"./Output Clusters/Basket/\"\n",
    "    elif \"book\" in data_name:\n",
    "        file_path = \"./Output Clusters/Book/\"\n",
    "    else:\n",
    "        print(\"Invalid data name\")\n",
    "        return\n",
    "    \n",
    "    # Create dictionary to store scores\n",
    "    scores = {}\n",
    "    for f in os.listdir(file_path):\n",
    "        if data_name in f:\n",
    "            scores[f] = get_silhouette_score(f)\n",
    "    # sort scores by cluster size\n",
    "    scores = dict(sorted(scores.items(), key=lambda item: int(item[0].split(\"_hc_\")[1].split(\".\")[0])))\n",
    "\n",
    "    return scores\n",
    "\n",
    "def save_silhouette_scores(data_type):\n",
    "    \"\"\"Save the silhouette scores into a csv file. Rows will be the frequency vectors and columns will be the cluster sizes.\"\"\"\n",
    "    if \"Basket\" in data_type:\n",
    "        directory = \"./Output Clusters/Basket/\"\n",
    "    elif \"Book\" in data_type:\n",
    "        directory = \"./Output Clusters/Book/\"\n",
    "    else:\n",
    "        print(\"Invalid data type\")\n",
    "        return\n",
    "    \n",
    "    # get sets of configurations based on the file name\n",
    "    configurations = set()\n",
    "    cluster_list = set()\n",
    "    \n",
    "    for f in os.listdir(directory):\n",
    "        if '_hc_' in f:\n",
    "            # delete the end of file from _hc_ onwards\n",
    "            configurations.add(f.split(\"_hc_\")[0])\n",
    "            cluster_list.add(f.split(\"_hc_\")[1].split(\".\")[0])\n",
    "        \n",
    "    # sort \n",
    "    configurations = sorted(list(configurations))\n",
    "    cluster_list = sorted([int(i) for i in list(cluster_list)])\n",
    "    \n",
    "    print(configurations)\n",
    "    print(cluster_list)\n",
    "    \n",
    "    \n",
    "    data_df = pd.DataFrame(columns= [\"Configurations\"] + cluster_list)\n",
    "    # print(data_df)\n",
    "    \n",
    "    for c in configurations:\n",
    "        score_dict = generate_scores(c)\n",
    "        print(score_dict)\n",
    "        data_row = [c]\n",
    "        for k, v in score_dict.items():\n",
    "            data_row.append(v)\n",
    "        data_df.loc[len(data_df)] = data_row\n",
    "            \n",
    "    print(data_df)  \n",
    "\n",
    "    data_df.to_csv(\"./Output Clusters/\" + data_type + '/' + data_type.lower() + \"_silhouette_scores.csv\", index=False)\n",
    "    print(\"Saved silhouette scores to \" + \"./Output Clusters/\" + data_type + '/' + data_type.lower() + \"_silhouette_scores.csv\")\n",
    "\n",
    "# print(get_silhouette_score(\"Book/book_0.05_freq_vector_hc_3.csv\"))\n",
    "# print(generate_scores(\"book_0.05_freq_vector\"))\n",
    "\n",
    "save_silhouette_scores(\"Book\")\n",
    "\n",
    "# print(get_silhouette_score(\"Basket/basket_0.02_freq_vector_hc_3.csv\"))\n",
    "# print(generate_scores(\"basket_0.02_freq_vector\"))\n",
    "save_silhouette_scores(\"Basket\")"
   ]
  },
  {
   "cell_type": "code",
   "execution_count": 61,
   "metadata": {},
   "outputs": [
    {
     "name": "stdout",
     "output_type": "stream",
     "text": [
      "            Configurations         3         6         9        12        15\n",
      "0  basket_0.01_freq_vector -0.028666 -0.043178 -0.056225 -0.052251 -0.041429\n",
      "1  basket_0.02_freq_vector -0.033329 -0.019070  0.004609  0.025977  0.048802\n",
      "2  basket_0.03_freq_vector  0.013250  0.050467  0.085495  0.123083  0.157369\n",
      "3  basket_0.04_freq_vector  0.165600  0.198868  0.279011  0.356382  0.438221\n",
      "4  basket_0.05_freq_vector  0.272153  0.394093  0.516547  0.646435  0.684693\n",
      "5            basket_vector -0.021516 -0.030541 -0.042376 -0.038302 -0.046273\n",
      "                                3         6         9        12        15\n",
      "Configurations                                                           \n",
      "basket_0.01_freq_vector -0.028666 -0.043178 -0.056225 -0.052251 -0.041429\n",
      "basket_0.02_freq_vector -0.033329 -0.019070  0.004609  0.025977  0.048802\n",
      "basket_0.03_freq_vector  0.013250  0.050467  0.085495  0.123083  0.157369\n",
      "basket_0.04_freq_vector  0.165600  0.198868  0.279011  0.356382  0.438221\n",
      "basket_0.05_freq_vector  0.272153  0.394093  0.516547  0.646435  0.684693\n",
      "basket_vector           -0.021516 -0.030541 -0.042376 -0.038302 -0.046273\n"
     ]
    },
    {
     "data": {
      "image/png": "[encoded data removed]",
      "text/plain": [
       "<Figure size 1200x800 with 2 Axes>"
      ]
     },
     "metadata": {},
     "output_type": "display_data"
    },
    {
     "name": "stdout",
     "output_type": "stream",
     "text": [
      "           Configurations         3         6         9        12        15\n",
      "0   book_0.05_freq_vector  0.189476  0.189420  0.184961  0.183839  0.184520\n",
      "1   book_0.06_freq_vector  0.160233  0.159466  0.161268  0.161958  0.152393\n",
      "2   book_0.07_freq_vector  0.134781  0.108578  0.115840  0.117474  0.118777\n",
      "3   book_0.08_freq_vector  0.200574  0.125613  0.133861  0.096189  0.100734\n",
      "4   book_0.09_freq_vector  0.280779  0.279557  0.259726  0.226313  0.118757\n",
      "5   book_0.11_freq_vector  0.283167  0.273965  0.265881  0.092997  0.099473\n",
      "6   book_0.12_freq_vector  0.316091  0.312041  0.290432  0.163644 -0.019431\n",
      "7   book_0.13_freq_vector  0.323823  0.305730  0.276951  0.040347  0.053579\n",
      "8   book_0.14_freq_vector  0.336587  0.175099  0.190380  0.135395  0.114744\n",
      "9   book_0.15_freq_vector  0.312616  0.253301  0.265606  0.140255  0.062236\n",
      "10   book_0.1_freq_vector  0.309572  0.303164  0.274556  0.068352  0.074908\n",
      "11            book_vector  0.120975  0.104616  0.106858  0.107276  0.108438\n",
      "                              3         6         9        12        15\n",
      "Configurations                                                         \n",
      "book_0.05_freq_vector  0.189476  0.189420  0.184961  0.183839  0.184520\n",
      "book_0.06_freq_vector  0.160233  0.159466  0.161268  0.161958  0.152393\n",
      "book_0.07_freq_vector  0.134781  0.108578  0.115840  0.117474  0.118777\n",
      "book_0.08_freq_vector  0.200574  0.125613  0.133861  0.096189  0.100734\n",
      "book_0.09_freq_vector  0.280779  0.279557  0.259726  0.226313  0.118757\n",
      "book_0.11_freq_vector  0.283167  0.273965  0.265881  0.092997  0.099473\n",
      "book_0.12_freq_vector  0.316091  0.312041  0.290432  0.163644 -0.019431\n",
      "book_0.13_freq_vector  0.323823  0.305730  0.276951  0.040347  0.053579\n",
      "book_0.14_freq_vector  0.336587  0.175099  0.190380  0.135395  0.114744\n",
      "book_0.15_freq_vector  0.312616  0.253301  0.265606  0.140255  0.062236\n",
      "book_0.1_freq_vector   0.309572  0.303164  0.274556  0.068352  0.074908\n",
      "book_vector            0.120975  0.104616  0.106858  0.107276  0.108438\n"
     ]
    },
    {
     "data": {
      "image/png": "[encoded data removed]",
      "text/plain": [
       "<Figure size 1200x800 with 2 Axes>"
      ]
     },
     "metadata": {},
     "output_type": "display_data"
    }
   ],
   "source": [
    "# Comparing silhouette scores\n",
    "import pandas as pd\n",
    "import matplotlib.pyplot as plt\n",
    "import seaborn as sns\n",
    "\n",
    "def plot_silhouette_scores(data_type):\n",
    "    if \"Basket\" in data_type:\n",
    "        file_path = \"./Output Clusters/Basket/basket_silhouette_scores.csv\"\n",
    "    elif \"Book\" in data_type:\n",
    "        file_path = \"./Output Clusters/Book/book_silhouette_scores.csv\"\n",
    "    else:\n",
    "        print(\"Invalid data type\")\n",
    "        return\n",
    "    \n",
    "    df = pd.read_csv(file_path)\n",
    "    print(df)\n",
    "    \n",
    "    df = df.set_index(\"Configurations\")\n",
    "    print(df)\n",
    "    \n",
    "    plt.figure(figsize=(12, 8))\n",
    "    sns.heatmap(df, annot=True, cmap=\"YlGnBu\")\n",
    "    plt.title(\"Silhouette Scores for \" + data_type)\n",
    "    plt.xlabel(\"No. of Clusters\")\n",
    "    plt.ylabel(\"Frequency Vector\")\n",
    "    plt.show()\n",
    "    \n",
    "plot_silhouette_scores(\"Basket\")\n",
    "plot_silhouette_scores(\"Book\")"
   ]
  },
  {
   "cell_type": "code",
   "execution_count": 63,
   "metadata": {},
   "outputs": [
    {
     "data": {
      "image/png": "[encoded data removed]",
      "text/plain": [
       "<Figure size 1200x800 with 1 Axes>"
      ]
     },
     "metadata": {},
     "output_type": "display_data"
    }
   ],
   "source": [
    "# Dendrogram\n",
    "import matplotlib.pyplot as plt\n",
    "import pandas as pd\n",
    "import numpy as np\n",
    "import ast\n",
    "from scipy.cluster.hierarchy import dendrogram, linkage\n",
    "\n",
    "def plot_dendrogram(data_file, n_clusters):\n",
    "    if \"basket\" in data_file:\n",
    "        df = pd.read_csv(\"./Output Clusters/Basket/\" + data_file)\n",
    "    elif \"book\" in data_file:\n",
    "        df = pd.read_csv(\"./Output Clusters/Book/\" + data_file)\n",
    "    else:\n",
    "        print(\"Invalid data file\")\n",
    "        return\n",
    "    \n",
    "    features = [ast.literal_eval(i) for i in df['Vector']]\n",
    "    labels = list(df['Cluster'])\n",
    "    \n",
    "    # create linkage matrix\n",
    "    Z = linkage(features, 'ward')\n",
    "    \n",
    "    # plot dendrogram\n",
    "    plt.figure(figsize=(12, 8))\n",
    "    plt.title(\"Dendrogram for \" + data_file)\n",
    "    plt.xlabel(\"Data Points\")\n",
    "    plt.ylabel(\"Distance\")\n",
    "    dendrogram(Z, truncate_mode='lastp', p=n_clusters)\n",
    "    plt.show()\n",
    "    \n",
    "# plot_dendrogram(\"basket_0.02_freq_vector_hc_3.csv\", 3)\n",
    "# plot_dendrogram(\"book_0.05_freq_vector_hc_3.csv\", 3)\n",
    "# plot_dendrogram(\"basket_0.02_freq_vector_hc_6.csv\", 6)\n",
    "plot_dendrogram(\"book_0.05_freq_vector_hc_12.csv\", 12)\n"
   ]
  },
  {
   "cell_type": "markdown",
   "metadata": {},
   "source": [
    "## Archive"
   ]
  },
  {
   "cell_type": "code",
   "execution_count": null,
   "metadata": {},
   "outputs": [],
   "source": [
    "# Show cluster membership in a table\n",
    "print(df.head())\n",
    "# Save the result to csv\n",
    "df.to_csv('./Output Clusters/hierarchical_3_clusters.csv')\n",
    "\n",
    "# Show scatter plot of data colored by cluster\n",
    "import matplotlib.pyplot as plt\n",
    "\n",
    "# # Convert 'Vectors' column to a list of lists\n",
    "# vectors = df['Vector'].tolist()\n",
    "\n",
    "# # Separate the vectors into two lists\n",
    "# x_values = [vector[0] for vector in vectors]\n",
    "# y_values = [vector[1] for vector in vectors]\n",
    "\n",
    "# # Plot the data points\n",
    "# plt.scatter(x_values, y_values, c=df['Cluster'], cmap='rainbow')\n",
    "# plt.show()"
   ]
  },
  {
   "cell_type": "code",
   "execution_count": null,
   "metadata": {},
   "outputs": [],
   "source": [
    "# Create Dendrogram\n",
    "from scipy.cluster.hierarchy import dendrogram, linkage\n",
    "\n",
    "# Generate the linkage matrix\n",
    "Z = linkage(X, 'ward')\n",
    "\n",
    "plt.figure(figsize=(15, 10))\n",
    "# Create a dendrogram\n",
    "dendrogram(Z, labels=df.index.values.tolist(), leaf_rotation=90, leaf_font_size=8)\n",
    "\n",
    "# Show the plot\n",
    "plt.show()"
   ]
  },
  {
   "cell_type": "code",
   "execution_count": null,
   "metadata": {},
   "outputs": [],
   "source": []
  }
 ],
 "metadata": {
  "kernelspec": {
   "display_name": "Python 3",
   "language": "python",
   "name": "python3"
  },
  "language_info": {
   "codemirror_mode": {
    "name": "ipython",
    "version": 3
   },
   "file_extension": ".py",
   "mimetype": "text/x-python",
   "name": "python",
   "nbconvert_exporter": "python",
   "pygments_lexer": "ipython3",
   "version": "3.11.4"
  }
 },
 "nbformat": 4,
 "nbformat_minor": 2
}
