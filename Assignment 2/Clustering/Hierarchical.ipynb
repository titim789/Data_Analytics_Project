{
 "cells": [
  {
   "cell_type": "code",
   "execution_count": 2,
   "metadata": {},
   "outputs": [],
   "source": [
    "# Importing the libraries\n",
    "import numpy as np\n",
    "import pandas as pd"
   ]
  },
  {
   "cell_type": "code",
   "execution_count": 20,
   "metadata": {},
   "outputs": [
    {
     "name": "stdout",
     "output_type": "stream",
     "text": [
      "   Unnamed: 0  Size      Itemset\n",
      "0           0     1  salty snack\n",
      "1           1     1   whole milk\n",
      "2           2     1       pastry\n",
      "3           3     1       yogurt\n",
      "4           4     1      sausage\n"
     ]
    },
    {
     "data": {
      "text/html": [
       "<div>\n",
       "<style scoped>\n",
       "    .dataframe tbody tr th:only-of-type {\n",
       "        vertical-align: middle;\n",
       "    }\n",
       "\n",
       "    .dataframe tbody tr th {\n",
       "        vertical-align: top;\n",
       "    }\n",
       "\n",
       "    .dataframe thead th {\n",
       "        text-align: right;\n",
       "    }\n",
       "</style>\n",
       "<table border=\"1\" class=\"dataframe\">\n",
       "  <thead>\n",
       "    <tr style=\"text-align: right;\">\n",
       "      <th></th>\n",
       "      <th>Unnamed: 0</th>\n",
       "      <th>Transaction</th>\n",
       "      <th>Vector</th>\n",
       "    </tr>\n",
       "  </thead>\n",
       "  <tbody>\n",
       "    <tr>\n",
       "      <th>0</th>\n",
       "      <td>0</td>\n",
       "      <td>['salty snack', 'pastry', 'whole milk']</td>\n",
       "      <td>[1, 1, 1, 0, 0, 0, 0, 0, 0, 0, 0, 0, 0, 0, 0, ...</td>\n",
       "    </tr>\n",
       "    <tr>\n",
       "      <th>1</th>\n",
       "      <td>1</td>\n",
       "      <td>['yogurt', 'semi-finished bread', 'whole milk'...</td>\n",
       "      <td>[0, 1, 0, 1, 1, 0, 0, 0, 0, 0, 0, 0, 0, 0, 0, ...</td>\n",
       "    </tr>\n",
       "    <tr>\n",
       "      <th>2</th>\n",
       "      <td>2</td>\n",
       "      <td>['soda', 'pickled vegetables']</td>\n",
       "      <td>[0, 0, 0, 0, 0, 1, 0, 0, 0, 0, 0, 0, 0, 0, 0, ...</td>\n",
       "    </tr>\n",
       "    <tr>\n",
       "      <th>3</th>\n",
       "      <td>3</td>\n",
       "      <td>['misc. beverages', 'canned beer']</td>\n",
       "      <td>[0, 0, 0, 0, 0, 0, 1, 1, 0, 0, 0, 0, 0, 0, 0, ...</td>\n",
       "    </tr>\n",
       "    <tr>\n",
       "      <th>4</th>\n",
       "      <td>4</td>\n",
       "      <td>['hygiene articles', 'sausage']</td>\n",
       "      <td>[0, 0, 0, 0, 1, 0, 0, 0, 1, 0, 0, 0, 0, 0, 0, ...</td>\n",
       "    </tr>\n",
       "  </tbody>\n",
       "</table>\n",
       "</div>"
      ],
      "text/plain": [
       "   Unnamed: 0                                        Transaction  \\\n",
       "0           0            ['salty snack', 'pastry', 'whole milk']   \n",
       "1           1  ['yogurt', 'semi-finished bread', 'whole milk'...   \n",
       "2           2                     ['soda', 'pickled vegetables']   \n",
       "3           3                 ['misc. beverages', 'canned beer']   \n",
       "4           4                    ['hygiene articles', 'sausage']   \n",
       "\n",
       "                                              Vector  \n",
       "0  [1, 1, 1, 0, 0, 0, 0, 0, 0, 0, 0, 0, 0, 0, 0, ...  \n",
       "1  [0, 1, 0, 1, 1, 0, 0, 0, 0, 0, 0, 0, 0, 0, 0, ...  \n",
       "2  [0, 0, 0, 0, 0, 1, 0, 0, 0, 0, 0, 0, 0, 0, 0, ...  \n",
       "3  [0, 0, 0, 0, 0, 0, 1, 1, 0, 0, 0, 0, 0, 0, 0, ...  \n",
       "4  [0, 0, 0, 0, 1, 0, 0, 0, 1, 0, 0, 0, 0, 0, 0, ...  "
      ]
     },
     "execution_count": 20,
     "metadata": {},
     "output_type": "execute_result"
    }
   ],
   "source": [
    "# Import the dataset from Clustering Adapter\n",
    "data = pd.read_csv(\"../Clustering Adapter/Adapter Output/result_w_vector.csv\")\n",
    "v_map = pd.read_csv(\"../Clustering Adapter/Adapter Output/vector_mapping.csv\")\n",
    "print(v_map.head())\n",
    "\n",
    "data.head()\n",
    "# data.info()"
   ]
  },
  {
   "cell_type": "code",
   "execution_count": 35,
   "metadata": {},
   "outputs": [],
   "source": [
    "# Clustering Transaction based on Vector in data\n",
    "from sklearn.cluster import AgglomerativeClustering\n",
    "import pandas as pd\n",
    "import ast\n",
    "import numpy as np\n",
    "# Convert string to list\n",
    "import ast\n",
    "\n",
    "data = pd.read_csv(\"../Clustering Adapter/Adapter Output/result_w_vector.csv\")\n",
    "v_map = pd.read_csv(\"../Clustering Adapter/Adapter Output/vector_mapping.csv\")\n",
    "\n",
    "# Load your data\n",
    "df = data\n",
    "\n",
    "# Convert string representation of list to actual list\n",
    "df['Vector'] = df['Vector'].apply(lambda x: ast.literal_eval(x))\n",
    "\n",
    "# Convert list of vectors into DataFrame\n",
    "vector_df = pd.DataFrame(df['Vector'].to_list())\n",
    "\n",
    "# Extract Vector column\n",
    "X = vector_df.values\n",
    "\n",
    "# Initialize AgglomerativeClustering\n",
    "agg_clustering = AgglomerativeClustering(n_clusters=10)\n",
    "\n",
    "# Fit the model and assign clusters\n",
    "df['Cluster'] = agg_clustering.fit_predict(X)"
   ]
  },
  {
   "cell_type": "code",
   "execution_count": 37,
   "metadata": {},
   "outputs": [
    {
     "name": "stdout",
     "output_type": "stream",
     "text": [
      "   Unnamed: 0                                        Transaction  \\\n",
      "0           0            ['salty snack', 'pastry', 'whole milk']   \n",
      "1           1  ['yogurt', 'semi-finished bread', 'whole milk'...   \n",
      "2           2                     ['soda', 'pickled vegetables']   \n",
      "3           3                 ['misc. beverages', 'canned beer']   \n",
      "4           4                    ['hygiene articles', 'sausage']   \n",
      "\n",
      "                                              Vector  Cluster  \n",
      "0  [1, 1, 1, 0, 0, 0, 0, 0, 0, 0, 0, 0, 0, 0, 0, ...        2  \n",
      "1  [0, 1, 0, 1, 1, 0, 0, 0, 0, 0, 0, 0, 0, 0, 0, ...        7  \n",
      "2  [0, 0, 0, 0, 0, 1, 0, 0, 0, 0, 0, 0, 0, 0, 0, ...        1  \n",
      "3  [0, 0, 0, 0, 0, 0, 1, 1, 0, 0, 0, 0, 0, 0, 0, ...        2  \n",
      "4  [0, 0, 0, 0, 1, 0, 0, 0, 1, 0, 0, 0, 0, 0, 0, ...        2  \n"
     ]
    }
   ],
   "source": [
    "# Show cluster membership in a table\n",
    "print(df.head())\n",
    "\n",
    "# Draw a scatter plot of your data assigned to each cluster\n",
    "import matplotlib.pyplot as plt\n",
    "import seaborn as sns\n",
    "\n",
    "\n"
   ]
  },
  {
   "cell_type": "code",
   "execution_count": 27,
   "metadata": {},
   "outputs": [
    {
     "data": {
      "image/png": "[encoded data removed]",
      "text/plain": [
       "<Figure size 640x480 with 1 Axes>"
      ]
     },
     "metadata": {},
     "output_type": "display_data"
    }
   ],
   "source": [
    "# Create Dendrogram\n",
    "from scipy.cluster.hierarchy import dendrogram, linkage\n",
    "\n",
    "# Generate the linkage matrix\n",
    "Z = linkage(X, 'ward')\n",
    "\n",
    "# Create a dendrogram\n",
    "dendrogram(Z)\n",
    "\n",
    "# Show the plot\n",
    "plt.show()"
   ]
  },
  {
   "cell_type": "code",
   "execution_count": 5,
   "metadata": {},
   "outputs": [
    {
     "data": {
      "image/png": "[encoded data removed]",
      "text/plain": [
       "<Figure size 1000x500 with 1 Axes>"
      ]
     },
     "metadata": {},
     "output_type": "display_data"
    }
   ],
   "source": [
    "# Testing the model\n",
    "import pandas as pd\n",
    "from scipy.cluster.hierarchy import linkage, dendrogram\n",
    "import matplotlib.pyplot as plt\n",
    "\n",
    "# Select only the numeric columns from the data dataframe\n",
    "numeric_cols = data.select_dtypes(include=[np.number]).columns.tolist()\n",
    "data_numeric = data[numeric_cols]\n",
    "\n",
    "# Calculate the linkage matrix using the Ward method\n",
    "Z = linkage(data_numeric, method='ward')\n",
    "\n",
    "# Plot the dendrogram\n",
    "plt.figure(figsize=(10, 5))\n",
    "dendrogram(Z)\n",
    "plt.show()\n"
   ]
  }
 ],
 "metadata": {
  "kernelspec": {
   "display_name": "Python 3",
   "language": "python",
   "name": "python3"
  },
  "language_info": {
   "codemirror_mode": {
    "name": "ipython",
    "version": 3
   },
   "file_extension": ".py",
   "mimetype": "text/x-python",
   "name": "python",
   "nbconvert_exporter": "python",
   "pygments_lexer": "ipython3",
   "version": "3.11.4"
  }
 },
 "nbformat": 4,
 "nbformat_minor": 2
}
