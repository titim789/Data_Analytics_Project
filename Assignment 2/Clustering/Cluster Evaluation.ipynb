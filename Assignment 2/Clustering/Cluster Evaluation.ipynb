{
 "cells": [
  {
   "cell_type": "code",
   "execution_count": 2,
   "metadata": {},
   "outputs": [],
   "source": [
    "import pandas as pd\n",
    "from sklearn.metrics import silhouette_score, calinski_harabasz_score, davies_bouldin_score\n",
    "from ast import literal_eval"
   ]
  },
  {
   "cell_type": "markdown",
   "metadata": {},
   "source": [
    "# Evaluation for K-Means"
   ]
  },
  {
   "cell_type": "code",
   "execution_count": 8,
   "metadata": {},
   "outputs": [
    {
     "data": {
      "text/html": [
       "<div>\n",
       "<style scoped>\n",
       "    .dataframe tbody tr th:only-of-type {\n",
       "        vertical-align: middle;\n",
       "    }\n",
       "\n",
       "    .dataframe tbody tr th {\n",
       "        vertical-align: top;\n",
       "    }\n",
       "\n",
       "    .dataframe thead th {\n",
       "        text-align: right;\n",
       "    }\n",
       "</style>\n",
       "<table border=\"1\" class=\"dataframe\">\n",
       "  <thead>\n",
       "    <tr style=\"text-align: right;\">\n",
       "      <th></th>\n",
       "      <th>Transaction</th>\n",
       "      <th>Vector</th>\n",
       "      <th>Cluster</th>\n",
       "    </tr>\n",
       "  </thead>\n",
       "  <tbody>\n",
       "    <tr>\n",
       "      <th>0</th>\n",
       "      <td>[salty snack, pastry, whole milk]</td>\n",
       "      <td>[1, 1, 1, 0, 0, 0, 0, 0, 0, 0, 0, 0, 0, 0, 0, ...</td>\n",
       "      <td>2</td>\n",
       "    </tr>\n",
       "    <tr>\n",
       "      <th>1</th>\n",
       "      <td>[yogurt, semi-finished bread, whole milk, saus...</td>\n",
       "      <td>[0, 1, 0, 1, 1, 0, 0, 0, 0, 0, 0, 0, 0, 0, 0, ...</td>\n",
       "      <td>2</td>\n",
       "    </tr>\n",
       "    <tr>\n",
       "      <th>2</th>\n",
       "      <td>[soda, pickled vegetables]</td>\n",
       "      <td>[0, 0, 0, 0, 0, 1, 0, 0, 0, 0, 0, 0, 0, 0, 0, ...</td>\n",
       "      <td>1</td>\n",
       "    </tr>\n",
       "    <tr>\n",
       "      <th>3</th>\n",
       "      <td>[misc. beverages, canned beer]</td>\n",
       "      <td>[0, 0, 0, 0, 0, 0, 1, 1, 0, 0, 0, 0, 0, 0, 0, ...</td>\n",
       "      <td>1</td>\n",
       "    </tr>\n",
       "    <tr>\n",
       "      <th>4</th>\n",
       "      <td>[hygiene articles, sausage]</td>\n",
       "      <td>[0, 0, 0, 0, 1, 0, 0, 0, 1, 0, 0, 0, 0, 0, 0, ...</td>\n",
       "      <td>1</td>\n",
       "    </tr>\n",
       "  </tbody>\n",
       "</table>\n",
       "</div>"
      ],
      "text/plain": [
       "                                         Transaction  \\\n",
       "0                  [salty snack, pastry, whole milk]   \n",
       "1  [yogurt, semi-finished bread, whole milk, saus...   \n",
       "2                         [soda, pickled vegetables]   \n",
       "3                     [misc. beverages, canned beer]   \n",
       "4                        [hygiene articles, sausage]   \n",
       "\n",
       "                                              Vector  Cluster  \n",
       "0  [1, 1, 1, 0, 0, 0, 0, 0, 0, 0, 0, 0, 0, 0, 0, ...        2  \n",
       "1  [0, 1, 0, 1, 1, 0, 0, 0, 0, 0, 0, 0, 0, 0, 0, ...        2  \n",
       "2  [0, 0, 0, 0, 0, 1, 0, 0, 0, 0, 0, 0, 0, 0, 0, ...        1  \n",
       "3  [0, 0, 0, 0, 0, 0, 1, 1, 0, 0, 0, 0, 0, 0, 0, ...        1  \n",
       "4  [0, 0, 0, 0, 1, 0, 0, 0, 1, 0, 0, 0, 0, 0, 0, ...        1  "
      ]
     },
     "execution_count": 8,
     "metadata": {},
     "output_type": "execute_result"
    }
   ],
   "source": [
    "# Load Clustering results\n",
    "kMeansDF = pd.read_csv(\"./Output Clusters/k-means-3-cluster-output.csv\" , index_col=[0], converters={\"Transaction\": literal_eval, \"Vector\":literal_eval})\n",
    "kMeansDF.head()"
   ]
  },
  {
   "cell_type": "code",
   "execution_count": 10,
   "metadata": {},
   "outputs": [
    {
     "data": {
      "text/plain": [
       "0.08738963332039071"
      ]
     },
     "execution_count": 10,
     "metadata": {},
     "output_type": "execute_result"
    }
   ],
   "source": [
    "# Getting Sihoulette Score\n",
    "silhouette_score(list(kMeansDF[\"Vector\"]), list(kMeansDF[\"Cluster\"]))"
   ]
  },
  {
   "cell_type": "code",
   "execution_count": 17,
   "metadata": {},
   "outputs": [
    {
     "data": {
      "text/plain": [
       "697.3075224829968"
      ]
     },
     "execution_count": 17,
     "metadata": {},
     "output_type": "execute_result"
    }
   ],
   "source": [
    "# Getting Calinski Harabasz Score\n",
    "calinski_harabasz_score(list(kMeansDF[\"Vector\"]), list(kMeansDF[\"Cluster\"]))"
   ]
  },
  {
   "cell_type": "code",
   "execution_count": 13,
   "metadata": {},
   "outputs": [
    {
     "data": {
      "text/plain": [
       "3.2287140484389583"
      ]
     },
     "execution_count": 13,
     "metadata": {},
     "output_type": "execute_result"
    }
   ],
   "source": [
    "# Getting Sihoulette Score\n",
    "davies_bouldin_score(list(kMeansDF[\"Vector\"]), list(kMeansDF[\"Cluster\"]))"
   ]
  },
  {
   "cell_type": "code",
   "execution_count": 33,
   "metadata": {},
   "outputs": [],
   "source": [
    "sil_dict = {}\n",
    "cal_dict = {}\n",
    "dav_dict = {}\n",
    "\n",
    "for i in range(5,10,1):\n",
    "    sil_dict[\"book-{}-k-means\".format(i)] = {}\n",
    "    cal_dict[\"book-{}-k-means\".format(i)] = {}\n",
    "    dav_dict[\"book-{}-k-means\".format(i)] = {}\n",
    "    for j in range(3,16,3):\n",
    "        \n",
    "        # Read Output CSV\n",
    "        KMeansDF = pd.read_csv(\"./Output Clusters/Book/k_means_0.0{}_{}_output.csv\".format(i,j) , index_col=[0], names=[\"Description\", \"Vector\", \"Cluster\"], converters={\"Description\": literal_eval, \"Vector\":literal_eval})\n",
    "\n",
    "        try:\n",
    "            # Getting Sihoulette Score\n",
    "            sil_dict[\"book-{}-k-means\".format(i)][str(j)] = silhouette_score(list(KMeansDF[\"Vector\"]), list(KMeansDF[\"Cluster\"]))\n",
    "\n",
    "            # Getting Calinski Harabasz Score\n",
    "            cal_dict[\"book-{}-k-means\".format(i)][str(j)] = calinski_harabasz_score(list(KMeansDF[\"Vector\"]), list(KMeansDF[\"Cluster\"]))\n",
    "\n",
    "            # Getting Sihoulette Score\n",
    "            dav_dict[\"book-{}-k-means\".format(i)][str(j)] = davies_bouldin_score(list(KMeansDF[\"Vector\"]), list(KMeansDF[\"Cluster\"]))\n",
    "        \n",
    "        except ValueError as e:\n",
    "            sil_dict[\"book-{}-k-means\".format(i)][str(j)] = \"-\"\n",
    "            cal_dict[\"book-{}-k-means\".format(i)][str(j)] = \"-\"\n",
    "            dav_dict[\"book-{}-k-means\".format(i)][str(j)] = \"-\""
   ]
  },
  {
   "cell_type": "code",
   "execution_count": 34,
   "metadata": {},
   "outputs": [
    {
     "data": {
      "text/html": [
       "<div>\n",
       "<style scoped>\n",
       "    .dataframe tbody tr th:only-of-type {\n",
       "        vertical-align: middle;\n",
       "    }\n",
       "\n",
       "    .dataframe tbody tr th {\n",
       "        vertical-align: top;\n",
       "    }\n",
       "\n",
       "    .dataframe thead th {\n",
       "        text-align: right;\n",
       "    }\n",
       "</style>\n",
       "<table border=\"1\" class=\"dataframe\">\n",
       "  <thead>\n",
       "    <tr style=\"text-align: right;\">\n",
       "      <th></th>\n",
       "      <th>3</th>\n",
       "      <th>6</th>\n",
       "      <th>9</th>\n",
       "      <th>12</th>\n",
       "      <th>15</th>\n",
       "    </tr>\n",
       "  </thead>\n",
       "  <tbody>\n",
       "    <tr>\n",
       "      <th>book-5-k-means</th>\n",
       "      <td>0.243541</td>\n",
       "      <td>0.218641</td>\n",
       "      <td>0.130394</td>\n",
       "      <td>0.148731</td>\n",
       "      <td>0.094476</td>\n",
       "    </tr>\n",
       "    <tr>\n",
       "      <th>book-6-k-means</th>\n",
       "      <td>0.256968</td>\n",
       "      <td>0.228965</td>\n",
       "      <td>0.129960</td>\n",
       "      <td>0.064824</td>\n",
       "      <td>0.124476</td>\n",
       "    </tr>\n",
       "    <tr>\n",
       "      <th>book-7-k-means</th>\n",
       "      <td>0.272556</td>\n",
       "      <td>0.251505</td>\n",
       "      <td>0.227168</td>\n",
       "      <td>0.188123</td>\n",
       "      <td>0.157513</td>\n",
       "    </tr>\n",
       "    <tr>\n",
       "      <th>book-8-k-means</th>\n",
       "      <td>0.287085</td>\n",
       "      <td>0.254424</td>\n",
       "      <td>0.206226</td>\n",
       "      <td>0.190647</td>\n",
       "      <td>0.177563</td>\n",
       "    </tr>\n",
       "    <tr>\n",
       "      <th>book-9-k-means</th>\n",
       "      <td>0.303610</td>\n",
       "      <td>0.285995</td>\n",
       "      <td>0.224013</td>\n",
       "      <td>0.195805</td>\n",
       "      <td>0.114281</td>\n",
       "    </tr>\n",
       "  </tbody>\n",
       "</table>\n",
       "</div>"
      ],
      "text/plain": [
       "                       3         6         9        12        15\n",
       "book-5-k-means  0.243541  0.218641  0.130394  0.148731  0.094476\n",
       "book-6-k-means  0.256968  0.228965  0.129960  0.064824  0.124476\n",
       "book-7-k-means  0.272556  0.251505  0.227168  0.188123  0.157513\n",
       "book-8-k-means  0.287085  0.254424  0.206226  0.190647  0.177563\n",
       "book-9-k-means  0.303610  0.285995  0.224013  0.195805  0.114281"
      ]
     },
     "execution_count": 34,
     "metadata": {},
     "output_type": "execute_result"
    }
   ],
   "source": [
    "pd.DataFrame(sil_dict).transpose()"
   ]
  },
  {
   "cell_type": "code",
   "execution_count": 35,
   "metadata": {},
   "outputs": [
    {
     "data": {
      "text/html": [
       "<div>\n",
       "<style scoped>\n",
       "    .dataframe tbody tr th:only-of-type {\n",
       "        vertical-align: middle;\n",
       "    }\n",
       "\n",
       "    .dataframe tbody tr th {\n",
       "        vertical-align: top;\n",
       "    }\n",
       "\n",
       "    .dataframe thead th {\n",
       "        text-align: right;\n",
       "    }\n",
       "</style>\n",
       "<table border=\"1\" class=\"dataframe\">\n",
       "  <thead>\n",
       "    <tr style=\"text-align: right;\">\n",
       "      <th></th>\n",
       "      <th>3</th>\n",
       "      <th>6</th>\n",
       "      <th>9</th>\n",
       "      <th>12</th>\n",
       "      <th>15</th>\n",
       "    </tr>\n",
       "  </thead>\n",
       "  <tbody>\n",
       "    <tr>\n",
       "      <th>book-5-k-means</th>\n",
       "      <td>233.086029</td>\n",
       "      <td>145.915909</td>\n",
       "      <td>114.668814</td>\n",
       "      <td>96.198089</td>\n",
       "      <td>84.767701</td>\n",
       "    </tr>\n",
       "    <tr>\n",
       "      <th>book-6-k-means</th>\n",
       "      <td>274.075852</td>\n",
       "      <td>174.192823</td>\n",
       "      <td>138.471386</td>\n",
       "      <td>116.960668</td>\n",
       "      <td>102.383978</td>\n",
       "    </tr>\n",
       "    <tr>\n",
       "      <th>book-7-k-means</th>\n",
       "      <td>329.936637</td>\n",
       "      <td>213.055326</td>\n",
       "      <td>167.187322</td>\n",
       "      <td>142.147842</td>\n",
       "      <td>124.433160</td>\n",
       "    </tr>\n",
       "    <tr>\n",
       "      <th>book-8-k-means</th>\n",
       "      <td>367.196393</td>\n",
       "      <td>241.367191</td>\n",
       "      <td>192.649397</td>\n",
       "      <td>163.830556</td>\n",
       "      <td>145.014854</td>\n",
       "    </tr>\n",
       "    <tr>\n",
       "      <th>book-9-k-means</th>\n",
       "      <td>436.051250</td>\n",
       "      <td>290.168884</td>\n",
       "      <td>236.417468</td>\n",
       "      <td>203.029870</td>\n",
       "      <td>180.383478</td>\n",
       "    </tr>\n",
       "  </tbody>\n",
       "</table>\n",
       "</div>"
      ],
      "text/plain": [
       "                         3           6           9          12          15\n",
       "book-5-k-means  233.086029  145.915909  114.668814   96.198089   84.767701\n",
       "book-6-k-means  274.075852  174.192823  138.471386  116.960668  102.383978\n",
       "book-7-k-means  329.936637  213.055326  167.187322  142.147842  124.433160\n",
       "book-8-k-means  367.196393  241.367191  192.649397  163.830556  145.014854\n",
       "book-9-k-means  436.051250  290.168884  236.417468  203.029870  180.383478"
      ]
     },
     "execution_count": 35,
     "metadata": {},
     "output_type": "execute_result"
    }
   ],
   "source": [
    "pd.DataFrame(cal_dict).transpose()"
   ]
  },
  {
   "cell_type": "code",
   "execution_count": 36,
   "metadata": {},
   "outputs": [
    {
     "data": {
      "text/html": [
       "<div>\n",
       "<style scoped>\n",
       "    .dataframe tbody tr th:only-of-type {\n",
       "        vertical-align: middle;\n",
       "    }\n",
       "\n",
       "    .dataframe tbody tr th {\n",
       "        vertical-align: top;\n",
       "    }\n",
       "\n",
       "    .dataframe thead th {\n",
       "        text-align: right;\n",
       "    }\n",
       "</style>\n",
       "<table border=\"1\" class=\"dataframe\">\n",
       "  <thead>\n",
       "    <tr style=\"text-align: right;\">\n",
       "      <th></th>\n",
       "      <th>3</th>\n",
       "      <th>6</th>\n",
       "      <th>9</th>\n",
       "      <th>12</th>\n",
       "      <th>15</th>\n",
       "    </tr>\n",
       "  </thead>\n",
       "  <tbody>\n",
       "    <tr>\n",
       "      <th>book-5-k-means</th>\n",
       "      <td>3.589646</td>\n",
       "      <td>3.604397</td>\n",
       "      <td>3.573086</td>\n",
       "      <td>3.280994</td>\n",
       "      <td>3.612359</td>\n",
       "    </tr>\n",
       "    <tr>\n",
       "      <th>book-6-k-means</th>\n",
       "      <td>3.310797</td>\n",
       "      <td>3.306840</td>\n",
       "      <td>3.329126</td>\n",
       "      <td>3.106905</td>\n",
       "      <td>3.135875</td>\n",
       "    </tr>\n",
       "    <tr>\n",
       "      <th>book-7-k-means</th>\n",
       "      <td>3.091545</td>\n",
       "      <td>2.967920</td>\n",
       "      <td>2.792711</td>\n",
       "      <td>2.842540</td>\n",
       "      <td>2.710633</td>\n",
       "    </tr>\n",
       "    <tr>\n",
       "      <th>book-8-k-means</th>\n",
       "      <td>2.926753</td>\n",
       "      <td>2.826358</td>\n",
       "      <td>2.716446</td>\n",
       "      <td>2.627282</td>\n",
       "      <td>2.568417</td>\n",
       "    </tr>\n",
       "    <tr>\n",
       "      <th>book-9-k-means</th>\n",
       "      <td>2.672216</td>\n",
       "      <td>2.504513</td>\n",
       "      <td>2.390347</td>\n",
       "      <td>2.537327</td>\n",
       "      <td>2.235130</td>\n",
       "    </tr>\n",
       "  </tbody>\n",
       "</table>\n",
       "</div>"
      ],
      "text/plain": [
       "                       3         6         9        12        15\n",
       "book-5-k-means  3.589646  3.604397  3.573086  3.280994  3.612359\n",
       "book-6-k-means  3.310797  3.306840  3.329126  3.106905  3.135875\n",
       "book-7-k-means  3.091545  2.967920  2.792711  2.842540  2.710633\n",
       "book-8-k-means  2.926753  2.826358  2.716446  2.627282  2.568417\n",
       "book-9-k-means  2.672216  2.504513  2.390347  2.537327  2.235130"
      ]
     },
     "execution_count": 36,
     "metadata": {},
     "output_type": "execute_result"
    }
   ],
   "source": [
    "pd.DataFrame(dav_dict).transpose()"
   ]
  },
  {
   "cell_type": "markdown",
   "metadata": {},
   "source": [
    "### Finding ground-truth scores"
   ]
  },
  {
   "cell_type": "code",
   "execution_count": 54,
   "metadata": {},
   "outputs": [
    {
     "data": {
      "text/plain": [
       "'Fiction'"
      ]
     },
     "execution_count": 54,
     "metadata": {},
     "output_type": "execute_result"
    }
   ],
   "source": [
    "\"\".join(cat_df[\"categories\"][0])"
   ]
  },
  {
   "cell_type": "code",
   "execution_count": 56,
   "metadata": {},
   "outputs": [
    {
     "data": {
      "text/html": [
       "<div>\n",
       "<style scoped>\n",
       "    .dataframe tbody tr th:only-of-type {\n",
       "        vertical-align: middle;\n",
       "    }\n",
       "\n",
       "    .dataframe tbody tr th {\n",
       "        vertical-align: top;\n",
       "    }\n",
       "\n",
       "    .dataframe thead th {\n",
       "        text-align: right;\n",
       "    }\n",
       "</style>\n",
       "<table border=\"1\" class=\"dataframe\">\n",
       "  <thead>\n",
       "    <tr style=\"text-align: right;\">\n",
       "      <th></th>\n",
       "      <th>categories</th>\n",
       "    </tr>\n",
       "  </thead>\n",
       "  <tbody>\n",
       "    <tr>\n",
       "      <th>0</th>\n",
       "      <td>Fiction</td>\n",
       "    </tr>\n",
       "    <tr>\n",
       "      <th>1</th>\n",
       "      <td>Architecture</td>\n",
       "    </tr>\n",
       "    <tr>\n",
       "      <th>2</th>\n",
       "      <td>History</td>\n",
       "    </tr>\n",
       "    <tr>\n",
       "      <th>3</th>\n",
       "      <td>Fiction</td>\n",
       "    </tr>\n",
       "    <tr>\n",
       "      <th>4</th>\n",
       "      <td>Fiction</td>\n",
       "    </tr>\n",
       "  </tbody>\n",
       "</table>\n",
       "</div>"
      ],
      "text/plain": [
       "     categories\n",
       "0       Fiction\n",
       "1  Architecture\n",
       "2       History\n",
       "3       Fiction\n",
       "4       Fiction"
      ]
     },
     "execution_count": 56,
     "metadata": {},
     "output_type": "execute_result"
    }
   ],
   "source": [
    "cat_df = pd.read_csv(\"../Apriori/Dataset/book_category.csv\", converters={\"categories\": literal_eval} )\n",
    "cat_df[\"categories\"] = cat_df[\"categories\"].apply(lambda x: \"\".join(x))\n",
    "cat_df.head()"
   ]
  },
  {
   "cell_type": "code",
   "execution_count": 90,
   "metadata": {},
   "outputs": [
    {
     "data": {
      "text/html": [
       "<div>\n",
       "<style scoped>\n",
       "    .dataframe tbody tr th:only-of-type {\n",
       "        vertical-align: middle;\n",
       "    }\n",
       "\n",
       "    .dataframe tbody tr th {\n",
       "        vertical-align: top;\n",
       "    }\n",
       "\n",
       "    .dataframe thead th {\n",
       "        text-align: right;\n",
       "    }\n",
       "</style>\n",
       "<table border=\"1\" class=\"dataframe\">\n",
       "  <thead>\n",
       "    <tr style=\"text-align: right;\">\n",
       "      <th></th>\n",
       "      <th>Description</th>\n",
       "      <th>Vector</th>\n",
       "      <th>Cluster</th>\n",
       "      <th>categories</th>\n",
       "    </tr>\n",
       "  </thead>\n",
       "  <tbody>\n",
       "    <tr>\n",
       "      <th>0</th>\n",
       "      <td>['rug', 'sackett', 'famili', 'stood', 'breed',...</td>\n",
       "      <td>[1, 1, 0, 0, 0, 0, 0, 0, 0, 0, 0, 0, 0, 0, 0, ...</td>\n",
       "      <td>11</td>\n",
       "      <td>Fiction</td>\n",
       "    </tr>\n",
       "    <tr>\n",
       "      <th>1</th>\n",
       "      <td>['allinclus', 'guid', 'design', 'vacat', 'retr...</td>\n",
       "      <td>[0, 0, 1, 1, 1, 2, 0, 0, 0, 0, 0, 0, 0, 0, 0, ...</td>\n",
       "      <td>11</td>\n",
       "      <td>Architecture</td>\n",
       "    </tr>\n",
       "    <tr>\n",
       "      <th>2</th>\n",
       "      <td>['world', 'war', 'two', 'luftwaff', 'aircraft'...</td>\n",
       "      <td>[0, 0, 0, 2, 0, 0, 1, 1, 3, 0, 0, 0, 0, 0, 0, ...</td>\n",
       "      <td>13</td>\n",
       "      <td>History</td>\n",
       "    </tr>\n",
       "    <tr>\n",
       "      <th>3</th>\n",
       "      <td>['fiction', 'histori', 'fourthcenturi', 'irish...</td>\n",
       "      <td>[0, 0, 0, 1, 0, 0, 0, 0, 0, 1, 0, 0, 0, 0, 0, ...</td>\n",
       "      <td>11</td>\n",
       "      <td>Fiction</td>\n",
       "    </tr>\n",
       "    <tr>\n",
       "      <th>4</th>\n",
       "      <td>['1941', 'killakeet', 'island', 'windswept', '...</td>\n",
       "      <td>[0, 1, 0, 1, 0, 0, 0, 0, 1, 0, 2, 1, 1, 1, 1, ...</td>\n",
       "      <td>14</td>\n",
       "      <td>Fiction</td>\n",
       "    </tr>\n",
       "  </tbody>\n",
       "</table>\n",
       "</div>"
      ],
      "text/plain": [
       "                                         Description  \\\n",
       "0  ['rug', 'sackett', 'famili', 'stood', 'breed',...   \n",
       "1  ['allinclus', 'guid', 'design', 'vacat', 'retr...   \n",
       "2  ['world', 'war', 'two', 'luftwaff', 'aircraft'...   \n",
       "3  ['fiction', 'histori', 'fourthcenturi', 'irish...   \n",
       "4  ['1941', 'killakeet', 'island', 'windswept', '...   \n",
       "\n",
       "                                              Vector  Cluster    categories  \n",
       "0  [1, 1, 0, 0, 0, 0, 0, 0, 0, 0, 0, 0, 0, 0, 0, ...       11       Fiction  \n",
       "1  [0, 0, 1, 1, 1, 2, 0, 0, 0, 0, 0, 0, 0, 0, 0, ...       11  Architecture  \n",
       "2  [0, 0, 0, 2, 0, 0, 1, 1, 3, 0, 0, 0, 0, 0, 0, ...       13       History  \n",
       "3  [0, 0, 0, 1, 0, 0, 0, 0, 0, 1, 0, 0, 0, 0, 0, ...       11       Fiction  \n",
       "4  [0, 1, 0, 1, 0, 0, 0, 0, 1, 0, 2, 1, 1, 1, 1, ...       14       Fiction  "
      ]
     },
     "execution_count": 90,
     "metadata": {},
     "output_type": "execute_result"
    }
   ],
   "source": [
    "kMeansDF = pd.read_csv(\"./Output Clusters/Book/k_means_0.09_15_output.csv\" , index_col=[0], names=[\"Description\", \"Vector\", \"Cluster\"], converters={\"Transaction\": literal_eval, \"Vector\":literal_eval})\n",
    "kMeansDF = pd.concat([kMeansDF, cat_df], axis=1)\n",
    "kMeansDF.head()"
   ]
  },
  {
   "cell_type": "code",
   "execution_count": 67,
   "metadata": {},
   "outputs": [
    {
     "data": {
      "text/plain": [
       "categories\n",
       "Fiction                      1074\n",
       "Juvenile Fiction              486\n",
       "Religion                      341\n",
       "History                       247\n",
       "Biography & Autobiography     212\n",
       "Health & Fitness               69\n",
       "Family & Relationships         68\n",
       "Art                            57\n",
       "Sports & Recreation            49\n",
       "Foreign Language Study         38\n",
       "Architecture                   19\n",
       "Gardening                      18\n",
       "Name: count, dtype: int64"
      ]
     },
     "execution_count": 67,
     "metadata": {},
     "output_type": "execute_result"
    }
   ],
   "source": [
    "cluster_mapping = {}\n",
    "for cluster in kMeansDF[\"Cluster\"].unique().tolist():\n",
    "    cluster_mapping[cluster] = kMeansDF[kMeansDF[\"Cluster\"] == cluster][\"categories\"].value_counts()"
   ]
  },
  {
   "cell_type": "code",
   "execution_count": 113,
   "metadata": {},
   "outputs": [
    {
     "data": {
      "text/plain": [
       "categories\n",
       "Fiction                      106\n",
       "Biography & Autobiography     25\n",
       "Juvenile Fiction               7\n",
       "Sports & Recreation            3\n",
       "Religion                       3\n",
       "History                        3\n",
       "Health & Fitness               2\n",
       "Name: count, dtype: int64"
      ]
     },
     "execution_count": 113,
     "metadata": {},
     "output_type": "execute_result"
    }
   ],
   "source": [
    "kMeansDF[kMeansDF[\"Cluster\"] == 9][\"categories\"].value_counts()#.index"
   ]
  },
  {
   "cell_type": "code",
   "execution_count": 3,
   "metadata": {},
   "outputs": [],
   "source": [
    "# Accuracy Calculator\n",
    "import pandas as pd\n",
    "\n",
    "def get_accuracy(file_1, file_2, isBook):\n",
    "    \"\"\"Calculate accuracy by comparing cluster labels of two files\"\"\"\n",
    "    if isBook:\n",
    "        directory = \"./Output Clusters/Book/\"\n",
    "    else:\n",
    "        directory = \"./Output Clusters/Basket/\"\n",
    "    \n",
    "    # Read CSVs\n",
    "    file_1_df = pd.read_csv( directory + file_1, index_col=[0],names=[\"Description\", \"Vector\", \"Cluster 1\"])\n",
    "    file_2_df = pd.read_csv( directory + file_2, index_col=[0],names=[\"Description\", \"Vector\", \"Cluster 2\"])\n",
    "    \n",
    "    concat_df = pd.concat([file_1_df, file_2_df], axis=1)\n",
    "    \n",
    "    # Calculate Accuracy based on Cluster Column\n",
    "    concat_df[\"Accuracy\"] = concat_df[\"Cluster 1\"] == concat_df[\"Cluster 2\"]\n",
    "    \n",
    "    # Return Accuracy Score\n",
    "    return concat_df[\"Accuracy\"].value_counts(normalize=True)"
   ]
  },
  {
   "cell_type": "code",
   "execution_count": 30,
   "metadata": {},
   "outputs": [],
   "source": [
    "book_accuracy_dict = {}\n",
    "basket_accuracy_dict = {}\n",
    "for cluster in range(3,16,3):\n",
    "    book_accuracy_dict[str(cluster)] = {}\n",
    "    basket_accuracy_dict[str(cluster)] = {}\n",
    "    for min_supp in range(5,16,1): # BOOK\n",
    "        min_supp /= 100\n",
    "        book_accuracy_dict[str(cluster)][str(min_supp)] = get_accuracy(\"k_means_{}_{}_output.csv\".format(min_supp, cluster), \"k_means_full_{}_output.csv\".format(cluster),True).to_dict()\n",
    "    for min_supp in range(1,6,1) : # BASKET\n",
    "        min_supp /= 100\n",
    "        basket_accuracy_dict[str(cluster)][str(min_supp)] =get_accuracy(\"k_means_{}_{}_output.csv\".format(min_supp, cluster), \"k_means_full_{}_output.csv\".format(cluster),False).to_dict()"
   ]
  },
  {
   "cell_type": "code",
   "execution_count": 31,
   "metadata": {},
   "outputs": [
    {
     "data": {
      "text/plain": [
       "0.0766"
      ]
     },
     "execution_count": 31,
     "metadata": {},
     "output_type": "execute_result"
    }
   ],
   "source": [
    "book_accuracy_dict['3']['0.05'][True]"
   ]
  },
  {
   "cell_type": "code",
   "execution_count": 32,
   "metadata": {},
   "outputs": [
    {
     "name": "stdout",
     "output_type": "stream",
     "text": [
      "{'3': {'0': [0.4261511728931364, 0.5738488271068636], '1': [0.49675867138942725, 0.5032413286105728], '2': [0.11187596070306757, 0.8881240392969324]}, '6': {'0': [0.12089821559847624, 0.8791017844015238], '1': [0.3375325803649001, 0.6624674196350999], '2': [0.06636369711956158, 0.9336363028804384]}, '9': {'0': [0.10693042839002874, 0.8930695716099712], '1': [0.23177170353538729, 0.7682282964646128], '2': [0.0463142417964312, 0.9536857582035688]}, '12': {'0': [0.05700728463543407, 0.942992715364566], '1': [0.12480785938648667, 0.8751921406135132], '2': [0.028470226558845152, 0.9715297734411549]}, '15': {'0': [0.050591458932032346, 0.9494085410679676], '1': [0.07077457729065027, 0.9292254227093497], '2': [0.06014836596939117, 0.9398516340306088]}}\n"
     ]
    }
   ],
   "source": [
    "accuracy = {}\n",
    "# for cluster in book_accuracy_dict:\n",
    "#     accuracy[cluster] = {}\n",
    "#     accuracy[cluster][\"0\"] = [(book_accuracy_dict[cluster][\"0.05\"][True]+book_accuracy_dict[cluster][\"0.06\"][True]+book_accuracy_dict[cluster][\"0.07\"][True]+book_accuracy_dict[cluster][\"0.08\"][True])/4,\n",
    "#                               (book_accuracy_dict[cluster][\"0.05\"][False]+book_accuracy_dict[cluster][\"0.06\"][False]+book_accuracy_dict[cluster][\"0.07\"][False]+book_accuracy_dict[cluster][\"0.08\"][False])/4]\n",
    "#     accuracy[cluster][\"1\"] = [(book_accuracy_dict[cluster][\"0.09\"][True]+book_accuracy_dict[cluster][\"0.1\"][True]+book_accuracy_dict[cluster][\"0.11\"][True]+book_accuracy_dict[cluster][\"0.12\"][True])/4,\n",
    "#                               (book_accuracy_dict[cluster][\"0.09\"][False]+book_accuracy_dict[cluster][\"0.1\"][False]+book_accuracy_dict[cluster][\"0.11\"][False]+book_accuracy_dict[cluster][\"0.12\"][False])/4]\n",
    "#     accuracy[cluster][\"2\"] = [(book_accuracy_dict[cluster][\"0.13\"][True]+book_accuracy_dict[cluster][\"0.14\"][True]+book_accuracy_dict[cluster][\"0.15\"][True])/3,\n",
    "#                               (book_accuracy_dict[cluster][\"0.13\"][False]+book_accuracy_dict[cluster][\"0.14\"][False]+book_accuracy_dict[cluster][\"0.15\"][False])/3]\n",
    "\n",
    "for cluster in basket_accuracy_dict:\n",
    "    accuracy[cluster] = {}\n",
    "    accuracy[cluster][\"0\"] = [(basket_accuracy_dict[cluster][\"0.01\"][True]+basket_accuracy_dict[cluster][\"0.02\"][True])/2,\n",
    "                                (basket_accuracy_dict[cluster][\"0.01\"][False]+basket_accuracy_dict[cluster][\"0.02\"][False])/2]\n",
    "    accuracy[cluster][\"1\"] = [(basket_accuracy_dict[cluster][\"0.03\"][True]+basket_accuracy_dict[cluster][\"0.04\"][True])/2,\n",
    "                                (basket_accuracy_dict[cluster][\"0.03\"][False]+basket_accuracy_dict[cluster][\"0.04\"][False])/2]\n",
    "    accuracy[cluster][\"2\"] = [basket_accuracy_dict[cluster][\"0.05\"][True],basket_accuracy_dict[cluster][\"0.05\"][False]]\n",
    "print(accuracy)"
   ]
  },
  {
   "cell_type": "code",
   "execution_count": 29,
   "metadata": {},
   "outputs": [
    {
     "data": {
      "text/plain": [
       "{'3': {'0.01': {True: 0.7460402325736818, False: 0.25395976742631826},\n",
       "  '0.02': {True: 0.7460402325736818, False: 0.25395976742631826},\n",
       "  '0.03': {True: 0.7460402325736818, False: 0.25395976742631826},\n",
       "  '0.04': {True: 0.7460402325736818, False: 0.25395976742631826},\n",
       "  '0.05': {True: 0.7460402325736818, False: 0.25395976742631826}},\n",
       " '6': {'0.01': {False: 0.9433937044710285, True: 0.056606295528971465},\n",
       "  '0.02': {False: 0.9433937044710285, True: 0.056606295528971465},\n",
       "  '0.03': {False: 0.9433937044710285, True: 0.056606295528971465},\n",
       "  '0.04': {False: 0.9433937044710285, True: 0.056606295528971465},\n",
       "  '0.05': {False: 0.9433937044710285, True: 0.056606295528971465}},\n",
       " '9': {'0.01': {False: 0.9127180378266391, True: 0.08728196217336096},\n",
       "  '0.02': {False: 0.9127180378266391, True: 0.08728196217336096},\n",
       "  '0.03': {False: 0.9127180378266391, True: 0.08728196217336096},\n",
       "  '0.04': {False: 0.9127180378266391, True: 0.08728196217336096},\n",
       "  '0.05': {False: 0.9127180378266391, True: 0.08728196217336096}},\n",
       " '12': {'0.01': {False: 0.9774109470026064, True: 0.022589052997393572},\n",
       "  '0.02': {False: 0.9774109470026064, True: 0.022589052997393572},\n",
       "  '0.03': {False: 0.9774109470026064, True: 0.022589052997393572},\n",
       "  '0.04': {False: 0.9774109470026064, True: 0.022589052997393572},\n",
       "  '0.05': {False: 0.9774109470026064, True: 0.022589052997393572}},\n",
       " '15': {'0.01': {False: 0.9428590523290784, True: 0.05714094767092161},\n",
       "  '0.02': {False: 0.9428590523290784, True: 0.05714094767092161},\n",
       "  '0.03': {False: 0.9428590523290784, True: 0.05714094767092161},\n",
       "  '0.04': {False: 0.9428590523290784, True: 0.05714094767092161},\n",
       "  '0.05': {False: 0.9428590523290784, True: 0.05714094767092161}}}"
      ]
     },
     "execution_count": 29,
     "metadata": {},
     "output_type": "execute_result"
    }
   ],
   "source": [
    "basket_accuracy_dict"
   ]
  },
  {
   "cell_type": "markdown",
   "metadata": {},
   "source": [
    "# Evaluation for DBScan"
   ]
  },
  {
   "cell_type": "code",
   "execution_count": 18,
   "metadata": {},
   "outputs": [
    {
     "data": {
      "text/html": [
       "<div>\n",
       "<style scoped>\n",
       "    .dataframe tbody tr th:only-of-type {\n",
       "        vertical-align: middle;\n",
       "    }\n",
       "\n",
       "    .dataframe tbody tr th {\n",
       "        vertical-align: top;\n",
       "    }\n",
       "\n",
       "    .dataframe thead th {\n",
       "        text-align: right;\n",
       "    }\n",
       "</style>\n",
       "<table border=\"1\" class=\"dataframe\">\n",
       "  <thead>\n",
       "    <tr style=\"text-align: right;\">\n",
       "      <th></th>\n",
       "      <th>Description</th>\n",
       "      <th>Vector</th>\n",
       "      <th>Cluster</th>\n",
       "    </tr>\n",
       "  </thead>\n",
       "  <tbody>\n",
       "    <tr>\n",
       "      <th>0</th>\n",
       "      <td>[rug, sackett, famili, stood, breed, apart, fe...</td>\n",
       "      <td>[1, 1, 0, 0, 0, 0, 0, 0, 0, 0, 0, 0, 0, 0, 0, ...</td>\n",
       "      <td>0</td>\n",
       "    </tr>\n",
       "    <tr>\n",
       "      <th>1</th>\n",
       "      <td>[allinclus, guid, design, vacat, retreat, hosp...</td>\n",
       "      <td>[0, 0, 2, 1, 2, 1, 1, 1, 1, 1, 1, 1, 1, 0, 0, ...</td>\n",
       "      <td>0</td>\n",
       "    </tr>\n",
       "    <tr>\n",
       "      <th>2</th>\n",
       "      <td>[world, war, two, luftwaff, aircraft, pilot, s...</td>\n",
       "      <td>[0, 0, 0, 2, 0, 0, 0, 0, 0, 0, 0, 0, 0, 1, 1, ...</td>\n",
       "      <td>0</td>\n",
       "    </tr>\n",
       "    <tr>\n",
       "      <th>3</th>\n",
       "      <td>[fiction, histori, fourthcenturi, irish, monk,...</td>\n",
       "      <td>[0, 0, 0, 1, 0, 0, 0, 0, 0, 0, 0, 0, 0, 0, 0, ...</td>\n",
       "      <td>0</td>\n",
       "    </tr>\n",
       "    <tr>\n",
       "      <th>4</th>\n",
       "      <td>[1941, killakeet, island, windswept, outer, ba...</td>\n",
       "      <td>[0, 1, 0, 1, 0, 0, 0, 0, 0, 0, 0, 0, 0, 0, 0, ...</td>\n",
       "      <td>-1</td>\n",
       "    </tr>\n",
       "  </tbody>\n",
       "</table>\n",
       "</div>"
      ],
      "text/plain": [
       "                                         Description  \\\n",
       "0  [rug, sackett, famili, stood, breed, apart, fe...   \n",
       "1  [allinclus, guid, design, vacat, retreat, hosp...   \n",
       "2  [world, war, two, luftwaff, aircraft, pilot, s...   \n",
       "3  [fiction, histori, fourthcenturi, irish, monk,...   \n",
       "4  [1941, killakeet, island, windswept, outer, ba...   \n",
       "\n",
       "                                              Vector  Cluster  \n",
       "0  [1, 1, 0, 0, 0, 0, 0, 0, 0, 0, 0, 0, 0, 0, 0, ...        0  \n",
       "1  [0, 0, 2, 1, 2, 1, 1, 1, 1, 1, 1, 1, 1, 0, 0, ...        0  \n",
       "2  [0, 0, 0, 2, 0, 0, 0, 0, 0, 0, 0, 0, 0, 1, 1, ...        0  \n",
       "3  [0, 0, 0, 1, 0, 0, 0, 0, 0, 0, 0, 0, 0, 0, 0, ...        0  \n",
       "4  [0, 1, 0, 1, 0, 0, 0, 0, 0, 0, 0, 0, 0, 0, 0, ...       -1  "
      ]
     },
     "execution_count": 18,
     "metadata": {},
     "output_type": "execute_result"
    }
   ],
   "source": [
    "# Load Clustering results\n",
    "dbScanDF = pd.read_csv(\"./Output Clusters/Book/dbscan_0.0{}_{}_output.csv\".format(5,0.5) , index_col=[0], names=[\"Description\", \"Vector\", \"Cluster\"], converters={\"Description\": literal_eval, \"Vector\":literal_eval})\n",
    "dbScanDF.head()"
   ]
  },
  {
   "cell_type": "code",
   "execution_count": 19,
   "metadata": {},
   "outputs": [
    {
     "data": {
      "text/plain": [
       "-0.04678420607482126"
      ]
     },
     "execution_count": 19,
     "metadata": {},
     "output_type": "execute_result"
    }
   ],
   "source": [
    "# Getting Sihoulette Score\n",
    "silhouette_score(list(dbScanDF[\"Vector\"]), list(dbScanDF[\"Cluster\"]))"
   ]
  },
  {
   "cell_type": "code",
   "execution_count": 14,
   "metadata": {},
   "outputs": [
    {
     "data": {
      "text/plain": [
       "5.765933014135346"
      ]
     },
     "execution_count": 14,
     "metadata": {},
     "output_type": "execute_result"
    }
   ],
   "source": [
    "# Getting Calinski Harabasz Score\n",
    "calinski_harabasz_score(list(dbScanDF[\"Vector\"]), list(dbScanDF[\"Cluster\"]))"
   ]
  },
  {
   "cell_type": "code",
   "execution_count": 15,
   "metadata": {},
   "outputs": [
    {
     "data": {
      "text/plain": [
       "2.4151104569121853"
      ]
     },
     "execution_count": 15,
     "metadata": {},
     "output_type": "execute_result"
    }
   ],
   "source": [
    "# Getting Sihoulette Score\n",
    "davies_bouldin_score(list(dbScanDF[\"Vector\"]), list(dbScanDF[\"Cluster\"]))"
   ]
  },
  {
   "cell_type": "code",
   "execution_count": 29,
   "metadata": {},
   "outputs": [],
   "source": [
    "sil_dict = {}\n",
    "cal_dict = {}\n",
    "dav_dict = {}\n",
    "\n",
    "for i in range(5,10,1):\n",
    "    sil_dict[\"book-{}\".format(i)] = {}\n",
    "    cal_dict[\"book-{}\".format(i)] = {}\n",
    "    dav_dict[\"book-{}\".format(i)] = {}\n",
    "    for j in range(10,51,5):\n",
    "        j /= 100\n",
    "        \n",
    "        # Read Output CSV\n",
    "        dbScanDF = pd.read_csv(\"./Output Clusters/Book/dbscan_0.0{}_{}_output.csv\".format(i,j) , index_col=[0], names=[\"Description\", \"Vector\", \"Cluster\"], converters={\"Description\": literal_eval, \"Vector\":literal_eval})\n",
    "\n",
    "        try:\n",
    "            # Getting Sihoulette Score\n",
    "            sil_dict[\"book-{}\".format(i)][str(j)] = silhouette_score(list(dbScanDF[\"Vector\"]), list(dbScanDF[\"Cluster\"]))\n",
    "\n",
    "            # Getting Calinski Harabasz Score\n",
    "            cal_dict[\"book-{}\".format(i)][str(j)] = calinski_harabasz_score(list(dbScanDF[\"Vector\"]), list(dbScanDF[\"Cluster\"]))\n",
    "\n",
    "            # Getting Sihoulette Score\n",
    "            dav_dict[\"book-{}\".format(i)][str(j)] = davies_bouldin_score(list(dbScanDF[\"Vector\"]), list(dbScanDF[\"Cluster\"]))\n",
    "        \n",
    "        except ValueError as e:\n",
    "            sil_dict[\"book-{}\".format(i)][str(j)] = \"-\"\n",
    "            cal_dict[\"book-{}\".format(i)][str(j)] = \"-\"\n",
    "            dav_dict[\"book-{}\".format(i)][str(j)] = \"-\""
   ]
  },
  {
   "cell_type": "code",
   "execution_count": 30,
   "metadata": {},
   "outputs": [
    {
     "data": {
      "text/html": [
       "<div>\n",
       "<style scoped>\n",
       "    .dataframe tbody tr th:only-of-type {\n",
       "        vertical-align: middle;\n",
       "    }\n",
       "\n",
       "    .dataframe tbody tr th {\n",
       "        vertical-align: top;\n",
       "    }\n",
       "\n",
       "    .dataframe thead th {\n",
       "        text-align: right;\n",
       "    }\n",
       "</style>\n",
       "<table border=\"1\" class=\"dataframe\">\n",
       "  <thead>\n",
       "    <tr style=\"text-align: right;\">\n",
       "      <th></th>\n",
       "      <th>0.1</th>\n",
       "      <th>0.15</th>\n",
       "      <th>0.2</th>\n",
       "      <th>0.25</th>\n",
       "      <th>0.3</th>\n",
       "      <th>0.35</th>\n",
       "      <th>0.4</th>\n",
       "      <th>0.45</th>\n",
       "      <th>0.5</th>\n",
       "    </tr>\n",
       "  </thead>\n",
       "  <tbody>\n",
       "    <tr>\n",
       "      <th>book-5</th>\n",
       "      <td>-0.343905</td>\n",
       "      <td>-0.344695</td>\n",
       "      <td>-0.333420</td>\n",
       "      <td>-0.328482</td>\n",
       "      <td>-0.272339</td>\n",
       "      <td>-0.260714</td>\n",
       "      <td>-0.262380</td>\n",
       "      <td>-0.161783</td>\n",
       "      <td>-0.065702</td>\n",
       "    </tr>\n",
       "    <tr>\n",
       "      <th>book-6</th>\n",
       "      <td>-0.343668</td>\n",
       "      <td>-0.341067</td>\n",
       "      <td>-0.323939</td>\n",
       "      <td>-0.312285</td>\n",
       "      <td>-0.105451</td>\n",
       "      <td>-0.271215</td>\n",
       "      <td>-0.220687</td>\n",
       "      <td>-0.086474</td>\n",
       "      <td>-0.242031</td>\n",
       "    </tr>\n",
       "    <tr>\n",
       "      <th>book-7</th>\n",
       "      <td>-0.325775</td>\n",
       "      <td>-0.322066</td>\n",
       "      <td>-0.329626</td>\n",
       "      <td>-0.319768</td>\n",
       "      <td>0.018018</td>\n",
       "      <td>-0.016076</td>\n",
       "      <td>-0.108320</td>\n",
       "      <td>-0.254966</td>\n",
       "      <td>-0.283248</td>\n",
       "    </tr>\n",
       "    <tr>\n",
       "      <th>book-8</th>\n",
       "      <td>-0.297810</td>\n",
       "      <td>-0.298917</td>\n",
       "      <td>-0.327635</td>\n",
       "      <td>-0.324965</td>\n",
       "      <td>-0.009781</td>\n",
       "      <td>-0.109162</td>\n",
       "      <td>-0.237618</td>\n",
       "      <td>-0.262960</td>\n",
       "      <td>-0.262960</td>\n",
       "    </tr>\n",
       "    <tr>\n",
       "      <th>book-9</th>\n",
       "      <td>-0.281084</td>\n",
       "      <td>-0.306494</td>\n",
       "      <td>-0.321878</td>\n",
       "      <td>-0.213905</td>\n",
       "      <td>-0.166446</td>\n",
       "      <td>-0.216568</td>\n",
       "      <td>-0.220111</td>\n",
       "      <td>-0.220111</td>\n",
       "      <td>-0.220111</td>\n",
       "    </tr>\n",
       "  </tbody>\n",
       "</table>\n",
       "</div>"
      ],
      "text/plain": [
       "             0.1      0.15       0.2      0.25       0.3      0.35       0.4  \\\n",
       "book-5 -0.343905 -0.344695 -0.333420 -0.328482 -0.272339 -0.260714 -0.262380   \n",
       "book-6 -0.343668 -0.341067 -0.323939 -0.312285 -0.105451 -0.271215 -0.220687   \n",
       "book-7 -0.325775 -0.322066 -0.329626 -0.319768  0.018018 -0.016076 -0.108320   \n",
       "book-8 -0.297810 -0.298917 -0.327635 -0.324965 -0.009781 -0.109162 -0.237618   \n",
       "book-9 -0.281084 -0.306494 -0.321878 -0.213905 -0.166446 -0.216568 -0.220111   \n",
       "\n",
       "            0.45       0.5  \n",
       "book-5 -0.161783 -0.065702  \n",
       "book-6 -0.086474 -0.242031  \n",
       "book-7 -0.254966 -0.283248  \n",
       "book-8 -0.262960 -0.262960  \n",
       "book-9 -0.220111 -0.220111  "
      ]
     },
     "execution_count": 30,
     "metadata": {},
     "output_type": "execute_result"
    }
   ],
   "source": [
    "pd.DataFrame(sil_dict).transpose()"
   ]
  },
  {
   "cell_type": "code",
   "execution_count": 31,
   "metadata": {},
   "outputs": [
    {
     "data": {
      "text/html": [
       "<div>\n",
       "<style scoped>\n",
       "    .dataframe tbody tr th:only-of-type {\n",
       "        vertical-align: middle;\n",
       "    }\n",
       "\n",
       "    .dataframe tbody tr th {\n",
       "        vertical-align: top;\n",
       "    }\n",
       "\n",
       "    .dataframe thead th {\n",
       "        text-align: right;\n",
       "    }\n",
       "</style>\n",
       "<table border=\"1\" class=\"dataframe\">\n",
       "  <thead>\n",
       "    <tr style=\"text-align: right;\">\n",
       "      <th></th>\n",
       "      <th>0.1</th>\n",
       "      <th>0.15</th>\n",
       "      <th>0.2</th>\n",
       "      <th>0.25</th>\n",
       "      <th>0.3</th>\n",
       "      <th>0.35</th>\n",
       "      <th>0.4</th>\n",
       "      <th>0.45</th>\n",
       "      <th>0.5</th>\n",
       "    </tr>\n",
       "  </thead>\n",
       "  <tbody>\n",
       "    <tr>\n",
       "      <th>book-5</th>\n",
       "      <td>3.400456</td>\n",
       "      <td>2.968857</td>\n",
       "      <td>2.985354</td>\n",
       "      <td>5.525633</td>\n",
       "      <td>12.808625</td>\n",
       "      <td>12.786376</td>\n",
       "      <td>6.838096</td>\n",
       "      <td>5.063745</td>\n",
       "      <td>9.395574</td>\n",
       "    </tr>\n",
       "    <tr>\n",
       "      <th>book-6</th>\n",
       "      <td>2.381124</td>\n",
       "      <td>2.809465</td>\n",
       "      <td>5.309863</td>\n",
       "      <td>5.606625</td>\n",
       "      <td>18.463977</td>\n",
       "      <td>7.575156</td>\n",
       "      <td>8.094107</td>\n",
       "      <td>8.666053</td>\n",
       "      <td>17.573602</td>\n",
       "    </tr>\n",
       "    <tr>\n",
       "      <th>book-7</th>\n",
       "      <td>2.814564</td>\n",
       "      <td>3.781388</td>\n",
       "      <td>3.771143</td>\n",
       "      <td>5.354510</td>\n",
       "      <td>27.144224</td>\n",
       "      <td>16.266177</td>\n",
       "      <td>22.406561</td>\n",
       "      <td>32.667293</td>\n",
       "      <td>34.797558</td>\n",
       "    </tr>\n",
       "    <tr>\n",
       "      <th>book-8</th>\n",
       "      <td>2.892360</td>\n",
       "      <td>4.792751</td>\n",
       "      <td>4.418820</td>\n",
       "      <td>4.134588</td>\n",
       "      <td>8.637037</td>\n",
       "      <td>26.457468</td>\n",
       "      <td>43.687259</td>\n",
       "      <td>47.556761</td>\n",
       "      <td>47.556761</td>\n",
       "    </tr>\n",
       "    <tr>\n",
       "      <th>book-9</th>\n",
       "      <td>5.865369</td>\n",
       "      <td>6.963983</td>\n",
       "      <td>5.420420</td>\n",
       "      <td>8.330591</td>\n",
       "      <td>61.106767</td>\n",
       "      <td>77.462961</td>\n",
       "      <td>78.239265</td>\n",
       "      <td>78.239265</td>\n",
       "      <td>78.239265</td>\n",
       "    </tr>\n",
       "  </tbody>\n",
       "</table>\n",
       "</div>"
      ],
      "text/plain": [
       "             0.1      0.15       0.2      0.25        0.3       0.35  \\\n",
       "book-5  3.400456  2.968857  2.985354  5.525633  12.808625  12.786376   \n",
       "book-6  2.381124  2.809465  5.309863  5.606625  18.463977   7.575156   \n",
       "book-7  2.814564  3.781388  3.771143  5.354510  27.144224  16.266177   \n",
       "book-8  2.892360  4.792751  4.418820  4.134588   8.637037  26.457468   \n",
       "book-9  5.865369  6.963983  5.420420  8.330591  61.106767  77.462961   \n",
       "\n",
       "              0.4       0.45        0.5  \n",
       "book-5   6.838096   5.063745   9.395574  \n",
       "book-6   8.094107   8.666053  17.573602  \n",
       "book-7  22.406561  32.667293  34.797558  \n",
       "book-8  43.687259  47.556761  47.556761  \n",
       "book-9  78.239265  78.239265  78.239265  "
      ]
     },
     "execution_count": 31,
     "metadata": {},
     "output_type": "execute_result"
    }
   ],
   "source": [
    "pd.DataFrame(cal_dict).transpose()"
   ]
  },
  {
   "cell_type": "code",
   "execution_count": 32,
   "metadata": {},
   "outputs": [
    {
     "data": {
      "text/html": [
       "<div>\n",
       "<style scoped>\n",
       "    .dataframe tbody tr th:only-of-type {\n",
       "        vertical-align: middle;\n",
       "    }\n",
       "\n",
       "    .dataframe tbody tr th {\n",
       "        vertical-align: top;\n",
       "    }\n",
       "\n",
       "    .dataframe thead th {\n",
       "        text-align: right;\n",
       "    }\n",
       "</style>\n",
       "<table border=\"1\" class=\"dataframe\">\n",
       "  <thead>\n",
       "    <tr style=\"text-align: right;\">\n",
       "      <th></th>\n",
       "      <th>0.1</th>\n",
       "      <th>0.15</th>\n",
       "      <th>0.2</th>\n",
       "      <th>0.25</th>\n",
       "      <th>0.3</th>\n",
       "      <th>0.35</th>\n",
       "      <th>0.4</th>\n",
       "      <th>0.45</th>\n",
       "      <th>0.5</th>\n",
       "    </tr>\n",
       "  </thead>\n",
       "  <tbody>\n",
       "    <tr>\n",
       "      <th>book-5</th>\n",
       "      <td>2.121804</td>\n",
       "      <td>2.352520</td>\n",
       "      <td>2.371653</td>\n",
       "      <td>2.372556</td>\n",
       "      <td>2.979637</td>\n",
       "      <td>4.322082</td>\n",
       "      <td>4.479357</td>\n",
       "      <td>9.146329</td>\n",
       "      <td>11.644301</td>\n",
       "    </tr>\n",
       "    <tr>\n",
       "      <th>book-6</th>\n",
       "      <td>2.220535</td>\n",
       "      <td>2.257321</td>\n",
       "      <td>2.375476</td>\n",
       "      <td>2.484931</td>\n",
       "      <td>5.522135</td>\n",
       "      <td>4.762072</td>\n",
       "      <td>10.245109</td>\n",
       "      <td>6.826574</td>\n",
       "      <td>3.904613</td>\n",
       "    </tr>\n",
       "    <tr>\n",
       "      <th>book-7</th>\n",
       "      <td>2.052546</td>\n",
       "      <td>2.149731</td>\n",
       "      <td>2.412308</td>\n",
       "      <td>2.579195</td>\n",
       "      <td>11.722062</td>\n",
       "      <td>13.154044</td>\n",
       "      <td>7.126223</td>\n",
       "      <td>2.906185</td>\n",
       "      <td>2.354735</td>\n",
       "    </tr>\n",
       "    <tr>\n",
       "      <th>book-8</th>\n",
       "      <td>1.977967</td>\n",
       "      <td>2.123940</td>\n",
       "      <td>2.342516</td>\n",
       "      <td>2.801202</td>\n",
       "      <td>10.088414</td>\n",
       "      <td>6.820310</td>\n",
       "      <td>2.777111</td>\n",
       "      <td>2.255888</td>\n",
       "      <td>2.255888</td>\n",
       "    </tr>\n",
       "    <tr>\n",
       "      <th>book-9</th>\n",
       "      <td>1.938843</td>\n",
       "      <td>2.214234</td>\n",
       "      <td>3.030593</td>\n",
       "      <td>5.973480</td>\n",
       "      <td>3.432303</td>\n",
       "      <td>2.175628</td>\n",
       "      <td>2.101011</td>\n",
       "      <td>2.101011</td>\n",
       "      <td>2.101011</td>\n",
       "    </tr>\n",
       "  </tbody>\n",
       "</table>\n",
       "</div>"
      ],
      "text/plain": [
       "             0.1      0.15       0.2      0.25        0.3       0.35  \\\n",
       "book-5  2.121804  2.352520  2.371653  2.372556   2.979637   4.322082   \n",
       "book-6  2.220535  2.257321  2.375476  2.484931   5.522135   4.762072   \n",
       "book-7  2.052546  2.149731  2.412308  2.579195  11.722062  13.154044   \n",
       "book-8  1.977967  2.123940  2.342516  2.801202  10.088414   6.820310   \n",
       "book-9  1.938843  2.214234  3.030593  5.973480   3.432303   2.175628   \n",
       "\n",
       "              0.4      0.45        0.5  \n",
       "book-5   4.479357  9.146329  11.644301  \n",
       "book-6  10.245109  6.826574   3.904613  \n",
       "book-7   7.126223  2.906185   2.354735  \n",
       "book-8   2.777111  2.255888   2.255888  \n",
       "book-9   2.101011  2.101011   2.101011  "
      ]
     },
     "execution_count": 32,
     "metadata": {},
     "output_type": "execute_result"
    }
   ],
   "source": [
    "pd.DataFrame(dav_dict).transpose()"
   ]
  },
  {
   "cell_type": "markdown",
   "metadata": {},
   "source": [
    "# Evaluation for Hierarchical Clustering"
   ]
  },
  {
   "cell_type": "code",
   "execution_count": 80,
   "metadata": {},
   "outputs": [
    {
     "name": "stdout",
     "output_type": "stream",
     "text": [
      "['basket_0.01_freq_vector_hc_12.csv', 'basket_0.01_freq_vector_hc_15.csv', 'basket_0.01_freq_vector_hc_3.csv', 'basket_0.01_freq_vector_hc_6.csv', 'basket_0.01_freq_vector_hc_9.csv', 'basket_0.02_freq_vector_hc_12.csv', 'basket_0.02_freq_vector_hc_15.csv', 'basket_0.02_freq_vector_hc_3.csv', 'basket_0.02_freq_vector_hc_6.csv', 'basket_0.02_freq_vector_hc_9.csv', 'basket_0.03_freq_vector_hc_12.csv', 'basket_0.03_freq_vector_hc_15.csv', 'basket_0.03_freq_vector_hc_3.csv', 'basket_0.03_freq_vector_hc_6.csv', 'basket_0.03_freq_vector_hc_9.csv', 'basket_0.04_freq_vector_hc_12.csv', 'basket_0.04_freq_vector_hc_15.csv', 'basket_0.04_freq_vector_hc_3.csv', 'basket_0.04_freq_vector_hc_6.csv', 'basket_0.04_freq_vector_hc_9.csv', 'basket_0.05_freq_vector_hc_12.csv', 'basket_0.05_freq_vector_hc_15.csv', 'basket_0.05_freq_vector_hc_3.csv', 'basket_0.05_freq_vector_hc_6.csv', 'basket_0.05_freq_vector_hc_9.csv']\n",
      "['basket_vector_hc_3.csv', 'basket_vector_hc_6.csv', 'basket_vector_hc_9.csv', 'basket_vector_hc_12.csv', 'basket_vector_hc_15.csv']\n"
     ]
    },
    {
     "name": "stderr",
     "output_type": "stream",
     "text": [
      "/var/folders/2q/bjqpws1153b0_y18lhffmh_m0000gn/T/ipykernel_72215/3652583267.py:78: FutureWarning: The frame.append method is deprecated and will be removed from pandas in a future version. Use pandas.concat instead.\n",
      "  df = df.append(accuracy_list, ignore_index=True)\n",
      "/var/folders/2q/bjqpws1153b0_y18lhffmh_m0000gn/T/ipykernel_72215/3652583267.py:78: FutureWarning: The frame.append method is deprecated and will be removed from pandas in a future version. Use pandas.concat instead.\n",
      "  df = df.append(accuracy_list, ignore_index=True)\n",
      "/var/folders/2q/bjqpws1153b0_y18lhffmh_m0000gn/T/ipykernel_72215/3652583267.py:78: FutureWarning: The frame.append method is deprecated and will be removed from pandas in a future version. Use pandas.concat instead.\n",
      "  df = df.append(accuracy_list, ignore_index=True)\n",
      "/var/folders/2q/bjqpws1153b0_y18lhffmh_m0000gn/T/ipykernel_72215/3652583267.py:78: FutureWarning: The frame.append method is deprecated and will be removed from pandas in a future version. Use pandas.concat instead.\n",
      "  df = df.append(accuracy_list, ignore_index=True)\n",
      "/var/folders/2q/bjqpws1153b0_y18lhffmh_m0000gn/T/ipykernel_72215/3652583267.py:78: FutureWarning: The frame.append method is deprecated and will be removed from pandas in a future version. Use pandas.concat instead.\n",
      "  df = df.append(accuracy_list, ignore_index=True)\n"
     ]
    },
    {
     "name": "stdout",
     "output_type": "stream",
     "text": [
      "[['basket_vector_hc_15.csv', 'basket_0.01_freq_vector_hc_15.csv', 0.034351400120296735], ['basket_vector_hc_15.csv', 'basket_0.02_freq_vector_hc_15.csv', 0.45345184789146564], ['basket_vector_hc_15.csv', 'basket_0.03_freq_vector_hc_15.csv', 0.4275880505246274], ['basket_vector_hc_15.csv', 'basket_0.04_freq_vector_hc_15.csv', 0.28623939049655817], ['basket_vector_hc_15.csv', 'basket_0.05_freq_vector_hc_15.csv', 0.024527167011962843]]\n",
      "['book_0.05_freq_vector_hc_12.csv', 'book_0.05_freq_vector_hc_15.csv', 'book_0.05_freq_vector_hc_3.csv', 'book_0.05_freq_vector_hc_6.csv', 'book_0.05_freq_vector_hc_9.csv', 'book_0.06_freq_vector_hc_12.csv', 'book_0.06_freq_vector_hc_15.csv', 'book_0.06_freq_vector_hc_3.csv', 'book_0.06_freq_vector_hc_6.csv', 'book_0.06_freq_vector_hc_9.csv', 'book_0.07_freq_vector_hc_12.csv', 'book_0.07_freq_vector_hc_15.csv', 'book_0.07_freq_vector_hc_3.csv', 'book_0.07_freq_vector_hc_6.csv', 'book_0.07_freq_vector_hc_9.csv', 'book_0.08_freq_vector_hc_12.csv', 'book_0.08_freq_vector_hc_15.csv', 'book_0.08_freq_vector_hc_3.csv', 'book_0.08_freq_vector_hc_6.csv', 'book_0.08_freq_vector_hc_9.csv', 'book_0.09_freq_vector_hc_12.csv', 'book_0.09_freq_vector_hc_15.csv', 'book_0.09_freq_vector_hc_3.csv', 'book_0.09_freq_vector_hc_6.csv', 'book_0.09_freq_vector_hc_9.csv', 'book_0.11_freq_vector_hc_12.csv', 'book_0.11_freq_vector_hc_15.csv', 'book_0.11_freq_vector_hc_3.csv', 'book_0.11_freq_vector_hc_6.csv', 'book_0.11_freq_vector_hc_9.csv', 'book_0.12_freq_vector_hc_12.csv', 'book_0.12_freq_vector_hc_15.csv', 'book_0.12_freq_vector_hc_3.csv', 'book_0.12_freq_vector_hc_6.csv', 'book_0.12_freq_vector_hc_9.csv', 'book_0.13_freq_vector_hc_12.csv', 'book_0.13_freq_vector_hc_15.csv', 'book_0.13_freq_vector_hc_3.csv', 'book_0.13_freq_vector_hc_6.csv', 'book_0.13_freq_vector_hc_9.csv', 'book_0.14_freq_vector_hc_12.csv', 'book_0.14_freq_vector_hc_15.csv', 'book_0.14_freq_vector_hc_3.csv', 'book_0.14_freq_vector_hc_6.csv', 'book_0.14_freq_vector_hc_9.csv', 'book_0.15_freq_vector_hc_12.csv', 'book_0.15_freq_vector_hc_15.csv', 'book_0.15_freq_vector_hc_3.csv', 'book_0.15_freq_vector_hc_6.csv', 'book_0.15_freq_vector_hc_9.csv', 'book_0.1_freq_vector_hc_12.csv', 'book_0.1_freq_vector_hc_15.csv', 'book_0.1_freq_vector_hc_3.csv', 'book_0.1_freq_vector_hc_6.csv', 'book_0.1_freq_vector_hc_9.csv']\n",
      "['book_vector_hc_3.csv', 'book_vector_hc_6.csv', 'book_vector_hc_9.csv', 'book_vector_hc_12.csv', 'book_vector_hc_15.csv']\n"
     ]
    },
    {
     "name": "stderr",
     "output_type": "stream",
     "text": [
      "/var/folders/2q/bjqpws1153b0_y18lhffmh_m0000gn/T/ipykernel_72215/3652583267.py:78: FutureWarning: The frame.append method is deprecated and will be removed from pandas in a future version. Use pandas.concat instead.\n",
      "  df = df.append(accuracy_list, ignore_index=True)\n",
      "/var/folders/2q/bjqpws1153b0_y18lhffmh_m0000gn/T/ipykernel_72215/3652583267.py:78: FutureWarning: The frame.append method is deprecated and will be removed from pandas in a future version. Use pandas.concat instead.\n",
      "  df = df.append(accuracy_list, ignore_index=True)\n",
      "/var/folders/2q/bjqpws1153b0_y18lhffmh_m0000gn/T/ipykernel_72215/3652583267.py:78: FutureWarning: The frame.append method is deprecated and will be removed from pandas in a future version. Use pandas.concat instead.\n",
      "  df = df.append(accuracy_list, ignore_index=True)\n",
      "/var/folders/2q/bjqpws1153b0_y18lhffmh_m0000gn/T/ipykernel_72215/3652583267.py:78: FutureWarning: The frame.append method is deprecated and will be removed from pandas in a future version. Use pandas.concat instead.\n",
      "  df = df.append(accuracy_list, ignore_index=True)\n"
     ]
    },
    {
     "name": "stdout",
     "output_type": "stream",
     "text": [
      "[['book_vector_hc_15.csv', 'book_0.05_freq_vector_hc_15.csv', 0.1116], ['book_vector_hc_15.csv', 'book_0.06_freq_vector_hc_15.csv', 0.053], ['book_vector_hc_15.csv', 'book_0.07_freq_vector_hc_15.csv', 0.0044], ['book_vector_hc_15.csv', 'book_0.08_freq_vector_hc_15.csv', 0.0948], ['book_vector_hc_15.csv', 'book_0.09_freq_vector_hc_15.csv', 0.022], ['book_vector_hc_15.csv', 'book_0.11_freq_vector_hc_15.csv', 0.0458], ['book_vector_hc_15.csv', 'book_0.12_freq_vector_hc_15.csv', 0.034], ['book_vector_hc_15.csv', 'book_0.13_freq_vector_hc_15.csv', 0.0152], ['book_vector_hc_15.csv', 'book_0.14_freq_vector_hc_15.csv', 0.044], ['book_vector_hc_15.csv', 'book_0.15_freq_vector_hc_15.csv', 0.216], ['book_vector_hc_15.csv', 'book_0.1_freq_vector_hc_15.csv', 0.0252]]\n"
     ]
    },
    {
     "name": "stderr",
     "output_type": "stream",
     "text": [
      "/var/folders/2q/bjqpws1153b0_y18lhffmh_m0000gn/T/ipykernel_72215/3652583267.py:78: FutureWarning: The frame.append method is deprecated and will be removed from pandas in a future version. Use pandas.concat instead.\n",
      "  df = df.append(accuracy_list, ignore_index=True)\n"
     ]
    },
    {
     "data": {
      "text/html": [
       "<div>\n",
       "<style scoped>\n",
       "    .dataframe tbody tr th:only-of-type {\n",
       "        vertical-align: middle;\n",
       "    }\n",
       "\n",
       "    .dataframe tbody tr th {\n",
       "        vertical-align: top;\n",
       "    }\n",
       "\n",
       "    .dataframe thead th {\n",
       "        text-align: right;\n",
       "    }\n",
       "</style>\n",
       "<table border=\"1\" class=\"dataframe\">\n",
       "  <thead>\n",
       "    <tr style=\"text-align: right;\">\n",
       "      <th></th>\n",
       "      <th>Original</th>\n",
       "      <th>Freq</th>\n",
       "      <th>Accuracy</th>\n",
       "      <th>0</th>\n",
       "      <th>1</th>\n",
       "      <th>2</th>\n",
       "    </tr>\n",
       "  </thead>\n",
       "  <tbody>\n",
       "    <tr>\n",
       "      <th>0</th>\n",
       "      <td>NaN</td>\n",
       "      <td>NaN</td>\n",
       "      <td>NaN</td>\n",
       "      <td>book_vector_hc_3.csv</td>\n",
       "      <td>book_0.05_freq_vector_hc_3.csv</td>\n",
       "      <td>0.0994</td>\n",
       "    </tr>\n",
       "    <tr>\n",
       "      <th>1</th>\n",
       "      <td>NaN</td>\n",
       "      <td>NaN</td>\n",
       "      <td>NaN</td>\n",
       "      <td>book_vector_hc_3.csv</td>\n",
       "      <td>book_0.06_freq_vector_hc_3.csv</td>\n",
       "      <td>0.1004</td>\n",
       "    </tr>\n",
       "    <tr>\n",
       "      <th>2</th>\n",
       "      <td>NaN</td>\n",
       "      <td>NaN</td>\n",
       "      <td>NaN</td>\n",
       "      <td>book_vector_hc_3.csv</td>\n",
       "      <td>book_0.07_freq_vector_hc_3.csv</td>\n",
       "      <td>0.1432</td>\n",
       "    </tr>\n",
       "    <tr>\n",
       "      <th>3</th>\n",
       "      <td>NaN</td>\n",
       "      <td>NaN</td>\n",
       "      <td>NaN</td>\n",
       "      <td>book_vector_hc_3.csv</td>\n",
       "      <td>book_0.08_freq_vector_hc_3.csv</td>\n",
       "      <td>0.0978</td>\n",
       "    </tr>\n",
       "    <tr>\n",
       "      <th>4</th>\n",
       "      <td>NaN</td>\n",
       "      <td>NaN</td>\n",
       "      <td>NaN</td>\n",
       "      <td>book_vector_hc_3.csv</td>\n",
       "      <td>book_0.09_freq_vector_hc_3.csv</td>\n",
       "      <td>0.0476</td>\n",
       "    </tr>\n",
       "  </tbody>\n",
       "</table>\n",
       "</div>"
      ],
      "text/plain": [
       "  Original Freq Accuracy                     0  \\\n",
       "0      NaN  NaN      NaN  book_vector_hc_3.csv   \n",
       "1      NaN  NaN      NaN  book_vector_hc_3.csv   \n",
       "2      NaN  NaN      NaN  book_vector_hc_3.csv   \n",
       "3      NaN  NaN      NaN  book_vector_hc_3.csv   \n",
       "4      NaN  NaN      NaN  book_vector_hc_3.csv   \n",
       "\n",
       "                                1       2  \n",
       "0  book_0.05_freq_vector_hc_3.csv  0.0994  \n",
       "1  book_0.06_freq_vector_hc_3.csv  0.1004  \n",
       "2  book_0.07_freq_vector_hc_3.csv  0.1432  \n",
       "3  book_0.08_freq_vector_hc_3.csv  0.0978  \n",
       "4  book_0.09_freq_vector_hc_3.csv  0.0476  "
      ]
     },
     "execution_count": 80,
     "metadata": {},
     "output_type": "execute_result"
    }
   ],
   "source": [
    "# Accuracy Calculator\n",
    "import pandas as pd\n",
    "import numpy as np\n",
    "import os\n",
    "\n",
    "def get_accuracy(file_1, file_2):\n",
    "    \"\"\"Calculate accuracy by comparing cluster labels of two files\"\"\"\n",
    "    if \"book\" in file_1 and \"book\" in file_2:\n",
    "        directory = \"./Output Clusters/Book/\"\n",
    "    elif \"basket\" in file_1 and \"basket\" in file_2:\n",
    "        directory = \"./Output Clusters/Basket/\"\n",
    "    else:\n",
    "        raise Exception(\"File names do not match\")\n",
    "    \n",
    "    # Read CSVs\n",
    "    file_1_df = pd.read_csv( directory + file_1, index_col=[0])\n",
    "    file_2_df = pd.read_csv( directory + file_2, index_col=[0])\n",
    "    \n",
    "    # Rename Columns\n",
    "    file_1_df.columns = [\"Description\", \"Vector\", \"Cluster 1\"]\n",
    "    file_2_df.columns = [\"Description\", \"Vector\", \"Cluster 2\"]\n",
    "    \n",
    "    concat_df = pd.concat([file_1_df, file_2_df], axis=1)\n",
    "    \n",
    "    # Calculate Accuracy\n",
    "    concat_df[\"Same\"] = concat_df[\"Cluster 1\"] == concat_df[\"Cluster 2\"]\n",
    "    \n",
    "    # iterate same column and calculate accuracy\n",
    "    accuracy = 0\n",
    "    for i in concat_df[\"Same\"]:\n",
    "        if i:\n",
    "            accuracy += 1\n",
    "    accuracy /= len(concat_df)\n",
    "    return accuracy\n",
    "\n",
    "def get_all_accuracy(data_type):\n",
    "    \"\"\"Get all accuracy of the same data type and save as csv\"\"\"\n",
    "    \n",
    "    if data_type == \"book\":\n",
    "        dir = \"./Dataset/Book/\"\n",
    "        output_dir = \"./Output Clusters/Book/\"\n",
    "    elif data_type == \"basket\":\n",
    "        dir = \"./Dataset/Basket/\"\n",
    "        output_dir = \"./Output Clusters/Basket/\"\n",
    "    else:\n",
    "        raise Exception(\"Data Type not found\")\n",
    "    \n",
    "    accuracy_list = []\n",
    "    \n",
    "    # Get all files in directory\n",
    "    freq_list = []\n",
    "    orig_list = []\n",
    "    \n",
    "    files = sorted(os.listdir(output_dir))\n",
    "    for f in files:\n",
    "        if \"freq_vector_hc_\" in f:\n",
    "            freq_list.append(f)\n",
    "        elif \"vector_hc_\" in f:\n",
    "            orig_list.append(f)\n",
    "            \n",
    "    # Sort orig_list on accending order of num_clusters \n",
    "    orig_list = sorted(orig_list, key=lambda x: int(x.split(\"_\")[3].split(\".\")[0]))\n",
    "    \n",
    "    print(freq_list)\n",
    "    print(orig_list)\n",
    "    \n",
    "    df = pd.DataFrame(accuracy_list, columns=[\"Original\", \"Freq\", \"Accuracy\"])\n",
    "    for f in orig_list:\n",
    "        f_config = f.split(\"_\")[-1].split(\".\")[0]\n",
    "        # print(f_config)\n",
    "        accuracy_list = []\n",
    "        for f2 in freq_list:\n",
    "            f2_config = f2.split(\"_\")[-1].split(\".\")[0]\n",
    "            # print(f2_config)\n",
    "            if f_config == f2_config:\n",
    "                accuracy = get_accuracy(f, f2)\n",
    "                accuracy_list.append([f, f2, accuracy])\n",
    "        df = df.append(accuracy_list, ignore_index=True)\n",
    "    print(accuracy_list)\n",
    "    \n",
    "    df.to_csv(\"{}/{}_accuracy.csv\".format(output_dir, data_type))\n",
    "    return df.head()\n",
    "    \n",
    "get_all_accuracy(\"basket\") \n",
    "get_all_accuracy(\"book\")\n",
    "# get_accuracy(\"basket_vector_hc_3.csv\", \"basket_0.05_freq_vector_hc_15.csv\")"
   ]
  },
  {
   "cell_type": "code",
   "execution_count": 9,
   "metadata": {},
   "outputs": [
    {
     "data": {
      "text/html": [
       "<div>\n",
       "<style scoped>\n",
       "    .dataframe tbody tr th:only-of-type {\n",
       "        vertical-align: middle;\n",
       "    }\n",
       "\n",
       "    .dataframe tbody tr th {\n",
       "        vertical-align: top;\n",
       "    }\n",
       "\n",
       "    .dataframe thead th {\n",
       "        text-align: right;\n",
       "    }\n",
       "</style>\n",
       "<table border=\"1\" class=\"dataframe\">\n",
       "  <thead>\n",
       "    <tr style=\"text-align: right;\">\n",
       "      <th></th>\n",
       "      <th>Transaction</th>\n",
       "      <th>Vector</th>\n",
       "      <th>Cluster</th>\n",
       "    </tr>\n",
       "  </thead>\n",
       "  <tbody>\n",
       "    <tr>\n",
       "      <th>0</th>\n",
       "      <td>[salty snack, pastry, whole milk]</td>\n",
       "      <td>[1, 1, 1, 0, 0, 0, 0, 0, 0, 0, 0, 0, 0, 0, 0, ...</td>\n",
       "      <td>0</td>\n",
       "    </tr>\n",
       "    <tr>\n",
       "      <th>1</th>\n",
       "      <td>[yogurt, semi-finished bread, whole milk, saus...</td>\n",
       "      <td>[0, 1, 0, 1, 1, 0, 0, 0, 0, 0, 0, 0, 0, 0, 0, ...</td>\n",
       "      <td>0</td>\n",
       "    </tr>\n",
       "    <tr>\n",
       "      <th>2</th>\n",
       "      <td>[soda, pickled vegetables]</td>\n",
       "      <td>[0, 0, 0, 0, 0, 1, 0, 0, 0, 0, 0, 0, 0, 0, 0, ...</td>\n",
       "      <td>1</td>\n",
       "    </tr>\n",
       "    <tr>\n",
       "      <th>3</th>\n",
       "      <td>[misc. beverages, canned beer]</td>\n",
       "      <td>[0, 0, 0, 0, 0, 0, 1, 1, 0, 0, 0, 0, 0, 0, 0, ...</td>\n",
       "      <td>0</td>\n",
       "    </tr>\n",
       "    <tr>\n",
       "      <th>4</th>\n",
       "      <td>[hygiene articles, sausage]</td>\n",
       "      <td>[0, 0, 0, 0, 1, 0, 0, 0, 1, 0, 0, 0, 0, 0, 0, ...</td>\n",
       "      <td>0</td>\n",
       "    </tr>\n",
       "  </tbody>\n",
       "</table>\n",
       "</div>"
      ],
      "text/plain": [
       "                                         Transaction  \\\n",
       "0                  [salty snack, pastry, whole milk]   \n",
       "1  [yogurt, semi-finished bread, whole milk, saus...   \n",
       "2                         [soda, pickled vegetables]   \n",
       "3                     [misc. beverages, canned beer]   \n",
       "4                        [hygiene articles, sausage]   \n",
       "\n",
       "                                              Vector  Cluster  \n",
       "0  [1, 1, 1, 0, 0, 0, 0, 0, 0, 0, 0, 0, 0, 0, 0, ...        0  \n",
       "1  [0, 1, 0, 1, 1, 0, 0, 0, 0, 0, 0, 0, 0, 0, 0, ...        0  \n",
       "2  [0, 0, 0, 0, 0, 1, 0, 0, 0, 0, 0, 0, 0, 0, 0, ...        1  \n",
       "3  [0, 0, 0, 0, 0, 0, 1, 1, 0, 0, 0, 0, 0, 0, 0, ...        0  \n",
       "4  [0, 0, 0, 0, 1, 0, 0, 0, 1, 0, 0, 0, 0, 0, 0, ...        0  "
      ]
     },
     "execution_count": 9,
     "metadata": {},
     "output_type": "execute_result"
    }
   ],
   "source": [
    "# Load Clustering results\n",
    "hierDF3 = pd.read_csv(\"./Output Clusters/hierarchical_3_clusters.csv\" , index_col=[0], converters={\"Transaction\": literal_eval, \"Vector\":literal_eval})\n",
    "hierDF3.head()"
   ]
  },
  {
   "cell_type": "markdown",
   "metadata": {},
   "source": []
  },
  {
   "cell_type": "code",
   "execution_count": 8,
   "metadata": {},
   "outputs": [
    {
     "name": "stdout",
     "output_type": "stream",
     "text": [
      "silhouette_score:  -0.03153850100284397\n",
      "calinski_harabasz_score:  224.23528231574852\n",
      "davies_bouldin_score:  2.503086108335078\n"
     ]
    }
   ],
   "source": [
    "# # Getting Sihoulette Score\n",
    "# silhouette_score(list(hierDF[\"Vector\"]), list(hierDF[\"Cluster\"]))\n",
    "\n",
    "# # Getting Calinski Harabasz Score\n",
    "# calinski_harabasz_score(list(hierDF[\"Vector\"]), list(hierDF[\"Cluster\"]))\n",
    "\n",
    "# # Getting Davies Bouldin Score\n",
    "# davies_bouldin_score(list(hierDF[\"Vector\"]), list(hierDF[\"Cluster\"]))\n",
    "\n",
    "print(\"silhouette_score: \", silhouette_score(list(hierDF[\"Vector\"]), list(hierDF[\"Cluster\"])))\n",
    "print(\"calinski_harabasz_score: \", calinski_harabasz_score(list(hierDF[\"Vector\"]), list(hierDF[\"Cluster\"])))\n",
    "print(\"davies_bouldin_score: \", davies_bouldin_score(list(hierDF[\"Vector\"]), list(hierDF[\"Cluster\"])))"
   ]
  }
 ],
 "metadata": {
  "kernelspec": {
   "display_name": "Python 3",
   "language": "python",
   "name": "python3"
  },
  "language_info": {
   "codemirror_mode": {
    "name": "ipython",
    "version": 3
   },
   "file_extension": ".py",
   "mimetype": "text/x-python",
   "name": "python",
   "nbconvert_exporter": "python",
   "pygments_lexer": "ipython3",
   "version": "3.11.6"
  }
 },
 "nbformat": 4,
 "nbformat_minor": 2
}
