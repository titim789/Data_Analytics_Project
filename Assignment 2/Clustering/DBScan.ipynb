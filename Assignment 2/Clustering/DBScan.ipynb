{
 "cells": [
  {
   "cell_type": "code",
   "execution_count": 3,
   "metadata": {},
   "outputs": [],
   "source": [
    "from sklearn.cluster import DBSCAN\n",
    "from ast import literal_eval\n",
    "import numpy as np\n",
    "import pandas as pd"
   ]
  },
  {
   "cell_type": "code",
   "execution_count": 128,
   "metadata": {},
   "outputs": [
    {
     "name": "stdout",
     "output_type": "stream",
     "text": [
      "(5000, 2)\n"
     ]
    },
    {
     "data": {
      "text/html": [
       "<div>\n",
       "<style scoped>\n",
       "    .dataframe tbody tr th:only-of-type {\n",
       "        vertical-align: middle;\n",
       "    }\n",
       "\n",
       "    .dataframe tbody tr th {\n",
       "        vertical-align: top;\n",
       "    }\n",
       "\n",
       "    .dataframe thead th {\n",
       "        text-align: right;\n",
       "    }\n",
       "</style>\n",
       "<table border=\"1\" class=\"dataframe\">\n",
       "  <thead>\n",
       "    <tr style=\"text-align: right;\">\n",
       "      <th></th>\n",
       "      <th>Description</th>\n",
       "      <th>Vector</th>\n",
       "    </tr>\n",
       "  </thead>\n",
       "  <tbody>\n",
       "    <tr>\n",
       "      <th>0</th>\n",
       "      <td>[rug, sackett, famili, stood, breed, apart, fe...</td>\n",
       "      <td>[1, 1, 0, 0, 0, 0, 0, 0, 0, 0, 0, 0, 0, 0, 0, ...</td>\n",
       "    </tr>\n",
       "    <tr>\n",
       "      <th>1</th>\n",
       "      <td>[allinclus, guid, design, vacat, retreat, hosp...</td>\n",
       "      <td>[0, 0, 1, 1, 1, 2, 0, 0, 0, 0, 0, 0, 0, 0, 0, ...</td>\n",
       "    </tr>\n",
       "    <tr>\n",
       "      <th>2</th>\n",
       "      <td>[world, war, two, luftwaff, aircraft, pilot, s...</td>\n",
       "      <td>[0, 0, 0, 2, 0, 0, 1, 1, 3, 0, 0, 0, 0, 0, 0, ...</td>\n",
       "    </tr>\n",
       "    <tr>\n",
       "      <th>3</th>\n",
       "      <td>[fiction, histori, fourthcenturi, irish, monk,...</td>\n",
       "      <td>[0, 0, 0, 1, 0, 0, 0, 0, 0, 1, 0, 0, 0, 0, 0, ...</td>\n",
       "    </tr>\n",
       "    <tr>\n",
       "      <th>4</th>\n",
       "      <td>[1941, killakeet, island, windswept, outer, ba...</td>\n",
       "      <td>[0, 1, 0, 1, 0, 0, 0, 0, 1, 0, 2, 1, 1, 1, 1, ...</td>\n",
       "    </tr>\n",
       "  </tbody>\n",
       "</table>\n",
       "</div>"
      ],
      "text/plain": [
       "                                         Description  \\\n",
       "0  [rug, sackett, famili, stood, breed, apart, fe...   \n",
       "1  [allinclus, guid, design, vacat, retreat, hosp...   \n",
       "2  [world, war, two, luftwaff, aircraft, pilot, s...   \n",
       "3  [fiction, histori, fourthcenturi, irish, monk,...   \n",
       "4  [1941, killakeet, island, windswept, outer, ba...   \n",
       "\n",
       "                                              Vector  \n",
       "0  [1, 1, 0, 0, 0, 0, 0, 0, 0, 0, 0, 0, 0, 0, 0, ...  \n",
       "1  [0, 0, 1, 1, 1, 2, 0, 0, 0, 0, 0, 0, 0, 0, 0, ...  \n",
       "2  [0, 0, 0, 2, 0, 0, 1, 1, 3, 0, 0, 0, 0, 0, 0, ...  \n",
       "3  [0, 0, 0, 1, 0, 0, 0, 0, 0, 1, 0, 0, 0, 0, 0, ...  \n",
       "4  [0, 1, 0, 1, 0, 0, 0, 0, 1, 0, 2, 1, 1, 1, 1, ...  "
      ]
     },
     "execution_count": 128,
     "metadata": {},
     "output_type": "execute_result"
    }
   ],
   "source": [
    "# Generate sample data\n",
    "# data = np.random.rand(100, 2)\n",
    "# data = pd.read_csv(\"./Dataset/transaction_0.01_freq_vector.csv\", index_col=[0], converters={\"Transaction\": literal_eval, \"Vector\":literal_eval})\n",
    "# data = pd.read_csv(\"./Dataset/basket_freq_vector.csv\", index_col=[0], converters={\"Transaction\": literal_eval, \"Vector\":literal_eval})\n",
    "# data = pd.read_csv(\"./Dataset/basket_infreq_vector.csv\", index_col=[0], converters={\"Transaction\": literal_eval, \"Vector\":literal_eval})\n",
    "# data = pd.read_csv(\"./Dataset/job_freq_vector.csv\", index_col=[0], converters={\"Title\": literal_eval, \"Vector\":literal_eval})\n",
    "# data = pd.read_csv(\"./Dataset/job_infreq_vector.csv\", index_col=[0], converters={\"Transaction\": literal_eval, \"Vector\":literal_eval})\n",
    "data = pd.read_csv(\"./Dataset/book/book_0.09_freq_vector.csv\", index_col=[0], converters={\"Description\": literal_eval, \"Vector\":literal_eval})\n",
    "print(data.shape)\n",
    "data.head() "
   ]
  },
  {
   "cell_type": "code",
   "execution_count": 143,
   "metadata": {},
   "outputs": [],
   "source": [
    "clusters = {}\n",
    "\n",
    "for i in range(5,10,1):\n",
    "    data = pd.read_csv(\"./Dataset/Book/book_0.0{}_freq_vector.csv\".format(i), index_col=[0], converters={\"Description\": literal_eval, \"Vector\":literal_eval})\n",
    "\n",
    "    for j in range(10,51,5):\n",
    "        j = j/100\n",
    "        # Create DBSCAN instance\n",
    "        dbscan = DBSCAN(eps=j, min_samples=5, metric='cosine')\n",
    "\n",
    "        # Fit model to data and get labels\n",
    "        vectors = list(data['Vector'])\n",
    "        # Fit and predict clusters\n",
    "        labels = dbscan.fit_predict(vectors)\n",
    "\n",
    "        data[\"Cluster\"] = labels\n",
    "\n",
    "        # Export\n",
    "        data.to_csv(\"./Output Clusters/Book/dbscan_0.0{}_{}_output.csv\".format(i, j), header=False)\n"
   ]
  },
  {
   "cell_type": "code",
   "execution_count": 129,
   "metadata": {},
   "outputs": [
    {
     "name": "stdout",
     "output_type": "stream",
     "text": [
      "Lowest Number of unclustered data points: 3879 | eps: 0.1\n",
      "Highest Number of clusters: 50 | eps: 0.1\n"
     ]
    }
   ],
   "source": [
    "best_eps_unclustered = 0.1\n",
    "lowest_no_unclustered_pts = 9999\n",
    "best_eps_no_of_clusters = 0.1\n",
    "highest_no_of_clusters = 0\n",
    "results = {}\n",
    "for i in range(10,50,1):\n",
    "    i = i/100\n",
    "    for j in range(5,101,5):\n",
    "        # Create DBSCAN instance\n",
    "        dbscan = DBSCAN(eps=i, min_samples=j)#, metric='cosine')\n",
    "\n",
    "        # Fit model to data and get labels\n",
    "        vectors = list(data['Vector'])\n",
    "        dbscan.fit(vectors)\n",
    "        labels = dbscan.labels_\n",
    "\n",
    "        # Fit and predict clusters\n",
    "        y_pred = dbscan.fit_predict(vectors)\n",
    "\n",
    "        # Get number of clusters\n",
    "        n_clusters = len(set(labels)) - (1 if -1 in labels else 0)\n",
    "\n",
    "        # Print clusters\n",
    "        # print('Number of clusters: ', n_clusters)\n",
    "        # print('Cluster labels: ', labels)\n",
    "        data[\"Cluster\"] = labels\n",
    "        if data[data[\"Cluster\"]==-1].shape[0] < lowest_no_unclustered_pts:\n",
    "            best_eps_unclustered = i\n",
    "            lowest_no_unclustered_pts = data[data[\"Cluster\"]==-1].shape[0]\n",
    "        if n_clusters > highest_no_of_clusters:\n",
    "            best_eps_no_of_clusters = i\n",
    "            highest_no_of_clusters = n_clusters\n",
    "        results[str(i)+\"-\"+str(j)] = [data[data[\"Cluster\"]==-1].shape[0], n_clusters]\n",
    "print(\"Lowest Number of unclustered data points:\", lowest_no_unclustered_pts, \"| eps:\", best_eps_unclustered)\n",
    "print(\"Highest Number of clusters:\", highest_no_of_clusters, \"| eps:\", best_eps_no_of_clusters)"
   ]
  },
  {
   "cell_type": "code",
   "execution_count": 126,
   "metadata": {},
   "outputs": [
    {
     "name": "stdout",
     "output_type": "stream",
     "text": [
      "[4206, 4206, 4206, 4206, 4206, 4206, 4206, 4206, 4206, 4206, 4206, 4206, 4206, 4206, 4206, 4206, 4206, 4206, 4206, 4206, 4206, 4206, 4206, 4206, 4206, 4206, 4206, 4206, 4206, 4206, 4206, 4206, 4206, 4206, 4206, 4206, 4206, 4206, 4206, 4206]\n",
      "[54, 54, 54, 54, 54, 54, 54, 54, 54, 54, 54, 54, 54, 54, 54, 54, 54, 54, 54, 54, 54, 54, 54, 54, 54, 54, 54, 54, 54, 54, 54, 54, 54, 54, 54, 54, 54, 54, 54, 54]\n",
      "[4206, 4419, 4527, 4595, 4680, 4680, 4680, 4680, 4680, 4680, 4680, 4680, 4680, 4680, 4680, 4680, 4680, 4680, 4680, 4680]\n",
      "[54, 19, 9, 5, 1, 1, 1, 1, 1, 1, 1, 1, 1, 1, 1, 1, 1, 1, 1, 1]\n"
     ]
    }
   ],
   "source": [
    "# creating list of eps\n",
    "eps_list = [i/100 for i in range(10,50,1)]\n",
    "\n",
    "# getting list min_sample\n",
    "min_samp_list = [i for i in range(5,101,5)]\n",
    "\n",
    "eps_lowest_unclustered = []\n",
    "eps_highest_clusters = []\n",
    "\n",
    "for eps in eps_list:\n",
    "    lowest_unclustered = 9999\n",
    "    highest_clusters = 0\n",
    "    for min_samp in min_samp_list:\n",
    "        # getting y of eps (lowest number of unclustered point)  [0]\n",
    "        if results[str(eps)+\"-\"+str(min_samp)][0] < lowest_unclustered:\n",
    "            lowest_unclustered = results[str(eps)+\"-\"+str(min_samp)][0]\n",
    "        # getting y of eps (highest number of clusters) [1]\n",
    "        if results[str(eps)+\"-\"+str(min_samp)][1] > highest_clusters:\n",
    "            highest_clusters = results[str(eps)+\"-\"+str(min_samp)][1]\n",
    "    eps_lowest_unclustered.append(lowest_unclustered)\n",
    "    eps_highest_clusters.append(highest_clusters)\n",
    "    \n",
    "ms_lowest_unclustered = []\n",
    "ms_highest_clusters = []\n",
    "for min_samp in min_samp_list:\n",
    "    lowest_unclustered = 9999\n",
    "    highest_clusters = 0\n",
    "    for eps in eps_list:\n",
    "        # getting y of min_samp (lowest number of unclustered point) [0]\n",
    "        if results[str(eps)+\"-\"+str(min_samp)][0] < lowest_unclustered:\n",
    "            lowest_unclustered = results[str(eps)+\"-\"+str(min_samp)][0]    \n",
    "        # getting y of min_samp (highest number of clusters) [1]\n",
    "        if results[str(eps)+\"-\"+str(min_samp)][1] > highest_clusters:\n",
    "            highest_clusters = results[str(eps)+\"-\"+str(min_samp)][1]\n",
    "    ms_lowest_unclustered.append(lowest_unclustered)\n",
    "    ms_highest_clusters.append(highest_clusters)\n",
    "\n",
    "print(eps_lowest_unclustered)\n",
    "print(eps_highest_clusters)\n",
    "print(ms_lowest_unclustered)\n",
    "print(ms_highest_clusters)"
   ]
  },
  {
   "cell_type": "code",
   "execution_count": 127,
   "metadata": {},
   "outputs": [
    {
     "data": {
      "image/png": "[encoded data removed]",
      "text/plain": [
       "<Figure size 640x480 with 4 Axes>"
      ]
     },
     "metadata": {},
     "output_type": "display_data"
    }
   ],
   "source": [
    "import matplotlib.pyplot as plt\n",
    "\n",
    "\n",
    "# Create plots \n",
    "fig, axes = plt.subplots(2, 2)\n",
    "\n",
    "axes[0, 0].plot(eps_list, eps_lowest_unclustered)\n",
    "axes[0, 0].set_title('EPS Value VS Unclustered points')\n",
    "\n",
    "axes[0, 1].plot(eps_list, eps_highest_clusters)\n",
    "axes[0, 1].set_title('EPS Value VS No. of Clusters') \n",
    "\n",
    "axes[1, 0].plot(min_samp_list, ms_lowest_unclustered)\n",
    "axes[1, 0].set_title('Min Sample VS Unclustered points')\n",
    "\n",
    "axes[1, 1].plot(min_samp_list, ms_highest_clusters) \n",
    "axes[1, 1].set_title('Min Sample VS No. of Clusters')\n",
    "\n",
    "fig.tight_layout()\n",
    "plt.show()"
   ]
  },
  {
   "cell_type": "code",
   "execution_count": 94,
   "metadata": {},
   "outputs": [
    {
     "name": "stdout",
     "output_type": "stream",
     "text": [
      "Number of clusters:  2\n",
      "Cluster labels:  [0 0 0 ... 0 0 0]\n"
     ]
    }
   ],
   "source": [
    "# Create DBSCAN instance\n",
    "dbscan = DBSCAN(eps=0.49, min_samples=10, metric='cosine')\n",
    "\n",
    "# Fit model to data and get labels\n",
    "vectors = list(data['Vector'])\n",
    "dbscan.fit(vectors)\n",
    "labels = dbscan.labels_\n",
    "\n",
    "# Fit and predict clusters\n",
    "y_pred = dbscan.fit_predict(vectors)\n",
    "\n",
    "# Get number of clusters\n",
    "n_clusters = len(set(labels)) - (1 if -1 in labels else 0)\n",
    "\n",
    "# Print clusters\n",
    "print('Number of clusters: ', n_clusters)\n",
    "print('Cluster labels: ', labels)\n",
    "data[\"Cluster\"] = labels"
   ]
  },
  {
   "cell_type": "code",
   "execution_count": 88,
   "metadata": {},
   "outputs": [
    {
     "data": {
      "text/plain": [
       "3533"
      ]
     },
     "execution_count": 88,
     "metadata": {},
     "output_type": "execute_result"
    }
   ],
   "source": [
    "data[data[\"Cluster\"]==-1].shape[0]"
   ]
  },
  {
   "cell_type": "code",
   "execution_count": 51,
   "metadata": {},
   "outputs": [
    {
     "name": "stdout",
     "output_type": "stream",
     "text": [
      "Dimension: 167\n",
      "Number of Rows: 14963\n",
      "Number of clusters:  4\n",
      "Cluster labels:  [-1 -1 -1 ... -1 -1 -1]\n"
     ]
    }
   ],
   "source": [
    "# Generate sample data\n",
    "# data = np.random.rand(100, 2)\n",
    "data = pd.read_csv(\"./Dataset/basket_infreq_vector.csv\", index_col=[0], converters={\"Transaction\": literal_eval, \"Vector\":literal_eval})\n",
    "data.head()\n",
    "\n",
    "dim = len(data[\"Vector\"][0])\n",
    "n = data.shape[0]\n",
    "\n",
    "print(\"Dimension:\", dim)\n",
    "print(\"Number of Rows:\", n)\n",
    "\n",
    "# Create DBSCAN instance\n",
    "dbscan = DBSCAN(eps=0.01, min_samples=50)\n",
    "\n",
    "# Fit model to data and get labels\n",
    "vectors = list(data['Vector'])\n",
    "labels = dbscan.fit_predict(vectors)\n",
    "\n",
    "# Get number of clusters\n",
    "n_clusters = len(set(labels)) - (1 if -1 in labels else 0)\n",
    "\n",
    "# Print clusters\n",
    "print('Number of clusters: ', n_clusters)\n",
    "print('Cluster labels: ', labels)\n",
    "\n",
    "data[\"Cluster\"] = labels"
   ]
  },
  {
   "cell_type": "code",
   "execution_count": 47,
   "metadata": {},
   "outputs": [
    {
     "data": {
      "text/html": [
       "<div>\n",
       "<style scoped>\n",
       "    .dataframe tbody tr th:only-of-type {\n",
       "        vertical-align: middle;\n",
       "    }\n",
       "\n",
       "    .dataframe tbody tr th {\n",
       "        vertical-align: top;\n",
       "    }\n",
       "\n",
       "    .dataframe thead th {\n",
       "        text-align: right;\n",
       "    }\n",
       "</style>\n",
       "<table border=\"1\" class=\"dataframe\">\n",
       "  <thead>\n",
       "    <tr style=\"text-align: right;\">\n",
       "      <th></th>\n",
       "      <th>Transaction</th>\n",
       "      <th>Vector</th>\n",
       "      <th>Cluster</th>\n",
       "    </tr>\n",
       "  </thead>\n",
       "  <tbody>\n",
       "    <tr>\n",
       "      <th>0</th>\n",
       "      <td>[salty snack, pastry, whole milk]</td>\n",
       "      <td>[1, 1, 1, 0, 0, 0, 0, 0, 0, 0, 0, 0, 0, 0, 0, ...</td>\n",
       "      <td>-1</td>\n",
       "    </tr>\n",
       "    <tr>\n",
       "      <th>1</th>\n",
       "      <td>[yogurt, semi-finished bread, whole milk, saus...</td>\n",
       "      <td>[0, 1, 0, 1, 1, 0, 0, 0, 0, 0, 0, 0, 0, 0, 0, ...</td>\n",
       "      <td>-1</td>\n",
       "    </tr>\n",
       "    <tr>\n",
       "      <th>3</th>\n",
       "      <td>[misc. beverages, canned beer]</td>\n",
       "      <td>[0, 0, 0, 0, 0, 0, 1, 1, 0, 0, 0, 0, 0, 0, 0, ...</td>\n",
       "      <td>-1</td>\n",
       "    </tr>\n",
       "    <tr>\n",
       "      <th>4</th>\n",
       "      <td>[hygiene articles, sausage]</td>\n",
       "      <td>[0, 0, 0, 0, 1, 0, 0, 0, 1, 0, 0, 0, 0, 0, 0, ...</td>\n",
       "      <td>-1</td>\n",
       "    </tr>\n",
       "    <tr>\n",
       "      <th>5</th>\n",
       "      <td>[rolls/buns, whole milk, sausage]</td>\n",
       "      <td>[0, 1, 0, 0, 1, 0, 0, 0, 0, 1, 0, 0, 0, 0, 0, ...</td>\n",
       "      <td>-1</td>\n",
       "    </tr>\n",
       "    <tr>\n",
       "      <th>...</th>\n",
       "      <td>...</td>\n",
       "      <td>...</td>\n",
       "      <td>...</td>\n",
       "    </tr>\n",
       "    <tr>\n",
       "      <th>14958</th>\n",
       "      <td>[butter milk, whipped/sour cream]</td>\n",
       "      <td>[0, 0, 0, 0, 0, 0, 0, 0, 0, 0, 0, 1, 0, 0, 0, ...</td>\n",
       "      <td>-1</td>\n",
       "    </tr>\n",
       "    <tr>\n",
       "      <th>14959</th>\n",
       "      <td>[herbs, bottled water]</td>\n",
       "      <td>[0, 0, 0, 0, 0, 0, 0, 0, 0, 0, 0, 0, 0, 0, 0, ...</td>\n",
       "      <td>-1</td>\n",
       "    </tr>\n",
       "    <tr>\n",
       "      <th>14960</th>\n",
       "      <td>[onions, fruit/vegetable juice]</td>\n",
       "      <td>[0, 0, 0, 0, 0, 0, 0, 0, 0, 0, 0, 0, 0, 0, 0, ...</td>\n",
       "      <td>-1</td>\n",
       "    </tr>\n",
       "    <tr>\n",
       "      <th>14961</th>\n",
       "      <td>[bottled beer, other vegetables]</td>\n",
       "      <td>[0, 0, 0, 0, 0, 0, 0, 0, 0, 0, 0, 0, 0, 0, 0, ...</td>\n",
       "      <td>-1</td>\n",
       "    </tr>\n",
       "    <tr>\n",
       "      <th>14962</th>\n",
       "      <td>[semi-finished bread, root vegetables, soda]</td>\n",
       "      <td>[0, 0, 0, 0, 0, 1, 0, 0, 0, 0, 0, 0, 0, 0, 0, ...</td>\n",
       "      <td>-1</td>\n",
       "    </tr>\n",
       "  </tbody>\n",
       "</table>\n",
       "<p>13379 rows × 3 columns</p>\n",
       "</div>"
      ],
      "text/plain": [
       "                                             Transaction  \\\n",
       "0                      [salty snack, pastry, whole milk]   \n",
       "1      [yogurt, semi-finished bread, whole milk, saus...   \n",
       "3                         [misc. beverages, canned beer]   \n",
       "4                            [hygiene articles, sausage]   \n",
       "5                      [rolls/buns, whole milk, sausage]   \n",
       "...                                                  ...   \n",
       "14958                  [butter milk, whipped/sour cream]   \n",
       "14959                             [herbs, bottled water]   \n",
       "14960                    [onions, fruit/vegetable juice]   \n",
       "14961                   [bottled beer, other vegetables]   \n",
       "14962       [semi-finished bread, root vegetables, soda]   \n",
       "\n",
       "                                                  Vector  Cluster  \n",
       "0      [1, 1, 1, 0, 0, 0, 0, 0, 0, 0, 0, 0, 0, 0, 0, ...       -1  \n",
       "1      [0, 1, 0, 1, 1, 0, 0, 0, 0, 0, 0, 0, 0, 0, 0, ...       -1  \n",
       "3      [0, 0, 0, 0, 0, 0, 1, 1, 0, 0, 0, 0, 0, 0, 0, ...       -1  \n",
       "4      [0, 0, 0, 0, 1, 0, 0, 0, 1, 0, 0, 0, 0, 0, 0, ...       -1  \n",
       "5      [0, 1, 0, 0, 1, 0, 0, 0, 0, 1, 0, 0, 0, 0, 0, ...       -1  \n",
       "...                                                  ...      ...  \n",
       "14958  [0, 0, 0, 0, 0, 0, 0, 0, 0, 0, 0, 1, 0, 0, 0, ...       -1  \n",
       "14959  [0, 0, 0, 0, 0, 0, 0, 0, 0, 0, 0, 0, 0, 0, 0, ...       -1  \n",
       "14960  [0, 0, 0, 0, 0, 0, 0, 0, 0, 0, 0, 0, 0, 0, 0, ...       -1  \n",
       "14961  [0, 0, 0, 0, 0, 0, 0, 0, 0, 0, 0, 0, 0, 0, 0, ...       -1  \n",
       "14962  [0, 0, 0, 0, 0, 1, 0, 0, 0, 0, 0, 0, 0, 0, 0, ...       -1  \n",
       "\n",
       "[13379 rows x 3 columns]"
      ]
     },
     "execution_count": 47,
     "metadata": {},
     "output_type": "execute_result"
    }
   ],
   "source": [
    "data[data[\"Cluster\"] == -1]"
   ]
  },
  {
   "cell_type": "code",
   "execution_count": 118,
   "metadata": {},
   "outputs": [],
   "source": [
    "data.to_csv(\"./Output Clusters/dbscan-0.01-1-cluster-output.csv\")"
   ]
  },
  {
   "cell_type": "code",
   "execution_count": null,
   "metadata": {},
   "outputs": [],
   "source": []
  }
 ],
 "metadata": {
  "kernelspec": {
   "display_name": "Python 3",
   "language": "python",
   "name": "python3"
  },
  "language_info": {
   "codemirror_mode": {
    "name": "ipython",
    "version": 3
   },
   "file_extension": ".py",
   "mimetype": "text/x-python",
   "name": "python",
   "nbconvert_exporter": "python",
   "pygments_lexer": "ipython3",
   "version": "3.11.6"
  }
 },
 "nbformat": 4,
 "nbformat_minor": 2
}
