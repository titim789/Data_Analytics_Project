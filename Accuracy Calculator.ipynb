{
 "cells": [
  {
   "cell_type": "markdown",
   "id": "0563a164-0127-4a43-b2ab-7e688bf83c30",
   "metadata": {},
   "source": [
    "# Accuracy"
   ]
  },
  {
   "cell_type": "code",
   "execution_count": 1,
   "id": "51d4f637-fdbd-4b92-884c-36d2b4759c56",
   "metadata": {},
   "outputs": [],
   "source": [
    "import pandas as pd"
   ]
  },
  {
   "cell_type": "markdown",
   "id": "6cfdedab-73ea-4e34-bb43-138b5fea26cc",
   "metadata": {},
   "source": [
    "### LSH Accuracy"
   ]
  },
  {
   "cell_type": "code",
   "execution_count": 56,
   "id": "961e9ec0-0f01-4331-bad8-21de6ea1e9ef",
   "metadata": {},
   "outputs": [],
   "source": [
    "# Import your Output CSV here\n",
    "lsh_df = pd.read_csv(f\"Linear Search Results/Tiffany_And_Co_Bracelet.csv\") # Enter your file and folder here\n",
    "\n",
    "# This is the base of our comparison\n",
    "base_df = pd.read_csv(f\"Linear Search Results/Balenciaga_latest_products.csv\")\n",
    "\n",
    "no_of_rows = base_df.shape[0]"
   ]
  },
  {
   "cell_type": "code",
   "execution_count": 57,
   "id": "fe0a2045-fab2-4b5c-9a5b-e04111847b82",
   "metadata": {},
   "outputs": [],
   "source": [
    "# Sorting both Dataframe in descending order\n",
    "ordered_lsh = lsh_df.sort_values(\"Vector\", ascending=False, ignore_index=True)[[\"Data\",\"Vector\"]] # Enter your column name that determines the ranking, change ascending to True if needed\n",
    "\n",
    "ordered_base = base_df.sort_values(\"Vector\", ascending=False, ignore_index=True)[[\"Data\",\"Vector\"]]\n"
   ]
  },
  {
   "cell_type": "code",
   "execution_count": 71,
   "id": "16548c85-d04c-4215-867a-3af6e867627c",
   "metadata": {},
   "outputs": [
    {
     "name": "stdout",
     "output_type": "stream",
     "text": [
      "Accuracy: 100.0%\n"
     ]
    }
   ],
   "source": [
    "compare_df = ordered_base.compare(ordered_lsh, keep_shape = True, align_axis = 0) # Change the \"ordered_lsh\" if needed\n",
    "counter = 0\n",
    "for i in range(no_of_rows):\n",
    "    if compare_df['Data'][i].isna()['self']:\n",
    "        counter+=1\n",
    "    \n",
    "print(\"Accuracy:\", str(round(((counter/no_of_rows)*100),2))+\"%\")"
   ]
  },
  {
   "cell_type": "markdown",
   "id": "82019b1d-45d9-4dcc-b1f2-1b2d15062b3f",
   "metadata": {},
   "source": [
    "### PQ Accuracy"
   ]
  },
  {
   "cell_type": "code",
   "execution_count": null,
   "id": "ae87f73b-5f3e-4bad-8611-b5f7757dbc75",
   "metadata": {},
   "outputs": [],
   "source": []
  }
 ],
 "metadata": {
  "kernelspec": {
   "display_name": "Python 3 (ipykernel)",
   "language": "python",
   "name": "python3"
  },
  "language_info": {
   "codemirror_mode": {
    "name": "ipython",
    "version": 3
   },
   "file_extension": ".py",
   "mimetype": "text/x-python",
   "name": "python",
   "nbconvert_exporter": "python",
   "pygments_lexer": "ipython3",
   "version": "3.11.6"
  }
 },
 "nbformat": 4,
 "nbformat_minor": 5
}
