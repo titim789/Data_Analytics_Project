{
 "cells": [
  {
   "cell_type": "code",
   "execution_count": 1,
   "id": "f176cb50",
   "metadata": {},
   "outputs": [],
   "source": [
    "import pandas as pd"
   ]
  },
  {
   "cell_type": "code",
   "execution_count": 2,
   "id": "440aed6f",
   "metadata": {},
   "outputs": [],
   "source": [
    "df = pd.read_csv(\"job_postings.csv\")"
   ]
  },
  {
   "cell_type": "code",
   "execution_count": 3,
   "id": "e13aa25c",
   "metadata": {},
   "outputs": [
    {
     "data": {
      "text/html": [
       "<div>\n",
       "<style scoped>\n",
       "    .dataframe tbody tr th:only-of-type {\n",
       "        vertical-align: middle;\n",
       "    }\n",
       "\n",
       "    .dataframe tbody tr th {\n",
       "        vertical-align: top;\n",
       "    }\n",
       "\n",
       "    .dataframe thead th {\n",
       "        text-align: right;\n",
       "    }\n",
       "</style>\n",
       "<table border=\"1\" class=\"dataframe\">\n",
       "  <thead>\n",
       "    <tr style=\"text-align: right;\">\n",
       "      <th></th>\n",
       "      <th>job_id</th>\n",
       "      <th>company_id</th>\n",
       "      <th>title</th>\n",
       "      <th>description</th>\n",
       "      <th>max_salary</th>\n",
       "      <th>med_salary</th>\n",
       "      <th>min_salary</th>\n",
       "      <th>pay_period</th>\n",
       "      <th>formatted_work_type</th>\n",
       "      <th>location</th>\n",
       "      <th>...</th>\n",
       "      <th>expiry</th>\n",
       "      <th>closed_time</th>\n",
       "      <th>formatted_experience_level</th>\n",
       "      <th>skills_desc</th>\n",
       "      <th>listed_time</th>\n",
       "      <th>posting_domain</th>\n",
       "      <th>sponsored</th>\n",
       "      <th>work_type</th>\n",
       "      <th>currency</th>\n",
       "      <th>compensation_type</th>\n",
       "    </tr>\n",
       "  </thead>\n",
       "  <tbody>\n",
       "    <tr>\n",
       "      <th>0</th>\n",
       "      <td>85008768</td>\n",
       "      <td>NaN</td>\n",
       "      <td>Licensed Insurance Agent</td>\n",
       "      <td>While many industries were hurt by the last fe...</td>\n",
       "      <td>52000.0</td>\n",
       "      <td>NaN</td>\n",
       "      <td>45760.0</td>\n",
       "      <td>YEARLY</td>\n",
       "      <td>Full-time</td>\n",
       "      <td>Chico, CA</td>\n",
       "      <td>...</td>\n",
       "      <td>1.710000e+12</td>\n",
       "      <td>NaN</td>\n",
       "      <td>NaN</td>\n",
       "      <td>NaN</td>\n",
       "      <td>1.690000e+12</td>\n",
       "      <td>NaN</td>\n",
       "      <td>1</td>\n",
       "      <td>FULL_TIME</td>\n",
       "      <td>USD</td>\n",
       "      <td>BASE_SALARY</td>\n",
       "    </tr>\n",
       "    <tr>\n",
       "      <th>1</th>\n",
       "      <td>133114754</td>\n",
       "      <td>77766802.0</td>\n",
       "      <td>Sales Manager</td>\n",
       "      <td>Are you a dynamic and creative marketing profe...</td>\n",
       "      <td>NaN</td>\n",
       "      <td>NaN</td>\n",
       "      <td>NaN</td>\n",
       "      <td>NaN</td>\n",
       "      <td>Full-time</td>\n",
       "      <td>Santa Clarita, CA</td>\n",
       "      <td>...</td>\n",
       "      <td>1.700000e+12</td>\n",
       "      <td>NaN</td>\n",
       "      <td>NaN</td>\n",
       "      <td>NaN</td>\n",
       "      <td>1.690000e+12</td>\n",
       "      <td>NaN</td>\n",
       "      <td>0</td>\n",
       "      <td>FULL_TIME</td>\n",
       "      <td>NaN</td>\n",
       "      <td>NaN</td>\n",
       "    </tr>\n",
       "    <tr>\n",
       "      <th>2</th>\n",
       "      <td>133196985</td>\n",
       "      <td>1089558.0</td>\n",
       "      <td>Model Risk Auditor</td>\n",
       "      <td>Join Us as a Model Risk Auditor – Showcase You...</td>\n",
       "      <td>NaN</td>\n",
       "      <td>NaN</td>\n",
       "      <td>NaN</td>\n",
       "      <td>NaN</td>\n",
       "      <td>Contract</td>\n",
       "      <td>New York, NY</td>\n",
       "      <td>...</td>\n",
       "      <td>1.700000e+12</td>\n",
       "      <td>NaN</td>\n",
       "      <td>NaN</td>\n",
       "      <td>NaN</td>\n",
       "      <td>1.690000e+12</td>\n",
       "      <td>NaN</td>\n",
       "      <td>0</td>\n",
       "      <td>CONTRACT</td>\n",
       "      <td>NaN</td>\n",
       "      <td>NaN</td>\n",
       "    </tr>\n",
       "    <tr>\n",
       "      <th>3</th>\n",
       "      <td>381055942</td>\n",
       "      <td>96654609.0</td>\n",
       "      <td>Business Manager</td>\n",
       "      <td>Business ManagerFirst Baptist Church ForneyFor...</td>\n",
       "      <td>NaN</td>\n",
       "      <td>NaN</td>\n",
       "      <td>NaN</td>\n",
       "      <td>NaN</td>\n",
       "      <td>Full-time</td>\n",
       "      <td>Forney, TX</td>\n",
       "      <td>...</td>\n",
       "      <td>1.700000e+12</td>\n",
       "      <td>NaN</td>\n",
       "      <td>NaN</td>\n",
       "      <td>NaN</td>\n",
       "      <td>1.690000e+12</td>\n",
       "      <td>NaN</td>\n",
       "      <td>0</td>\n",
       "      <td>FULL_TIME</td>\n",
       "      <td>NaN</td>\n",
       "      <td>NaN</td>\n",
       "    </tr>\n",
       "    <tr>\n",
       "      <th>4</th>\n",
       "      <td>529257371</td>\n",
       "      <td>1244539.0</td>\n",
       "      <td>NY Studio Assistant</td>\n",
       "      <td>YOU COULD BE ONE OF THE MAGIC MAKERS\\nKen Fulk...</td>\n",
       "      <td>NaN</td>\n",
       "      <td>NaN</td>\n",
       "      <td>NaN</td>\n",
       "      <td>NaN</td>\n",
       "      <td>Full-time</td>\n",
       "      <td>New York, NY</td>\n",
       "      <td>...</td>\n",
       "      <td>1.710000e+12</td>\n",
       "      <td>NaN</td>\n",
       "      <td>NaN</td>\n",
       "      <td>NaN</td>\n",
       "      <td>1.690000e+12</td>\n",
       "      <td>NaN</td>\n",
       "      <td>1</td>\n",
       "      <td>FULL_TIME</td>\n",
       "      <td>NaN</td>\n",
       "      <td>NaN</td>\n",
       "    </tr>\n",
       "  </tbody>\n",
       "</table>\n",
       "<p>5 rows × 27 columns</p>\n",
       "</div>"
      ],
      "text/plain": [
       "      job_id  company_id                     title  \\\n",
       "0   85008768         NaN  Licensed Insurance Agent   \n",
       "1  133114754  77766802.0             Sales Manager   \n",
       "2  133196985   1089558.0        Model Risk Auditor   \n",
       "3  381055942  96654609.0          Business Manager   \n",
       "4  529257371   1244539.0       NY Studio Assistant   \n",
       "\n",
       "                                         description  max_salary  med_salary  \\\n",
       "0  While many industries were hurt by the last fe...     52000.0         NaN   \n",
       "1  Are you a dynamic and creative marketing profe...         NaN         NaN   \n",
       "2  Join Us as a Model Risk Auditor – Showcase You...         NaN         NaN   \n",
       "3  Business ManagerFirst Baptist Church ForneyFor...         NaN         NaN   \n",
       "4  YOU COULD BE ONE OF THE MAGIC MAKERS\\nKen Fulk...         NaN         NaN   \n",
       "\n",
       "   min_salary pay_period formatted_work_type           location  ...  \\\n",
       "0     45760.0     YEARLY           Full-time          Chico, CA  ...   \n",
       "1         NaN        NaN           Full-time  Santa Clarita, CA  ...   \n",
       "2         NaN        NaN            Contract       New York, NY  ...   \n",
       "3         NaN        NaN           Full-time         Forney, TX  ...   \n",
       "4         NaN        NaN           Full-time       New York, NY  ...   \n",
       "\n",
       "         expiry  closed_time  formatted_experience_level  skills_desc  \\\n",
       "0  1.710000e+12          NaN                         NaN          NaN   \n",
       "1  1.700000e+12          NaN                         NaN          NaN   \n",
       "2  1.700000e+12          NaN                         NaN          NaN   \n",
       "3  1.700000e+12          NaN                         NaN          NaN   \n",
       "4  1.710000e+12          NaN                         NaN          NaN   \n",
       "\n",
       "    listed_time posting_domain sponsored  work_type  currency  \\\n",
       "0  1.690000e+12            NaN         1  FULL_TIME       USD   \n",
       "1  1.690000e+12            NaN         0  FULL_TIME       NaN   \n",
       "2  1.690000e+12            NaN         0   CONTRACT       NaN   \n",
       "3  1.690000e+12            NaN         0  FULL_TIME       NaN   \n",
       "4  1.690000e+12            NaN         1  FULL_TIME       NaN   \n",
       "\n",
       "  compensation_type  \n",
       "0       BASE_SALARY  \n",
       "1               NaN  \n",
       "2               NaN  \n",
       "3               NaN  \n",
       "4               NaN  \n",
       "\n",
       "[5 rows x 27 columns]"
      ]
     },
     "execution_count": 3,
     "metadata": {},
     "output_type": "execute_result"
    }
   ],
   "source": [
    "df.head()"
   ]
  },
  {
   "cell_type": "code",
   "execution_count": null,
   "id": "4b4cd4a2",
   "metadata": {},
   "outputs": [],
   "source": [
    "df.shape"
   ]
  },
  {
   "cell_type": "markdown",
   "id": "f6d1331e",
   "metadata": {},
   "source": [
    "# Data Processing"
   ]
  },
  {
   "cell_type": "markdown",
   "id": "7f257fdb",
   "metadata": {},
   "source": [
    "## Stop Words Removal"
   ]
  },
  {
   "cell_type": "code",
   "execution_count": null,
   "id": "0b16ba4f",
   "metadata": {
    "scrolled": true
   },
   "outputs": [],
   "source": [
    "from nltk.corpus import stopwords\n",
    "# import nltk\n",
    "# nltk.download('stopwords')\n",
    "stop_words = stopwords.words('english')\n",
    "stop_words.append('nan')\n",
    "stop_words.append('removed')\n",
    "stop_words.remove('not')\n",
    "stop_words.remove('no')\n",
    "stop_words[:10]"
   ]
  },
  {
   "cell_type": "code",
   "execution_count": null,
   "id": "1a83c9cc",
   "metadata": {},
   "outputs": [],
   "source": [
    "df['Data'] = df['Data'].apply(lambda x: ' '.join([word for word in x.split() if word not in (stop_words)]))"
   ]
  },
  {
   "cell_type": "code",
   "execution_count": null,
   "id": "f41f193a",
   "metadata": {},
   "outputs": [],
   "source": [
    "df.head()"
   ]
  },
  {
   "cell_type": "markdown",
   "id": "d3abcd78",
   "metadata": {},
   "source": [
    "## Tokenise Words & Put into Matrix"
   ]
  },
  {
   "cell_type": "code",
   "execution_count": null,
   "id": "7ad2b116",
   "metadata": {},
   "outputs": [],
   "source": [
    "from sklearn.feature_extraction.text import CountVectorizer\n",
    "import numpy as np"
   ]
  },
  {
   "cell_type": "code",
   "execution_count": null,
   "id": "d5081359",
   "metadata": {},
   "outputs": [],
   "source": [
    "# Create a CountVectorizer instance\n",
    "vectorizer = CountVectorizer()\n",
    "\n",
    "# Preparing the data to fit_tranformation\n",
    "listofData  = list(df[\"Data\"].array)\n",
    "\n",
    "# Create the Matrix\n",
    "matrix = vectorizer.fit_transform(listofData)\n",
    "matrix = matrix.toarray()\n",
    "\n",
    "# Add into new column in df\n",
    "df[\"Vector\"] = [row.tolist() for row in matrix]\n",
    "df"
   ]
  },
  {
   "cell_type": "markdown",
   "id": "f3cf7fe1-77d8-487f-a6bc-e655f2f8c973",
   "metadata": {},
   "source": [
    "## Calculating L2 Distance"
   ]
  },
  {
   "cell_type": "code",
   "execution_count": null,
   "id": "02e204a6-d40f-4a68-9000-f3ca10f38045",
   "metadata": {},
   "outputs": [],
   "source": [
    "def l2_distance(v1, v2):\n",
    "    if (len(v1) != len(v2)):\n",
    "        print(\"Vectors not of the same dimension\")\n",
    "        return -1\n",
    "    sum = 0\n",
    "    for i, pt in enumerate(v1):\n",
    "        sum += (pt - v2[i])**2\n",
    "    return sum ** 0.5"
   ]
  },
  {
   "cell_type": "code",
   "execution_count": null,
   "id": "3490839c-0291-441d-8499-8d668f102f50",
   "metadata": {},
   "outputs": [],
   "source": [
    "l2_distance(df['Vector'][0], df['Vector'][1])"
   ]
  },
  {
   "cell_type": "code",
   "execution_count": null,
   "id": "6b217d8c-4bf1-48ca-bae3-38a421ca9be2",
   "metadata": {
    "scrolled": true
   },
   "outputs": [],
   "source": [
    "l2DistanceDf = df.copy()\n",
    "v1 = df['Vector'][0]\n",
    "l2DistanceDf[\"Distance from v1\"] = df['Vector'].apply(lambda x: l2_distance(v1,x))\n",
    "l2DistanceDf"
   ]
  },
  {
   "cell_type": "markdown",
   "id": "981d8c46-993c-49d2-b818-b6bf9c3cb076",
   "metadata": {},
   "source": [
    "## Calculating Cosine Similarity"
   ]
  },
  {
   "cell_type": "code",
   "execution_count": null,
   "id": "108a0ad1-4adf-4544-89c3-7b6ad5ec82c1",
   "metadata": {},
   "outputs": [],
   "source": [
    "def cosine_sim(v1,v2):\n",
    "    if (len(v1) != len(v2)):\n",
    "        print(\"Vectors not of the same dimension\")\n",
    "        return -1\n",
    "    dotProduct = 0\n",
    "    sumOfSquaredV1 = 0\n",
    "    sumOfSquaredV2 = 0\n",
    "    for i, pt in enumerate(v1):\n",
    "        dotProduct += pt*v2[i]\n",
    "        sumOfSquaredV1 += pt*pt\n",
    "        sumOfSquaredV2 += v2[i] * v2[i]\n",
    "    \n",
    "    cosineSimilarity = dotProduct/((sumOfSquaredV1 ** 0.5) * (sumOfSquaredV2 ** 0.5))\n",
    "    return cosineSimilarity"
   ]
  },
  {
   "cell_type": "code",
   "execution_count": null,
   "id": "dd0a4bcf-6ff4-4b46-9a43-20d7c5f65095",
   "metadata": {},
   "outputs": [],
   "source": [
    "print(cosine_sim(df['Vector'][0], df['Vector'][1]))\n",
    "print(cosine_sim(df['Vector'][0], df['Vector'][0]))"
   ]
  },
  {
   "cell_type": "code",
   "execution_count": null,
   "id": "d61052ea-dead-43f9-93ce-353b9322bf96",
   "metadata": {},
   "outputs": [],
   "source": [
    "cosSimDf = df.copy()\n",
    "v1 = df['Vector'][0]\n",
    "cosSimDf[\"Cosine Similarity with v1\"] = df['Vector'].apply(lambda x: cosine_sim(v1,x))\n",
    "cosSimDf"
   ]
  },
  {
   "cell_type": "code",
   "execution_count": null,
   "id": "3491cd54-1f1c-4b33-b55a-9d404795d9ae",
   "metadata": {},
   "outputs": [],
   "source": [
    "cosSimDf[cosSimDf[\"Cosine Similarity with v1\"] != 0]"
   ]
  },
  {
   "cell_type": "code",
   "execution_count": null,
   "id": "0c67c5db-758d-450d-aa05-2c21bd3737c9",
   "metadata": {},
   "outputs": [],
   "source": [
    "print(cosSimDf[\"Data\"][0])\n",
    "print(cosSimDf[\"Data\"][119])\n",
    "print(cosSimDf[\"Data\"][len(cosSimDf['Data'])-1])"
   ]
  },
  {
   "cell_type": "code",
   "execution_count": null,
   "id": "cce6fb5b-5ea1-4568-ad5a-6d3a50b7edea",
   "metadata": {},
   "outputs": [],
   "source": [
    "import time\n",
    "# sample_queries = [\"Looking for newest Fragrant Dior perfume\",\n",
    "#                   \"Hottest Gucci trends\",\n",
    "#                   \"Polo ralph lauren for fathers day\",\n",
    "#                   \"Balenciaga latest products\",\n",
    "#                   \"Prada leather handbags\",\n",
    "#                   \"Rolex submariner on sale\",\n",
    "#                   \"Louis Vuitton black bag\",\n",
    "#                   \"Tiffany And Co Bracelet\",\n",
    "#                   \"Chanel pink bag\",\n",
    "#                   \"London gucci shoes\"]\n",
    "\n",
    "sample_queries = [\"beautiful bags\", \"horrible watch bad design\", \"Bad Rolex\"]\n",
    "elapse_time = []\n",
    "\n",
    "for query in sample_queries:\n",
    "    tempDf = df[['Data']].copy()\n",
    "    start_time = time.time()\n",
    "    \n",
    "    new_record = pd.DataFrame([{'Data':query}])\n",
    "    tempDf = pd.concat([tempDf, new_record], ignore_index=True)\n",
    "    \n",
    "    # Create a CountVectorizer instance\n",
    "    vectorizer = CountVectorizer()\n",
    "    # Preparing the data to fit_tranformation\n",
    "    listofData  = list(tempDf[\"Data\"].array)\n",
    "    # Create the Matrix\n",
    "    matrix = vectorizer.fit_transform(listofData)\n",
    "    matrix = matrix.toarray()\n",
    "    # Creating a Vector column column in df\n",
    "    tempDf[\"Vector\"] = [row.tolist() for row in matrix]\n",
    "    \n",
    "    print(tempDf['Data'][len(tempDf['Data'])-1])\n",
    "    v1 = tempDf['Vector'][len(tempDf['Data'])-1]\n",
    "    tempDf['Vector'] = tempDf['Vector'].apply(lambda x: cosine_sim(v1,x))\n",
    "    \n",
    "    end_time = time.time()\n",
    "    \n",
    "    tempDf.to_csv(\"Linear Search Results//\"+query.replace(\" \",\"_\")+\".csv\")\n",
    "    \n",
    "    elapse_time.append(end_time-start_time)\n",
    "\n",
    "print(elapse_time)"
   ]
  },
  {
   "cell_type": "code",
   "execution_count": null,
   "id": "66620f83-522e-4b6b-bc75-221992cad813",
   "metadata": {},
   "outputs": [],
   "source": [
    "tempDf[tempDf['Vector'] > 0.5]"
   ]
  },
  {
   "cell_type": "code",
   "execution_count": null,
   "id": "2d8d84aa-150d-469e-b1ad-7613d2e2b1e5",
   "metadata": {},
   "outputs": [],
   "source": [
    "[10.759878635406494, 10.649078607559204, 10.477964639663696, 10.413733005523682, 10.690922498703003, 11.268934488296509, 10.590667247772217, 10.398170709609985, 10.412941455841064, 10.494908809661865]"
   ]
  }
 ],
 "metadata": {
  "kernelspec": {
   "display_name": "Python 3 (ipykernel)",
   "language": "python",
   "name": "python3"
  },
  "language_info": {
   "codemirror_mode": {
    "name": "ipython",
    "version": 3
   },
   "file_extension": ".py",
   "mimetype": "text/x-python",
   "name": "python",
   "nbconvert_exporter": "python",
   "pygments_lexer": "ipython3",
   "version": "3.11.6"
  }
 },
 "nbformat": 4,
 "nbformat_minor": 5
}
