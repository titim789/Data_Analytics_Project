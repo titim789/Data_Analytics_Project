{
 "cells": [
  {
   "cell_type": "code",
   "execution_count": 1,
   "metadata": {
    "id": "LfYW-mWOCeOi"
   },
   "outputs": [],
   "source": [
    "import pandas as pd\n",
    "import time\n",
    "import random\n",
    "from nltk.corpus import stopwords\n",
    "import nltk\n",
    "from sklearn.feature_extraction.text import CountVectorizer\n",
    "import numpy as np\n",
    "import math"
   ]
  },
  {
   "cell_type": "code",
   "execution_count": 2,
   "metadata": {
    "id": "HNZm-LufF2o4"
   },
   "outputs": [],
   "source": [
    "df = pd.read_json(\"job_postings_prepped.json\")"
   ]
  },
  {
   "cell_type": "markdown",
   "metadata": {},
   "source": [
    "## LSH **Calculations**\n"
   ]
  },
  {
   "cell_type": "code",
   "execution_count": 3,
   "metadata": {},
   "outputs": [
    {
     "name": "stderr",
     "output_type": "stream",
     "text": [
      "C:\\Users\\ragne\\AppData\\Local\\Temp\\ipykernel_1784\\3778698625.py:17: DeprecationWarning: Conversion of an array with ndim > 0 to a scalar is deprecated, and will error in future. Ensure you extract a single element from your array before performing this operation. (Deprecated NumPy 1.25.)\n",
      "  hash_functions[index] = random_vector\n"
     ]
    }
   ],
   "source": [
    "import json\n",
    "\n",
    "k = 100 #TODO: find out optimal value\n",
    "vector_dimensions = len(df['Vector'][0])\n",
    "non_zero_values = len(df['Vector'][0]) #TODO: find out optimal value\n",
    "\n",
    "def generate_hash_function(k,vector_dimensions,non_zero_values):\n",
    "    hash_functions_list = []\n",
    "\n",
    "    for i in range(k):\n",
    "\n",
    "        hash_functions = np.zeros(vector_dimensions)\n",
    "        selected_indexes = random.sample(range(vector_dimensions),non_zero_values)\n",
    "        \n",
    "        for index in selected_indexes:\n",
    "            random_vector = np.random.randn(1)\n",
    "            hash_functions[index] = random_vector\n",
    "\n",
    "        hash_functions_list.append(hash_functions)\n",
    "\n",
    "    return hash_functions_list\n",
    "\n",
    "random_hash_functions = generate_hash_function(k,vector_dimensions,non_zero_values)\n",
    "random_hash_functions_df = pd.DataFrame({'Hash_Functions': random_hash_functions})\n",
    "\n",
    "random_hash_functions_df.to_json('LSH Search Results/LSH Random Hash Functions.json', index=False)\n"
   ]
  },
  {
   "cell_type": "code",
   "execution_count": 4,
   "metadata": {
    "colab": {
     "background_save": true
    },
    "id": "YofeI8XDNe8t",
    "outputId": "ec9b6cf4-1175-4d13-982b-b8cf03e96c50"
   },
   "outputs": [],
   "source": [
    "# Perform dot product and get binary vectors\n",
    "def generate_binary_vectors(input_vector,random_hash_functions_df):\n",
    "  binary_vector = []\n",
    "  for i,row in random_hash_functions_df.iterrows():\n",
    "\n",
    "    input_vector = np.asarray(input_vector, dtype=np.float64)\n",
    "    hash_function = np.asarray(row['Hash_Functions'], dtype=np.float64)\n",
    "    \n",
    "    dot_product = np.dot(input_vector,hash_function)\n",
    "    # result = 0 if dot_product <= 0 else 1\n",
    "    result = np.where(dot_product <= 0, 0, 1)\n",
    "    binary_vector.append(result)\n",
    "  return binary_vector\n",
    "\n",
    "# Make a new column called Binary Vectors for all the binary vectors\n",
    "# random_hash_functions_df = pd.read_json('LSH Search Results/LSH Random Hash Functions.json')\n",
    "# df['Binary Vectors'] = df['Vector'].apply(lambda x : generate_binary_vectors(x,random_hash_functions_df))"
   ]
  },
  {
   "cell_type": "code",
   "execution_count": 5,
   "metadata": {},
   "outputs": [],
   "source": [
    "# Perform linear search on binary vector using hamming distance Dh\n",
    "def hamming_distance(query_vector,database_sample):\n",
    "  mismatched_bits = 0\n",
    "  for i in range(len(query_vector)):\n",
    "    if query_vector[i] != database_sample[i]:\n",
    "      mismatched_bits += 1\n",
    "  return mismatched_bits"
   ]
  },
  {
   "cell_type": "markdown",
   "metadata": {},
   "source": [
    "##### Find Best K Value Time from 10 to 100"
   ]
  },
  {
   "cell_type": "code",
   "execution_count": null,
   "metadata": {},
   "outputs": [],
   "source": [
    "#Calculate K Value Time Comparison\n",
    "# k_time_dict = {}\n",
    "# vector_dimensions = len(df['Vector'][0])\n",
    "# non_zero_values = len(df['Vector'][0]) #TODO: find out optimal value\n",
    "\n",
    "# for k in range(10,101,10):\n",
    "#     start = time.time()\n",
    "\n",
    "#     random_hash_functions = generate_hash_function(k,vector_dimensions,non_zero_values)\n",
    "#     binary_vectors_list = df['Vector'].apply( lambda x : one_hashing_function(x,random_hash_functions))\n",
    "\n",
    "#     end = time.time()\n",
    "#     results_time = end - start\n",
    "#     k_time_dict[k] = results_time\n",
    "#     k_df = pd.DataFrame(list(k_time_dict.items()), columns=['K Value', 'Time'])\n",
    "#     k_df.to_csv(f'LSH Search Results/K_Value_Time.csv', index=False)\n"
   ]
  },
  {
   "cell_type": "markdown",
   "metadata": {},
   "source": [
    "## Calculate 10 different queries accuracies"
   ]
  },
  {
   "cell_type": "code",
   "execution_count": 9,
   "metadata": {},
   "outputs": [
    {
     "ename": "ValueError",
     "evalue": "shapes (45,) and (105248,) not aligned: 45 (dim 0) != 105248 (dim 0)",
     "output_type": "error",
     "traceback": [
      "\u001b[1;31m---------------------------------------------------------------------------\u001b[0m",
      "\u001b[1;31mValueError\u001b[0m                                Traceback (most recent call last)",
      "\u001b[1;32mc:\\Github\\Data_Analytics_Project\\LocalSensitiveHashing.ipynb Cell 10\u001b[0m line \u001b[0;36m4\n\u001b[0;32m     <a href='vscode-notebook-cell:/c%3A/Github/Data_Analytics_Project/LocalSensitiveHashing.ipynb#X12sZmlsZQ%3D%3D?line=42'>43</a>\u001b[0m df\u001b[39m.\u001b[39mto_csv(\u001b[39m'\u001b[39m\u001b[39mLSH Search Results/LSH Database with Binary Vectors.csv\u001b[39m\u001b[39m'\u001b[39m)\n\u001b[0;32m     <a href='vscode-notebook-cell:/c%3A/Github/Data_Analytics_Project/LocalSensitiveHashing.ipynb#X12sZmlsZQ%3D%3D?line=44'>45</a>\u001b[0m \u001b[39m# Do LSH Calculations for query vectors\u001b[39;00m\n\u001b[1;32m---> <a href='vscode-notebook-cell:/c%3A/Github/Data_Analytics_Project/LocalSensitiveHashing.ipynb#X12sZmlsZQ%3D%3D?line=45'>46</a>\u001b[0m query_dict_binary_vectors \u001b[39m=\u001b[39m [generate_binary_vectors(vector, random_hash_functions_df) \u001b[39mfor\u001b[39;49;00m vector \u001b[39min\u001b[39;49;00m matrix]\n\u001b[0;32m     <a href='vscode-notebook-cell:/c%3A/Github/Data_Analytics_Project/LocalSensitiveHashing.ipynb#X12sZmlsZQ%3D%3D?line=47'>48</a>\u001b[0m query_df[\u001b[39m'\u001b[39m\u001b[39mVectors\u001b[39m\u001b[39m'\u001b[39m] \u001b[39m=\u001b[39m [row\u001b[39m.\u001b[39mtolist() \u001b[39mfor\u001b[39;00m row \u001b[39min\u001b[39;00m matrix]\n\u001b[0;32m     <a href='vscode-notebook-cell:/c%3A/Github/Data_Analytics_Project/LocalSensitiveHashing.ipynb#X12sZmlsZQ%3D%3D?line=48'>49</a>\u001b[0m query_df[\u001b[39m'\u001b[39m\u001b[39mBinary Vectors\u001b[39m\u001b[39m'\u001b[39m] \u001b[39m=\u001b[39m query_dict_binary_vectors\n",
      "\u001b[1;32mc:\\Github\\Data_Analytics_Project\\LocalSensitiveHashing.ipynb Cell 10\u001b[0m line \u001b[0;36m4\n\u001b[0;32m     <a href='vscode-notebook-cell:/c%3A/Github/Data_Analytics_Project/LocalSensitiveHashing.ipynb#X12sZmlsZQ%3D%3D?line=42'>43</a>\u001b[0m df\u001b[39m.\u001b[39mto_csv(\u001b[39m'\u001b[39m\u001b[39mLSH Search Results/LSH Database with Binary Vectors.csv\u001b[39m\u001b[39m'\u001b[39m)\n\u001b[0;32m     <a href='vscode-notebook-cell:/c%3A/Github/Data_Analytics_Project/LocalSensitiveHashing.ipynb#X12sZmlsZQ%3D%3D?line=44'>45</a>\u001b[0m \u001b[39m# Do LSH Calculations for query vectors\u001b[39;00m\n\u001b[1;32m---> <a href='vscode-notebook-cell:/c%3A/Github/Data_Analytics_Project/LocalSensitiveHashing.ipynb#X12sZmlsZQ%3D%3D?line=45'>46</a>\u001b[0m query_dict_binary_vectors \u001b[39m=\u001b[39m [generate_binary_vectors(vector, random_hash_functions_df) \u001b[39mfor\u001b[39;00m vector \u001b[39min\u001b[39;00m matrix]\n\u001b[0;32m     <a href='vscode-notebook-cell:/c%3A/Github/Data_Analytics_Project/LocalSensitiveHashing.ipynb#X12sZmlsZQ%3D%3D?line=47'>48</a>\u001b[0m query_df[\u001b[39m'\u001b[39m\u001b[39mVectors\u001b[39m\u001b[39m'\u001b[39m] \u001b[39m=\u001b[39m [row\u001b[39m.\u001b[39mtolist() \u001b[39mfor\u001b[39;00m row \u001b[39min\u001b[39;00m matrix]\n\u001b[0;32m     <a href='vscode-notebook-cell:/c%3A/Github/Data_Analytics_Project/LocalSensitiveHashing.ipynb#X12sZmlsZQ%3D%3D?line=48'>49</a>\u001b[0m query_df[\u001b[39m'\u001b[39m\u001b[39mBinary Vectors\u001b[39m\u001b[39m'\u001b[39m] \u001b[39m=\u001b[39m query_dict_binary_vectors\n",
      "\u001b[1;32mc:\\Github\\Data_Analytics_Project\\LocalSensitiveHashing.ipynb Cell 10\u001b[0m line \u001b[0;36m9\n\u001b[0;32m      <a href='vscode-notebook-cell:/c%3A/Github/Data_Analytics_Project/LocalSensitiveHashing.ipynb#X12sZmlsZQ%3D%3D?line=5'>6</a>\u001b[0m input_vector \u001b[39m=\u001b[39m np\u001b[39m.\u001b[39masarray(input_vector, dtype\u001b[39m=\u001b[39mnp\u001b[39m.\u001b[39mfloat64)\n\u001b[0;32m      <a href='vscode-notebook-cell:/c%3A/Github/Data_Analytics_Project/LocalSensitiveHashing.ipynb#X12sZmlsZQ%3D%3D?line=6'>7</a>\u001b[0m hash_function \u001b[39m=\u001b[39m np\u001b[39m.\u001b[39masarray(row[\u001b[39m'\u001b[39m\u001b[39mHash_Functions\u001b[39m\u001b[39m'\u001b[39m], dtype\u001b[39m=\u001b[39mnp\u001b[39m.\u001b[39mfloat64)\n\u001b[1;32m----> <a href='vscode-notebook-cell:/c%3A/Github/Data_Analytics_Project/LocalSensitiveHashing.ipynb#X12sZmlsZQ%3D%3D?line=8'>9</a>\u001b[0m dot_product \u001b[39m=\u001b[39m np\u001b[39m.\u001b[39;49mdot(input_vector,hash_function)\n\u001b[0;32m     <a href='vscode-notebook-cell:/c%3A/Github/Data_Analytics_Project/LocalSensitiveHashing.ipynb#X12sZmlsZQ%3D%3D?line=9'>10</a>\u001b[0m \u001b[39m# result = 0 if dot_product <= 0 else 1\u001b[39;00m\n\u001b[0;32m     <a href='vscode-notebook-cell:/c%3A/Github/Data_Analytics_Project/LocalSensitiveHashing.ipynb#X12sZmlsZQ%3D%3D?line=10'>11</a>\u001b[0m result \u001b[39m=\u001b[39m np\u001b[39m.\u001b[39mwhere(dot_product \u001b[39m<\u001b[39m\u001b[39m=\u001b[39m \u001b[39m0\u001b[39m, \u001b[39m0\u001b[39m, \u001b[39m1\u001b[39m)\n",
      "\u001b[1;31mValueError\u001b[0m: shapes (45,) and (105248,) not aligned: 45 (dim 0) != 105248 (dim 0)"
     ]
    }
   ],
   "source": [
    "# Calculate 10 different queries accuracies\n",
    "import os\n",
    "\n",
    "query_dict = {'Q1': \"resilient investment banker\", \n",
    "              'Q2': \"2 years experience product manager\", \n",
    "              'Q3': \"10 years risk analyst problem solver\", \n",
    "              'Q4': \"tax analyst for big company\", \n",
    "              'Q5': \"software engineer for google or amazon\", \n",
    "              'Q6': \"video editor for advertisements with 5 year experience\",\n",
    "              'Q7': \"full time senior head nurse position\",\n",
    "              'Q8': \"after school math and science tutor\",\n",
    "              'Q9': \"dietitian for professional atheletes\",\n",
    "              'Q10': \"costume designer and makeup artist\"}\n",
    "\n",
    "query_df = pd.DataFrame.from_dict(query_dict, orient='index', columns=['Query Text'])\n",
    "\n",
    "# Combine the data from the DataFrame and query_dict into a single list\n",
    "# all_data = list(df[\"Data\"].array) + list(query_dict.values())\n",
    "\n",
    "vectorizer = CountVectorizer()\n",
    "matrix = vectorizer.fit_transform(list(query_dict.values()))\n",
    "matrix = matrix.toarray()\n",
    "\n",
    "# Separate the vectors for the DataFrame and query_dict\n",
    "# df_vectors = matrix[:len(df)]\n",
    "# query_dict_vectors = matrix[len(df):]\n",
    "\n",
    "# df[\"Vector\"] = [row.tolist() for row in df_vectors]\n",
    "\n",
    "# Variables for LSH #TODO: EDIT THIS FOR ACCURACY\n",
    "k = 100\n",
    "vector_dimensions = len(df['Vector'][0])\n",
    "non_zero_values = len(df['Vector'][0])\n",
    "\n",
    "# Generate Random Hash Functions\n",
    "# random_hash_functions = generate_hash_function(k,vector_dimensions,non_zero_values)\n",
    "# random_hash_functions.to_csv('LSH Search Results/LSH Random Hash Functions.csv')\n",
    "\n",
    "random_hash_functions_df = pd.read_json('LSH Search Results/LSH Random Hash Functions.json')\n",
    "\n",
    "# # Do LSH Calculations for database\n",
    "df['Binary Vectors'] = df['Vector'].apply( lambda x : generate_binary_vectors(x,random_hash_functions_df))\n",
    "df.to_csv('LSH Search Results/LSH Database with Binary Vectors.csv')\n",
    "\n",
    "# Do LSH Calculations for query vectors\n",
    "query_dict_binary_vectors = [generate_binary_vectors(vector, random_hash_functions_df) for vector in matrix]\n",
    "\n",
    "query_df['Vectors'] = [row.tolist() for row in matrix]\n",
    "query_df['Binary Vectors'] = query_dict_binary_vectors\n",
    "\n",
    "query_df.to_csv('LSH Search Results/LSH Query Vectors with Binary Vectors.csv')"
   ]
  },
  {
   "cell_type": "code",
   "execution_count": 143,
   "metadata": {},
   "outputs": [],
   "source": [
    "query_df = pd.read_csv('LSH Search Results/LSH Query Vectors with Binary Vectors.csv')\n",
    "df = pd.read_csv('LSH Search Results/LSH Database with Binary Vectors.csv')"
   ]
  },
  {
   "cell_type": "code",
   "execution_count": 145,
   "metadata": {},
   "outputs": [],
   "source": [
    "# Specify the folder path\n",
    "folder_path = 'LSH Search Results'\n",
    "\n",
    "# Define the Excel file path\n",
    "excel_file_path = os.path.join(folder_path, 'LSH_Search_Results.xlsx')\n",
    "\n",
    "with pd.ExcelWriter(excel_file_path, engine='xlsxwriter') as writer:     \n",
    "    \n",
    "    for query_name,query_row in query_df.iterrows():\n",
    "\n",
    "        mismatched_list = []\n",
    "\n",
    "        for i, row in df.iterrows():\n",
    "            mismatched_list.append(hamming_distance(query_row['Binary Vectors'],row['Binary Vectors'])) \n",
    "        \n",
    "        df['Distance'] = mismatched_list\n",
    "\n",
    "        # Get only data and distance from query_name\n",
    "        query_result_df = df[['Data', 'Distance']].copy()\n",
    "\n",
    "        # Get the top 50 results based on the 'Distance' column\n",
    "        # query_result_top = query_result_df.nsmallest(50, 'Distance') \n",
    "    \n",
    "        # Loop through each unique query and create separate sheets\n",
    "        query_result_df.to_excel(writer, sheet_name=f'Results_{query_name}', index=False)"
   ]
  }
 ],
 "metadata": {
  "colab": {
   "provenance": []
  },
  "kernelspec": {
   "display_name": "Python 3 (ipykernel)",
   "language": "python",
   "name": "python3"
  },
  "language_info": {
   "codemirror_mode": {
    "name": "ipython",
    "version": 3
   },
   "file_extension": ".py",
   "mimetype": "text/x-python",
   "name": "python",
   "nbconvert_exporter": "python",
   "pygments_lexer": "ipython3",
   "version": "3.11.2"
  }
 },
 "nbformat": 4,
 "nbformat_minor": 4
}
