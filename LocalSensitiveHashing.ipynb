{
 "cells": [
  {
   "cell_type": "code",
   "execution_count": 72,
   "metadata": {
    "id": "LfYW-mWOCeOi"
   },
   "outputs": [],
   "source": [
    "import pandas as pd\n",
    "import time\n",
    "import random\n",
    "from nltk.corpus import stopwords\n",
    "import nltk\n",
    "from sklearn.feature_extraction.text import CountVectorizer\n",
    "import numpy as np\n",
    "import math"
   ]
  },
  {
   "cell_type": "code",
   "execution_count": 73,
   "metadata": {
    "id": "HNZm-LufF2o4"
   },
   "outputs": [],
   "source": [
    "df = pd.read_excel(\"Polarity.xlsx\")"
   ]
  },
  {
   "cell_type": "markdown",
   "metadata": {
    "id": "kXrxCjSPGcQF"
   },
   "source": [
    "# Data Processing"
   ]
  },
  {
   "cell_type": "markdown",
   "metadata": {
    "id": "YbNf9pEKGdAb"
   },
   "source": [
    "## Stop Words Removal"
   ]
  },
  {
   "cell_type": "code",
   "execution_count": 74,
   "metadata": {
    "colab": {
     "base_uri": "https://localhost:8080/"
    },
    "id": "OxufrkJsGGlf",
    "outputId": "c5d79626-8a2f-4da6-fe6b-878f6e3ab5b4"
   },
   "outputs": [
    {
     "name": "stderr",
     "output_type": "stream",
     "text": [
      "[nltk_data] Downloading package stopwords to\n",
      "[nltk_data]     C:\\Users\\ragne\\AppData\\Roaming\\nltk_data...\n",
      "[nltk_data]   Package stopwords is already up-to-date!\n"
     ]
    },
    {
     "data": {
      "text/plain": [
       "['i', 'me', 'my', 'myself', 'we', 'our', 'ours', 'ourselves', 'you', \"you're\"]"
      ]
     },
     "execution_count": 74,
     "metadata": {},
     "output_type": "execute_result"
    }
   ],
   "source": [
    "nltk.download('stopwords')\n",
    "\n",
    "stop_words = stopwords.words('english')\n",
    "stop_words.append('nan')\n",
    "stop_words.append('removed')\n",
    "stop_words.remove('not')\n",
    "stop_words.remove('no')\n",
    "stop_words[:10]"
   ]
  },
  {
   "cell_type": "code",
   "execution_count": 75,
   "metadata": {
    "id": "4onnC1d_GXl3"
   },
   "outputs": [],
   "source": [
    "df['Data'] = df['Data'].apply(lambda x: ' '.join([word for word in x.split() if word not in (stop_words)]))"
   ]
  },
  {
   "cell_type": "markdown",
   "metadata": {
    "id": "JoH-rpPuGf6e"
   },
   "source": [
    "## Tokenise Words & Put into Matrix\n",
    "\n"
   ]
  },
  {
   "cell_type": "code",
   "execution_count": 76,
   "metadata": {
    "colab": {
     "base_uri": "https://localhost:8080/",
     "height": 423
    },
    "id": "n4MRmrtpGZmH",
    "outputId": "558d9aab-8f78-4ae6-a597-f5a0fafc4515"
   },
   "outputs": [],
   "source": [
    "# Create a CountVectorizer instance\n",
    "vectorizer = CountVectorizer()\n",
    "\n",
    "# Preparing the data to fit_tranformation\n",
    "listofData  = list(df[\"Data\"].array)\n",
    "\n",
    "# Create the Matrix\n",
    "matrix = vectorizer.fit_transform(listofData)\n",
    "matrix = matrix.toarray()\n",
    "\n",
    "# Add into new column in df\n",
    "df[\"Vector\"] = [row.tolist() for row in matrix]"
   ]
  },
  {
   "cell_type": "markdown",
   "metadata": {
    "id": "M24mQ9e-4nTZ"
   },
   "source": [
    "## LSH **Calculations**\n"
   ]
  },
  {
   "cell_type": "code",
   "execution_count": 77,
   "metadata": {},
   "outputs": [],
   "source": [
    "# k = 20 #TODO: find out optimal value\n",
    "# vector_dimensions = len(df['Vector'][0])\n",
    "# non_zero_values = len(df['Vector'][0]) #TODO: find out optimal value\n",
    "\n",
    "def generate_hash_function(k,vector_dimensions,non_zero_values):\n",
    "    hash_functions_list = []\n",
    "\n",
    "    for i in range(k):\n",
    "\n",
    "        hash_functions = np.zeros((1,vector_dimensions))[0]\n",
    "        selected_indexes = random.sample(range(len(hash_functions)),non_zero_values)\n",
    "\n",
    "        for index in selected_indexes:\n",
    "            random_vector = np.random.randn(1)\n",
    "            hash_functions[index] = random_vector\n",
    "\n",
    "        hash_functions_list.append(hash_functions)\n",
    "    \n",
    "    return hash_functions_list\n",
    "\n",
    "# random_hash_functions = generate_hash_function(k,vector_dimensions,non_zero_values)"
   ]
  },
  {
   "cell_type": "code",
   "execution_count": 78,
   "metadata": {
    "colab": {
     "background_save": true
    },
    "id": "YofeI8XDNe8t",
    "outputId": "ec9b6cf4-1175-4d13-982b-b8cf03e96c50"
   },
   "outputs": [],
   "source": [
    "# Perform dot product and get binary vectors\n",
    "def generate_binary_vectors(input_vector,random_hash_functions):\n",
    "  binary_vector = []\n",
    "  for i in range(len(random_hash_functions)):\n",
    "    dot_product = np.dot(input_vector,random_hash_functions[i])\n",
    "    # result = 0 if dot_product <= 0 else 1\n",
    "    result = np.where(dot_product <= 0, 0, 1)\n",
    "    binary_vector.append(result)\n",
    "  return binary_vector\n",
    "\n",
    "# Make a new column called Hashed for all the binary vectors\n",
    "# df['Hashed'] = df['Vector'].apply( lambda x : one_hashing_function(x,random_hash_functions))\n"
   ]
  },
  {
   "cell_type": "code",
   "execution_count": 79,
   "metadata": {},
   "outputs": [],
   "source": [
    "#Calculate K Value Time Comparison\n",
    "# k_time_dict = {}\n",
    "# vector_dimensions = len(df['Vector'][0])\n",
    "# non_zero_values = len(df['Vector'][0]) #TODO: find out optimal value\n",
    "\n",
    "# for k in range(10,100,10):\n",
    "#     start = time.time()\n",
    "\n",
    "#     random_hash_functions = generate_hash_function(k,vector_dimensions,non_zero_values)\n",
    "#     binary_vectors_list = df['Vector'].apply( lambda x : one_hashing_function(x,random_hash_functions))\n",
    "\n",
    "#     end = time.time()\n",
    "#     results_time = end - start\n",
    "#     k_time_dict[k] = results_time\n",
    "#     k_df = pd.DataFrame(list(k_time_dict.items()), columns=['K Value', 'Time'])\n",
    "#     k_df.to_csv(f'LSH Search Results/K_Value_Time.csv', index=False)\n"
   ]
  },
  {
   "cell_type": "code",
   "execution_count": 80,
   "metadata": {
    "colab": {
     "background_save": true
    },
    "id": "RklTxY2UVNV8",
    "outputId": "010aac96-0d78-4bd8-eaa0-319f7b94f191"
   },
   "outputs": [],
   "source": [
    "# Perform linear search on binary vector using hamming distance Dh\n",
    "def hamming_distance(query_vector,database_sample):\n",
    "  mismatched_bits = 0\n",
    "  for i in range(len(query_vector)):\n",
    "    if query_vector[i] != database_sample[i]:\n",
    "      mismatched_bits += 1\n",
    "  return mismatched_bits\n",
    "\n",
    "# query_vector = df.loc[0]['Hashed']\n",
    "# # print(query_vector)\n",
    "\n",
    "# mismatched_list = []\n",
    "# for i, row in df.iterrows():\n",
    "#   mismatched_list.append(hamming_distance(query_vector,row['Hashed']))\n",
    "\n",
    "# df['Distance'] = mismatched_list"
   ]
  },
  {
   "cell_type": "code",
   "execution_count": 81,
   "metadata": {},
   "outputs": [
    {
     "name": "stderr",
     "output_type": "stream",
     "text": [
      "C:\\Users\\ragne\\AppData\\Local\\Temp\\ipykernel_25836\\2304425185.py:15: DeprecationWarning: Conversion of an array with ndim > 0 to a scalar is deprecated, and will error in future. Ensure you extract a single element from your array before performing this operation. (Deprecated NumPy 1.25.)\n",
      "  hash_functions[index] = random_vector\n"
     ]
    }
   ],
   "source": [
    "# Calculate 10 different queries accuracies\n",
    "import os\n",
    "\n",
    "query_dict = {'Q1': 'Looking for newest Fragrant Dior perfume ', \n",
    "              'Q2': 'Rolex submariner on sale', \n",
    "              'Q3': 'Hottest Gucci trends', \n",
    "              'Q4': 'Louis Vuitton black bag', \n",
    "              'Q5': 'Polo ralph lauren for fathers day', \n",
    "              'Q6': 'Tiffany And Co Bracelet',\n",
    "              'Q7': 'Balenciaga latest products',\n",
    "              'Q8': 'Chanel pink bag',\n",
    "              'Q9': 'Prada leather handbags',\n",
    "              'Q10': 'London gucci shoes'}\n",
    "\n",
    "query_df = pd.DataFrame.from_dict(query_dict, orient='index', columns=['Query Text'])\n",
    "\n",
    "# Combine the data from the DataFrame and query_dict into a single list\n",
    "all_data = list(df[\"Data\"].array) + list(query_dict.values())\n",
    "\n",
    "matrix = vectorizer.fit_transform(all_data)\n",
    "matrix = matrix.toarray()\n",
    "\n",
    "# Separate the vectors for the DataFrame and query_dict\n",
    "df_vectors = matrix[:len(df)]\n",
    "query_dict_vectors = matrix[len(df):]\n",
    "\n",
    "df[\"Vector\"] = [row.tolist() for row in df_vectors]\n",
    "\n",
    "# Variables for LSH\n",
    "k = 20\n",
    "vector_dimensions = len(df['Vector'][0])\n",
    "non_zero_values = len(df['Vector'][0])\n",
    "random_hash_functions = generate_hash_function(k,vector_dimensions,non_zero_values)\n",
    "\n",
    "# # Do LSH Calculations for database\n",
    "\n",
    "df['Binary Vectors'] = df['Vector'].apply( lambda x : generate_binary_vectors(x,random_hash_functions))\n",
    "\n",
    "# Do LSH Calculations for query vectors\n",
    "query_dict_binary_vectors = [generate_binary_vectors(vector, random_hash_functions) for vector in query_dict_vectors]\n",
    "\n",
    "query_df['Vectors'] = [row.tolist() for row in query_dict_vectors]\n",
    "query_df['Binary Vectors'] = query_dict_binary_vectors"
   ]
  },
  {
   "cell_type": "code",
   "execution_count": 83,
   "metadata": {},
   "outputs": [],
   "source": [
    "# Specify the folder path\n",
    "folder_path = 'LSH Search Results'\n",
    "\n",
    "# Define the Excel file path\n",
    "excel_file_path = os.path.join(folder_path, 'LSH_Search_Results.xlsx')\n",
    "\n",
    "with pd.ExcelWriter(excel_file_path, engine='xlsxwriter') as writer:     \n",
    "    \n",
    "    for query_name,query_row in query_df.iterrows():\n",
    "        # print('i',query_name)\n",
    "        # print('row',query_row['Binary Vectors'])\n",
    "\n",
    "        mismatched_list = []\n",
    "\n",
    "        for i, row in df.iterrows():\n",
    "            mismatched_list.append(hamming_distance(query_row['Binary Vectors'],row['Binary Vectors'])) \n",
    "        \n",
    "        df['Distance'] = mismatched_list\n",
    "\n",
    "        # Get only data and distance from query_name\n",
    "        query_result_df = df[['Data', 'Distance']].copy()\n",
    "\n",
    "        # Get the top 50 results based on the 'Distance' column\n",
    "        query_result_top = query_result_df.nsmallest(50, 'Distance') \n",
    "    \n",
    "        # Loop through each unique query and create separate sheets\n",
    "        query_result_top.to_excel(writer, sheet_name=f'Results_{query_name}', index=False)"
   ]
  }
 ],
 "metadata": {
  "colab": {
   "provenance": []
  },
  "kernelspec": {
   "display_name": "Python 3 (ipykernel)",
   "language": "python",
   "name": "python3"
  },
  "language_info": {
   "codemirror_mode": {
    "name": "ipython",
    "version": 3
   },
   "file_extension": ".py",
   "mimetype": "text/x-python",
   "name": "python",
   "nbconvert_exporter": "python",
   "pygments_lexer": "ipython3",
   "version": "3.11.2"
  }
 },
 "nbformat": 4,
 "nbformat_minor": 4
}
