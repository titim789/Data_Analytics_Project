{
 "cells": [
  {
   "cell_type": "markdown",
   "metadata": {},
   "source": [
    "# Product Quantization"
   ]
  },
  {
   "cell_type": "code",
   "execution_count": null,
   "metadata": {},
   "outputs": [],
   "source": [
    "import pandas as pd"
   ]
  },
  {
   "cell_type": "code",
   "execution_count": null,
   "metadata": {},
   "outputs": [],
   "source": [
    "# Load data\n",
    "df = pd.read_json(\"job_postings_prepped.json\")"
   ]
  },
  {
   "cell_type": "code",
   "execution_count": null,
   "metadata": {},
   "outputs": [
    {
     "name": "stdout",
     "output_type": "stream",
     "text": [
      "                                                Data  \\\n",
      "0  Licensed Insurance Agent While many industries...   \n",
      "1  Sales Manager Are dynamic creative marketing p...   \n",
      "2  Model Risk Auditor Join Us Model Risk Auditor ...   \n",
      "3  Business Manager Business ManagerFirst Baptist...   \n",
      "4  NY Studio Assistant YOU COULD BE ONE OF THE MA...   \n",
      "\n",
      "                                              Vector  \n",
      "0  [2, 0, 0, 0, 0, 0, 0, 0, 0, 0, 0, 0, 0, 0, 0, ...  \n",
      "1  [0, 0, 0, 0, 0, 0, 0, 0, 0, 0, 0, 0, 0, 0, 0, ...  \n",
      "2  [0, 0, 0, 0, 0, 0, 0, 0, 0, 0, 0, 0, 0, 0, 0, ...  \n",
      "3  [0, 0, 0, 0, 0, 0, 0, 0, 0, 0, 0, 0, 0, 0, 0, ...  \n",
      "4  [0, 0, 0, 0, 0, 0, 0, 0, 0, 0, 0, 0, 0, 0, 0, ...  \n",
      "Dimension of the Vector:  105248\n"
     ]
    }
   ],
   "source": [
    "# Data Exploration\n",
    "# print(df.info())\n",
    "print(df.head())\n",
    "# print(df.shape)\n",
    "\n",
    "# Data Analysis\n",
    "print(\"Dimension of the Vector: \", len(df['Vector'][0]))\n"
   ]
  },
  {
   "cell_type": "markdown",
   "metadata": {},
   "source": [
    "## Initial Memory Size"
   ]
  },
  {
   "cell_type": "code",
   "execution_count": null,
   "metadata": {},
   "outputs": [
    {
     "name": "stdout",
     "output_type": "stream",
     "text": [
      "Vector Dimension:  105248\n",
      "Vector Storage Size (MB):\n",
      "Index         0.625137\n",
      "Data         86.682539\n",
      "Vector    13651.414261\n",
      "dtype: float64\n"
     ]
    }
   ],
   "source": [
    "vector_dimension = len(df['Vector'][0])\n",
    "vector_size = df.memory_usage(deep=True)['Vector'] \n",
    "print(\"Vector Dimension: \", vector_dimension)\n",
    "print(\"Vector Storage Size (MB):\")\n",
    "print( df.memory_usage(deep=True) / 1024**2 )"
   ]
  },
  {
   "cell_type": "markdown",
   "metadata": {},
   "source": [
    "# Product Quantization \n",
    "Product Quatization is a method to reduce the memory usage of the codebook.\n",
    "The idea is to split the codebook into sub-codebooks and quantize the data into sub-vectors.\n",
    "The sub-vectors are then quantized into sub-codebooks.\n",
    "The sub-codebook indices are then concatenated to form the final codebook index.\n"
   ]
  },
  {
   "cell_type": "code",
   "execution_count": null,
   "metadata": {},
   "outputs": [],
   "source": [
    "# Import Libraries\n",
    "import nanopq \n",
    "import numpy as np"
   ]
  },
  {
   "cell_type": "markdown",
   "metadata": {},
   "source": [
    "## Preprocessing the data\n",
    "The data required is preprocessed and stored in a file. To use the data, loading the file is done to prevent unnecessary preprocessing time"
   ]
  },
  {
   "cell_type": "code",
   "execution_count": null,
   "metadata": {},
   "outputs": [
    {
     "name": "stdout",
     "output_type": "stream",
     "text": [
      "Vector Type:  <class 'list'>\n"
     ]
    },
    {
     "name": "stdout",
     "output_type": "stream",
     "text": [
      "X Shape:  (15885, 105248)\n",
      "X Vector Type:  <class 'numpy.ndarray'>\n"
     ]
    }
   ],
   "source": [
    "# Import Libraries vectorizer\n",
    "\n",
    "# vectors data type\n",
    "print(\"Vector Type: \", type(df['Vector'][0]))\n",
    "X = np.array(df['Vector'].values.tolist(), dtype=np.float32)\n",
    "\n",
    "# Save the X vector\n",
    "np.save(\"PQ/X.npy\", X)\n",
    "\n",
    "print(\"X Shape: \", X.shape)\n",
    "print(\"X Vector Type: \", type(X))"
   ]
  },
  {
   "cell_type": "code",
   "execution_count": null,
   "metadata": {},
   "outputs": [
    {
     "name": "stdout",
     "output_type": "stream",
     "text": [
      "Encoding the vectors with 8 sub-spaces....\n",
      "M: 8, Ks: 8, metric : <class 'numpy.uint8'>, code_dtype: l2\n",
      "iter: 20, seed: 123\n",
      "Training the subspace: 0 / 8\n"
     ]
    },
    {
     "ename": "KeyboardInterrupt",
     "evalue": "",
     "output_type": "error",
     "traceback": [
      "\u001b[0;31m---------------------------------------------------------------------------\u001b[0m",
      "\u001b[0;31mKeyboardInterrupt\u001b[0m                         Traceback (most recent call last)",
      "\u001b[1;32m/Users/chris/Documents/GitHub/Data_Analytics_Project/ProductQuantization.ipynb Cell 11\u001b[0m line \u001b[0;36m1\n\u001b[1;32m     <a href='vscode-notebook-cell:/Users/chris/Documents/GitHub/Data_Analytics_Project/ProductQuantization.ipynb#X13sZmlsZQ%3D%3D?line=12'>13</a>\u001b[0m \u001b[39m# Encode the vectors\u001b[39;00m\n\u001b[1;32m     <a href='vscode-notebook-cell:/Users/chris/Documents/GitHub/Data_Analytics_Project/ProductQuantization.ipynb#X13sZmlsZQ%3D%3D?line=13'>14</a>\u001b[0m \u001b[39mprint\u001b[39m(\u001b[39m\"\u001b[39m\u001b[39mEncoding the vectors with 8 sub-spaces....\u001b[39m\u001b[39m\"\u001b[39m)\n\u001b[0;32m---> <a href='vscode-notebook-cell:/Users/chris/Documents/GitHub/Data_Analytics_Project/ProductQuantization.ipynb#X13sZmlsZQ%3D%3D?line=14'>15</a>\u001b[0m pq_8_8_code, pq_8_8 \u001b[39m=\u001b[39m train_fit_pq(M\u001b[39m=\u001b[39;49m\u001b[39m8\u001b[39;49m, Ks\u001b[39m=\u001b[39;49m\u001b[39m8\u001b[39;49m, X\u001b[39m=\u001b[39;49mX)\n\u001b[1;32m     <a href='vscode-notebook-cell:/Users/chris/Documents/GitHub/Data_Analytics_Project/ProductQuantization.ipynb#X13sZmlsZQ%3D%3D?line=15'>16</a>\u001b[0m pq_8_16_code, pq_8_16 \u001b[39m=\u001b[39m train_fit_pq(M\u001b[39m=\u001b[39m\u001b[39m8\u001b[39m, Ks\u001b[39m=\u001b[39m\u001b[39m16\u001b[39m, X\u001b[39m=\u001b[39mX)\n\u001b[1;32m     <a href='vscode-notebook-cell:/Users/chris/Documents/GitHub/Data_Analytics_Project/ProductQuantization.ipynb#X13sZmlsZQ%3D%3D?line=16'>17</a>\u001b[0m pq_8_32_code, pq_8_32 \u001b[39m=\u001b[39m train_fit_pq(M\u001b[39m=\u001b[39m\u001b[39m8\u001b[39m, Ks\u001b[39m=\u001b[39m\u001b[39m32\u001b[39m, X\u001b[39m=\u001b[39mX)\n",
      "\u001b[1;32m/Users/chris/Documents/GitHub/Data_Analytics_Project/ProductQuantization.ipynb Cell 11\u001b[0m line \u001b[0;36m9\n\u001b[1;32m      <a href='vscode-notebook-cell:/Users/chris/Documents/GitHub/Data_Analytics_Project/ProductQuantization.ipynb#X13sZmlsZQ%3D%3D?line=5'>6</a>\u001b[0m pq \u001b[39m=\u001b[39m nanopq\u001b[39m.\u001b[39mPQ(M\u001b[39m=\u001b[39mM, Ks\u001b[39m=\u001b[39mKs) \u001b[39m# M=5 as vector dimension must be divisible by M\u001b[39;00m\n\u001b[1;32m      <a href='vscode-notebook-cell:/Users/chris/Documents/GitHub/Data_Analytics_Project/ProductQuantization.ipynb#X13sZmlsZQ%3D%3D?line=7'>8</a>\u001b[0m \u001b[39m# Fit the data and Encode the vectors\u001b[39;00m\n\u001b[0;32m----> <a href='vscode-notebook-cell:/Users/chris/Documents/GitHub/Data_Analytics_Project/ProductQuantization.ipynb#X13sZmlsZQ%3D%3D?line=8'>9</a>\u001b[0m pq\u001b[39m.\u001b[39;49mfit(vecs\u001b[39m=\u001b[39;49mX)\n\u001b[1;32m     <a href='vscode-notebook-cell:/Users/chris/Documents/GitHub/Data_Analytics_Project/ProductQuantization.ipynb#X13sZmlsZQ%3D%3D?line=9'>10</a>\u001b[0m X_code \u001b[39m=\u001b[39m pq\u001b[39m.\u001b[39mencode(X)\n\u001b[1;32m     <a href='vscode-notebook-cell:/Users/chris/Documents/GitHub/Data_Analytics_Project/ProductQuantization.ipynb#X13sZmlsZQ%3D%3D?line=10'>11</a>\u001b[0m \u001b[39mreturn\u001b[39;00m X_code, pq\n",
      "File \u001b[0;32m/usr/local/lib/python3.11/site-packages/nanopq/pq.py:123\u001b[0m, in \u001b[0;36mPQ.fit\u001b[0;34m(self, vecs, iter, seed, minit)\u001b[0m\n\u001b[1;32m    121\u001b[0m         \u001b[39mprint\u001b[39m(\u001b[39m\"\u001b[39m\u001b[39mTraining the subspace: \u001b[39m\u001b[39m{}\u001b[39;00m\u001b[39m / \u001b[39m\u001b[39m{}\u001b[39;00m\u001b[39m\"\u001b[39m\u001b[39m.\u001b[39mformat(m, \u001b[39mself\u001b[39m\u001b[39m.\u001b[39mM))\n\u001b[1;32m    122\u001b[0m     vecs_sub \u001b[39m=\u001b[39m vecs[:, m \u001b[39m*\u001b[39m \u001b[39mself\u001b[39m\u001b[39m.\u001b[39mDs : (m \u001b[39m+\u001b[39m \u001b[39m1\u001b[39m) \u001b[39m*\u001b[39m \u001b[39mself\u001b[39m\u001b[39m.\u001b[39mDs]\n\u001b[0;32m--> 123\u001b[0m     \u001b[39mself\u001b[39m\u001b[39m.\u001b[39mcodewords[m], _ \u001b[39m=\u001b[39m kmeans2(vecs_sub, \u001b[39mself\u001b[39;49m\u001b[39m.\u001b[39;49mKs, \u001b[39miter\u001b[39;49m\u001b[39m=\u001b[39;49m\u001b[39miter\u001b[39;49m, minit\u001b[39m=\u001b[39;49mminit)\n\u001b[1;32m    124\u001b[0m \u001b[39mreturn\u001b[39;00m \u001b[39mself\u001b[39m\n",
      "File \u001b[0;32m/usr/local/lib/python3.11/site-packages/scipy/cluster/vq.py:786\u001b[0m, in \u001b[0;36mkmeans2\u001b[0;34m(data, k, iter, thresh, minit, missing, check_finite, seed)\u001b[0m\n\u001b[1;32m    782\u001b[0m         code_book \u001b[39m=\u001b[39m init_meth(data, k, rng)\n\u001b[1;32m    784\u001b[0m \u001b[39mfor\u001b[39;00m i \u001b[39min\u001b[39;00m \u001b[39mrange\u001b[39m(\u001b[39miter\u001b[39m):\n\u001b[1;32m    785\u001b[0m     \u001b[39m# Compute the nearest neighbor for each obs using the current code book\u001b[39;00m\n\u001b[0;32m--> 786\u001b[0m     label \u001b[39m=\u001b[39m vq(data, code_book)[\u001b[39m0\u001b[39m]\n\u001b[1;32m    787\u001b[0m     \u001b[39m# Update the code book by computing centroids\u001b[39;00m\n\u001b[1;32m    788\u001b[0m     new_code_book, has_members \u001b[39m=\u001b[39m _vq\u001b[39m.\u001b[39mupdate_cluster_means(data, label, nc)\n",
      "File \u001b[0;32m/usr/local/lib/python3.11/site-packages/scipy/cluster/vq.py:201\u001b[0m, in \u001b[0;36mvq\u001b[0;34m(obs, code_book, check_finite)\u001b[0m\n\u001b[1;32m    143\u001b[0m \u001b[39mdef\u001b[39;00m \u001b[39mvq\u001b[39m(obs, code_book, check_finite\u001b[39m=\u001b[39m\u001b[39mTrue\u001b[39;00m):\n\u001b[1;32m    144\u001b[0m \u001b[39m    \u001b[39m\u001b[39m\"\"\"\u001b[39;00m\n\u001b[1;32m    145\u001b[0m \u001b[39m    Assign codes from a code book to observations.\u001b[39;00m\n\u001b[1;32m    146\u001b[0m \n\u001b[0;32m   (...)\u001b[0m\n\u001b[1;32m    199\u001b[0m \n\u001b[1;32m    200\u001b[0m \u001b[39m    \"\"\"\u001b[39;00m\n\u001b[0;32m--> 201\u001b[0m     obs \u001b[39m=\u001b[39m _asarray_validated(obs, check_finite\u001b[39m=\u001b[39;49mcheck_finite)\n\u001b[1;32m    202\u001b[0m     code_book \u001b[39m=\u001b[39m _asarray_validated(code_book, check_finite\u001b[39m=\u001b[39mcheck_finite)\n\u001b[1;32m    203\u001b[0m     ct \u001b[39m=\u001b[39m np\u001b[39m.\u001b[39mcommon_type(obs, code_book)\n",
      "File \u001b[0;32m/usr/local/lib/python3.11/site-packages/scipy/_lib/_util.py:252\u001b[0m, in \u001b[0;36m_asarray_validated\u001b[0;34m(a, check_finite, sparse_ok, objects_ok, mask_ok, as_inexact)\u001b[0m\n\u001b[1;32m    250\u001b[0m         \u001b[39mraise\u001b[39;00m \u001b[39mValueError\u001b[39;00m(\u001b[39m'\u001b[39m\u001b[39mmasked arrays are not supported\u001b[39m\u001b[39m'\u001b[39m)\n\u001b[1;32m    251\u001b[0m toarray \u001b[39m=\u001b[39m np\u001b[39m.\u001b[39masarray_chkfinite \u001b[39mif\u001b[39;00m check_finite \u001b[39melse\u001b[39;00m np\u001b[39m.\u001b[39masarray\n\u001b[0;32m--> 252\u001b[0m a \u001b[39m=\u001b[39m toarray(a)\n\u001b[1;32m    253\u001b[0m \u001b[39mif\u001b[39;00m \u001b[39mnot\u001b[39;00m objects_ok:\n\u001b[1;32m    254\u001b[0m     \u001b[39mif\u001b[39;00m a\u001b[39m.\u001b[39mdtype \u001b[39mis\u001b[39;00m np\u001b[39m.\u001b[39mdtype(\u001b[39m'\u001b[39m\u001b[39mO\u001b[39m\u001b[39m'\u001b[39m):\n",
      "File \u001b[0;32m/usr/local/lib/python3.11/site-packages/numpy/lib/function_base.py:627\u001b[0m, in \u001b[0;36masarray_chkfinite\u001b[0;34m(a, dtype, order)\u001b[0m\n\u001b[1;32m    564\u001b[0m \u001b[39m\u001b[39m\u001b[39m\"\"\"Convert the input to an array, checking for NaNs or Infs.\u001b[39;00m\n\u001b[1;32m    565\u001b[0m \n\u001b[1;32m    566\u001b[0m \u001b[39mParameters\u001b[39;00m\n\u001b[0;32m   (...)\u001b[0m\n\u001b[1;32m    624\u001b[0m \n\u001b[1;32m    625\u001b[0m \u001b[39m\"\"\"\u001b[39;00m\n\u001b[1;32m    626\u001b[0m a \u001b[39m=\u001b[39m asarray(a, dtype\u001b[39m=\u001b[39mdtype, order\u001b[39m=\u001b[39morder)\n\u001b[0;32m--> 627\u001b[0m \u001b[39mif\u001b[39;00m a\u001b[39m.\u001b[39mdtype\u001b[39m.\u001b[39mchar \u001b[39min\u001b[39;00m typecodes[\u001b[39m'\u001b[39m\u001b[39mAllFloat\u001b[39m\u001b[39m'\u001b[39m] \u001b[39mand\u001b[39;00m \u001b[39mnot\u001b[39;00m np\u001b[39m.\u001b[39;49misfinite(a)\u001b[39m.\u001b[39mall():\n\u001b[1;32m    628\u001b[0m     \u001b[39mraise\u001b[39;00m \u001b[39mValueError\u001b[39;00m(\n\u001b[1;32m    629\u001b[0m         \u001b[39m\"\u001b[39m\u001b[39marray must not contain infs or NaNs\u001b[39m\u001b[39m\"\u001b[39m)\n\u001b[1;32m    630\u001b[0m \u001b[39mreturn\u001b[39;00m a\n",
      "\u001b[0;31mKeyboardInterrupt\u001b[0m: "
     ]
    }
   ],
   "source": [
    "import pickle\n",
    "import nanopq\n",
    "\n",
    "def train_fit_pq(M, Ks, X):\n",
    "    # Initialize the PQ encoder (M=sub-spaces, K=Centroids)\n",
    "    pq = nanopq.PQ(M=M, Ks=Ks) \n",
    "\n",
    "    # Fit the data and Encode the vectors\n",
    "    pq.fit(vecs=X)\n",
    "    X_code = pq.encode(X)\n",
    "    return X_code, pq\n",
    "\n",
    "# Encode the vectors\n",
    "print(\"Encoding the vectors with 8 sub-spaces....\")\n",
    "pq_8_8_code, pq_8_8 = train_fit_pq(M=8, Ks=8, X=X)\n",
    "pq_8_16_code, pq_8_16 = train_fit_pq(M=8, Ks=16, X=X)\n",
    "pq_8_32_code, pq_8_32 = train_fit_pq(M=8, Ks=32, X=X)\n",
    "pq_8_64_code, pq_8_64 = train_fit_pq(M=8, Ks=64, X=X)\n",
    "pq_8_128_code, pq_8_128 = train_fit_pq(M=8, Ks=128, X=X)\n",
    "\n",
    "print(\"Saving the PQ objects....\")\n",
    "# Save the X_code to a file\n",
    "np.save(\"PQ/pq_8_8_code.npy\", pq_8_8_code)\n",
    "np.save(\"PQ/pq_8_16_code.npy\", pq_8_16_code)\n",
    "np.save(\"PQ/pq_8_32_code.npy\", pq_8_32_code)\n",
    "np.save(\"PQ/pq_8_64_code.npy\", pq_8_64_code)\n",
    "np.save(\"PQ/pq_8_128_code.npy\", pq_8_128_code)\n",
    "\n",
    "# Save the pq object to a file\n",
    "pickle.dump(pq_8_8, open(\"PQ/pq_8_8.pkl\", \"wb\"))\n",
    "pickle.dump(pq_8_16, open(\"PQ/pq_8_16.pkl\", \"wb\"))\n",
    "pickle.dump(pq_8_32, open(\"PQ/pq_8_32.pkl\", \"wb\"))\n",
    "pickle.dump(pq_8_64, open(\"PQ/pq_8_64.pkl\", \"wb\"))\n",
    "pickle.dump(pq_8_128, open(\"PQ/pq_8_128.pkl\", \"wb\"))\n",
    "# ===============================================================\n",
    "print(\"Encoding the vectors with 16 sub-spaces....\")\n",
    "pq_16_8_code, pq_16_8 = train_fit_pq(M=16, Ks=8, X=X)\n",
    "pq_16_16_code, pq_16_16 = train_fit_pq(M=16, Ks=16, X=X)\n",
    "pq_16_32_code, pq_16_32 = train_fit_pq(M=16, Ks=32, X=X)\n",
    "pq_16_64_code, pq_16_64 = train_fit_pq(M=16, Ks=64, X=X)\n",
    "pq_16_128_code, pq_16_128 = train_fit_pq(M=16, Ks=128, X=X)\n",
    "\n",
    "np.save(\"PQ/pq_16_8_code.npy\", pq_16_8_code)\n",
    "np.save(\"PQ/pq_16_16_code.npy\", pq_16_16_code)\n",
    "np.save(\"PQ/pq_16_32_code.npy\", pq_16_32_code)\n",
    "np.save(\"PQ/pq_16_64_code.npy\", pq_16_64_code)\n",
    "np.save(\"PQ/pq_16_128_code.npy\", pq_16_128_code)\n",
    "\n",
    "pickle.dump(pq_16_8, open(\"PQ/pq_16_8.pkl\", \"wb\"))\n",
    "pickle.dump(pq_16_16, open(\"PQ/pq_16_16.pkl\", \"wb\"))\n",
    "pickle.dump(pq_16_32, open(\"PQ/pq_16_32.pkl\", \"wb\"))\n",
    "pickle.dump(pq_16_64, open(\"PQ/pq_16_64.pkl\", \"wb\"))\n",
    "pickle.dump(pq_16_128, open(\"PQ/pq_16_128.pkl\", \"wb\"))\n",
    "# ===============================================================\n",
    "\n",
    "print(\"Encoding the vectors with 32 sub-spaces....\")\n",
    "pq_32_8_code, pq_32_8 = train_fit_pq(M=32, Ks=8, X=X)\n",
    "pq_32_16_code, pq_32_16 = train_fit_pq(M=32, Ks=16, X=X)\n",
    "pq_32_32_code, pq_32_32 = train_fit_pq(M=32, Ks=32, X=X)\n",
    "pq_32_64_code, pq_32_64 = train_fit_pq(M=32, Ks=64, X=X)\n",
    "pq_32_128_code, pq_32_128 = train_fit_pq(M=32, Ks=128, X=X)\n",
    "\n",
    "np.save(\"PQ/pq_32_8_code.npy\", pq_32_8_code)\n",
    "np.save(\"PQ/pq_32_16_code.npy\", pq_32_16_code)\n",
    "np.save(\"PQ/pq_32_32_code.npy\", pq_32_32_code)\n",
    "np.save(\"PQ/pq_32_64_code.npy\", pq_32_64_code)\n",
    "np.save(\"PQ/pq_32_128_code.npy\", pq_32_128_code)\n",
    "\n",
    "pickle.dump(pq_32_8, open(\"PQ/pq_32_8.pkl\", \"wb\"))\n",
    "pickle.dump(pq_32_16, open(\"PQ/pq_32_16.pkl\", \"wb\"))\n",
    "pickle.dump(pq_32_32, open(\"PQ/pq_32_32.pkl\", \"wb\"))\n",
    "pickle.dump(pq_32_64, open(\"PQ/pq_32_64.pkl\", \"wb\"))\n",
    "pickle.dump(pq_32_128, open(\"PQ/pq_32_128.pkl\", \"wb\"))\n",
    "\n",
    "# ===============================================================\n",
    "\n",
    "# print(\"Encoding the vectors with 64 sub-spaces....\")\n",
    "# pq_64_8_code, pq_64_8 = train_fit_pq(M=64, Ks=8, X=X)\n",
    "# pq_64_16_code, pq_64_16 = train_fit_pq(M=64, Ks=16, X=X)\n",
    "# pq_64_32_code, pq_64_32 = train_fit_pq(M=64, Ks=32, X=X)\n",
    "# pq_64_64_code, pq_64_64 = train_fit_pq(M=64, Ks=64, X=X)\n",
    "# pq_64_128_code, pq_64_128 = train_fit_pq(M=64, Ks=128, X=X)\n",
    "\n",
    "# np.save(\"PQ/pq_64_8_code.npy\", pq_64_8_code)\n",
    "# np.save(\"PQ/pq_64_16_code.npy\", pq_64_16_code)\n",
    "# np.save(\"PQ/pq_64_32_code.npy\", pq_64_32_code)\n",
    "# np.save(\"PQ/pq_64_64_code.npy\", pq_64_64_code)\n",
    "# np.save(\"PQ/pq_64_128_code.npy\", pq_64_128_code)\n",
    "\n",
    "# pickle.dump(pq_64_8, open(\"PQ/pq_64_8.pkl\", \"wb\"))\n",
    "# pickle.dump(pq_64_16, open(\"PQ/pq_64_16.pkl\", \"wb\"))\n",
    "# pickle.dump(pq_64_32, open(\"PQ/pq_64_32.pkl\", \"wb\"))\n",
    "# pickle.dump(pq_64_64, open(\"PQ/pq_64_64.pkl\", \"wb\"))\n",
    "# pickle.dump(pq_64_128, open(\"PQ/pq_64_128.pkl\", \"wb\"))\n",
    "\n",
    "# ===============================================================\n",
    "\n",
    "# print(\"Encoding the vectors with 128 sub-spaces....\")\n",
    "# pq_128_8_code, pq_128_8 = train_fit_pq(M=128, Ks=8, X=X)\n",
    "# pq_128_16_code, pq_128_16 = train_fit_pq(M=128, Ks=16, X=X)\n",
    "# pq_128_32_code, pq_128_32 = train_fit_pq(M=128, Ks=32, X=X)\n",
    "# pq_128_64_code, pq_128_64 = train_fit_pq(M=128, Ks=64, X=X)\n",
    "# pq_128_128_code, pq_128_128 = train_fit_pq(M=128, Ks=128, X=X)\n",
    "\n",
    "# np.save(\"PQ/pq_128_8_code.npy\", pq_128_8_code)\n",
    "# np.save(\"PQ/pq_128_16_code.npy\", pq_128_16_code)\n",
    "# np.save(\"PQ/pq_128_32_code.npy\", pq_128_32_code)\n",
    "# np.save(\"PQ/pq_128_64_code.npy\", pq_128_64_code)\n",
    "# np.save(\"PQ/pq_128_128_code.npy\", pq_128_128_code)\n",
    "\n",
    "# pickle.dump(pq_128_8, open(\"PQ/pq_128_8.pkl\", \"wb\"))\n",
    "# pickle.dump(pq_128_16, open(\"PQ/pq_128_16.pkl\", \"wb\"))\n",
    "# pickle.dump(pq_128_32, open(\"PQ/pq_128_32.pkl\", \"wb\"))\n",
    "# pickle.dump(pq_128_64, open(\"PQ/pq_128_64.pkl\", \"wb\"))\n",
    "# pickle.dump(pq_128_128, open(\"PQ/pq_128_128.pkl\", \"wb\"))\n",
    "\n"
   ]
  },
  {
   "cell_type": "code",
   "execution_count": null,
   "metadata": {},
   "outputs": [],
   "source": [
    "# Create folder for results in PQ Search Results directory\n",
    "import os\n",
    "import pathlib\n",
    "\n",
    "# Define the values of M and Ks\n",
    "Ms = [8, 16, 32]\n",
    "Ks = [8, 16, 32, 64, 128]\n",
    "\n",
    "# Create directories for each PQ configuration\n",
    "for M in Ms:\n",
    "    for K in Ks:\n",
    "        dirname = \"PQ/PQ Search Results/pq_{}_{}_results\".format(M, K)\n",
    "        pathlib.Path(dirname).mkdir(parents=True, exist_ok=True)\n"
   ]
  },
  {
   "cell_type": "markdown",
   "metadata": {},
   "source": [
    "# Preloading\n",
    "The data is preloaded from the file to prevent unnecessary preprocessing time when running the code"
   ]
  },
  {
   "cell_type": "code",
   "execution_count": null,
   "metadata": {},
   "outputs": [
    {
     "name": "stdout",
     "output_type": "stream",
     "text": [
      "Loading df data....\n",
      "Loading Count Vectorizer....\n",
      "Loading X vector....\n"
     ]
    },
    {
     "name": "stderr",
     "output_type": "stream",
     "text": [
      "/usr/local/lib/python3.11/site-packages/sklearn/base.py:318: UserWarning: Trying to unpickle estimator CountVectorizer from version 1.3.0 when using version 1.2.2. This might lead to breaking code or invalid results. Use at your own risk. For more info please refer to:\n",
      "https://scikit-learn.org/stable/model_persistence.html#security-maintainability-limitations\n",
      "  warnings.warn(\n"
     ]
    },
    {
     "name": "stdout",
     "output_type": "stream",
     "text": [
      "Loading pq_8 objects....\n",
      "Loading pq_16 objects....\n",
      "Loading pq_32 objects....\n"
     ]
    }
   ],
   "source": [
    "import numpy as np\n",
    "import pandas as pd\n",
    "import pickle\n",
    "from sklearn.feature_extraction.text import CountVectorizer\n",
    "\n",
    "# Load data\n",
    "print(\"Loading df data....\")\n",
    "df = pd.read_json(\"job_postings_prepped.json\")\n",
    "\n",
    "# Initialize Count Vectorizer for fitting Query at runtime\n",
    "print(\"Loading Count Vectorizer....\")\n",
    "vectorizer = CountVectorizer()\n",
    "# load from vectorizer.pkl\n",
    "vectorizer = pickle.load(open(\"vectorizer.pkl\", \"rb\"))\n",
    "\n",
    "# Load the X vector from the file\n",
    "print(\"Loading X vector....\")\n",
    "X = np.load(\"PQ/X.npy\")\n",
    "\n",
    "# Load the PQ object and the X_code from the file\n",
    "print(\"Loading pq_8 objects....\")\n",
    "pq_8_8 = pickle.load(open(\"PQ/pq_8_8.pkl\", \"rb\"))\n",
    "pq_8_8_code = np.load(\"PQ/pq_8_8_code.npy\")\n",
    "\n",
    "pq_8_16 = pickle.load(open(\"PQ/pq_8_16.pkl\", \"rb\"))\n",
    "pq_8_16_code = np.load(\"PQ/pq_8_16_code.npy\")\n",
    "\n",
    "pq_8_32 = pickle.load(open(\"PQ/pq_8_32.pkl\", \"rb\"))\n",
    "pq_8_32_code = np.load(\"PQ/pq_8_32_code.npy\")\n",
    "\n",
    "pq_8_64 = pickle.load(open(\"PQ/pq_8_64.pkl\", \"rb\"))\n",
    "pq_8_64_code = np.load(\"PQ/pq_8_64_code.npy\")\n",
    "\n",
    "pq_8_128 = pickle.load(open(\"PQ/pq_8_128.pkl\", \"rb\"))\n",
    "pq_8_128_code = np.load(\"PQ/pq_8_128_code.npy\")\n",
    "\n",
    "# ===============================================================\n",
    "print(\"Loading pq_16 objects....\")\n",
    "pq_16_8 = pickle.load(open(\"PQ/pq_16_8.pkl\", \"rb\"))\n",
    "pq_16_8_code = np.load(\"PQ/pq_16_8_code.npy\")\n",
    "\n",
    "pq_16_16 = pickle.load(open(\"PQ/pq_16_16.pkl\", \"rb\"))\n",
    "pq_16_16_code = np.load(\"PQ/pq_16_16_code.npy\")\n",
    "\n",
    "pq_16_32 = pickle.load(open(\"PQ/pq_16_32.pkl\", \"rb\"))\n",
    "pq_16_32_code = np.load(\"PQ/pq_16_32_code.npy\")\n",
    "\n",
    "pq_16_64 = pickle.load(open(\"PQ/pq_16_64.pkl\", \"rb\"))\n",
    "pq_16_64_code = np.load(\"PQ/pq_16_64_code.npy\")\n",
    "\n",
    "pq_16_128 = pickle.load(open(\"PQ/pq_16_128.pkl\", \"rb\"))\n",
    "pq_16_128_code = np.load(\"PQ/pq_16_128_code.npy\")\n",
    "\n",
    "# ===============================================================\n",
    "print(\"Loading pq_32 objects....\")\n",
    "pq_32_8 = pickle.load(open(\"PQ/pq_32_8.pkl\", \"rb\"))\n",
    "pq_32_8_code = np.load(\"PQ/pq_32_8_code.npy\")\n",
    "\n",
    "pq_32_16 = pickle.load(open(\"PQ/pq_32_16.pkl\", \"rb\"))\n",
    "pq_32_16_code = np.load(\"PQ/pq_32_16_code.npy\")\n",
    "\n",
    "pq_32_32 = pickle.load(open(\"PQ/pq_32_32.pkl\", \"rb\"))\n",
    "pq_32_32_code = np.load(\"PQ/pq_32_32_code.npy\")\n",
    "\n",
    "pq_32_64 = pickle.load(open(\"PQ/pq_32_64.pkl\", \"rb\"))\n",
    "pq_32_64_code = np.load(\"PQ/pq_32_64_code.npy\")\n",
    "\n",
    "pq_32_128 = pickle.load(open(\"PQ/pq_32_128.pkl\", \"rb\"))\n",
    "pq_32_128_code = np.load(\"PQ/pq_32_128_code.npy\")\n",
    "\n",
    "# ==============================================================="
   ]
  },
  {
   "cell_type": "markdown",
   "metadata": {},
   "source": [
    "## Space Analysis"
   ]
  },
  {
   "cell_type": "code",
   "execution_count": null,
   "metadata": {},
   "outputs": [
    {
     "name": "stdout",
     "output_type": "stream",
     "text": [
      "PQ Code Name:  pq_8_128\n",
      "Vector Dimension:  105248\n",
      "PQ Code Vector Dimension:  8\n",
      "Original Vector Size (MB):  6377.6568603515625\n",
      "PQ Code Vector Size (MB):  0.12119293212890625\n",
      "Compression Ratio:  52624.0 x\n",
      "Space Reduction:  99.9980997263606 %\n",
      "\n",
      "PQ Code Name:  pq_16_128\n",
      "Vector Dimension:  105248\n",
      "PQ Code Vector Dimension:  16\n",
      "Original Vector Size (MB):  6377.6568603515625\n",
      "PQ Code Vector Size (MB):  0.2423858642578125\n",
      "Compression Ratio:  26312.0 x\n",
      "Space Reduction:  99.99619945272119 %\n",
      "\n",
      "PQ Code Name:  pq_32_128\n",
      "Vector Dimension:  105248\n",
      "PQ Code Vector Dimension:  32\n",
      "Original Vector Size (MB):  6377.6568603515625\n",
      "PQ Code Vector Size (MB):  0.484771728515625\n",
      "Compression Ratio:  13156.0 x\n",
      "Space Reduction:  99.99239890544239 %\n",
      "\n"
     ]
    }
   ],
   "source": [
    "\n",
    "def get_space_analysis(orig_vector, pq_code_vector, name):\n",
    "    # Get the space reduction\n",
    "    orig_vector_size = orig_vector.nbytes / 1024**2\n",
    "    pq_code_vector_size = pq_code_vector.nbytes / 1024**2\n",
    "    space_reduction = (1 - pq_code_vector_size / orig_vector_size) * 100\n",
    "    print(\"PQ Code Name: \", name)\n",
    "    print(\"Vector Dimension: \", len(orig_vector[0]))\n",
    "    print(\"PQ Code Vector Dimension: \", len(pq_code_vector[0]))\n",
    "    print(\"Original Vector Size (MB): \", orig_vector_size)\n",
    "    print(\"PQ Code Vector Size (MB): \", pq_code_vector_size)\n",
    "    print(\"Compression Ratio: \", orig_vector_size / pq_code_vector_size, \"x\")\n",
    "    print(\"Space Reduction: \", space_reduction, \"%\\n\")\n",
    "    \n",
    "get_space_analysis(X, pq_8_128_code, \"pq_8_128\")\n",
    "get_space_analysis(X, pq_16_128_code, \"pq_16_128\")\n",
    "get_space_analysis(X, pq_32_128_code, \"pq_32_128\")\n"
   ]
  },
  {
   "cell_type": "markdown",
   "metadata": {},
   "source": [
    "# Similarity Search"
   ]
  },
  {
   "cell_type": "markdown",
   "metadata": {},
   "source": [
    "### Using Asymmetric Distance\n",
    "\n",
    "Runtime function to compute similarity search using asymmetric distance."
   ]
  },
  {
   "cell_type": "code",
   "execution_count": null,
   "metadata": {},
   "outputs": [],
   "source": [
    "import time\n",
    "import numpy as np\n",
    "import pandas as pd\n",
    "import os\n",
    "\n",
    "def compute_similarity(query_text, pq_code, pq):\n",
    "    \"\"\"\n",
    "    Compute the similarity between the query text and the pq_code\n",
    "    :param query_text: the query text\n",
    "    :param pq_code: the pq_code\n",
    "    :param pq: the pq encoder\n",
    "    :return: the similarity\n",
    "    \"\"\"\n",
    "    print(\"Computing similarity for: {}...\".format(query_text))\n",
    "    # Transform the query text to single vector\n",
    "    query_vector = vectorizer.transform([query_text]).toarray().reshape(-1).astype(np.float32)\n",
    "\n",
    "    # print(\"Query Vector Dimension: \", query_vector.shape)\n",
    "    # print(\"PQ Code Shape: \", pq_code.shape)\n",
    "    # Initialize the distance table\n",
    "    distance_table = pq.dtable(query_vector)\n",
    "    # print(\"Distance Table Shape: \", distance_table)\n",
    "    distance = distance_table.adist(pq_code)\n",
    "    end = time.time()\n",
    "    return distance, end\n",
    "\n",
    "def get_query_res_ranking(df, adist_result):\n",
    "    print(\"Getting Query Results Ranking....\")\n",
    "    # Create a new dataframe with df and append adist_result to it\n",
    "    results_df = df.copy()\n",
    "    results_df['Distance'] = adist_result\n",
    "    \n",
    "    # Sort the results by distance\n",
    "    results_df = results_df.sort_values(by=['Distance'])\n",
    "    print(\"Top 5 Results:\\n\", results_df.head())\n",
    "    end = time.time()\n",
    "    return results_df, end\n",
    "\n",
    "def save_to_csv_similarity_results(df, query, pq_setting):\n",
    "    print(\"Saving {} Results to CSV....\".format(pq_setting))\n",
    "    \n",
    "    # Parse query to strip spaces and replace spaces with underscores\n",
    "    query = query.strip().replace(\" \", \"_\")\n",
    "    \n",
    "    # Drop the vector column \n",
    "    df.drop(columns=['Vector'], inplace=True)\n",
    "    # Save the results to a csv file\n",
    "    if not os.path.exists(\"PQ/PQ Search Results/{}_results\".format(pq_setting)):\n",
    "        os.mkdir(\"PQ/PQ Search Results/{}_results\".format(pq_setting))\n",
    "    df.to_csv(\"PQ/PQ Search Results/{}_results/{}.csv\".format(pq_setting, query), index=False)\n",
    "    end = time.time()\n",
    "    print(\"{} Results Saved to CSV!\\n\".format(pq_setting))\n",
    "    return end\n",
    "\n",
    "# # Print the top 5 results\n",
    "# def print_top_5_results(df, idx):\n",
    "#     print(\"Top 5 Results:\")\n",
    "#     print(df.iloc[idx.argsort()[:5]])\n",
    "    \n",
    "# # print all the results with the similarity score\n",
    "# def print_all_results(df, idx):\n",
    "#     print(\"All Results:\")\n",
    "#     print(df.iloc[idx.argsort()])\n",
    "    \n",
    "def search_using_query(query, pq_setting, pq_code, pq, df):\n",
    "    start = time.time()\n",
    "    \n",
    "    # Compute the similarity\n",
    "    dist, compute_similarity_time = compute_similarity(query, pq_code, pq)\n",
    "    \n",
    "    # Get the query results ranking\n",
    "    result_df, get_rank_time = get_query_res_ranking(df, dist)\n",
    "    \n",
    "    # Save the results to a csv file\n",
    "    save_to_csv_time = save_to_csv_similarity_results(result_df, query, pq_setting)\n",
    "    \n",
    "    end = time.time()\n",
    "   \n",
    "    compute_similarity_duration = compute_similarity_time - start\n",
    "    get_rank_duration = get_rank_time - compute_similarity_time\n",
    "    save_to_csv_duration = save_to_csv_time - get_rank_time\n",
    "    true_compute_duration = (compute_similarity_time - start) + (get_rank_time - compute_similarity_time) + (save_to_csv_time - get_rank_time)\n",
    "    basic_compute_duration = end - start\n",
    "    # Print Summary\n",
    "    print(\"===============================================================\")\n",
    "    print(\"Query: \", query)\n",
    "    print(\"PQ Setting: \", pq_setting)\n",
    "    print(\"Total Time Taken:\\n\")\n",
    "    print(\"Start Time: \", start)\n",
    "    print(\"Compute Similarity Duration: \", compute_similarity_duration)\n",
    "    print(\"Get Ranking Duration: \", get_rank_duration)\n",
    "    print(\"Save to CSV Duration: \", save_to_csv_duration)\n",
    "    print(\"Basic Time Duration: \", basic_compute_duration)\n",
    "    print(\"True Computed Time Duration: \", true_compute_duration)\n",
    "    print(\"===============================================================\")\n",
    "    \n",
    "    # Return compute time dictionary\n",
    "    return {\n",
    "        # \"start\": start,\n",
    "        \"compute_similarity_duration\": compute_similarity_duration,\n",
    "        \"get_rank_duration\": get_rank_duration,\n",
    "        \"save_to_csv_duration\": save_to_csv_duration,\n",
    "        \"basic_compute_duration\": basic_compute_duration,\n",
    "        \"true_compute_duration\": true_compute_duration\n",
    "    }\n",
    "    \n",
    "    \n",
    "# =============================================================== Test Bench ===============================================================\n",
    "\n",
    "# query = \"Hey \"\n",
    "# dist, s_t, e_t = compute_similarity(query, pq_8_128_code, pq_8_128)\n",
    "# result_df = get_query_res_ranking(df, dist)\n",
    "# save_to_csv_similarity_results(result_df, query, \"pq_8_128\")\n",
    "\n",
    "# print(search_using_query(query, \"pq_8_128\", pq_8_128_code, pq_8_128, df))\n"
   ]
  },
  {
   "cell_type": "markdown",
   "metadata": {},
   "source": [
    "#### Query Dict Processing"
   ]
  },
  {
   "cell_type": "code",
   "execution_count": null,
   "metadata": {},
   "outputs": [],
   "source": [
    "# Testing of Query Dict Processing, TODO: refactor into a function and leave the vector processing to the function caller\n",
    "# Import Libraries\n",
    "from sklearn.feature_extraction.text import CountVectorizer\n",
    "\n",
    "# Defining queries\n",
    "query_dict = {'Q1': \"resilient investment banker\", \n",
    "              'Q2': \"2 years experience product manager\", \n",
    "              'Q3': \"10 years risk analyst problem solver\", \n",
    "              'Q4': \"tax analyst for big company\", \n",
    "              'Q5': \"software engineer for google or amazon\", \n",
    "              'Q6': \"video editor for advertisements with 5 year experience\",\n",
    "              'Q7': \"full time senior head nurse position\",\n",
    "              'Q8': \"after school math and science tutor\",\n",
    "              'Q9': \"dietitian for professional atheletes\",\n",
    "              'Q10': \"costume designer and makeup artist\"}\n",
    "\n",
    "# Bundle all PQ objects (\"pq_8_128\", pq_8_128_code, pq_8_128) \n",
    "PQ_Sets = {\"pq_8_8\": [pq_8_8_code, pq_8_8],\n",
    "              \"pq_8_16\": [pq_8_16_code, pq_8_16],\n",
    "              \"pq_8_32\": [pq_8_32_code, pq_8_32],\n",
    "              \"pq_8_64\": [pq_8_64_code, pq_8_64],\n",
    "              \"pq_8_128\": [pq_8_128_code, pq_8_128],\n",
    "              \"pq_16_8\": [pq_16_8_code, pq_16_8],\n",
    "              \"pq_16_16\": [pq_16_16_code, pq_16_16],\n",
    "              \"pq_16_32\": [pq_16_32_code, pq_16_32],\n",
    "              \"pq_16_64\": [pq_16_64_code, pq_16_64],\n",
    "              \"pq_16_128\": [pq_16_128_code, pq_16_128],\n",
    "              \"pq_32_8\": [pq_32_8_code, pq_32_8],\n",
    "              \"pq_32_16\": [pq_32_16_code, pq_32_16],\n",
    "              \"pq_32_32\": [pq_32_32_code, pq_32_32],\n",
    "              \"pq_32_64\": [pq_32_64_code, pq_32_64],\n",
    "              \"pq_32_128\": [pq_32_128_code, pq_32_128]}"
   ]
  },
  {
   "cell_type": "markdown",
   "metadata": {},
   "source": [
    "### Generate Compute Time"
   ]
  },
  {
   "cell_type": "code",
   "execution_count": 171,
   "metadata": {},
   "outputs": [
    {
     "data": {
      "text/html": [
       "<div>\n",
       "<style scoped>\n",
       "    .dataframe tbody tr th:only-of-type {\n",
       "        vertical-align: middle;\n",
       "    }\n",
       "\n",
       "    .dataframe tbody tr th {\n",
       "        vertical-align: top;\n",
       "    }\n",
       "\n",
       "    .dataframe thead th {\n",
       "        text-align: right;\n",
       "    }\n",
       "</style>\n",
       "<table border=\"1\" class=\"dataframe\">\n",
       "  <thead>\n",
       "    <tr style=\"text-align: right;\">\n",
       "      <th></th>\n",
       "      <th>Query</th>\n",
       "      <th>PQ Setting</th>\n",
       "      <th>Compute Similarity Duration</th>\n",
       "      <th>Get Ranking Duration</th>\n",
       "      <th>Save to CSV Duration</th>\n",
       "      <th>Basic Compute Duration</th>\n",
       "      <th>True Compute Duration</th>\n",
       "    </tr>\n",
       "  </thead>\n",
       "  <tbody>\n",
       "  </tbody>\n",
       "</table>\n",
       "</div>"
      ],
      "text/plain": [
       "Empty DataFrame\n",
       "Columns: [Query, PQ Setting, Compute Similarity Duration, Get Ranking Duration, Save to CSV Duration, Basic Compute Duration, True Compute Duration]\n",
       "Index: []"
      ]
     },
     "execution_count": 171,
     "metadata": {},
     "output_type": "execute_result"
    }
   ],
   "source": [
    "# Create a new dataframe to store the results\n",
    "compute_time_df = pd.DataFrame(columns=['Query', 'PQ Setting', 'Compute Similarity Duration', 'Get Ranking Duration', 'Save to CSV Duration', 'Basic Compute Duration', 'True Compute Duration'])\n",
    "compute_time_df.head()"
   ]
  },
  {
   "cell_type": "code",
   "execution_count": 186,
   "metadata": {},
   "outputs": [
    {
     "name": "stdout",
     "output_type": "stream",
     "text": [
      "Computing similarity for: resilient investment banker...\n",
      "Getting Query Results Ranking....\n",
      "Top 5 Results:\n",
      "                                                    Data  \\\n",
      "2856  Production Associate Production Associate Loca...   \n",
      "8901  Retail Associates Job Description - Overview I...   \n",
      "1892  SQL Developer · Min 5 Years experience Must sk...   \n",
      "8913  Recycler-1 It policy Bob’s Discount Furniture,...   \n",
      "1895  Laboratory Technician Job Title: Laboratory Te...   \n",
      "\n",
      "                                                 Vector   Distance  \n",
      "2856  [0, 0, 0, 0, 0, 0, 0, 0, 0, 0, 0, 0, 0, 0, 0, ...  38.354927  \n",
      "8901  [2, 0, 0, 0, 0, 0, 0, 0, 0, 0, 0, 0, 0, 0, 0, ...  38.354927  \n",
      "1892  [0, 0, 0, 0, 0, 0, 0, 0, 0, 0, 0, 0, 0, 0, 0, ...  38.354927  \n",
      "8913  [0, 0, 0, 0, 0, 0, 0, 0, 0, 0, 0, 0, 0, 0, 0, ...  38.354927  \n",
      "1895  [2, 0, 0, 0, 0, 0, 0, 0, 0, 0, 0, 0, 0, 0, 0, ...  38.354927  \n",
      "Saving pq_8_8 Results to CSV....\n",
      "pq_8_8 Results Saved to CSV!\n",
      "\n",
      "===============================================================\n",
      "Query:  resilient investment banker\n",
      "PQ Setting:  pq_8_8\n",
      "Total Time Taken:\n",
      "\n",
      "Start Time:  1697269089.24383\n",
      "Compute Similarity Duration:  0.24065589904785156\n",
      "Get Ranking Duration:  1.4217650890350342\n",
      "Save to CSV Duration:  3.430936098098755\n",
      "Basic Time Duration:  5.093581199645996\n",
      "True Computed Time Duration:  5.093357086181641\n",
      "===============================================================\n",
      "Computing similarity for: 2 years experience product manager...\n",
      "Getting Query Results Ranking....\n",
      "Top 5 Results:\n",
      "                                                    Data  \\\n",
      "5764  Foreman We’re recruiting foreman/lead resident...   \n",
      "1930  Java developer Any visa fine. We sponsor H1B G...   \n",
      "4071  Office Associate Need full time, in-person off...   \n",
      "1933  Network System Engineer *Please email Valerie....   \n",
      "1934  Salesforce Architect (Health Cloud) Salesforce...   \n",
      "\n",
      "                                                 Vector   Distance  \n",
      "5764  [0, 0, 0, 0, 0, 0, 0, 0, 0, 0, 0, 0, 0, 0, 0, ...  33.607513  \n",
      "1930  [0, 0, 0, 0, 0, 0, 0, 0, 0, 0, 0, 0, 0, 0, 0, ...  33.607513  \n",
      "4071  [0, 0, 0, 0, 0, 0, 0, 0, 0, 0, 0, 0, 0, 0, 0, ...  33.607513  \n",
      "1933  [0, 1, 0, 0, 0, 0, 0, 0, 0, 0, 0, 0, 0, 0, 0, ...  33.607513  \n",
      "1934  [0, 0, 0, 0, 0, 0, 0, 0, 0, 0, 0, 0, 0, 0, 0, ...  33.607513  \n",
      "Saving pq_8_8 Results to CSV....\n"
     ]
    },
    {
     "name": "stderr",
     "output_type": "stream",
     "text": [
      "/var/folders/2q/bjqpws1153b0_y18lhffmh_m0000gn/T/ipykernel_42781/686456071.py:14: FutureWarning: The frame.append method is deprecated and will be removed from pandas in a future version. Use pandas.concat instead.\n",
      "  compute_time_df = compute_time_df.append({'Query': query_name, 'PQ Setting': pq_setting, 'Compute Similarity Duration': compute_time_dict['compute_similarity_duration'], 'Get Ranking Duration': compute_time_dict['get_rank_duration'], 'Save to CSV Duration': compute_time_dict['save_to_csv_duration'], 'Basic Compute Duration': compute_time_dict['basic_compute_duration'], 'True Compute Duration': compute_time_dict['true_compute_duration']}, ignore_index=True)\n"
     ]
    },
    {
     "name": "stdout",
     "output_type": "stream",
     "text": [
      "pq_8_8 Results Saved to CSV!\n",
      "\n",
      "===============================================================\n",
      "Query:  2 years experience product manager\n",
      "PQ Setting:  pq_8_8\n",
      "Total Time Taken:\n",
      "\n",
      "Start Time:  1697269094.343764\n",
      "Compute Similarity Duration:  0.00674891471862793\n",
      "Get Ranking Duration:  0.010999917984008789\n",
      "Save to CSV Duration:  2.120739221572876\n",
      "Basic Time Duration:  2.138577938079834\n",
      "True Computed Time Duration:  2.1384880542755127\n",
      "===============================================================\n",
      "Computing similarity for: 10 years risk analyst problem solver...\n",
      "Getting Query Results Ranking....\n",
      "Top 5 Results:\n",
      "                                                     Data  \\\n",
      "12040  Deburr/Grind - 1st Shift - FLS Nuestras instal...   \n",
      "11561  Houseperson Organization- Hyatt Regency Orland...   \n",
      "11559  Administrative Technician Boise Cascade Compan...   \n",
      "3055   Housekeeper Brief Description POSITION SUMMARY...   \n",
      "11553  Principal Attorney Join team recognized leader...   \n",
      "\n",
      "                                                  Vector   Distance  \n",
      "12040  [0, 1, 0, 0, 0, 0, 0, 0, 0, 0, 0, 0, 0, 0, 0, ...  38.786716  \n",
      "11561  [0, 0, 0, 0, 0, 0, 0, 0, 0, 0, 0, 0, 0, 0, 0, ...  38.786716  \n",
      "11559  [0, 0, 0, 0, 0, 0, 0, 0, 0, 0, 0, 0, 0, 0, 0, ...  38.786716  \n",
      "3055   [0, 0, 0, 0, 0, 0, 0, 0, 0, 0, 0, 0, 0, 0, 0, ...  38.786716  \n",
      "11553  [0, 0, 0, 0, 0, 0, 0, 0, 0, 0, 0, 0, 0, 0, 0, ...  38.786716  \n",
      "Saving pq_8_8 Results to CSV....\n"
     ]
    },
    {
     "name": "stderr",
     "output_type": "stream",
     "text": [
      "/var/folders/2q/bjqpws1153b0_y18lhffmh_m0000gn/T/ipykernel_42781/686456071.py:14: FutureWarning: The frame.append method is deprecated and will be removed from pandas in a future version. Use pandas.concat instead.\n",
      "  compute_time_df = compute_time_df.append({'Query': query_name, 'PQ Setting': pq_setting, 'Compute Similarity Duration': compute_time_dict['compute_similarity_duration'], 'Get Ranking Duration': compute_time_dict['get_rank_duration'], 'Save to CSV Duration': compute_time_dict['save_to_csv_duration'], 'Basic Compute Duration': compute_time_dict['basic_compute_duration'], 'True Compute Duration': compute_time_dict['true_compute_duration']}, ignore_index=True)\n"
     ]
    },
    {
     "name": "stdout",
     "output_type": "stream",
     "text": [
      "pq_8_8 Results Saved to CSV!\n",
      "\n",
      "===============================================================\n",
      "Query:  10 years risk analyst problem solver\n",
      "PQ Setting:  pq_8_8\n",
      "Total Time Taken:\n",
      "\n",
      "Start Time:  1697269096.4862342\n",
      "Compute Similarity Duration:  0.004294872283935547\n",
      "Get Ranking Duration:  0.012368917465209961\n",
      "Save to CSV Duration:  2.2944839000701904\n",
      "Basic Time Duration:  2.3113396167755127\n",
      "True Computed Time Duration:  2.311147689819336\n",
      "===============================================================\n",
      "Computing similarity for: tax analyst for big company...\n",
      "Getting Query Results Ranking....\n",
      "Top 5 Results:\n",
      "                                                     Data  \\\n",
      "2872   Busser Job Description JOIN A WINNING TEAM! BU...   \n",
      "1896   Bridge Foreman Purpose Position: Responsible o...   \n",
      "13351  Client Service Representative Standard Textile...   \n",
      "9071   Instructor (Math & Science) Role: Part Time Ma...   \n",
      "1899   Senior Associate, Brand Experience The role Se...   \n",
      "\n",
      "                                                  Vector   Distance  \n",
      "2872   [0, 0, 0, 0, 0, 0, 0, 0, 0, 0, 0, 0, 0, 0, 0, ...  38.514465  \n",
      "1896   [0, 0, 0, 0, 0, 0, 0, 0, 0, 0, 0, 0, 0, 0, 0, ...  38.514465  \n",
      "13351  [0, 0, 0, 0, 0, 0, 0, 0, 0, 0, 0, 0, 0, 0, 0, ...  38.514465  \n",
      "9071   [0, 2, 0, 0, 0, 0, 0, 0, 0, 0, 0, 0, 0, 0, 0, ...  38.514465  \n",
      "1899   [0, 0, 0, 0, 0, 0, 0, 0, 0, 0, 0, 0, 0, 0, 0, ...  38.514465  \n",
      "Saving pq_8_8 Results to CSV....\n"
     ]
    },
    {
     "name": "stderr",
     "output_type": "stream",
     "text": [
      "/var/folders/2q/bjqpws1153b0_y18lhffmh_m0000gn/T/ipykernel_42781/686456071.py:14: FutureWarning: The frame.append method is deprecated and will be removed from pandas in a future version. Use pandas.concat instead.\n",
      "  compute_time_df = compute_time_df.append({'Query': query_name, 'PQ Setting': pq_setting, 'Compute Similarity Duration': compute_time_dict['compute_similarity_duration'], 'Get Ranking Duration': compute_time_dict['get_rank_duration'], 'Save to CSV Duration': compute_time_dict['save_to_csv_duration'], 'Basic Compute Duration': compute_time_dict['basic_compute_duration'], 'True Compute Duration': compute_time_dict['true_compute_duration']}, ignore_index=True)\n"
     ]
    },
    {
     "name": "stdout",
     "output_type": "stream",
     "text": [
      "pq_8_8 Results Saved to CSV!\n",
      "\n",
      "===============================================================\n",
      "Query:  tax analyst for big company\n",
      "PQ Setting:  pq_8_8\n",
      "Total Time Taken:\n",
      "\n",
      "Start Time:  1697269098.800501\n",
      "Compute Similarity Duration:  0.004689693450927734\n",
      "Get Ranking Duration:  0.01178121566772461\n",
      "Save to CSV Duration:  1.978389024734497\n",
      "Basic Time Duration:  1.9949748516082764\n",
      "True Computed Time Duration:  1.9948599338531494\n",
      "===============================================================\n",
      "Computing similarity for: software engineer for google or amazon...\n",
      "Getting Query Results Ranking....\n",
      "Top 5 Results:\n",
      "                                                    Data  \\\n",
      "2867  Full Stack Engineer Job Title: Full Stack Deve...   \n",
      "3981  Substance Abuse Counselor We seeking Chemical ...   \n",
      "1895  Laboratory Technician Job Title: Laboratory Te...   \n",
      "1896  Bridge Foreman Purpose Position: Responsible o...   \n",
      "3979  Investment Analyst **Please apply position twi...   \n",
      "\n",
      "                                                 Vector   Distance  \n",
      "2867  [0, 0, 0, 0, 0, 0, 0, 0, 0, 0, 0, 0, 0, 0, 0, ...  39.496956  \n",
      "3981  [0, 0, 0, 0, 0, 0, 0, 0, 0, 0, 0, 0, 0, 0, 0, ...  39.496956  \n",
      "1895  [2, 0, 0, 0, 0, 0, 0, 0, 0, 0, 0, 0, 0, 0, 0, ...  39.496956  \n",
      "1896  [0, 0, 0, 0, 0, 0, 0, 0, 0, 0, 0, 0, 0, 0, 0, ...  39.496956  \n",
      "3979  [0, 1, 0, 0, 0, 0, 0, 0, 0, 0, 0, 0, 0, 0, 0, ...  39.496956  \n",
      "Saving pq_8_8 Results to CSV....\n"
     ]
    },
    {
     "name": "stderr",
     "output_type": "stream",
     "text": [
      "/var/folders/2q/bjqpws1153b0_y18lhffmh_m0000gn/T/ipykernel_42781/686456071.py:14: FutureWarning: The frame.append method is deprecated and will be removed from pandas in a future version. Use pandas.concat instead.\n",
      "  compute_time_df = compute_time_df.append({'Query': query_name, 'PQ Setting': pq_setting, 'Compute Similarity Duration': compute_time_dict['compute_similarity_duration'], 'Get Ranking Duration': compute_time_dict['get_rank_duration'], 'Save to CSV Duration': compute_time_dict['save_to_csv_duration'], 'Basic Compute Duration': compute_time_dict['basic_compute_duration'], 'True Compute Duration': compute_time_dict['true_compute_duration']}, ignore_index=True)\n"
     ]
    },
    {
     "name": "stdout",
     "output_type": "stream",
     "text": [
      "pq_8_8 Results Saved to CSV!\n",
      "\n",
      "===============================================================\n",
      "Query:  software engineer for google or amazon\n",
      "PQ Setting:  pq_8_8\n",
      "Total Time Taken:\n",
      "\n",
      "Start Time:  1697269100.797515\n",
      "Compute Similarity Duration:  0.006179094314575195\n",
      "Get Ranking Duration:  0.011192798614501953\n",
      "Save to CSV Duration:  2.326428174972534\n",
      "Basic Time Duration:  2.343909978866577\n",
      "True Computed Time Duration:  2.3438000679016113\n",
      "===============================================================\n",
      "Computing similarity for: video editor for advertisements with 5 year experience...\n",
      "Getting Query Results Ranking....\n",
      "Top 5 Results:\n",
      "                                                    Data  \\\n",
      "5750  Immigration Paralegal Elias, Mendoza, Hill Law...   \n",
      "1896  Bridge Foreman Purpose Position: Responsible o...   \n",
      "9129  Tax Director (CPA Required) We looking full ti...   \n",
      "3979  Investment Analyst **Please apply position twi...   \n",
      "1899  Senior Associate, Brand Experience The role Se...   \n",
      "\n",
      "                                                 Vector   Distance  \n",
      "5750  [0, 0, 0, 0, 0, 0, 0, 0, 0, 0, 0, 0, 0, 0, 0, ...  38.220497  \n",
      "1896  [0, 0, 0, 0, 0, 0, 0, 0, 0, 0, 0, 0, 0, 0, 0, ...  38.220497  \n",
      "9129  [0, 1, 0, 0, 0, 0, 0, 0, 0, 0, 0, 0, 0, 0, 0, ...  38.220497  \n",
      "3979  [0, 1, 0, 0, 0, 0, 0, 0, 0, 0, 0, 0, 0, 0, 0, ...  38.220497  \n",
      "1899  [0, 0, 0, 0, 0, 0, 0, 0, 0, 0, 0, 0, 0, 0, 0, ...  38.220497  \n",
      "Saving pq_8_8 Results to CSV....\n"
     ]
    },
    {
     "name": "stderr",
     "output_type": "stream",
     "text": [
      "/var/folders/2q/bjqpws1153b0_y18lhffmh_m0000gn/T/ipykernel_42781/686456071.py:14: FutureWarning: The frame.append method is deprecated and will be removed from pandas in a future version. Use pandas.concat instead.\n",
      "  compute_time_df = compute_time_df.append({'Query': query_name, 'PQ Setting': pq_setting, 'Compute Similarity Duration': compute_time_dict['compute_similarity_duration'], 'Get Ranking Duration': compute_time_dict['get_rank_duration'], 'Save to CSV Duration': compute_time_dict['save_to_csv_duration'], 'Basic Compute Duration': compute_time_dict['basic_compute_duration'], 'True Compute Duration': compute_time_dict['true_compute_duration']}, ignore_index=True)\n"
     ]
    },
    {
     "name": "stdout",
     "output_type": "stream",
     "text": [
      "pq_8_8 Results Saved to CSV!\n",
      "\n",
      "===============================================================\n",
      "Query:  video editor for advertisements with 5 year experience\n",
      "PQ Setting:  pq_8_8\n",
      "Total Time Taken:\n",
      "\n",
      "Start Time:  1697269103.1441338\n",
      "Compute Similarity Duration:  0.006389141082763672\n",
      "Get Ranking Duration:  0.012081146240234375\n",
      "Save to CSV Duration:  2.048743963241577\n",
      "Basic Time Duration:  2.067305326461792\n",
      "True Computed Time Duration:  2.067214250564575\n",
      "===============================================================\n",
      "Computing similarity for: full time senior head nurse position...\n",
      "Getting Query Results Ranking....\n",
      "Top 5 Results:\n",
      "                                                    Data  \\\n",
      "5697  Mobile Laundry Attendant Hang It Up Laundry Se...   \n",
      "1892  SQL Developer · Min 5 Years experience Must sk...   \n",
      "8901  Retail Associates Job Description - Overview I...   \n",
      "1895  Laboratory Technician Job Title: Laboratory Te...   \n",
      "1896  Bridge Foreman Purpose Position: Responsible o...   \n",
      "\n",
      "                                                 Vector   Distance  \n",
      "5697  [2, 0, 0, 0, 0, 0, 0, 0, 0, 0, 0, 0, 0, 0, 0, ...  37.677284  \n",
      "1892  [0, 0, 0, 0, 0, 0, 0, 0, 0, 0, 0, 0, 0, 0, 0, ...  37.677284  \n",
      "8901  [2, 0, 0, 0, 0, 0, 0, 0, 0, 0, 0, 0, 0, 0, 0, ...  37.677284  \n",
      "1895  [2, 0, 0, 0, 0, 0, 0, 0, 0, 0, 0, 0, 0, 0, 0, ...  37.677284  \n",
      "1896  [0, 0, 0, 0, 0, 0, 0, 0, 0, 0, 0, 0, 0, 0, 0, ...  37.677284  \n",
      "Saving pq_8_8 Results to CSV....\n"
     ]
    },
    {
     "name": "stderr",
     "output_type": "stream",
     "text": [
      "/var/folders/2q/bjqpws1153b0_y18lhffmh_m0000gn/T/ipykernel_42781/686456071.py:14: FutureWarning: The frame.append method is deprecated and will be removed from pandas in a future version. Use pandas.concat instead.\n",
      "  compute_time_df = compute_time_df.append({'Query': query_name, 'PQ Setting': pq_setting, 'Compute Similarity Duration': compute_time_dict['compute_similarity_duration'], 'Get Ranking Duration': compute_time_dict['get_rank_duration'], 'Save to CSV Duration': compute_time_dict['save_to_csv_duration'], 'Basic Compute Duration': compute_time_dict['basic_compute_duration'], 'True Compute Duration': compute_time_dict['true_compute_duration']}, ignore_index=True)\n"
     ]
    },
    {
     "name": "stdout",
     "output_type": "stream",
     "text": [
      "pq_8_8 Results Saved to CSV!\n",
      "\n",
      "===============================================================\n",
      "Query:  full time senior head nurse position\n",
      "PQ Setting:  pq_8_8\n",
      "Total Time Taken:\n",
      "\n",
      "Start Time:  1697269105.2134972\n",
      "Compute Similarity Duration:  0.0048639774322509766\n",
      "Get Ranking Duration:  0.010172843933105469\n",
      "Save to CSV Duration:  2.0237550735473633\n",
      "Basic Time Duration:  2.0389649868011475\n",
      "True Computed Time Duration:  2.0387918949127197\n",
      "===============================================================\n",
      "Computing similarity for: after school math and science tutor...\n",
      "Getting Query Results Ranking....\n",
      "Top 5 Results:\n",
      "                                                     Data  \\\n",
      "7550   Program Manager Job Description :Role Name: Pr...   \n",
      "13227  Facilities Maintenance POSITION SUMMARY: Provi...   \n",
      "13226  IAM Ping Federate consultant Job Description: ...   \n",
      "4276   Director Communications The Communications Dir...   \n",
      "4275   Microstrategy Developer position MUST BE LOCAL...   \n",
      "\n",
      "                                                  Vector   Distance  \n",
      "7550   [0, 0, 0, 0, 0, 0, 0, 0, 0, 0, 0, 0, 0, 0, 0, ...  40.116089  \n",
      "13227  [0, 0, 0, 0, 0, 0, 0, 0, 0, 0, 0, 0, 0, 0, 0, ...  40.116089  \n",
      "13226  [0, 0, 0, 0, 0, 0, 0, 0, 0, 0, 0, 0, 0, 0, 0, ...  40.116089  \n",
      "4276   [0, 0, 0, 0, 0, 0, 0, 0, 0, 0, 0, 0, 0, 0, 0, ...  40.116089  \n",
      "4275   [0, 0, 0, 0, 0, 0, 0, 0, 0, 0, 0, 0, 0, 0, 0, ...  40.116089  \n",
      "Saving pq_8_8 Results to CSV....\n"
     ]
    },
    {
     "name": "stderr",
     "output_type": "stream",
     "text": [
      "/var/folders/2q/bjqpws1153b0_y18lhffmh_m0000gn/T/ipykernel_42781/686456071.py:14: FutureWarning: The frame.append method is deprecated and will be removed from pandas in a future version. Use pandas.concat instead.\n",
      "  compute_time_df = compute_time_df.append({'Query': query_name, 'PQ Setting': pq_setting, 'Compute Similarity Duration': compute_time_dict['compute_similarity_duration'], 'Get Ranking Duration': compute_time_dict['get_rank_duration'], 'Save to CSV Duration': compute_time_dict['save_to_csv_duration'], 'Basic Compute Duration': compute_time_dict['basic_compute_duration'], 'True Compute Duration': compute_time_dict['true_compute_duration']}, ignore_index=True)\n"
     ]
    },
    {
     "name": "stdout",
     "output_type": "stream",
     "text": [
      "pq_8_8 Results Saved to CSV!\n",
      "\n",
      "===============================================================\n",
      "Query:  after school math and science tutor\n",
      "PQ Setting:  pq_8_8\n",
      "Total Time Taken:\n",
      "\n",
      "Start Time:  1697269107.258194\n",
      "Compute Similarity Duration:  0.006805896759033203\n",
      "Get Ranking Duration:  0.013374090194702148\n",
      "Save to CSV Duration:  2.5241708755493164\n",
      "Basic Time Duration:  2.544517993927002\n",
      "True Computed Time Duration:  2.5443508625030518\n",
      "===============================================================\n",
      "Computing similarity for: dietitian for professional atheletes...\n",
      "Getting Query Results Ranking....\n",
      "Top 5 Results:\n",
      "                                                     Data  \\\n",
      "5706   Receptionist ResponsibilitiesKeep front desk t...   \n",
      "13336  Application Engineer III One top banking clien...   \n",
      "1892   SQL Developer · Min 5 Years experience Must sk...   \n",
      "1895   Laboratory Technician Job Title: Laboratory Te...   \n",
      "1896   Bridge Foreman Purpose Position: Responsible o...   \n",
      "\n",
      "                                                  Vector   Distance  \n",
      "5706   [0, 0, 0, 0, 0, 0, 0, 0, 0, 0, 0, 0, 0, 0, 0, ...  37.544853  \n",
      "13336  [0, 0, 0, 0, 0, 0, 0, 0, 0, 0, 0, 0, 0, 0, 0, ...  37.544853  \n",
      "1892   [0, 0, 0, 0, 0, 0, 0, 0, 0, 0, 0, 0, 0, 0, 0, ...  37.544853  \n",
      "1895   [2, 0, 0, 0, 0, 0, 0, 0, 0, 0, 0, 0, 0, 0, 0, ...  37.544853  \n",
      "1896   [0, 0, 0, 0, 0, 0, 0, 0, 0, 0, 0, 0, 0, 0, 0, ...  37.544853  \n",
      "Saving pq_8_8 Results to CSV....\n"
     ]
    },
    {
     "name": "stderr",
     "output_type": "stream",
     "text": [
      "/var/folders/2q/bjqpws1153b0_y18lhffmh_m0000gn/T/ipykernel_42781/686456071.py:14: FutureWarning: The frame.append method is deprecated and will be removed from pandas in a future version. Use pandas.concat instead.\n",
      "  compute_time_df = compute_time_df.append({'Query': query_name, 'PQ Setting': pq_setting, 'Compute Similarity Duration': compute_time_dict['compute_similarity_duration'], 'Get Ranking Duration': compute_time_dict['get_rank_duration'], 'Save to CSV Duration': compute_time_dict['save_to_csv_duration'], 'Basic Compute Duration': compute_time_dict['basic_compute_duration'], 'True Compute Duration': compute_time_dict['true_compute_duration']}, ignore_index=True)\n"
     ]
    },
    {
     "name": "stdout",
     "output_type": "stream",
     "text": [
      "pq_8_8 Results Saved to CSV!\n",
      "\n",
      "===============================================================\n",
      "Query:  dietitian for professional atheletes\n",
      "PQ Setting:  pq_8_8\n",
      "Total Time Taken:\n",
      "\n",
      "Start Time:  1697269109.8079\n",
      "Compute Similarity Duration:  0.005249977111816406\n",
      "Get Ranking Duration:  0.012748003005981445\n",
      "Save to CSV Duration:  2.276130199432373\n",
      "Basic Time Duration:  2.2942230701446533\n",
      "True Computed Time Duration:  2.294128179550171\n",
      "===============================================================\n",
      "Computing similarity for: costume designer and makeup artist...\n",
      "Getting Query Results Ranking....\n",
      "Top 5 Results:\n",
      "                                                     Data  \\\n",
      "5723   Associate Director, Infrastructure Hybrid Onsi...   \n",
      "1892   SQL Developer · Min 5 Years experience Must sk...   \n",
      "1895   Laboratory Technician Job Title: Laboratory Te...   \n",
      "1896   Bridge Foreman Purpose Position: Responsible o...   \n",
      "13339  Data Entry Specialist Job Title: Transaction S...   \n",
      "\n",
      "                                                  Vector   Distance  \n",
      "5723   [0, 0, 0, 0, 0, 0, 0, 0, 0, 0, 0, 0, 0, 0, 0, ...  39.787331  \n",
      "1892   [0, 0, 0, 0, 0, 0, 0, 0, 0, 0, 0, 0, 0, 0, 0, ...  39.787331  \n",
      "1895   [2, 0, 0, 0, 0, 0, 0, 0, 0, 0, 0, 0, 0, 0, 0, ...  39.787331  \n",
      "1896   [0, 0, 0, 0, 0, 0, 0, 0, 0, 0, 0, 0, 0, 0, 0, ...  39.787331  \n",
      "13339  [0, 0, 0, 0, 0, 0, 0, 0, 0, 0, 0, 0, 0, 0, 0, ...  39.787331  \n",
      "Saving pq_8_8 Results to CSV....\n"
     ]
    },
    {
     "name": "stderr",
     "output_type": "stream",
     "text": [
      "/var/folders/2q/bjqpws1153b0_y18lhffmh_m0000gn/T/ipykernel_42781/686456071.py:14: FutureWarning: The frame.append method is deprecated and will be removed from pandas in a future version. Use pandas.concat instead.\n",
      "  compute_time_df = compute_time_df.append({'Query': query_name, 'PQ Setting': pq_setting, 'Compute Similarity Duration': compute_time_dict['compute_similarity_duration'], 'Get Ranking Duration': compute_time_dict['get_rank_duration'], 'Save to CSV Duration': compute_time_dict['save_to_csv_duration'], 'Basic Compute Duration': compute_time_dict['basic_compute_duration'], 'True Compute Duration': compute_time_dict['true_compute_duration']}, ignore_index=True)\n"
     ]
    },
    {
     "name": "stdout",
     "output_type": "stream",
     "text": [
      "pq_8_8 Results Saved to CSV!\n",
      "\n",
      "===============================================================\n",
      "Query:  costume designer and makeup artist\n",
      "PQ Setting:  pq_8_8\n",
      "Total Time Taken:\n",
      "\n",
      "Start Time:  1697269112.104477\n",
      "Compute Similarity Duration:  0.009037017822265625\n",
      "Get Ranking Duration:  0.008642196655273438\n",
      "Save to CSV Duration:  1.9587807655334473\n",
      "Basic Time Duration:  1.9769961833953857\n",
      "True Computed Time Duration:  1.9764599800109863\n",
      "===============================================================\n",
      "Computing similarity for: resilient investment banker...\n",
      "Getting Query Results Ranking....\n",
      "Top 5 Results:\n",
      "                                                     Data  \\\n",
      "11045  APPLICATION DEVELOPER Eviden Atos Group busine...   \n",
      "10034  Income/Dividend/ P&I Processing Analyst Income...   \n",
      "2182   Bankruptcy Attorney The Department Veterans Af...   \n",
      "2183   Patient Care Manager Responsibilities The Home...   \n",
      "2184   Career Coach https://cclbcorps.isolvedhire.com...   \n",
      "\n",
      "                                                  Vector   Distance  \n",
      "11045  [0, 1, 0, 0, 0, 0, 0, 0, 0, 0, 0, 0, 0, 0, 0, ...  29.298384  \n",
      "10034  [0, 0, 0, 0, 0, 0, 0, 0, 0, 0, 0, 0, 0, 0, 0, ...  29.298384  \n",
      "2182   [0, 0, 0, 0, 0, 0, 0, 0, 0, 0, 0, 0, 0, 0, 0, ...  29.298384  \n",
      "2183   [0, 0, 0, 0, 0, 0, 0, 0, 0, 0, 0, 0, 0, 0, 0, ...  29.298384  \n",
      "2184   [0, 0, 0, 0, 0, 0, 0, 0, 0, 0, 0, 0, 0, 0, 0, ...  29.298384  \n",
      "Saving pq_8_16 Results to CSV....\n"
     ]
    },
    {
     "name": "stderr",
     "output_type": "stream",
     "text": [
      "/var/folders/2q/bjqpws1153b0_y18lhffmh_m0000gn/T/ipykernel_42781/686456071.py:14: FutureWarning: The frame.append method is deprecated and will be removed from pandas in a future version. Use pandas.concat instead.\n",
      "  compute_time_df = compute_time_df.append({'Query': query_name, 'PQ Setting': pq_setting, 'Compute Similarity Duration': compute_time_dict['compute_similarity_duration'], 'Get Ranking Duration': compute_time_dict['get_rank_duration'], 'Save to CSV Duration': compute_time_dict['save_to_csv_duration'], 'Basic Compute Duration': compute_time_dict['basic_compute_duration'], 'True Compute Duration': compute_time_dict['true_compute_duration']}, ignore_index=True)\n",
      "/var/folders/2q/bjqpws1153b0_y18lhffmh_m0000gn/T/ipykernel_42781/686456071.py:17: FutureWarning: The frame.append method is deprecated and will be removed from pandas in a future version. Use pandas.concat instead.\n",
      "  compute_time_df = compute_time_df.append({'Query': 'Average', 'PQ Setting': pq_setting, 'Compute Similarity Duration': compute_time_df['Compute Similarity Duration'].mean(), 'Get Ranking Duration': compute_time_df['Get Ranking Duration'].mean(), 'Save to CSV Duration': compute_time_df['Save to CSV Duration'].mean(), 'Basic Compute Duration': compute_time_df['Basic Compute Duration'].mean(), 'True Compute Duration': compute_time_df['True Compute Duration'].mean()}, ignore_index=True)\n"
     ]
    },
    {
     "name": "stdout",
     "output_type": "stream",
     "text": [
      "pq_8_16 Results Saved to CSV!\n",
      "\n",
      "===============================================================\n",
      "Query:  resilient investment banker\n",
      "PQ Setting:  pq_8_16\n",
      "Total Time Taken:\n",
      "\n",
      "Start Time:  1697269114.102664\n",
      "Compute Similarity Duration:  0.1407778263092041\n",
      "Get Ranking Duration:  0.015295982360839844\n",
      "Save to CSV Duration:  2.1942431926727295\n",
      "Basic Time Duration:  2.3504669666290283\n",
      "True Computed Time Duration:  2.3503170013427734\n",
      "===============================================================\n",
      "Computing similarity for: 2 years experience product manager...\n",
      "Getting Query Results Ranking....\n",
      "Top 5 Results:\n",
      "                                                     Data  \\\n",
      "4066   Payroll Specialist 2 Apply work company foster...   \n",
      "3495   Sr. Software (Firmware) Engineer Role: Sr. Sof...   \n",
      "11561  Houseperson Organization- Hyatt Regency Orland...   \n",
      "11569  OH - RN Emergency Room - 7pm 7am We looking ER...   \n",
      "11570  OR - Mammo Tech - Days DEPARTMENT DESCRIPTIONT...   \n",
      "\n",
      "                                                  Vector   Distance  \n",
      "4066   [0, 0, 0, 0, 0, 0, 0, 0, 0, 0, 0, 0, 0, 0, 0, ...  25.508362  \n",
      "3495   [0, 0, 0, 0, 0, 0, 0, 0, 0, 0, 0, 0, 0, 0, 0, ...  25.508362  \n",
      "11561  [0, 0, 0, 0, 0, 0, 0, 0, 0, 0, 0, 0, 0, 0, 0, ...  25.508362  \n",
      "11569  [0, 0, 0, 0, 0, 0, 0, 0, 0, 0, 0, 0, 0, 0, 0, ...  25.508362  \n",
      "11570  [0, 0, 0, 0, 0, 0, 0, 0, 0, 0, 0, 0, 0, 0, 0, ...  25.508362  \n",
      "Saving pq_8_16 Results to CSV....\n"
     ]
    },
    {
     "name": "stderr",
     "output_type": "stream",
     "text": [
      "/var/folders/2q/bjqpws1153b0_y18lhffmh_m0000gn/T/ipykernel_42781/686456071.py:14: FutureWarning: The frame.append method is deprecated and will be removed from pandas in a future version. Use pandas.concat instead.\n",
      "  compute_time_df = compute_time_df.append({'Query': query_name, 'PQ Setting': pq_setting, 'Compute Similarity Duration': compute_time_dict['compute_similarity_duration'], 'Get Ranking Duration': compute_time_dict['get_rank_duration'], 'Save to CSV Duration': compute_time_dict['save_to_csv_duration'], 'Basic Compute Duration': compute_time_dict['basic_compute_duration'], 'True Compute Duration': compute_time_dict['true_compute_duration']}, ignore_index=True)\n"
     ]
    },
    {
     "name": "stdout",
     "output_type": "stream",
     "text": [
      "pq_8_16 Results Saved to CSV!\n",
      "\n",
      "===============================================================\n",
      "Query:  2 years experience product manager\n",
      "PQ Setting:  pq_8_16\n",
      "Total Time Taken:\n",
      "\n",
      "Start Time:  1697269116.4577012\n",
      "Compute Similarity Duration:  0.0077970027923583984\n",
      "Get Ranking Duration:  0.011613845825195312\n",
      "Save to CSV Duration:  2.053802013397217\n",
      "Basic Time Duration:  2.073303699493408\n",
      "True Computed Time Duration:  2.0732128620147705\n",
      "===============================================================\n",
      "Computing similarity for: 10 years risk analyst problem solver...\n",
      "Getting Query Results Ranking....\n",
      "Top 5 Results:\n",
      "                                                     Data  \\\n",
      "11067  JUNIOR ANDROID DEVELOPER Eviden Atos Group bus...   \n",
      "2192   Site Merchandising Specialist Apex Systems loo...   \n",
      "2193   Java Tech Lead (Azure, AKS, Kubernetes, Deploy...   \n",
      "2194   Litigation Associate McClure & Feuer San Franc...   \n",
      "10063  Dotnet Developer JOB TITLE: Senior Software De...   \n",
      "\n",
      "                                                  Vector   Distance  \n",
      "11067  [0, 1, 0, 0, 0, 0, 0, 0, 0, 0, 0, 0, 0, 0, 0, ...  29.834568  \n",
      "2192   [0, 0, 0, 0, 0, 0, 0, 0, 0, 0, 0, 0, 0, 0, 0, ...  29.834568  \n",
      "2193   [0, 0, 0, 0, 0, 0, 0, 0, 0, 0, 0, 0, 0, 0, 0, ...  29.834568  \n",
      "2194   [0, 0, 0, 0, 0, 0, 0, 0, 0, 0, 0, 0, 0, 0, 0, ...  29.834568  \n",
      "10063  [0, 0, 0, 0, 0, 0, 0, 0, 0, 0, 0, 0, 0, 0, 0, ...  29.834568  \n",
      "Saving pq_8_16 Results to CSV....\n"
     ]
    },
    {
     "name": "stderr",
     "output_type": "stream",
     "text": [
      "/var/folders/2q/bjqpws1153b0_y18lhffmh_m0000gn/T/ipykernel_42781/686456071.py:14: FutureWarning: The frame.append method is deprecated and will be removed from pandas in a future version. Use pandas.concat instead.\n",
      "  compute_time_df = compute_time_df.append({'Query': query_name, 'PQ Setting': pq_setting, 'Compute Similarity Duration': compute_time_dict['compute_similarity_duration'], 'Get Ranking Duration': compute_time_dict['get_rank_duration'], 'Save to CSV Duration': compute_time_dict['save_to_csv_duration'], 'Basic Compute Duration': compute_time_dict['basic_compute_duration'], 'True Compute Duration': compute_time_dict['true_compute_duration']}, ignore_index=True)\n"
     ]
    },
    {
     "name": "stdout",
     "output_type": "stream",
     "text": [
      "pq_8_16 Results Saved to CSV!\n",
      "\n",
      "===============================================================\n",
      "Query:  10 years risk analyst problem solver\n",
      "PQ Setting:  pq_8_16\n",
      "Total Time Taken:\n",
      "\n",
      "Start Time:  1697269118.5326562\n",
      "Compute Similarity Duration:  0.0062139034271240234\n",
      "Get Ranking Duration:  0.013943910598754883\n",
      "Save to CSV Duration:  2.152039051055908\n",
      "Basic Time Duration:  2.172431707382202\n",
      "True Computed Time Duration:  2.172196865081787\n",
      "===============================================================\n",
      "Computing similarity for: tax analyst for big company...\n",
      "Getting Query Results Ranking....\n",
      "Top 5 Results:\n",
      "                                                     Data  \\\n",
      "12591  Bartender - Union Tavern OVERVIEW: As Union Ta...   \n",
      "5721   Executive Assistant - Paralegal Experience Pre...   \n",
      "11470  Finance Coordinator Organization- Grand Hyatt ...   \n",
      "5720   Director Information Technology Director IT Ap...   \n",
      "11478  Emergency Room Nurse Emergency room nurse with...   \n",
      "\n",
      "                                                  Vector   Distance  \n",
      "12591  [0, 0, 0, 0, 0, 0, 0, 0, 0, 0, 0, 0, 0, 0, 0, ...  29.804068  \n",
      "5721   [0, 0, 0, 0, 0, 0, 0, 0, 0, 0, 0, 0, 0, 0, 0, ...  29.804068  \n",
      "11470  [0, 0, 0, 0, 0, 0, 0, 0, 0, 0, 0, 0, 0, 0, 0, ...  29.804068  \n",
      "5720   [0, 0, 0, 0, 0, 0, 0, 0, 0, 0, 0, 0, 0, 0, 0, ...  29.804068  \n",
      "11478  [0, 0, 0, 0, 0, 0, 0, 0, 0, 0, 0, 0, 0, 0, 0, ...  29.804068  \n",
      "Saving pq_8_16 Results to CSV....\n"
     ]
    },
    {
     "name": "stderr",
     "output_type": "stream",
     "text": [
      "/var/folders/2q/bjqpws1153b0_y18lhffmh_m0000gn/T/ipykernel_42781/686456071.py:14: FutureWarning: The frame.append method is deprecated and will be removed from pandas in a future version. Use pandas.concat instead.\n",
      "  compute_time_df = compute_time_df.append({'Query': query_name, 'PQ Setting': pq_setting, 'Compute Similarity Duration': compute_time_dict['compute_similarity_duration'], 'Get Ranking Duration': compute_time_dict['get_rank_duration'], 'Save to CSV Duration': compute_time_dict['save_to_csv_duration'], 'Basic Compute Duration': compute_time_dict['basic_compute_duration'], 'True Compute Duration': compute_time_dict['true_compute_duration']}, ignore_index=True)\n"
     ]
    },
    {
     "name": "stdout",
     "output_type": "stream",
     "text": [
      "pq_8_16 Results Saved to CSV!\n",
      "\n",
      "===============================================================\n",
      "Query:  tax analyst for big company\n",
      "PQ Setting:  pq_8_16\n",
      "Total Time Taken:\n",
      "\n",
      "Start Time:  1697269120.7093399\n",
      "Compute Similarity Duration:  0.012938976287841797\n",
      "Get Ranking Duration:  0.018239974975585938\n",
      "Save to CSV Duration:  2.0318610668182373\n",
      "Basic Time Duration:  2.0631461143493652\n",
      "True Computed Time Duration:  2.063040018081665\n",
      "===============================================================\n",
      "Computing similarity for: software engineer for google or amazon...\n",
      "Getting Query Results Ranking....\n",
      "Top 5 Results:\n",
      "                                                     Data  \\\n",
      "12626  Cost Manager Create quotation, order change ca...   \n",
      "5759   Computer Systems Validation Engineer Global Co...   \n",
      "11532  EPIC/Resolute PB/Claims Analyst Experience Epi...   \n",
      "11553  Principal Attorney Join team recognized leader...   \n",
      "5755   Sales Director - Commercial Roofing / Large Lo...   \n",
      "\n",
      "                                                  Vector   Distance  \n",
      "12626  [0, 0, 0, 0, 0, 0, 0, 0, 0, 0, 0, 0, 0, 0, 0, ...  30.804916  \n",
      "5759   [0, 0, 0, 0, 0, 0, 0, 0, 0, 0, 0, 0, 0, 0, 0, ...  30.804916  \n",
      "11532  [0, 0, 0, 0, 0, 0, 0, 0, 0, 0, 0, 0, 0, 0, 0, ...  30.804916  \n",
      "11553  [0, 0, 0, 0, 0, 0, 0, 0, 0, 0, 0, 0, 0, 0, 0, ...  30.804916  \n",
      "5755   [0, 0, 0, 0, 0, 0, 0, 0, 0, 0, 0, 0, 0, 0, 0, ...  30.804916  \n",
      "Saving pq_8_16 Results to CSV....\n"
     ]
    },
    {
     "name": "stderr",
     "output_type": "stream",
     "text": [
      "/var/folders/2q/bjqpws1153b0_y18lhffmh_m0000gn/T/ipykernel_42781/686456071.py:14: FutureWarning: The frame.append method is deprecated and will be removed from pandas in a future version. Use pandas.concat instead.\n",
      "  compute_time_df = compute_time_df.append({'Query': query_name, 'PQ Setting': pq_setting, 'Compute Similarity Duration': compute_time_dict['compute_similarity_duration'], 'Get Ranking Duration': compute_time_dict['get_rank_duration'], 'Save to CSV Duration': compute_time_dict['save_to_csv_duration'], 'Basic Compute Duration': compute_time_dict['basic_compute_duration'], 'True Compute Duration': compute_time_dict['true_compute_duration']}, ignore_index=True)\n"
     ]
    },
    {
     "name": "stdout",
     "output_type": "stream",
     "text": [
      "pq_8_16 Results Saved to CSV!\n",
      "\n",
      "===============================================================\n",
      "Query:  software engineer for google or amazon\n",
      "PQ Setting:  pq_8_16\n",
      "Total Time Taken:\n",
      "\n",
      "Start Time:  1697269122.774924\n",
      "Compute Similarity Duration:  0.0036039352416992188\n",
      "Get Ranking Duration:  0.00973200798034668\n",
      "Save to CSV Duration:  1.9791009426116943\n",
      "Basic Time Duration:  1.9925549030303955\n",
      "True Computed Time Duration:  1.9924368858337402\n",
      "===============================================================\n",
      "Computing similarity for: video editor for advertisements with 5 year experience...\n",
      "Getting Query Results Ranking....\n",
      "Top 5 Results:\n",
      "                                                     Data  \\\n",
      "11079  Day1 Onsite // Collections Coordinator Onsite ...   \n",
      "13140  Licensed Professional Counselor This position ...   \n",
      "7518   Accounts Payable Specialist Arthur Lawrence ur...   \n",
      "1270   C# Visual Studio Developer Robert Half current...   \n",
      "7516   Quality Control Technician Job Title: QC Techn...   \n",
      "\n",
      "                                                  Vector   Distance  \n",
      "11079  [0, 0, 0, 0, 0, 0, 0, 0, 0, 0, 0, 0, 0, 0, 0, ...  30.115532  \n",
      "13140  [0, 0, 0, 0, 0, 0, 0, 0, 0, 0, 0, 0, 0, 0, 0, ...  30.115532  \n",
      "7518   [0, 0, 0, 0, 0, 0, 0, 0, 0, 0, 0, 0, 0, 0, 0, ...  30.115532  \n",
      "1270   [0, 0, 0, 0, 0, 0, 0, 0, 0, 0, 0, 0, 0, 0, 0, ...  30.115532  \n",
      "7516   [0, 0, 0, 0, 0, 0, 0, 0, 0, 0, 0, 0, 0, 0, 0, ...  30.115532  \n",
      "Saving pq_8_16 Results to CSV....\n"
     ]
    },
    {
     "name": "stderr",
     "output_type": "stream",
     "text": [
      "/var/folders/2q/bjqpws1153b0_y18lhffmh_m0000gn/T/ipykernel_42781/686456071.py:14: FutureWarning: The frame.append method is deprecated and will be removed from pandas in a future version. Use pandas.concat instead.\n",
      "  compute_time_df = compute_time_df.append({'Query': query_name, 'PQ Setting': pq_setting, 'Compute Similarity Duration': compute_time_dict['compute_similarity_duration'], 'Get Ranking Duration': compute_time_dict['get_rank_duration'], 'Save to CSV Duration': compute_time_dict['save_to_csv_duration'], 'Basic Compute Duration': compute_time_dict['basic_compute_duration'], 'True Compute Duration': compute_time_dict['true_compute_duration']}, ignore_index=True)\n"
     ]
    },
    {
     "name": "stdout",
     "output_type": "stream",
     "text": [
      "pq_8_16 Results Saved to CSV!\n",
      "\n",
      "===============================================================\n",
      "Query:  video editor for advertisements with 5 year experience\n",
      "PQ Setting:  pq_8_16\n",
      "Total Time Taken:\n",
      "\n",
      "Start Time:  1697269124.770725\n",
      "Compute Similarity Duration:  0.004511117935180664\n",
      "Get Ranking Duration:  0.011594057083129883\n",
      "Save to CSV Duration:  1.8529636859893799\n",
      "Basic Time Duration:  1.8691658973693848\n",
      "True Computed Time Duration:  1.8690688610076904\n",
      "===============================================================\n",
      "Computing similarity for: full time senior head nurse position...\n",
      "Getting Query Results Ranking....\n",
      "Top 5 Results:\n",
      "                                                     Data  \\\n",
      "3975   Art Facilitator If experience teaching Art rea...   \n",
      "5737   Freelance Videographer/ Photographer DESCRIPTI...   \n",
      "1825   Accounts Payable Specialist The ideal candidat...   \n",
      "11470  Finance Coordinator Organization- Grand Hyatt ...   \n",
      "5725   Laboratory Technician GS-Tek Delawarean chroma...   \n",
      "\n",
      "                                                  Vector   Distance  \n",
      "3975   [2, 0, 0, 0, 0, 0, 0, 0, 0, 0, 0, 0, 0, 0, 0, ...  29.061859  \n",
      "5737   [0, 0, 0, 0, 0, 0, 0, 0, 0, 0, 0, 0, 0, 0, 0, ...  29.061859  \n",
      "1825   [0, 0, 0, 0, 0, 0, 0, 0, 0, 0, 0, 0, 0, 0, 0, ...  29.061859  \n",
      "11470  [0, 0, 0, 0, 0, 0, 0, 0, 0, 0, 0, 0, 0, 0, 0, ...  29.061859  \n",
      "5725   [0, 0, 0, 0, 0, 0, 0, 0, 0, 0, 0, 0, 0, 0, 0, ...  29.061859  \n",
      "Saving pq_8_16 Results to CSV....\n"
     ]
    },
    {
     "name": "stderr",
     "output_type": "stream",
     "text": [
      "/var/folders/2q/bjqpws1153b0_y18lhffmh_m0000gn/T/ipykernel_42781/686456071.py:14: FutureWarning: The frame.append method is deprecated and will be removed from pandas in a future version. Use pandas.concat instead.\n",
      "  compute_time_df = compute_time_df.append({'Query': query_name, 'PQ Setting': pq_setting, 'Compute Similarity Duration': compute_time_dict['compute_similarity_duration'], 'Get Ranking Duration': compute_time_dict['get_rank_duration'], 'Save to CSV Duration': compute_time_dict['save_to_csv_duration'], 'Basic Compute Duration': compute_time_dict['basic_compute_duration'], 'True Compute Duration': compute_time_dict['true_compute_duration']}, ignore_index=True)\n"
     ]
    },
    {
     "name": "stdout",
     "output_type": "stream",
     "text": [
      "pq_8_16 Results Saved to CSV!\n",
      "\n",
      "===============================================================\n",
      "Query:  full time senior head nurse position\n",
      "PQ Setting:  pq_8_16\n",
      "Total Time Taken:\n",
      "\n",
      "Start Time:  1697269126.6431491\n",
      "Compute Similarity Duration:  0.005023002624511719\n",
      "Get Ranking Duration:  0.01240086555480957\n",
      "Save to CSV Duration:  2.145589828491211\n",
      "Basic Time Duration:  2.163132905960083\n",
      "True Computed Time Duration:  2.1630136966705322\n",
      "===============================================================\n",
      "Computing similarity for: after school math and science tutor...\n",
      "Getting Query Results Ranking....\n",
      "Top 5 Results:\n",
      "                                                     Data  \\\n",
      "6477   Salesperson Overview: Responsible assisting te...   \n",
      "1653   CRNA Needed Locum Tenens Coverage Hospital Sub...   \n",
      "12346  Salad/Deli Bar Attendant Great Western Dining ...   \n",
      "1651   Cardiothoracic Surgery Physician Assistant Nee...   \n",
      "7254   纽约/迪拜分公司总经理 薪资范围：100-200k【岗位职责】1. 按照公司整体发展战略规划...   \n",
      "\n",
      "                                                  Vector   Distance  \n",
      "6477   [0, 0, 0, 0, 0, 0, 0, 0, 0, 0, 0, 0, 0, 0, 0, ...  31.088173  \n",
      "1653   [0, 0, 0, 0, 0, 0, 0, 0, 0, 0, 0, 0, 0, 0, 0, ...  31.088173  \n",
      "12346  [2, 0, 0, 0, 0, 0, 0, 0, 0, 0, 0, 0, 0, 0, 0, ...  31.088173  \n",
      "1651   [0, 0, 0, 0, 0, 0, 0, 0, 0, 0, 0, 0, 0, 0, 0, ...  31.088173  \n",
      "7254   [0, 0, 0, 0, 0, 0, 0, 0, 0, 0, 0, 0, 0, 0, 0, ...  31.088173  \n",
      "Saving pq_8_16 Results to CSV....\n"
     ]
    },
    {
     "name": "stderr",
     "output_type": "stream",
     "text": [
      "/var/folders/2q/bjqpws1153b0_y18lhffmh_m0000gn/T/ipykernel_42781/686456071.py:14: FutureWarning: The frame.append method is deprecated and will be removed from pandas in a future version. Use pandas.concat instead.\n",
      "  compute_time_df = compute_time_df.append({'Query': query_name, 'PQ Setting': pq_setting, 'Compute Similarity Duration': compute_time_dict['compute_similarity_duration'], 'Get Ranking Duration': compute_time_dict['get_rank_duration'], 'Save to CSV Duration': compute_time_dict['save_to_csv_duration'], 'Basic Compute Duration': compute_time_dict['basic_compute_duration'], 'True Compute Duration': compute_time_dict['true_compute_duration']}, ignore_index=True)\n"
     ]
    },
    {
     "name": "stdout",
     "output_type": "stream",
     "text": [
      "pq_8_16 Results Saved to CSV!\n",
      "\n",
      "===============================================================\n",
      "Query:  after school math and science tutor\n",
      "PQ Setting:  pq_8_16\n",
      "Total Time Taken:\n",
      "\n",
      "Start Time:  1697269128.8085902\n",
      "Compute Similarity Duration:  0.00426483154296875\n",
      "Get Ranking Duration:  0.01001286506652832\n",
      "Save to CSV Duration:  1.9962639808654785\n",
      "Basic Time Duration:  2.0106778144836426\n",
      "True Computed Time Duration:  2.0105416774749756\n",
      "===============================================================\n",
      "Computing similarity for: dietitian for professional atheletes...\n",
      "Getting Query Results Ranking....\n",
      "Top 5 Results:\n",
      "                                                     Data  \\\n",
      "3999   Regional Intervention Coach Position overviewT...   \n",
      "1189   Java Technical Lead Role: Java Tech LeadLocati...   \n",
      "13226  IAM Ping Federate consultant Job Description: ...   \n",
      "1187   Client Care Coordinator https://housemaster-la...   \n",
      "13227  Facilities Maintenance POSITION SUMMARY: Provi...   \n",
      "\n",
      "                                                  Vector   Distance  \n",
      "3999   [0, 0, 0, 0, 0, 0, 0, 0, 0, 0, 0, 0, 0, 0, 0, ...  28.564182  \n",
      "1189   [0, 0, 0, 0, 0, 0, 0, 0, 0, 0, 0, 0, 0, 0, 0, ...  28.564182  \n",
      "13226  [0, 0, 0, 0, 0, 0, 0, 0, 0, 0, 0, 0, 0, 0, 0, ...  28.564182  \n",
      "1187   [0, 0, 0, 0, 0, 0, 0, 0, 0, 0, 0, 0, 0, 0, 0, ...  28.564182  \n",
      "13227  [0, 0, 0, 0, 0, 0, 0, 0, 0, 0, 0, 0, 0, 0, 0, ...  28.564182  \n",
      "Saving pq_8_16 Results to CSV....\n"
     ]
    },
    {
     "name": "stderr",
     "output_type": "stream",
     "text": [
      "/var/folders/2q/bjqpws1153b0_y18lhffmh_m0000gn/T/ipykernel_42781/686456071.py:14: FutureWarning: The frame.append method is deprecated and will be removed from pandas in a future version. Use pandas.concat instead.\n",
      "  compute_time_df = compute_time_df.append({'Query': query_name, 'PQ Setting': pq_setting, 'Compute Similarity Duration': compute_time_dict['compute_similarity_duration'], 'Get Ranking Duration': compute_time_dict['get_rank_duration'], 'Save to CSV Duration': compute_time_dict['save_to_csv_duration'], 'Basic Compute Duration': compute_time_dict['basic_compute_duration'], 'True Compute Duration': compute_time_dict['true_compute_duration']}, ignore_index=True)\n"
     ]
    },
    {
     "name": "stdout",
     "output_type": "stream",
     "text": [
      "pq_8_16 Results Saved to CSV!\n",
      "\n",
      "===============================================================\n",
      "Query:  dietitian for professional atheletes\n",
      "PQ Setting:  pq_8_16\n",
      "Total Time Taken:\n",
      "\n",
      "Start Time:  1697269130.821677\n",
      "Compute Similarity Duration:  0.003487110137939453\n",
      "Get Ranking Duration:  0.010330915451049805\n",
      "Save to CSV Duration:  1.8827528953552246\n",
      "Basic Time Duration:  1.8966610431671143\n",
      "True Computed Time Duration:  1.8965709209442139\n",
      "===============================================================\n",
      "Computing similarity for: costume designer and makeup artist...\n",
      "Getting Query Results Ranking....\n",
      "Top 5 Results:\n",
      "                                                     Data  \\\n",
      "1534   Application Security Engineer Looking Applicat...   \n",
      "11459  IT Help Desk Specialist Palmer Group fantastic...   \n",
      "3473   Associate Attorney (New Orleans) Innovative Dr...   \n",
      "5738   Catering Assistant-Chambersburg-Day/Evenings S...   \n",
      "11470  Finance Coordinator Organization- Grand Hyatt ...   \n",
      "\n",
      "                                                  Vector   Distance  \n",
      "1534   [0, 0, 0, 0, 0, 0, 0, 0, 0, 0, 0, 0, 0, 0, 0, ...  30.588394  \n",
      "11459  [0, 0, 0, 0, 0, 0, 0, 0, 0, 0, 0, 0, 0, 0, 0, ...  30.588394  \n",
      "3473   [0, 0, 0, 0, 0, 0, 0, 0, 0, 0, 0, 0, 0, 0, 0, ...  30.588394  \n",
      "5738   [1, 0, 0, 0, 0, 0, 0, 0, 0, 0, 0, 0, 0, 0, 0, ...  30.588394  \n",
      "11470  [0, 0, 0, 0, 0, 0, 0, 0, 0, 0, 0, 0, 0, 0, 0, ...  30.588394  \n",
      "Saving pq_8_16 Results to CSV....\n"
     ]
    },
    {
     "name": "stderr",
     "output_type": "stream",
     "text": [
      "/var/folders/2q/bjqpws1153b0_y18lhffmh_m0000gn/T/ipykernel_42781/686456071.py:14: FutureWarning: The frame.append method is deprecated and will be removed from pandas in a future version. Use pandas.concat instead.\n",
      "  compute_time_df = compute_time_df.append({'Query': query_name, 'PQ Setting': pq_setting, 'Compute Similarity Duration': compute_time_dict['compute_similarity_duration'], 'Get Ranking Duration': compute_time_dict['get_rank_duration'], 'Save to CSV Duration': compute_time_dict['save_to_csv_duration'], 'Basic Compute Duration': compute_time_dict['basic_compute_duration'], 'True Compute Duration': compute_time_dict['true_compute_duration']}, ignore_index=True)\n"
     ]
    },
    {
     "name": "stdout",
     "output_type": "stream",
     "text": [
      "pq_8_16 Results Saved to CSV!\n",
      "\n",
      "===============================================================\n",
      "Query:  costume designer and makeup artist\n",
      "PQ Setting:  pq_8_16\n",
      "Total Time Taken:\n",
      "\n",
      "Start Time:  1697269132.720051\n",
      "Compute Similarity Duration:  0.003770112991333008\n",
      "Get Ranking Duration:  0.011316776275634766\n",
      "Save to CSV Duration:  1.9757311344146729\n",
      "Basic Time Duration:  1.9909248352050781\n",
      "True Computed Time Duration:  1.9908180236816406\n",
      "===============================================================\n",
      "Computing similarity for: resilient investment banker...\n",
      "Getting Query Results Ranking....\n",
      "Top 5 Results:\n",
      "                                                     Data  \\\n",
      "1574   Psychiatrist, Principal Investigtor Principal ...   \n",
      "13187  Head Retail Banking Head Retail Affiliate Bank...   \n",
      "5690   Salesperson Nu-Again Pressure Washing resident...   \n",
      "13207  Brand Ambassador POSTION: John Hardy Brand Amb...   \n",
      "1474   Administrative Assistant Position Title: Admin...   \n",
      "\n",
      "                                                  Vector  Distance  \n",
      "1574   [0, 1, 0, 0, 0, 0, 0, 0, 0, 0, 0, 0, 0, 0, 0, ...  19.93219  \n",
      "13187  [0, 0, 0, 0, 0, 0, 0, 0, 0, 0, 0, 0, 0, 0, 0, ...  19.93219  \n",
      "5690   [0, 0, 0, 0, 0, 0, 0, 0, 0, 0, 0, 0, 0, 0, 0, ...  19.93219  \n",
      "13207  [0, 0, 0, 0, 0, 0, 0, 0, 0, 0, 0, 0, 0, 0, 0, ...  19.93219  \n",
      "1474   [0, 0, 0, 0, 0, 0, 0, 0, 0, 0, 0, 0, 0, 0, 0, ...  19.93219  \n",
      "Saving pq_8_32 Results to CSV....\n"
     ]
    },
    {
     "name": "stderr",
     "output_type": "stream",
     "text": [
      "/var/folders/2q/bjqpws1153b0_y18lhffmh_m0000gn/T/ipykernel_42781/686456071.py:14: FutureWarning: The frame.append method is deprecated and will be removed from pandas in a future version. Use pandas.concat instead.\n",
      "  compute_time_df = compute_time_df.append({'Query': query_name, 'PQ Setting': pq_setting, 'Compute Similarity Duration': compute_time_dict['compute_similarity_duration'], 'Get Ranking Duration': compute_time_dict['get_rank_duration'], 'Save to CSV Duration': compute_time_dict['save_to_csv_duration'], 'Basic Compute Duration': compute_time_dict['basic_compute_duration'], 'True Compute Duration': compute_time_dict['true_compute_duration']}, ignore_index=True)\n",
      "/var/folders/2q/bjqpws1153b0_y18lhffmh_m0000gn/T/ipykernel_42781/686456071.py:17: FutureWarning: The frame.append method is deprecated and will be removed from pandas in a future version. Use pandas.concat instead.\n",
      "  compute_time_df = compute_time_df.append({'Query': 'Average', 'PQ Setting': pq_setting, 'Compute Similarity Duration': compute_time_df['Compute Similarity Duration'].mean(), 'Get Ranking Duration': compute_time_df['Get Ranking Duration'].mean(), 'Save to CSV Duration': compute_time_df['Save to CSV Duration'].mean(), 'Basic Compute Duration': compute_time_df['Basic Compute Duration'].mean(), 'True Compute Duration': compute_time_df['True Compute Duration'].mean()}, ignore_index=True)\n"
     ]
    },
    {
     "name": "stdout",
     "output_type": "stream",
     "text": [
      "pq_8_32 Results Saved to CSV!\n",
      "\n",
      "===============================================================\n",
      "Query:  resilient investment banker\n",
      "PQ Setting:  pq_8_32\n",
      "Total Time Taken:\n",
      "\n",
      "Start Time:  1697269134.726867\n",
      "Compute Similarity Duration:  0.15419220924377441\n",
      "Get Ranking Duration:  0.014095783233642578\n",
      "Save to CSV Duration:  2.29419207572937\n",
      "Basic Time Duration:  2.4628751277923584\n",
      "True Computed Time Duration:  2.462480068206787\n",
      "===============================================================\n",
      "Computing similarity for: 2 years experience product manager...\n",
      "Getting Query Results Ranking....\n",
      "Top 5 Results:\n",
      "                                                     Data  \\\n",
      "5263   Director Food And Beverage We seeking talented...   \n",
      "718    Sr. Java Developer [10+ Years] Role: Sr. Java ...   \n",
      "1605   Wills, Trusts, Estates Associate Attorney Breg...   \n",
      "13067  Electrical & Instrumentation Specialist What m...   \n",
      "13071  FPGA Software Engineer Seeking multiple experi...   \n",
      "\n",
      "                                                  Vector   Distance  \n",
      "5263   [0, 1, 0, 0, 0, 0, 0, 0, 0, 0, 0, 0, 0, 0, 0, ...  16.991159  \n",
      "718    [0, 0, 0, 0, 0, 0, 0, 0, 0, 0, 0, 0, 0, 0, 0, ...  16.991159  \n",
      "1605   [0, 0, 0, 0, 0, 0, 0, 0, 0, 0, 0, 0, 0, 0, 0, ...  16.991159  \n",
      "13067  [0, 0, 0, 0, 0, 0, 0, 0, 0, 0, 0, 0, 0, 0, 0, ...  16.991159  \n",
      "13071  [0, 0, 0, 0, 0, 0, 0, 0, 0, 0, 0, 0, 0, 0, 0, ...  16.991159  \n",
      "Saving pq_8_32 Results to CSV....\n"
     ]
    },
    {
     "name": "stderr",
     "output_type": "stream",
     "text": [
      "/var/folders/2q/bjqpws1153b0_y18lhffmh_m0000gn/T/ipykernel_42781/686456071.py:14: FutureWarning: The frame.append method is deprecated and will be removed from pandas in a future version. Use pandas.concat instead.\n",
      "  compute_time_df = compute_time_df.append({'Query': query_name, 'PQ Setting': pq_setting, 'Compute Similarity Duration': compute_time_dict['compute_similarity_duration'], 'Get Ranking Duration': compute_time_dict['get_rank_duration'], 'Save to CSV Duration': compute_time_dict['save_to_csv_duration'], 'Basic Compute Duration': compute_time_dict['basic_compute_duration'], 'True Compute Duration': compute_time_dict['true_compute_duration']}, ignore_index=True)\n"
     ]
    },
    {
     "name": "stdout",
     "output_type": "stream",
     "text": [
      "pq_8_32 Results Saved to CSV!\n",
      "\n",
      "===============================================================\n",
      "Query:  2 years experience product manager\n",
      "PQ Setting:  pq_8_32\n",
      "Total Time Taken:\n",
      "\n",
      "Start Time:  1697269137.192265\n",
      "Compute Similarity Duration:  0.0076389312744140625\n",
      "Get Ranking Duration:  0.013854026794433594\n",
      "Save to CSV Duration:  2.332115888595581\n",
      "Basic Time Duration:  2.353757858276367\n",
      "True Computed Time Duration:  2.3536088466644287\n",
      "===============================================================\n",
      "Computing similarity for: 10 years risk analyst problem solver...\n",
      "Getting Query Results Ranking....\n",
      "Top 5 Results:\n",
      "                                                     Data  \\\n",
      "5896   Web Developer Make simple game global industry...   \n",
      "11079  Day1 Onsite // Collections Coordinator Onsite ...   \n",
      "1933   Network System Engineer *Please email Valerie....   \n",
      "798    Research Associate Research Associate *onsite*...   \n",
      "3781   Senior Layout Engineer Senior Layout Engineer ...   \n",
      "\n",
      "                                                  Vector   Distance  \n",
      "5896   [0, 0, 0, 0, 0, 0, 0, 0, 0, 0, 0, 0, 0, 0, 0, ...  20.831608  \n",
      "11079  [0, 0, 0, 0, 0, 0, 0, 0, 0, 0, 0, 0, 0, 0, 0, ...  20.831608  \n",
      "1933   [0, 1, 0, 0, 0, 0, 0, 0, 0, 0, 0, 0, 0, 0, 0, ...  20.831608  \n",
      "798    [0, 0, 0, 0, 0, 0, 0, 0, 0, 0, 0, 0, 0, 0, 0, ...  20.831608  \n",
      "3781   [0, 0, 0, 0, 0, 0, 0, 0, 0, 0, 0, 0, 0, 0, 0, ...  20.831608  \n",
      "Saving pq_8_32 Results to CSV....\n"
     ]
    },
    {
     "name": "stderr",
     "output_type": "stream",
     "text": [
      "/var/folders/2q/bjqpws1153b0_y18lhffmh_m0000gn/T/ipykernel_42781/686456071.py:14: FutureWarning: The frame.append method is deprecated and will be removed from pandas in a future version. Use pandas.concat instead.\n",
      "  compute_time_df = compute_time_df.append({'Query': query_name, 'PQ Setting': pq_setting, 'Compute Similarity Duration': compute_time_dict['compute_similarity_duration'], 'Get Ranking Duration': compute_time_dict['get_rank_duration'], 'Save to CSV Duration': compute_time_dict['save_to_csv_duration'], 'Basic Compute Duration': compute_time_dict['basic_compute_duration'], 'True Compute Duration': compute_time_dict['true_compute_duration']}, ignore_index=True)\n"
     ]
    },
    {
     "name": "stdout",
     "output_type": "stream",
     "text": [
      "pq_8_32 Results Saved to CSV!\n",
      "\n",
      "===============================================================\n",
      "Query:  10 years risk analyst problem solver\n",
      "PQ Setting:  pq_8_32\n",
      "Total Time Taken:\n",
      "\n",
      "Start Time:  1697269139.549197\n",
      "Compute Similarity Duration:  0.01219797134399414\n",
      "Get Ranking Duration:  0.01174616813659668\n",
      "Save to CSV Duration:  2.276773691177368\n",
      "Basic Time Duration:  2.3009748458862305\n",
      "True Computed Time Duration:  2.300717830657959\n",
      "===============================================================\n",
      "Computing similarity for: tax analyst for big company...\n",
      "Getting Query Results Ranking....\n",
      "Top 5 Results:\n",
      "                                                     Data  \\\n",
      "11349  Tools Designer Job Title: Tool DesignerDuratio...   \n",
      "12241  Facility Operations Supervisor Position Summar...   \n",
      "2025   Area Representative The Representative works D...   \n",
      "12319  General Cleaner Blue Chip offering $200 bonus ...   \n",
      "12323  Physical Therapist - Home Health (Colorado) Re...   \n",
      "\n",
      "                                                  Vector   Distance  \n",
      "11349  [0, 0, 0, 0, 0, 0, 0, 0, 0, 0, 0, 0, 0, 0, 0, ...  20.705326  \n",
      "12241  [0, 0, 0, 0, 0, 0, 0, 0, 0, 0, 0, 0, 0, 0, 0, ...  20.705326  \n",
      "2025   [0, 0, 0, 0, 0, 0, 0, 0, 0, 0, 0, 0, 0, 0, 0, ...  20.705326  \n",
      "12319  [0, 0, 0, 0, 0, 0, 0, 0, 0, 0, 0, 0, 0, 0, 0, ...  20.705326  \n",
      "12323  [0, 0, 0, 0, 0, 0, 0, 0, 0, 0, 0, 0, 0, 0, 0, ...  20.705326  \n",
      "Saving pq_8_32 Results to CSV....\n"
     ]
    },
    {
     "name": "stderr",
     "output_type": "stream",
     "text": [
      "/var/folders/2q/bjqpws1153b0_y18lhffmh_m0000gn/T/ipykernel_42781/686456071.py:14: FutureWarning: The frame.append method is deprecated and will be removed from pandas in a future version. Use pandas.concat instead.\n",
      "  compute_time_df = compute_time_df.append({'Query': query_name, 'PQ Setting': pq_setting, 'Compute Similarity Duration': compute_time_dict['compute_similarity_duration'], 'Get Ranking Duration': compute_time_dict['get_rank_duration'], 'Save to CSV Duration': compute_time_dict['save_to_csv_duration'], 'Basic Compute Duration': compute_time_dict['basic_compute_duration'], 'True Compute Duration': compute_time_dict['true_compute_duration']}, ignore_index=True)\n"
     ]
    },
    {
     "name": "stdout",
     "output_type": "stream",
     "text": [
      "pq_8_32 Results Saved to CSV!\n",
      "\n",
      "===============================================================\n",
      "Query:  tax analyst for big company\n",
      "PQ Setting:  pq_8_32\n",
      "Total Time Taken:\n",
      "\n",
      "Start Time:  1697269141.902739\n",
      "Compute Similarity Duration:  0.04479193687438965\n",
      "Get Ranking Duration:  0.04649496078491211\n",
      "Save to CSV Duration:  2.3509838581085205\n",
      "Basic Time Duration:  2.4428799152374268\n",
      "True Computed Time Duration:  2.4422707557678223\n",
      "===============================================================\n",
      "Computing similarity for: software engineer for google or amazon...\n",
      "Getting Query Results Ranking....\n",
      "Top 5 Results:\n",
      "                                                     Data  \\\n",
      "11373  Paralegal Our client, top Law Firm Downtown Lo...   \n",
      "2098   Global Sales Director Must min 15 years sales ...   \n",
      "2096   Junior Graphic Designer Junior Graphic Designe...   \n",
      "2080   Part Time Bookkeeper Are looking Part Time Boo...   \n",
      "2073   Research Scientist Now Hiring Research Scienti...   \n",
      "\n",
      "                                                  Vector   Distance  \n",
      "11373  [0, 0, 0, 0, 0, 0, 0, 0, 0, 0, 0, 0, 0, 0, 0, ...  21.728464  \n",
      "2098   [0, 0, 0, 0, 0, 0, 0, 0, 0, 0, 0, 0, 0, 0, 0, ...  21.728464  \n",
      "2096   [0, 0, 0, 0, 0, 0, 0, 0, 0, 0, 0, 0, 0, 0, 0, ...  21.728464  \n",
      "2080   [0, 0, 0, 0, 0, 0, 0, 0, 0, 0, 0, 0, 0, 0, 0, ...  21.728464  \n",
      "2073   [0, 0, 0, 0, 0, 0, 0, 0, 0, 0, 0, 0, 0, 0, 0, ...  21.728464  \n",
      "Saving pq_8_32 Results to CSV....\n"
     ]
    },
    {
     "name": "stderr",
     "output_type": "stream",
     "text": [
      "/var/folders/2q/bjqpws1153b0_y18lhffmh_m0000gn/T/ipykernel_42781/686456071.py:14: FutureWarning: The frame.append method is deprecated and will be removed from pandas in a future version. Use pandas.concat instead.\n",
      "  compute_time_df = compute_time_df.append({'Query': query_name, 'PQ Setting': pq_setting, 'Compute Similarity Duration': compute_time_dict['compute_similarity_duration'], 'Get Ranking Duration': compute_time_dict['get_rank_duration'], 'Save to CSV Duration': compute_time_dict['save_to_csv_duration'], 'Basic Compute Duration': compute_time_dict['basic_compute_duration'], 'True Compute Duration': compute_time_dict['true_compute_duration']}, ignore_index=True)\n"
     ]
    },
    {
     "name": "stdout",
     "output_type": "stream",
     "text": [
      "pq_8_32 Results Saved to CSV!\n",
      "\n",
      "===============================================================\n",
      "Query:  software engineer for google or amazon\n",
      "PQ Setting:  pq_8_32\n",
      "Total Time Taken:\n",
      "\n",
      "Start Time:  1697269144.352862\n",
      "Compute Similarity Duration:  0.014471292495727539\n",
      "Get Ranking Duration:  0.014560699462890625\n",
      "Save to CSV Duration:  2.748615264892578\n",
      "Basic Time Duration:  2.777801990509033\n",
      "True Computed Time Duration:  2.7776472568511963\n",
      "===============================================================\n",
      "Computing similarity for: video editor for advertisements with 5 year experience...\n",
      "Getting Query Results Ranking....\n",
      "Top 5 Results:\n",
      "                                                     Data  \\\n",
      "1752   Production Planner Want part team creates amaz...   \n",
      "2262   Procurement Analyst Job Title: Procurement Dat...   \n",
      "6156   Help Desk Support Specialist Full Job descript...   \n",
      "11470  Finance Coordinator Organization- Grand Hyatt ...   \n",
      "13959  Cybersecurity Expert A Fortune 50 client retai...   \n",
      "\n",
      "                                                  Vector   Distance  \n",
      "1752   [0, 0, 0, 0, 0, 0, 0, 0, 0, 0, 0, 0, 0, 0, 0, ...  21.415325  \n",
      "2262   [0, 0, 0, 0, 0, 0, 0, 0, 0, 0, 0, 0, 0, 0, 0, ...  21.415325  \n",
      "6156   [0, 0, 0, 0, 0, 0, 0, 0, 0, 0, 0, 0, 0, 0, 0, ...  21.415325  \n",
      "11470  [0, 0, 0, 0, 0, 0, 0, 0, 0, 0, 0, 0, 0, 0, 0, ...  21.415325  \n",
      "13959  [0, 0, 0, 0, 0, 0, 0, 0, 0, 0, 0, 0, 0, 0, 0, ...  21.415325  \n",
      "Saving pq_8_32 Results to CSV....\n"
     ]
    },
    {
     "name": "stderr",
     "output_type": "stream",
     "text": [
      "/var/folders/2q/bjqpws1153b0_y18lhffmh_m0000gn/T/ipykernel_42781/686456071.py:14: FutureWarning: The frame.append method is deprecated and will be removed from pandas in a future version. Use pandas.concat instead.\n",
      "  compute_time_df = compute_time_df.append({'Query': query_name, 'PQ Setting': pq_setting, 'Compute Similarity Duration': compute_time_dict['compute_similarity_duration'], 'Get Ranking Duration': compute_time_dict['get_rank_duration'], 'Save to CSV Duration': compute_time_dict['save_to_csv_duration'], 'Basic Compute Duration': compute_time_dict['basic_compute_duration'], 'True Compute Duration': compute_time_dict['true_compute_duration']}, ignore_index=True)\n"
     ]
    },
    {
     "name": "stdout",
     "output_type": "stream",
     "text": [
      "pq_8_32 Results Saved to CSV!\n",
      "\n",
      "===============================================================\n",
      "Query:  video editor for advertisements with 5 year experience\n",
      "PQ Setting:  pq_8_32\n",
      "Total Time Taken:\n",
      "\n",
      "Start Time:  1697269147.133759\n",
      "Compute Similarity Duration:  0.008978843688964844\n",
      "Get Ranking Duration:  0.05700516700744629\n",
      "Save to CSV Duration:  2.5215179920196533\n",
      "Basic Time Duration:  2.587620973587036\n",
      "True Computed Time Duration:  2.5875020027160645\n",
      "===============================================================\n",
      "Computing similarity for: full time senior head nurse position...\n",
      "Getting Query Results Ranking....\n",
      "Top 5 Results:\n",
      "                                                     Data  \\\n",
      "10182  Network Engineer Network Engineer A high-growt...   \n",
      "12379  Junior gazdasági szakértő Feladatok Havi üzlet...   \n",
      "4195   Scrum Master JOB DESCRIPTION:Our client large ...   \n",
      "7571   Website Sales Representative Commission 1099 -...   \n",
      "1933   Network System Engineer *Please email Valerie....   \n",
      "\n",
      "                                                  Vector   Distance  \n",
      "10182  [0, 0, 0, 0, 0, 0, 0, 0, 0, 0, 0, 0, 0, 0, 0, ...  20.140179  \n",
      "12379  [0, 0, 0, 0, 0, 0, 0, 0, 0, 0, 0, 0, 0, 0, 0, ...  20.140179  \n",
      "4195   [0, 0, 0, 0, 0, 0, 0, 0, 0, 0, 0, 0, 0, 0, 0, ...  20.140179  \n",
      "7571   [0, 1, 0, 0, 0, 0, 0, 0, 0, 0, 0, 0, 0, 0, 0, ...  20.140179  \n",
      "1933   [0, 1, 0, 0, 0, 0, 0, 0, 0, 0, 0, 0, 0, 0, 0, ...  20.140179  \n",
      "Saving pq_8_32 Results to CSV....\n"
     ]
    },
    {
     "name": "stderr",
     "output_type": "stream",
     "text": [
      "/var/folders/2q/bjqpws1153b0_y18lhffmh_m0000gn/T/ipykernel_42781/686456071.py:14: FutureWarning: The frame.append method is deprecated and will be removed from pandas in a future version. Use pandas.concat instead.\n",
      "  compute_time_df = compute_time_df.append({'Query': query_name, 'PQ Setting': pq_setting, 'Compute Similarity Duration': compute_time_dict['compute_similarity_duration'], 'Get Ranking Duration': compute_time_dict['get_rank_duration'], 'Save to CSV Duration': compute_time_dict['save_to_csv_duration'], 'Basic Compute Duration': compute_time_dict['basic_compute_duration'], 'True Compute Duration': compute_time_dict['true_compute_duration']}, ignore_index=True)\n"
     ]
    },
    {
     "name": "stdout",
     "output_type": "stream",
     "text": [
      "pq_8_32 Results Saved to CSV!\n",
      "\n",
      "===============================================================\n",
      "Query:  full time senior head nurse position\n",
      "PQ Setting:  pq_8_32\n",
      "Total Time Taken:\n",
      "\n",
      "Start Time:  1697269149.723587\n",
      "Compute Similarity Duration:  0.008417129516601562\n",
      "Get Ranking Duration:  0.011227846145629883\n",
      "Save to CSV Duration:  3.9437429904937744\n",
      "Basic Time Duration:  3.9636449813842773\n",
      "True Computed Time Duration:  3.963387966156006\n",
      "===============================================================\n",
      "Computing similarity for: after school math and science tutor...\n",
      "Getting Query Results Ranking....\n",
      "Top 5 Results:\n",
      "                                                     Data  \\\n",
      "2184   Career Coach https://cclbcorps.isolvedhire.com...   \n",
      "12044  Front-End Application Developer III (Multiple ...   \n",
      "2080   Part Time Bookkeeper Are looking Part Time Boo...   \n",
      "2073   Research Scientist Now Hiring Research Scienti...   \n",
      "2068   Family Medicine Physician Needed Locum Tenens ...   \n",
      "\n",
      "                                                  Vector   Distance  \n",
      "2184   [0, 0, 0, 0, 0, 0, 0, 0, 0, 0, 0, 0, 0, 0, 0, ...  22.032104  \n",
      "12044  [0, 0, 0, 0, 0, 0, 0, 0, 0, 0, 0, 0, 0, 0, 0, ...  22.032104  \n",
      "2080   [0, 0, 0, 0, 0, 0, 0, 0, 0, 0, 0, 0, 0, 0, 0, ...  22.032104  \n",
      "2073   [0, 0, 0, 0, 0, 0, 0, 0, 0, 0, 0, 0, 0, 0, 0, ...  22.032104  \n",
      "2068   [0, 0, 0, 0, 0, 0, 0, 0, 0, 0, 0, 0, 0, 0, 0, ...  22.032104  \n",
      "Saving pq_8_32 Results to CSV....\n"
     ]
    },
    {
     "name": "stderr",
     "output_type": "stream",
     "text": [
      "/var/folders/2q/bjqpws1153b0_y18lhffmh_m0000gn/T/ipykernel_42781/686456071.py:14: FutureWarning: The frame.append method is deprecated and will be removed from pandas in a future version. Use pandas.concat instead.\n",
      "  compute_time_df = compute_time_df.append({'Query': query_name, 'PQ Setting': pq_setting, 'Compute Similarity Duration': compute_time_dict['compute_similarity_duration'], 'Get Ranking Duration': compute_time_dict['get_rank_duration'], 'Save to CSV Duration': compute_time_dict['save_to_csv_duration'], 'Basic Compute Duration': compute_time_dict['basic_compute_duration'], 'True Compute Duration': compute_time_dict['true_compute_duration']}, ignore_index=True)\n"
     ]
    },
    {
     "name": "stdout",
     "output_type": "stream",
     "text": [
      "pq_8_32 Results Saved to CSV!\n",
      "\n",
      "===============================================================\n",
      "Query:  after school math and science tutor\n",
      "PQ Setting:  pq_8_32\n",
      "Total Time Taken:\n",
      "\n",
      "Start Time:  1697269153.690756\n",
      "Compute Similarity Duration:  0.010682821273803711\n",
      "Get Ranking Duration:  0.011549949645996094\n",
      "Save to CSV Duration:  2.824211359024048\n",
      "Basic Time Duration:  2.846593141555786\n",
      "True Computed Time Duration:  2.8464441299438477\n",
      "===============================================================\n",
      "Computing similarity for: dietitian for professional atheletes...\n",
      "Getting Query Results Ranking....\n",
      "Top 5 Results:\n",
      "                                                     Data  \\\n",
      "1124   Designer We invite join team Designer rapidly ...   \n",
      "12911  Certified Occupational Therapy Assistant We op...   \n",
      "8140   Production Associate You'll part dedicated art...   \n",
      "12920  BI Developer Title: BI DeveloperDuration : 6+ ...   \n",
      "2589   Licenced Insurance Agent Licenced Insurance Ag...   \n",
      "\n",
      "                                                  Vector   Distance  \n",
      "1124   [0, 0, 0, 0, 0, 0, 0, 0, 0, 0, 0, 0, 0, 0, 0, ...  19.279045  \n",
      "12911  [0, 0, 0, 0, 0, 0, 0, 0, 0, 0, 0, 0, 0, 0, 0, ...  19.279045  \n",
      "8140   [0, 0, 0, 0, 0, 0, 0, 0, 0, 0, 0, 0, 0, 0, 0, ...  19.279045  \n",
      "12920  [0, 0, 0, 0, 0, 0, 0, 0, 0, 0, 0, 0, 0, 0, 0, ...  19.279045  \n",
      "2589   [0, 0, 0, 0, 0, 0, 0, 0, 0, 0, 0, 0, 0, 0, 0, ...  19.279045  \n",
      "Saving pq_8_32 Results to CSV....\n"
     ]
    },
    {
     "name": "stderr",
     "output_type": "stream",
     "text": [
      "/var/folders/2q/bjqpws1153b0_y18lhffmh_m0000gn/T/ipykernel_42781/686456071.py:14: FutureWarning: The frame.append method is deprecated and will be removed from pandas in a future version. Use pandas.concat instead.\n",
      "  compute_time_df = compute_time_df.append({'Query': query_name, 'PQ Setting': pq_setting, 'Compute Similarity Duration': compute_time_dict['compute_similarity_duration'], 'Get Ranking Duration': compute_time_dict['get_rank_duration'], 'Save to CSV Duration': compute_time_dict['save_to_csv_duration'], 'Basic Compute Duration': compute_time_dict['basic_compute_duration'], 'True Compute Duration': compute_time_dict['true_compute_duration']}, ignore_index=True)\n"
     ]
    },
    {
     "name": "stdout",
     "output_type": "stream",
     "text": [
      "pq_8_32 Results Saved to CSV!\n",
      "\n",
      "===============================================================\n",
      "Query:  dietitian for professional atheletes\n",
      "PQ Setting:  pq_8_32\n",
      "Total Time Taken:\n",
      "\n",
      "Start Time:  1697269156.541196\n",
      "Compute Similarity Duration:  0.009582757949829102\n",
      "Get Ranking Duration:  0.015511035919189453\n",
      "Save to CSV Duration:  2.135974168777466\n",
      "Basic Time Duration:  2.1612470149993896\n",
      "True Computed Time Duration:  2.1610679626464844\n",
      "===============================================================\n",
      "Computing similarity for: costume designer and makeup artist...\n",
      "Getting Query Results Ranking....\n",
      "Top 5 Results:\n",
      "                                                     Data  \\\n",
      "11382  Warehouse Associate Our company hiring Restora...   \n",
      "12044  Front-End Application Developer III (Multiple ...   \n",
      "2080   Part Time Bookkeeper Are looking Part Time Boo...   \n",
      "2073   Research Scientist Now Hiring Research Scienti...   \n",
      "2068   Family Medicine Physician Needed Locum Tenens ...   \n",
      "\n",
      "                                                  Vector  Distance  \n",
      "11382  [0, 0, 0, 0, 0, 0, 0, 0, 0, 0, 0, 0, 0, 0, 0, ...  21.49078  \n",
      "12044  [0, 0, 0, 0, 0, 0, 0, 0, 0, 0, 0, 0, 0, 0, 0, ...  21.49078  \n",
      "2080   [0, 0, 0, 0, 0, 0, 0, 0, 0, 0, 0, 0, 0, 0, 0, ...  21.49078  \n",
      "2073   [0, 0, 0, 0, 0, 0, 0, 0, 0, 0, 0, 0, 0, 0, 0, ...  21.49078  \n",
      "2068   [0, 0, 0, 0, 0, 0, 0, 0, 0, 0, 0, 0, 0, 0, 0, ...  21.49078  \n",
      "Saving pq_8_32 Results to CSV....\n"
     ]
    },
    {
     "name": "stderr",
     "output_type": "stream",
     "text": [
      "/var/folders/2q/bjqpws1153b0_y18lhffmh_m0000gn/T/ipykernel_42781/686456071.py:14: FutureWarning: The frame.append method is deprecated and will be removed from pandas in a future version. Use pandas.concat instead.\n",
      "  compute_time_df = compute_time_df.append({'Query': query_name, 'PQ Setting': pq_setting, 'Compute Similarity Duration': compute_time_dict['compute_similarity_duration'], 'Get Ranking Duration': compute_time_dict['get_rank_duration'], 'Save to CSV Duration': compute_time_dict['save_to_csv_duration'], 'Basic Compute Duration': compute_time_dict['basic_compute_duration'], 'True Compute Duration': compute_time_dict['true_compute_duration']}, ignore_index=True)\n"
     ]
    },
    {
     "name": "stdout",
     "output_type": "stream",
     "text": [
      "pq_8_32 Results Saved to CSV!\n",
      "\n",
      "===============================================================\n",
      "Query:  costume designer and makeup artist\n",
      "PQ Setting:  pq_8_32\n",
      "Total Time Taken:\n",
      "\n",
      "Start Time:  1697269158.707466\n",
      "Compute Similarity Duration:  0.00703120231628418\n",
      "Get Ranking Duration:  0.010085821151733398\n",
      "Save to CSV Duration:  2.290044069290161\n",
      "Basic Time Duration:  2.307277202606201\n",
      "True Computed Time Duration:  2.3071610927581787\n",
      "===============================================================\n",
      "Computing similarity for: resilient investment banker...\n"
     ]
    },
    {
     "name": "stderr",
     "output_type": "stream",
     "text": [
      "/var/folders/2q/bjqpws1153b0_y18lhffmh_m0000gn/T/ipykernel_42781/686456071.py:14: FutureWarning: The frame.append method is deprecated and will be removed from pandas in a future version. Use pandas.concat instead.\n",
      "  compute_time_df = compute_time_df.append({'Query': query_name, 'PQ Setting': pq_setting, 'Compute Similarity Duration': compute_time_dict['compute_similarity_duration'], 'Get Ranking Duration': compute_time_dict['get_rank_duration'], 'Save to CSV Duration': compute_time_dict['save_to_csv_duration'], 'Basic Compute Duration': compute_time_dict['basic_compute_duration'], 'True Compute Duration': compute_time_dict['true_compute_duration']}, ignore_index=True)\n",
      "/var/folders/2q/bjqpws1153b0_y18lhffmh_m0000gn/T/ipykernel_42781/686456071.py:17: FutureWarning: The frame.append method is deprecated and will be removed from pandas in a future version. Use pandas.concat instead.\n",
      "  compute_time_df = compute_time_df.append({'Query': 'Average', 'PQ Setting': pq_setting, 'Compute Similarity Duration': compute_time_df['Compute Similarity Duration'].mean(), 'Get Ranking Duration': compute_time_df['Get Ranking Duration'].mean(), 'Save to CSV Duration': compute_time_df['Save to CSV Duration'].mean(), 'Basic Compute Duration': compute_time_df['Basic Compute Duration'].mean(), 'True Compute Duration': compute_time_df['True Compute Duration'].mean()}, ignore_index=True)\n"
     ]
    },
    {
     "name": "stdout",
     "output_type": "stream",
     "text": [
      "Getting Query Results Ranking....\n",
      "Top 5 Results:\n",
      "                                                    Data  \\\n",
      "2946  Associate Attorney 2-5 years No-Fault experien...   \n",
      "2107  Mechanical Engineer Position: Mechanical Engin...   \n",
      "644   Quality Technician Please Note:ONLY FRESH/GRAD...   \n",
      "5709  Real Estate Agent The ideal candidate responsi...   \n",
      "646   Java Developer (Only W2) Hi, We looking Senior...   \n",
      "\n",
      "                                                 Vector   Distance  \n",
      "2946  [0, 0, 0, 0, 0, 0, 0, 0, 0, 0, 0, 0, 0, 0, 0, ...  15.306076  \n",
      "2107  [0, 0, 0, 0, 0, 0, 0, 0, 0, 0, 0, 0, 0, 0, 0, ...  15.306076  \n",
      "644   [0, 0, 0, 0, 0, 0, 0, 0, 0, 0, 0, 0, 0, 0, 0, ...  15.306076  \n",
      "5709  [0, 0, 0, 0, 0, 0, 0, 0, 0, 0, 0, 0, 0, 0, 0, ...  15.306076  \n",
      "646   [0, 0, 0, 0, 0, 0, 0, 0, 0, 0, 0, 0, 0, 0, 0, ...  15.306076  \n",
      "Saving pq_8_64 Results to CSV....\n",
      "pq_8_64 Results Saved to CSV!\n",
      "\n",
      "===============================================================\n",
      "Query:  resilient investment banker\n",
      "PQ Setting:  pq_8_64\n",
      "Total Time Taken:\n",
      "\n",
      "Start Time:  1697269161.0249548\n",
      "Compute Similarity Duration:  0.5920541286468506\n",
      "Get Ranking Duration:  0.025372028350830078\n",
      "Save to CSV Duration:  2.908461093902588\n",
      "Basic Time Duration:  3.526045322418213\n",
      "True Computed Time Duration:  3.5258872509002686\n",
      "===============================================================\n",
      "Computing similarity for: 2 years experience product manager...\n",
      "Getting Query Results Ranking....\n",
      "Top 5 Results:\n",
      "                                                     Data  \\\n",
      "4568   Radiologic Technologist Job Opening Summary Pe...   \n",
      "14554  Senior Data Analyst (Onsite) We looking candid...   \n",
      "3148   Frontend ReactJS Developer(only 10+ years) Jav...   \n",
      "5816   Regional EHS Consultant [JSN-13212] A rapidly ...   \n",
      "5817   Inspector Structural Engineer - Special Inspec...   \n",
      "\n",
      "                                                  Vector   Distance  \n",
      "4568   [0, 0, 0, 0, 0, 0, 0, 0, 0, 0, 0, 0, 0, 0, 0, ...  12.742052  \n",
      "14554  [0, 0, 0, 0, 0, 0, 0, 0, 0, 0, 0, 0, 0, 0, 0, ...  12.742052  \n",
      "3148   [0, 0, 0, 0, 0, 0, 0, 0, 0, 0, 0, 0, 0, 0, 0, ...  12.742052  \n",
      "5816   [0, 0, 0, 0, 0, 0, 0, 0, 0, 0, 0, 0, 0, 0, 0, ...  12.742052  \n",
      "5817   [0, 0, 0, 0, 0, 0, 0, 0, 0, 0, 0, 0, 0, 0, 0, ...  12.742052  \n",
      "Saving pq_8_64 Results to CSV....\n"
     ]
    },
    {
     "name": "stderr",
     "output_type": "stream",
     "text": [
      "/var/folders/2q/bjqpws1153b0_y18lhffmh_m0000gn/T/ipykernel_42781/686456071.py:14: FutureWarning: The frame.append method is deprecated and will be removed from pandas in a future version. Use pandas.concat instead.\n",
      "  compute_time_df = compute_time_df.append({'Query': query_name, 'PQ Setting': pq_setting, 'Compute Similarity Duration': compute_time_dict['compute_similarity_duration'], 'Get Ranking Duration': compute_time_dict['get_rank_duration'], 'Save to CSV Duration': compute_time_dict['save_to_csv_duration'], 'Basic Compute Duration': compute_time_dict['basic_compute_duration'], 'True Compute Duration': compute_time_dict['true_compute_duration']}, ignore_index=True)\n"
     ]
    },
    {
     "name": "stdout",
     "output_type": "stream",
     "text": [
      "pq_8_64 Results Saved to CSV!\n",
      "\n",
      "===============================================================\n",
      "Query:  2 years experience product manager\n",
      "PQ Setting:  pq_8_64\n",
      "Total Time Taken:\n",
      "\n",
      "Start Time:  1697269164.556015\n",
      "Compute Similarity Duration:  0.020278215408325195\n",
      "Get Ranking Duration:  0.013092756271362305\n",
      "Save to CSV Duration:  2.357422113418579\n",
      "Basic Time Duration:  2.3909311294555664\n",
      "True Computed Time Duration:  2.3907930850982666\n",
      "===============================================================\n",
      "Computing similarity for: 10 years risk analyst problem solver...\n",
      "Getting Query Results Ranking....\n",
      "Top 5 Results:\n",
      "                                                    Data  \\\n",
      "3930  Customer Service Representative Start simple c...   \n",
      "6239  Welder / Fabricator - Stainless Immediate hiri...   \n",
      "3768  Associate Director, Scientific Publications We...   \n",
      "6249  UGC Content Creators Join Us - UGC Content Cre...   \n",
      "2573  Site Civil Engineer Quick interview process! M...   \n",
      "\n",
      "                                                 Vector   Distance  \n",
      "3930  [0, 0, 0, 0, 0, 0, 0, 0, 0, 0, 0, 0, 0, 0, 0, ...  16.510715  \n",
      "6239  [0, 0, 0, 0, 0, 0, 0, 0, 0, 0, 0, 0, 0, 0, 0, ...  16.510715  \n",
      "3768  [0, 0, 0, 0, 0, 0, 0, 0, 0, 0, 0, 0, 0, 0, 0, ...  16.510715  \n",
      "6249  [0, 0, 0, 0, 0, 0, 0, 0, 0, 0, 0, 0, 0, 0, 0, ...  16.510715  \n",
      "2573  [0, 0, 0, 0, 0, 0, 0, 0, 0, 0, 0, 0, 0, 0, 0, ...  16.510715  \n",
      "Saving pq_8_64 Results to CSV....\n"
     ]
    },
    {
     "name": "stderr",
     "output_type": "stream",
     "text": [
      "/var/folders/2q/bjqpws1153b0_y18lhffmh_m0000gn/T/ipykernel_42781/686456071.py:14: FutureWarning: The frame.append method is deprecated and will be removed from pandas in a future version. Use pandas.concat instead.\n",
      "  compute_time_df = compute_time_df.append({'Query': query_name, 'PQ Setting': pq_setting, 'Compute Similarity Duration': compute_time_dict['compute_similarity_duration'], 'Get Ranking Duration': compute_time_dict['get_rank_duration'], 'Save to CSV Duration': compute_time_dict['save_to_csv_duration'], 'Basic Compute Duration': compute_time_dict['basic_compute_duration'], 'True Compute Duration': compute_time_dict['true_compute_duration']}, ignore_index=True)\n"
     ]
    },
    {
     "name": "stdout",
     "output_type": "stream",
     "text": [
      "pq_8_64 Results Saved to CSV!\n",
      "\n",
      "===============================================================\n",
      "Query:  10 years risk analyst problem solver\n",
      "PQ Setting:  pq_8_64\n",
      "Total Time Taken:\n",
      "\n",
      "Start Time:  1697269166.9520378\n",
      "Compute Similarity Duration:  0.017333030700683594\n",
      "Get Ranking Duration:  0.013780355453491211\n",
      "Save to CSV Duration:  2.151467800140381\n",
      "Basic Time Duration:  2.182676315307617\n",
      "True Computed Time Duration:  2.1825811862945557\n",
      "===============================================================\n",
      "Computing similarity for: tax analyst for big company...\n",
      "Getting Query Results Ranking....\n",
      "Top 5 Results:\n",
      "                                                     Data  \\\n",
      "3412   Automotive Technician, Body technician, Metal ...   \n",
      "6790   Pediatric Occupational Therapist Pediatric occ...   \n",
      "3332   Director Solar Engineering We looking talented...   \n",
      "5534   Admissions Counselor Summary: The Admissions C...   \n",
      "11309  BI Publisher (w/ PowerApps & PowerAutomate) Ti...   \n",
      "\n",
      "                                                  Vector   Distance  \n",
      "3412   [0, 0, 0, 0, 0, 0, 0, 0, 0, 0, 0, 0, 0, 0, 0, ...  16.514616  \n",
      "6790   [0, 0, 0, 0, 0, 0, 0, 0, 0, 0, 0, 0, 0, 0, 0, ...  16.514616  \n",
      "3332   [0, 0, 0, 0, 0, 0, 0, 0, 0, 0, 0, 0, 0, 0, 0, ...  16.514616  \n",
      "5534   [0, 0, 0, 0, 0, 0, 0, 0, 0, 0, 0, 0, 0, 0, 0, ...  16.514616  \n",
      "11309  [0, 0, 0, 0, 0, 0, 0, 0, 0, 0, 0, 0, 0, 0, 0, ...  16.514616  \n",
      "Saving pq_8_64 Results to CSV....\n"
     ]
    },
    {
     "name": "stderr",
     "output_type": "stream",
     "text": [
      "/var/folders/2q/bjqpws1153b0_y18lhffmh_m0000gn/T/ipykernel_42781/686456071.py:14: FutureWarning: The frame.append method is deprecated and will be removed from pandas in a future version. Use pandas.concat instead.\n",
      "  compute_time_df = compute_time_df.append({'Query': query_name, 'PQ Setting': pq_setting, 'Compute Similarity Duration': compute_time_dict['compute_similarity_duration'], 'Get Ranking Duration': compute_time_dict['get_rank_duration'], 'Save to CSV Duration': compute_time_dict['save_to_csv_duration'], 'Basic Compute Duration': compute_time_dict['basic_compute_duration'], 'True Compute Duration': compute_time_dict['true_compute_duration']}, ignore_index=True)\n"
     ]
    },
    {
     "name": "stdout",
     "output_type": "stream",
     "text": [
      "pq_8_64 Results Saved to CSV!\n",
      "\n",
      "===============================================================\n",
      "Query:  tax analyst for big company\n",
      "PQ Setting:  pq_8_64\n",
      "Total Time Taken:\n",
      "\n",
      "Start Time:  1697269169.137154\n",
      "Compute Similarity Duration:  0.016269683837890625\n",
      "Get Ranking Duration:  0.015565156936645508\n",
      "Save to CSV Duration:  2.6159229278564453\n",
      "Basic Time Duration:  2.647871971130371\n",
      "True Computed Time Duration:  2.6477577686309814\n",
      "===============================================================\n",
      "Computing similarity for: software engineer for google or amazon...\n",
      "Getting Query Results Ranking....\n",
      "Top 5 Results:\n",
      "                                                    Data  \\\n",
      "6045  Junior Mechanical Engineer Insight Global seek...   \n",
      "736   SAP EWM Consultant Role : SAP EWM ConsultantLo...   \n",
      "6060  Survey Party Chief We seeking land survey part...   \n",
      "6066  Claims Representative Title: Claims Senior Rep...   \n",
      "6071  Grade 6 Science Teacher We looking middle scho...   \n",
      "\n",
      "                                                 Vector  Distance  \n",
      "6045  [0, 0, 0, 0, 0, 0, 0, 0, 0, 0, 0, 0, 0, 0, 0, ...  17.21648  \n",
      "736   [0, 0, 0, 0, 0, 0, 0, 0, 0, 0, 0, 0, 0, 0, 0, ...  17.21648  \n",
      "6060  [0, 0, 0, 0, 0, 0, 0, 0, 0, 0, 0, 0, 0, 0, 0, ...  17.21648  \n",
      "6066  [0, 0, 0, 0, 0, 0, 0, 0, 0, 0, 0, 0, 0, 0, 0, ...  17.21648  \n",
      "6071  [0, 0, 0, 0, 0, 0, 0, 0, 0, 0, 0, 0, 0, 0, 0, ...  17.21648  \n",
      "Saving pq_8_64 Results to CSV....\n"
     ]
    },
    {
     "name": "stderr",
     "output_type": "stream",
     "text": [
      "/var/folders/2q/bjqpws1153b0_y18lhffmh_m0000gn/T/ipykernel_42781/686456071.py:14: FutureWarning: The frame.append method is deprecated and will be removed from pandas in a future version. Use pandas.concat instead.\n",
      "  compute_time_df = compute_time_df.append({'Query': query_name, 'PQ Setting': pq_setting, 'Compute Similarity Duration': compute_time_dict['compute_similarity_duration'], 'Get Ranking Duration': compute_time_dict['get_rank_duration'], 'Save to CSV Duration': compute_time_dict['save_to_csv_duration'], 'Basic Compute Duration': compute_time_dict['basic_compute_duration'], 'True Compute Duration': compute_time_dict['true_compute_duration']}, ignore_index=True)\n"
     ]
    },
    {
     "name": "stdout",
     "output_type": "stream",
     "text": [
      "pq_8_64 Results Saved to CSV!\n",
      "\n",
      "===============================================================\n",
      "Query:  software engineer for google or amazon\n",
      "PQ Setting:  pq_8_64\n",
      "Total Time Taken:\n",
      "\n",
      "Start Time:  1697269171.7878232\n",
      "Compute Similarity Duration:  0.018107891082763672\n",
      "Get Ranking Duration:  0.013968706130981445\n",
      "Save to CSV Duration:  2.0892012119293213\n",
      "Basic Time Duration:  2.1214189529418945\n",
      "True Computed Time Duration:  2.1212778091430664\n",
      "===============================================================\n",
      "Computing similarity for: video editor for advertisements with 5 year experience...\n",
      "Getting Query Results Ranking....\n",
      "Top 5 Results:\n",
      "                                                     Data  \\\n",
      "11326  Data Entry Clerk IV Data Entry Clerk IV5 weeks...   \n",
      "7273   Insurance Professionals really looking expandi...   \n",
      "13963  Financial Consultant, Financial Professional, ...   \n",
      "825    Preschool Teacher (Spanish/ English) Bloom Ear...   \n",
      "826    Communications Manager Fantastic opportunity C...   \n",
      "\n",
      "                                                  Vector   Distance  \n",
      "11326  [0, 0, 0, 0, 0, 0, 0, 0, 0, 0, 0, 0, 0, 0, 0, ...  16.972677  \n",
      "7273   [0, 0, 0, 0, 0, 0, 0, 0, 0, 0, 0, 0, 0, 0, 0, ...  16.972677  \n",
      "13963  [0, 0, 0, 0, 0, 0, 0, 0, 0, 0, 0, 0, 0, 0, 0, ...  16.972677  \n",
      "825    [1, 0, 0, 0, 0, 0, 0, 0, 0, 0, 0, 0, 0, 0, 0, ...  16.972677  \n",
      "826    [0, 0, 0, 0, 0, 0, 0, 0, 0, 0, 0, 0, 0, 0, 0, ...  16.972677  \n",
      "Saving pq_8_64 Results to CSV....\n"
     ]
    },
    {
     "name": "stderr",
     "output_type": "stream",
     "text": [
      "/var/folders/2q/bjqpws1153b0_y18lhffmh_m0000gn/T/ipykernel_42781/686456071.py:14: FutureWarning: The frame.append method is deprecated and will be removed from pandas in a future version. Use pandas.concat instead.\n",
      "  compute_time_df = compute_time_df.append({'Query': query_name, 'PQ Setting': pq_setting, 'Compute Similarity Duration': compute_time_dict['compute_similarity_duration'], 'Get Ranking Duration': compute_time_dict['get_rank_duration'], 'Save to CSV Duration': compute_time_dict['save_to_csv_duration'], 'Basic Compute Duration': compute_time_dict['basic_compute_duration'], 'True Compute Duration': compute_time_dict['true_compute_duration']}, ignore_index=True)\n"
     ]
    },
    {
     "name": "stdout",
     "output_type": "stream",
     "text": [
      "pq_8_64 Results Saved to CSV!\n",
      "\n",
      "===============================================================\n",
      "Query:  video editor for advertisements with 5 year experience\n",
      "PQ Setting:  pq_8_64\n",
      "Total Time Taken:\n",
      "\n",
      "Start Time:  1697269173.912694\n",
      "Compute Similarity Duration:  0.016891956329345703\n",
      "Get Ranking Duration:  0.023922204971313477\n",
      "Save to CSV Duration:  4.2689290046691895\n",
      "Basic Time Duration:  4.309828042984009\n",
      "True Computed Time Duration:  4.309743165969849\n",
      "===============================================================\n",
      "Computing similarity for: full time senior head nurse position...\n",
      "Getting Query Results Ranking....\n",
      "Top 5 Results:\n",
      "                                                     Data  \\\n",
      "6402   Anesthesiologist Needed Locum Tenens Coverage ...   \n",
      "13022  Millwork Draftsman An established commercial m...   \n",
      "1545   Python Developer Title: Senior Software Engine...   \n",
      "5647   Call Center Representative Essential Functions...   \n",
      "5650   Call Center Representative Essential Functions...   \n",
      "\n",
      "                                                  Vector   Distance  \n",
      "6402   [0, 0, 0, 0, 0, 0, 0, 0, 0, 0, 0, 0, 0, 0, 0, ...  16.371094  \n",
      "13022  [0, 0, 0, 0, 0, 0, 0, 0, 0, 0, 0, 0, 0, 0, 0, ...  16.371094  \n",
      "1545   [0, 0, 0, 0, 0, 0, 0, 0, 0, 0, 0, 0, 0, 0, 0, ...  16.371094  \n",
      "5647   [0, 0, 0, 0, 0, 0, 0, 0, 0, 0, 0, 0, 0, 0, 0, ...  16.371094  \n",
      "5650   [0, 0, 0, 0, 0, 0, 0, 0, 0, 0, 0, 0, 0, 0, 0, ...  16.371094  \n",
      "Saving pq_8_64 Results to CSV....\n"
     ]
    },
    {
     "name": "stderr",
     "output_type": "stream",
     "text": [
      "/var/folders/2q/bjqpws1153b0_y18lhffmh_m0000gn/T/ipykernel_42781/686456071.py:14: FutureWarning: The frame.append method is deprecated and will be removed from pandas in a future version. Use pandas.concat instead.\n",
      "  compute_time_df = compute_time_df.append({'Query': query_name, 'PQ Setting': pq_setting, 'Compute Similarity Duration': compute_time_dict['compute_similarity_duration'], 'Get Ranking Duration': compute_time_dict['get_rank_duration'], 'Save to CSV Duration': compute_time_dict['save_to_csv_duration'], 'Basic Compute Duration': compute_time_dict['basic_compute_duration'], 'True Compute Duration': compute_time_dict['true_compute_duration']}, ignore_index=True)\n"
     ]
    },
    {
     "name": "stdout",
     "output_type": "stream",
     "text": [
      "pq_8_64 Results Saved to CSV!\n",
      "\n",
      "===============================================================\n",
      "Query:  full time senior head nurse position\n",
      "PQ Setting:  pq_8_64\n",
      "Total Time Taken:\n",
      "\n",
      "Start Time:  1697269178.228576\n",
      "Compute Similarity Duration:  0.023214101791381836\n",
      "Get Ranking Duration:  0.019346952438354492\n",
      "Save to CSV Duration:  2.70884108543396\n",
      "Basic Time Duration:  2.7515041828155518\n",
      "True Computed Time Duration:  2.7514021396636963\n",
      "===============================================================\n",
      "Computing similarity for: after school math and science tutor...\n",
      "Getting Query Results Ranking....\n",
      "Top 5 Results:\n",
      "                                                     Data  \\\n",
      "6239   Welder / Fabricator - Stainless Immediate hiri...   \n",
      "5750   Immigration Paralegal Elias, Mendoza, Hill Law...   \n",
      "736    SAP EWM Consultant Role : SAP EWM ConsultantLo...   \n",
      "4156   Mobile Application Developer Job Description-H...   \n",
      "12595  Junior Cost Manager Preparation quotation, ord...   \n",
      "\n",
      "                                                  Vector   Distance  \n",
      "6239   [0, 0, 0, 0, 0, 0, 0, 0, 0, 0, 0, 0, 0, 0, 0, ...  17.492416  \n",
      "5750   [0, 0, 0, 0, 0, 0, 0, 0, 0, 0, 0, 0, 0, 0, 0, ...  17.492416  \n",
      "736    [0, 0, 0, 0, 0, 0, 0, 0, 0, 0, 0, 0, 0, 0, 0, ...  17.492416  \n",
      "4156   [0, 0, 0, 0, 0, 0, 0, 0, 0, 0, 0, 0, 0, 0, 0, ...  17.492416  \n",
      "12595  [0, 0, 0, 0, 0, 0, 0, 0, 0, 0, 0, 0, 0, 0, 0, ...  17.492416  \n",
      "Saving pq_8_64 Results to CSV....\n"
     ]
    },
    {
     "name": "stderr",
     "output_type": "stream",
     "text": [
      "/var/folders/2q/bjqpws1153b0_y18lhffmh_m0000gn/T/ipykernel_42781/686456071.py:14: FutureWarning: The frame.append method is deprecated and will be removed from pandas in a future version. Use pandas.concat instead.\n",
      "  compute_time_df = compute_time_df.append({'Query': query_name, 'PQ Setting': pq_setting, 'Compute Similarity Duration': compute_time_dict['compute_similarity_duration'], 'Get Ranking Duration': compute_time_dict['get_rank_duration'], 'Save to CSV Duration': compute_time_dict['save_to_csv_duration'], 'Basic Compute Duration': compute_time_dict['basic_compute_duration'], 'True Compute Duration': compute_time_dict['true_compute_duration']}, ignore_index=True)\n"
     ]
    },
    {
     "name": "stdout",
     "output_type": "stream",
     "text": [
      "pq_8_64 Results Saved to CSV!\n",
      "\n",
      "===============================================================\n",
      "Query:  after school math and science tutor\n",
      "PQ Setting:  pq_8_64\n",
      "Total Time Taken:\n",
      "\n",
      "Start Time:  1697269180.9836001\n",
      "Compute Similarity Duration:  0.018895864486694336\n",
      "Get Ranking Duration:  0.01563286781311035\n",
      "Save to CSV Duration:  2.3361940383911133\n",
      "Basic Time Duration:  2.3708980083465576\n",
      "True Computed Time Duration:  2.370722770690918\n",
      "===============================================================\n",
      "Computing similarity for: dietitian for professional atheletes...\n",
      "Getting Query Results Ranking....\n",
      "Top 5 Results:\n",
      "                                                    Data  \\\n",
      "3932  Program Manager Responsible launching overseei...   \n",
      "897   Florida Army National Guard Service Member Wil...   \n",
      "5927  Nurse Practitioner Job description: Javidan We...   \n",
      "2805  Executive Assistant The ideal candidate provid...   \n",
      "5944  Independent Contractor Looking Independent tra...   \n",
      "\n",
      "                                                 Vector   Distance  \n",
      "3932  [0, 0, 0, 0, 0, 0, 0, 0, 0, 0, 0, 0, 0, 0, 0, ...  14.829274  \n",
      "897   [0, 0, 0, 0, 0, 0, 0, 0, 0, 0, 0, 0, 0, 0, 0, ...  14.829274  \n",
      "5927  [0, 0, 0, 0, 0, 0, 0, 0, 0, 0, 0, 0, 0, 0, 0, ...  14.829274  \n",
      "2805  [0, 0, 0, 0, 0, 0, 0, 0, 0, 0, 0, 0, 0, 0, 0, ...  14.829274  \n",
      "5944  [0, 0, 0, 0, 0, 0, 0, 0, 0, 0, 0, 0, 0, 0, 0, ...  14.829274  \n",
      "Saving pq_8_64 Results to CSV....\n"
     ]
    },
    {
     "name": "stderr",
     "output_type": "stream",
     "text": [
      "/var/folders/2q/bjqpws1153b0_y18lhffmh_m0000gn/T/ipykernel_42781/686456071.py:14: FutureWarning: The frame.append method is deprecated and will be removed from pandas in a future version. Use pandas.concat instead.\n",
      "  compute_time_df = compute_time_df.append({'Query': query_name, 'PQ Setting': pq_setting, 'Compute Similarity Duration': compute_time_dict['compute_similarity_duration'], 'Get Ranking Duration': compute_time_dict['get_rank_duration'], 'Save to CSV Duration': compute_time_dict['save_to_csv_duration'], 'Basic Compute Duration': compute_time_dict['basic_compute_duration'], 'True Compute Duration': compute_time_dict['true_compute_duration']}, ignore_index=True)\n"
     ]
    },
    {
     "name": "stdout",
     "output_type": "stream",
     "text": [
      "pq_8_64 Results Saved to CSV!\n",
      "\n",
      "===============================================================\n",
      "Query:  dietitian for professional atheletes\n",
      "PQ Setting:  pq_8_64\n",
      "Total Time Taken:\n",
      "\n",
      "Start Time:  1697269183.361418\n",
      "Compute Similarity Duration:  0.01898789405822754\n",
      "Get Ranking Duration:  0.019117116928100586\n",
      "Save to CSV Duration:  2.40848708152771\n",
      "Basic Time Duration:  2.446715831756592\n",
      "True Computed Time Duration:  2.446592092514038\n",
      "===============================================================\n",
      "Computing similarity for: costume designer and makeup artist...\n",
      "Getting Query Results Ranking....\n",
      "Top 5 Results:\n",
      "                                                     Data  \\\n",
      "6206   Head Strategic Growth Intelletec partnered lea...   \n",
      "566    Release Train Engineer This individual respons...   \n",
      "1910   Murex Business Analyst Role: Murex BALocation:...   \n",
      "6076   Parts Advisor Full time Tuesday thru Saturday....   \n",
      "12379  Junior gazdasági szakértő Feladatok Havi üzlet...   \n",
      "\n",
      "                                                  Vector   Distance  \n",
      "6206   [0, 0, 0, 0, 0, 0, 0, 0, 0, 0, 0, 0, 0, 0, 0, ...  16.862896  \n",
      "566    [0, 0, 0, 0, 0, 0, 0, 0, 0, 0, 0, 0, 0, 0, 0, ...  16.862896  \n",
      "1910   [0, 0, 0, 0, 0, 0, 0, 0, 0, 0, 0, 0, 0, 0, 0, ...  16.862896  \n",
      "6076   [0, 0, 0, 0, 0, 0, 0, 0, 0, 0, 0, 0, 0, 0, 0, ...  16.862896  \n",
      "12379  [0, 0, 0, 0, 0, 0, 0, 0, 0, 0, 0, 0, 0, 0, 0, ...  16.862896  \n",
      "Saving pq_8_64 Results to CSV....\n"
     ]
    },
    {
     "name": "stderr",
     "output_type": "stream",
     "text": [
      "/var/folders/2q/bjqpws1153b0_y18lhffmh_m0000gn/T/ipykernel_42781/686456071.py:14: FutureWarning: The frame.append method is deprecated and will be removed from pandas in a future version. Use pandas.concat instead.\n",
      "  compute_time_df = compute_time_df.append({'Query': query_name, 'PQ Setting': pq_setting, 'Compute Similarity Duration': compute_time_dict['compute_similarity_duration'], 'Get Ranking Duration': compute_time_dict['get_rank_duration'], 'Save to CSV Duration': compute_time_dict['save_to_csv_duration'], 'Basic Compute Duration': compute_time_dict['basic_compute_duration'], 'True Compute Duration': compute_time_dict['true_compute_duration']}, ignore_index=True)\n"
     ]
    },
    {
     "name": "stdout",
     "output_type": "stream",
     "text": [
      "pq_8_64 Results Saved to CSV!\n",
      "\n",
      "===============================================================\n",
      "Query:  costume designer and makeup artist\n",
      "PQ Setting:  pq_8_64\n",
      "Total Time Taken:\n",
      "\n",
      "Start Time:  1697269185.813717\n",
      "Compute Similarity Duration:  0.018640995025634766\n",
      "Get Ranking Duration:  0.015677213668823242\n",
      "Save to CSV Duration:  2.4374818801879883\n",
      "Basic Time Duration:  2.4719202518463135\n",
      "True Computed Time Duration:  2.4718000888824463\n",
      "===============================================================\n",
      "Computing similarity for: resilient investment banker...\n"
     ]
    },
    {
     "name": "stderr",
     "output_type": "stream",
     "text": [
      "/var/folders/2q/bjqpws1153b0_y18lhffmh_m0000gn/T/ipykernel_42781/686456071.py:14: FutureWarning: The frame.append method is deprecated and will be removed from pandas in a future version. Use pandas.concat instead.\n",
      "  compute_time_df = compute_time_df.append({'Query': query_name, 'PQ Setting': pq_setting, 'Compute Similarity Duration': compute_time_dict['compute_similarity_duration'], 'Get Ranking Duration': compute_time_dict['get_rank_duration'], 'Save to CSV Duration': compute_time_dict['save_to_csv_duration'], 'Basic Compute Duration': compute_time_dict['basic_compute_duration'], 'True Compute Duration': compute_time_dict['true_compute_duration']}, ignore_index=True)\n",
      "/var/folders/2q/bjqpws1153b0_y18lhffmh_m0000gn/T/ipykernel_42781/686456071.py:17: FutureWarning: The frame.append method is deprecated and will be removed from pandas in a future version. Use pandas.concat instead.\n",
      "  compute_time_df = compute_time_df.append({'Query': 'Average', 'PQ Setting': pq_setting, 'Compute Similarity Duration': compute_time_df['Compute Similarity Duration'].mean(), 'Get Ranking Duration': compute_time_df['Get Ranking Duration'].mean(), 'Save to CSV Duration': compute_time_df['Save to CSV Duration'].mean(), 'Basic Compute Duration': compute_time_df['Basic Compute Duration'].mean(), 'True Compute Duration': compute_time_df['True Compute Duration'].mean()}, ignore_index=True)\n"
     ]
    },
    {
     "name": "stdout",
     "output_type": "stream",
     "text": [
      "Getting Query Results Ranking....\n",
      "Top 5 Results:\n",
      "                                                     Data  \\\n",
      "11364  Social Media Manager Social media manager take...   \n",
      "5737   Freelance Videographer/ Photographer DESCRIPTI...   \n",
      "1545   Python Developer Title: Senior Software Engine...   \n",
      "7032   Mill Operator 2nd Shift Machine Operator posit...   \n",
      "1561   Fortinet SME Job:Fortinet SMEDuration: 1 yearL...   \n",
      "\n",
      "                                                  Vector   Distance  \n",
      "11364  [0, 0, 0, 0, 0, 0, 0, 0, 0, 0, 0, 0, 0, 0, 0, ...  11.529374  \n",
      "5737   [0, 0, 0, 0, 0, 0, 0, 0, 0, 0, 0, 0, 0, 0, 0, ...  11.529374  \n",
      "1545   [0, 0, 0, 0, 0, 0, 0, 0, 0, 0, 0, 0, 0, 0, 0, ...  11.529374  \n",
      "7032   [0, 0, 0, 0, 0, 0, 0, 0, 0, 0, 0, 0, 0, 0, 0, ...  11.529374  \n",
      "1561   [0, 0, 0, 0, 0, 0, 0, 0, 0, 0, 0, 0, 0, 0, 0, ...  11.529374  \n",
      "Saving pq_8_128 Results to CSV....\n",
      "pq_8_128 Results Saved to CSV!\n",
      "\n",
      "===============================================================\n",
      "Query:  resilient investment banker\n",
      "PQ Setting:  pq_8_128\n",
      "Total Time Taken:\n",
      "\n",
      "Start Time:  1697269188.3017228\n",
      "Compute Similarity Duration:  0.3923671245574951\n",
      "Get Ranking Duration:  0.01395106315612793\n",
      "Save to CSV Duration:  2.323498010635376\n",
      "Basic Time Duration:  2.7299201488494873\n",
      "True Computed Time Duration:  2.729816198348999\n",
      "===============================================================\n",
      "Computing similarity for: 2 years experience product manager...\n",
      "Getting Query Results Ranking....\n",
      "Top 5 Results:\n",
      "                                                     Data  \\\n",
      "13479  Release Manager Experience Flosum desirable · ...   \n",
      "9862   Program Manager Job Description :Role Name: Pr...   \n",
      "5737   Freelance Videographer/ Photographer DESCRIPTI...   \n",
      "1363   Oracle Database Administrator Expertise· Ideal...   \n",
      "1369   Lease Anaylyst Sr. lease analyst work private ...   \n",
      "\n",
      "                                                  Vector   Distance  \n",
      "13479  [0, 0, 0, 0, 0, 0, 0, 0, 0, 0, 0, 0, 0, 0, 0, ...  10.156929  \n",
      "9862   [0, 0, 0, 0, 0, 0, 0, 0, 0, 0, 0, 0, 0, 0, 0, ...  10.156929  \n",
      "5737   [0, 0, 0, 0, 0, 0, 0, 0, 0, 0, 0, 0, 0, 0, 0, ...  10.156929  \n",
      "1363   [0, 0, 0, 0, 0, 0, 0, 0, 0, 0, 0, 0, 0, 0, 0, ...  10.156929  \n",
      "1369   [0, 0, 0, 0, 0, 0, 0, 0, 0, 0, 0, 0, 0, 0, 0, ...  10.156929  \n",
      "Saving pq_8_128 Results to CSV....\n"
     ]
    },
    {
     "name": "stderr",
     "output_type": "stream",
     "text": [
      "/var/folders/2q/bjqpws1153b0_y18lhffmh_m0000gn/T/ipykernel_42781/686456071.py:14: FutureWarning: The frame.append method is deprecated and will be removed from pandas in a future version. Use pandas.concat instead.\n",
      "  compute_time_df = compute_time_df.append({'Query': query_name, 'PQ Setting': pq_setting, 'Compute Similarity Duration': compute_time_dict['compute_similarity_duration'], 'Get Ranking Duration': compute_time_dict['get_rank_duration'], 'Save to CSV Duration': compute_time_dict['save_to_csv_duration'], 'Basic Compute Duration': compute_time_dict['basic_compute_duration'], 'True Compute Duration': compute_time_dict['true_compute_duration']}, ignore_index=True)\n"
     ]
    },
    {
     "name": "stdout",
     "output_type": "stream",
     "text": [
      "pq_8_128 Results Saved to CSV!\n",
      "\n",
      "===============================================================\n",
      "Query:  2 years experience product manager\n",
      "PQ Setting:  pq_8_128\n",
      "Total Time Taken:\n",
      "\n",
      "Start Time:  1697269191.03532\n",
      "Compute Similarity Duration:  0.04385209083557129\n",
      "Get Ranking Duration:  0.015054702758789062\n",
      "Save to CSV Duration:  2.2601542472839355\n",
      "Basic Time Duration:  2.3191680908203125\n",
      "True Computed Time Duration:  2.319061040878296\n",
      "===============================================================\n",
      "Computing similarity for: 10 years risk analyst problem solver...\n",
      "Getting Query Results Ranking....\n",
      "Top 5 Results:\n",
      "                                                    Data  \\\n",
      "6386  Practice Representative Network communityProvi...   \n",
      "6050                   Esthetician Experience preferred   \n",
      "9473  Property Maintenance Technician Looking skille...   \n",
      "5533  经理 The ideal candidate position succeed role k...   \n",
      "1952  Salesperson Part-time phone sales. Stay home p...   \n",
      "\n",
      "                                                 Vector   Distance  \n",
      "6386  [0, 0, 0, 0, 0, 0, 0, 0, 0, 0, 0, 0, 0, 0, 0, ...  12.974606  \n",
      "6050  [0, 0, 0, 0, 0, 0, 0, 0, 0, 0, 0, 0, 0, 0, 0, ...  12.974606  \n",
      "9473  [0, 0, 0, 0, 0, 0, 0, 0, 0, 0, 0, 0, 0, 0, 0, ...  12.974606  \n",
      "5533  [0, 0, 0, 0, 0, 0, 0, 0, 0, 0, 0, 0, 0, 0, 0, ...  12.974606  \n",
      "1952  [0, 0, 0, 0, 0, 0, 0, 0, 0, 0, 0, 0, 0, 0, 0, ...  12.974606  \n",
      "Saving pq_8_128 Results to CSV....\n"
     ]
    },
    {
     "name": "stderr",
     "output_type": "stream",
     "text": [
      "/var/folders/2q/bjqpws1153b0_y18lhffmh_m0000gn/T/ipykernel_42781/686456071.py:14: FutureWarning: The frame.append method is deprecated and will be removed from pandas in a future version. Use pandas.concat instead.\n",
      "  compute_time_df = compute_time_df.append({'Query': query_name, 'PQ Setting': pq_setting, 'Compute Similarity Duration': compute_time_dict['compute_similarity_duration'], 'Get Ranking Duration': compute_time_dict['get_rank_duration'], 'Save to CSV Duration': compute_time_dict['save_to_csv_duration'], 'Basic Compute Duration': compute_time_dict['basic_compute_duration'], 'True Compute Duration': compute_time_dict['true_compute_duration']}, ignore_index=True)\n"
     ]
    },
    {
     "name": "stdout",
     "output_type": "stream",
     "text": [
      "pq_8_128 Results Saved to CSV!\n",
      "\n",
      "===============================================================\n",
      "Query:  10 years risk analyst problem solver\n",
      "PQ Setting:  pq_8_128\n",
      "Total Time Taken:\n",
      "\n",
      "Start Time:  1697269193.35862\n",
      "Compute Similarity Duration:  0.03779721260070801\n",
      "Get Ranking Duration:  0.013266801834106445\n",
      "Save to CSV Duration:  2.318089008331299\n",
      "Basic Time Duration:  2.369298219680786\n",
      "True Computed Time Duration:  2.3691530227661133\n",
      "===============================================================\n",
      "Computing similarity for: tax analyst for big company...\n",
      "Getting Query Results Ranking....\n",
      "Top 5 Results:\n",
      "                                                    Data  \\\n",
      "6559  Elementary School Teacher Third grade teacher ...   \n",
      "6207  Software Engineer TLA immediate opening fully ...   \n",
      "4399         Inbound (Stocking) 4AM Team Members #NAME?   \n",
      "4396  Cleaning Specialist detail oriented, self star...   \n",
      "4394  Junior Architect looking smart, self starter l...   \n",
      "\n",
      "                                                 Vector   Distance  \n",
      "6559  [0, 0, 0, 0, 0, 0, 0, 0, 0, 0, 0, 0, 0, 0, 0, ...  12.939297  \n",
      "6207  [0, 0, 0, 0, 0, 0, 0, 0, 0, 0, 0, 0, 0, 0, 0, ...  12.939297  \n",
      "4399  [0, 0, 0, 0, 0, 0, 0, 0, 0, 0, 0, 0, 0, 0, 0, ...  12.939297  \n",
      "4396  [0, 0, 0, 0, 0, 0, 0, 0, 0, 0, 0, 0, 0, 0, 0, ...  12.939297  \n",
      "4394  [0, 0, 0, 0, 0, 0, 0, 0, 0, 0, 0, 0, 0, 0, 0, ...  12.939297  \n",
      "Saving pq_8_128 Results to CSV....\n"
     ]
    },
    {
     "name": "stderr",
     "output_type": "stream",
     "text": [
      "/var/folders/2q/bjqpws1153b0_y18lhffmh_m0000gn/T/ipykernel_42781/686456071.py:14: FutureWarning: The frame.append method is deprecated and will be removed from pandas in a future version. Use pandas.concat instead.\n",
      "  compute_time_df = compute_time_df.append({'Query': query_name, 'PQ Setting': pq_setting, 'Compute Similarity Duration': compute_time_dict['compute_similarity_duration'], 'Get Ranking Duration': compute_time_dict['get_rank_duration'], 'Save to CSV Duration': compute_time_dict['save_to_csv_duration'], 'Basic Compute Duration': compute_time_dict['basic_compute_duration'], 'True Compute Duration': compute_time_dict['true_compute_duration']}, ignore_index=True)\n"
     ]
    },
    {
     "name": "stdout",
     "output_type": "stream",
     "text": [
      "pq_8_128 Results Saved to CSV!\n",
      "\n",
      "===============================================================\n",
      "Query:  tax analyst for big company\n",
      "PQ Setting:  pq_8_128\n",
      "Total Time Taken:\n",
      "\n",
      "Start Time:  1697269195.7313972\n",
      "Compute Similarity Duration:  0.04004788398742676\n",
      "Get Ranking Duration:  0.01581096649169922\n",
      "Save to CSV Duration:  2.078650951385498\n",
      "Basic Time Duration:  2.1346256732940674\n",
      "True Computed Time Duration:  2.134509801864624\n",
      "===============================================================\n",
      "Computing similarity for: software engineer for google or amazon...\n",
      "Getting Query Results Ranking....\n",
      "Top 5 Results:\n",
      "                                                    Data  \\\n",
      "4045  Executive Assistant The ideal candidate provid...   \n",
      "5533  经理 The ideal candidate position succeed role k...   \n",
      "4275  Microstrategy Developer position MUST BE LOCAL...   \n",
      "5857  Psychotherapist Private Practice FFS W2 starti...   \n",
      "5860  Nba star Tips: 40 millionResponsibilities[Be s...   \n",
      "\n",
      "                                                 Vector   Distance  \n",
      "4045  [0, 0, 0, 0, 0, 0, 0, 0, 0, 0, 0, 0, 0, 0, 0, ...  13.427472  \n",
      "5533  [0, 0, 0, 0, 0, 0, 0, 0, 0, 0, 0, 0, 0, 0, 0, ...  13.427472  \n",
      "4275  [0, 0, 0, 0, 0, 0, 0, 0, 0, 0, 0, 0, 0, 0, 0, ...  13.427472  \n",
      "5857  [0, 0, 0, 0, 0, 0, 0, 0, 0, 0, 0, 0, 0, 0, 0, ...  13.427472  \n",
      "5860  [0, 0, 0, 0, 0, 0, 0, 0, 0, 0, 0, 0, 0, 0, 0, ...  13.427472  \n",
      "Saving pq_8_128 Results to CSV....\n"
     ]
    },
    {
     "name": "stderr",
     "output_type": "stream",
     "text": [
      "/var/folders/2q/bjqpws1153b0_y18lhffmh_m0000gn/T/ipykernel_42781/686456071.py:14: FutureWarning: The frame.append method is deprecated and will be removed from pandas in a future version. Use pandas.concat instead.\n",
      "  compute_time_df = compute_time_df.append({'Query': query_name, 'PQ Setting': pq_setting, 'Compute Similarity Duration': compute_time_dict['compute_similarity_duration'], 'Get Ranking Duration': compute_time_dict['get_rank_duration'], 'Save to CSV Duration': compute_time_dict['save_to_csv_duration'], 'Basic Compute Duration': compute_time_dict['basic_compute_duration'], 'True Compute Duration': compute_time_dict['true_compute_duration']}, ignore_index=True)\n"
     ]
    },
    {
     "name": "stdout",
     "output_type": "stream",
     "text": [
      "pq_8_128 Results Saved to CSV!\n",
      "\n",
      "===============================================================\n",
      "Query:  software engineer for google or amazon\n",
      "PQ Setting:  pq_8_128\n",
      "Total Time Taken:\n",
      "\n",
      "Start Time:  1697269197.8691719\n",
      "Compute Similarity Duration:  0.040438175201416016\n",
      "Get Ranking Duration:  0.011873006820678711\n",
      "Save to CSV Duration:  1.9127910137176514\n",
      "Basic Time Duration:  1.965191125869751\n",
      "True Computed Time Duration:  1.965102195739746\n",
      "===============================================================\n",
      "Computing similarity for: video editor for advertisements with 5 year experience...\n",
      "Getting Query Results Ranking....\n",
      "Top 5 Results:\n",
      "                                                     Data  \\\n",
      "4156   Mobile Application Developer Job Description-H...   \n",
      "15120  Senior Partner DBM LEGAL SERVICES – JOB OVERVI...   \n",
      "3843   Web Designer I seeking website designer two we...   \n",
      "3387   Assistant Editor We looking passionate team me...   \n",
      "7298                     Analyst Communications Director   \n",
      "\n",
      "                                                  Vector   Distance  \n",
      "4156   [0, 0, 0, 0, 0, 0, 0, 0, 0, 0, 0, 0, 0, 0, 0, ...  14.111807  \n",
      "15120  [0, 0, 0, 0, 0, 0, 0, 0, 0, 0, 0, 0, 0, 0, 0, ...  14.111807  \n",
      "3843   [0, 0, 0, 0, 0, 0, 0, 0, 0, 0, 0, 0, 0, 0, 0, ...  14.111807  \n",
      "3387   [0, 0, 0, 0, 0, 0, 0, 0, 0, 0, 0, 0, 0, 0, 0, ...  14.111807  \n",
      "7298   [0, 0, 0, 0, 0, 0, 0, 0, 0, 0, 0, 0, 0, 0, 0, ...  14.111807  \n",
      "Saving pq_8_128 Results to CSV....\n"
     ]
    },
    {
     "name": "stderr",
     "output_type": "stream",
     "text": [
      "/var/folders/2q/bjqpws1153b0_y18lhffmh_m0000gn/T/ipykernel_42781/686456071.py:14: FutureWarning: The frame.append method is deprecated and will be removed from pandas in a future version. Use pandas.concat instead.\n",
      "  compute_time_df = compute_time_df.append({'Query': query_name, 'PQ Setting': pq_setting, 'Compute Similarity Duration': compute_time_dict['compute_similarity_duration'], 'Get Ranking Duration': compute_time_dict['get_rank_duration'], 'Save to CSV Duration': compute_time_dict['save_to_csv_duration'], 'Basic Compute Duration': compute_time_dict['basic_compute_duration'], 'True Compute Duration': compute_time_dict['true_compute_duration']}, ignore_index=True)\n"
     ]
    },
    {
     "name": "stdout",
     "output_type": "stream",
     "text": [
      "pq_8_128 Results Saved to CSV!\n",
      "\n",
      "===============================================================\n",
      "Query:  video editor for advertisements with 5 year experience\n",
      "PQ Setting:  pq_8_128\n",
      "Total Time Taken:\n",
      "\n",
      "Start Time:  1697269199.837476\n",
      "Compute Similarity Duration:  0.03638005256652832\n",
      "Get Ranking Duration:  0.010525941848754883\n",
      "Save to CSV Duration:  2.010977029800415\n",
      "Basic Time Duration:  2.0580859184265137\n",
      "True Computed Time Duration:  2.0578830242156982\n",
      "===============================================================\n",
      "Computing similarity for: full time senior head nurse position...\n",
      "Getting Query Results Ranking....\n",
      "Top 5 Results:\n",
      "                                                     Data  \\\n",
      "12379  Junior gazdasági szakértő Feladatok Havi üzlet...   \n",
      "13187  Head Retail Banking Head Retail Affiliate Bank...   \n",
      "4363   SQL Developer Title- SQL developerLocation – T...   \n",
      "1630   Control Engineer Tired monotonous applications...   \n",
      "6303   Branch Office Administrator Administrative, ma...   \n",
      "\n",
      "                                                  Vector   Distance  \n",
      "12379  [0, 0, 0, 0, 0, 0, 0, 0, 0, 0, 0, 0, 0, 0, 0, ...  12.580008  \n",
      "13187  [0, 0, 0, 0, 0, 0, 0, 0, 0, 0, 0, 0, 0, 0, 0, ...  12.580008  \n",
      "4363   [0, 0, 0, 0, 0, 0, 0, 0, 0, 0, 0, 0, 0, 0, 0, ...  12.580008  \n",
      "1630   [0, 0, 0, 0, 0, 0, 0, 0, 0, 0, 0, 0, 0, 0, 0, ...  12.580008  \n",
      "6303   [0, 0, 0, 0, 0, 0, 0, 0, 0, 0, 0, 0, 0, 0, 0, ...  12.580008  \n",
      "Saving pq_8_128 Results to CSV....\n"
     ]
    },
    {
     "name": "stderr",
     "output_type": "stream",
     "text": [
      "/var/folders/2q/bjqpws1153b0_y18lhffmh_m0000gn/T/ipykernel_42781/686456071.py:14: FutureWarning: The frame.append method is deprecated and will be removed from pandas in a future version. Use pandas.concat instead.\n",
      "  compute_time_df = compute_time_df.append({'Query': query_name, 'PQ Setting': pq_setting, 'Compute Similarity Duration': compute_time_dict['compute_similarity_duration'], 'Get Ranking Duration': compute_time_dict['get_rank_duration'], 'Save to CSV Duration': compute_time_dict['save_to_csv_duration'], 'Basic Compute Duration': compute_time_dict['basic_compute_duration'], 'True Compute Duration': compute_time_dict['true_compute_duration']}, ignore_index=True)\n"
     ]
    },
    {
     "name": "stdout",
     "output_type": "stream",
     "text": [
      "pq_8_128 Results Saved to CSV!\n",
      "\n",
      "===============================================================\n",
      "Query:  full time senior head nurse position\n",
      "PQ Setting:  pq_8_128\n",
      "Total Time Taken:\n",
      "\n",
      "Start Time:  1697269201.9004228\n",
      "Compute Similarity Duration:  0.04646611213684082\n",
      "Get Ranking Duration:  0.013422012329101562\n",
      "Save to CSV Duration:  2.077566146850586\n",
      "Basic Time Duration:  2.1375691890716553\n",
      "True Computed Time Duration:  2.1374542713165283\n",
      "===============================================================\n",
      "Computing similarity for: after school math and science tutor...\n",
      "Getting Query Results Ranking....\n",
      "Top 5 Results:\n",
      "                                                    Data  \\\n",
      "7298                    Analyst Communications Director   \n",
      "6219  Registered Dental Hygienist A small boutique d...   \n",
      "1270  C# Visual Studio Developer Robert Half current...   \n",
      "7169  Body Repair Technician Experienced body techni...   \n",
      "7170  Manager Writing, Organizing, AI, Communication...   \n",
      "\n",
      "                                                 Vector   Distance  \n",
      "7298  [0, 0, 0, 0, 0, 0, 0, 0, 0, 0, 0, 0, 0, 0, 0, ...  13.945153  \n",
      "6219  [0, 0, 0, 0, 0, 0, 0, 0, 0, 0, 0, 0, 0, 0, 0, ...  13.945153  \n",
      "1270  [0, 0, 0, 0, 0, 0, 0, 0, 0, 0, 0, 0, 0, 0, 0, ...  13.945153  \n",
      "7169  [0, 0, 0, 0, 0, 0, 0, 0, 0, 0, 0, 0, 0, 0, 0, ...  13.945153  \n",
      "7170  [0, 0, 0, 0, 0, 0, 0, 0, 0, 0, 0, 0, 0, 0, 0, ...  13.945153  \n",
      "Saving pq_8_128 Results to CSV....\n"
     ]
    },
    {
     "name": "stderr",
     "output_type": "stream",
     "text": [
      "/var/folders/2q/bjqpws1153b0_y18lhffmh_m0000gn/T/ipykernel_42781/686456071.py:14: FutureWarning: The frame.append method is deprecated and will be removed from pandas in a future version. Use pandas.concat instead.\n",
      "  compute_time_df = compute_time_df.append({'Query': query_name, 'PQ Setting': pq_setting, 'Compute Similarity Duration': compute_time_dict['compute_similarity_duration'], 'Get Ranking Duration': compute_time_dict['get_rank_duration'], 'Save to CSV Duration': compute_time_dict['save_to_csv_duration'], 'Basic Compute Duration': compute_time_dict['basic_compute_duration'], 'True Compute Duration': compute_time_dict['true_compute_duration']}, ignore_index=True)\n"
     ]
    },
    {
     "name": "stdout",
     "output_type": "stream",
     "text": [
      "pq_8_128 Results Saved to CSV!\n",
      "\n",
      "===============================================================\n",
      "Query:  after school math and science tutor\n",
      "PQ Setting:  pq_8_128\n",
      "Total Time Taken:\n",
      "\n",
      "Start Time:  1697269204.0442739\n",
      "Compute Similarity Duration:  0.045934200286865234\n",
      "Get Ranking Duration:  0.01320195198059082\n",
      "Save to CSV Duration:  2.336371898651123\n",
      "Basic Time Duration:  2.3956491947174072\n",
      "True Computed Time Duration:  2.395508050918579\n",
      "===============================================================\n",
      "Computing similarity for: dietitian for professional atheletes...\n",
      "Getting Query Results Ranking....\n",
      "Top 5 Results:\n",
      "                                                     Data  \\\n",
      "15083  IAM Ping Federate IAM Ping FederateIrving TX- ...   \n",
      "2098   Global Sales Director Must min 15 years sales ...   \n",
      "1187   Client Care Coordinator https://housemaster-la...   \n",
      "1194   Catering Sales Manager Click link apply! The A...   \n",
      "13717  Government Sales Specialist Sell tactical prod...   \n",
      "\n",
      "                                                  Vector   Distance  \n",
      "15083  [0, 0, 0, 0, 0, 0, 0, 0, 0, 0, 0, 0, 0, 0, 0, ...  11.146257  \n",
      "2098   [0, 0, 0, 0, 0, 0, 0, 0, 0, 0, 0, 0, 0, 0, 0, ...  11.146257  \n",
      "1187   [0, 0, 0, 0, 0, 0, 0, 0, 0, 0, 0, 0, 0, 0, 0, ...  11.146257  \n",
      "1194   [0, 0, 0, 0, 0, 0, 0, 0, 0, 0, 0, 0, 0, 0, 0, ...  11.146257  \n",
      "13717  [0, 0, 0, 0, 0, 0, 0, 0, 0, 0, 0, 0, 0, 0, 0, ...  11.146257  \n",
      "Saving pq_8_128 Results to CSV....\n"
     ]
    },
    {
     "name": "stderr",
     "output_type": "stream",
     "text": [
      "/var/folders/2q/bjqpws1153b0_y18lhffmh_m0000gn/T/ipykernel_42781/686456071.py:14: FutureWarning: The frame.append method is deprecated and will be removed from pandas in a future version. Use pandas.concat instead.\n",
      "  compute_time_df = compute_time_df.append({'Query': query_name, 'PQ Setting': pq_setting, 'Compute Similarity Duration': compute_time_dict['compute_similarity_duration'], 'Get Ranking Duration': compute_time_dict['get_rank_duration'], 'Save to CSV Duration': compute_time_dict['save_to_csv_duration'], 'Basic Compute Duration': compute_time_dict['basic_compute_duration'], 'True Compute Duration': compute_time_dict['true_compute_duration']}, ignore_index=True)\n"
     ]
    },
    {
     "name": "stdout",
     "output_type": "stream",
     "text": [
      "pq_8_128 Results Saved to CSV!\n",
      "\n",
      "===============================================================\n",
      "Query:  dietitian for professional atheletes\n",
      "PQ Setting:  pq_8_128\n",
      "Total Time Taken:\n",
      "\n",
      "Start Time:  1697269206.4443688\n",
      "Compute Similarity Duration:  0.03551912307739258\n",
      "Get Ranking Duration:  0.014034032821655273\n",
      "Save to CSV Duration:  2.0122880935668945\n",
      "Basic Time Duration:  2.0620431900024414\n",
      "True Computed Time Duration:  2.0618412494659424\n",
      "===============================================================\n",
      "Computing similarity for: costume designer and makeup artist...\n",
      "Getting Query Results Ranking....\n",
      "Top 5 Results:\n",
      "                                                     Data  \\\n",
      "11360  Vendedor en linea ﻿¡Hola! Estamos en busca de ...   \n",
      "7241   Tax Preparer Assistant - Franchise Location Wh...   \n",
      "7239   Analog Design Engineer Analog IC design, mixed...   \n",
      "3832   Certified Pharmacy Technician I'm hiring Certi...   \n",
      "5513   Engineer We’re hunt professionals Engineering ...   \n",
      "\n",
      "                                                  Vector   Distance  \n",
      "11360  [0, 0, 0, 0, 0, 0, 0, 0, 0, 0, 0, 0, 0, 0, 0, ...  13.249441  \n",
      "7241   [0, 0, 0, 0, 0, 0, 0, 0, 0, 0, 0, 0, 0, 0, 0, ...  13.249441  \n",
      "7239   [0, 0, 0, 0, 0, 0, 0, 0, 0, 0, 0, 0, 0, 0, 0, ...  13.249441  \n",
      "3832   [0, 0, 0, 0, 0, 0, 0, 0, 0, 0, 0, 0, 0, 0, 0, ...  13.249441  \n",
      "5513   [0, 0, 0, 0, 0, 0, 0, 0, 0, 0, 0, 0, 0, 0, 0, ...  13.249441  \n",
      "Saving pq_8_128 Results to CSV....\n"
     ]
    },
    {
     "name": "stderr",
     "output_type": "stream",
     "text": [
      "/var/folders/2q/bjqpws1153b0_y18lhffmh_m0000gn/T/ipykernel_42781/686456071.py:14: FutureWarning: The frame.append method is deprecated and will be removed from pandas in a future version. Use pandas.concat instead.\n",
      "  compute_time_df = compute_time_df.append({'Query': query_name, 'PQ Setting': pq_setting, 'Compute Similarity Duration': compute_time_dict['compute_similarity_duration'], 'Get Ranking Duration': compute_time_dict['get_rank_duration'], 'Save to CSV Duration': compute_time_dict['save_to_csv_duration'], 'Basic Compute Duration': compute_time_dict['basic_compute_duration'], 'True Compute Duration': compute_time_dict['true_compute_duration']}, ignore_index=True)\n"
     ]
    },
    {
     "name": "stdout",
     "output_type": "stream",
     "text": [
      "pq_8_128 Results Saved to CSV!\n",
      "\n",
      "===============================================================\n",
      "Query:  costume designer and makeup artist\n",
      "PQ Setting:  pq_8_128\n",
      "Total Time Taken:\n",
      "\n",
      "Start Time:  1697269208.509848\n",
      "Compute Similarity Duration:  0.041841983795166016\n",
      "Get Ranking Duration:  0.014308929443359375\n",
      "Save to CSV Duration:  2.69956111907959\n",
      "Basic Time Duration:  2.755851984024048\n",
      "True Computed Time Duration:  2.7557120323181152\n",
      "===============================================================\n",
      "Computing similarity for: resilient investment banker...\n"
     ]
    },
    {
     "name": "stderr",
     "output_type": "stream",
     "text": [
      "/var/folders/2q/bjqpws1153b0_y18lhffmh_m0000gn/T/ipykernel_42781/686456071.py:14: FutureWarning: The frame.append method is deprecated and will be removed from pandas in a future version. Use pandas.concat instead.\n",
      "  compute_time_df = compute_time_df.append({'Query': query_name, 'PQ Setting': pq_setting, 'Compute Similarity Duration': compute_time_dict['compute_similarity_duration'], 'Get Ranking Duration': compute_time_dict['get_rank_duration'], 'Save to CSV Duration': compute_time_dict['save_to_csv_duration'], 'Basic Compute Duration': compute_time_dict['basic_compute_duration'], 'True Compute Duration': compute_time_dict['true_compute_duration']}, ignore_index=True)\n",
      "/var/folders/2q/bjqpws1153b0_y18lhffmh_m0000gn/T/ipykernel_42781/686456071.py:17: FutureWarning: The frame.append method is deprecated and will be removed from pandas in a future version. Use pandas.concat instead.\n",
      "  compute_time_df = compute_time_df.append({'Query': 'Average', 'PQ Setting': pq_setting, 'Compute Similarity Duration': compute_time_df['Compute Similarity Duration'].mean(), 'Get Ranking Duration': compute_time_df['Get Ranking Duration'].mean(), 'Save to CSV Duration': compute_time_df['Save to CSV Duration'].mean(), 'Basic Compute Duration': compute_time_df['Basic Compute Duration'].mean(), 'True Compute Duration': compute_time_df['True Compute Duration'].mean()}, ignore_index=True)\n"
     ]
    },
    {
     "name": "stdout",
     "output_type": "stream",
     "text": [
      "Getting Query Results Ranking....\n",
      "Top 5 Results:\n",
      "                                                     Data  \\\n",
      "12675  Truss assembler Performs repetitive bench line...   \n",
      "12821  Sales Agent CALLING ALL SUSTAINABILITY ADVOCAT...   \n",
      "1568   OpenShift Engineer Direct:571-556-1002|naresh@...   \n",
      "6471   Clinical Research Coordinator Looking another ...   \n",
      "6470   Administrative Project Manager Hiring Administ...   \n",
      "\n",
      "                                                  Vector   Distance  \n",
      "12675  [0, 0, 0, 0, 0, 0, 0, 0, 0, 0, 0, 0, 0, 0, 0, ...  33.978237  \n",
      "12821  [0, 0, 0, 0, 0, 0, 0, 0, 0, 0, 0, 0, 0, 0, 0, ...  33.978237  \n",
      "1568   [0, 0, 0, 0, 0, 0, 0, 0, 0, 0, 0, 0, 0, 0, 0, ...  33.978237  \n",
      "6471   [0, 0, 0, 0, 0, 0, 0, 0, 0, 0, 0, 0, 0, 0, 0, ...  33.978237  \n",
      "6470   [0, 0, 0, 0, 0, 0, 0, 0, 0, 0, 0, 0, 0, 0, 0, ...  33.978237  \n",
      "Saving pq_16_8 Results to CSV....\n",
      "pq_16_8 Results Saved to CSV!\n",
      "\n",
      "===============================================================\n",
      "Query:  resilient investment banker\n",
      "PQ Setting:  pq_16_8\n",
      "Total Time Taken:\n",
      "\n",
      "Start Time:  1697269211.2764502\n",
      "Compute Similarity Duration:  0.24350881576538086\n",
      "Get Ranking Duration:  0.019636154174804688\n",
      "Save to CSV Duration:  2.3647968769073486\n",
      "Basic Time Duration:  2.628056764602661\n",
      "True Computed Time Duration:  2.627941846847534\n",
      "===============================================================\n",
      "Computing similarity for: 2 years experience product manager...\n",
      "Getting Query Results Ranking....\n",
      "Top 5 Results:\n",
      "                                                    Data  \\\n",
      "1454  Senior Cost Estimator A highly reputable, worl...   \n",
      "8400  Certified Registered Nurse Anesthetist PRN - P...   \n",
      "1561  Fortinet SME Job:Fortinet SMEDuration: 1 yearL...   \n",
      "8486  Carpenter Description Tradesmen International ...   \n",
      "8487  Nursing Coordinator-Registered Nurse We lookin...   \n",
      "\n",
      "                                                 Vector  Distance  \n",
      "1454  [0, 0, 0, 0, 0, 0, 0, 0, 0, 0, 0, 0, 0, 0, 0, ...  29.92391  \n",
      "8400  [0, 0, 0, 0, 0, 0, 0, 0, 0, 0, 0, 0, 0, 0, 0, ...  29.92391  \n",
      "1561  [0, 0, 0, 0, 0, 0, 0, 0, 0, 0, 0, 0, 0, 0, 0, ...  29.92391  \n",
      "8486  [0, 0, 0, 0, 0, 0, 0, 0, 0, 0, 0, 0, 0, 0, 0, ...  29.92391  \n",
      "8487  [0, 0, 0, 0, 0, 0, 0, 0, 0, 0, 0, 0, 0, 0, 0, ...  29.92391  \n",
      "Saving pq_16_8 Results to CSV....\n"
     ]
    },
    {
     "name": "stderr",
     "output_type": "stream",
     "text": [
      "/var/folders/2q/bjqpws1153b0_y18lhffmh_m0000gn/T/ipykernel_42781/686456071.py:14: FutureWarning: The frame.append method is deprecated and will be removed from pandas in a future version. Use pandas.concat instead.\n",
      "  compute_time_df = compute_time_df.append({'Query': query_name, 'PQ Setting': pq_setting, 'Compute Similarity Duration': compute_time_dict['compute_similarity_duration'], 'Get Ranking Duration': compute_time_dict['get_rank_duration'], 'Save to CSV Duration': compute_time_dict['save_to_csv_duration'], 'Basic Compute Duration': compute_time_dict['basic_compute_duration'], 'True Compute Duration': compute_time_dict['true_compute_duration']}, ignore_index=True)\n"
     ]
    },
    {
     "name": "stdout",
     "output_type": "stream",
     "text": [
      "pq_16_8 Results Saved to CSV!\n",
      "\n",
      "===============================================================\n",
      "Query:  2 years experience product manager\n",
      "PQ Setting:  pq_16_8\n",
      "Total Time Taken:\n",
      "\n",
      "Start Time:  1697269213.9073548\n",
      "Compute Similarity Duration:  0.0034999847412109375\n",
      "Get Ranking Duration:  0.01245427131652832\n",
      "Save to CSV Duration:  1.85133695602417\n",
      "Basic Time Duration:  1.8673913478851318\n",
      "True Computed Time Duration:  1.8672912120819092\n",
      "===============================================================\n",
      "Computing similarity for: 10 years risk analyst problem solver...\n",
      "Getting Query Results Ranking....\n",
      "Top 5 Results:\n",
      "                                                     Data  \\\n",
      "6907   Driver We looking professional driver join tea...   \n",
      "5406   Fire Watch Job Title: FirContract: W2e Watch c...   \n",
      "13006  Accounting Assistant BGSF partnered government...   \n",
      "13004  Assistant Project Manager Looking someone bit ...   \n",
      "13000  Radiology Project Manager Role Description: Se...   \n",
      "\n",
      "                                                  Vector   Distance  \n",
      "6907   [0, 0, 0, 0, 0, 0, 0, 0, 0, 0, 0, 0, 0, 0, 0, ...  34.411377  \n",
      "5406   [0, 0, 0, 0, 0, 0, 0, 0, 0, 0, 0, 0, 0, 0, 0, ...  34.411377  \n",
      "13006  [0, 0, 0, 0, 0, 0, 0, 0, 0, 0, 0, 0, 0, 0, 0, ...  34.411377  \n",
      "13004  [0, 0, 0, 0, 0, 0, 0, 0, 0, 0, 0, 0, 0, 0, 0, ...  34.411377  \n",
      "13000  [0, 0, 0, 0, 0, 0, 0, 0, 0, 0, 0, 0, 0, 0, 0, ...  34.411377  \n",
      "Saving pq_16_8 Results to CSV....\n"
     ]
    },
    {
     "name": "stderr",
     "output_type": "stream",
     "text": [
      "/var/folders/2q/bjqpws1153b0_y18lhffmh_m0000gn/T/ipykernel_42781/686456071.py:14: FutureWarning: The frame.append method is deprecated and will be removed from pandas in a future version. Use pandas.concat instead.\n",
      "  compute_time_df = compute_time_df.append({'Query': query_name, 'PQ Setting': pq_setting, 'Compute Similarity Duration': compute_time_dict['compute_similarity_duration'], 'Get Ranking Duration': compute_time_dict['get_rank_duration'], 'Save to CSV Duration': compute_time_dict['save_to_csv_duration'], 'Basic Compute Duration': compute_time_dict['basic_compute_duration'], 'True Compute Duration': compute_time_dict['true_compute_duration']}, ignore_index=True)\n"
     ]
    },
    {
     "name": "stdout",
     "output_type": "stream",
     "text": [
      "pq_16_8 Results Saved to CSV!\n",
      "\n",
      "===============================================================\n",
      "Query:  10 years risk analyst problem solver\n",
      "PQ Setting:  pq_16_8\n",
      "Total Time Taken:\n",
      "\n",
      "Start Time:  1697269215.776871\n",
      "Compute Similarity Duration:  0.004393815994262695\n",
      "Get Ranking Duration:  0.012572288513183594\n",
      "Save to CSV Duration:  1.9486017227172852\n",
      "Basic Time Duration:  1.9658401012420654\n",
      "True Computed Time Duration:  1.9655678272247314\n",
      "===============================================================\n",
      "Computing similarity for: tax analyst for big company...\n",
      "Getting Query Results Ranking....\n",
      "Top 5 Results:\n",
      "                                                     Data  \\\n",
      "12040  Deburr/Grind - 1st Shift - FLS Nuestras instal...   \n",
      "798    Research Associate Research Associate *onsite*...   \n",
      "12950  Credit Analyst Rare opportunity break private ...   \n",
      "4280   ETL Developer W2 Role (All Inclusive) We looki...   \n",
      "4283   Billing Manager Law firm seeking Billing Manag...   \n",
      "\n",
      "                                                  Vector  Distance  \n",
      "12040  [0, 1, 0, 0, 0, 0, 0, 0, 0, 0, 0, 0, 0, 0, 0, ...  34.33802  \n",
      "798    [0, 0, 0, 0, 0, 0, 0, 0, 0, 0, 0, 0, 0, 0, 0, ...  34.33802  \n",
      "12950  [0, 0, 0, 0, 0, 0, 0, 0, 0, 0, 0, 0, 0, 0, 0, ...  34.33802  \n",
      "4280   [0, 0, 0, 0, 0, 0, 0, 0, 0, 0, 0, 0, 0, 0, 0, ...  34.33802  \n",
      "4283   [0, 0, 0, 0, 0, 0, 0, 0, 0, 0, 0, 0, 0, 0, 0, ...  34.33802  \n",
      "Saving pq_16_8 Results to CSV....\n"
     ]
    },
    {
     "name": "stderr",
     "output_type": "stream",
     "text": [
      "/var/folders/2q/bjqpws1153b0_y18lhffmh_m0000gn/T/ipykernel_42781/686456071.py:14: FutureWarning: The frame.append method is deprecated and will be removed from pandas in a future version. Use pandas.concat instead.\n",
      "  compute_time_df = compute_time_df.append({'Query': query_name, 'PQ Setting': pq_setting, 'Compute Similarity Duration': compute_time_dict['compute_similarity_duration'], 'Get Ranking Duration': compute_time_dict['get_rank_duration'], 'Save to CSV Duration': compute_time_dict['save_to_csv_duration'], 'Basic Compute Duration': compute_time_dict['basic_compute_duration'], 'True Compute Duration': compute_time_dict['true_compute_duration']}, ignore_index=True)\n"
     ]
    },
    {
     "name": "stdout",
     "output_type": "stream",
     "text": [
      "pq_16_8 Results Saved to CSV!\n",
      "\n",
      "===============================================================\n",
      "Query:  tax analyst for big company\n",
      "PQ Setting:  pq_16_8\n",
      "Total Time Taken:\n",
      "\n",
      "Start Time:  1697269217.745822\n",
      "Compute Similarity Duration:  0.00499415397644043\n",
      "Get Ranking Duration:  0.011286020278930664\n",
      "Save to CSV Duration:  2.0228428840637207\n",
      "Basic Time Duration:  2.039217948913574\n",
      "True Computed Time Duration:  2.039123058319092\n",
      "===============================================================\n",
      "Computing similarity for: software engineer for google or amazon...\n",
      "Getting Query Results Ranking....\n",
      "Top 5 Results:\n",
      "                                                    Data  \\\n",
      "9132  Bookkeeper Title: Bookkeeper Location: Chicago...   \n",
      "5737  Freelance Videographer/ Photographer DESCRIPTI...   \n",
      "1009  Bookkeeper The ideal candidate well organized ...   \n",
      "1007  NetSuite Admin JOB TITLE: NetSuite AdminLOCATI...   \n",
      "2207  Anaplan Lead Developer Hi Hope great today..!!...   \n",
      "\n",
      "                                                 Vector  Distance  \n",
      "9132  [0, 1, 0, 0, 0, 0, 0, 0, 0, 0, 0, 0, 0, 0, 0, ...  35.44928  \n",
      "5737  [0, 0, 0, 0, 0, 0, 0, 0, 0, 0, 0, 0, 0, 0, 0, ...  35.44928  \n",
      "1009  [0, 0, 0, 0, 0, 0, 0, 0, 0, 0, 0, 0, 0, 0, 0, ...  35.44928  \n",
      "1007  [0, 0, 0, 0, 0, 0, 0, 0, 0, 0, 0, 0, 0, 0, 0, ...  35.44928  \n",
      "2207  [0, 0, 0, 0, 0, 0, 0, 0, 0, 0, 0, 0, 0, 0, 0, ...  35.44928  \n",
      "Saving pq_16_8 Results to CSV....\n"
     ]
    },
    {
     "name": "stderr",
     "output_type": "stream",
     "text": [
      "/var/folders/2q/bjqpws1153b0_y18lhffmh_m0000gn/T/ipykernel_42781/686456071.py:14: FutureWarning: The frame.append method is deprecated and will be removed from pandas in a future version. Use pandas.concat instead.\n",
      "  compute_time_df = compute_time_df.append({'Query': query_name, 'PQ Setting': pq_setting, 'Compute Similarity Duration': compute_time_dict['compute_similarity_duration'], 'Get Ranking Duration': compute_time_dict['get_rank_duration'], 'Save to CSV Duration': compute_time_dict['save_to_csv_duration'], 'Basic Compute Duration': compute_time_dict['basic_compute_duration'], 'True Compute Duration': compute_time_dict['true_compute_duration']}, ignore_index=True)\n"
     ]
    },
    {
     "name": "stdout",
     "output_type": "stream",
     "text": [
      "pq_16_8 Results Saved to CSV!\n",
      "\n",
      "===============================================================\n",
      "Query:  software engineer for google or amazon\n",
      "PQ Setting:  pq_16_8\n",
      "Total Time Taken:\n",
      "\n",
      "Start Time:  1697269219.7867131\n",
      "Compute Similarity Duration:  0.0032148361206054688\n",
      "Get Ranking Duration:  0.013835906982421875\n",
      "Save to CSV Duration:  2.2697460651397705\n",
      "Basic Time Duration:  2.2869248390197754\n",
      "True Computed Time Duration:  2.286796808242798\n",
      "===============================================================\n",
      "Computing similarity for: video editor for advertisements with 5 year experience...\n",
      "Getting Query Results Ranking....\n",
      "Top 5 Results:\n",
      "                                                     Data  \\\n",
      "2903   Security Administrator/IT Help Desk We seeking...   \n",
      "884    Sports Statistician Love sports? We're looking...   \n",
      "12702  Acute Care Nurse JOB DESCRIPTION ACUTE CARE RN...   \n",
      "5864   Nurse Practitioner Experience HIV care would g...   \n",
      "12695  Medical Assistant Come join team! We immediate...   \n",
      "\n",
      "                                                  Vector   Distance  \n",
      "2903   [0, 0, 0, 0, 0, 0, 0, 0, 0, 0, 0, 0, 0, 0, 0, ...  34.502983  \n",
      "884    [0, 0, 0, 0, 0, 0, 0, 0, 0, 0, 0, 0, 0, 0, 0, ...  34.502983  \n",
      "12702  [0, 0, 0, 0, 0, 0, 0, 0, 0, 0, 0, 0, 0, 0, 0, ...  34.502983  \n",
      "5864   [0, 0, 0, 0, 0, 0, 0, 0, 0, 0, 0, 0, 0, 0, 0, ...  34.502983  \n",
      "12695  [0, 1, 0, 0, 0, 0, 0, 0, 0, 0, 0, 0, 0, 0, 0, ...  34.502983  \n",
      "Saving pq_16_8 Results to CSV....\n"
     ]
    },
    {
     "name": "stderr",
     "output_type": "stream",
     "text": [
      "/var/folders/2q/bjqpws1153b0_y18lhffmh_m0000gn/T/ipykernel_42781/686456071.py:14: FutureWarning: The frame.append method is deprecated and will be removed from pandas in a future version. Use pandas.concat instead.\n",
      "  compute_time_df = compute_time_df.append({'Query': query_name, 'PQ Setting': pq_setting, 'Compute Similarity Duration': compute_time_dict['compute_similarity_duration'], 'Get Ranking Duration': compute_time_dict['get_rank_duration'], 'Save to CSV Duration': compute_time_dict['save_to_csv_duration'], 'Basic Compute Duration': compute_time_dict['basic_compute_duration'], 'True Compute Duration': compute_time_dict['true_compute_duration']}, ignore_index=True)\n"
     ]
    },
    {
     "name": "stdout",
     "output_type": "stream",
     "text": [
      "pq_16_8 Results Saved to CSV!\n",
      "\n",
      "===============================================================\n",
      "Query:  video editor for advertisements with 5 year experience\n",
      "PQ Setting:  pq_16_8\n",
      "Total Time Taken:\n",
      "\n",
      "Start Time:  1697269222.077486\n",
      "Compute Similarity Duration:  0.00564885139465332\n",
      "Get Ranking Duration:  0.01501607894897461\n",
      "Save to CSV Duration:  2.022534132003784\n",
      "Basic Time Duration:  2.04329776763916\n",
      "True Computed Time Duration:  2.043199062347412\n",
      "===============================================================\n",
      "Computing similarity for: full time senior head nurse position...\n",
      "Getting Query Results Ranking....\n",
      "Top 5 Results:\n",
      "                                                    Data  \\\n",
      "2836  Marketing Director - Hybrid - $95-100k! Help d...   \n",
      "772   Desktop Support Consultant Position: Desktop S...   \n",
      "6103  Cosmetologist/Barber Hair Five-O looking grow ...   \n",
      "6121     Mechanic High ceiling, low risk role make own.   \n",
      "6122  Certified Public Accountant I small landscapin...   \n",
      "\n",
      "                                                 Vector   Distance  \n",
      "2836  [0, 0, 0, 0, 0, 0, 0, 0, 0, 0, 0, 0, 0, 0, 0, ...  33.466244  \n",
      "772   [0, 1, 0, 0, 0, 0, 0, 0, 0, 0, 0, 0, 0, 0, 0, ...  33.466244  \n",
      "6103  [0, 0, 0, 0, 0, 0, 0, 0, 0, 0, 0, 0, 0, 0, 0, ...  33.466244  \n",
      "6121  [0, 0, 0, 0, 0, 0, 0, 0, 0, 0, 0, 0, 0, 0, 0, ...  33.466244  \n",
      "6122  [0, 0, 0, 0, 0, 0, 0, 0, 0, 0, 0, 0, 0, 0, 0, ...  33.466244  \n",
      "Saving pq_16_8 Results to CSV....\n"
     ]
    },
    {
     "name": "stderr",
     "output_type": "stream",
     "text": [
      "/var/folders/2q/bjqpws1153b0_y18lhffmh_m0000gn/T/ipykernel_42781/686456071.py:14: FutureWarning: The frame.append method is deprecated and will be removed from pandas in a future version. Use pandas.concat instead.\n",
      "  compute_time_df = compute_time_df.append({'Query': query_name, 'PQ Setting': pq_setting, 'Compute Similarity Duration': compute_time_dict['compute_similarity_duration'], 'Get Ranking Duration': compute_time_dict['get_rank_duration'], 'Save to CSV Duration': compute_time_dict['save_to_csv_duration'], 'Basic Compute Duration': compute_time_dict['basic_compute_duration'], 'True Compute Duration': compute_time_dict['true_compute_duration']}, ignore_index=True)\n"
     ]
    },
    {
     "name": "stdout",
     "output_type": "stream",
     "text": [
      "pq_16_8 Results Saved to CSV!\n",
      "\n",
      "===============================================================\n",
      "Query:  full time senior head nurse position\n",
      "PQ Setting:  pq_16_8\n",
      "Total Time Taken:\n",
      "\n",
      "Start Time:  1697269224.125237\n",
      "Compute Similarity Duration:  0.004090070724487305\n",
      "Get Ranking Duration:  0.011493921279907227\n",
      "Save to CSV Duration:  1.8814458847045898\n",
      "Basic Time Duration:  1.897125005722046\n",
      "True Computed Time Duration:  1.8970298767089844\n",
      "===============================================================\n",
      "Computing similarity for: after school math and science tutor...\n",
      "Getting Query Results Ranking....\n",
      "Top 5 Results:\n",
      "                                                     Data  \\\n",
      "5615   Dental Assistant Edmond Dental & Implant Assoc...   \n",
      "7132   Day Quad Job Description If active Vivint empl...   \n",
      "12978  Dentist Ohio site next locum tenens assignment...   \n",
      "12977  Dentist The Prairie State Illinois home next l...   \n",
      "2547   Mobile Application Developer hybird mobile app...   \n",
      "\n",
      "                                                  Vector   Distance  \n",
      "5615   [0, 0, 0, 0, 0, 0, 0, 0, 0, 0, 0, 0, 0, 0, 0, ...  35.750931  \n",
      "7132   [0, 0, 0, 0, 0, 0, 0, 0, 0, 0, 0, 0, 0, 0, 0, ...  35.750931  \n",
      "12978  [0, 0, 0, 0, 0, 0, 0, 0, 0, 0, 0, 0, 0, 0, 0, ...  35.750931  \n",
      "12977  [0, 0, 0, 0, 0, 0, 0, 0, 0, 0, 0, 0, 0, 0, 0, ...  35.750931  \n",
      "2547   [0, 0, 0, 0, 0, 0, 0, 0, 0, 0, 0, 0, 0, 0, 0, ...  35.750931  \n",
      "Saving pq_16_8 Results to CSV....\n"
     ]
    },
    {
     "name": "stderr",
     "output_type": "stream",
     "text": [
      "/var/folders/2q/bjqpws1153b0_y18lhffmh_m0000gn/T/ipykernel_42781/686456071.py:14: FutureWarning: The frame.append method is deprecated and will be removed from pandas in a future version. Use pandas.concat instead.\n",
      "  compute_time_df = compute_time_df.append({'Query': query_name, 'PQ Setting': pq_setting, 'Compute Similarity Duration': compute_time_dict['compute_similarity_duration'], 'Get Ranking Duration': compute_time_dict['get_rank_duration'], 'Save to CSV Duration': compute_time_dict['save_to_csv_duration'], 'Basic Compute Duration': compute_time_dict['basic_compute_duration'], 'True Compute Duration': compute_time_dict['true_compute_duration']}, ignore_index=True)\n"
     ]
    },
    {
     "name": "stdout",
     "output_type": "stream",
     "text": [
      "pq_16_8 Results Saved to CSV!\n",
      "\n",
      "===============================================================\n",
      "Query:  after school math and science tutor\n",
      "PQ Setting:  pq_16_8\n",
      "Total Time Taken:\n",
      "\n",
      "Start Time:  1697269226.0257568\n",
      "Compute Similarity Duration:  0.0035860538482666016\n",
      "Get Ranking Duration:  0.012609004974365234\n",
      "Save to CSV Duration:  2.0807251930236816\n",
      "Basic Time Duration:  2.0970141887664795\n",
      "True Computed Time Duration:  2.0969202518463135\n",
      "===============================================================\n",
      "Computing similarity for: dietitian for professional atheletes...\n",
      "Getting Query Results Ranking....\n",
      "Top 5 Results:\n",
      "                                                     Data  \\\n",
      "5707   Special Project Sales One -off sales award pro...   \n",
      "5793   Real Estate Agent Residential real estate sale...   \n",
      "12379  Junior gazdasági szakértő Feladatok Havi üzlet...   \n",
      "2164   Receptionist & Admin Position: Receptionist & ...   \n",
      "962    Automation Technician • Technical career relat...   \n",
      "\n",
      "                                                  Vector   Distance  \n",
      "5707   [0, 0, 0, 0, 0, 0, 0, 0, 0, 0, 0, 0, 0, 0, 0, ...  33.181667  \n",
      "5793   [0, 0, 0, 0, 0, 0, 0, 0, 0, 0, 0, 0, 0, 0, 0, ...  33.181667  \n",
      "12379  [0, 0, 0, 0, 0, 0, 0, 0, 0, 0, 0, 0, 0, 0, 0, ...  33.181667  \n",
      "2164   [0, 0, 0, 0, 0, 0, 0, 0, 0, 0, 0, 0, 0, 0, 0, ...  33.181667  \n",
      "962    [0, 0, 0, 0, 0, 0, 0, 0, 0, 0, 0, 0, 0, 0, 0, ...  33.181667  \n",
      "Saving pq_16_8 Results to CSV....\n"
     ]
    },
    {
     "name": "stderr",
     "output_type": "stream",
     "text": [
      "/var/folders/2q/bjqpws1153b0_y18lhffmh_m0000gn/T/ipykernel_42781/686456071.py:14: FutureWarning: The frame.append method is deprecated and will be removed from pandas in a future version. Use pandas.concat instead.\n",
      "  compute_time_df = compute_time_df.append({'Query': query_name, 'PQ Setting': pq_setting, 'Compute Similarity Duration': compute_time_dict['compute_similarity_duration'], 'Get Ranking Duration': compute_time_dict['get_rank_duration'], 'Save to CSV Duration': compute_time_dict['save_to_csv_duration'], 'Basic Compute Duration': compute_time_dict['basic_compute_duration'], 'True Compute Duration': compute_time_dict['true_compute_duration']}, ignore_index=True)\n"
     ]
    },
    {
     "name": "stdout",
     "output_type": "stream",
     "text": [
      "pq_16_8 Results Saved to CSV!\n",
      "\n",
      "===============================================================\n",
      "Query:  dietitian for professional atheletes\n",
      "PQ Setting:  pq_16_8\n",
      "Total Time Taken:\n",
      "\n",
      "Start Time:  1697269228.124497\n",
      "Compute Similarity Duration:  0.0031049251556396484\n",
      "Get Ranking Duration:  0.011660099029541016\n",
      "Save to CSV Duration:  1.9028348922729492\n",
      "Basic Time Duration:  1.9177069664001465\n",
      "True Computed Time Duration:  1.9175999164581299\n",
      "===============================================================\n",
      "Computing similarity for: costume designer and makeup artist...\n",
      "Getting Query Results Ranking....\n",
      "Top 5 Results:\n",
      "                                                    Data  \\\n",
      "668   Accounting Clerk Vaco Richmond recruiting Acco...   \n",
      "687   Outreach Executive The Outreach Executive (OE)...   \n",
      "2184  Career Coach https://cclbcorps.isolvedhire.com...   \n",
      "1857  Recreation Therapist Tips: Provide summary rol...   \n",
      "690   Sports Statistician Love sports? We're looking...   \n",
      "\n",
      "                                                 Vector   Distance  \n",
      "668   [0, 0, 0, 0, 0, 0, 0, 0, 0, 0, 0, 0, 0, 0, 0, ...  35.456261  \n",
      "687   [0, 0, 0, 0, 0, 0, 0, 0, 0, 0, 0, 0, 0, 0, 0, ...  35.456261  \n",
      "2184  [0, 0, 0, 0, 0, 0, 0, 0, 0, 0, 0, 0, 0, 0, 0, ...  35.456261  \n",
      "1857  [0, 0, 0, 0, 0, 0, 0, 0, 0, 0, 0, 0, 0, 0, 0, ...  35.456261  \n",
      "690   [0, 0, 0, 0, 0, 0, 0, 0, 0, 0, 0, 0, 0, 0, 0, ...  35.456261  \n",
      "Saving pq_16_8 Results to CSV....\n"
     ]
    },
    {
     "name": "stderr",
     "output_type": "stream",
     "text": [
      "/var/folders/2q/bjqpws1153b0_y18lhffmh_m0000gn/T/ipykernel_42781/686456071.py:14: FutureWarning: The frame.append method is deprecated and will be removed from pandas in a future version. Use pandas.concat instead.\n",
      "  compute_time_df = compute_time_df.append({'Query': query_name, 'PQ Setting': pq_setting, 'Compute Similarity Duration': compute_time_dict['compute_similarity_duration'], 'Get Ranking Duration': compute_time_dict['get_rank_duration'], 'Save to CSV Duration': compute_time_dict['save_to_csv_duration'], 'Basic Compute Duration': compute_time_dict['basic_compute_duration'], 'True Compute Duration': compute_time_dict['true_compute_duration']}, ignore_index=True)\n"
     ]
    },
    {
     "name": "stdout",
     "output_type": "stream",
     "text": [
      "pq_16_8 Results Saved to CSV!\n",
      "\n",
      "===============================================================\n",
      "Query:  costume designer and makeup artist\n",
      "PQ Setting:  pq_16_8\n",
      "Total Time Taken:\n",
      "\n",
      "Start Time:  1697269230.044818\n",
      "Compute Similarity Duration:  0.0038230419158935547\n",
      "Get Ranking Duration:  0.011916160583496094\n",
      "Save to CSV Duration:  2.3376529216766357\n",
      "Basic Time Duration:  2.3535220623016357\n",
      "True Computed Time Duration:  2.3533921241760254\n",
      "===============================================================\n",
      "Computing similarity for: resilient investment banker...\n"
     ]
    },
    {
     "name": "stderr",
     "output_type": "stream",
     "text": [
      "/var/folders/2q/bjqpws1153b0_y18lhffmh_m0000gn/T/ipykernel_42781/686456071.py:14: FutureWarning: The frame.append method is deprecated and will be removed from pandas in a future version. Use pandas.concat instead.\n",
      "  compute_time_df = compute_time_df.append({'Query': query_name, 'PQ Setting': pq_setting, 'Compute Similarity Duration': compute_time_dict['compute_similarity_duration'], 'Get Ranking Duration': compute_time_dict['get_rank_duration'], 'Save to CSV Duration': compute_time_dict['save_to_csv_duration'], 'Basic Compute Duration': compute_time_dict['basic_compute_duration'], 'True Compute Duration': compute_time_dict['true_compute_duration']}, ignore_index=True)\n",
      "/var/folders/2q/bjqpws1153b0_y18lhffmh_m0000gn/T/ipykernel_42781/686456071.py:17: FutureWarning: The frame.append method is deprecated and will be removed from pandas in a future version. Use pandas.concat instead.\n",
      "  compute_time_df = compute_time_df.append({'Query': 'Average', 'PQ Setting': pq_setting, 'Compute Similarity Duration': compute_time_df['Compute Similarity Duration'].mean(), 'Get Ranking Duration': compute_time_df['Get Ranking Duration'].mean(), 'Save to CSV Duration': compute_time_df['Save to CSV Duration'].mean(), 'Basic Compute Duration': compute_time_df['Basic Compute Duration'].mean(), 'True Compute Duration': compute_time_df['True Compute Duration'].mean()}, ignore_index=True)\n"
     ]
    },
    {
     "name": "stdout",
     "output_type": "stream",
     "text": [
      "Getting Query Results Ranking....\n",
      "Top 5 Results:\n",
      "                                                     Data  \\\n",
      "7193                        Loan Officer Just go getter!   \n",
      "1563   SAP PP-PI Functional Lead SAP PP-PI Functional...   \n",
      "12829  parts service manager Managing parts area. Thi...   \n",
      "5647   Call Center Representative Essential Functions...   \n",
      "396    Azure Data Engineer Need Genuine candidates so...   \n",
      "\n",
      "                                                  Vector   Distance  \n",
      "7193   [0, 0, 0, 0, 0, 0, 0, 0, 0, 0, 0, 0, 0, 0, 0, ...  24.164684  \n",
      "1563   [0, 0, 0, 0, 0, 0, 0, 0, 0, 0, 0, 0, 0, 0, 0, ...  24.164684  \n",
      "12829  [0, 0, 0, 0, 0, 0, 0, 0, 0, 0, 0, 0, 0, 0, 0, ...  24.164684  \n",
      "5647   [0, 0, 0, 0, 0, 0, 0, 0, 0, 0, 0, 0, 0, 0, 0, ...  24.164684  \n",
      "396    [0, 0, 0, 0, 0, 0, 0, 0, 0, 0, 0, 0, 0, 0, 0, ...  24.164684  \n",
      "Saving pq_16_16 Results to CSV....\n",
      "pq_16_16 Results Saved to CSV!\n",
      "\n",
      "===============================================================\n",
      "Query:  resilient investment banker\n",
      "PQ Setting:  pq_16_16\n",
      "Total Time Taken:\n",
      "\n",
      "Start Time:  1697269232.414536\n",
      "Compute Similarity Duration:  0.3142580986022949\n",
      "Get Ranking Duration:  0.018785715103149414\n",
      "Save to CSV Duration:  2.134359121322632\n",
      "Basic Time Duration:  2.4675118923187256\n",
      "True Computed Time Duration:  2.467402935028076\n",
      "===============================================================\n",
      "Computing similarity for: 2 years experience product manager...\n",
      "Getting Query Results Ranking....\n",
      "Top 5 Results:\n",
      "                                                    Data  \\\n",
      "7169  Body Repair Technician Experienced body techni...   \n",
      "6057  Prosecutor General Successful applicant positi...   \n",
      "3853  Technical Writer Role: Technical Writer– Urgen...   \n",
      "6050                   Esthetician Experience preferred   \n",
      "2438  Production Operations Analyst Our client, chil...   \n",
      "\n",
      "                                                 Vector   Distance  \n",
      "7169  [0, 0, 0, 0, 0, 0, 0, 0, 0, 0, 0, 0, 0, 0, 0, ...  21.094959  \n",
      "6057  [0, 0, 0, 0, 0, 0, 0, 0, 0, 0, 0, 0, 0, 0, 0, ...  21.094959  \n",
      "3853  [0, 0, 0, 0, 0, 0, 0, 0, 0, 0, 0, 0, 0, 0, 0, ...  21.094959  \n",
      "6050  [0, 0, 0, 0, 0, 0, 0, 0, 0, 0, 0, 0, 0, 0, 0, ...  21.094959  \n",
      "2438  [0, 0, 0, 0, 0, 0, 0, 0, 0, 0, 0, 0, 0, 0, 0, ...  21.094959  \n",
      "Saving pq_16_16 Results to CSV....\n"
     ]
    },
    {
     "name": "stderr",
     "output_type": "stream",
     "text": [
      "/var/folders/2q/bjqpws1153b0_y18lhffmh_m0000gn/T/ipykernel_42781/686456071.py:14: FutureWarning: The frame.append method is deprecated and will be removed from pandas in a future version. Use pandas.concat instead.\n",
      "  compute_time_df = compute_time_df.append({'Query': query_name, 'PQ Setting': pq_setting, 'Compute Similarity Duration': compute_time_dict['compute_similarity_duration'], 'Get Ranking Duration': compute_time_dict['get_rank_duration'], 'Save to CSV Duration': compute_time_dict['save_to_csv_duration'], 'Basic Compute Duration': compute_time_dict['basic_compute_duration'], 'True Compute Duration': compute_time_dict['true_compute_duration']}, ignore_index=True)\n"
     ]
    },
    {
     "name": "stdout",
     "output_type": "stream",
     "text": [
      "pq_16_16 Results Saved to CSV!\n",
      "\n",
      "===============================================================\n",
      "Query:  2 years experience product manager\n",
      "PQ Setting:  pq_16_16\n",
      "Total Time Taken:\n",
      "\n",
      "Start Time:  1697269234.884407\n",
      "Compute Similarity Duration:  0.0038988590240478516\n",
      "Get Ranking Duration:  0.014727115631103516\n",
      "Save to CSV Duration:  1.9786720275878906\n",
      "Basic Time Duration:  1.9978899955749512\n",
      "True Computed Time Duration:  1.997298002243042\n",
      "===============================================================\n",
      "Computing similarity for: 10 years risk analyst problem solver...\n",
      "Getting Query Results Ranking....\n",
      "Top 5 Results:\n",
      "                                                     Data  \\\n",
      "1979   Administrative Specialist (TAP) Position Descr...   \n",
      "5594   Automotive Sales Specialists Looking expensive...   \n",
      "1967   Salesperson Duties & Responsibilities:Proficie...   \n",
      "12675  Truss assembler Performs repetitive bench line...   \n",
      "1973   Appointment Setter Job Description: We need ap...   \n",
      "\n",
      "                                                  Vector   Distance  \n",
      "1979   [0, 0, 0, 0, 0, 0, 0, 0, 0, 0, 0, 0, 0, 0, 0, ...  25.104115  \n",
      "5594   [0, 0, 0, 0, 0, 0, 0, 0, 0, 0, 0, 0, 0, 0, 0, ...  25.104115  \n",
      "1967   [0, 0, 0, 0, 0, 0, 0, 0, 0, 0, 0, 0, 0, 0, 0, ...  25.104115  \n",
      "12675  [0, 0, 0, 0, 0, 0, 0, 0, 0, 0, 0, 0, 0, 0, 0, ...  25.104115  \n",
      "1973   [0, 0, 0, 0, 0, 0, 0, 0, 0, 0, 0, 0, 0, 0, 0, ...  25.104115  \n",
      "Saving pq_16_16 Results to CSV....\n"
     ]
    },
    {
     "name": "stderr",
     "output_type": "stream",
     "text": [
      "/var/folders/2q/bjqpws1153b0_y18lhffmh_m0000gn/T/ipykernel_42781/686456071.py:14: FutureWarning: The frame.append method is deprecated and will be removed from pandas in a future version. Use pandas.concat instead.\n",
      "  compute_time_df = compute_time_df.append({'Query': query_name, 'PQ Setting': pq_setting, 'Compute Similarity Duration': compute_time_dict['compute_similarity_duration'], 'Get Ranking Duration': compute_time_dict['get_rank_duration'], 'Save to CSV Duration': compute_time_dict['save_to_csv_duration'], 'Basic Compute Duration': compute_time_dict['basic_compute_duration'], 'True Compute Duration': compute_time_dict['true_compute_duration']}, ignore_index=True)\n"
     ]
    },
    {
     "name": "stdout",
     "output_type": "stream",
     "text": [
      "pq_16_16 Results Saved to CSV!\n",
      "\n",
      "===============================================================\n",
      "Query:  10 years risk analyst problem solver\n",
      "PQ Setting:  pq_16_16\n",
      "Total Time Taken:\n",
      "\n",
      "Start Time:  1697269236.8881521\n",
      "Compute Similarity Duration:  0.006088972091674805\n",
      "Get Ranking Duration:  0.01648998260498047\n",
      "Save to CSV Duration:  2.0370259284973145\n",
      "Basic Time Duration:  2.0597078800201416\n",
      "True Computed Time Duration:  2.0596048831939697\n",
      "===============================================================\n",
      "Computing similarity for: tax analyst for big company...\n",
      "Getting Query Results Ranking....\n",
      "Top 5 Results:\n",
      "                                                     Data  \\\n",
      "7155   Sales Executive Owner Direct Construction tier...   \n",
      "1563   SAP PP-PI Functional Lead SAP PP-PI Functional...   \n",
      "12829  parts service manager Managing parts area. Thi...   \n",
      "5647   Call Center Representative Essential Functions...   \n",
      "396    Azure Data Engineer Need Genuine candidates so...   \n",
      "\n",
      "                                                  Vector   Distance  \n",
      "7155   [0, 0, 0, 0, 0, 0, 0, 0, 0, 0, 0, 0, 0, 0, 0, ...  24.988281  \n",
      "1563   [0, 0, 0, 0, 0, 0, 0, 0, 0, 0, 0, 0, 0, 0, 0, ...  24.988281  \n",
      "12829  [0, 0, 0, 0, 0, 0, 0, 0, 0, 0, 0, 0, 0, 0, 0, ...  24.988281  \n",
      "5647   [0, 0, 0, 0, 0, 0, 0, 0, 0, 0, 0, 0, 0, 0, 0, ...  24.988281  \n",
      "396    [0, 0, 0, 0, 0, 0, 0, 0, 0, 0, 0, 0, 0, 0, 0, ...  24.988281  \n",
      "Saving pq_16_16 Results to CSV....\n"
     ]
    },
    {
     "name": "stderr",
     "output_type": "stream",
     "text": [
      "/var/folders/2q/bjqpws1153b0_y18lhffmh_m0000gn/T/ipykernel_42781/686456071.py:14: FutureWarning: The frame.append method is deprecated and will be removed from pandas in a future version. Use pandas.concat instead.\n",
      "  compute_time_df = compute_time_df.append({'Query': query_name, 'PQ Setting': pq_setting, 'Compute Similarity Duration': compute_time_dict['compute_similarity_duration'], 'Get Ranking Duration': compute_time_dict['get_rank_duration'], 'Save to CSV Duration': compute_time_dict['save_to_csv_duration'], 'Basic Compute Duration': compute_time_dict['basic_compute_duration'], 'True Compute Duration': compute_time_dict['true_compute_duration']}, ignore_index=True)\n"
     ]
    },
    {
     "name": "stdout",
     "output_type": "stream",
     "text": [
      "pq_16_16 Results Saved to CSV!\n",
      "\n",
      "===============================================================\n",
      "Query:  tax analyst for big company\n",
      "PQ Setting:  pq_16_16\n",
      "Total Time Taken:\n",
      "\n",
      "Start Time:  1697269238.9504168\n",
      "Compute Similarity Duration:  0.003961086273193359\n",
      "Get Ranking Duration:  0.009835004806518555\n",
      "Save to CSV Duration:  1.9818191528320312\n",
      "Basic Time Duration:  1.995793342590332\n",
      "True Computed Time Duration:  1.9956152439117432\n",
      "===============================================================\n",
      "Computing similarity for: software engineer for google or amazon...\n",
      "Getting Query Results Ranking....\n",
      "Top 5 Results:\n",
      "                                                     Data  \\\n",
      "13315  Audit Partner Our local/regional public accoun...   \n",
      "2383   Dump Truck Driver 3 year experience,CDL,clean ...   \n",
      "6370   District Sales Manager Existing District Manag...   \n",
      "3622   Senior Dynamics 365 CRM Engineer All Stem hiri...   \n",
      "396    Azure Data Engineer Need Genuine candidates so...   \n",
      "\n",
      "                                                  Vector   Distance  \n",
      "13315  [0, 0, 0, 0, 0, 0, 0, 0, 0, 0, 0, 0, 0, 0, 0, ...  25.703197  \n",
      "2383   [0, 0, 0, 0, 0, 0, 0, 0, 0, 0, 0, 0, 0, 0, 0, ...  25.703197  \n",
      "6370   [0, 0, 0, 0, 0, 0, 0, 0, 0, 0, 0, 0, 0, 0, 0, ...  25.703197  \n",
      "3622   [0, 0, 0, 0, 0, 0, 0, 0, 0, 0, 0, 0, 0, 0, 0, ...  25.703197  \n",
      "396    [0, 0, 0, 0, 0, 0, 0, 0, 0, 0, 0, 0, 0, 0, 0, ...  25.703197  \n",
      "Saving pq_16_16 Results to CSV....\n"
     ]
    },
    {
     "name": "stderr",
     "output_type": "stream",
     "text": [
      "/var/folders/2q/bjqpws1153b0_y18lhffmh_m0000gn/T/ipykernel_42781/686456071.py:14: FutureWarning: The frame.append method is deprecated and will be removed from pandas in a future version. Use pandas.concat instead.\n",
      "  compute_time_df = compute_time_df.append({'Query': query_name, 'PQ Setting': pq_setting, 'Compute Similarity Duration': compute_time_dict['compute_similarity_duration'], 'Get Ranking Duration': compute_time_dict['get_rank_duration'], 'Save to CSV Duration': compute_time_dict['save_to_csv_duration'], 'Basic Compute Duration': compute_time_dict['basic_compute_duration'], 'True Compute Duration': compute_time_dict['true_compute_duration']}, ignore_index=True)\n"
     ]
    },
    {
     "name": "stdout",
     "output_type": "stream",
     "text": [
      "pq_16_16 Results Saved to CSV!\n",
      "\n",
      "===============================================================\n",
      "Query:  software engineer for google or amazon\n",
      "PQ Setting:  pq_16_16\n",
      "Total Time Taken:\n",
      "\n",
      "Start Time:  1697269240.949742\n",
      "Compute Similarity Duration:  0.006078958511352539\n",
      "Get Ranking Duration:  0.01326894760131836\n",
      "Save to CSV Duration:  1.857206106185913\n",
      "Basic Time Duration:  1.8766570091247559\n",
      "True Computed Time Duration:  1.876554012298584\n",
      "===============================================================\n",
      "Computing similarity for: video editor for advertisements with 5 year experience...\n",
      "Getting Query Results Ranking....\n",
      "Top 5 Results:\n",
      "                                                    Data  \\\n",
      "608   Frontend React developer(10+ years) Java Scrip...   \n",
      "4771  Underwriter Role: Underwriting/Actuarial Exper...   \n",
      "631   FEA Simulation Engineer Role: FEA Simulation E...   \n",
      "3306  Mechanical Engineer Are skilled innovative Mec...   \n",
      "6303  Branch Office Administrator Administrative, ma...   \n",
      "\n",
      "                                                 Vector   Distance  \n",
      "608   [0, 0, 0, 0, 0, 0, 0, 0, 0, 0, 0, 0, 0, 0, 0, ...  25.270029  \n",
      "4771  [0, 0, 0, 0, 0, 0, 0, 0, 0, 0, 0, 0, 0, 0, 0, ...  25.270029  \n",
      "631   [0, 0, 0, 0, 0, 0, 0, 0, 0, 0, 0, 0, 0, 0, 0, ...  25.270029  \n",
      "3306  [0, 0, 0, 0, 0, 0, 0, 0, 0, 0, 0, 0, 0, 0, 0, ...  25.270029  \n",
      "6303  [0, 0, 0, 0, 0, 0, 0, 0, 0, 0, 0, 0, 0, 0, 0, ...  25.270029  \n",
      "Saving pq_16_16 Results to CSV....\n"
     ]
    },
    {
     "name": "stderr",
     "output_type": "stream",
     "text": [
      "/var/folders/2q/bjqpws1153b0_y18lhffmh_m0000gn/T/ipykernel_42781/686456071.py:14: FutureWarning: The frame.append method is deprecated and will be removed from pandas in a future version. Use pandas.concat instead.\n",
      "  compute_time_df = compute_time_df.append({'Query': query_name, 'PQ Setting': pq_setting, 'Compute Similarity Duration': compute_time_dict['compute_similarity_duration'], 'Get Ranking Duration': compute_time_dict['get_rank_duration'], 'Save to CSV Duration': compute_time_dict['save_to_csv_duration'], 'Basic Compute Duration': compute_time_dict['basic_compute_duration'], 'True Compute Duration': compute_time_dict['true_compute_duration']}, ignore_index=True)\n"
     ]
    },
    {
     "name": "stdout",
     "output_type": "stream",
     "text": [
      "pq_16_16 Results Saved to CSV!\n",
      "\n",
      "===============================================================\n",
      "Query:  video editor for advertisements with 5 year experience\n",
      "PQ Setting:  pq_16_16\n",
      "Total Time Taken:\n",
      "\n",
      "Start Time:  1697269242.828452\n",
      "Compute Similarity Duration:  0.005371809005737305\n",
      "Get Ranking Duration:  0.011918067932128906\n",
      "Save to CSV Duration:  1.8750109672546387\n",
      "Basic Time Duration:  1.8924059867858887\n",
      "True Computed Time Duration:  1.8923008441925049\n",
      "===============================================================\n",
      "Computing similarity for: full time senior head nurse position...\n",
      "Getting Query Results Ranking....\n",
      "Top 5 Results:\n",
      "                                                     Data  \\\n",
      "12379  Junior gazdasági szakértő Feladatok Havi üzlet...   \n",
      "7528   SOT infra Splunk Admin Hi,Hope well,We opportu...   \n",
      "9862   Program Manager Job Description :Role Name: Pr...   \n",
      "1814   Baker ResponsibilitiesThe Production Baker kit...   \n",
      "3768   Associate Director, Scientific Publications We...   \n",
      "\n",
      "                                                  Vector   Distance  \n",
      "12379  [0, 0, 0, 0, 0, 0, 0, 0, 0, 0, 0, 0, 0, 0, 0, ...  24.444738  \n",
      "7528   [0, 0, 0, 0, 0, 0, 0, 0, 0, 0, 0, 0, 0, 0, 0, ...  24.444738  \n",
      "9862   [0, 0, 0, 0, 0, 0, 0, 0, 0, 0, 0, 0, 0, 0, 0, ...  24.444738  \n",
      "1814   [0, 0, 0, 0, 0, 0, 0, 0, 0, 0, 0, 0, 0, 0, 0, ...  24.444738  \n",
      "3768   [0, 0, 0, 0, 0, 0, 0, 0, 0, 0, 0, 0, 0, 0, 0, ...  24.444738  \n",
      "Saving pq_16_16 Results to CSV....\n"
     ]
    },
    {
     "name": "stderr",
     "output_type": "stream",
     "text": [
      "/var/folders/2q/bjqpws1153b0_y18lhffmh_m0000gn/T/ipykernel_42781/686456071.py:14: FutureWarning: The frame.append method is deprecated and will be removed from pandas in a future version. Use pandas.concat instead.\n",
      "  compute_time_df = compute_time_df.append({'Query': query_name, 'PQ Setting': pq_setting, 'Compute Similarity Duration': compute_time_dict['compute_similarity_duration'], 'Get Ranking Duration': compute_time_dict['get_rank_duration'], 'Save to CSV Duration': compute_time_dict['save_to_csv_duration'], 'Basic Compute Duration': compute_time_dict['basic_compute_duration'], 'True Compute Duration': compute_time_dict['true_compute_duration']}, ignore_index=True)\n"
     ]
    },
    {
     "name": "stdout",
     "output_type": "stream",
     "text": [
      "pq_16_16 Results Saved to CSV!\n",
      "\n",
      "===============================================================\n",
      "Query:  full time senior head nurse position\n",
      "PQ Setting:  pq_16_16\n",
      "Total Time Taken:\n",
      "\n",
      "Start Time:  1697269244.72335\n",
      "Compute Similarity Duration:  0.0058307647705078125\n",
      "Get Ranking Duration:  0.008599042892456055\n",
      "Save to CSV Duration:  1.8278121948242188\n",
      "Basic Time Duration:  1.8424019813537598\n",
      "True Computed Time Duration:  1.8422420024871826\n",
      "===============================================================\n",
      "Computing similarity for: after school math and science tutor...\n",
      "Getting Query Results Ranking....\n",
      "Top 5 Results:\n",
      "                                                     Data  \\\n",
      "878    Property Accountant Our client, growing proper...   \n",
      "5262   Tanzu Developer 1. Good knowledge GCP GCP netw...   \n",
      "11309  BI Publisher (w/ PowerApps & PowerAutomate) Ti...   \n",
      "11311  Emergency Medical Technician Endeavor Emergenc...   \n",
      "14585  Account Manager Our client, national leader fi...   \n",
      "\n",
      "                                                  Vector   Distance  \n",
      "878    [0, 0, 0, 0, 0, 0, 0, 0, 0, 0, 0, 0, 0, 0, 0, ...  26.042358  \n",
      "5262   [0, 0, 0, 0, 0, 0, 0, 0, 0, 0, 0, 0, 0, 0, 0, ...  26.042358  \n",
      "11309  [0, 0, 0, 0, 0, 0, 0, 0, 0, 0, 0, 0, 0, 0, 0, ...  26.042358  \n",
      "11311  [0, 0, 0, 0, 0, 0, 0, 0, 0, 0, 0, 0, 0, 0, 0, ...  26.042358  \n",
      "14585  [0, 0, 0, 0, 0, 0, 0, 0, 0, 0, 0, 0, 0, 0, 0, ...  26.042358  \n",
      "Saving pq_16_16 Results to CSV....\n"
     ]
    },
    {
     "name": "stderr",
     "output_type": "stream",
     "text": [
      "/var/folders/2q/bjqpws1153b0_y18lhffmh_m0000gn/T/ipykernel_42781/686456071.py:14: FutureWarning: The frame.append method is deprecated and will be removed from pandas in a future version. Use pandas.concat instead.\n",
      "  compute_time_df = compute_time_df.append({'Query': query_name, 'PQ Setting': pq_setting, 'Compute Similarity Duration': compute_time_dict['compute_similarity_duration'], 'Get Ranking Duration': compute_time_dict['get_rank_duration'], 'Save to CSV Duration': compute_time_dict['save_to_csv_duration'], 'Basic Compute Duration': compute_time_dict['basic_compute_duration'], 'True Compute Duration': compute_time_dict['true_compute_duration']}, ignore_index=True)\n"
     ]
    },
    {
     "name": "stdout",
     "output_type": "stream",
     "text": [
      "pq_16_16 Results Saved to CSV!\n",
      "\n",
      "===============================================================\n",
      "Query:  after school math and science tutor\n",
      "PQ Setting:  pq_16_16\n",
      "Total Time Taken:\n",
      "\n",
      "Start Time:  1697269246.5674691\n",
      "Compute Similarity Duration:  0.005457878112792969\n",
      "Get Ranking Duration:  0.01277303695678711\n",
      "Save to CSV Duration:  2.2862558364868164\n",
      "Basic Time Duration:  2.3045859336853027\n",
      "True Computed Time Duration:  2.3044867515563965\n",
      "===============================================================\n",
      "Computing similarity for: dietitian for professional atheletes...\n",
      "Getting Query Results Ranking....\n",
      "Top 5 Results:\n",
      "                                                    Data  \\\n",
      "2625  Director Purchasing Procurement Role: Director...   \n",
      "865   E&S Underwriter, Cannabis Programs, MGA, Remot...   \n",
      "7422  Low voltage installers Installing lo voltage w...   \n",
      "866   Senior Android Developer 🚀 Exciting Opportunit...   \n",
      "7392  LinkedIn Test Vacancy 24/08/2023 TESTTESTTESTT...   \n",
      "\n",
      "                                                 Vector   Distance  \n",
      "2625  [0, 0, 0, 0, 0, 0, 0, 0, 0, 0, 0, 0, 0, 0, 0, ...  23.429344  \n",
      "865   [0, 0, 0, 0, 0, 0, 0, 0, 0, 0, 0, 0, 0, 0, 0, ...  23.429344  \n",
      "7422  [0, 0, 0, 0, 0, 0, 0, 0, 0, 0, 0, 0, 0, 0, 0, ...  23.429344  \n",
      "866   [0, 0, 0, 0, 0, 0, 0, 0, 0, 0, 0, 0, 0, 0, 0, ...  23.429344  \n",
      "7392  [0, 0, 0, 0, 0, 0, 0, 0, 0, 0, 0, 0, 0, 0, 0, ...  23.429344  \n",
      "Saving pq_16_16 Results to CSV....\n"
     ]
    },
    {
     "name": "stderr",
     "output_type": "stream",
     "text": [
      "/var/folders/2q/bjqpws1153b0_y18lhffmh_m0000gn/T/ipykernel_42781/686456071.py:14: FutureWarning: The frame.append method is deprecated and will be removed from pandas in a future version. Use pandas.concat instead.\n",
      "  compute_time_df = compute_time_df.append({'Query': query_name, 'PQ Setting': pq_setting, 'Compute Similarity Duration': compute_time_dict['compute_similarity_duration'], 'Get Ranking Duration': compute_time_dict['get_rank_duration'], 'Save to CSV Duration': compute_time_dict['save_to_csv_duration'], 'Basic Compute Duration': compute_time_dict['basic_compute_duration'], 'True Compute Duration': compute_time_dict['true_compute_duration']}, ignore_index=True)\n"
     ]
    },
    {
     "name": "stdout",
     "output_type": "stream",
     "text": [
      "pq_16_16 Results Saved to CSV!\n",
      "\n",
      "===============================================================\n",
      "Query:  dietitian for professional atheletes\n",
      "PQ Setting:  pq_16_16\n",
      "Total Time Taken:\n",
      "\n",
      "Start Time:  1697269248.874399\n",
      "Compute Similarity Duration:  0.006790876388549805\n",
      "Get Ranking Duration:  0.011690139770507812\n",
      "Save to CSV Duration:  2.1250669956207275\n",
      "Basic Time Duration:  2.14363694190979\n",
      "True Computed Time Duration:  2.143548011779785\n",
      "===============================================================\n",
      "Computing similarity for: costume designer and makeup artist...\n",
      "Getting Query Results Ranking....\n",
      "Top 5 Results:\n",
      "                                                     Data  \\\n",
      "14491  Practice Manager Experience wound care, hyperb...   \n",
      "13093  Behavioral Health Case Manager BA preferred/ H...   \n",
      "558    PL/SQL Lead Hi Associate, Greetings day, We po...   \n",
      "1407   Designer We invite join team Designer rapidly ...   \n",
      "6470   Administrative Project Manager Hiring Administ...   \n",
      "\n",
      "                                                  Vector   Distance  \n",
      "14491  [0, 0, 0, 0, 0, 0, 0, 0, 0, 0, 0, 0, 0, 0, 0, ...  25.634508  \n",
      "13093  [0, 0, 0, 0, 0, 0, 0, 0, 0, 0, 0, 0, 0, 0, 0, ...  25.634508  \n",
      "558    [0, 0, 0, 0, 0, 0, 0, 0, 0, 0, 0, 0, 0, 0, 0, ...  25.634508  \n",
      "1407   [0, 0, 0, 0, 0, 0, 0, 0, 0, 0, 0, 0, 0, 0, 0, ...  25.634508  \n",
      "6470   [0, 0, 0, 0, 0, 0, 0, 0, 0, 0, 0, 0, 0, 0, 0, ...  25.634508  \n",
      "Saving pq_16_16 Results to CSV....\n"
     ]
    },
    {
     "name": "stderr",
     "output_type": "stream",
     "text": [
      "/var/folders/2q/bjqpws1153b0_y18lhffmh_m0000gn/T/ipykernel_42781/686456071.py:14: FutureWarning: The frame.append method is deprecated and will be removed from pandas in a future version. Use pandas.concat instead.\n",
      "  compute_time_df = compute_time_df.append({'Query': query_name, 'PQ Setting': pq_setting, 'Compute Similarity Duration': compute_time_dict['compute_similarity_duration'], 'Get Ranking Duration': compute_time_dict['get_rank_duration'], 'Save to CSV Duration': compute_time_dict['save_to_csv_duration'], 'Basic Compute Duration': compute_time_dict['basic_compute_duration'], 'True Compute Duration': compute_time_dict['true_compute_duration']}, ignore_index=True)\n"
     ]
    },
    {
     "name": "stdout",
     "output_type": "stream",
     "text": [
      "pq_16_16 Results Saved to CSV!\n",
      "\n",
      "===============================================================\n",
      "Query:  costume designer and makeup artist\n",
      "PQ Setting:  pq_16_16\n",
      "Total Time Taken:\n",
      "\n",
      "Start Time:  1697269251.0199418\n",
      "Compute Similarity Duration:  0.005389213562011719\n",
      "Get Ranking Duration:  0.01111292839050293\n",
      "Save to CSV Duration:  1.8772251605987549\n",
      "Basic Time Duration:  1.893887996673584\n",
      "True Computed Time Duration:  1.8937273025512695\n",
      "===============================================================\n",
      "Computing similarity for: resilient investment banker...\n"
     ]
    },
    {
     "name": "stderr",
     "output_type": "stream",
     "text": [
      "/var/folders/2q/bjqpws1153b0_y18lhffmh_m0000gn/T/ipykernel_42781/686456071.py:14: FutureWarning: The frame.append method is deprecated and will be removed from pandas in a future version. Use pandas.concat instead.\n",
      "  compute_time_df = compute_time_df.append({'Query': query_name, 'PQ Setting': pq_setting, 'Compute Similarity Duration': compute_time_dict['compute_similarity_duration'], 'Get Ranking Duration': compute_time_dict['get_rank_duration'], 'Save to CSV Duration': compute_time_dict['save_to_csv_duration'], 'Basic Compute Duration': compute_time_dict['basic_compute_duration'], 'True Compute Duration': compute_time_dict['true_compute_duration']}, ignore_index=True)\n",
      "/var/folders/2q/bjqpws1153b0_y18lhffmh_m0000gn/T/ipykernel_42781/686456071.py:17: FutureWarning: The frame.append method is deprecated and will be removed from pandas in a future version. Use pandas.concat instead.\n",
      "  compute_time_df = compute_time_df.append({'Query': 'Average', 'PQ Setting': pq_setting, 'Compute Similarity Duration': compute_time_df['Compute Similarity Duration'].mean(), 'Get Ranking Duration': compute_time_df['Get Ranking Duration'].mean(), 'Save to CSV Duration': compute_time_df['Save to CSV Duration'].mean(), 'Basic Compute Duration': compute_time_df['Basic Compute Duration'].mean(), 'True Compute Duration': compute_time_df['True Compute Duration'].mean()}, ignore_index=True)\n"
     ]
    },
    {
     "name": "stdout",
     "output_type": "stream",
     "text": [
      "Getting Query Results Ranking....\n",
      "Top 5 Results:\n",
      "                                                     Data  \\\n",
      "3649   Manager, Creative Sync & Licensing Manager, Cr...   \n",
      "12978  Dentist Ohio site next locum tenens assignment...   \n",
      "12977  Dentist The Prairie State Illinois home next l...   \n",
      "14491  Practice Manager Experience wound care, hyperb...   \n",
      "7155   Sales Executive Owner Direct Construction tier...   \n",
      "\n",
      "                                                  Vector   Distance  \n",
      "3649   [0, 0, 0, 0, 0, 0, 0, 0, 0, 0, 0, 0, 0, 0, 0, ...  16.118917  \n",
      "12978  [0, 0, 0, 0, 0, 0, 0, 0, 0, 0, 0, 0, 0, 0, 0, ...  16.118917  \n",
      "12977  [0, 0, 0, 0, 0, 0, 0, 0, 0, 0, 0, 0, 0, 0, 0, ...  16.118917  \n",
      "14491  [0, 0, 0, 0, 0, 0, 0, 0, 0, 0, 0, 0, 0, 0, 0, ...  16.118917  \n",
      "7155   [0, 0, 0, 0, 0, 0, 0, 0, 0, 0, 0, 0, 0, 0, 0, ...  16.118917  \n",
      "Saving pq_16_32 Results to CSV....\n",
      "pq_16_32 Results Saved to CSV!\n",
      "\n",
      "===============================================================\n",
      "Query:  resilient investment banker\n",
      "PQ Setting:  pq_16_32\n",
      "Total Time Taken:\n",
      "\n",
      "Start Time:  1697269252.9246788\n",
      "Compute Similarity Duration:  0.34392499923706055\n",
      "Get Ranking Duration:  0.009451150894165039\n",
      "Save to CSV Duration:  1.929328203201294\n",
      "Basic Time Duration:  2.2828421592712402\n",
      "True Computed Time Duration:  2.2827043533325195\n",
      "===============================================================\n",
      "Computing similarity for: 2 years experience product manager...\n",
      "Getting Query Results Ranking....\n",
      "Top 5 Results:\n",
      "                                                     Data  \\\n",
      "5533   经理 The ideal candidate position succeed role k...   \n",
      "10232  Jr. DevOps Job Title : Jr. DevOpsLocation : Re...   \n",
      "14825  HR Generalist Oilfield services company seekin...   \n",
      "3744   Account Executive Are ambitious, driven passio...   \n",
      "10182  Network Engineer Network Engineer A high-growt...   \n",
      "\n",
      "                                                  Vector   Distance  \n",
      "5533   [0, 0, 0, 0, 0, 0, 0, 0, 0, 0, 0, 0, 0, 0, 0, ...  14.768615  \n",
      "10232  [0, 0, 0, 0, 0, 0, 0, 0, 0, 0, 0, 0, 0, 0, 0, ...  14.768615  \n",
      "14825  [0, 0, 0, 0, 0, 0, 0, 0, 0, 0, 0, 0, 0, 0, 0, ...  14.768615  \n",
      "3744   [0, 0, 0, 0, 0, 0, 0, 0, 0, 0, 0, 0, 0, 0, 0, ...  14.768615  \n",
      "10182  [0, 0, 0, 0, 0, 0, 0, 0, 0, 0, 0, 0, 0, 0, 0, ...  14.768615  \n",
      "Saving pq_16_32 Results to CSV....\n"
     ]
    },
    {
     "name": "stderr",
     "output_type": "stream",
     "text": [
      "/var/folders/2q/bjqpws1153b0_y18lhffmh_m0000gn/T/ipykernel_42781/686456071.py:14: FutureWarning: The frame.append method is deprecated and will be removed from pandas in a future version. Use pandas.concat instead.\n",
      "  compute_time_df = compute_time_df.append({'Query': query_name, 'PQ Setting': pq_setting, 'Compute Similarity Duration': compute_time_dict['compute_similarity_duration'], 'Get Ranking Duration': compute_time_dict['get_rank_duration'], 'Save to CSV Duration': compute_time_dict['save_to_csv_duration'], 'Basic Compute Duration': compute_time_dict['basic_compute_duration'], 'True Compute Duration': compute_time_dict['true_compute_duration']}, ignore_index=True)\n"
     ]
    },
    {
     "name": "stdout",
     "output_type": "stream",
     "text": [
      "pq_16_32 Results Saved to CSV!\n",
      "\n",
      "===============================================================\n",
      "Query:  2 years experience product manager\n",
      "PQ Setting:  pq_16_32\n",
      "Total Time Taken:\n",
      "\n",
      "Start Time:  1697269255.210343\n",
      "Compute Similarity Duration:  0.0076351165771484375\n",
      "Get Ranking Duration:  0.01276397705078125\n",
      "Save to CSV Duration:  2.124861001968384\n",
      "Basic Time Duration:  2.14538311958313\n",
      "True Computed Time Duration:  2.1452600955963135\n",
      "===============================================================\n",
      "Computing similarity for: 10 years risk analyst problem solver...\n",
      "Getting Query Results Ranking....\n",
      "Top 5 Results:\n",
      "                                                     Data  \\\n",
      "14491  Practice Manager Experience wound care, hyperb...   \n",
      "6723   Structures Technician Job Summary Performs rou...   \n",
      "13276  Network Security Engineer Role: Network Securi...   \n",
      "6559   Elementary School Teacher Third grade teacher ...   \n",
      "14787  Office Administrator - KO TA boutique south sh...   \n",
      "\n",
      "                                                  Vector  Distance  \n",
      "14491  [0, 0, 0, 0, 0, 0, 0, 0, 0, 0, 0, 0, 0, 0, 0, ...  17.60088  \n",
      "6723   [0, 0, 0, 0, 0, 0, 0, 0, 0, 0, 0, 0, 0, 0, 0, ...  17.60088  \n",
      "13276  [0, 0, 0, 0, 0, 0, 0, 0, 0, 0, 0, 0, 0, 0, 0, ...  17.60088  \n",
      "6559   [0, 0, 0, 0, 0, 0, 0, 0, 0, 0, 0, 0, 0, 0, 0, ...  17.60088  \n",
      "14787  [0, 0, 0, 0, 0, 0, 0, 0, 0, 0, 0, 0, 0, 0, 0, ...  17.60088  \n",
      "Saving pq_16_32 Results to CSV....\n"
     ]
    },
    {
     "name": "stderr",
     "output_type": "stream",
     "text": [
      "/var/folders/2q/bjqpws1153b0_y18lhffmh_m0000gn/T/ipykernel_42781/686456071.py:14: FutureWarning: The frame.append method is deprecated and will be removed from pandas in a future version. Use pandas.concat instead.\n",
      "  compute_time_df = compute_time_df.append({'Query': query_name, 'PQ Setting': pq_setting, 'Compute Similarity Duration': compute_time_dict['compute_similarity_duration'], 'Get Ranking Duration': compute_time_dict['get_rank_duration'], 'Save to CSV Duration': compute_time_dict['save_to_csv_duration'], 'Basic Compute Duration': compute_time_dict['basic_compute_duration'], 'True Compute Duration': compute_time_dict['true_compute_duration']}, ignore_index=True)\n"
     ]
    },
    {
     "name": "stdout",
     "output_type": "stream",
     "text": [
      "pq_16_32 Results Saved to CSV!\n",
      "\n",
      "===============================================================\n",
      "Query:  10 years risk analyst problem solver\n",
      "PQ Setting:  pq_16_32\n",
      "Total Time Taken:\n",
      "\n",
      "Start Time:  1697269257.358468\n",
      "Compute Similarity Duration:  0.006342887878417969\n",
      "Get Ranking Duration:  0.01058506965637207\n",
      "Save to CSV Duration:  1.9519031047821045\n",
      "Basic Time Duration:  1.96897292137146\n",
      "True Computed Time Duration:  1.9688310623168945\n",
      "===============================================================\n",
      "Computing similarity for: tax analyst for big company...\n",
      "Getting Query Results Ranking....\n",
      "Top 5 Results:\n",
      "                                                     Data  \\\n",
      "10126                                Paralegal Paralegal   \n",
      "328    Real Estate Broker Agent's Get IT! MORE COMPEN...   \n",
      "4675   Corporate Associate Our practice focuses late ...   \n",
      "6723   Structures Technician Job Summary Performs rou...   \n",
      "825    Preschool Teacher (Spanish/ English) Bloom Ear...   \n",
      "\n",
      "                                                  Vector   Distance  \n",
      "10126  [0, 0, 0, 0, 0, 0, 0, 0, 0, 0, 0, 0, 0, 0, 0, ...  17.164713  \n",
      "328    [0, 0, 0, 0, 0, 0, 0, 0, 0, 0, 0, 0, 0, 0, 0, ...  17.164713  \n",
      "4675   [0, 0, 0, 0, 0, 0, 0, 0, 0, 0, 0, 0, 0, 0, 0, ...  17.164713  \n",
      "6723   [0, 0, 0, 0, 0, 0, 0, 0, 0, 0, 0, 0, 0, 0, 0, ...  17.164713  \n",
      "825    [1, 0, 0, 0, 0, 0, 0, 0, 0, 0, 0, 0, 0, 0, 0, ...  17.164713  \n",
      "Saving pq_16_32 Results to CSV....\n"
     ]
    },
    {
     "name": "stderr",
     "output_type": "stream",
     "text": [
      "/var/folders/2q/bjqpws1153b0_y18lhffmh_m0000gn/T/ipykernel_42781/686456071.py:14: FutureWarning: The frame.append method is deprecated and will be removed from pandas in a future version. Use pandas.concat instead.\n",
      "  compute_time_df = compute_time_df.append({'Query': query_name, 'PQ Setting': pq_setting, 'Compute Similarity Duration': compute_time_dict['compute_similarity_duration'], 'Get Ranking Duration': compute_time_dict['get_rank_duration'], 'Save to CSV Duration': compute_time_dict['save_to_csv_duration'], 'Basic Compute Duration': compute_time_dict['basic_compute_duration'], 'True Compute Duration': compute_time_dict['true_compute_duration']}, ignore_index=True)\n"
     ]
    },
    {
     "name": "stdout",
     "output_type": "stream",
     "text": [
      "pq_16_32 Results Saved to CSV!\n",
      "\n",
      "===============================================================\n",
      "Query:  tax analyst for big company\n",
      "PQ Setting:  pq_16_32\n",
      "Total Time Taken:\n",
      "\n",
      "Start Time:  1697269259.33122\n",
      "Compute Similarity Duration:  0.005941152572631836\n",
      "Get Ranking Duration:  0.014412879943847656\n",
      "Save to CSV Duration:  2.375731945037842\n",
      "Basic Time Duration:  2.3961760997772217\n",
      "True Computed Time Duration:  2.3960859775543213\n",
      "===============================================================\n",
      "Computing similarity for: software engineer for google or amazon...\n",
      "Getting Query Results Ranking....\n",
      "Top 5 Results:\n",
      "                                                     Data  \\\n",
      "4394   Junior Architect looking smart, self starter l...   \n",
      "7155   Sales Executive Owner Direct Construction tier...   \n",
      "10232  Jr. DevOps Job Title : Jr. DevOpsLocation : Re...   \n",
      "5922   BI Developer Job Title: BI Developer (Remote)L...   \n",
      "6041   Mathematics Teacher Global Impact Academy look...   \n",
      "\n",
      "                                                  Vector  Distance  \n",
      "4394   [0, 0, 0, 0, 0, 0, 0, 0, 0, 0, 0, 0, 0, 0, 0, ...  17.89459  \n",
      "7155   [0, 0, 0, 0, 0, 0, 0, 0, 0, 0, 0, 0, 0, 0, 0, ...  17.89459  \n",
      "10232  [0, 0, 0, 0, 0, 0, 0, 0, 0, 0, 0, 0, 0, 0, 0, ...  17.89459  \n",
      "5922   [0, 0, 0, 0, 0, 0, 0, 0, 0, 0, 0, 0, 0, 0, 0, ...  17.89459  \n",
      "6041   [0, 0, 0, 0, 0, 0, 0, 0, 0, 0, 0, 0, 0, 0, 0, ...  17.89459  \n",
      "Saving pq_16_32 Results to CSV....\n"
     ]
    },
    {
     "name": "stderr",
     "output_type": "stream",
     "text": [
      "/var/folders/2q/bjqpws1153b0_y18lhffmh_m0000gn/T/ipykernel_42781/686456071.py:14: FutureWarning: The frame.append method is deprecated and will be removed from pandas in a future version. Use pandas.concat instead.\n",
      "  compute_time_df = compute_time_df.append({'Query': query_name, 'PQ Setting': pq_setting, 'Compute Similarity Duration': compute_time_dict['compute_similarity_duration'], 'Get Ranking Duration': compute_time_dict['get_rank_duration'], 'Save to CSV Duration': compute_time_dict['save_to_csv_duration'], 'Basic Compute Duration': compute_time_dict['basic_compute_duration'], 'True Compute Duration': compute_time_dict['true_compute_duration']}, ignore_index=True)\n"
     ]
    },
    {
     "name": "stdout",
     "output_type": "stream",
     "text": [
      "pq_16_32 Results Saved to CSV!\n",
      "\n",
      "===============================================================\n",
      "Query:  software engineer for google or amazon\n",
      "PQ Setting:  pq_16_32\n",
      "Total Time Taken:\n",
      "\n",
      "Start Time:  1697269261.729096\n",
      "Compute Similarity Duration:  0.010844230651855469\n",
      "Get Ranking Duration:  0.009883880615234375\n",
      "Save to CSV Duration:  1.704521894454956\n",
      "Basic Time Duration:  1.7253921031951904\n",
      "True Computed Time Duration:  1.725250005722046\n",
      "===============================================================\n",
      "Computing similarity for: video editor for advertisements with 5 year experience...\n",
      "Getting Query Results Ranking....\n",
      "Top 5 Results:\n",
      "                                                    Data  \\\n",
      "1011  CYF Ministry Director This passionate person l...   \n",
      "5710  Medical Secretary Patient check out, schedulin...   \n",
      "4231  Installation Technician Responsibilities inclu...   \n",
      "5709  Real Estate Agent The ideal candidate responsi...   \n",
      "5707  Special Project Sales One -off sales award pro...   \n",
      "\n",
      "                                                 Vector  Distance  \n",
      "1011  [0, 0, 0, 0, 0, 0, 0, 0, 0, 0, 0, 0, 0, 0, 0, ...  18.54245  \n",
      "5710  [0, 0, 0, 0, 0, 0, 0, 0, 0, 0, 0, 0, 0, 0, 0, ...  18.54245  \n",
      "4231  [0, 0, 0, 0, 0, 0, 0, 0, 0, 0, 0, 0, 0, 0, 0, ...  18.54245  \n",
      "5709  [0, 0, 0, 0, 0, 0, 0, 0, 0, 0, 0, 0, 0, 0, 0, ...  18.54245  \n",
      "5707  [0, 0, 0, 0, 0, 0, 0, 0, 0, 0, 0, 0, 0, 0, 0, ...  18.54245  \n",
      "Saving pq_16_32 Results to CSV....\n"
     ]
    },
    {
     "name": "stderr",
     "output_type": "stream",
     "text": [
      "/var/folders/2q/bjqpws1153b0_y18lhffmh_m0000gn/T/ipykernel_42781/686456071.py:14: FutureWarning: The frame.append method is deprecated and will be removed from pandas in a future version. Use pandas.concat instead.\n",
      "  compute_time_df = compute_time_df.append({'Query': query_name, 'PQ Setting': pq_setting, 'Compute Similarity Duration': compute_time_dict['compute_similarity_duration'], 'Get Ranking Duration': compute_time_dict['get_rank_duration'], 'Save to CSV Duration': compute_time_dict['save_to_csv_duration'], 'Basic Compute Duration': compute_time_dict['basic_compute_duration'], 'True Compute Duration': compute_time_dict['true_compute_duration']}, ignore_index=True)\n"
     ]
    },
    {
     "name": "stdout",
     "output_type": "stream",
     "text": [
      "pq_16_32 Results Saved to CSV!\n",
      "\n",
      "===============================================================\n",
      "Query:  video editor for advertisements with 5 year experience\n",
      "PQ Setting:  pq_16_32\n",
      "Total Time Taken:\n",
      "\n",
      "Start Time:  1697269263.45699\n",
      "Compute Similarity Duration:  0.006743907928466797\n",
      "Get Ranking Duration:  0.009018182754516602\n",
      "Save to CSV Duration:  1.8935399055480957\n",
      "Basic Time Duration:  1.9093959331512451\n",
      "True Computed Time Duration:  1.909301996231079\n",
      "===============================================================\n",
      "Computing similarity for: full time senior head nurse position...\n",
      "Getting Query Results Ranking....\n",
      "Top 5 Results:\n",
      "                                                     Data  \\\n",
      "6774   Account Executive communicationn grant writing...   \n",
      "11338  Account Executive This position requires compl...   \n",
      "14003  Route Sales Representative https://www.paycomo...   \n",
      "517    Vice President Food & Beverage- Fine Dining Th...   \n",
      "3495   Sr. Software (Firmware) Engineer Role: Sr. Sof...   \n",
      "\n",
      "                                                  Vector   Distance  \n",
      "6774   [0, 0, 0, 0, 0, 0, 0, 0, 0, 0, 0, 0, 0, 0, 0, ...  17.446693  \n",
      "11338  [0, 0, 0, 0, 0, 0, 0, 0, 0, 0, 0, 0, 0, 0, 0, ...  17.446693  \n",
      "14003  [0, 0, 0, 0, 0, 0, 0, 0, 0, 0, 0, 0, 0, 0, 0, ...  17.446693  \n",
      "517    [0, 0, 0, 0, 0, 0, 0, 0, 0, 0, 0, 0, 0, 0, 0, ...  17.446693  \n",
      "3495   [0, 0, 0, 0, 0, 0, 0, 0, 0, 0, 0, 0, 0, 0, 0, ...  17.446693  \n",
      "Saving pq_16_32 Results to CSV....\n"
     ]
    },
    {
     "name": "stderr",
     "output_type": "stream",
     "text": [
      "/var/folders/2q/bjqpws1153b0_y18lhffmh_m0000gn/T/ipykernel_42781/686456071.py:14: FutureWarning: The frame.append method is deprecated and will be removed from pandas in a future version. Use pandas.concat instead.\n",
      "  compute_time_df = compute_time_df.append({'Query': query_name, 'PQ Setting': pq_setting, 'Compute Similarity Duration': compute_time_dict['compute_similarity_duration'], 'Get Ranking Duration': compute_time_dict['get_rank_duration'], 'Save to CSV Duration': compute_time_dict['save_to_csv_duration'], 'Basic Compute Duration': compute_time_dict['basic_compute_duration'], 'True Compute Duration': compute_time_dict['true_compute_duration']}, ignore_index=True)\n"
     ]
    },
    {
     "name": "stdout",
     "output_type": "stream",
     "text": [
      "pq_16_32 Results Saved to CSV!\n",
      "\n",
      "===============================================================\n",
      "Query:  full time senior head nurse position\n",
      "PQ Setting:  pq_16_32\n",
      "Total Time Taken:\n",
      "\n",
      "Start Time:  1697269265.3682098\n",
      "Compute Similarity Duration:  0.007777214050292969\n",
      "Get Ranking Duration:  0.010934829711914062\n",
      "Save to CSV Duration:  1.7996649742126465\n",
      "Basic Time Duration:  1.8184711933135986\n",
      "True Computed Time Duration:  1.8183770179748535\n",
      "===============================================================\n",
      "Computing similarity for: after school math and science tutor...\n",
      "Getting Query Results Ranking....\n",
      "Top 5 Results:\n",
      "                                                    Data  \\\n",
      "475   Creative, Elevated Executive Chef We looking c...   \n",
      "5513  Engineer We’re hunt professionals Engineering ...   \n",
      "7298                    Analyst Communications Director   \n",
      "6050                   Esthetician Experience preferred   \n",
      "6872            Manager new location. looking positions   \n",
      "\n",
      "                                                 Vector   Distance  \n",
      "475   [0, 0, 0, 0, 0, 0, 0, 0, 0, 0, 0, 0, 0, 0, 0, ...  18.106575  \n",
      "5513  [0, 0, 0, 0, 0, 0, 0, 0, 0, 0, 0, 0, 0, 0, 0, ...  18.106575  \n",
      "7298  [0, 0, 0, 0, 0, 0, 0, 0, 0, 0, 0, 0, 0, 0, 0, ...  18.106575  \n",
      "6050  [0, 0, 0, 0, 0, 0, 0, 0, 0, 0, 0, 0, 0, 0, 0, ...  18.106575  \n",
      "6872  [0, 0, 0, 0, 0, 0, 0, 0, 0, 0, 0, 0, 0, 0, 0, ...  18.106575  \n",
      "Saving pq_16_32 Results to CSV....\n"
     ]
    },
    {
     "name": "stderr",
     "output_type": "stream",
     "text": [
      "/var/folders/2q/bjqpws1153b0_y18lhffmh_m0000gn/T/ipykernel_42781/686456071.py:14: FutureWarning: The frame.append method is deprecated and will be removed from pandas in a future version. Use pandas.concat instead.\n",
      "  compute_time_df = compute_time_df.append({'Query': query_name, 'PQ Setting': pq_setting, 'Compute Similarity Duration': compute_time_dict['compute_similarity_duration'], 'Get Ranking Duration': compute_time_dict['get_rank_duration'], 'Save to CSV Duration': compute_time_dict['save_to_csv_duration'], 'Basic Compute Duration': compute_time_dict['basic_compute_duration'], 'True Compute Duration': compute_time_dict['true_compute_duration']}, ignore_index=True)\n"
     ]
    },
    {
     "name": "stdout",
     "output_type": "stream",
     "text": [
      "pq_16_32 Results Saved to CSV!\n",
      "\n",
      "===============================================================\n",
      "Query:  after school math and science tutor\n",
      "PQ Setting:  pq_16_32\n",
      "Total Time Taken:\n",
      "\n",
      "Start Time:  1697269267.188656\n",
      "Compute Similarity Duration:  0.006445884704589844\n",
      "Get Ranking Duration:  0.011611223220825195\n",
      "Save to CSV Duration:  2.1580588817596436\n",
      "Basic Time Duration:  2.176255941390991\n",
      "True Computed Time Duration:  2.1761159896850586\n",
      "===============================================================\n",
      "Computing similarity for: dietitian for professional atheletes...\n",
      "Getting Query Results Ranking....\n",
      "Top 5 Results:\n",
      "                                                     Data  \\\n",
      "13963  Financial Consultant, Financial Professional, ...   \n",
      "15069  Installation Technician Installation Technicia...   \n",
      "928    Workday Testing Lead (Payroll) BGSF currently ...   \n",
      "2164   Receptionist & Admin Position: Receptionist & ...   \n",
      "4277                  Salesperson 3+ years outside sales   \n",
      "\n",
      "                                                  Vector  Distance  \n",
      "13963  [0, 0, 0, 0, 0, 0, 0, 0, 0, 0, 0, 0, 0, 0, 0, ...  15.60128  \n",
      "15069  [0, 0, 0, 0, 0, 0, 0, 0, 0, 0, 0, 0, 0, 0, 0, ...  15.60128  \n",
      "928    [0, 0, 0, 0, 0, 0, 0, 0, 0, 0, 0, 0, 0, 0, 0, ...  15.60128  \n",
      "2164   [0, 0, 0, 0, 0, 0, 0, 0, 0, 0, 0, 0, 0, 0, 0, ...  15.60128  \n",
      "4277   [0, 0, 0, 0, 0, 0, 0, 0, 0, 0, 0, 0, 0, 0, 0, ...  15.60128  \n",
      "Saving pq_16_32 Results to CSV....\n"
     ]
    },
    {
     "name": "stderr",
     "output_type": "stream",
     "text": [
      "/var/folders/2q/bjqpws1153b0_y18lhffmh_m0000gn/T/ipykernel_42781/686456071.py:14: FutureWarning: The frame.append method is deprecated and will be removed from pandas in a future version. Use pandas.concat instead.\n",
      "  compute_time_df = compute_time_df.append({'Query': query_name, 'PQ Setting': pq_setting, 'Compute Similarity Duration': compute_time_dict['compute_similarity_duration'], 'Get Ranking Duration': compute_time_dict['get_rank_duration'], 'Save to CSV Duration': compute_time_dict['save_to_csv_duration'], 'Basic Compute Duration': compute_time_dict['basic_compute_duration'], 'True Compute Duration': compute_time_dict['true_compute_duration']}, ignore_index=True)\n"
     ]
    },
    {
     "name": "stdout",
     "output_type": "stream",
     "text": [
      "pq_16_32 Results Saved to CSV!\n",
      "\n",
      "===============================================================\n",
      "Query:  dietitian for professional atheletes\n",
      "PQ Setting:  pq_16_32\n",
      "Total Time Taken:\n",
      "\n",
      "Start Time:  1697269269.368453\n",
      "Compute Similarity Duration:  0.006201028823852539\n",
      "Get Ranking Duration:  0.010699987411499023\n",
      "Save to CSV Duration:  1.9925670623779297\n",
      "Basic Time Duration:  2.009567975997925\n",
      "True Computed Time Duration:  2.0094680786132812\n",
      "===============================================================\n",
      "Computing similarity for: costume designer and makeup artist...\n",
      "Getting Query Results Ranking....\n",
      "Top 5 Results:\n",
      "                                                     Data  \\\n",
      "3657   Registered Nurse Experienced register nurses. ...   \n",
      "13837  Store Support Operator DutiesAnswers incoming ...   \n",
      "4277                  Salesperson 3+ years outside sales   \n",
      "4771   Underwriter Role: Underwriting/Actuarial Exper...   \n",
      "15120  Senior Partner DBM LEGAL SERVICES – JOB OVERVI...   \n",
      "\n",
      "                                                  Vector  Distance  \n",
      "3657   [0, 0, 0, 0, 0, 0, 0, 0, 0, 0, 0, 0, 0, 0, 0, ...   17.7019  \n",
      "13837  [0, 0, 0, 0, 0, 0, 0, 0, 0, 0, 0, 0, 0, 0, 0, ...   17.7019  \n",
      "4277   [0, 0, 0, 0, 0, 0, 0, 0, 0, 0, 0, 0, 0, 0, 0, ...   17.7019  \n",
      "4771   [0, 0, 0, 0, 0, 0, 0, 0, 0, 0, 0, 0, 0, 0, 0, ...   17.7019  \n",
      "15120  [0, 0, 0, 0, 0, 0, 0, 0, 0, 0, 0, 0, 0, 0, 0, ...   17.7019  \n",
      "Saving pq_16_32 Results to CSV....\n"
     ]
    },
    {
     "name": "stderr",
     "output_type": "stream",
     "text": [
      "/var/folders/2q/bjqpws1153b0_y18lhffmh_m0000gn/T/ipykernel_42781/686456071.py:14: FutureWarning: The frame.append method is deprecated and will be removed from pandas in a future version. Use pandas.concat instead.\n",
      "  compute_time_df = compute_time_df.append({'Query': query_name, 'PQ Setting': pq_setting, 'Compute Similarity Duration': compute_time_dict['compute_similarity_duration'], 'Get Ranking Duration': compute_time_dict['get_rank_duration'], 'Save to CSV Duration': compute_time_dict['save_to_csv_duration'], 'Basic Compute Duration': compute_time_dict['basic_compute_duration'], 'True Compute Duration': compute_time_dict['true_compute_duration']}, ignore_index=True)\n"
     ]
    },
    {
     "name": "stdout",
     "output_type": "stream",
     "text": [
      "pq_16_32 Results Saved to CSV!\n",
      "\n",
      "===============================================================\n",
      "Query:  costume designer and makeup artist\n",
      "PQ Setting:  pq_16_32\n",
      "Total Time Taken:\n",
      "\n",
      "Start Time:  1697269271.381091\n",
      "Compute Similarity Duration:  0.006634950637817383\n",
      "Get Ranking Duration:  0.010604143142700195\n",
      "Save to CSV Duration:  2.1306917667388916\n",
      "Basic Time Duration:  2.1480209827423096\n",
      "True Computed Time Duration:  2.147930860519409\n",
      "===============================================================\n",
      "Computing similarity for: resilient investment banker...\n"
     ]
    },
    {
     "name": "stderr",
     "output_type": "stream",
     "text": [
      "/var/folders/2q/bjqpws1153b0_y18lhffmh_m0000gn/T/ipykernel_42781/686456071.py:14: FutureWarning: The frame.append method is deprecated and will be removed from pandas in a future version. Use pandas.concat instead.\n",
      "  compute_time_df = compute_time_df.append({'Query': query_name, 'PQ Setting': pq_setting, 'Compute Similarity Duration': compute_time_dict['compute_similarity_duration'], 'Get Ranking Duration': compute_time_dict['get_rank_duration'], 'Save to CSV Duration': compute_time_dict['save_to_csv_duration'], 'Basic Compute Duration': compute_time_dict['basic_compute_duration'], 'True Compute Duration': compute_time_dict['true_compute_duration']}, ignore_index=True)\n",
      "/var/folders/2q/bjqpws1153b0_y18lhffmh_m0000gn/T/ipykernel_42781/686456071.py:17: FutureWarning: The frame.append method is deprecated and will be removed from pandas in a future version. Use pandas.concat instead.\n",
      "  compute_time_df = compute_time_df.append({'Query': 'Average', 'PQ Setting': pq_setting, 'Compute Similarity Duration': compute_time_df['Compute Similarity Duration'].mean(), 'Get Ranking Duration': compute_time_df['Get Ranking Duration'].mean(), 'Save to CSV Duration': compute_time_df['Save to CSV Duration'].mean(), 'Basic Compute Duration': compute_time_df['Basic Compute Duration'].mean(), 'True Compute Duration': compute_time_df['True Compute Duration'].mean()}, ignore_index=True)\n"
     ]
    },
    {
     "name": "stdout",
     "output_type": "stream",
     "text": [
      "Getting Query Results Ranking....\n",
      "Top 5 Results:\n",
      "                                                    Data  \\\n",
      "2946  Associate Attorney 2-5 years No-Fault experien...   \n",
      "5797  Bioinformatician I/II PLEASE DO NOT APPLY ON L...   \n",
      "7051                       Assistant Sous Chef position   \n",
      "3384  Salesforce Developer 𝐒𝐮𝐦𝐦𝐚𝐫𝐲 𝐨𝐟 𝐑𝐨𝐥𝐞 👤𝐑𝐨𝐥𝐞: 𝐒𝐚...   \n",
      "2043  Insurance Producer Selling soliciting insuranc...   \n",
      "\n",
      "                                                 Vector   Distance  \n",
      "2946  [0, 0, 0, 0, 0, 0, 0, 0, 0, 0, 0, 0, 0, 0, 0, ...  11.579682  \n",
      "5797  [0, 0, 0, 0, 0, 0, 0, 0, 0, 0, 0, 0, 0, 0, 0, ...  11.579682  \n",
      "7051  [0, 0, 0, 0, 0, 0, 0, 0, 0, 0, 0, 0, 0, 0, 0, ...  11.579682  \n",
      "3384  [0, 0, 0, 0, 0, 0, 0, 0, 0, 0, 0, 0, 0, 0, 0, ...  11.579682  \n",
      "2043  [0, 0, 0, 0, 0, 0, 0, 0, 0, 0, 0, 0, 0, 0, 0, ...  11.579682  \n",
      "Saving pq_16_64 Results to CSV....\n",
      "pq_16_64 Results Saved to CSV!\n",
      "\n",
      "===============================================================\n",
      "Query:  resilient investment banker\n",
      "PQ Setting:  pq_16_64\n",
      "Total Time Taken:\n",
      "\n",
      "Start Time:  1697269273.5387468\n",
      "Compute Similarity Duration:  0.23941516876220703\n",
      "Get Ranking Duration:  0.023698091506958008\n",
      "Save to CSV Duration:  1.9409279823303223\n",
      "Basic Time Duration:  2.2042863368988037\n",
      "True Computed Time Duration:  2.2040412425994873\n",
      "===============================================================\n",
      "Computing similarity for: 2 years experience product manager...\n",
      "Getting Query Results Ranking....\n",
      "Top 5 Results:\n",
      "                                                     Data  \\\n",
      "12379  Junior gazdasági szakértő Feladatok Havi üzlet...   \n",
      "2706   Salesforce Developer Role Title: Salesforce De...   \n",
      "2707   Pharmacist Description:-Title: PharmacistLocat...   \n",
      "2720   Grants Writer Looking passionate volunteer hel...   \n",
      "5793   Real Estate Agent Residential real estate sale...   \n",
      "\n",
      "                                                  Vector   Distance  \n",
      "12379  [0, 0, 0, 0, 0, 0, 0, 0, 0, 0, 0, 0, 0, 0, 0, ...  10.575885  \n",
      "2706   [0, 0, 0, 0, 0, 0, 0, 0, 0, 0, 0, 0, 0, 0, 0, ...  10.575885  \n",
      "2707   [0, 0, 0, 0, 0, 0, 0, 0, 0, 0, 0, 0, 0, 0, 0, ...  10.575885  \n",
      "2720   [0, 0, 0, 0, 0, 0, 0, 0, 0, 0, 0, 0, 0, 0, 0, ...  10.575885  \n",
      "5793   [0, 0, 0, 0, 0, 0, 0, 0, 0, 0, 0, 0, 0, 0, 0, ...  10.575885  \n",
      "Saving pq_16_64 Results to CSV....\n"
     ]
    },
    {
     "name": "stderr",
     "output_type": "stream",
     "text": [
      "/var/folders/2q/bjqpws1153b0_y18lhffmh_m0000gn/T/ipykernel_42781/686456071.py:14: FutureWarning: The frame.append method is deprecated and will be removed from pandas in a future version. Use pandas.concat instead.\n",
      "  compute_time_df = compute_time_df.append({'Query': query_name, 'PQ Setting': pq_setting, 'Compute Similarity Duration': compute_time_dict['compute_similarity_duration'], 'Get Ranking Duration': compute_time_dict['get_rank_duration'], 'Save to CSV Duration': compute_time_dict['save_to_csv_duration'], 'Basic Compute Duration': compute_time_dict['basic_compute_duration'], 'True Compute Duration': compute_time_dict['true_compute_duration']}, ignore_index=True)\n"
     ]
    },
    {
     "name": "stdout",
     "output_type": "stream",
     "text": [
      "pq_16_64 Results Saved to CSV!\n",
      "\n",
      "===============================================================\n",
      "Query:  2 years experience product manager\n",
      "PQ Setting:  pq_16_64\n",
      "Total Time Taken:\n",
      "\n",
      "Start Time:  1697269275.748302\n",
      "Compute Similarity Duration:  0.022097110748291016\n",
      "Get Ranking Duration:  0.014847993850708008\n",
      "Save to CSV Duration:  1.8955988883972168\n",
      "Basic Time Duration:  1.932636022567749\n",
      "True Computed Time Duration:  1.9325439929962158\n",
      "===============================================================\n",
      "Computing similarity for: 10 years risk analyst problem solver...\n",
      "Getting Query Results Ranking....\n",
      "Top 5 Results:\n",
      "                                                    Data  \\\n",
      "3148  Frontend ReactJS Developer(only 10+ years) Jav...   \n",
      "1369  Lease Anaylyst Sr. lease analyst work private ...   \n",
      "588   Pharmacist Title - Pharmacist Location - West ...   \n",
      "4198  Accounts Payable Specialist Our client seeking...   \n",
      "1058  Senior Network Engineer Hello, please look men...   \n",
      "\n",
      "                                                 Vector   Distance  \n",
      "3148  [0, 0, 0, 0, 0, 0, 0, 0, 0, 0, 0, 0, 0, 0, 0, ...  13.216251  \n",
      "1369  [0, 0, 0, 0, 0, 0, 0, 0, 0, 0, 0, 0, 0, 0, 0, ...  13.216251  \n",
      "588   [0, 0, 0, 0, 0, 0, 0, 0, 0, 0, 0, 0, 0, 0, 0, ...  13.216251  \n",
      "4198  [0, 0, 0, 0, 0, 0, 0, 0, 0, 0, 0, 0, 0, 0, 0, ...  13.216251  \n",
      "1058  [0, 0, 0, 0, 0, 0, 0, 0, 0, 0, 0, 0, 0, 0, 0, ...  13.216251  \n",
      "Saving pq_16_64 Results to CSV....\n"
     ]
    },
    {
     "name": "stderr",
     "output_type": "stream",
     "text": [
      "/var/folders/2q/bjqpws1153b0_y18lhffmh_m0000gn/T/ipykernel_42781/686456071.py:14: FutureWarning: The frame.append method is deprecated and will be removed from pandas in a future version. Use pandas.concat instead.\n",
      "  compute_time_df = compute_time_df.append({'Query': query_name, 'PQ Setting': pq_setting, 'Compute Similarity Duration': compute_time_dict['compute_similarity_duration'], 'Get Ranking Duration': compute_time_dict['get_rank_duration'], 'Save to CSV Duration': compute_time_dict['save_to_csv_duration'], 'Basic Compute Duration': compute_time_dict['basic_compute_duration'], 'True Compute Duration': compute_time_dict['true_compute_duration']}, ignore_index=True)\n"
     ]
    },
    {
     "name": "stdout",
     "output_type": "stream",
     "text": [
      "pq_16_64 Results Saved to CSV!\n",
      "\n",
      "===============================================================\n",
      "Query:  10 years risk analyst problem solver\n",
      "PQ Setting:  pq_16_64\n",
      "Total Time Taken:\n",
      "\n",
      "Start Time:  1697269277.68327\n",
      "Compute Similarity Duration:  0.01563405990600586\n",
      "Get Ranking Duration:  0.01086115837097168\n",
      "Save to CSV Duration:  1.959712028503418\n",
      "Basic Time Duration:  1.986325979232788\n",
      "True Computed Time Duration:  1.9862072467803955\n",
      "===============================================================\n",
      "Computing similarity for: tax analyst for big company...\n",
      "Getting Query Results Ranking....\n",
      "Top 5 Results:\n",
      "                                                    Data  \\\n",
      "5864  Nurse Practitioner Experience HIV care would g...   \n",
      "6122  Certified Public Accountant I small landscapin...   \n",
      "5579  Executive Administrative Assistant See posting...   \n",
      "6159  Loan Officer Construction Loan Officer need. W...   \n",
      "2547  Mobile Application Developer hybird mobile app...   \n",
      "\n",
      "                                                 Vector   Distance  \n",
      "5864  [0, 0, 0, 0, 0, 0, 0, 0, 0, 0, 0, 0, 0, 0, 0, ...  12.912659  \n",
      "6122  [0, 0, 0, 0, 0, 0, 0, 0, 0, 0, 0, 0, 0, 0, 0, ...  12.912659  \n",
      "5579  [0, 0, 0, 0, 0, 0, 0, 0, 0, 0, 0, 0, 0, 0, 0, ...  12.912659  \n",
      "6159  [0, 0, 0, 0, 0, 0, 0, 0, 0, 0, 0, 0, 0, 0, 0, ...  12.912659  \n",
      "2547  [0, 0, 0, 0, 0, 0, 0, 0, 0, 0, 0, 0, 0, 0, 0, ...  12.912659  \n",
      "Saving pq_16_64 Results to CSV....\n"
     ]
    },
    {
     "name": "stderr",
     "output_type": "stream",
     "text": [
      "/var/folders/2q/bjqpws1153b0_y18lhffmh_m0000gn/T/ipykernel_42781/686456071.py:14: FutureWarning: The frame.append method is deprecated and will be removed from pandas in a future version. Use pandas.concat instead.\n",
      "  compute_time_df = compute_time_df.append({'Query': query_name, 'PQ Setting': pq_setting, 'Compute Similarity Duration': compute_time_dict['compute_similarity_duration'], 'Get Ranking Duration': compute_time_dict['get_rank_duration'], 'Save to CSV Duration': compute_time_dict['save_to_csv_duration'], 'Basic Compute Duration': compute_time_dict['basic_compute_duration'], 'True Compute Duration': compute_time_dict['true_compute_duration']}, ignore_index=True)\n"
     ]
    },
    {
     "name": "stdout",
     "output_type": "stream",
     "text": [
      "pq_16_64 Results Saved to CSV!\n",
      "\n",
      "===============================================================\n",
      "Query:  tax analyst for big company\n",
      "PQ Setting:  pq_16_64\n",
      "Total Time Taken:\n",
      "\n",
      "Start Time:  1697269279.672138\n",
      "Compute Similarity Duration:  0.011584997177124023\n",
      "Get Ranking Duration:  0.009839057922363281\n",
      "Save to CSV Duration:  1.820235013961792\n",
      "Basic Time Duration:  1.8417551517486572\n",
      "True Computed Time Duration:  1.8416590690612793\n",
      "===============================================================\n",
      "Computing similarity for: software engineer for google or amazon...\n",
      "Getting Query Results Ranking....\n",
      "Top 5 Results:\n",
      "                                                    Data  \\\n",
      "2706  Salesforce Developer Role Title: Salesforce De...   \n",
      "6050                   Esthetician Experience preferred   \n",
      "271   Sales Specialist Looking Business development ...   \n",
      "6041  Mathematics Teacher Global Impact Academy look...   \n",
      "1727  Senior Mechanical Engineer Qualifications:B.S ...   \n",
      "\n",
      "                                                 Vector   Distance  \n",
      "2706  [0, 0, 0, 0, 0, 0, 0, 0, 0, 0, 0, 0, 0, 0, 0, ...  13.668706  \n",
      "6050  [0, 0, 0, 0, 0, 0, 0, 0, 0, 0, 0, 0, 0, 0, 0, ...  13.668706  \n",
      "271   [0, 0, 0, 0, 0, 0, 0, 0, 0, 0, 0, 0, 0, 0, 0, ...  13.668706  \n",
      "6041  [0, 0, 0, 0, 0, 0, 0, 0, 0, 0, 0, 0, 0, 0, 0, ...  13.668706  \n",
      "1727  [0, 0, 0, 0, 0, 0, 0, 0, 0, 0, 0, 0, 0, 0, 0, ...  13.668706  \n",
      "Saving pq_16_64 Results to CSV....\n"
     ]
    },
    {
     "name": "stderr",
     "output_type": "stream",
     "text": [
      "/var/folders/2q/bjqpws1153b0_y18lhffmh_m0000gn/T/ipykernel_42781/686456071.py:14: FutureWarning: The frame.append method is deprecated and will be removed from pandas in a future version. Use pandas.concat instead.\n",
      "  compute_time_df = compute_time_df.append({'Query': query_name, 'PQ Setting': pq_setting, 'Compute Similarity Duration': compute_time_dict['compute_similarity_duration'], 'Get Ranking Duration': compute_time_dict['get_rank_duration'], 'Save to CSV Duration': compute_time_dict['save_to_csv_duration'], 'Basic Compute Duration': compute_time_dict['basic_compute_duration'], 'True Compute Duration': compute_time_dict['true_compute_duration']}, ignore_index=True)\n"
     ]
    },
    {
     "name": "stdout",
     "output_type": "stream",
     "text": [
      "pq_16_64 Results Saved to CSV!\n",
      "\n",
      "===============================================================\n",
      "Query:  software engineer for google or amazon\n",
      "PQ Setting:  pq_16_64\n",
      "Total Time Taken:\n",
      "\n",
      "Start Time:  1697269281.515449\n",
      "Compute Similarity Duration:  0.015507936477661133\n",
      "Get Ranking Duration:  0.0100860595703125\n",
      "Save to CSV Duration:  1.961595058441162\n",
      "Basic Time Duration:  1.9873619079589844\n",
      "True Computed Time Duration:  1.9871890544891357\n",
      "===============================================================\n",
      "Computing similarity for: video editor for advertisements with 5 year experience...\n",
      "Getting Query Results Ranking....\n",
      "Top 5 Results:\n",
      "                                                     Data  \\\n",
      "11255                            Art Teacher Artists 🧑‍🎨   \n",
      "3384   Salesforce Developer 𝐒𝐮𝐦𝐦𝐚𝐫𝐲 𝐨𝐟 𝐑𝐨𝐥𝐞 👤𝐑𝐨𝐥𝐞: 𝐒𝐚...   \n",
      "7051                        Assistant Sous Chef position   \n",
      "179    Opportunity Private Practice therapist East Ly...   \n",
      "7132   Day Quad Job Description If active Vivint empl...   \n",
      "\n",
      "                                                  Vector   Distance  \n",
      "11255  [0, 0, 0, 0, 0, 0, 0, 0, 0, 0, 0, 0, 0, 0, 0, ...  14.076133  \n",
      "3384   [0, 0, 0, 0, 0, 0, 0, 0, 0, 0, 0, 0, 0, 0, 0, ...  14.076133  \n",
      "7051   [0, 0, 0, 0, 0, 0, 0, 0, 0, 0, 0, 0, 0, 0, 0, ...  14.076133  \n",
      "179    [0, 0, 0, 0, 0, 0, 0, 0, 0, 0, 0, 0, 0, 0, 0, ...  14.076133  \n",
      "7132   [0, 0, 0, 0, 0, 0, 0, 0, 0, 0, 0, 0, 0, 0, 0, ...  14.076133  \n",
      "Saving pq_16_64 Results to CSV....\n"
     ]
    },
    {
     "name": "stderr",
     "output_type": "stream",
     "text": [
      "/var/folders/2q/bjqpws1153b0_y18lhffmh_m0000gn/T/ipykernel_42781/686456071.py:14: FutureWarning: The frame.append method is deprecated and will be removed from pandas in a future version. Use pandas.concat instead.\n",
      "  compute_time_df = compute_time_df.append({'Query': query_name, 'PQ Setting': pq_setting, 'Compute Similarity Duration': compute_time_dict['compute_similarity_duration'], 'Get Ranking Duration': compute_time_dict['get_rank_duration'], 'Save to CSV Duration': compute_time_dict['save_to_csv_duration'], 'Basic Compute Duration': compute_time_dict['basic_compute_duration'], 'True Compute Duration': compute_time_dict['true_compute_duration']}, ignore_index=True)\n"
     ]
    },
    {
     "name": "stdout",
     "output_type": "stream",
     "text": [
      "pq_16_64 Results Saved to CSV!\n",
      "\n",
      "===============================================================\n",
      "Query:  video editor for advertisements with 5 year experience\n",
      "PQ Setting:  pq_16_64\n",
      "Total Time Taken:\n",
      "\n",
      "Start Time:  1697269283.5064409\n",
      "Compute Similarity Duration:  0.023934125900268555\n",
      "Get Ranking Duration:  0.016299962997436523\n",
      "Save to CSV Duration:  2.061638116836548\n",
      "Basic Time Duration:  2.1019651889801025\n",
      "True Computed Time Duration:  2.101872205734253\n",
      "===============================================================\n",
      "Computing similarity for: full time senior head nurse position...\n",
      "Getting Query Results Ranking....\n",
      "Top 5 Results:\n",
      "                                                     Data  \\\n",
      "6000                          Robot intern We train you!   \n",
      "5869   Human Resources Generalist The Human Resource ...   \n",
      "12829  parts service manager Managing parts area. Thi...   \n",
      "5896   Web Developer Make simple game global industry...   \n",
      "10063  Dotnet Developer JOB TITLE: Senior Software De...   \n",
      "\n",
      "                                                  Vector   Distance  \n",
      "6000   [0, 0, 0, 0, 0, 0, 0, 0, 0, 0, 0, 0, 0, 0, 0, ...  13.559238  \n",
      "5869   [0, 0, 0, 0, 0, 0, 0, 0, 0, 0, 0, 0, 0, 0, 0, ...  13.559238  \n",
      "12829  [0, 0, 0, 0, 0, 0, 0, 0, 0, 0, 0, 0, 0, 0, 0, ...  13.559238  \n",
      "5896   [0, 0, 0, 0, 0, 0, 0, 0, 0, 0, 0, 0, 0, 0, 0, ...  13.559238  \n",
      "10063  [0, 0, 0, 0, 0, 0, 0, 0, 0, 0, 0, 0, 0, 0, 0, ...  13.559238  \n",
      "Saving pq_16_64 Results to CSV....\n"
     ]
    },
    {
     "name": "stderr",
     "output_type": "stream",
     "text": [
      "/var/folders/2q/bjqpws1153b0_y18lhffmh_m0000gn/T/ipykernel_42781/686456071.py:14: FutureWarning: The frame.append method is deprecated and will be removed from pandas in a future version. Use pandas.concat instead.\n",
      "  compute_time_df = compute_time_df.append({'Query': query_name, 'PQ Setting': pq_setting, 'Compute Similarity Duration': compute_time_dict['compute_similarity_duration'], 'Get Ranking Duration': compute_time_dict['get_rank_duration'], 'Save to CSV Duration': compute_time_dict['save_to_csv_duration'], 'Basic Compute Duration': compute_time_dict['basic_compute_duration'], 'True Compute Duration': compute_time_dict['true_compute_duration']}, ignore_index=True)\n"
     ]
    },
    {
     "name": "stdout",
     "output_type": "stream",
     "text": [
      "pq_16_64 Results Saved to CSV!\n",
      "\n",
      "===============================================================\n",
      "Query:  full time senior head nurse position\n",
      "PQ Setting:  pq_16_64\n",
      "Total Time Taken:\n",
      "\n",
      "Start Time:  1697269285.610253\n",
      "Compute Similarity Duration:  0.013617992401123047\n",
      "Get Ranking Duration:  0.009787797927856445\n",
      "Save to CSV Duration:  1.7276511192321777\n",
      "Basic Time Duration:  1.7511579990386963\n",
      "True Computed Time Duration:  1.7510569095611572\n",
      "===============================================================\n",
      "Computing similarity for: after school math and science tutor...\n",
      "Getting Query Results Ranking....\n",
      "Top 5 Results:\n",
      "                                                     Data  \\\n",
      "13717  Government Sales Specialist Sell tactical prod...   \n",
      "6720               Mechanic Ford 6.7 super duty way F750   \n",
      "10063  Dotnet Developer JOB TITLE: Senior Software De...   \n",
      "13479  Release Manager Experience Flosum desirable · ...   \n",
      "2164   Receptionist & Admin Position: Receptionist & ...   \n",
      "\n",
      "                                                  Vector   Distance  \n",
      "13717  [0, 0, 0, 0, 0, 0, 0, 0, 0, 0, 0, 0, 0, 0, 0, ...  13.773268  \n",
      "6720   [0, 0, 0, 0, 0, 0, 0, 0, 0, 0, 0, 0, 0, 0, 0, ...  13.773268  \n",
      "10063  [0, 0, 0, 0, 0, 0, 0, 0, 0, 0, 0, 0, 0, 0, 0, ...  13.773268  \n",
      "13479  [0, 0, 0, 0, 0, 0, 0, 0, 0, 0, 0, 0, 0, 0, 0, ...  13.773268  \n",
      "2164   [0, 0, 0, 0, 0, 0, 0, 0, 0, 0, 0, 0, 0, 0, 0, ...  13.773268  \n",
      "Saving pq_16_64 Results to CSV....\n"
     ]
    },
    {
     "name": "stderr",
     "output_type": "stream",
     "text": [
      "/var/folders/2q/bjqpws1153b0_y18lhffmh_m0000gn/T/ipykernel_42781/686456071.py:14: FutureWarning: The frame.append method is deprecated and will be removed from pandas in a future version. Use pandas.concat instead.\n",
      "  compute_time_df = compute_time_df.append({'Query': query_name, 'PQ Setting': pq_setting, 'Compute Similarity Duration': compute_time_dict['compute_similarity_duration'], 'Get Ranking Duration': compute_time_dict['get_rank_duration'], 'Save to CSV Duration': compute_time_dict['save_to_csv_duration'], 'Basic Compute Duration': compute_time_dict['basic_compute_duration'], 'True Compute Duration': compute_time_dict['true_compute_duration']}, ignore_index=True)\n"
     ]
    },
    {
     "name": "stdout",
     "output_type": "stream",
     "text": [
      "pq_16_64 Results Saved to CSV!\n",
      "\n",
      "===============================================================\n",
      "Query:  after school math and science tutor\n",
      "PQ Setting:  pq_16_64\n",
      "Total Time Taken:\n",
      "\n",
      "Start Time:  1697269287.363051\n",
      "Compute Similarity Duration:  0.0128631591796875\n",
      "Get Ranking Duration:  0.009215831756591797\n",
      "Save to CSV Duration:  2.2722771167755127\n",
      "Basic Time Duration:  2.2945139408111572\n",
      "True Computed Time Duration:  2.294356107711792\n",
      "===============================================================\n",
      "Computing similarity for: dietitian for professional atheletes...\n",
      "Getting Query Results Ranking....\n",
      "Top 5 Results:\n",
      "                                                     Data  \\\n",
      "2184   Career Coach https://cclbcorps.isolvedhire.com...   \n",
      "12738  Google Ads Manager We looking someone voluntee...   \n",
      "11035  CNC Machinist Trainee Clean, climate-controlle...   \n",
      "244    Dermatologist Miami, FL We seeking dermatologi...   \n",
      "7422   Low voltage installers Installing lo voltage w...   \n",
      "\n",
      "                                                  Vector   Distance  \n",
      "2184   [0, 0, 0, 0, 0, 0, 0, 0, 0, 0, 0, 0, 0, 0, 0, ...  11.147632  \n",
      "12738  [0, 0, 0, 0, 0, 0, 0, 0, 0, 0, 0, 0, 0, 0, 0, ...  11.147632  \n",
      "11035  [0, 0, 0, 0, 0, 0, 0, 0, 0, 0, 0, 0, 0, 0, 0, ...  11.147632  \n",
      "244    [0, 0, 0, 0, 0, 0, 0, 0, 0, 0, 0, 0, 0, 0, 0, ...  11.147632  \n",
      "7422   [0, 0, 0, 0, 0, 0, 0, 0, 0, 0, 0, 0, 0, 0, 0, ...  11.147632  \n",
      "Saving pq_16_64 Results to CSV....\n"
     ]
    },
    {
     "name": "stderr",
     "output_type": "stream",
     "text": [
      "/var/folders/2q/bjqpws1153b0_y18lhffmh_m0000gn/T/ipykernel_42781/686456071.py:14: FutureWarning: The frame.append method is deprecated and will be removed from pandas in a future version. Use pandas.concat instead.\n",
      "  compute_time_df = compute_time_df.append({'Query': query_name, 'PQ Setting': pq_setting, 'Compute Similarity Duration': compute_time_dict['compute_similarity_duration'], 'Get Ranking Duration': compute_time_dict['get_rank_duration'], 'Save to CSV Duration': compute_time_dict['save_to_csv_duration'], 'Basic Compute Duration': compute_time_dict['basic_compute_duration'], 'True Compute Duration': compute_time_dict['true_compute_duration']}, ignore_index=True)\n"
     ]
    },
    {
     "name": "stdout",
     "output_type": "stream",
     "text": [
      "pq_16_64 Results Saved to CSV!\n",
      "\n",
      "===============================================================\n",
      "Query:  dietitian for professional atheletes\n",
      "PQ Setting:  pq_16_64\n",
      "Total Time Taken:\n",
      "\n",
      "Start Time:  1697269289.661212\n",
      "Compute Similarity Duration:  0.018718242645263672\n",
      "Get Ranking Duration:  0.015191793441772461\n",
      "Save to CSV Duration:  1.9976160526275635\n",
      "Basic Time Duration:  2.0317020416259766\n",
      "True Computed Time Duration:  2.0315260887145996\n",
      "===============================================================\n",
      "Computing similarity for: costume designer and makeup artist...\n",
      "Getting Query Results Ranking....\n",
      "Top 5 Results:\n",
      "                                                     Data  \\\n",
      "6763    Sales And Marketing Specialist internet designer   \n",
      "1263   Senior Interior Designer https://www.ccyarchit...   \n",
      "12595  Junior Cost Manager Preparation quotation, ord...   \n",
      "10232  Jr. DevOps Job Title : Jr. DevOpsLocation : Re...   \n",
      "7878   Adobe Campaign Consultant Adobe Campaign Class...   \n",
      "\n",
      "                                                  Vector   Distance  \n",
      "6763   [0, 0, 0, 0, 0, 0, 0, 0, 0, 0, 0, 0, 0, 0, 0, ...  13.219227  \n",
      "1263   [0, 0, 0, 0, 0, 0, 0, 0, 0, 0, 0, 0, 0, 0, 0, ...  13.219227  \n",
      "12595  [0, 0, 0, 0, 0, 0, 0, 0, 0, 0, 0, 0, 0, 0, 0, ...  13.219227  \n",
      "10232  [0, 0, 0, 0, 0, 0, 0, 0, 0, 0, 0, 0, 0, 0, 0, ...  13.219227  \n",
      "7878   [0, 0, 0, 0, 0, 0, 0, 0, 0, 0, 0, 0, 0, 0, 0, ...  13.219227  \n",
      "Saving pq_16_64 Results to CSV....\n"
     ]
    },
    {
     "name": "stderr",
     "output_type": "stream",
     "text": [
      "/var/folders/2q/bjqpws1153b0_y18lhffmh_m0000gn/T/ipykernel_42781/686456071.py:14: FutureWarning: The frame.append method is deprecated and will be removed from pandas in a future version. Use pandas.concat instead.\n",
      "  compute_time_df = compute_time_df.append({'Query': query_name, 'PQ Setting': pq_setting, 'Compute Similarity Duration': compute_time_dict['compute_similarity_duration'], 'Get Ranking Duration': compute_time_dict['get_rank_duration'], 'Save to CSV Duration': compute_time_dict['save_to_csv_duration'], 'Basic Compute Duration': compute_time_dict['basic_compute_duration'], 'True Compute Duration': compute_time_dict['true_compute_duration']}, ignore_index=True)\n"
     ]
    },
    {
     "name": "stdout",
     "output_type": "stream",
     "text": [
      "pq_16_64 Results Saved to CSV!\n",
      "\n",
      "===============================================================\n",
      "Query:  costume designer and makeup artist\n",
      "PQ Setting:  pq_16_64\n",
      "Total Time Taken:\n",
      "\n",
      "Start Time:  1697269291.696673\n",
      "Compute Similarity Duration:  0.017258167266845703\n",
      "Get Ranking Duration:  0.010178089141845703\n",
      "Save to CSV Duration:  2.2760088443756104\n",
      "Basic Time Duration:  2.303577184677124\n",
      "True Computed Time Duration:  2.3034451007843018\n",
      "===============================================================\n",
      "Computing similarity for: resilient investment banker...\n"
     ]
    },
    {
     "name": "stderr",
     "output_type": "stream",
     "text": [
      "/var/folders/2q/bjqpws1153b0_y18lhffmh_m0000gn/T/ipykernel_42781/686456071.py:14: FutureWarning: The frame.append method is deprecated and will be removed from pandas in a future version. Use pandas.concat instead.\n",
      "  compute_time_df = compute_time_df.append({'Query': query_name, 'PQ Setting': pq_setting, 'Compute Similarity Duration': compute_time_dict['compute_similarity_duration'], 'Get Ranking Duration': compute_time_dict['get_rank_duration'], 'Save to CSV Duration': compute_time_dict['save_to_csv_duration'], 'Basic Compute Duration': compute_time_dict['basic_compute_duration'], 'True Compute Duration': compute_time_dict['true_compute_duration']}, ignore_index=True)\n",
      "/var/folders/2q/bjqpws1153b0_y18lhffmh_m0000gn/T/ipykernel_42781/686456071.py:17: FutureWarning: The frame.append method is deprecated and will be removed from pandas in a future version. Use pandas.concat instead.\n",
      "  compute_time_df = compute_time_df.append({'Query': 'Average', 'PQ Setting': pq_setting, 'Compute Similarity Duration': compute_time_df['Compute Similarity Duration'].mean(), 'Get Ranking Duration': compute_time_df['Get Ranking Duration'].mean(), 'Save to CSV Duration': compute_time_df['Save to CSV Duration'].mean(), 'Basic Compute Duration': compute_time_df['Basic Compute Duration'].mean(), 'True Compute Duration': compute_time_df['True Compute Duration'].mean()}, ignore_index=True)\n"
     ]
    },
    {
     "name": "stdout",
     "output_type": "stream",
     "text": [
      "Getting Query Results Ranking....\n",
      "Top 5 Results:\n",
      "                                                     Data  \\\n",
      "4753   HVAC duct installer helper No experience neces...   \n",
      "3384   Salesforce Developer 𝐒𝐮𝐦𝐦𝐚𝐫𝐲 𝐨𝐟 𝐑𝐨𝐥𝐞 👤𝐑𝐨𝐥𝐞: 𝐒𝐚...   \n",
      "13717  Government Sales Specialist Sell tactical prod...   \n",
      "897    Florida Army National Guard Service Member Wil...   \n",
      "3744   Account Executive Are ambitious, driven passio...   \n",
      "\n",
      "                                                  Vector  Distance  \n",
      "4753   [0, 0, 0, 0, 0, 0, 0, 0, 0, 0, 0, 0, 0, 0, 0, ...  9.383997  \n",
      "3384   [0, 0, 0, 0, 0, 0, 0, 0, 0, 0, 0, 0, 0, 0, 0, ...  9.383997  \n",
      "13717  [0, 0, 0, 0, 0, 0, 0, 0, 0, 0, 0, 0, 0, 0, 0, ...  9.383997  \n",
      "897    [0, 0, 0, 0, 0, 0, 0, 0, 0, 0, 0, 0, 0, 0, 0, ...  9.383997  \n",
      "3744   [0, 0, 0, 0, 0, 0, 0, 0, 0, 0, 0, 0, 0, 0, 0, ...  9.383997  \n",
      "Saving pq_16_128 Results to CSV....\n",
      "pq_16_128 Results Saved to CSV!\n",
      "\n",
      "===============================================================\n",
      "Query:  resilient investment banker\n",
      "PQ Setting:  pq_16_128\n",
      "Total Time Taken:\n",
      "\n",
      "Start Time:  1697269294.014176\n",
      "Compute Similarity Duration:  0.5127203464508057\n",
      "Get Ranking Duration:  0.013222694396972656\n",
      "Save to CSV Duration:  1.918964147567749\n",
      "Basic Time Duration:  2.445072889328003\n",
      "True Computed Time Duration:  2.4449071884155273\n",
      "===============================================================\n",
      "Computing similarity for: 2 years experience product manager...\n",
      "Getting Query Results Ranking....\n",
      "Top 5 Results:\n",
      "                                                    Data  \\\n",
      "7878  Adobe Campaign Consultant Adobe Campaign Class...   \n",
      "5579  Executive Administrative Assistant See posting...   \n",
      "7210  Mechanical Design Engineer Autodesk suite incl...   \n",
      "5594  Automotive Sales Specialists Looking expensive...   \n",
      "4399         Inbound (Stocking) 4AM Team Members #NAME?   \n",
      "\n",
      "                                                 Vector  Distance  \n",
      "7878  [0, 0, 0, 0, 0, 0, 0, 0, 0, 0, 0, 0, 0, 0, 0, ...  8.456379  \n",
      "5579  [0, 0, 0, 0, 0, 0, 0, 0, 0, 0, 0, 0, 0, 0, 0, ...  8.456379  \n",
      "7210  [0, 0, 0, 0, 0, 0, 0, 0, 0, 0, 0, 0, 0, 0, 0, ...  8.456379  \n",
      "5594  [0, 0, 0, 0, 0, 0, 0, 0, 0, 0, 0, 0, 0, 0, 0, ...  8.456379  \n",
      "4399  [0, 0, 0, 0, 0, 0, 0, 0, 0, 0, 0, 0, 0, 0, 0, ...  8.456379  \n",
      "Saving pq_16_128 Results to CSV....\n"
     ]
    },
    {
     "name": "stderr",
     "output_type": "stream",
     "text": [
      "/var/folders/2q/bjqpws1153b0_y18lhffmh_m0000gn/T/ipykernel_42781/686456071.py:14: FutureWarning: The frame.append method is deprecated and will be removed from pandas in a future version. Use pandas.concat instead.\n",
      "  compute_time_df = compute_time_df.append({'Query': query_name, 'PQ Setting': pq_setting, 'Compute Similarity Duration': compute_time_dict['compute_similarity_duration'], 'Get Ranking Duration': compute_time_dict['get_rank_duration'], 'Save to CSV Duration': compute_time_dict['save_to_csv_duration'], 'Basic Compute Duration': compute_time_dict['basic_compute_duration'], 'True Compute Duration': compute_time_dict['true_compute_duration']}, ignore_index=True)\n"
     ]
    },
    {
     "name": "stdout",
     "output_type": "stream",
     "text": [
      "pq_16_128 Results Saved to CSV!\n",
      "\n",
      "===============================================================\n",
      "Query:  2 years experience product manager\n",
      "PQ Setting:  pq_16_128\n",
      "Total Time Taken:\n",
      "\n",
      "Start Time:  1697269296.462365\n",
      "Compute Similarity Duration:  0.024932146072387695\n",
      "Get Ranking Duration:  0.009233951568603516\n",
      "Save to CSV Duration:  1.8861730098724365\n",
      "Basic Time Duration:  1.920490026473999\n",
      "True Computed Time Duration:  1.9203391075134277\n",
      "===============================================================\n",
      "Computing similarity for: 10 years risk analyst problem solver...\n",
      "Getting Query Results Ranking....\n",
      "Top 5 Results:\n",
      "                                                    Data  \\\n",
      "3148  Frontend ReactJS Developer(only 10+ years) Jav...   \n",
      "608   Frontend React developer(10+ years) Java Scrip...   \n",
      "6041  Mathematics Teacher Global Impact Academy look...   \n",
      "6872            Manager new location. looking positions   \n",
      "5948                                 Therapist Licensed   \n",
      "\n",
      "                                                 Vector   Distance  \n",
      "3148  [0, 0, 0, 0, 0, 0, 0, 0, 0, 0, 0, 0, 0, 0, 0, ...  10.484424  \n",
      "608   [0, 0, 0, 0, 0, 0, 0, 0, 0, 0, 0, 0, 0, 0, 0, ...  10.484424  \n",
      "6041  [0, 0, 0, 0, 0, 0, 0, 0, 0, 0, 0, 0, 0, 0, 0, ...  11.355154  \n",
      "6872  [0, 0, 0, 0, 0, 0, 0, 0, 0, 0, 0, 0, 0, 0, 0, ...  11.355154  \n",
      "5948  [0, 0, 0, 0, 0, 0, 0, 0, 0, 0, 0, 0, 0, 0, 0, ...  11.355154  \n",
      "Saving pq_16_128 Results to CSV....\n"
     ]
    },
    {
     "name": "stderr",
     "output_type": "stream",
     "text": [
      "/var/folders/2q/bjqpws1153b0_y18lhffmh_m0000gn/T/ipykernel_42781/686456071.py:14: FutureWarning: The frame.append method is deprecated and will be removed from pandas in a future version. Use pandas.concat instead.\n",
      "  compute_time_df = compute_time_df.append({'Query': query_name, 'PQ Setting': pq_setting, 'Compute Similarity Duration': compute_time_dict['compute_similarity_duration'], 'Get Ranking Duration': compute_time_dict['get_rank_duration'], 'Save to CSV Duration': compute_time_dict['save_to_csv_duration'], 'Basic Compute Duration': compute_time_dict['basic_compute_duration'], 'True Compute Duration': compute_time_dict['true_compute_duration']}, ignore_index=True)\n"
     ]
    },
    {
     "name": "stdout",
     "output_type": "stream",
     "text": [
      "pq_16_128 Results Saved to CSV!\n",
      "\n",
      "===============================================================\n",
      "Query:  10 years risk analyst problem solver\n",
      "PQ Setting:  pq_16_128\n",
      "Total Time Taken:\n",
      "\n",
      "Start Time:  1697269298.386397\n",
      "Compute Similarity Duration:  0.03727006912231445\n",
      "Get Ranking Duration:  0.010073184967041016\n",
      "Save to CSV Duration:  2.530996799468994\n",
      "Basic Time Duration:  2.5784859657287598\n",
      "True Computed Time Duration:  2.5783400535583496\n",
      "===============================================================\n",
      "Computing similarity for: tax analyst for big company...\n",
      "Getting Query Results Ranking....\n",
      "Top 5 Results:\n",
      "                                                    Data  \\\n",
      "7169  Body Repair Technician Experienced body techni...   \n",
      "6091  Car Detailer Experienced detailer needed ASAP....   \n",
      "2184  Career Coach https://cclbcorps.isolvedhire.com...   \n",
      "2946  Associate Attorney 2-5 years No-Fault experien...   \n",
      "6720              Mechanic Ford 6.7 super duty way F750   \n",
      "\n",
      "                                                 Vector   Distance  \n",
      "7169  [0, 0, 0, 0, 0, 0, 0, 0, 0, 0, 0, 0, 0, 0, 0, ...  10.722328  \n",
      "6091  [0, 0, 0, 0, 0, 0, 0, 0, 0, 0, 0, 0, 0, 0, 0, ...  10.722328  \n",
      "2184  [0, 0, 0, 0, 0, 0, 0, 0, 0, 0, 0, 0, 0, 0, 0, ...  10.722328  \n",
      "2946  [0, 0, 0, 0, 0, 0, 0, 0, 0, 0, 0, 0, 0, 0, 0, ...  10.722328  \n",
      "6720  [0, 0, 0, 0, 0, 0, 0, 0, 0, 0, 0, 0, 0, 0, 0, ...  10.722328  \n",
      "Saving pq_16_128 Results to CSV....\n"
     ]
    },
    {
     "name": "stderr",
     "output_type": "stream",
     "text": [
      "/var/folders/2q/bjqpws1153b0_y18lhffmh_m0000gn/T/ipykernel_42781/686456071.py:14: FutureWarning: The frame.append method is deprecated and will be removed from pandas in a future version. Use pandas.concat instead.\n",
      "  compute_time_df = compute_time_df.append({'Query': query_name, 'PQ Setting': pq_setting, 'Compute Similarity Duration': compute_time_dict['compute_similarity_duration'], 'Get Ranking Duration': compute_time_dict['get_rank_duration'], 'Save to CSV Duration': compute_time_dict['save_to_csv_duration'], 'Basic Compute Duration': compute_time_dict['basic_compute_duration'], 'True Compute Duration': compute_time_dict['true_compute_duration']}, ignore_index=True)\n"
     ]
    },
    {
     "name": "stdout",
     "output_type": "stream",
     "text": [
      "pq_16_128 Results Saved to CSV!\n",
      "\n",
      "===============================================================\n",
      "Query:  tax analyst for big company\n",
      "PQ Setting:  pq_16_128\n",
      "Total Time Taken:\n",
      "\n",
      "Start Time:  1697269300.9711921\n",
      "Compute Similarity Duration:  0.041983842849731445\n",
      "Get Ranking Duration:  0.017249107360839844\n",
      "Save to CSV Duration:  1.9351818561553955\n",
      "Basic Time Duration:  1.9945459365844727\n",
      "True Computed Time Duration:  1.9944148063659668\n",
      "===============================================================\n",
      "Computing similarity for: software engineer for google or amazon...\n",
      "Getting Query Results Ranking....\n",
      "Top 5 Results:\n",
      "                                                     Data  \\\n",
      "2547   Mobile Application Developer hybird mobile app...   \n",
      "5896   Web Developer Make simple game global industry...   \n",
      "10126                                Paralegal Paralegal   \n",
      "2946   Associate Attorney 2-5 years No-Fault experien...   \n",
      "6774   Account Executive communicationn grant writing...   \n",
      "\n",
      "                                                  Vector   Distance  \n",
      "2547   [0, 0, 0, 0, 0, 0, 0, 0, 0, 0, 0, 0, 0, 0, 0, ...  11.584319  \n",
      "5896   [0, 0, 0, 0, 0, 0, 0, 0, 0, 0, 0, 0, 0, 0, 0, ...  11.584319  \n",
      "10126  [0, 0, 0, 0, 0, 0, 0, 0, 0, 0, 0, 0, 0, 0, 0, ...  11.584319  \n",
      "2946   [0, 0, 0, 0, 0, 0, 0, 0, 0, 0, 0, 0, 0, 0, 0, ...  11.584319  \n",
      "6774   [0, 0, 0, 0, 0, 0, 0, 0, 0, 0, 0, 0, 0, 0, 0, ...  11.584319  \n",
      "Saving pq_16_128 Results to CSV....\n"
     ]
    },
    {
     "name": "stderr",
     "output_type": "stream",
     "text": [
      "/var/folders/2q/bjqpws1153b0_y18lhffmh_m0000gn/T/ipykernel_42781/686456071.py:14: FutureWarning: The frame.append method is deprecated and will be removed from pandas in a future version. Use pandas.concat instead.\n",
      "  compute_time_df = compute_time_df.append({'Query': query_name, 'PQ Setting': pq_setting, 'Compute Similarity Duration': compute_time_dict['compute_similarity_duration'], 'Get Ranking Duration': compute_time_dict['get_rank_duration'], 'Save to CSV Duration': compute_time_dict['save_to_csv_duration'], 'Basic Compute Duration': compute_time_dict['basic_compute_duration'], 'True Compute Duration': compute_time_dict['true_compute_duration']}, ignore_index=True)\n"
     ]
    },
    {
     "name": "stdout",
     "output_type": "stream",
     "text": [
      "pq_16_128 Results Saved to CSV!\n",
      "\n",
      "===============================================================\n",
      "Query:  software engineer for google or amazon\n",
      "PQ Setting:  pq_16_128\n",
      "Total Time Taken:\n",
      "\n",
      "Start Time:  1697269302.967916\n",
      "Compute Similarity Duration:  0.025674104690551758\n",
      "Get Ranking Duration:  0.008275985717773438\n",
      "Save to CSV Duration:  1.953989028930664\n",
      "Basic Time Duration:  1.9880571365356445\n",
      "True Computed Time Duration:  1.9879391193389893\n",
      "===============================================================\n",
      "Computing similarity for: video editor for advertisements with 5 year experience...\n",
      "Getting Query Results Ranking....\n",
      "Top 5 Results:\n",
      "                                                    Data  \\\n",
      "5579  Executive Administrative Assistant See posting...   \n",
      "897   Florida Army National Guard Service Member Wil...   \n",
      "7878  Adobe Campaign Consultant Adobe Campaign Class...   \n",
      "5594  Automotive Sales Specialists Looking expensive...   \n",
      "6559  Elementary School Teacher Third grade teacher ...   \n",
      "\n",
      "                                                 Vector   Distance  \n",
      "5579  [0, 0, 0, 0, 0, 0, 0, 0, 0, 0, 0, 0, 0, 0, 0, ...  12.006359  \n",
      "897   [0, 0, 0, 0, 0, 0, 0, 0, 0, 0, 0, 0, 0, 0, 0, ...  12.006359  \n",
      "7878  [0, 0, 0, 0, 0, 0, 0, 0, 0, 0, 0, 0, 0, 0, 0, ...  12.006359  \n",
      "5594  [0, 0, 0, 0, 0, 0, 0, 0, 0, 0, 0, 0, 0, 0, 0, ...  12.006359  \n",
      "6559  [0, 0, 0, 0, 0, 0, 0, 0, 0, 0, 0, 0, 0, 0, 0, ...  12.006359  \n",
      "Saving pq_16_128 Results to CSV....\n"
     ]
    },
    {
     "name": "stderr",
     "output_type": "stream",
     "text": [
      "/var/folders/2q/bjqpws1153b0_y18lhffmh_m0000gn/T/ipykernel_42781/686456071.py:14: FutureWarning: The frame.append method is deprecated and will be removed from pandas in a future version. Use pandas.concat instead.\n",
      "  compute_time_df = compute_time_df.append({'Query': query_name, 'PQ Setting': pq_setting, 'Compute Similarity Duration': compute_time_dict['compute_similarity_duration'], 'Get Ranking Duration': compute_time_dict['get_rank_duration'], 'Save to CSV Duration': compute_time_dict['save_to_csv_duration'], 'Basic Compute Duration': compute_time_dict['basic_compute_duration'], 'True Compute Duration': compute_time_dict['true_compute_duration']}, ignore_index=True)\n"
     ]
    },
    {
     "name": "stdout",
     "output_type": "stream",
     "text": [
      "pq_16_128 Results Saved to CSV!\n",
      "\n",
      "===============================================================\n",
      "Query:  video editor for advertisements with 5 year experience\n",
      "PQ Setting:  pq_16_128\n",
      "Total Time Taken:\n",
      "\n",
      "Start Time:  1697269304.958843\n",
      "Compute Similarity Duration:  0.029433012008666992\n",
      "Get Ranking Duration:  0.009371757507324219\n",
      "Save to CSV Duration:  2.4320552349090576\n",
      "Basic Time Duration:  2.4710638523101807\n",
      "True Computed Time Duration:  2.470860004425049\n",
      "===============================================================\n",
      "Computing similarity for: full time senior head nurse position...\n",
      "Getting Query Results Ranking....\n",
      "Top 5 Results:\n",
      "                                                     Data  \\\n",
      "328    Real Estate Broker Agent's Get IT! MORE COMPEN...   \n",
      "6219   Registered Dental Hygienist A small boutique d...   \n",
      "825    Preschool Teacher (Spanish/ English) Bloom Ear...   \n",
      "3836   Registered Nurse Looking full time night shift...   \n",
      "15767  Campaign Finance Staffers We looking campaign ...   \n",
      "\n",
      "                                                  Vector   Distance  \n",
      "328    [0, 0, 0, 0, 0, 0, 0, 0, 0, 0, 0, 0, 0, 0, 0, ...  10.969075  \n",
      "6219   [0, 0, 0, 0, 0, 0, 0, 0, 0, 0, 0, 0, 0, 0, 0, ...  10.969075  \n",
      "825    [1, 0, 0, 0, 0, 0, 0, 0, 0, 0, 0, 0, 0, 0, 0, ...  10.969075  \n",
      "3836   [0, 0, 0, 0, 0, 0, 0, 0, 0, 0, 0, 0, 0, 0, 0, ...  10.969075  \n",
      "15767  [0, 0, 0, 0, 0, 0, 0, 0, 0, 0, 0, 0, 0, 0, 0, ...  10.969075  \n",
      "Saving pq_16_128 Results to CSV....\n"
     ]
    },
    {
     "name": "stderr",
     "output_type": "stream",
     "text": [
      "/var/folders/2q/bjqpws1153b0_y18lhffmh_m0000gn/T/ipykernel_42781/686456071.py:14: FutureWarning: The frame.append method is deprecated and will be removed from pandas in a future version. Use pandas.concat instead.\n",
      "  compute_time_df = compute_time_df.append({'Query': query_name, 'PQ Setting': pq_setting, 'Compute Similarity Duration': compute_time_dict['compute_similarity_duration'], 'Get Ranking Duration': compute_time_dict['get_rank_duration'], 'Save to CSV Duration': compute_time_dict['save_to_csv_duration'], 'Basic Compute Duration': compute_time_dict['basic_compute_duration'], 'True Compute Duration': compute_time_dict['true_compute_duration']}, ignore_index=True)\n"
     ]
    },
    {
     "name": "stdout",
     "output_type": "stream",
     "text": [
      "pq_16_128 Results Saved to CSV!\n",
      "\n",
      "===============================================================\n",
      "Query:  full time senior head nurse position\n",
      "PQ Setting:  pq_16_128\n",
      "Total Time Taken:\n",
      "\n",
      "Start Time:  1697269307.43486\n",
      "Compute Similarity Duration:  0.03970789909362793\n",
      "Get Ranking Duration:  0.01077413558959961\n",
      "Save to CSV Duration:  2.1011760234832764\n",
      "Basic Time Duration:  2.1517529487609863\n",
      "True Computed Time Duration:  2.151658058166504\n",
      "===============================================================\n",
      "Computing similarity for: after school math and science tutor...\n",
      "Getting Query Results Ranking....\n",
      "Top 5 Results:\n",
      "                                                     Data  \\\n",
      "1473   Multiple Open Positions Inquiry open positions...   \n",
      "5948                                  Therapist Licensed   \n",
      "7298                     Analyst Communications Director   \n",
      "5987                       Medical Assistant Apply lever   \n",
      "15639  業務主任/副理 純淨保養主張，主張減去非必要保養程序、非必要成分，挑戰市場保養慣例 Resp...   \n",
      "\n",
      "                                                  Vector   Distance  \n",
      "1473   [0, 0, 0, 0, 0, 0, 0, 0, 0, 0, 0, 0, 0, 0, 0, ...  11.747017  \n",
      "5948   [0, 0, 0, 0, 0, 0, 0, 0, 0, 0, 0, 0, 0, 0, 0, ...  11.747017  \n",
      "7298   [0, 0, 0, 0, 0, 0, 0, 0, 0, 0, 0, 0, 0, 0, 0, ...  11.747017  \n",
      "5987   [0, 0, 0, 0, 0, 0, 0, 0, 0, 0, 0, 0, 0, 0, 0, ...  11.747017  \n",
      "15639  [0, 0, 0, 0, 0, 0, 0, 0, 0, 0, 0, 0, 0, 0, 0, ...  11.747017  \n",
      "Saving pq_16_128 Results to CSV....\n"
     ]
    },
    {
     "name": "stderr",
     "output_type": "stream",
     "text": [
      "/var/folders/2q/bjqpws1153b0_y18lhffmh_m0000gn/T/ipykernel_42781/686456071.py:14: FutureWarning: The frame.append method is deprecated and will be removed from pandas in a future version. Use pandas.concat instead.\n",
      "  compute_time_df = compute_time_df.append({'Query': query_name, 'PQ Setting': pq_setting, 'Compute Similarity Duration': compute_time_dict['compute_similarity_duration'], 'Get Ranking Duration': compute_time_dict['get_rank_duration'], 'Save to CSV Duration': compute_time_dict['save_to_csv_duration'], 'Basic Compute Duration': compute_time_dict['basic_compute_duration'], 'True Compute Duration': compute_time_dict['true_compute_duration']}, ignore_index=True)\n"
     ]
    },
    {
     "name": "stdout",
     "output_type": "stream",
     "text": [
      "pq_16_128 Results Saved to CSV!\n",
      "\n",
      "===============================================================\n",
      "Query:  after school math and science tutor\n",
      "PQ Setting:  pq_16_128\n",
      "Total Time Taken:\n",
      "\n",
      "Start Time:  1697269309.588232\n",
      "Compute Similarity Duration:  0.030110836029052734\n",
      "Get Ranking Duration:  0.015607118606567383\n",
      "Save to CSV Duration:  2.234070062637329\n",
      "Basic Time Duration:  2.279897928237915\n",
      "True Computed Time Duration:  2.279788017272949\n",
      "===============================================================\n",
      "Computing similarity for: dietitian for professional atheletes...\n",
      "Getting Query Results Ranking....\n",
      "Top 5 Results:\n",
      "                                                    Data  \\\n",
      "4753  HVAC duct installer helper No experience neces...   \n",
      "969   Immediate Positions Available Serious Individu...   \n",
      "179   Opportunity Private Practice therapist East Ly...   \n",
      "4390  Door technician Currently seeking experienced ...   \n",
      "7298                    Analyst Communications Director   \n",
      "\n",
      "                                                 Vector  Distance  \n",
      "4753  [0, 0, 0, 0, 0, 0, 0, 0, 0, 0, 0, 0, 0, 0, 0, ...  8.995213  \n",
      "969   [0, 0, 0, 0, 0, 0, 0, 0, 0, 0, 0, 0, 0, 0, 0, ...  8.995213  \n",
      "179   [0, 0, 0, 0, 0, 0, 0, 0, 0, 0, 0, 0, 0, 0, 0, ...  8.995213  \n",
      "4390  [0, 0, 0, 0, 0, 0, 0, 0, 0, 0, 0, 0, 0, 0, 0, ...  8.995213  \n",
      "7298  [0, 0, 0, 0, 0, 0, 0, 0, 0, 0, 0, 0, 0, 0, 0, ...  8.995213  \n",
      "Saving pq_16_128 Results to CSV....\n"
     ]
    },
    {
     "name": "stderr",
     "output_type": "stream",
     "text": [
      "/var/folders/2q/bjqpws1153b0_y18lhffmh_m0000gn/T/ipykernel_42781/686456071.py:14: FutureWarning: The frame.append method is deprecated and will be removed from pandas in a future version. Use pandas.concat instead.\n",
      "  compute_time_df = compute_time_df.append({'Query': query_name, 'PQ Setting': pq_setting, 'Compute Similarity Duration': compute_time_dict['compute_similarity_duration'], 'Get Ranking Duration': compute_time_dict['get_rank_duration'], 'Save to CSV Duration': compute_time_dict['save_to_csv_duration'], 'Basic Compute Duration': compute_time_dict['basic_compute_duration'], 'True Compute Duration': compute_time_dict['true_compute_duration']}, ignore_index=True)\n"
     ]
    },
    {
     "name": "stdout",
     "output_type": "stream",
     "text": [
      "pq_16_128 Results Saved to CSV!\n",
      "\n",
      "===============================================================\n",
      "Query:  dietitian for professional atheletes\n",
      "PQ Setting:  pq_16_128\n",
      "Total Time Taken:\n",
      "\n",
      "Start Time:  1697269311.870052\n",
      "Compute Similarity Duration:  0.02678680419921875\n",
      "Get Ranking Duration:  0.008419036865234375\n",
      "Save to CSV Duration:  1.9016530513763428\n",
      "Basic Time Duration:  1.9369709491729736\n",
      "True Computed Time Duration:  1.936858892440796\n",
      "===============================================================\n",
      "Computing similarity for: costume designer and makeup artist...\n",
      "Getting Query Results Ranking....\n",
      "Top 5 Results:\n",
      "                                                     Data  \\\n",
      "6386   Practice Representative Network communityProvi...   \n",
      "14003  Route Sales Representative https://www.paycomo...   \n",
      "6071   Grade 6 Science Teacher We looking middle scho...   \n",
      "12379  Junior gazdasági szakértő Feladatok Havi üzlet...   \n",
      "6872             Manager new location. looking positions   \n",
      "\n",
      "                                                  Vector   Distance  \n",
      "6386   [0, 0, 0, 0, 0, 0, 0, 0, 0, 0, 0, 0, 0, 0, 0, ...  11.061838  \n",
      "14003  [0, 0, 0, 0, 0, 0, 0, 0, 0, 0, 0, 0, 0, 0, 0, ...  11.061838  \n",
      "6071   [0, 0, 0, 0, 0, 0, 0, 0, 0, 0, 0, 0, 0, 0, 0, ...  11.061838  \n",
      "12379  [0, 0, 0, 0, 0, 0, 0, 0, 0, 0, 0, 0, 0, 0, 0, ...  11.061838  \n",
      "6872   [0, 0, 0, 0, 0, 0, 0, 0, 0, 0, 0, 0, 0, 0, 0, ...  11.061838  \n",
      "Saving pq_16_128 Results to CSV....\n"
     ]
    },
    {
     "name": "stderr",
     "output_type": "stream",
     "text": [
      "/var/folders/2q/bjqpws1153b0_y18lhffmh_m0000gn/T/ipykernel_42781/686456071.py:14: FutureWarning: The frame.append method is deprecated and will be removed from pandas in a future version. Use pandas.concat instead.\n",
      "  compute_time_df = compute_time_df.append({'Query': query_name, 'PQ Setting': pq_setting, 'Compute Similarity Duration': compute_time_dict['compute_similarity_duration'], 'Get Ranking Duration': compute_time_dict['get_rank_duration'], 'Save to CSV Duration': compute_time_dict['save_to_csv_duration'], 'Basic Compute Duration': compute_time_dict['basic_compute_duration'], 'True Compute Duration': compute_time_dict['true_compute_duration']}, ignore_index=True)\n"
     ]
    },
    {
     "name": "stdout",
     "output_type": "stream",
     "text": [
      "pq_16_128 Results Saved to CSV!\n",
      "\n",
      "===============================================================\n",
      "Query:  costume designer and makeup artist\n",
      "PQ Setting:  pq_16_128\n",
      "Total Time Taken:\n",
      "\n",
      "Start Time:  1697269313.810844\n",
      "Compute Similarity Duration:  0.02756500244140625\n",
      "Get Ranking Duration:  0.009945154190063477\n",
      "Save to CSV Duration:  2.394049882888794\n",
      "Basic Time Duration:  2.4316821098327637\n",
      "True Computed Time Duration:  2.4315600395202637\n",
      "===============================================================\n",
      "Computing similarity for: resilient investment banker...\n"
     ]
    },
    {
     "name": "stderr",
     "output_type": "stream",
     "text": [
      "/var/folders/2q/bjqpws1153b0_y18lhffmh_m0000gn/T/ipykernel_42781/686456071.py:14: FutureWarning: The frame.append method is deprecated and will be removed from pandas in a future version. Use pandas.concat instead.\n",
      "  compute_time_df = compute_time_df.append({'Query': query_name, 'PQ Setting': pq_setting, 'Compute Similarity Duration': compute_time_dict['compute_similarity_duration'], 'Get Ranking Duration': compute_time_dict['get_rank_duration'], 'Save to CSV Duration': compute_time_dict['save_to_csv_duration'], 'Basic Compute Duration': compute_time_dict['basic_compute_duration'], 'True Compute Duration': compute_time_dict['true_compute_duration']}, ignore_index=True)\n",
      "/var/folders/2q/bjqpws1153b0_y18lhffmh_m0000gn/T/ipykernel_42781/686456071.py:17: FutureWarning: The frame.append method is deprecated and will be removed from pandas in a future version. Use pandas.concat instead.\n",
      "  compute_time_df = compute_time_df.append({'Query': 'Average', 'PQ Setting': pq_setting, 'Compute Similarity Duration': compute_time_df['Compute Similarity Duration'].mean(), 'Get Ranking Duration': compute_time_df['Get Ranking Duration'].mean(), 'Save to CSV Duration': compute_time_df['Save to CSV Duration'].mean(), 'Basic Compute Duration': compute_time_df['Basic Compute Duration'].mean(), 'True Compute Duration': compute_time_df['True Compute Duration'].mean()}, ignore_index=True)\n"
     ]
    },
    {
     "name": "stdout",
     "output_type": "stream",
     "text": [
      "Getting Query Results Ranking....\n",
      "Top 5 Results:\n",
      "                                                     Data  \\\n",
      "5857   Psychotherapist Private Practice FFS W2 starti...   \n",
      "5817   Inspector Structural Engineer - Special Inspec...   \n",
      "11455  Spanish Teacher St. Mary Assumption School loc...   \n",
      "15164  Java Developer Title: -Java DeveloperLocation:...   \n",
      "1952   Salesperson Part-time phone sales. Stay home p...   \n",
      "\n",
      "                                                  Vector   Distance  \n",
      "5857   [0, 0, 0, 0, 0, 0, 0, 0, 0, 0, 0, 0, 0, 0, 0, ...  31.724566  \n",
      "5817   [0, 0, 0, 0, 0, 0, 0, 0, 0, 0, 0, 0, 0, 0, 0, ...  31.724566  \n",
      "11455  [0, 0, 0, 0, 0, 0, 0, 0, 0, 0, 0, 0, 0, 0, 0, ...  31.724566  \n",
      "15164  [0, 0, 0, 0, 0, 0, 0, 0, 0, 0, 0, 0, 0, 0, 0, ...  31.724566  \n",
      "1952   [0, 0, 0, 0, 0, 0, 0, 0, 0, 0, 0, 0, 0, 0, 0, ...  31.724566  \n",
      "Saving pq_32_8 Results to CSV....\n",
      "pq_32_8 Results Saved to CSV!\n",
      "\n",
      "===============================================================\n",
      "Query:  resilient investment banker\n",
      "PQ Setting:  pq_32_8\n",
      "Total Time Taken:\n",
      "\n",
      "Start Time:  1697269316.2595918\n",
      "Compute Similarity Duration:  0.31163501739501953\n",
      "Get Ranking Duration:  0.015609025955200195\n",
      "Save to CSV Duration:  2.3959600925445557\n",
      "Basic Time Duration:  2.723917245864868\n",
      "True Computed Time Duration:  2.7232041358947754\n",
      "===============================================================\n",
      "Computing similarity for: 2 years experience product manager...\n",
      "Getting Query Results Ranking....\n",
      "Top 5 Results:\n",
      "                                                    Data  \\\n",
      "4280  ETL Developer W2 Role (All Inclusive) We looki...   \n",
      "6276  Athletic field construction Equipment operator...   \n",
      "7608  LPN - Assisted Living The Assisted Living LPN ...   \n",
      "5817  Inspector Structural Engineer - Special Inspec...   \n",
      "2946  Associate Attorney 2-5 years No-Fault experien...   \n",
      "\n",
      "                                                 Vector   Distance  \n",
      "4280  [0, 0, 0, 0, 0, 0, 0, 0, 0, 0, 0, 0, 0, 0, 0, ...  28.483078  \n",
      "6276  [0, 0, 0, 0, 0, 0, 0, 0, 0, 0, 0, 0, 0, 0, 0, ...  28.483078  \n",
      "7608  [0, 0, 0, 0, 0, 0, 0, 0, 0, 0, 0, 0, 0, 0, 0, ...  28.483078  \n",
      "5817  [0, 0, 0, 0, 0, 0, 0, 0, 0, 0, 0, 0, 0, 0, 0, ...  28.483078  \n",
      "2946  [0, 0, 0, 0, 0, 0, 0, 0, 0, 0, 0, 0, 0, 0, 0, ...  28.483078  \n",
      "Saving pq_32_8 Results to CSV....\n"
     ]
    },
    {
     "name": "stderr",
     "output_type": "stream",
     "text": [
      "/var/folders/2q/bjqpws1153b0_y18lhffmh_m0000gn/T/ipykernel_42781/686456071.py:14: FutureWarning: The frame.append method is deprecated and will be removed from pandas in a future version. Use pandas.concat instead.\n",
      "  compute_time_df = compute_time_df.append({'Query': query_name, 'PQ Setting': pq_setting, 'Compute Similarity Duration': compute_time_dict['compute_similarity_duration'], 'Get Ranking Duration': compute_time_dict['get_rank_duration'], 'Save to CSV Duration': compute_time_dict['save_to_csv_duration'], 'Basic Compute Duration': compute_time_dict['basic_compute_duration'], 'True Compute Duration': compute_time_dict['true_compute_duration']}, ignore_index=True)\n"
     ]
    },
    {
     "name": "stdout",
     "output_type": "stream",
     "text": [
      "pq_32_8 Results Saved to CSV!\n",
      "\n",
      "===============================================================\n",
      "Query:  2 years experience product manager\n",
      "PQ Setting:  pq_32_8\n",
      "Total Time Taken:\n",
      "\n",
      "Start Time:  1697269318.987935\n",
      "Compute Similarity Duration:  0.00814509391784668\n",
      "Get Ranking Duration:  0.015866756439208984\n",
      "Save to CSV Duration:  2.3627231121063232\n",
      "Basic Time Duration:  2.386847972869873\n",
      "True Computed Time Duration:  2.386734962463379\n",
      "===============================================================\n",
      "Computing similarity for: 10 years risk analyst problem solver...\n",
      "Getting Query Results Ranking....\n",
      "Top 5 Results:\n",
      "                                                     Data  \\\n",
      "147    HVAC Installer K.E. Seifert, Inc., well establ...   \n",
      "1630   Control Engineer Tired monotonous applications...   \n",
      "1369   Lease Anaylyst Sr. lease analyst work private ...   \n",
      "1353   Java Consultant Hi Professionals, This Janarth...   \n",
      "13746  Head Originations Mortgage REIT focusing Real ...   \n",
      "\n",
      "                                                  Vector   Distance  \n",
      "147    [0, 1, 0, 0, 0, 0, 0, 0, 0, 0, 0, 0, 0, 0, 0, ...  32.197212  \n",
      "1630   [0, 0, 0, 0, 0, 0, 0, 0, 0, 0, 0, 0, 0, 0, 0, ...  32.197212  \n",
      "1369   [0, 0, 0, 0, 0, 0, 0, 0, 0, 0, 0, 0, 0, 0, 0, ...  32.197212  \n",
      "1353   [0, 0, 0, 0, 0, 0, 0, 0, 0, 0, 0, 0, 0, 0, 0, ...  32.197212  \n",
      "13746  [0, 0, 0, 0, 0, 0, 0, 0, 0, 0, 0, 0, 0, 0, 0, ...  32.197212  \n",
      "Saving pq_32_8 Results to CSV....\n"
     ]
    },
    {
     "name": "stderr",
     "output_type": "stream",
     "text": [
      "/var/folders/2q/bjqpws1153b0_y18lhffmh_m0000gn/T/ipykernel_42781/686456071.py:14: FutureWarning: The frame.append method is deprecated and will be removed from pandas in a future version. Use pandas.concat instead.\n",
      "  compute_time_df = compute_time_df.append({'Query': query_name, 'PQ Setting': pq_setting, 'Compute Similarity Duration': compute_time_dict['compute_similarity_duration'], 'Get Ranking Duration': compute_time_dict['get_rank_duration'], 'Save to CSV Duration': compute_time_dict['save_to_csv_duration'], 'Basic Compute Duration': compute_time_dict['basic_compute_duration'], 'True Compute Duration': compute_time_dict['true_compute_duration']}, ignore_index=True)\n"
     ]
    },
    {
     "name": "stdout",
     "output_type": "stream",
     "text": [
      "pq_32_8 Results Saved to CSV!\n",
      "\n",
      "===============================================================\n",
      "Query:  10 years risk analyst problem solver\n",
      "PQ Setting:  pq_32_8\n",
      "Total Time Taken:\n",
      "\n",
      "Start Time:  1697269321.3784902\n",
      "Compute Similarity Duration:  0.00714874267578125\n",
      "Get Ranking Duration:  0.01353597640991211\n",
      "Save to CSV Duration:  2.376051187515259\n",
      "Basic Time Duration:  2.396920680999756\n",
      "True Computed Time Duration:  2.396735906600952\n",
      "===============================================================\n",
      "Computing similarity for: tax analyst for big company...\n",
      "Getting Query Results Ranking....\n",
      "Top 5 Results:\n",
      "                                                     Data  \\\n",
      "15320  Sales Associate As Sales Associate, responsibl...   \n",
      "665    .Net Developer Title: .Net DeveloperDuration: ...   \n",
      "7155   Sales Executive Owner Direct Construction tier...   \n",
      "5869   Human Resources Generalist The Human Resource ...   \n",
      "11455  Spanish Teacher St. Mary Assumption School loc...   \n",
      "\n",
      "                                                  Vector   Distance  \n",
      "15320  [0, 0, 0, 0, 0, 0, 0, 0, 0, 0, 0, 0, 0, 0, 0, ...  32.757637  \n",
      "665    [0, 0, 0, 0, 0, 0, 0, 0, 0, 0, 0, 0, 0, 0, 0, ...  32.757637  \n",
      "7155   [0, 0, 0, 0, 0, 0, 0, 0, 0, 0, 0, 0, 0, 0, 0, ...  32.757637  \n",
      "5869   [0, 0, 0, 0, 0, 0, 0, 0, 0, 0, 0, 0, 0, 0, 0, ...  32.757637  \n",
      "11455  [0, 0, 0, 0, 0, 0, 0, 0, 0, 0, 0, 0, 0, 0, 0, ...  32.757637  \n",
      "Saving pq_32_8 Results to CSV....\n"
     ]
    },
    {
     "name": "stderr",
     "output_type": "stream",
     "text": [
      "/var/folders/2q/bjqpws1153b0_y18lhffmh_m0000gn/T/ipykernel_42781/686456071.py:14: FutureWarning: The frame.append method is deprecated and will be removed from pandas in a future version. Use pandas.concat instead.\n",
      "  compute_time_df = compute_time_df.append({'Query': query_name, 'PQ Setting': pq_setting, 'Compute Similarity Duration': compute_time_dict['compute_similarity_duration'], 'Get Ranking Duration': compute_time_dict['get_rank_duration'], 'Save to CSV Duration': compute_time_dict['save_to_csv_duration'], 'Basic Compute Duration': compute_time_dict['basic_compute_duration'], 'True Compute Duration': compute_time_dict['true_compute_duration']}, ignore_index=True)\n"
     ]
    },
    {
     "name": "stdout",
     "output_type": "stream",
     "text": [
      "pq_32_8 Results Saved to CSV!\n",
      "\n",
      "===============================================================\n",
      "Query:  tax analyst for big company\n",
      "PQ Setting:  pq_32_8\n",
      "Total Time Taken:\n",
      "\n",
      "Start Time:  1697269323.7785568\n",
      "Compute Similarity Duration:  0.00584721565246582\n",
      "Get Ranking Duration:  0.012324094772338867\n",
      "Save to CSV Duration:  2.807569742202759\n",
      "Basic Time Duration:  2.825873374938965\n",
      "True Computed Time Duration:  2.8257410526275635\n",
      "===============================================================\n",
      "Computing similarity for: software engineer for google or amazon...\n",
      "Getting Query Results Ranking....\n",
      "Top 5 Results:\n",
      "                                                     Data  \\\n",
      "11455  Spanish Teacher St. Mary Assumption School loc...   \n",
      "5817   Inspector Structural Engineer - Special Inspec...   \n",
      "475    Creative, Elevated Executive Chef We looking c...   \n",
      "5794   Deputy Director Development We looking highly ...   \n",
      "5793   Real Estate Agent Residential real estate sale...   \n",
      "\n",
      "                                                  Vector   Distance  \n",
      "11455  [0, 0, 0, 0, 0, 0, 0, 0, 0, 0, 0, 0, 0, 0, 0, ...  33.160088  \n",
      "5817   [0, 0, 0, 0, 0, 0, 0, 0, 0, 0, 0, 0, 0, 0, 0, ...  33.160088  \n",
      "475    [0, 0, 0, 0, 0, 0, 0, 0, 0, 0, 0, 0, 0, 0, 0, ...  33.160088  \n",
      "5794   [0, 0, 0, 0, 0, 0, 0, 0, 0, 0, 0, 0, 0, 0, 0, ...  33.160088  \n",
      "5793   [0, 0, 0, 0, 0, 0, 0, 0, 0, 0, 0, 0, 0, 0, 0, ...  33.160088  \n",
      "Saving pq_32_8 Results to CSV....\n"
     ]
    },
    {
     "name": "stderr",
     "output_type": "stream",
     "text": [
      "/var/folders/2q/bjqpws1153b0_y18lhffmh_m0000gn/T/ipykernel_42781/686456071.py:14: FutureWarning: The frame.append method is deprecated and will be removed from pandas in a future version. Use pandas.concat instead.\n",
      "  compute_time_df = compute_time_df.append({'Query': query_name, 'PQ Setting': pq_setting, 'Compute Similarity Duration': compute_time_dict['compute_similarity_duration'], 'Get Ranking Duration': compute_time_dict['get_rank_duration'], 'Save to CSV Duration': compute_time_dict['save_to_csv_duration'], 'Basic Compute Duration': compute_time_dict['basic_compute_duration'], 'True Compute Duration': compute_time_dict['true_compute_duration']}, ignore_index=True)\n"
     ]
    },
    {
     "name": "stdout",
     "output_type": "stream",
     "text": [
      "pq_32_8 Results Saved to CSV!\n",
      "\n",
      "===============================================================\n",
      "Query:  software engineer for google or amazon\n",
      "PQ Setting:  pq_32_8\n",
      "Total Time Taken:\n",
      "\n",
      "Start Time:  1697269326.6073432\n",
      "Compute Similarity Duration:  0.0072667598724365234\n",
      "Get Ranking Duration:  0.011311054229736328\n",
      "Save to CSV Duration:  2.852854013442993\n",
      "Basic Time Duration:  2.8717329502105713\n",
      "True Computed Time Duration:  2.871431827545166\n",
      "===============================================================\n",
      "Computing similarity for: video editor for advertisements with 5 year experience...\n",
      "Getting Query Results Ranking....\n",
      "Top 5 Results:\n",
      "                                                    Data  \\\n",
      "6538  Licensed Real Estate Agent Looking make money ...   \n",
      "6183  Salesperson Ability sell Commodities US Europe...   \n",
      "2782  W2-Enterprise Integration Developer strong Ora...   \n",
      "687   Outreach Executive The Outreach Executive (OE)...   \n",
      "3744  Account Executive Are ambitious, driven passio...   \n",
      "\n",
      "                                                 Vector   Distance  \n",
      "6538  [0, 0, 0, 0, 0, 0, 0, 0, 0, 0, 0, 0, 0, 0, 0, ...  32.753723  \n",
      "6183  [0, 0, 0, 0, 0, 0, 0, 0, 0, 0, 0, 0, 0, 0, 0, ...  32.753723  \n",
      "2782  [0, 0, 0, 0, 0, 0, 0, 0, 0, 0, 0, 0, 0, 0, 0, ...  32.753723  \n",
      "687   [0, 0, 0, 0, 0, 0, 0, 0, 0, 0, 0, 0, 0, 0, 0, ...  32.753723  \n",
      "3744  [0, 0, 0, 0, 0, 0, 0, 0, 0, 0, 0, 0, 0, 0, 0, ...  32.753723  \n",
      "Saving pq_32_8 Results to CSV....\n"
     ]
    },
    {
     "name": "stderr",
     "output_type": "stream",
     "text": [
      "/var/folders/2q/bjqpws1153b0_y18lhffmh_m0000gn/T/ipykernel_42781/686456071.py:14: FutureWarning: The frame.append method is deprecated and will be removed from pandas in a future version. Use pandas.concat instead.\n",
      "  compute_time_df = compute_time_df.append({'Query': query_name, 'PQ Setting': pq_setting, 'Compute Similarity Duration': compute_time_dict['compute_similarity_duration'], 'Get Ranking Duration': compute_time_dict['get_rank_duration'], 'Save to CSV Duration': compute_time_dict['save_to_csv_duration'], 'Basic Compute Duration': compute_time_dict['basic_compute_duration'], 'True Compute Duration': compute_time_dict['true_compute_duration']}, ignore_index=True)\n"
     ]
    },
    {
     "name": "stdout",
     "output_type": "stream",
     "text": [
      "pq_32_8 Results Saved to CSV!\n",
      "\n",
      "===============================================================\n",
      "Query:  video editor for advertisements with 5 year experience\n",
      "PQ Setting:  pq_32_8\n",
      "Total Time Taken:\n",
      "\n",
      "Start Time:  1697269329.4861069\n",
      "Compute Similarity Duration:  0.01023101806640625\n",
      "Get Ranking Duration:  0.022274017333984375\n",
      "Save to CSV Duration:  2.770662307739258\n",
      "Basic Time Duration:  2.803349256515503\n",
      "True Computed Time Duration:  2.8031673431396484\n",
      "===============================================================\n",
      "Computing similarity for: full time senior head nurse position...\n",
      "Getting Query Results Ranking....\n",
      "Top 5 Results:\n",
      "                                                     Data  \\\n",
      "7276   Floor Coatings salesperson project manager Sal...   \n",
      "5866   Class CDL truck driver Drive dump truck tagalo...   \n",
      "5869   Human Resources Generalist The Human Resource ...   \n",
      "1792   Senior Transportation Planner New Sidewalks Pr...   \n",
      "15016  Senior Electrical Engineer One clients looking...   \n",
      "\n",
      "                                                  Vector   Distance  \n",
      "7276   [0, 0, 0, 0, 0, 0, 0, 0, 0, 0, 0, 0, 0, 0, 0, ...  32.191879  \n",
      "5866   [0, 0, 0, 0, 0, 0, 0, 0, 0, 0, 0, 0, 0, 0, 0, ...  32.191879  \n",
      "5869   [0, 0, 0, 0, 0, 0, 0, 0, 0, 0, 0, 0, 0, 0, 0, ...  32.191879  \n",
      "1792   [0, 0, 0, 0, 0, 0, 0, 0, 0, 0, 0, 0, 0, 0, 0, ...  32.191879  \n",
      "15016  [0, 0, 0, 0, 0, 0, 0, 0, 0, 0, 0, 0, 0, 0, 0, ...  32.191879  \n",
      "Saving pq_32_8 Results to CSV....\n"
     ]
    },
    {
     "name": "stderr",
     "output_type": "stream",
     "text": [
      "/var/folders/2q/bjqpws1153b0_y18lhffmh_m0000gn/T/ipykernel_42781/686456071.py:14: FutureWarning: The frame.append method is deprecated and will be removed from pandas in a future version. Use pandas.concat instead.\n",
      "  compute_time_df = compute_time_df.append({'Query': query_name, 'PQ Setting': pq_setting, 'Compute Similarity Duration': compute_time_dict['compute_similarity_duration'], 'Get Ranking Duration': compute_time_dict['get_rank_duration'], 'Save to CSV Duration': compute_time_dict['save_to_csv_duration'], 'Basic Compute Duration': compute_time_dict['basic_compute_duration'], 'True Compute Duration': compute_time_dict['true_compute_duration']}, ignore_index=True)\n"
     ]
    },
    {
     "name": "stdout",
     "output_type": "stream",
     "text": [
      "pq_32_8 Results Saved to CSV!\n",
      "\n",
      "===============================================================\n",
      "Query:  full time senior head nurse position\n",
      "PQ Setting:  pq_32_8\n",
      "Total Time Taken:\n",
      "\n",
      "Start Time:  1697269332.293702\n",
      "Compute Similarity Duration:  0.011146068572998047\n",
      "Get Ranking Duration:  0.01550912857055664\n",
      "Save to CSV Duration:  2.1485469341278076\n",
      "Basic Time Duration:  2.1753342151641846\n",
      "True Computed Time Duration:  2.1752021312713623\n",
      "===============================================================\n",
      "Computing similarity for: after school math and science tutor...\n",
      "Getting Query Results Ranking....\n",
      "Top 5 Results:\n",
      "                                                     Data  \\\n",
      "644    Quality Technician Please Note:ONLY FRESH/GRAD...   \n",
      "825    Preschool Teacher (Spanish/ English) Bloom Ear...   \n",
      "13717  Government Sales Specialist Sell tactical prod...   \n",
      "6470   Administrative Project Manager Hiring Administ...   \n",
      "839    President Freight broker wanted sales experien...   \n",
      "\n",
      "                                                  Vector  Distance  \n",
      "644    [0, 0, 0, 0, 0, 0, 0, 0, 0, 0, 0, 0, 0, 0, 0, ...  33.50193  \n",
      "825    [1, 0, 0, 0, 0, 0, 0, 0, 0, 0, 0, 0, 0, 0, 0, ...  33.50193  \n",
      "13717  [0, 0, 0, 0, 0, 0, 0, 0, 0, 0, 0, 0, 0, 0, 0, ...  33.50193  \n",
      "6470   [0, 0, 0, 0, 0, 0, 0, 0, 0, 0, 0, 0, 0, 0, 0, ...  33.50193  \n",
      "839    [0, 0, 0, 0, 0, 0, 0, 0, 0, 0, 0, 0, 0, 0, 0, ...  33.50193  \n",
      "Saving pq_32_8 Results to CSV....\n"
     ]
    },
    {
     "name": "stderr",
     "output_type": "stream",
     "text": [
      "/var/folders/2q/bjqpws1153b0_y18lhffmh_m0000gn/T/ipykernel_42781/686456071.py:14: FutureWarning: The frame.append method is deprecated and will be removed from pandas in a future version. Use pandas.concat instead.\n",
      "  compute_time_df = compute_time_df.append({'Query': query_name, 'PQ Setting': pq_setting, 'Compute Similarity Duration': compute_time_dict['compute_similarity_duration'], 'Get Ranking Duration': compute_time_dict['get_rank_duration'], 'Save to CSV Duration': compute_time_dict['save_to_csv_duration'], 'Basic Compute Duration': compute_time_dict['basic_compute_duration'], 'True Compute Duration': compute_time_dict['true_compute_duration']}, ignore_index=True)\n"
     ]
    },
    {
     "name": "stdout",
     "output_type": "stream",
     "text": [
      "pq_32_8 Results Saved to CSV!\n",
      "\n",
      "===============================================================\n",
      "Query:  after school math and science tutor\n",
      "PQ Setting:  pq_32_8\n",
      "Total Time Taken:\n",
      "\n",
      "Start Time:  1697269334.4714391\n",
      "Compute Similarity Duration:  0.006384849548339844\n",
      "Get Ranking Duration:  0.008327960968017578\n",
      "Save to CSV Duration:  2.7878761291503906\n",
      "Basic Time Duration:  2.8027217388153076\n",
      "True Computed Time Duration:  2.802588939666748\n",
      "===============================================================\n",
      "Computing similarity for: dietitian for professional atheletes...\n",
      "Getting Query Results Ranking....\n",
      "Top 5 Results:\n",
      "                                                     Data  \\\n",
      "13891  Senior Tax Manager Are interested joining one ...   \n",
      "10965  Sales Manager Your Responsibilities Will Inclu...   \n",
      "5710   Medical Secretary Patient check out, schedulin...   \n",
      "2538   White Collar Defense & Investigations Attorney...   \n",
      "2547   Mobile Application Developer hybird mobile app...   \n",
      "\n",
      "                                                  Vector  Distance  \n",
      "13891  [0, 0, 0, 0, 0, 0, 0, 0, 0, 0, 0, 0, 0, 0, 0, ...  30.75811  \n",
      "10965  [0, 0, 0, 0, 0, 0, 0, 0, 0, 0, 0, 0, 0, 0, 0, ...  30.75811  \n",
      "5710   [0, 0, 0, 0, 0, 0, 0, 0, 0, 0, 0, 0, 0, 0, 0, ...  30.75811  \n",
      "2538   [0, 0, 0, 0, 0, 0, 0, 0, 0, 0, 0, 0, 0, 0, 0, ...  30.75811  \n",
      "2547   [0, 0, 0, 0, 0, 0, 0, 0, 0, 0, 0, 0, 0, 0, 0, ...  30.75811  \n",
      "Saving pq_32_8 Results to CSV....\n"
     ]
    },
    {
     "name": "stderr",
     "output_type": "stream",
     "text": [
      "/var/folders/2q/bjqpws1153b0_y18lhffmh_m0000gn/T/ipykernel_42781/686456071.py:14: FutureWarning: The frame.append method is deprecated and will be removed from pandas in a future version. Use pandas.concat instead.\n",
      "  compute_time_df = compute_time_df.append({'Query': query_name, 'PQ Setting': pq_setting, 'Compute Similarity Duration': compute_time_dict['compute_similarity_duration'], 'Get Ranking Duration': compute_time_dict['get_rank_duration'], 'Save to CSV Duration': compute_time_dict['save_to_csv_duration'], 'Basic Compute Duration': compute_time_dict['basic_compute_duration'], 'True Compute Duration': compute_time_dict['true_compute_duration']}, ignore_index=True)\n"
     ]
    },
    {
     "name": "stdout",
     "output_type": "stream",
     "text": [
      "pq_32_8 Results Saved to CSV!\n",
      "\n",
      "===============================================================\n",
      "Query:  dietitian for professional atheletes\n",
      "PQ Setting:  pq_32_8\n",
      "Total Time Taken:\n",
      "\n",
      "Start Time:  1697269337.277502\n",
      "Compute Similarity Duration:  0.007642984390258789\n",
      "Get Ranking Duration:  0.016167879104614258\n",
      "Save to CSV Duration:  3.9668822288513184\n",
      "Basic Time Duration:  3.990812063217163\n",
      "True Computed Time Duration:  3.9906930923461914\n",
      "===============================================================\n",
      "Computing similarity for: costume designer and makeup artist...\n",
      "Getting Query Results Ranking....\n",
      "Top 5 Results:\n",
      "                                                     Data  \\\n",
      "5241   Hospitalist Interim Physicians Locum Tenens op...   \n",
      "3384   Salesforce Developer 𝐒𝐮𝐦𝐦𝐚𝐫𝐲 𝐨𝐟 𝐑𝐨𝐥𝐞 👤𝐑𝐨𝐥𝐞: 𝐒𝐚...   \n",
      "2707   Pharmacist Description:-Title: PharmacistLocat...   \n",
      "11334  Financial Advisor We looking advisors producti...   \n",
      "6538   Licensed Real Estate Agent Looking make money ...   \n",
      "\n",
      "                                                  Vector   Distance  \n",
      "5241   [0, 0, 0, 0, 0, 0, 0, 0, 0, 0, 0, 0, 0, 0, 0, ...  33.362511  \n",
      "3384   [0, 0, 0, 0, 0, 0, 0, 0, 0, 0, 0, 0, 0, 0, 0, ...  33.362511  \n",
      "2707   [0, 0, 0, 0, 0, 0, 0, 0, 0, 0, 0, 0, 0, 0, 0, ...  33.362511  \n",
      "11334  [0, 0, 0, 0, 0, 0, 0, 0, 0, 0, 0, 0, 0, 0, 0, ...  33.362511  \n",
      "6538   [0, 0, 0, 0, 0, 0, 0, 0, 0, 0, 0, 0, 0, 0, 0, ...  33.362511  \n",
      "Saving pq_32_8 Results to CSV....\n"
     ]
    },
    {
     "name": "stderr",
     "output_type": "stream",
     "text": [
      "/var/folders/2q/bjqpws1153b0_y18lhffmh_m0000gn/T/ipykernel_42781/686456071.py:14: FutureWarning: The frame.append method is deprecated and will be removed from pandas in a future version. Use pandas.concat instead.\n",
      "  compute_time_df = compute_time_df.append({'Query': query_name, 'PQ Setting': pq_setting, 'Compute Similarity Duration': compute_time_dict['compute_similarity_duration'], 'Get Ranking Duration': compute_time_dict['get_rank_duration'], 'Save to CSV Duration': compute_time_dict['save_to_csv_duration'], 'Basic Compute Duration': compute_time_dict['basic_compute_duration'], 'True Compute Duration': compute_time_dict['true_compute_duration']}, ignore_index=True)\n"
     ]
    },
    {
     "name": "stdout",
     "output_type": "stream",
     "text": [
      "pq_32_8 Results Saved to CSV!\n",
      "\n",
      "===============================================================\n",
      "Query:  costume designer and makeup artist\n",
      "PQ Setting:  pq_32_8\n",
      "Total Time Taken:\n",
      "\n",
      "Start Time:  1697269341.2705479\n",
      "Compute Similarity Duration:  0.0044820308685302734\n",
      "Get Ranking Duration:  0.010123014450073242\n",
      "Save to CSV Duration:  2.203071117401123\n",
      "Basic Time Duration:  2.2177722454071045\n",
      "True Computed Time Duration:  2.2176761627197266\n",
      "===============================================================\n",
      "Computing similarity for: resilient investment banker...\n"
     ]
    },
    {
     "name": "stderr",
     "output_type": "stream",
     "text": [
      "/var/folders/2q/bjqpws1153b0_y18lhffmh_m0000gn/T/ipykernel_42781/686456071.py:14: FutureWarning: The frame.append method is deprecated and will be removed from pandas in a future version. Use pandas.concat instead.\n",
      "  compute_time_df = compute_time_df.append({'Query': query_name, 'PQ Setting': pq_setting, 'Compute Similarity Duration': compute_time_dict['compute_similarity_duration'], 'Get Ranking Duration': compute_time_dict['get_rank_duration'], 'Save to CSV Duration': compute_time_dict['save_to_csv_duration'], 'Basic Compute Duration': compute_time_dict['basic_compute_duration'], 'True Compute Duration': compute_time_dict['true_compute_duration']}, ignore_index=True)\n",
      "/var/folders/2q/bjqpws1153b0_y18lhffmh_m0000gn/T/ipykernel_42781/686456071.py:17: FutureWarning: The frame.append method is deprecated and will be removed from pandas in a future version. Use pandas.concat instead.\n",
      "  compute_time_df = compute_time_df.append({'Query': 'Average', 'PQ Setting': pq_setting, 'Compute Similarity Duration': compute_time_df['Compute Similarity Duration'].mean(), 'Get Ranking Duration': compute_time_df['Get Ranking Duration'].mean(), 'Save to CSV Duration': compute_time_df['Save to CSV Duration'].mean(), 'Basic Compute Duration': compute_time_df['Basic Compute Duration'].mean(), 'True Compute Duration': compute_time_df['True Compute Duration'].mean()}, ignore_index=True)\n"
     ]
    },
    {
     "name": "stdout",
     "output_type": "stream",
     "text": [
      "Getting Query Results Ranking....\n",
      "Top 5 Results:\n",
      "                                                    Data  \\\n",
      "4277                 Salesperson 3+ years outside sales   \n",
      "1668  Salesperson Looking experienced sales people. ...   \n",
      "4795  Mortgage Consultant Must mortgage lending expe...   \n",
      "4359  Driver/Tour Guide Drivers License US citizen, ...   \n",
      "6219  Registered Dental Hygienist A small boutique d...   \n",
      "\n",
      "                                                 Vector   Distance  \n",
      "4277  [0, 0, 0, 0, 0, 0, 0, 0, 0, 0, 0, 0, 0, 0, 0, ...  18.372717  \n",
      "1668  [0, 0, 0, 0, 0, 0, 0, 0, 0, 0, 0, 0, 0, 0, 0, ...  18.372717  \n",
      "4795  [0, 0, 0, 0, 0, 0, 0, 0, 0, 0, 0, 0, 0, 0, 0, ...  18.372717  \n",
      "4359  [0, 0, 0, 0, 0, 0, 0, 0, 0, 0, 0, 0, 0, 0, 0, ...  18.372717  \n",
      "6219  [0, 0, 0, 0, 0, 0, 0, 0, 0, 0, 0, 0, 0, 0, 0, ...  18.372717  \n",
      "Saving pq_32_16 Results to CSV....\n",
      "pq_32_16 Results Saved to CSV!\n",
      "\n",
      "===============================================================\n",
      "Query:  resilient investment banker\n",
      "PQ Setting:  pq_32_16\n",
      "Total Time Taken:\n",
      "\n",
      "Start Time:  1697269343.50251\n",
      "Compute Similarity Duration:  0.2552969455718994\n",
      "Get Ranking Duration:  0.014364957809448242\n",
      "Save to CSV Duration:  1.9088258743286133\n",
      "Basic Time Duration:  2.178611993789673\n",
      "True Computed Time Duration:  2.178487777709961\n",
      "===============================================================\n",
      "Computing similarity for: 2 years experience product manager...\n",
      "Getting Query Results Ranking....\n",
      "Top 5 Results:\n",
      "                                                    Data  \\\n",
      "6865  Associate Open discussion anyone looking hang ...   \n",
      "552   Warehouse Specialist Looking full time warehou...   \n",
      "5817  Inspector Structural Engineer - Special Inspec...   \n",
      "6559  Elementary School Teacher Third grade teacher ...   \n",
      "1792  Senior Transportation Planner New Sidewalks Pr...   \n",
      "\n",
      "                                                 Vector   Distance  \n",
      "6865  [0, 0, 0, 0, 0, 0, 0, 0, 0, 0, 0, 0, 0, 0, 0, ...  17.107952  \n",
      "552   [0, 0, 0, 0, 0, 0, 0, 0, 0, 0, 0, 0, 0, 0, 0, ...  17.107952  \n",
      "5817  [0, 0, 0, 0, 0, 0, 0, 0, 0, 0, 0, 0, 0, 0, 0, ...  17.107952  \n",
      "6559  [0, 0, 0, 0, 0, 0, 0, 0, 0, 0, 0, 0, 0, 0, 0, ...  17.107952  \n",
      "1792  [0, 0, 0, 0, 0, 0, 0, 0, 0, 0, 0, 0, 0, 0, 0, ...  17.107952  \n",
      "Saving pq_32_16 Results to CSV....\n"
     ]
    },
    {
     "name": "stderr",
     "output_type": "stream",
     "text": [
      "/var/folders/2q/bjqpws1153b0_y18lhffmh_m0000gn/T/ipykernel_42781/686456071.py:14: FutureWarning: The frame.append method is deprecated and will be removed from pandas in a future version. Use pandas.concat instead.\n",
      "  compute_time_df = compute_time_df.append({'Query': query_name, 'PQ Setting': pq_setting, 'Compute Similarity Duration': compute_time_dict['compute_similarity_duration'], 'Get Ranking Duration': compute_time_dict['get_rank_duration'], 'Save to CSV Duration': compute_time_dict['save_to_csv_duration'], 'Basic Compute Duration': compute_time_dict['basic_compute_duration'], 'True Compute Duration': compute_time_dict['true_compute_duration']}, ignore_index=True)\n"
     ]
    },
    {
     "name": "stdout",
     "output_type": "stream",
     "text": [
      "pq_32_16 Results Saved to CSV!\n",
      "\n",
      "===============================================================\n",
      "Query:  2 years experience product manager\n",
      "PQ Setting:  pq_32_16\n",
      "Total Time Taken:\n",
      "\n",
      "Start Time:  1697269345.6851\n",
      "Compute Similarity Duration:  0.00668787956237793\n",
      "Get Ranking Duration:  0.015028953552246094\n",
      "Save to CSV Duration:  2.1561789512634277\n",
      "Basic Time Duration:  2.17799711227417\n",
      "True Computed Time Duration:  2.1778957843780518\n",
      "===============================================================\n",
      "Computing similarity for: 10 years risk analyst problem solver...\n",
      "Getting Query Results Ranking....\n",
      "Top 5 Results:\n",
      "                                                    Data  \\\n",
      "6907  Driver We looking professional driver join tea...   \n",
      "1058  Senior Network Engineer Hello, please look men...   \n",
      "1369  Lease Anaylyst Sr. lease analyst work private ...   \n",
      "608   Frontend React developer(10+ years) Java Scrip...   \n",
      "3148  Frontend ReactJS Developer(only 10+ years) Jav...   \n",
      "\n",
      "                                                 Vector   Distance  \n",
      "6907  [0, 0, 0, 0, 0, 0, 0, 0, 0, 0, 0, 0, 0, 0, 0, ...  19.889093  \n",
      "1058  [0, 0, 0, 0, 0, 0, 0, 0, 0, 0, 0, 0, 0, 0, 0, ...  19.889093  \n",
      "1369  [0, 0, 0, 0, 0, 0, 0, 0, 0, 0, 0, 0, 0, 0, 0, ...  19.889093  \n",
      "608   [0, 0, 0, 0, 0, 0, 0, 0, 0, 0, 0, 0, 0, 0, 0, ...  19.889093  \n",
      "3148  [0, 0, 0, 0, 0, 0, 0, 0, 0, 0, 0, 0, 0, 0, 0, ...  19.889093  \n",
      "Saving pq_32_16 Results to CSV....\n"
     ]
    },
    {
     "name": "stderr",
     "output_type": "stream",
     "text": [
      "/var/folders/2q/bjqpws1153b0_y18lhffmh_m0000gn/T/ipykernel_42781/686456071.py:14: FutureWarning: The frame.append method is deprecated and will be removed from pandas in a future version. Use pandas.concat instead.\n",
      "  compute_time_df = compute_time_df.append({'Query': query_name, 'PQ Setting': pq_setting, 'Compute Similarity Duration': compute_time_dict['compute_similarity_duration'], 'Get Ranking Duration': compute_time_dict['get_rank_duration'], 'Save to CSV Duration': compute_time_dict['save_to_csv_duration'], 'Basic Compute Duration': compute_time_dict['basic_compute_duration'], 'True Compute Duration': compute_time_dict['true_compute_duration']}, ignore_index=True)\n"
     ]
    },
    {
     "name": "stdout",
     "output_type": "stream",
     "text": [
      "pq_32_16 Results Saved to CSV!\n",
      "\n",
      "===============================================================\n",
      "Query:  10 years risk analyst problem solver\n",
      "PQ Setting:  pq_32_16\n",
      "Total Time Taken:\n",
      "\n",
      "Start Time:  1697269347.866006\n",
      "Compute Similarity Duration:  0.005767107009887695\n",
      "Get Ranking Duration:  0.010325908660888672\n",
      "Save to CSV Duration:  1.885944128036499\n",
      "Basic Time Duration:  1.9022421836853027\n",
      "True Computed Time Duration:  1.9020371437072754\n",
      "===============================================================\n",
      "Computing similarity for: tax analyst for big company...\n",
      "Getting Query Results Ranking....\n",
      "Top 5 Results:\n",
      "                                                     Data  \\\n",
      "6840   Caregiver Come work agency cares caregiver! Pa...   \n",
      "4753   HVAC duct installer helper No experience neces...   \n",
      "12829  parts service manager Managing parts area. Thi...   \n",
      "7155   Sales Executive Owner Direct Construction tier...   \n",
      "6378   Salesperson Self starting motivated. We teach ...   \n",
      "\n",
      "                                                  Vector   Distance  \n",
      "6840   [0, 0, 0, 0, 0, 0, 0, 0, 0, 0, 0, 0, 0, 0, 0, ...  19.317837  \n",
      "4753   [0, 0, 0, 0, 0, 0, 0, 0, 0, 0, 0, 0, 0, 0, 0, ...  19.317837  \n",
      "12829  [0, 0, 0, 0, 0, 0, 0, 0, 0, 0, 0, 0, 0, 0, 0, ...  19.317837  \n",
      "7155   [0, 0, 0, 0, 0, 0, 0, 0, 0, 0, 0, 0, 0, 0, 0, ...  19.317837  \n",
      "6378   [0, 0, 0, 0, 0, 0, 0, 0, 0, 0, 0, 0, 0, 0, 0, ...  19.317837  \n",
      "Saving pq_32_16 Results to CSV....\n"
     ]
    },
    {
     "name": "stderr",
     "output_type": "stream",
     "text": [
      "/var/folders/2q/bjqpws1153b0_y18lhffmh_m0000gn/T/ipykernel_42781/686456071.py:14: FutureWarning: The frame.append method is deprecated and will be removed from pandas in a future version. Use pandas.concat instead.\n",
      "  compute_time_df = compute_time_df.append({'Query': query_name, 'PQ Setting': pq_setting, 'Compute Similarity Duration': compute_time_dict['compute_similarity_duration'], 'Get Ranking Duration': compute_time_dict['get_rank_duration'], 'Save to CSV Duration': compute_time_dict['save_to_csv_duration'], 'Basic Compute Duration': compute_time_dict['basic_compute_duration'], 'True Compute Duration': compute_time_dict['true_compute_duration']}, ignore_index=True)\n"
     ]
    },
    {
     "name": "stdout",
     "output_type": "stream",
     "text": [
      "pq_32_16 Results Saved to CSV!\n",
      "\n",
      "===============================================================\n",
      "Query:  tax analyst for big company\n",
      "PQ Setting:  pq_32_16\n",
      "Total Time Taken:\n",
      "\n",
      "Start Time:  1697269349.770783\n",
      "Compute Similarity Duration:  0.007191181182861328\n",
      "Get Ranking Duration:  0.01163482666015625\n",
      "Save to CSV Duration:  1.9426639080047607\n",
      "Basic Time Duration:  1.961587905883789\n",
      "True Computed Time Duration:  1.9614899158477783\n",
      "===============================================================\n",
      "Computing similarity for: software engineer for google or amazon...\n",
      "Getting Query Results Ranking....\n",
      "Top 5 Results:\n",
      "                                                     Data  \\\n",
      "13187  Head Retail Banking Head Retail Affiliate Bank...   \n",
      "15069  Installation Technician Installation Technicia...   \n",
      "2700   Conga Salesforce Developer We need Conga Sales...   \n",
      "7155   Sales Executive Owner Direct Construction tier...   \n",
      "7169   Body Repair Technician Experienced body techni...   \n",
      "\n",
      "                                                  Vector   Distance  \n",
      "13187  [0, 0, 0, 0, 0, 0, 0, 0, 0, 0, 0, 0, 0, 0, 0, ...  20.078636  \n",
      "15069  [0, 0, 0, 0, 0, 0, 0, 0, 0, 0, 0, 0, 0, 0, 0, ...  20.078636  \n",
      "2700   [0, 0, 0, 0, 0, 0, 0, 0, 0, 0, 0, 0, 0, 0, 0, ...  20.078636  \n",
      "7155   [0, 0, 0, 0, 0, 0, 0, 0, 0, 0, 0, 0, 0, 0, 0, ...  20.078636  \n",
      "7169   [0, 0, 0, 0, 0, 0, 0, 0, 0, 0, 0, 0, 0, 0, 0, ...  20.078636  \n",
      "Saving pq_32_16 Results to CSV....\n"
     ]
    },
    {
     "name": "stderr",
     "output_type": "stream",
     "text": [
      "/var/folders/2q/bjqpws1153b0_y18lhffmh_m0000gn/T/ipykernel_42781/686456071.py:14: FutureWarning: The frame.append method is deprecated and will be removed from pandas in a future version. Use pandas.concat instead.\n",
      "  compute_time_df = compute_time_df.append({'Query': query_name, 'PQ Setting': pq_setting, 'Compute Similarity Duration': compute_time_dict['compute_similarity_duration'], 'Get Ranking Duration': compute_time_dict['get_rank_duration'], 'Save to CSV Duration': compute_time_dict['save_to_csv_duration'], 'Basic Compute Duration': compute_time_dict['basic_compute_duration'], 'True Compute Duration': compute_time_dict['true_compute_duration']}, ignore_index=True)\n"
     ]
    },
    {
     "name": "stdout",
     "output_type": "stream",
     "text": [
      "pq_32_16 Results Saved to CSV!\n",
      "\n",
      "===============================================================\n",
      "Query:  software engineer for google or amazon\n",
      "PQ Setting:  pq_32_16\n",
      "Total Time Taken:\n",
      "\n",
      "Start Time:  1697269351.7342799\n",
      "Compute Similarity Duration:  0.005967140197753906\n",
      "Get Ranking Duration:  0.010989189147949219\n",
      "Save to CSV Duration:  1.7757859230041504\n",
      "Basic Time Duration:  1.7928612232208252\n",
      "True Computed Time Duration:  1.7927422523498535\n",
      "===============================================================\n",
      "Computing similarity for: video editor for advertisements with 5 year experience...\n",
      "Getting Query Results Ranking....\n",
      "Top 5 Results:\n",
      "                                                     Data  \\\n",
      "6060   Survey Party Chief We seeking land survey part...   \n",
      "4396   Cleaning Specialist detail oriented, self star...   \n",
      "15639  業務主任/副理 純淨保養主張，主張減去非必要保養程序、非必要成分，挑戰市場保養慣例 Resp...   \n",
      "6050                    Esthetician Experience preferred   \n",
      "2098   Global Sales Director Must min 15 years sales ...   \n",
      "\n",
      "                                                  Vector  Distance  \n",
      "6060   [0, 0, 0, 0, 0, 0, 0, 0, 0, 0, 0, 0, 0, 0, 0, ...  20.63072  \n",
      "4396   [0, 0, 0, 0, 0, 0, 0, 0, 0, 0, 0, 0, 0, 0, 0, ...  20.63072  \n",
      "15639  [0, 0, 0, 0, 0, 0, 0, 0, 0, 0, 0, 0, 0, 0, 0, ...  20.63072  \n",
      "6050   [0, 0, 0, 0, 0, 0, 0, 0, 0, 0, 0, 0, 0, 0, 0, ...  20.63072  \n",
      "2098   [0, 0, 0, 0, 0, 0, 0, 0, 0, 0, 0, 0, 0, 0, 0, ...  20.63072  \n",
      "Saving pq_32_16 Results to CSV....\n"
     ]
    },
    {
     "name": "stderr",
     "output_type": "stream",
     "text": [
      "/var/folders/2q/bjqpws1153b0_y18lhffmh_m0000gn/T/ipykernel_42781/686456071.py:14: FutureWarning: The frame.append method is deprecated and will be removed from pandas in a future version. Use pandas.concat instead.\n",
      "  compute_time_df = compute_time_df.append({'Query': query_name, 'PQ Setting': pq_setting, 'Compute Similarity Duration': compute_time_dict['compute_similarity_duration'], 'Get Ranking Duration': compute_time_dict['get_rank_duration'], 'Save to CSV Duration': compute_time_dict['save_to_csv_duration'], 'Basic Compute Duration': compute_time_dict['basic_compute_duration'], 'True Compute Duration': compute_time_dict['true_compute_duration']}, ignore_index=True)\n"
     ]
    },
    {
     "name": "stdout",
     "output_type": "stream",
     "text": [
      "pq_32_16 Results Saved to CSV!\n",
      "\n",
      "===============================================================\n",
      "Query:  video editor for advertisements with 5 year experience\n",
      "PQ Setting:  pq_32_16\n",
      "Total Time Taken:\n",
      "\n",
      "Start Time:  1697269353.530838\n",
      "Compute Similarity Duration:  0.006905078887939453\n",
      "Get Ranking Duration:  0.0112457275390625\n",
      "Save to CSV Duration:  1.939493179321289\n",
      "Basic Time Duration:  1.9577391147613525\n",
      "True Computed Time Duration:  1.957643985748291\n",
      "===============================================================\n",
      "Computing similarity for: full time senior head nurse position...\n",
      "Getting Query Results Ranking....\n",
      "Top 5 Results:\n",
      "                                                     Data  \\\n",
      "6159   Loan Officer Construction Loan Officer need. W...   \n",
      "5793   Real Estate Agent Residential real estate sale...   \n",
      "5996   Head Chef Good Shot Golf Sporting Clays lookin...   \n",
      "11309  BI Publisher (w/ PowerApps & PowerAutomate) Ti...   \n",
      "7051                        Assistant Sous Chef position   \n",
      "\n",
      "                                                  Vector   Distance  \n",
      "6159   [0, 0, 0, 0, 0, 0, 0, 0, 0, 0, 0, 0, 0, 0, 0, ...  19.526417  \n",
      "5793   [0, 0, 0, 0, 0, 0, 0, 0, 0, 0, 0, 0, 0, 0, 0, ...  19.526417  \n",
      "5996   [0, 0, 0, 0, 0, 0, 0, 0, 0, 0, 0, 0, 0, 0, 0, ...  19.526417  \n",
      "11309  [0, 0, 0, 0, 0, 0, 0, 0, 0, 0, 0, 0, 0, 0, 0, ...  19.526417  \n",
      "7051   [0, 0, 0, 0, 0, 0, 0, 0, 0, 0, 0, 0, 0, 0, 0, ...  19.526417  \n",
      "Saving pq_32_16 Results to CSV....\n"
     ]
    },
    {
     "name": "stderr",
     "output_type": "stream",
     "text": [
      "/var/folders/2q/bjqpws1153b0_y18lhffmh_m0000gn/T/ipykernel_42781/686456071.py:14: FutureWarning: The frame.append method is deprecated and will be removed from pandas in a future version. Use pandas.concat instead.\n",
      "  compute_time_df = compute_time_df.append({'Query': query_name, 'PQ Setting': pq_setting, 'Compute Similarity Duration': compute_time_dict['compute_similarity_duration'], 'Get Ranking Duration': compute_time_dict['get_rank_duration'], 'Save to CSV Duration': compute_time_dict['save_to_csv_duration'], 'Basic Compute Duration': compute_time_dict['basic_compute_duration'], 'True Compute Duration': compute_time_dict['true_compute_duration']}, ignore_index=True)\n"
     ]
    },
    {
     "name": "stdout",
     "output_type": "stream",
     "text": [
      "pq_32_16 Results Saved to CSV!\n",
      "\n",
      "===============================================================\n",
      "Query:  full time senior head nurse position\n",
      "PQ Setting:  pq_32_16\n",
      "Total Time Taken:\n",
      "\n",
      "Start Time:  1697269355.491195\n",
      "Compute Similarity Duration:  0.005412101745605469\n",
      "Get Ranking Duration:  0.010456085205078125\n",
      "Save to CSV Duration:  1.849362850189209\n",
      "Basic Time Duration:  1.865325927734375\n",
      "True Computed Time Duration:  1.8652310371398926\n",
      "===============================================================\n",
      "Computing similarity for: after school math and science tutor...\n",
      "Getting Query Results Ranking....\n",
      "Top 5 Results:\n",
      "                                                     Data  \\\n",
      "12379  Junior gazdasági szakértő Feladatok Havi üzlet...   \n",
      "7210   Mechanical Design Engineer Autodesk suite incl...   \n",
      "15626  Licensed Massage Therapist Elements Belmont lo...   \n",
      "10126                                Paralegal Paralegal   \n",
      "6720               Mechanic Ford 6.7 super duty way F750   \n",
      "\n",
      "                                                  Vector   Distance  \n",
      "12379  [0, 0, 0, 0, 0, 0, 0, 0, 0, 0, 0, 0, 0, 0, 0, ...  20.301888  \n",
      "7210   [0, 0, 0, 0, 0, 0, 0, 0, 0, 0, 0, 0, 0, 0, 0, ...  20.301888  \n",
      "15626  [0, 0, 0, 0, 0, 0, 0, 0, 0, 0, 0, 0, 0, 0, 0, ...  20.301888  \n",
      "10126  [0, 0, 0, 0, 0, 0, 0, 0, 0, 0, 0, 0, 0, 0, 0, ...  20.301888  \n",
      "6720   [0, 0, 0, 0, 0, 0, 0, 0, 0, 0, 0, 0, 0, 0, 0, ...  20.301888  \n",
      "Saving pq_32_16 Results to CSV....\n"
     ]
    },
    {
     "name": "stderr",
     "output_type": "stream",
     "text": [
      "/var/folders/2q/bjqpws1153b0_y18lhffmh_m0000gn/T/ipykernel_42781/686456071.py:14: FutureWarning: The frame.append method is deprecated and will be removed from pandas in a future version. Use pandas.concat instead.\n",
      "  compute_time_df = compute_time_df.append({'Query': query_name, 'PQ Setting': pq_setting, 'Compute Similarity Duration': compute_time_dict['compute_similarity_duration'], 'Get Ranking Duration': compute_time_dict['get_rank_duration'], 'Save to CSV Duration': compute_time_dict['save_to_csv_duration'], 'Basic Compute Duration': compute_time_dict['basic_compute_duration'], 'True Compute Duration': compute_time_dict['true_compute_duration']}, ignore_index=True)\n"
     ]
    },
    {
     "name": "stdout",
     "output_type": "stream",
     "text": [
      "pq_32_16 Results Saved to CSV!\n",
      "\n",
      "===============================================================\n",
      "Query:  after school math and science tutor\n",
      "PQ Setting:  pq_32_16\n",
      "Total Time Taken:\n",
      "\n",
      "Start Time:  1697269357.3580859\n",
      "Compute Similarity Duration:  0.00569915771484375\n",
      "Get Ranking Duration:  0.010728836059570312\n",
      "Save to CSV Duration:  1.760270118713379\n",
      "Basic Time Duration:  1.7770240306854248\n",
      "True Computed Time Duration:  1.776698112487793\n",
      "===============================================================\n",
      "Computing similarity for: dietitian for professional atheletes...\n",
      "Getting Query Results Ranking....\n",
      "Top 5 Results:\n",
      "                                                     Data  \\\n",
      "15626  Licensed Massage Therapist Elements Belmont lo...   \n",
      "4390   Door technician Currently seeking experienced ...   \n",
      "11374               Radio Technician RF Radio Technician   \n",
      "7193                        Loan Officer Just go getter!   \n",
      "566    Release Train Engineer This individual respons...   \n",
      "\n",
      "                                                  Vector   Distance  \n",
      "15626  [0, 0, 0, 0, 0, 0, 0, 0, 0, 0, 0, 0, 0, 0, 0, ...  17.771574  \n",
      "4390   [0, 0, 0, 0, 0, 0, 0, 0, 0, 0, 0, 0, 0, 0, 0, ...  17.771574  \n",
      "11374  [0, 0, 0, 0, 0, 0, 0, 0, 0, 0, 0, 0, 0, 0, 0, ...  17.771574  \n",
      "7193   [0, 0, 0, 0, 0, 0, 0, 0, 0, 0, 0, 0, 0, 0, 0, ...  17.771574  \n",
      "566    [0, 0, 0, 0, 0, 0, 0, 0, 0, 0, 0, 0, 0, 0, 0, ...  17.771574  \n",
      "Saving pq_32_16 Results to CSV....\n"
     ]
    },
    {
     "name": "stderr",
     "output_type": "stream",
     "text": [
      "/var/folders/2q/bjqpws1153b0_y18lhffmh_m0000gn/T/ipykernel_42781/686456071.py:14: FutureWarning: The frame.append method is deprecated and will be removed from pandas in a future version. Use pandas.concat instead.\n",
      "  compute_time_df = compute_time_df.append({'Query': query_name, 'PQ Setting': pq_setting, 'Compute Similarity Duration': compute_time_dict['compute_similarity_duration'], 'Get Ranking Duration': compute_time_dict['get_rank_duration'], 'Save to CSV Duration': compute_time_dict['save_to_csv_duration'], 'Basic Compute Duration': compute_time_dict['basic_compute_duration'], 'True Compute Duration': compute_time_dict['true_compute_duration']}, ignore_index=True)\n"
     ]
    },
    {
     "name": "stdout",
     "output_type": "stream",
     "text": [
      "pq_32_16 Results Saved to CSV!\n",
      "\n",
      "===============================================================\n",
      "Query:  dietitian for professional atheletes\n",
      "PQ Setting:  pq_32_16\n",
      "Total Time Taken:\n",
      "\n",
      "Start Time:  1697269359.13834\n",
      "Compute Similarity Duration:  0.005209922790527344\n",
      "Get Ranking Duration:  0.010942935943603516\n",
      "Save to CSV Duration:  2.1656713485717773\n",
      "Basic Time Duration:  2.18196702003479\n",
      "True Computed Time Duration:  2.181824207305908\n",
      "===============================================================\n",
      "Computing similarity for: costume designer and makeup artist...\n",
      "Getting Query Results Ranking....\n",
      "Top 5 Results:\n",
      "                                                    Data  \\\n",
      "1727  Senior Mechanical Engineer Qualifications:B.S ...   \n",
      "3384  Salesforce Developer 𝐒𝐮𝐦𝐦𝐚𝐫𝐲 𝐨𝐟 𝐑𝐨𝐥𝐞 👤𝐑𝐨𝐥𝐞: 𝐒𝐚...   \n",
      "6060  Survey Party Chief We seeking land survey part...   \n",
      "3413  Director Sales And Business Development Lead e...   \n",
      "1263  Senior Interior Designer https://www.ccyarchit...   \n",
      "\n",
      "                                                 Vector   Distance  \n",
      "1727  [0, 0, 0, 0, 0, 0, 0, 0, 0, 0, 0, 0, 0, 0, 0, ...  20.003571  \n",
      "3384  [0, 0, 0, 0, 0, 0, 0, 0, 0, 0, 0, 0, 0, 0, 0, ...  20.003571  \n",
      "6060  [0, 0, 0, 0, 0, 0, 0, 0, 0, 0, 0, 0, 0, 0, 0, ...  20.003571  \n",
      "3413  [0, 0, 0, 0, 0, 0, 0, 0, 0, 0, 0, 0, 0, 0, 0, ...  20.003571  \n",
      "1263  [0, 0, 0, 0, 0, 0, 0, 0, 0, 0, 0, 0, 0, 0, 0, ...  20.003571  \n",
      "Saving pq_32_16 Results to CSV....\n"
     ]
    },
    {
     "name": "stderr",
     "output_type": "stream",
     "text": [
      "/var/folders/2q/bjqpws1153b0_y18lhffmh_m0000gn/T/ipykernel_42781/686456071.py:14: FutureWarning: The frame.append method is deprecated and will be removed from pandas in a future version. Use pandas.concat instead.\n",
      "  compute_time_df = compute_time_df.append({'Query': query_name, 'PQ Setting': pq_setting, 'Compute Similarity Duration': compute_time_dict['compute_similarity_duration'], 'Get Ranking Duration': compute_time_dict['get_rank_duration'], 'Save to CSV Duration': compute_time_dict['save_to_csv_duration'], 'Basic Compute Duration': compute_time_dict['basic_compute_duration'], 'True Compute Duration': compute_time_dict['true_compute_duration']}, ignore_index=True)\n"
     ]
    },
    {
     "name": "stdout",
     "output_type": "stream",
     "text": [
      "pq_32_16 Results Saved to CSV!\n",
      "\n",
      "===============================================================\n",
      "Query:  costume designer and makeup artist\n",
      "PQ Setting:  pq_32_16\n",
      "Total Time Taken:\n",
      "\n",
      "Start Time:  1697269361.32255\n",
      "Compute Similarity Duration:  0.00592494010925293\n",
      "Get Ranking Duration:  0.012257814407348633\n",
      "Save to CSV Duration:  2.0719451904296875\n",
      "Basic Time Duration:  2.0902609825134277\n",
      "True Computed Time Duration:  2.090127944946289\n",
      "===============================================================\n",
      "Computing similarity for: resilient investment banker...\n"
     ]
    },
    {
     "name": "stderr",
     "output_type": "stream",
     "text": [
      "/var/folders/2q/bjqpws1153b0_y18lhffmh_m0000gn/T/ipykernel_42781/686456071.py:14: FutureWarning: The frame.append method is deprecated and will be removed from pandas in a future version. Use pandas.concat instead.\n",
      "  compute_time_df = compute_time_df.append({'Query': query_name, 'PQ Setting': pq_setting, 'Compute Similarity Duration': compute_time_dict['compute_similarity_duration'], 'Get Ranking Duration': compute_time_dict['get_rank_duration'], 'Save to CSV Duration': compute_time_dict['save_to_csv_duration'], 'Basic Compute Duration': compute_time_dict['basic_compute_duration'], 'True Compute Duration': compute_time_dict['true_compute_duration']}, ignore_index=True)\n",
      "/var/folders/2q/bjqpws1153b0_y18lhffmh_m0000gn/T/ipykernel_42781/686456071.py:17: FutureWarning: The frame.append method is deprecated and will be removed from pandas in a future version. Use pandas.concat instead.\n",
      "  compute_time_df = compute_time_df.append({'Query': 'Average', 'PQ Setting': pq_setting, 'Compute Similarity Duration': compute_time_df['Compute Similarity Duration'].mean(), 'Get Ranking Duration': compute_time_df['Get Ranking Duration'].mean(), 'Save to CSV Duration': compute_time_df['Save to CSV Duration'].mean(), 'Basic Compute Duration': compute_time_df['Basic Compute Duration'].mean(), 'True Compute Duration': compute_time_df['True Compute Duration'].mean()}, ignore_index=True)\n"
     ]
    },
    {
     "name": "stdout",
     "output_type": "stream",
     "text": [
      "Getting Query Results Ranking....\n",
      "Top 5 Results:\n",
      "                                                     Data  \\\n",
      "6720               Mechanic Ford 6.7 super duty way F750   \n",
      "6276   Athletic field construction Equipment operator...   \n",
      "13717  Government Sales Specialist Sell tactical prod...   \n",
      "15639  業務主任/副理 純淨保養主張，主張減去非必要保養程序、非必要成分，挑戰市場保養慣例 Resp...   \n",
      "6091   Car Detailer Experienced detailer needed ASAP....   \n",
      "\n",
      "                                                  Vector   Distance  \n",
      "6720   [0, 0, 0, 0, 0, 0, 0, 0, 0, 0, 0, 0, 0, 0, 0, ...  12.273521  \n",
      "6276   [0, 0, 0, 0, 0, 0, 0, 0, 0, 0, 0, 0, 0, 0, 0, ...  12.273521  \n",
      "13717  [0, 0, 0, 0, 0, 0, 0, 0, 0, 0, 0, 0, 0, 0, 0, ...  12.273521  \n",
      "15639  [0, 0, 0, 0, 0, 0, 0, 0, 0, 0, 0, 0, 0, 0, 0, ...  12.273521  \n",
      "6091   [0, 0, 0, 0, 0, 0, 0, 0, 0, 0, 0, 0, 0, 0, 0, ...  12.273521  \n",
      "Saving pq_32_32 Results to CSV....\n",
      "pq_32_32 Results Saved to CSV!\n",
      "\n",
      "===============================================================\n",
      "Query:  resilient investment banker\n",
      "PQ Setting:  pq_32_32\n",
      "Total Time Taken:\n",
      "\n",
      "Start Time:  1697269363.423576\n",
      "Compute Similarity Duration:  0.21250486373901367\n",
      "Get Ranking Duration:  0.011043071746826172\n",
      "Save to CSV Duration:  1.833446741104126\n",
      "Basic Time Duration:  2.0573339462280273\n",
      "True Computed Time Duration:  2.056994676589966\n",
      "===============================================================\n",
      "Computing similarity for: 2 years experience product manager...\n",
      "Getting Query Results Ranking....\n",
      "Top 5 Results:\n",
      "                                                    Data  \\\n",
      "6790  Pediatric Occupational Therapist Pediatric occ...   \n",
      "2547  Mobile Application Developer hybird mobile app...   \n",
      "3657  Registered Nurse Experienced register nurses. ...   \n",
      "7299  Maintenance Technician Maintenance Supervisor ...   \n",
      "7298                    Analyst Communications Director   \n",
      "\n",
      "                                                 Vector   Distance  \n",
      "6790  [0, 0, 0, 0, 0, 0, 0, 0, 0, 0, 0, 0, 0, 0, 0, ...  11.044055  \n",
      "2547  [0, 0, 0, 0, 0, 0, 0, 0, 0, 0, 0, 0, 0, 0, 0, ...  11.044055  \n",
      "3657  [0, 0, 0, 0, 0, 0, 0, 0, 0, 0, 0, 0, 0, 0, 0, ...  11.044055  \n",
      "7299  [0, 0, 0, 0, 0, 0, 0, 0, 0, 0, 0, 0, 0, 0, 0, ...  11.044055  \n",
      "7298  [0, 0, 0, 0, 0, 0, 0, 0, 0, 0, 0, 0, 0, 0, 0, ...  11.044055  \n",
      "Saving pq_32_32 Results to CSV....\n"
     ]
    },
    {
     "name": "stderr",
     "output_type": "stream",
     "text": [
      "/var/folders/2q/bjqpws1153b0_y18lhffmh_m0000gn/T/ipykernel_42781/686456071.py:14: FutureWarning: The frame.append method is deprecated and will be removed from pandas in a future version. Use pandas.concat instead.\n",
      "  compute_time_df = compute_time_df.append({'Query': query_name, 'PQ Setting': pq_setting, 'Compute Similarity Duration': compute_time_dict['compute_similarity_duration'], 'Get Ranking Duration': compute_time_dict['get_rank_duration'], 'Save to CSV Duration': compute_time_dict['save_to_csv_duration'], 'Basic Compute Duration': compute_time_dict['basic_compute_duration'], 'True Compute Duration': compute_time_dict['true_compute_duration']}, ignore_index=True)\n"
     ]
    },
    {
     "name": "stdout",
     "output_type": "stream",
     "text": [
      "pq_32_32 Results Saved to CSV!\n",
      "\n",
      "===============================================================\n",
      "Query:  2 years experience product manager\n",
      "PQ Setting:  pq_32_32\n",
      "Total Time Taken:\n",
      "\n",
      "Start Time:  1697269365.48577\n",
      "Compute Similarity Duration:  0.013444185256958008\n",
      "Get Ranking Duration:  0.014379024505615234\n",
      "Save to CSV Duration:  2.0120577812194824\n",
      "Basic Time Duration:  2.0400660037994385\n",
      "True Computed Time Duration:  2.0398809909820557\n",
      "===============================================================\n",
      "Computing similarity for: 10 years risk analyst problem solver...\n",
      "Getting Query Results Ranking....\n",
      "Top 5 Results:\n",
      "                                                     Data  \\\n",
      "608    Frontend React developer(10+ years) Java Scrip...   \n",
      "3148   Frontend ReactJS Developer(only 10+ years) Jav...   \n",
      "7878   Adobe Campaign Consultant Adobe Campaign Class...   \n",
      "15639  業務主任/副理 純淨保養主張，主張減去非必要保養程序、非必要成分，挑戰市場保養慣例 Resp...   \n",
      "7298                     Analyst Communications Director   \n",
      "\n",
      "                                                  Vector   Distance  \n",
      "608    [0, 0, 0, 0, 0, 0, 0, 0, 0, 0, 0, 0, 0, 0, 0, ...  13.359879  \n",
      "3148   [0, 0, 0, 0, 0, 0, 0, 0, 0, 0, 0, 0, 0, 0, 0, ...  13.359879  \n",
      "7878   [0, 0, 0, 0, 0, 0, 0, 0, 0, 0, 0, 0, 0, 0, 0, ...  14.259350  \n",
      "15639  [0, 0, 0, 0, 0, 0, 0, 0, 0, 0, 0, 0, 0, 0, 0, ...  14.259350  \n",
      "7298   [0, 0, 0, 0, 0, 0, 0, 0, 0, 0, 0, 0, 0, 0, 0, ...  14.259350  \n",
      "Saving pq_32_32 Results to CSV....\n"
     ]
    },
    {
     "name": "stderr",
     "output_type": "stream",
     "text": [
      "/var/folders/2q/bjqpws1153b0_y18lhffmh_m0000gn/T/ipykernel_42781/686456071.py:14: FutureWarning: The frame.append method is deprecated and will be removed from pandas in a future version. Use pandas.concat instead.\n",
      "  compute_time_df = compute_time_df.append({'Query': query_name, 'PQ Setting': pq_setting, 'Compute Similarity Duration': compute_time_dict['compute_similarity_duration'], 'Get Ranking Duration': compute_time_dict['get_rank_duration'], 'Save to CSV Duration': compute_time_dict['save_to_csv_duration'], 'Basic Compute Duration': compute_time_dict['basic_compute_duration'], 'True Compute Duration': compute_time_dict['true_compute_duration']}, ignore_index=True)\n"
     ]
    },
    {
     "name": "stdout",
     "output_type": "stream",
     "text": [
      "pq_32_32 Results Saved to CSV!\n",
      "\n",
      "===============================================================\n",
      "Query:  10 years risk analyst problem solver\n",
      "PQ Setting:  pq_32_32\n",
      "Total Time Taken:\n",
      "\n",
      "Start Time:  1697269367.52948\n",
      "Compute Similarity Duration:  0.007781982421875\n",
      "Get Ranking Duration:  0.009530067443847656\n",
      "Save to CSV Duration:  2.118474006652832\n",
      "Basic Time Duration:  2.135901927947998\n",
      "True Computed Time Duration:  2.1357860565185547\n",
      "===============================================================\n",
      "Computing similarity for: tax analyst for big company...\n",
      "Getting Query Results Ranking....\n",
      "Top 5 Results:\n",
      "                                                    Data  \\\n",
      "5987                      Medical Assistant Apply lever   \n",
      "1792  Senior Transportation Planner New Sidewalks Pr...   \n",
      "7193                       Loan Officer Just go getter!   \n",
      "3968                      Group Facilitator Facilitator   \n",
      "5710  Medical Secretary Patient check out, schedulin...   \n",
      "\n",
      "                                                 Vector   Distance  \n",
      "5987  [0, 0, 0, 0, 0, 0, 0, 0, 0, 0, 0, 0, 0, 0, 0, ...  13.473462  \n",
      "1792  [0, 0, 0, 0, 0, 0, 0, 0, 0, 0, 0, 0, 0, 0, 0, ...  13.473462  \n",
      "7193  [0, 0, 0, 0, 0, 0, 0, 0, 0, 0, 0, 0, 0, 0, 0, ...  13.473462  \n",
      "3968  [0, 0, 0, 0, 0, 0, 0, 0, 0, 0, 0, 0, 0, 0, 0, ...  13.473462  \n",
      "5710  [0, 0, 0, 0, 0, 0, 0, 0, 0, 0, 0, 0, 0, 0, 0, ...  13.473462  \n",
      "Saving pq_32_32 Results to CSV....\n"
     ]
    },
    {
     "name": "stderr",
     "output_type": "stream",
     "text": [
      "/var/folders/2q/bjqpws1153b0_y18lhffmh_m0000gn/T/ipykernel_42781/686456071.py:14: FutureWarning: The frame.append method is deprecated and will be removed from pandas in a future version. Use pandas.concat instead.\n",
      "  compute_time_df = compute_time_df.append({'Query': query_name, 'PQ Setting': pq_setting, 'Compute Similarity Duration': compute_time_dict['compute_similarity_duration'], 'Get Ranking Duration': compute_time_dict['get_rank_duration'], 'Save to CSV Duration': compute_time_dict['save_to_csv_duration'], 'Basic Compute Duration': compute_time_dict['basic_compute_duration'], 'True Compute Duration': compute_time_dict['true_compute_duration']}, ignore_index=True)\n"
     ]
    },
    {
     "name": "stdout",
     "output_type": "stream",
     "text": [
      "pq_32_32 Results Saved to CSV!\n",
      "\n",
      "===============================================================\n",
      "Query:  tax analyst for big company\n",
      "PQ Setting:  pq_32_32\n",
      "Total Time Taken:\n",
      "\n",
      "Start Time:  1697269369.667327\n",
      "Compute Similarity Duration:  0.00922393798828125\n",
      "Get Ranking Duration:  0.008474111557006836\n",
      "Save to CSV Duration:  1.7717089653015137\n",
      "Basic Time Duration:  1.7895779609680176\n",
      "True Computed Time Duration:  1.7894070148468018\n",
      "===============================================================\n",
      "Computing similarity for: software engineer for google or amazon...\n",
      "Getting Query Results Ranking....\n",
      "Top 5 Results:\n",
      "                                                     Data  \\\n",
      "839    President Freight broker wanted sales experien...   \n",
      "7422   Low voltage installers Installing lo voltage w...   \n",
      "14491  Practice Manager Experience wound care, hyperb...   \n",
      "1153   Retail Sales Specialist Retail Sales, Customer...   \n",
      "7299   Maintenance Technician Maintenance Supervisor ...   \n",
      "\n",
      "                                                  Vector   Distance  \n",
      "839    [0, 0, 0, 0, 0, 0, 0, 0, 0, 0, 0, 0, 0, 0, 0, ...  14.309559  \n",
      "7422   [0, 0, 0, 0, 0, 0, 0, 0, 0, 0, 0, 0, 0, 0, 0, ...  14.309559  \n",
      "14491  [0, 0, 0, 0, 0, 0, 0, 0, 0, 0, 0, 0, 0, 0, 0, ...  14.309559  \n",
      "1153   [0, 0, 0, 0, 0, 0, 0, 0, 0, 0, 0, 0, 0, 0, 0, ...  14.309559  \n",
      "7299   [0, 0, 0, 0, 0, 0, 0, 0, 0, 0, 0, 0, 0, 0, 0, ...  14.309559  \n",
      "Saving pq_32_32 Results to CSV....\n"
     ]
    },
    {
     "name": "stderr",
     "output_type": "stream",
     "text": [
      "/var/folders/2q/bjqpws1153b0_y18lhffmh_m0000gn/T/ipykernel_42781/686456071.py:14: FutureWarning: The frame.append method is deprecated and will be removed from pandas in a future version. Use pandas.concat instead.\n",
      "  compute_time_df = compute_time_df.append({'Query': query_name, 'PQ Setting': pq_setting, 'Compute Similarity Duration': compute_time_dict['compute_similarity_duration'], 'Get Ranking Duration': compute_time_dict['get_rank_duration'], 'Save to CSV Duration': compute_time_dict['save_to_csv_duration'], 'Basic Compute Duration': compute_time_dict['basic_compute_duration'], 'True Compute Duration': compute_time_dict['true_compute_duration']}, ignore_index=True)\n"
     ]
    },
    {
     "name": "stdout",
     "output_type": "stream",
     "text": [
      "pq_32_32 Results Saved to CSV!\n",
      "\n",
      "===============================================================\n",
      "Query:  software engineer for google or amazon\n",
      "PQ Setting:  pq_32_32\n",
      "Total Time Taken:\n",
      "\n",
      "Start Time:  1697269371.460011\n",
      "Compute Similarity Duration:  0.008275985717773438\n",
      "Get Ranking Duration:  0.011605024337768555\n",
      "Save to CSV Duration:  1.8430969715118408\n",
      "Basic Time Duration:  1.86307692527771\n",
      "True Computed Time Duration:  1.8629779815673828\n",
      "===============================================================\n",
      "Computing similarity for: video editor for advertisements with 5 year experience...\n",
      "Getting Query Results Ranking....\n",
      "Top 5 Results:\n",
      "                                                    Data  \\\n",
      "6865  Associate Open discussion anyone looking hang ...   \n",
      "7169  Body Repair Technician Experienced body techni...   \n",
      "7193                       Loan Officer Just go getter!   \n",
      "6050                   Esthetician Experience preferred   \n",
      "4277                 Salesperson 3+ years outside sales   \n",
      "\n",
      "                                                 Vector   Distance  \n",
      "6865  [0, 0, 0, 0, 0, 0, 0, 0, 0, 0, 0, 0, 0, 0, 0, ...  14.627607  \n",
      "7169  [0, 0, 0, 0, 0, 0, 0, 0, 0, 0, 0, 0, 0, 0, 0, ...  14.627607  \n",
      "7193  [0, 0, 0, 0, 0, 0, 0, 0, 0, 0, 0, 0, 0, 0, 0, ...  14.627607  \n",
      "6050  [0, 0, 0, 0, 0, 0, 0, 0, 0, 0, 0, 0, 0, 0, 0, ...  14.627607  \n",
      "4277  [0, 0, 0, 0, 0, 0, 0, 0, 0, 0, 0, 0, 0, 0, 0, ...  14.627607  \n",
      "Saving pq_32_32 Results to CSV....\n"
     ]
    },
    {
     "name": "stderr",
     "output_type": "stream",
     "text": [
      "/var/folders/2q/bjqpws1153b0_y18lhffmh_m0000gn/T/ipykernel_42781/686456071.py:14: FutureWarning: The frame.append method is deprecated and will be removed from pandas in a future version. Use pandas.concat instead.\n",
      "  compute_time_df = compute_time_df.append({'Query': query_name, 'PQ Setting': pq_setting, 'Compute Similarity Duration': compute_time_dict['compute_similarity_duration'], 'Get Ranking Duration': compute_time_dict['get_rank_duration'], 'Save to CSV Duration': compute_time_dict['save_to_csv_duration'], 'Basic Compute Duration': compute_time_dict['basic_compute_duration'], 'True Compute Duration': compute_time_dict['true_compute_duration']}, ignore_index=True)\n"
     ]
    },
    {
     "name": "stdout",
     "output_type": "stream",
     "text": [
      "pq_32_32 Results Saved to CSV!\n",
      "\n",
      "===============================================================\n",
      "Query:  video editor for advertisements with 5 year experience\n",
      "PQ Setting:  pq_32_32\n",
      "Total Time Taken:\n",
      "\n",
      "Start Time:  1697269373.32494\n",
      "Compute Similarity Duration:  0.008906126022338867\n",
      "Get Ranking Duration:  0.0070819854736328125\n",
      "Save to CSV Duration:  1.9887380599975586\n",
      "Basic Time Duration:  2.004836082458496\n",
      "True Computed Time Duration:  2.0047261714935303\n",
      "===============================================================\n",
      "Computing similarity for: full time senior head nurse position...\n",
      "Getting Query Results Ranking....\n",
      "Top 5 Results:\n",
      "                                                    Data  \\\n",
      "7051                       Assistant Sous Chef position   \n",
      "5241  Hospitalist Interim Physicians Locum Tenens op...   \n",
      "5996  Head Chef Good Shot Golf Sporting Clays lookin...   \n",
      "7170  Manager Writing, Organizing, AI, Communication...   \n",
      "5793  Real Estate Agent Residential real estate sale...   \n",
      "\n",
      "                                                 Vector   Distance  \n",
      "7051  [0, 0, 0, 0, 0, 0, 0, 0, 0, 0, 0, 0, 0, 0, 0, ...  13.331827  \n",
      "5241  [0, 0, 0, 0, 0, 0, 0, 0, 0, 0, 0, 0, 0, 0, 0, ...  13.331827  \n",
      "5996  [0, 0, 0, 0, 0, 0, 0, 0, 0, 0, 0, 0, 0, 0, 0, ...  13.331827  \n",
      "7170  [0, 0, 0, 0, 0, 0, 0, 0, 0, 0, 0, 0, 0, 0, 0, ...  13.331827  \n",
      "5793  [0, 0, 0, 0, 0, 0, 0, 0, 0, 0, 0, 0, 0, 0, 0, ...  13.331827  \n",
      "Saving pq_32_32 Results to CSV....\n"
     ]
    },
    {
     "name": "stderr",
     "output_type": "stream",
     "text": [
      "/var/folders/2q/bjqpws1153b0_y18lhffmh_m0000gn/T/ipykernel_42781/686456071.py:14: FutureWarning: The frame.append method is deprecated and will be removed from pandas in a future version. Use pandas.concat instead.\n",
      "  compute_time_df = compute_time_df.append({'Query': query_name, 'PQ Setting': pq_setting, 'Compute Similarity Duration': compute_time_dict['compute_similarity_duration'], 'Get Ranking Duration': compute_time_dict['get_rank_duration'], 'Save to CSV Duration': compute_time_dict['save_to_csv_duration'], 'Basic Compute Duration': compute_time_dict['basic_compute_duration'], 'True Compute Duration': compute_time_dict['true_compute_duration']}, ignore_index=True)\n"
     ]
    },
    {
     "name": "stdout",
     "output_type": "stream",
     "text": [
      "pq_32_32 Results Saved to CSV!\n",
      "\n",
      "===============================================================\n",
      "Query:  full time senior head nurse position\n",
      "PQ Setting:  pq_32_32\n",
      "Total Time Taken:\n",
      "\n",
      "Start Time:  1697269375.331872\n",
      "Compute Similarity Duration:  0.008355140686035156\n",
      "Get Ranking Duration:  0.008343696594238281\n",
      "Save to CSV Duration:  1.6946663856506348\n",
      "Basic Time Duration:  1.7114639282226562\n",
      "True Computed Time Duration:  1.7113652229309082\n",
      "===============================================================\n",
      "Computing similarity for: after school math and science tutor...\n",
      "Getting Query Results Ranking....\n",
      "Top 5 Results:\n",
      "                                                     Data  \\\n",
      "6071   Grade 6 Science Teacher We looking middle scho...   \n",
      "6763    Sales And Marketing Specialist internet designer   \n",
      "6559   Elementary School Teacher Third grade teacher ...   \n",
      "11455  Spanish Teacher St. Mary Assumption School loc...   \n",
      "12911  Certified Occupational Therapy Assistant We op...   \n",
      "\n",
      "                                                  Vector   Distance  \n",
      "6071   [0, 0, 0, 0, 0, 0, 0, 0, 0, 0, 0, 0, 0, 0, 0, ...  14.642130  \n",
      "6763   [0, 0, 0, 0, 0, 0, 0, 0, 0, 0, 0, 0, 0, 0, 0, ...  14.708076  \n",
      "6559   [0, 0, 0, 0, 0, 0, 0, 0, 0, 0, 0, 0, 0, 0, 0, ...  14.834215  \n",
      "11455  [0, 0, 0, 0, 0, 0, 0, 0, 0, 0, 0, 0, 0, 0, 0, ...  14.834215  \n",
      "12911  [0, 0, 0, 0, 0, 0, 0, 0, 0, 0, 0, 0, 0, 0, 0, ...  14.834215  \n",
      "Saving pq_32_32 Results to CSV....\n"
     ]
    },
    {
     "name": "stderr",
     "output_type": "stream",
     "text": [
      "/var/folders/2q/bjqpws1153b0_y18lhffmh_m0000gn/T/ipykernel_42781/686456071.py:14: FutureWarning: The frame.append method is deprecated and will be removed from pandas in a future version. Use pandas.concat instead.\n",
      "  compute_time_df = compute_time_df.append({'Query': query_name, 'PQ Setting': pq_setting, 'Compute Similarity Duration': compute_time_dict['compute_similarity_duration'], 'Get Ranking Duration': compute_time_dict['get_rank_duration'], 'Save to CSV Duration': compute_time_dict['save_to_csv_duration'], 'Basic Compute Duration': compute_time_dict['basic_compute_duration'], 'True Compute Duration': compute_time_dict['true_compute_duration']}, ignore_index=True)\n"
     ]
    },
    {
     "name": "stdout",
     "output_type": "stream",
     "text": [
      "pq_32_32 Results Saved to CSV!\n",
      "\n",
      "===============================================================\n",
      "Query:  after school math and science tutor\n",
      "PQ Setting:  pq_32_32\n",
      "Total Time Taken:\n",
      "\n",
      "Start Time:  1697269377.045887\n",
      "Compute Similarity Duration:  0.010165929794311523\n",
      "Get Ranking Duration:  0.0075910091400146484\n",
      "Save to CSV Duration:  1.7844352722167969\n",
      "Basic Time Duration:  1.8022971153259277\n",
      "True Computed Time Duration:  1.802192211151123\n",
      "===============================================================\n",
      "Computing similarity for: dietitian for professional atheletes...\n",
      "Getting Query Results Ranking....\n",
      "Top 5 Results:\n",
      "                                                    Data  \\\n",
      "6378  Salesperson Self starting motivated. We teach ...   \n",
      "6076  Parts Advisor Full time Tuesday thru Saturday....   \n",
      "1187  Client Care Coordinator https://housemaster-la...   \n",
      "6865  Associate Open discussion anyone looking hang ...   \n",
      "6370  District Sales Manager Existing District Manag...   \n",
      "\n",
      "                                                 Vector   Distance  \n",
      "6378  [0, 0, 0, 0, 0, 0, 0, 0, 0, 0, 0, 0, 0, 0, 0, ...  11.797588  \n",
      "6076  [0, 0, 0, 0, 0, 0, 0, 0, 0, 0, 0, 0, 0, 0, 0, ...  11.797588  \n",
      "1187  [0, 0, 0, 0, 0, 0, 0, 0, 0, 0, 0, 0, 0, 0, 0, ...  11.797588  \n",
      "6865  [0, 0, 0, 0, 0, 0, 0, 0, 0, 0, 0, 0, 0, 0, 0, ...  11.797588  \n",
      "6370  [0, 0, 0, 0, 0, 0, 0, 0, 0, 0, 0, 0, 0, 0, 0, ...  11.797588  \n",
      "Saving pq_32_32 Results to CSV....\n"
     ]
    },
    {
     "name": "stderr",
     "output_type": "stream",
     "text": [
      "/var/folders/2q/bjqpws1153b0_y18lhffmh_m0000gn/T/ipykernel_42781/686456071.py:14: FutureWarning: The frame.append method is deprecated and will be removed from pandas in a future version. Use pandas.concat instead.\n",
      "  compute_time_df = compute_time_df.append({'Query': query_name, 'PQ Setting': pq_setting, 'Compute Similarity Duration': compute_time_dict['compute_similarity_duration'], 'Get Ranking Duration': compute_time_dict['get_rank_duration'], 'Save to CSV Duration': compute_time_dict['save_to_csv_duration'], 'Basic Compute Duration': compute_time_dict['basic_compute_duration'], 'True Compute Duration': compute_time_dict['true_compute_duration']}, ignore_index=True)\n"
     ]
    },
    {
     "name": "stdout",
     "output_type": "stream",
     "text": [
      "pq_32_32 Results Saved to CSV!\n",
      "\n",
      "===============================================================\n",
      "Query:  dietitian for professional atheletes\n",
      "PQ Setting:  pq_32_32\n",
      "Total Time Taken:\n",
      "\n",
      "Start Time:  1697269378.850901\n",
      "Compute Similarity Duration:  0.00800323486328125\n",
      "Get Ranking Duration:  0.009347677230834961\n",
      "Save to CSV Duration:  1.7160542011260986\n",
      "Basic Time Duration:  1.7334961891174316\n",
      "True Computed Time Duration:  1.7334051132202148\n",
      "===============================================================\n",
      "Computing similarity for: costume designer and makeup artist...\n",
      "Getting Query Results Ranking....\n",
      "Top 5 Results:\n",
      "                                                    Data  \\\n",
      "6763   Sales And Marketing Specialist internet designer   \n",
      "6276  Athletic field construction Equipment operator...   \n",
      "7878  Adobe Campaign Consultant Adobe Campaign Class...   \n",
      "2383  Dump Truck Driver 3 year experience,CDL,clean ...   \n",
      "7422  Low voltage installers Installing lo voltage w...   \n",
      "\n",
      "                                                 Vector   Distance  \n",
      "6763  [0, 0, 0, 0, 0, 0, 0, 0, 0, 0, 0, 0, 0, 0, 0, ...  13.768214  \n",
      "6276  [0, 0, 0, 0, 0, 0, 0, 0, 0, 0, 0, 0, 0, 0, 0, ...  14.341988  \n",
      "7878  [0, 0, 0, 0, 0, 0, 0, 0, 0, 0, 0, 0, 0, 0, 0, ...  14.341988  \n",
      "2383  [0, 0, 0, 0, 0, 0, 0, 0, 0, 0, 0, 0, 0, 0, 0, ...  14.341988  \n",
      "7422  [0, 0, 0, 0, 0, 0, 0, 0, 0, 0, 0, 0, 0, 0, 0, ...  14.341988  \n",
      "Saving pq_32_32 Results to CSV....\n"
     ]
    },
    {
     "name": "stderr",
     "output_type": "stream",
     "text": [
      "/var/folders/2q/bjqpws1153b0_y18lhffmh_m0000gn/T/ipykernel_42781/686456071.py:14: FutureWarning: The frame.append method is deprecated and will be removed from pandas in a future version. Use pandas.concat instead.\n",
      "  compute_time_df = compute_time_df.append({'Query': query_name, 'PQ Setting': pq_setting, 'Compute Similarity Duration': compute_time_dict['compute_similarity_duration'], 'Get Ranking Duration': compute_time_dict['get_rank_duration'], 'Save to CSV Duration': compute_time_dict['save_to_csv_duration'], 'Basic Compute Duration': compute_time_dict['basic_compute_duration'], 'True Compute Duration': compute_time_dict['true_compute_duration']}, ignore_index=True)\n"
     ]
    },
    {
     "name": "stdout",
     "output_type": "stream",
     "text": [
      "pq_32_32 Results Saved to CSV!\n",
      "\n",
      "===============================================================\n",
      "Query:  costume designer and makeup artist\n",
      "PQ Setting:  pq_32_32\n",
      "Total Time Taken:\n",
      "\n",
      "Start Time:  1697269380.586088\n",
      "Compute Similarity Duration:  0.008327245712280273\n",
      "Get Ranking Duration:  0.007835865020751953\n",
      "Save to CSV Duration:  1.6454839706420898\n",
      "Basic Time Duration:  1.6617519855499268\n",
      "True Computed Time Duration:  1.661647081375122\n",
      "===============================================================\n",
      "Computing similarity for: resilient investment banker...\n"
     ]
    },
    {
     "name": "stderr",
     "output_type": "stream",
     "text": [
      "/var/folders/2q/bjqpws1153b0_y18lhffmh_m0000gn/T/ipykernel_42781/686456071.py:14: FutureWarning: The frame.append method is deprecated and will be removed from pandas in a future version. Use pandas.concat instead.\n",
      "  compute_time_df = compute_time_df.append({'Query': query_name, 'PQ Setting': pq_setting, 'Compute Similarity Duration': compute_time_dict['compute_similarity_duration'], 'Get Ranking Duration': compute_time_dict['get_rank_duration'], 'Save to CSV Duration': compute_time_dict['save_to_csv_duration'], 'Basic Compute Duration': compute_time_dict['basic_compute_duration'], 'True Compute Duration': compute_time_dict['true_compute_duration']}, ignore_index=True)\n",
      "/var/folders/2q/bjqpws1153b0_y18lhffmh_m0000gn/T/ipykernel_42781/686456071.py:17: FutureWarning: The frame.append method is deprecated and will be removed from pandas in a future version. Use pandas.concat instead.\n",
      "  compute_time_df = compute_time_df.append({'Query': 'Average', 'PQ Setting': pq_setting, 'Compute Similarity Duration': compute_time_df['Compute Similarity Duration'].mean(), 'Get Ranking Duration': compute_time_df['Get Ranking Duration'].mean(), 'Save to CSV Duration': compute_time_df['Save to CSV Duration'].mean(), 'Basic Compute Duration': compute_time_df['Basic Compute Duration'].mean(), 'True Compute Duration': compute_time_df['True Compute Duration'].mean()}, ignore_index=True)\n"
     ]
    },
    {
     "name": "stdout",
     "output_type": "stream",
     "text": [
      "Getting Query Results Ranking....\n",
      "Top 5 Results:\n",
      "                                                     Data  \\\n",
      "5866   Class CDL truck driver Drive dump truck tagalo...   \n",
      "1187   Client Care Coordinator https://housemaster-la...   \n",
      "4390   Door technician Currently seeking experienced ...   \n",
      "10126                                Paralegal Paralegal   \n",
      "5948                                  Therapist Licensed   \n",
      "\n",
      "                                                  Vector  Distance  \n",
      "5866   [0, 0, 0, 0, 0, 0, 0, 0, 0, 0, 0, 0, 0, 0, 0, ...  7.620427  \n",
      "1187   [0, 0, 0, 0, 0, 0, 0, 0, 0, 0, 0, 0, 0, 0, 0, ...  7.620427  \n",
      "4390   [0, 0, 0, 0, 0, 0, 0, 0, 0, 0, 0, 0, 0, 0, 0, ...  7.620427  \n",
      "10126  [0, 0, 0, 0, 0, 0, 0, 0, 0, 0, 0, 0, 0, 0, 0, ...  7.620427  \n",
      "5948   [0, 0, 0, 0, 0, 0, 0, 0, 0, 0, 0, 0, 0, 0, 0, ...  7.620427  \n",
      "Saving pq_32_64 Results to CSV....\n",
      "pq_32_64 Results Saved to CSV!\n",
      "\n",
      "===============================================================\n",
      "Query:  resilient investment banker\n",
      "PQ Setting:  pq_32_64\n",
      "Total Time Taken:\n",
      "\n",
      "Start Time:  1697269382.258502\n",
      "Compute Similarity Duration:  0.35434699058532715\n",
      "Get Ranking Duration:  0.010987997055053711\n",
      "Save to CSV Duration:  1.9168219566345215\n",
      "Basic Time Duration:  2.2822518348693848\n",
      "True Computed Time Duration:  2.2821569442749023\n",
      "===============================================================\n",
      "Computing similarity for: 2 years experience product manager...\n",
      "Getting Query Results Ranking....\n",
      "Top 5 Results:\n",
      "                                                     Data  \\\n",
      "2946   Associate Attorney 2-5 years No-Fault experien...   \n",
      "2383   Dump Truck Driver 3 year experience,CDL,clean ...   \n",
      "2547   Mobile Application Developer hybird mobile app...   \n",
      "14491  Practice Manager Experience wound care, hyperb...   \n",
      "5710   Medical Secretary Patient check out, schedulin...   \n",
      "\n",
      "                                                  Vector  Distance  \n",
      "2946   [0, 0, 0, 0, 0, 0, 0, 0, 0, 0, 0, 0, 0, 0, 0, ...  7.291990  \n",
      "2383   [0, 0, 0, 0, 0, 0, 0, 0, 0, 0, 0, 0, 0, 0, 0, ...  7.793021  \n",
      "2547   [0, 0, 0, 0, 0, 0, 0, 0, 0, 0, 0, 0, 0, 0, 0, ...  7.793021  \n",
      "14491  [0, 0, 0, 0, 0, 0, 0, 0, 0, 0, 0, 0, 0, 0, 0, ...  7.793021  \n",
      "5710   [0, 0, 0, 0, 0, 0, 0, 0, 0, 0, 0, 0, 0, 0, 0, ...  7.793021  \n",
      "Saving pq_32_64 Results to CSV....\n"
     ]
    },
    {
     "name": "stderr",
     "output_type": "stream",
     "text": [
      "/var/folders/2q/bjqpws1153b0_y18lhffmh_m0000gn/T/ipykernel_42781/686456071.py:14: FutureWarning: The frame.append method is deprecated and will be removed from pandas in a future version. Use pandas.concat instead.\n",
      "  compute_time_df = compute_time_df.append({'Query': query_name, 'PQ Setting': pq_setting, 'Compute Similarity Duration': compute_time_dict['compute_similarity_duration'], 'Get Ranking Duration': compute_time_dict['get_rank_duration'], 'Save to CSV Duration': compute_time_dict['save_to_csv_duration'], 'Basic Compute Duration': compute_time_dict['basic_compute_duration'], 'True Compute Duration': compute_time_dict['true_compute_duration']}, ignore_index=True)\n"
     ]
    },
    {
     "name": "stdout",
     "output_type": "stream",
     "text": [
      "pq_32_64 Results Saved to CSV!\n",
      "\n",
      "===============================================================\n",
      "Query:  2 years experience product manager\n",
      "PQ Setting:  pq_32_64\n",
      "Total Time Taken:\n",
      "\n",
      "Start Time:  1697269384.5444129\n",
      "Compute Similarity Duration:  0.02035212516784668\n",
      "Get Ranking Duration:  0.007884979248046875\n",
      "Save to CSV Duration:  2.0816919803619385\n",
      "Basic Time Duration:  2.1100661754608154\n",
      "True Computed Time Duration:  2.109929084777832\n",
      "===============================================================\n",
      "Computing similarity for: 10 years risk analyst problem solver...\n",
      "Getting Query Results Ranking....\n",
      "Top 5 Results:\n",
      "                                                    Data  \\\n",
      "608   Frontend React developer(10+ years) Java Scrip...   \n",
      "3148  Frontend ReactJS Developer(only 10+ years) Jav...   \n",
      "6720              Mechanic Ford 6.7 super duty way F750   \n",
      "3384  Salesforce Developer 𝐒𝐮𝐦𝐦𝐚𝐫𝐲 𝐨𝐟 𝐑𝐨𝐥𝐞 👤𝐑𝐨𝐥𝐞: 𝐒𝐚...   \n",
      "4390  Door technician Currently seeking experienced ...   \n",
      "\n",
      "                                                 Vector   Distance  \n",
      "608   [0, 0, 0, 0, 0, 0, 0, 0, 0, 0, 0, 0, 0, 0, 0, ...   9.431248  \n",
      "3148  [0, 0, 0, 0, 0, 0, 0, 0, 0, 0, 0, 0, 0, 0, 0, ...   9.431248  \n",
      "6720  [0, 0, 0, 0, 0, 0, 0, 0, 0, 0, 0, 0, 0, 0, 0, ...  10.588850  \n",
      "3384  [0, 0, 0, 0, 0, 0, 0, 0, 0, 0, 0, 0, 0, 0, 0, ...  10.588850  \n",
      "4390  [0, 0, 0, 0, 0, 0, 0, 0, 0, 0, 0, 0, 0, 0, 0, ...  10.588850  \n",
      "Saving pq_32_64 Results to CSV....\n"
     ]
    },
    {
     "name": "stderr",
     "output_type": "stream",
     "text": [
      "/var/folders/2q/bjqpws1153b0_y18lhffmh_m0000gn/T/ipykernel_42781/686456071.py:14: FutureWarning: The frame.append method is deprecated and will be removed from pandas in a future version. Use pandas.concat instead.\n",
      "  compute_time_df = compute_time_df.append({'Query': query_name, 'PQ Setting': pq_setting, 'Compute Similarity Duration': compute_time_dict['compute_similarity_duration'], 'Get Ranking Duration': compute_time_dict['get_rank_duration'], 'Save to CSV Duration': compute_time_dict['save_to_csv_duration'], 'Basic Compute Duration': compute_time_dict['basic_compute_duration'], 'True Compute Duration': compute_time_dict['true_compute_duration']}, ignore_index=True)\n"
     ]
    },
    {
     "name": "stdout",
     "output_type": "stream",
     "text": [
      "pq_32_64 Results Saved to CSV!\n",
      "\n",
      "===============================================================\n",
      "Query:  10 years risk analyst problem solver\n",
      "PQ Setting:  pq_32_64\n",
      "Total Time Taken:\n",
      "\n",
      "Start Time:  1697269386.6577852\n",
      "Compute Similarity Duration:  0.01834869384765625\n",
      "Get Ranking Duration:  0.010049104690551758\n",
      "Save to CSV Duration:  1.844620943069458\n",
      "Basic Time Duration:  1.873112678527832\n",
      "True Computed Time Duration:  1.873018741607666\n",
      "===============================================================\n",
      "Computing similarity for: tax analyst for big company...\n",
      "Getting Query Results Ranking....\n",
      "Top 5 Results:\n",
      "                                                    Data  \\\n",
      "5579  Executive Administrative Assistant See posting...   \n",
      "6865  Associate Open discussion anyone looking hang ...   \n",
      "6720              Mechanic Ford 6.7 super duty way F750   \n",
      "6774  Account Executive communicationn grant writing...   \n",
      "1792  Senior Transportation Planner New Sidewalks Pr...   \n",
      "\n",
      "                                                 Vector  Distance  \n",
      "5579  [0, 0, 0, 0, 0, 0, 0, 0, 0, 0, 0, 0, 0, 0, 0, ...  8.926994  \n",
      "6865  [0, 0, 0, 0, 0, 0, 0, 0, 0, 0, 0, 0, 0, 0, 0, ...  9.299239  \n",
      "6720  [0, 0, 0, 0, 0, 0, 0, 0, 0, 0, 0, 0, 0, 0, 0, ...  9.299239  \n",
      "6774  [0, 0, 0, 0, 0, 0, 0, 0, 0, 0, 0, 0, 0, 0, 0, ...  9.299239  \n",
      "1792  [0, 0, 0, 0, 0, 0, 0, 0, 0, 0, 0, 0, 0, 0, 0, ...  9.299239  \n",
      "Saving pq_32_64 Results to CSV....\n"
     ]
    },
    {
     "name": "stderr",
     "output_type": "stream",
     "text": [
      "/var/folders/2q/bjqpws1153b0_y18lhffmh_m0000gn/T/ipykernel_42781/686456071.py:14: FutureWarning: The frame.append method is deprecated and will be removed from pandas in a future version. Use pandas.concat instead.\n",
      "  compute_time_df = compute_time_df.append({'Query': query_name, 'PQ Setting': pq_setting, 'Compute Similarity Duration': compute_time_dict['compute_similarity_duration'], 'Get Ranking Duration': compute_time_dict['get_rank_duration'], 'Save to CSV Duration': compute_time_dict['save_to_csv_duration'], 'Basic Compute Duration': compute_time_dict['basic_compute_duration'], 'True Compute Duration': compute_time_dict['true_compute_duration']}, ignore_index=True)\n"
     ]
    },
    {
     "name": "stdout",
     "output_type": "stream",
     "text": [
      "pq_32_64 Results Saved to CSV!\n",
      "\n",
      "===============================================================\n",
      "Query:  tax analyst for big company\n",
      "PQ Setting:  pq_32_64\n",
      "Total Time Taken:\n",
      "\n",
      "Start Time:  1697269388.533406\n",
      "Compute Similarity Duration:  0.012506961822509766\n",
      "Get Ranking Duration:  0.008056879043579102\n",
      "Save to CSV Duration:  1.7942440509796143\n",
      "Basic Time Duration:  1.814927101135254\n",
      "True Computed Time Duration:  1.8148078918457031\n",
      "===============================================================\n",
      "Computing similarity for: software engineer for google or amazon...\n",
      "Getting Query Results Ranking....\n",
      "Top 5 Results:\n",
      "                                                     Data  \\\n",
      "1534   Application Security Engineer Looking Applicat...   \n",
      "10126                                Paralegal Paralegal   \n",
      "11255                            Art Teacher Artists 🧑‍🎨   \n",
      "6720               Mechanic Ford 6.7 super duty way F750   \n",
      "6865   Associate Open discussion anyone looking hang ...   \n",
      "\n",
      "                                                  Vector   Distance  \n",
      "1534   [0, 0, 0, 0, 0, 0, 0, 0, 0, 0, 0, 0, 0, 0, 0, ...  10.166945  \n",
      "10126  [0, 0, 0, 0, 0, 0, 0, 0, 0, 0, 0, 0, 0, 0, 0, ...  10.238650  \n",
      "11255  [0, 0, 0, 0, 0, 0, 0, 0, 0, 0, 0, 0, 0, 0, 0, ...  10.238650  \n",
      "6720   [0, 0, 0, 0, 0, 0, 0, 0, 0, 0, 0, 0, 0, 0, 0, ...  10.238650  \n",
      "6865   [0, 0, 0, 0, 0, 0, 0, 0, 0, 0, 0, 0, 0, 0, 0, ...  10.238650  \n",
      "Saving pq_32_64 Results to CSV....\n"
     ]
    },
    {
     "name": "stderr",
     "output_type": "stream",
     "text": [
      "/var/folders/2q/bjqpws1153b0_y18lhffmh_m0000gn/T/ipykernel_42781/686456071.py:14: FutureWarning: The frame.append method is deprecated and will be removed from pandas in a future version. Use pandas.concat instead.\n",
      "  compute_time_df = compute_time_df.append({'Query': query_name, 'PQ Setting': pq_setting, 'Compute Similarity Duration': compute_time_dict['compute_similarity_duration'], 'Get Ranking Duration': compute_time_dict['get_rank_duration'], 'Save to CSV Duration': compute_time_dict['save_to_csv_duration'], 'Basic Compute Duration': compute_time_dict['basic_compute_duration'], 'True Compute Duration': compute_time_dict['true_compute_duration']}, ignore_index=True)\n"
     ]
    },
    {
     "name": "stdout",
     "output_type": "stream",
     "text": [
      "pq_32_64 Results Saved to CSV!\n",
      "\n",
      "===============================================================\n",
      "Query:  software engineer for google or amazon\n",
      "PQ Setting:  pq_32_64\n",
      "Total Time Taken:\n",
      "\n",
      "Start Time:  1697269390.354115\n",
      "Compute Similarity Duration:  0.024220943450927734\n",
      "Get Ranking Duration:  0.010305166244506836\n",
      "Save to CSV Duration:  1.7481536865234375\n",
      "Basic Time Duration:  1.7827720642089844\n",
      "True Computed Time Duration:  1.782679796218872\n",
      "===============================================================\n",
      "Computing similarity for: video editor for advertisements with 5 year experience...\n",
      "Getting Query Results Ranking....\n",
      "Top 5 Results:\n",
      "                                                     Data  \\\n",
      "2383   Dump Truck Driver 3 year experience,CDL,clean ...   \n",
      "5710   Medical Secretary Patient check out, schedulin...   \n",
      "2547   Mobile Application Developer hybird mobile app...   \n",
      "14491  Practice Manager Experience wound care, hyperb...   \n",
      "6774   Account Executive communicationn grant writing...   \n",
      "\n",
      "                                                  Vector   Distance  \n",
      "2383   [0, 0, 0, 0, 0, 0, 0, 0, 0, 0, 0, 0, 0, 0, 0, ...  10.390814  \n",
      "5710   [0, 0, 0, 0, 0, 0, 0, 0, 0, 0, 0, 0, 0, 0, 0, ...  10.390814  \n",
      "2547   [0, 0, 0, 0, 0, 0, 0, 0, 0, 0, 0, 0, 0, 0, 0, ...  10.390814  \n",
      "14491  [0, 0, 0, 0, 0, 0, 0, 0, 0, 0, 0, 0, 0, 0, 0, ...  10.390814  \n",
      "6774   [0, 0, 0, 0, 0, 0, 0, 0, 0, 0, 0, 0, 0, 0, 0, ...  11.168947  \n",
      "Saving pq_32_64 Results to CSV....\n"
     ]
    },
    {
     "name": "stderr",
     "output_type": "stream",
     "text": [
      "/var/folders/2q/bjqpws1153b0_y18lhffmh_m0000gn/T/ipykernel_42781/686456071.py:14: FutureWarning: The frame.append method is deprecated and will be removed from pandas in a future version. Use pandas.concat instead.\n",
      "  compute_time_df = compute_time_df.append({'Query': query_name, 'PQ Setting': pq_setting, 'Compute Similarity Duration': compute_time_dict['compute_similarity_duration'], 'Get Ranking Duration': compute_time_dict['get_rank_duration'], 'Save to CSV Duration': compute_time_dict['save_to_csv_duration'], 'Basic Compute Duration': compute_time_dict['basic_compute_duration'], 'True Compute Duration': compute_time_dict['true_compute_duration']}, ignore_index=True)\n"
     ]
    },
    {
     "name": "stdout",
     "output_type": "stream",
     "text": [
      "pq_32_64 Results Saved to CSV!\n",
      "\n",
      "===============================================================\n",
      "Query:  video editor for advertisements with 5 year experience\n",
      "PQ Setting:  pq_32_64\n",
      "Total Time Taken:\n",
      "\n",
      "Start Time:  1697269392.138643\n",
      "Compute Similarity Duration:  0.01357412338256836\n",
      "Get Ranking Duration:  0.007629871368408203\n",
      "Save to CSV Duration:  1.7533209323883057\n",
      "Basic Time Duration:  1.7746248245239258\n",
      "True Computed Time Duration:  1.7745249271392822\n",
      "===============================================================\n",
      "Computing similarity for: full time senior head nurse position...\n",
      "Getting Query Results Ranking....\n",
      "Top 5 Results:\n",
      "                                                    Data  \\\n",
      "7170  Manager Writing, Organizing, AI, Communication...   \n",
      "7051                       Assistant Sous Chef position   \n",
      "6219  Registered Dental Hygienist A small boutique d...   \n",
      "6076  Parts Advisor Full time Tuesday thru Saturday....   \n",
      "6790  Pediatric Occupational Therapist Pediatric occ...   \n",
      "\n",
      "                                                 Vector  Distance  \n",
      "7170  [0, 0, 0, 0, 0, 0, 0, 0, 0, 0, 0, 0, 0, 0, 0, ...  9.422633  \n",
      "7051  [0, 0, 0, 0, 0, 0, 0, 0, 0, 0, 0, 0, 0, 0, 0, ...  9.422633  \n",
      "6219  [0, 0, 0, 0, 0, 0, 0, 0, 0, 0, 0, 0, 0, 0, 0, ...  9.425035  \n",
      "6076  [0, 0, 0, 0, 0, 0, 0, 0, 0, 0, 0, 0, 0, 0, 0, ...  9.425035  \n",
      "6790  [0, 0, 0, 0, 0, 0, 0, 0, 0, 0, 0, 0, 0, 0, 0, ...  9.425035  \n",
      "Saving pq_32_64 Results to CSV....\n"
     ]
    },
    {
     "name": "stderr",
     "output_type": "stream",
     "text": [
      "/var/folders/2q/bjqpws1153b0_y18lhffmh_m0000gn/T/ipykernel_42781/686456071.py:14: FutureWarning: The frame.append method is deprecated and will be removed from pandas in a future version. Use pandas.concat instead.\n",
      "  compute_time_df = compute_time_df.append({'Query': query_name, 'PQ Setting': pq_setting, 'Compute Similarity Duration': compute_time_dict['compute_similarity_duration'], 'Get Ranking Duration': compute_time_dict['get_rank_duration'], 'Save to CSV Duration': compute_time_dict['save_to_csv_duration'], 'Basic Compute Duration': compute_time_dict['basic_compute_duration'], 'True Compute Duration': compute_time_dict['true_compute_duration']}, ignore_index=True)\n"
     ]
    },
    {
     "name": "stdout",
     "output_type": "stream",
     "text": [
      "pq_32_64 Results Saved to CSV!\n",
      "\n",
      "===============================================================\n",
      "Query:  full time senior head nurse position\n",
      "PQ Setting:  pq_32_64\n",
      "Total Time Taken:\n",
      "\n",
      "Start Time:  1697269393.914936\n",
      "Compute Similarity Duration:  0.010458946228027344\n",
      "Get Ranking Duration:  0.007288932800292969\n",
      "Save to CSV Duration:  1.9393479824066162\n",
      "Basic Time Duration:  1.957185983657837\n",
      "True Computed Time Duration:  1.9570958614349365\n",
      "===============================================================\n",
      "Computing similarity for: after school math and science tutor...\n",
      "Getting Query Results Ranking....\n",
      "Top 5 Results:\n",
      "                                                    Data  \\\n",
      "6071  Grade 6 Science Teacher We looking middle scho...   \n",
      "6559  Elementary School Teacher Third grade teacher ...   \n",
      "6872            Manager new location. looking positions   \n",
      "7298                    Analyst Communications Director   \n",
      "1792  Senior Transportation Planner New Sidewalks Pr...   \n",
      "\n",
      "                                                 Vector   Distance  \n",
      "6071  [0, 0, 0, 0, 0, 0, 0, 0, 0, 0, 0, 0, 0, 0, 0, ...  10.211301  \n",
      "6559  [0, 0, 0, 0, 0, 0, 0, 0, 0, 0, 0, 0, 0, 0, 0, ...  10.211301  \n",
      "6872  [0, 0, 0, 0, 0, 0, 0, 0, 0, 0, 0, 0, 0, 0, 0, ...  10.453955  \n",
      "7298  [0, 0, 0, 0, 0, 0, 0, 0, 0, 0, 0, 0, 0, 0, 0, ...  10.453955  \n",
      "1792  [0, 0, 0, 0, 0, 0, 0, 0, 0, 0, 0, 0, 0, 0, 0, ...  10.453955  \n",
      "Saving pq_32_64 Results to CSV....\n"
     ]
    },
    {
     "name": "stderr",
     "output_type": "stream",
     "text": [
      "/var/folders/2q/bjqpws1153b0_y18lhffmh_m0000gn/T/ipykernel_42781/686456071.py:14: FutureWarning: The frame.append method is deprecated and will be removed from pandas in a future version. Use pandas.concat instead.\n",
      "  compute_time_df = compute_time_df.append({'Query': query_name, 'PQ Setting': pq_setting, 'Compute Similarity Duration': compute_time_dict['compute_similarity_duration'], 'Get Ranking Duration': compute_time_dict['get_rank_duration'], 'Save to CSV Duration': compute_time_dict['save_to_csv_duration'], 'Basic Compute Duration': compute_time_dict['basic_compute_duration'], 'True Compute Duration': compute_time_dict['true_compute_duration']}, ignore_index=True)\n"
     ]
    },
    {
     "name": "stdout",
     "output_type": "stream",
     "text": [
      "pq_32_64 Results Saved to CSV!\n",
      "\n",
      "===============================================================\n",
      "Query:  after school math and science tutor\n",
      "PQ Setting:  pq_32_64\n",
      "Total Time Taken:\n",
      "\n",
      "Start Time:  1697269395.873802\n",
      "Compute Similarity Duration:  0.013836145401000977\n",
      "Get Ranking Duration:  0.006048917770385742\n",
      "Save to CSV Duration:  1.6809768676757812\n",
      "Basic Time Duration:  1.7009589672088623\n",
      "True Computed Time Duration:  1.700861930847168\n",
      "===============================================================\n",
      "Computing similarity for: dietitian for professional atheletes...\n",
      "Getting Query Results Ranking....\n",
      "Top 5 Results:\n",
      "                                                     Data  \\\n",
      "1187   Client Care Coordinator https://housemaster-la...   \n",
      "6774   Account Executive communicationn grant writing...   \n",
      "6720               Mechanic Ford 6.7 super duty way F750   \n",
      "7193                        Loan Officer Just go getter!   \n",
      "10126                                Paralegal Paralegal   \n",
      "\n",
      "                                                  Vector  Distance  \n",
      "1187   [0, 0, 0, 0, 0, 0, 0, 0, 0, 0, 0, 0, 0, 0, 0, ...  7.177479  \n",
      "6774   [0, 0, 0, 0, 0, 0, 0, 0, 0, 0, 0, 0, 0, 0, 0, ...  7.177479  \n",
      "6720   [0, 0, 0, 0, 0, 0, 0, 0, 0, 0, 0, 0, 0, 0, 0, ...  7.177479  \n",
      "7193   [0, 0, 0, 0, 0, 0, 0, 0, 0, 0, 0, 0, 0, 0, 0, ...  7.177479  \n",
      "10126  [0, 0, 0, 0, 0, 0, 0, 0, 0, 0, 0, 0, 0, 0, 0, ...  7.177479  \n",
      "Saving pq_32_64 Results to CSV....\n"
     ]
    },
    {
     "name": "stderr",
     "output_type": "stream",
     "text": [
      "/var/folders/2q/bjqpws1153b0_y18lhffmh_m0000gn/T/ipykernel_42781/686456071.py:14: FutureWarning: The frame.append method is deprecated and will be removed from pandas in a future version. Use pandas.concat instead.\n",
      "  compute_time_df = compute_time_df.append({'Query': query_name, 'PQ Setting': pq_setting, 'Compute Similarity Duration': compute_time_dict['compute_similarity_duration'], 'Get Ranking Duration': compute_time_dict['get_rank_duration'], 'Save to CSV Duration': compute_time_dict['save_to_csv_duration'], 'Basic Compute Duration': compute_time_dict['basic_compute_duration'], 'True Compute Duration': compute_time_dict['true_compute_duration']}, ignore_index=True)\n"
     ]
    },
    {
     "name": "stdout",
     "output_type": "stream",
     "text": [
      "pq_32_64 Results Saved to CSV!\n",
      "\n",
      "===============================================================\n",
      "Query:  dietitian for professional atheletes\n",
      "PQ Setting:  pq_32_64\n",
      "Total Time Taken:\n",
      "\n",
      "Start Time:  1697269397.576446\n",
      "Compute Similarity Duration:  0.013933897018432617\n",
      "Get Ranking Duration:  0.009198188781738281\n",
      "Save to CSV Duration:  1.6397969722747803\n",
      "Basic Time Duration:  1.6630198955535889\n",
      "True Computed Time Duration:  1.6629290580749512\n",
      "===============================================================\n",
      "Computing similarity for: costume designer and makeup artist...\n",
      "Getting Query Results Ranking....\n",
      "Top 5 Results:\n",
      "                                                     Data  \\\n",
      "6378   Salesperson Self starting motivated. We teach ...   \n",
      "10126                                Paralegal Paralegal   \n",
      "6276   Athletic field construction Equipment operator...   \n",
      "1792   Senior Transportation Planner New Sidewalks Pr...   \n",
      "3384   Salesforce Developer 𝐒𝐮𝐦𝐦𝐚𝐫𝐲 𝐨𝐟 𝐑𝐨𝐥𝐞 👤𝐑𝐨𝐥𝐞: 𝐒𝐚...   \n",
      "\n",
      "                                                  Vector  Distance  \n",
      "6378   [0, 0, 0, 0, 0, 0, 0, 0, 0, 0, 0, 0, 0, 0, 0, ...   9.66483  \n",
      "10126  [0, 0, 0, 0, 0, 0, 0, 0, 0, 0, 0, 0, 0, 0, 0, ...   9.66483  \n",
      "6276   [0, 0, 0, 0, 0, 0, 0, 0, 0, 0, 0, 0, 0, 0, 0, ...   9.66483  \n",
      "1792   [0, 0, 0, 0, 0, 0, 0, 0, 0, 0, 0, 0, 0, 0, 0, ...   9.66483  \n",
      "3384   [0, 0, 0, 0, 0, 0, 0, 0, 0, 0, 0, 0, 0, 0, 0, ...   9.66483  \n",
      "Saving pq_32_64 Results to CSV....\n"
     ]
    },
    {
     "name": "stderr",
     "output_type": "stream",
     "text": [
      "/var/folders/2q/bjqpws1153b0_y18lhffmh_m0000gn/T/ipykernel_42781/686456071.py:14: FutureWarning: The frame.append method is deprecated and will be removed from pandas in a future version. Use pandas.concat instead.\n",
      "  compute_time_df = compute_time_df.append({'Query': query_name, 'PQ Setting': pq_setting, 'Compute Similarity Duration': compute_time_dict['compute_similarity_duration'], 'Get Ranking Duration': compute_time_dict['get_rank_duration'], 'Save to CSV Duration': compute_time_dict['save_to_csv_duration'], 'Basic Compute Duration': compute_time_dict['basic_compute_duration'], 'True Compute Duration': compute_time_dict['true_compute_duration']}, ignore_index=True)\n"
     ]
    },
    {
     "name": "stdout",
     "output_type": "stream",
     "text": [
      "pq_32_64 Results Saved to CSV!\n",
      "\n",
      "===============================================================\n",
      "Query:  costume designer and makeup artist\n",
      "PQ Setting:  pq_32_64\n",
      "Total Time Taken:\n",
      "\n",
      "Start Time:  1697269399.241089\n",
      "Compute Similarity Duration:  0.015056848526000977\n",
      "Get Ranking Duration:  0.00951695442199707\n",
      "Save to CSV Duration:  1.655365228652954\n",
      "Basic Time Duration:  1.6800298690795898\n",
      "True Computed Time Duration:  1.6799390316009521\n",
      "===============================================================\n",
      "Computing similarity for: resilient investment banker...\n",
      "Getting Query Results Ranking....\n"
     ]
    },
    {
     "name": "stderr",
     "output_type": "stream",
     "text": [
      "/var/folders/2q/bjqpws1153b0_y18lhffmh_m0000gn/T/ipykernel_42781/686456071.py:14: FutureWarning: The frame.append method is deprecated and will be removed from pandas in a future version. Use pandas.concat instead.\n",
      "  compute_time_df = compute_time_df.append({'Query': query_name, 'PQ Setting': pq_setting, 'Compute Similarity Duration': compute_time_dict['compute_similarity_duration'], 'Get Ranking Duration': compute_time_dict['get_rank_duration'], 'Save to CSV Duration': compute_time_dict['save_to_csv_duration'], 'Basic Compute Duration': compute_time_dict['basic_compute_duration'], 'True Compute Duration': compute_time_dict['true_compute_duration']}, ignore_index=True)\n",
      "/var/folders/2q/bjqpws1153b0_y18lhffmh_m0000gn/T/ipykernel_42781/686456071.py:17: FutureWarning: The frame.append method is deprecated and will be removed from pandas in a future version. Use pandas.concat instead.\n",
      "  compute_time_df = compute_time_df.append({'Query': 'Average', 'PQ Setting': pq_setting, 'Compute Similarity Duration': compute_time_df['Compute Similarity Duration'].mean(), 'Get Ranking Duration': compute_time_df['Get Ranking Duration'].mean(), 'Save to CSV Duration': compute_time_df['Save to CSV Duration'].mean(), 'Basic Compute Duration': compute_time_df['Basic Compute Duration'].mean(), 'True Compute Duration': compute_time_df['True Compute Duration'].mean()}, ignore_index=True)\n"
     ]
    },
    {
     "name": "stdout",
     "output_type": "stream",
     "text": [
      "Top 5 Results:\n",
      "                                                     Data  \\\n",
      "7193                        Loan Officer Just go getter!   \n",
      "10126                                Paralegal Paralegal   \n",
      "6774   Account Executive communicationn grant writing...   \n",
      "7373   海外人才岗 1、海外华裔/华人人才引进； 2、全流程提供咨询服务； 3、匹配合适的平台，并做...   \n",
      "7298                     Analyst Communications Director   \n",
      "\n",
      "                                                  Vector  Distance  \n",
      "7193   [0, 0, 0, 0, 0, 0, 0, 0, 0, 0, 0, 0, 0, 0, 0, ...  5.097793  \n",
      "10126  [0, 0, 0, 0, 0, 0, 0, 0, 0, 0, 0, 0, 0, 0, 0, ...  5.097793  \n",
      "6774   [0, 0, 0, 0, 0, 0, 0, 0, 0, 0, 0, 0, 0, 0, 0, ...  5.097793  \n",
      "7373   [0, 0, 0, 0, 0, 0, 0, 0, 0, 0, 0, 0, 0, 0, 0, ...  5.097793  \n",
      "7298   [0, 0, 0, 0, 0, 0, 0, 0, 0, 0, 0, 0, 0, 0, 0, ...  5.097793  \n",
      "Saving pq_32_128 Results to CSV....\n",
      "pq_32_128 Results Saved to CSV!\n",
      "\n",
      "===============================================================\n",
      "Query:  resilient investment banker\n",
      "PQ Setting:  pq_32_128\n",
      "Total Time Taken:\n",
      "\n",
      "Start Time:  1697269400.931306\n",
      "Compute Similarity Duration:  0.19449496269226074\n",
      "Get Ranking Duration:  0.00894021987915039\n",
      "Save to CSV Duration:  1.5933427810668945\n",
      "Basic Time Duration:  1.7968692779541016\n",
      "True Computed Time Duration:  1.7967779636383057\n",
      "===============================================================\n",
      "Computing similarity for: 2 years experience product manager...\n",
      "Getting Query Results Ranking....\n",
      "Top 5 Results:\n",
      "                                                     Data  \\\n",
      "839    President Freight broker wanted sales experien...   \n",
      "2946   Associate Attorney 2-5 years No-Fault experien...   \n",
      "10126                                Paralegal Paralegal   \n",
      "7298                     Analyst Communications Director   \n",
      "6774   Account Executive communicationn grant writing...   \n",
      "\n",
      "                                                  Vector  Distance  \n",
      "839    [0, 0, 0, 0, 0, 0, 0, 0, 0, 0, 0, 0, 0, 0, 0, ...  5.088505  \n",
      "2946   [0, 0, 0, 0, 0, 0, 0, 0, 0, 0, 0, 0, 0, 0, 0, ...  5.669389  \n",
      "10126  [0, 0, 0, 0, 0, 0, 0, 0, 0, 0, 0, 0, 0, 0, 0, ...  5.931311  \n",
      "7298   [0, 0, 0, 0, 0, 0, 0, 0, 0, 0, 0, 0, 0, 0, 0, ...  5.931311  \n",
      "6774   [0, 0, 0, 0, 0, 0, 0, 0, 0, 0, 0, 0, 0, 0, 0, ...  5.931311  \n",
      "Saving pq_32_128 Results to CSV....\n"
     ]
    },
    {
     "name": "stderr",
     "output_type": "stream",
     "text": [
      "/var/folders/2q/bjqpws1153b0_y18lhffmh_m0000gn/T/ipykernel_42781/686456071.py:14: FutureWarning: The frame.append method is deprecated and will be removed from pandas in a future version. Use pandas.concat instead.\n",
      "  compute_time_df = compute_time_df.append({'Query': query_name, 'PQ Setting': pq_setting, 'Compute Similarity Duration': compute_time_dict['compute_similarity_duration'], 'Get Ranking Duration': compute_time_dict['get_rank_duration'], 'Save to CSV Duration': compute_time_dict['save_to_csv_duration'], 'Basic Compute Duration': compute_time_dict['basic_compute_duration'], 'True Compute Duration': compute_time_dict['true_compute_duration']}, ignore_index=True)\n"
     ]
    },
    {
     "name": "stdout",
     "output_type": "stream",
     "text": [
      "pq_32_128 Results Saved to CSV!\n",
      "\n",
      "===============================================================\n",
      "Query:  2 years experience product manager\n",
      "PQ Setting:  pq_32_128\n",
      "Total Time Taken:\n",
      "\n",
      "Start Time:  1697269402.729944\n",
      "Compute Similarity Duration:  0.022728919982910156\n",
      "Get Ranking Duration:  0.009827136993408203\n",
      "Save to CSV Duration:  1.766901969909668\n",
      "Basic Time Duration:  1.7995541095733643\n",
      "True Computed Time Duration:  1.7994580268859863\n",
      "===============================================================\n",
      "Computing similarity for: 10 years risk analyst problem solver...\n",
      "Getting Query Results Ranking....\n",
      "Top 5 Results:\n",
      "                                                    Data  \\\n",
      "608   Frontend React developer(10+ years) Java Scrip...   \n",
      "3148  Frontend ReactJS Developer(only 10+ years) Jav...   \n",
      "7373  海外人才岗 1、海外华裔/华人人才引进； 2、全流程提供咨询服务； 3、匹配合适的平台，并做...   \n",
      "7298                    Analyst Communications Director   \n",
      "6774  Account Executive communicationn grant writing...   \n",
      "\n",
      "                                                 Vector  Distance  \n",
      "608   [0, 0, 0, 0, 0, 0, 0, 0, 0, 0, 0, 0, 0, 0, 0, ...  6.644371  \n",
      "3148  [0, 0, 0, 0, 0, 0, 0, 0, 0, 0, 0, 0, 0, 0, 0, ...  6.644371  \n",
      "7373  [0, 0, 0, 0, 0, 0, 0, 0, 0, 0, 0, 0, 0, 0, 0, ...  8.084224  \n",
      "7298  [0, 0, 0, 0, 0, 0, 0, 0, 0, 0, 0, 0, 0, 0, 0, ...  8.084224  \n",
      "6774  [0, 0, 0, 0, 0, 0, 0, 0, 0, 0, 0, 0, 0, 0, 0, ...  8.084224  \n",
      "Saving pq_32_128 Results to CSV....\n"
     ]
    },
    {
     "name": "stderr",
     "output_type": "stream",
     "text": [
      "/var/folders/2q/bjqpws1153b0_y18lhffmh_m0000gn/T/ipykernel_42781/686456071.py:14: FutureWarning: The frame.append method is deprecated and will be removed from pandas in a future version. Use pandas.concat instead.\n",
      "  compute_time_df = compute_time_df.append({'Query': query_name, 'PQ Setting': pq_setting, 'Compute Similarity Duration': compute_time_dict['compute_similarity_duration'], 'Get Ranking Duration': compute_time_dict['get_rank_duration'], 'Save to CSV Duration': compute_time_dict['save_to_csv_duration'], 'Basic Compute Duration': compute_time_dict['basic_compute_duration'], 'True Compute Duration': compute_time_dict['true_compute_duration']}, ignore_index=True)\n"
     ]
    },
    {
     "name": "stdout",
     "output_type": "stream",
     "text": [
      "pq_32_128 Results Saved to CSV!\n",
      "\n",
      "===============================================================\n",
      "Query:  10 years risk analyst problem solver\n",
      "PQ Setting:  pq_32_128\n",
      "Total Time Taken:\n",
      "\n",
      "Start Time:  1697269404.531057\n",
      "Compute Similarity Duration:  0.023676156997680664\n",
      "Get Ranking Duration:  0.00984501838684082\n",
      "Save to CSV Duration:  2.0051567554473877\n",
      "Basic Time Duration:  2.038872003555298\n",
      "True Computed Time Duration:  2.038677930831909\n",
      "===============================================================\n",
      "Computing similarity for: tax analyst for big company...\n",
      "Getting Query Results Ranking....\n",
      "Top 5 Results:\n",
      "                                                    Data  \\\n",
      "5579  Executive Administrative Assistant See posting...   \n",
      "7373  海外人才岗 1、海外华裔/华人人才引进； 2、全流程提供咨询服务； 3、匹配合适的平台，并做...   \n",
      "7422  Low voltage installers Installing lo voltage w...   \n",
      "6720              Mechanic Ford 6.7 super duty way F750   \n",
      "7193                       Loan Officer Just go getter!   \n",
      "\n",
      "                                                 Vector  Distance  \n",
      "5579  [0, 0, 0, 0, 0, 0, 0, 0, 0, 0, 0, 0, 0, 0, 0, ...  6.254701  \n",
      "7373  [0, 0, 0, 0, 0, 0, 0, 0, 0, 0, 0, 0, 0, 0, 0, ...  6.920037  \n",
      "7422  [0, 0, 0, 0, 0, 0, 0, 0, 0, 0, 0, 0, 0, 0, 0, ...  6.920037  \n",
      "6720  [0, 0, 0, 0, 0, 0, 0, 0, 0, 0, 0, 0, 0, 0, 0, ...  6.920037  \n",
      "7193  [0, 0, 0, 0, 0, 0, 0, 0, 0, 0, 0, 0, 0, 0, 0, ...  6.920037  \n",
      "Saving pq_32_128 Results to CSV....\n"
     ]
    },
    {
     "name": "stderr",
     "output_type": "stream",
     "text": [
      "/var/folders/2q/bjqpws1153b0_y18lhffmh_m0000gn/T/ipykernel_42781/686456071.py:14: FutureWarning: The frame.append method is deprecated and will be removed from pandas in a future version. Use pandas.concat instead.\n",
      "  compute_time_df = compute_time_df.append({'Query': query_name, 'PQ Setting': pq_setting, 'Compute Similarity Duration': compute_time_dict['compute_similarity_duration'], 'Get Ranking Duration': compute_time_dict['get_rank_duration'], 'Save to CSV Duration': compute_time_dict['save_to_csv_duration'], 'Basic Compute Duration': compute_time_dict['basic_compute_duration'], 'True Compute Duration': compute_time_dict['true_compute_duration']}, ignore_index=True)\n"
     ]
    },
    {
     "name": "stdout",
     "output_type": "stream",
     "text": [
      "pq_32_128 Results Saved to CSV!\n",
      "\n",
      "===============================================================\n",
      "Query:  tax analyst for big company\n",
      "PQ Setting:  pq_32_128\n",
      "Total Time Taken:\n",
      "\n",
      "Start Time:  1697269406.572596\n",
      "Compute Similarity Duration:  0.021541118621826172\n",
      "Get Ranking Duration:  0.008706808090209961\n",
      "Save to CSV Duration:  1.631821870803833\n",
      "Basic Time Duration:  1.662161111831665\n",
      "True Computed Time Duration:  1.6620697975158691\n",
      "===============================================================\n",
      "Computing similarity for: software engineer for google or amazon...\n",
      "Getting Query Results Ranking....\n",
      "Top 5 Results:\n",
      "                                                     Data  \\\n",
      "10126                                Paralegal Paralegal   \n",
      "7422   Low voltage installers Installing lo voltage w...   \n",
      "6774   Account Executive communicationn grant writing...   \n",
      "6720               Mechanic Ford 6.7 super duty way F750   \n",
      "6865   Associate Open discussion anyone looking hang ...   \n",
      "\n",
      "                                                  Vector  Distance  \n",
      "10126  [0, 0, 0, 0, 0, 0, 0, 0, 0, 0, 0, 0, 0, 0, 0, ...  7.950806  \n",
      "7422   [0, 0, 0, 0, 0, 0, 0, 0, 0, 0, 0, 0, 0, 0, 0, ...  7.950806  \n",
      "6774   [0, 0, 0, 0, 0, 0, 0, 0, 0, 0, 0, 0, 0, 0, 0, ...  7.950806  \n",
      "6720   [0, 0, 0, 0, 0, 0, 0, 0, 0, 0, 0, 0, 0, 0, 0, ...  7.950806  \n",
      "6865   [0, 0, 0, 0, 0, 0, 0, 0, 0, 0, 0, 0, 0, 0, 0, ...  7.950806  \n",
      "Saving pq_32_128 Results to CSV....\n"
     ]
    },
    {
     "name": "stderr",
     "output_type": "stream",
     "text": [
      "/var/folders/2q/bjqpws1153b0_y18lhffmh_m0000gn/T/ipykernel_42781/686456071.py:14: FutureWarning: The frame.append method is deprecated and will be removed from pandas in a future version. Use pandas.concat instead.\n",
      "  compute_time_df = compute_time_df.append({'Query': query_name, 'PQ Setting': pq_setting, 'Compute Similarity Duration': compute_time_dict['compute_similarity_duration'], 'Get Ranking Duration': compute_time_dict['get_rank_duration'], 'Save to CSV Duration': compute_time_dict['save_to_csv_duration'], 'Basic Compute Duration': compute_time_dict['basic_compute_duration'], 'True Compute Duration': compute_time_dict['true_compute_duration']}, ignore_index=True)\n"
     ]
    },
    {
     "name": "stdout",
     "output_type": "stream",
     "text": [
      "pq_32_128 Results Saved to CSV!\n",
      "\n",
      "===============================================================\n",
      "Query:  software engineer for google or amazon\n",
      "PQ Setting:  pq_32_128\n",
      "Total Time Taken:\n",
      "\n",
      "Start Time:  1697269408.238006\n",
      "Compute Similarity Duration:  0.02297067642211914\n",
      "Get Ranking Duration:  0.00730133056640625\n",
      "Save to CSV Duration:  1.6526896953582764\n",
      "Basic Time Duration:  1.683067798614502\n",
      "True Computed Time Duration:  1.6829617023468018\n",
      "===============================================================\n",
      "Computing similarity for: video editor for advertisements with 5 year experience...\n",
      "Getting Query Results Ranking....\n",
      "Top 5 Results:\n",
      "                                                     Data  \\\n",
      "839    President Freight broker wanted sales experien...   \n",
      "2383   Dump Truck Driver 3 year experience,CDL,clean ...   \n",
      "11255                            Art Teacher Artists 🧑‍🎨   \n",
      "5948                                  Therapist Licensed   \n",
      "7373   海外人才岗 1、海外华裔/华人人才引进； 2、全流程提供咨询服务； 3、匹配合适的平台，并做...   \n",
      "\n",
      "                                                  Vector  Distance  \n",
      "839    [0, 0, 0, 0, 0, 0, 0, 0, 0, 0, 0, 0, 0, 0, 0, ...  8.105863  \n",
      "2383   [0, 0, 0, 0, 0, 0, 0, 0, 0, 0, 0, 0, 0, 0, 0, ...  8.522763  \n",
      "11255  [0, 0, 0, 0, 0, 0, 0, 0, 0, 0, 0, 0, 0, 0, 0, ...  8.948668  \n",
      "5948   [0, 0, 0, 0, 0, 0, 0, 0, 0, 0, 0, 0, 0, 0, 0, ...  8.948668  \n",
      "7373   [0, 0, 0, 0, 0, 0, 0, 0, 0, 0, 0, 0, 0, 0, 0, ...  8.948668  \n",
      "Saving pq_32_128 Results to CSV....\n"
     ]
    },
    {
     "name": "stderr",
     "output_type": "stream",
     "text": [
      "/var/folders/2q/bjqpws1153b0_y18lhffmh_m0000gn/T/ipykernel_42781/686456071.py:14: FutureWarning: The frame.append method is deprecated and will be removed from pandas in a future version. Use pandas.concat instead.\n",
      "  compute_time_df = compute_time_df.append({'Query': query_name, 'PQ Setting': pq_setting, 'Compute Similarity Duration': compute_time_dict['compute_similarity_duration'], 'Get Ranking Duration': compute_time_dict['get_rank_duration'], 'Save to CSV Duration': compute_time_dict['save_to_csv_duration'], 'Basic Compute Duration': compute_time_dict['basic_compute_duration'], 'True Compute Duration': compute_time_dict['true_compute_duration']}, ignore_index=True)\n"
     ]
    },
    {
     "name": "stdout",
     "output_type": "stream",
     "text": [
      "pq_32_128 Results Saved to CSV!\n",
      "\n",
      "===============================================================\n",
      "Query:  video editor for advertisements with 5 year experience\n",
      "PQ Setting:  pq_32_128\n",
      "Total Time Taken:\n",
      "\n",
      "Start Time:  1697269409.9230442\n",
      "Compute Similarity Duration:  0.021327733993530273\n",
      "Get Ranking Duration:  0.0075571537017822266\n",
      "Save to CSV Duration:  1.592986822128296\n",
      "Basic Time Duration:  1.621973991394043\n",
      "True Computed Time Duration:  1.6218717098236084\n",
      "===============================================================\n",
      "Computing similarity for: full time senior head nurse position...\n",
      "Getting Query Results Ranking....\n",
      "Top 5 Results:\n",
      "                                                    Data  \\\n",
      "6790  Pediatric Occupational Therapist Pediatric occ...   \n",
      "6076  Parts Advisor Full time Tuesday thru Saturday....   \n",
      "7051                       Assistant Sous Chef position   \n",
      "7298                    Analyst Communications Director   \n",
      "6774  Account Executive communicationn grant writing...   \n",
      "\n",
      "                                                 Vector  Distance  \n",
      "6790  [0, 0, 0, 0, 0, 0, 0, 0, 0, 0, 0, 0, 0, 0, 0, ...  6.526464  \n",
      "6076  [0, 0, 0, 0, 0, 0, 0, 0, 0, 0, 0, 0, 0, 0, 0, ...  6.526464  \n",
      "7051  [0, 0, 0, 0, 0, 0, 0, 0, 0, 0, 0, 0, 0, 0, 0, ...  7.250421  \n",
      "7298  [0, 0, 0, 0, 0, 0, 0, 0, 0, 0, 0, 0, 0, 0, 0, ...  8.009346  \n",
      "6774  [0, 0, 0, 0, 0, 0, 0, 0, 0, 0, 0, 0, 0, 0, 0, ...  8.009346  \n",
      "Saving pq_32_128 Results to CSV....\n"
     ]
    },
    {
     "name": "stderr",
     "output_type": "stream",
     "text": [
      "/var/folders/2q/bjqpws1153b0_y18lhffmh_m0000gn/T/ipykernel_42781/686456071.py:14: FutureWarning: The frame.append method is deprecated and will be removed from pandas in a future version. Use pandas.concat instead.\n",
      "  compute_time_df = compute_time_df.append({'Query': query_name, 'PQ Setting': pq_setting, 'Compute Similarity Duration': compute_time_dict['compute_similarity_duration'], 'Get Ranking Duration': compute_time_dict['get_rank_duration'], 'Save to CSV Duration': compute_time_dict['save_to_csv_duration'], 'Basic Compute Duration': compute_time_dict['basic_compute_duration'], 'True Compute Duration': compute_time_dict['true_compute_duration']}, ignore_index=True)\n"
     ]
    },
    {
     "name": "stdout",
     "output_type": "stream",
     "text": [
      "pq_32_128 Results Saved to CSV!\n",
      "\n",
      "===============================================================\n",
      "Query:  full time senior head nurse position\n",
      "PQ Setting:  pq_32_128\n",
      "Total Time Taken:\n",
      "\n",
      "Start Time:  1697269411.5476449\n",
      "Compute Similarity Duration:  0.03605318069458008\n",
      "Get Ranking Duration:  0.010877847671508789\n",
      "Save to CSV Duration:  1.594299077987671\n",
      "Basic Time Duration:  1.6413230895996094\n",
      "True Computed Time Duration:  1.6412301063537598\n",
      "===============================================================\n",
      "Computing similarity for: after school math and science tutor...\n",
      "Getting Query Results Ranking....\n",
      "Top 5 Results:\n",
      "                                                     Data  \\\n",
      "6763    Sales And Marketing Specialist internet designer   \n",
      "6559   Elementary School Teacher Third grade teacher ...   \n",
      "11255                            Art Teacher Artists 🧑‍🎨   \n",
      "7298                     Analyst Communications Director   \n",
      "5948                                  Therapist Licensed   \n",
      "\n",
      "                                                  Vector  Distance  \n",
      "6763   [0, 0, 0, 0, 0, 0, 0, 0, 0, 0, 0, 0, 0, 0, 0, ...  7.363717  \n",
      "6559   [0, 0, 0, 0, 0, 0, 0, 0, 0, 0, 0, 0, 0, 0, 0, ...  7.374078  \n",
      "11255  [0, 0, 0, 0, 0, 0, 0, 0, 0, 0, 0, 0, 0, 0, 0, ...  7.967697  \n",
      "7298   [0, 0, 0, 0, 0, 0, 0, 0, 0, 0, 0, 0, 0, 0, 0, ...  7.967697  \n",
      "5948   [0, 0, 0, 0, 0, 0, 0, 0, 0, 0, 0, 0, 0, 0, 0, ...  7.967697  \n",
      "Saving pq_32_128 Results to CSV....\n"
     ]
    },
    {
     "name": "stderr",
     "output_type": "stream",
     "text": [
      "/var/folders/2q/bjqpws1153b0_y18lhffmh_m0000gn/T/ipykernel_42781/686456071.py:14: FutureWarning: The frame.append method is deprecated and will be removed from pandas in a future version. Use pandas.concat instead.\n",
      "  compute_time_df = compute_time_df.append({'Query': query_name, 'PQ Setting': pq_setting, 'Compute Similarity Duration': compute_time_dict['compute_similarity_duration'], 'Get Ranking Duration': compute_time_dict['get_rank_duration'], 'Save to CSV Duration': compute_time_dict['save_to_csv_duration'], 'Basic Compute Duration': compute_time_dict['basic_compute_duration'], 'True Compute Duration': compute_time_dict['true_compute_duration']}, ignore_index=True)\n"
     ]
    },
    {
     "name": "stdout",
     "output_type": "stream",
     "text": [
      "pq_32_128 Results Saved to CSV!\n",
      "\n",
      "===============================================================\n",
      "Query:  after school math and science tutor\n",
      "PQ Setting:  pq_32_128\n",
      "Total Time Taken:\n",
      "\n",
      "Start Time:  1697269413.190817\n",
      "Compute Similarity Duration:  0.03196001052856445\n",
      "Get Ranking Duration:  0.007987022399902344\n",
      "Save to CSV Duration:  1.679020881652832\n",
      "Basic Time Duration:  1.719087839126587\n",
      "True Computed Time Duration:  1.7189679145812988\n",
      "===============================================================\n",
      "Computing similarity for: dietitian for professional atheletes...\n",
      "Getting Query Results Ranking....\n",
      "Top 5 Results:\n",
      "                                                     Data  \\\n",
      "7193                        Loan Officer Just go getter!   \n",
      "10126                                Paralegal Paralegal   \n",
      "7422   Low voltage installers Installing lo voltage w...   \n",
      "7373   海外人才岗 1、海外华裔/华人人才引进； 2、全流程提供咨询服务； 3、匹配合适的平台，并做...   \n",
      "6720               Mechanic Ford 6.7 super duty way F750   \n",
      "\n",
      "                                                  Vector  Distance  \n",
      "7193   [0, 0, 0, 0, 0, 0, 0, 0, 0, 0, 0, 0, 0, 0, 0, ...  5.057896  \n",
      "10126  [0, 0, 0, 0, 0, 0, 0, 0, 0, 0, 0, 0, 0, 0, 0, ...  5.057896  \n",
      "7422   [0, 0, 0, 0, 0, 0, 0, 0, 0, 0, 0, 0, 0, 0, 0, ...  5.057896  \n",
      "7373   [0, 0, 0, 0, 0, 0, 0, 0, 0, 0, 0, 0, 0, 0, 0, ...  5.057896  \n",
      "6720   [0, 0, 0, 0, 0, 0, 0, 0, 0, 0, 0, 0, 0, 0, 0, ...  5.057896  \n",
      "Saving pq_32_128 Results to CSV....\n"
     ]
    },
    {
     "name": "stderr",
     "output_type": "stream",
     "text": [
      "/var/folders/2q/bjqpws1153b0_y18lhffmh_m0000gn/T/ipykernel_42781/686456071.py:14: FutureWarning: The frame.append method is deprecated and will be removed from pandas in a future version. Use pandas.concat instead.\n",
      "  compute_time_df = compute_time_df.append({'Query': query_name, 'PQ Setting': pq_setting, 'Compute Similarity Duration': compute_time_dict['compute_similarity_duration'], 'Get Ranking Duration': compute_time_dict['get_rank_duration'], 'Save to CSV Duration': compute_time_dict['save_to_csv_duration'], 'Basic Compute Duration': compute_time_dict['basic_compute_duration'], 'True Compute Duration': compute_time_dict['true_compute_duration']}, ignore_index=True)\n"
     ]
    },
    {
     "name": "stdout",
     "output_type": "stream",
     "text": [
      "pq_32_128 Results Saved to CSV!\n",
      "\n",
      "===============================================================\n",
      "Query:  dietitian for professional atheletes\n",
      "PQ Setting:  pq_32_128\n",
      "Total Time Taken:\n",
      "\n",
      "Start Time:  1697269414.912401\n",
      "Compute Similarity Duration:  0.02020120620727539\n",
      "Get Ranking Duration:  0.007671833038330078\n",
      "Save to CSV Duration:  1.6701958179473877\n",
      "Basic Time Duration:  1.6981909275054932\n",
      "True Computed Time Duration:  1.6980688571929932\n",
      "===============================================================\n",
      "Computing similarity for: costume designer and makeup artist...\n",
      "Getting Query Results Ranking....\n",
      "Top 5 Results:\n",
      "                                                     Data  \\\n",
      "6763    Sales And Marketing Specialist internet designer   \n",
      "7422   Low voltage installers Installing lo voltage w...   \n",
      "7298                     Analyst Communications Director   \n",
      "6774   Account Executive communicationn grant writing...   \n",
      "10126                                Paralegal Paralegal   \n",
      "\n",
      "                                                  Vector  Distance  \n",
      "6763   [0, 0, 0, 0, 0, 0, 0, 0, 0, 0, 0, 0, 0, 0, 0, ...  6.537312  \n",
      "7422   [0, 0, 0, 0, 0, 0, 0, 0, 0, 0, 0, 0, 0, 0, 0, ...  7.150808  \n",
      "7298   [0, 0, 0, 0, 0, 0, 0, 0, 0, 0, 0, 0, 0, 0, 0, ...  7.150808  \n",
      "6774   [0, 0, 0, 0, 0, 0, 0, 0, 0, 0, 0, 0, 0, 0, 0, ...  7.150808  \n",
      "10126  [0, 0, 0, 0, 0, 0, 0, 0, 0, 0, 0, 0, 0, 0, 0, ...  7.150808  \n",
      "Saving pq_32_128 Results to CSV....\n"
     ]
    },
    {
     "name": "stderr",
     "output_type": "stream",
     "text": [
      "/var/folders/2q/bjqpws1153b0_y18lhffmh_m0000gn/T/ipykernel_42781/686456071.py:14: FutureWarning: The frame.append method is deprecated and will be removed from pandas in a future version. Use pandas.concat instead.\n",
      "  compute_time_df = compute_time_df.append({'Query': query_name, 'PQ Setting': pq_setting, 'Compute Similarity Duration': compute_time_dict['compute_similarity_duration'], 'Get Ranking Duration': compute_time_dict['get_rank_duration'], 'Save to CSV Duration': compute_time_dict['save_to_csv_duration'], 'Basic Compute Duration': compute_time_dict['basic_compute_duration'], 'True Compute Duration': compute_time_dict['true_compute_duration']}, ignore_index=True)\n"
     ]
    },
    {
     "name": "stdout",
     "output_type": "stream",
     "text": [
      "pq_32_128 Results Saved to CSV!\n",
      "\n",
      "===============================================================\n",
      "Query:  costume designer and makeup artist\n",
      "PQ Setting:  pq_32_128\n",
      "Total Time Taken:\n",
      "\n",
      "Start Time:  1697269416.613258\n",
      "Compute Similarity Duration:  0.01996016502380371\n",
      "Get Ranking Duration:  0.006221771240234375\n",
      "Save to CSV Duration:  1.5932190418243408\n",
      "Basic Time Duration:  1.6195158958435059\n",
      "True Computed Time Duration:  1.619400978088379\n",
      "===============================================================\n"
     ]
    },
    {
     "name": "stderr",
     "output_type": "stream",
     "text": [
      "/var/folders/2q/bjqpws1153b0_y18lhffmh_m0000gn/T/ipykernel_42781/686456071.py:14: FutureWarning: The frame.append method is deprecated and will be removed from pandas in a future version. Use pandas.concat instead.\n",
      "  compute_time_df = compute_time_df.append({'Query': query_name, 'PQ Setting': pq_setting, 'Compute Similarity Duration': compute_time_dict['compute_similarity_duration'], 'Get Ranking Duration': compute_time_dict['get_rank_duration'], 'Save to CSV Duration': compute_time_dict['save_to_csv_duration'], 'Basic Compute Duration': compute_time_dict['basic_compute_duration'], 'True Compute Duration': compute_time_dict['true_compute_duration']}, ignore_index=True)\n",
      "/var/folders/2q/bjqpws1153b0_y18lhffmh_m0000gn/T/ipykernel_42781/686456071.py:17: FutureWarning: The frame.append method is deprecated and will be removed from pandas in a future version. Use pandas.concat instead.\n",
      "  compute_time_df = compute_time_df.append({'Query': 'Average', 'PQ Setting': pq_setting, 'Compute Similarity Duration': compute_time_df['Compute Similarity Duration'].mean(), 'Get Ranking Duration': compute_time_df['Get Ranking Duration'].mean(), 'Save to CSV Duration': compute_time_df['Save to CSV Duration'].mean(), 'Basic Compute Duration': compute_time_df['Basic Compute Duration'].mean(), 'True Compute Duration': compute_time_df['True Compute Duration'].mean()}, ignore_index=True)\n"
     ]
    }
   ],
   "source": [
    "# Generating compute time Results\n",
    "for pq_setting, pq_object in PQ_Sets.items():\n",
    "    # Get the PQ Code and PQ object\n",
    "    pq_code = pq_object[0]\n",
    "    pq = pq_object[1]\n",
    "    \n",
    "    # Create dataframe to store the compute time for each query. Columns are compute time dict keys, rows are queries\n",
    "    compute_time_df = pd.DataFrame(columns=['Query', 'PQ Setting', 'Compute Similarity Duration', 'Get Ranking Duration', 'Save to CSV Duration', 'Basic Compute Duration', 'True Compute Duration'])\n",
    "\n",
    "    # For all the queries in the query_dict, run through the search_using_query function\n",
    "    for query_name, query_text in query_dict.items():\n",
    "        compute_time_dict = search_using_query(query_text, pq_setting, pq_code, pq, df)\n",
    "        # Record the compute time from the compute_time_dict\n",
    "        compute_time_df = compute_time_df.append({'Query': query_name, 'PQ Setting': pq_setting, 'Compute Similarity Duration': compute_time_dict['compute_similarity_duration'], 'Get Ranking Duration': compute_time_dict['get_rank_duration'], 'Save to CSV Duration': compute_time_dict['save_to_csv_duration'], 'Basic Compute Duration': compute_time_dict['basic_compute_duration'], 'True Compute Duration': compute_time_dict['true_compute_duration']}, ignore_index=True)\n",
    "        \n",
    "    # Compute the average compute time for each query\n",
    "    compute_time_df = compute_time_df.append({'Query': 'Average', 'PQ Setting': pq_setting, 'Compute Similarity Duration': compute_time_df['Compute Similarity Duration'].mean(), 'Get Ranking Duration': compute_time_df['Get Ranking Duration'].mean(), 'Save to CSV Duration': compute_time_df['Save to CSV Duration'].mean(), 'Basic Compute Duration': compute_time_df['Basic Compute Duration'].mean(), 'True Compute Duration': compute_time_df['True Compute Duration'].mean()}, ignore_index=True)\n",
    "   \n",
    "    # Save compute_time_df to csv\n",
    "    compute_time_df.to_csv(\"PQ/PQ Search Results/{}_results/{}_compute_time.csv\".format(pq_setting, pq_setting), index=False)"
   ]
  },
  {
   "cell_type": "markdown",
   "metadata": {},
   "source": [
    "### Generate Results Accuracy"
   ]
  },
  {
   "cell_type": "code",
   "execution_count": 174,
   "metadata": {},
   "outputs": [],
   "source": [
    "# Create df to store the accuracy results\n",
    "compute_accuracy_df = pd.DataFrame(columns=['Query', 'PQ Setting', 'Accuracy'])"
   ]
  },
  {
   "cell_type": "code",
   "execution_count": 187,
   "metadata": {},
   "outputs": [],
   "source": [
    "# Generating accuracy Results\n",
    "import numpy as np\n",
    "import pandas as pd\n",
    "\n",
    "def merge_search_results_df(linear_search_df, pq_search_df):\n",
    "    # Copy the linear_search_df\n",
    "    merged_df = linear_search_df.copy()\n",
    "    \n",
    "    # Rename the \"Data\" column to \"Linear Search Results\"\n",
    "    merged_df.rename(columns={\"Data\": \"Linear Search Results\"}, inplace=True)\n",
    "    merged_df.rename(columns={\"Vector\": \"Linear Search Distance\"}, inplace=True)\n",
    "    \n",
    "    # For all the columns in pq_search_df, merge the columns to the merged_df\n",
    "    for col in pq_search_df.columns:\n",
    "        merged_df[col] = pq_search_df[col]\n",
    "        \n",
    "    \n",
    "    # Rename the \"Data\" column to \"PQ Search Results\"\n",
    "    merged_df.rename(columns={\"Data\": \"PQ Search Results\"}, inplace=True)\n",
    "    # print(merged_df.head())\n",
    "    # print(merged_df.info())\n",
    "    return merged_df\n",
    "\n",
    "def basic_accuracy_per_query(query_text, pq_setting):\n",
    "    \"\"\"\n",
    "    Calculates the basic accuracy of the PQ Search Results purely by ranking\n",
    "    \"\"\"\n",
    "    print(\"Calculating Basic Accuracy for {} with {}....\".format(query_text, pq_setting))\n",
    "      # Strip the query_text of spaces and replace spaces with underscores\n",
    "    query_text = query_text.strip().replace(\" \", \"_\")\n",
    "    \n",
    "    # Load the Linear Search Results\n",
    "    linear_search_results_df = pd.read_csv(\"Linear Search Results/{}.csv\".format(query_text))\n",
    "    \n",
    "    # Sort the linear search results by the Vector column, follow by the Data column\n",
    "    # linear_search_results_df = linear_search_results_df.sort_values(by=['Vector', 'Data'])\n",
    "    \n",
    "    # Load the PQ Search Results\n",
    "    pq_search_results_df = pd.read_csv(\"PQ/PQ Search Results/{}_results/{}.csv\".format(pq_setting, query_text))\n",
    "    # Sort the search results by the Distance column and follow by the Data column\n",
    "    linear_search_results_df = linear_search_results_df.sort_values(by=['Vector', 'Data'])\n",
    "    pq_search_results_df = pq_search_results_df.sort_values(by=['Distance', 'Data'])\n",
    "    # Compare Ranking of the Linear Search Results and PQ Search Results based on Data column\n",
    "    # Merge the two dataframes\n",
    "    merged_df = merge_search_results_df(linear_search_results_df, pq_search_results_df)\n",
    "    \n",
    "    # Iterate through the dataframe and calculate the accuracy\n",
    "    count = 0\n",
    "    for index, row in merged_df.iterrows():\n",
    "        if row['Linear Search Results'] == row['PQ Search Results']:\n",
    "            count += 1\n",
    "    \n",
    "    # Calculate the accuracy\n",
    "    print(\"Count: \", count)\n",
    "    print(\"Total Rows: \", len(merged_df))\n",
    "    accuracy = count / len(merged_df)\n",
    "    \n",
    "    \n",
    "    # Return the accuracy\n",
    "    return accuracy\n",
    "\n",
    "def create_rank_sets(df, distance_col_name, rank_set_col_name):\n",
    "    \"\"\"\n",
    "    Helper to create the rank sets for each query df\n",
    "    2 results are considered to be in the same rank set if they have the same vector distance\n",
    "    \"\"\"\n",
    "    # Sort the df by the distance column\n",
    "    # Create a new column to store the rank set\n",
    "    df[rank_set_col_name] = 0\n",
    "    \n",
    "    # Iterate through the dataframe and assign the rank set\n",
    "    rank_set = 1\n",
    "    prev_distance = df.iloc[0][distance_col_name]\n",
    "    \n",
    "    for index, row in df.iterrows():\n",
    "        if row[distance_col_name] != prev_distance:\n",
    "            rank_set += 1\n",
    "        df.at[index, rank_set_col_name] = rank_set\n",
    "        prev_distance = row[distance_col_name]\n",
    "    \n",
    "    return df\n",
    "\n",
    "def advance_accuracy_per_query(query_text, pq_setting):\n",
    "    \"\"\"\n",
    "    Calculates the accuracy of the PQ Search Results by taking into account the distance of the vectors\n",
    "    \"\"\"\n",
    "    print(\"Calculating Advance Accuracy for {} with {}....\".format(query_text, pq_setting))\n",
    "    # Strip the query_text of spaces and replace spaces with underscores\n",
    "    query_text = query_text.strip().replace(\" \", \"_\")\n",
    "    \n",
    "    linear_search_results_df = pd.read_csv(\"Linear Search Results/{}.csv\".format(query_text))\n",
    "    pq_search_results_df = pd.read_csv(\"PQ/PQ Search Results/{}_results/{}.csv\".format(pq_setting, query_text))\n",
    "    \n",
    "    # Sort the results by the distance column\n",
    "    linear_search_results_df = linear_search_results_df.sort_values(by=['Vector'])\n",
    "    pq_search_results_df = pq_search_results_df.sort_values(by=['Distance'])\n",
    "    \n",
    "    # create the rank sets \n",
    "    linear_search_results_df = create_rank_sets(linear_search_results_df, \"Vector\", \"Linear Rank Set\")\n",
    "    pq_search_results_df = create_rank_sets(pq_search_results_df, \"Distance\", \"PQ Rank Set\")\n",
    "    \n",
    "    # Get only the rows where rank set is <= 10\n",
    "    # linear_search_results_df = linear_search_results_df.loc[linear_search_results_df['Linear Rank Set'] <= 10]\n",
    "    # pq_search_results_df = pq_search_results_df.loc[pq_search_results_df['PQ Rank Set'] <= 10]\n",
    "    \n",
    "    # Compare Ranking of the Linear Search Results and PQ Search Results based on Rank Set columns\n",
    "    # Merge the two dataframes\n",
    "    # merged_df = merge_search_results_df(linear_search_results_df, pq_search_results_df)\n",
    "    \n",
    "    count = 0\n",
    "    # For each row in pq_search_results_df, get the corresponding row in linear_search_results_df\n",
    "    for index, row in pq_search_results_df.iterrows():\n",
    "        linear_search_row = linear_search_results_df[linear_search_results_df['Data'] == row['Data']].iloc[0]\n",
    "        # print(\"pq rank set: \", row['PQ Rank Set'])\n",
    "        # print(\"linear rank set: \", linear_search_row['Linear Rank Set'])\n",
    "        # print(\"linear search row data: \", linear_search_row['Vector'])\n",
    "        if row['PQ Rank Set'] == linear_search_row['Linear Rank Set']:\n",
    "            count += 1\n",
    "    \n",
    "    # return count / len(linear_search_results_df)\n",
    "    \n",
    "    \n",
    "    # print(pq_search_results_df.head(-10))\n",
    "    \n",
    "    # # Compare pq_search_results_df and linear_search_results_df\n",
    "  \n",
    "    # for index, row in pq_search_results_df.iterrows():\n",
    "    #     linear_search_row = linear_search_results_df[linear_search_results_df['Data'] == row['Data']]\n",
    "    #     if row['PQ Rank Set'] == linear_search_row['Linear Rank Set']:\n",
    "    #         count += 1\n",
    "        \n",
    "        \n",
    "    # Calculate the accuracy\n",
    "    print(\"Count: \", count)\n",
    "    print(\"Total Rows: \", len(linear_search_results_df))\n",
    "    accuracy = count / len(linear_search_results_df)\n",
    "    print(\"Accuracy: \", accuracy)\n",
    "    \n",
    "    return accuracy\n",
    "    \n",
    "\n",
    "# =============================================================== Test Bench ===============================================================\n",
    "# Load linear search results\n",
    "# linear_search_results_df = pd.read_csv(\"Linear Search Results/resilient_investment_banker.csv\")\n",
    "# pq_search_results_df = pd.read_csv(\"PQ/PQ Search Results/pq_8_8_results/resilient_investment_banker.csv\")\n",
    "\n",
    "# linear_search_results_df = create_rank_sets(linear_search_results_df, \"Vector\", \"Linear Rank Set\")\n",
    "# # linear_search_results_df.head(-10)\n",
    "\n",
    "# pq_search_results_df = create_rank_sets(pq_search_results_df, \"Distance\", \"PQ Rank Set\")\n",
    "# # pq_search_results_df.head(-10)\n",
    "\n",
    "# merged_df = merge_search_results_df(linear_search_results_df, pq_search_results_df)\n",
    "# merged_df.head(-10)\n",
    "\n",
    "# basic_accuracy_per_query(\"resilient_investment_banker\", \"pq_32_64\")\n",
    "# advance_accuracy_per_query(\"full_time_senior_head_nurse_position\", \"pq_32_32\")"
   ]
  },
  {
   "cell_type": "code",
   "execution_count": 188,
   "metadata": {},
   "outputs": [
    {
     "name": "stdout",
     "output_type": "stream",
     "text": [
      "Calculating Advance Accuracy for resilient investment banker with pq_8_8....\n"
     ]
    },
    {
     "name": "stdout",
     "output_type": "stream",
     "text": [
      "Count:  2636\n",
      "Total Rows:  15885\n",
      "Accuracy:  0.16594271325149512\n",
      "Calculating Advance Accuracy for 2 years experience product manager with pq_8_8....\n"
     ]
    },
    {
     "name": "stderr",
     "output_type": "stream",
     "text": [
      "/var/folders/2q/bjqpws1153b0_y18lhffmh_m0000gn/T/ipykernel_42781/3725459898.py:14: FutureWarning: The frame.append method is deprecated and will be removed from pandas in a future version. Use pandas.concat instead.\n",
      "  compute_accuracy_df = compute_accuracy_df.append({'Query': query_name, 'PQ Setting': pq_setting, 'Accuracy': accuracy}, ignore_index=True)\n"
     ]
    },
    {
     "name": "stdout",
     "output_type": "stream",
     "text": [
      "Count:  552\n",
      "Total Rows:  15885\n",
      "Accuracy:  0.03474976392823418\n",
      "Calculating Advance Accuracy for 10 years risk analyst problem solver with pq_8_8....\n"
     ]
    },
    {
     "name": "stderr",
     "output_type": "stream",
     "text": [
      "/var/folders/2q/bjqpws1153b0_y18lhffmh_m0000gn/T/ipykernel_42781/3725459898.py:14: FutureWarning: The frame.append method is deprecated and will be removed from pandas in a future version. Use pandas.concat instead.\n",
      "  compute_accuracy_df = compute_accuracy_df.append({'Query': query_name, 'PQ Setting': pq_setting, 'Accuracy': accuracy}, ignore_index=True)\n"
     ]
    },
    {
     "name": "stdout",
     "output_type": "stream",
     "text": [
      "Count:  1294\n",
      "Total Rows:  15885\n",
      "Accuracy:  0.08146049732451999\n",
      "Calculating Advance Accuracy for tax analyst for big company with pq_8_8....\n"
     ]
    },
    {
     "name": "stderr",
     "output_type": "stream",
     "text": [
      "/var/folders/2q/bjqpws1153b0_y18lhffmh_m0000gn/T/ipykernel_42781/3725459898.py:14: FutureWarning: The frame.append method is deprecated and will be removed from pandas in a future version. Use pandas.concat instead.\n",
      "  compute_accuracy_df = compute_accuracy_df.append({'Query': query_name, 'PQ Setting': pq_setting, 'Accuracy': accuracy}, ignore_index=True)\n"
     ]
    },
    {
     "name": "stdout",
     "output_type": "stream",
     "text": [
      "Count:  1700\n",
      "Total Rows:  15885\n",
      "Accuracy:  0.10701920050361977\n",
      "Calculating Advance Accuracy for software engineer for google or amazon with pq_8_8....\n"
     ]
    },
    {
     "name": "stderr",
     "output_type": "stream",
     "text": [
      "/var/folders/2q/bjqpws1153b0_y18lhffmh_m0000gn/T/ipykernel_42781/3725459898.py:14: FutureWarning: The frame.append method is deprecated and will be removed from pandas in a future version. Use pandas.concat instead.\n",
      "  compute_accuracy_df = compute_accuracy_df.append({'Query': query_name, 'PQ Setting': pq_setting, 'Accuracy': accuracy}, ignore_index=True)\n"
     ]
    },
    {
     "name": "stdout",
     "output_type": "stream",
     "text": [
      "Count:  1771\n",
      "Total Rows:  15885\n",
      "Accuracy:  0.111488825936418\n",
      "Calculating Advance Accuracy for video editor for advertisements with 5 year experience with pq_8_8....\n"
     ]
    },
    {
     "name": "stderr",
     "output_type": "stream",
     "text": [
      "/var/folders/2q/bjqpws1153b0_y18lhffmh_m0000gn/T/ipykernel_42781/3725459898.py:14: FutureWarning: The frame.append method is deprecated and will be removed from pandas in a future version. Use pandas.concat instead.\n",
      "  compute_accuracy_df = compute_accuracy_df.append({'Query': query_name, 'PQ Setting': pq_setting, 'Accuracy': accuracy}, ignore_index=True)\n"
     ]
    },
    {
     "name": "stdout",
     "output_type": "stream",
     "text": [
      "Count:  657\n",
      "Total Rows:  15885\n",
      "Accuracy:  0.041359773371104816\n",
      "Calculating Advance Accuracy for full time senior head nurse position with pq_8_8....\n"
     ]
    },
    {
     "name": "stderr",
     "output_type": "stream",
     "text": [
      "/var/folders/2q/bjqpws1153b0_y18lhffmh_m0000gn/T/ipykernel_42781/3725459898.py:14: FutureWarning: The frame.append method is deprecated and will be removed from pandas in a future version. Use pandas.concat instead.\n",
      "  compute_accuracy_df = compute_accuracy_df.append({'Query': query_name, 'PQ Setting': pq_setting, 'Accuracy': accuracy}, ignore_index=True)\n"
     ]
    },
    {
     "name": "stdout",
     "output_type": "stream",
     "text": [
      "Count:  1127\n",
      "Total Rows:  15885\n",
      "Accuracy:  0.07094743468681146\n",
      "Calculating Advance Accuracy for after school math and science tutor with pq_8_8....\n"
     ]
    },
    {
     "name": "stderr",
     "output_type": "stream",
     "text": [
      "/var/folders/2q/bjqpws1153b0_y18lhffmh_m0000gn/T/ipykernel_42781/3725459898.py:14: FutureWarning: The frame.append method is deprecated and will be removed from pandas in a future version. Use pandas.concat instead.\n",
      "  compute_accuracy_df = compute_accuracy_df.append({'Query': query_name, 'PQ Setting': pq_setting, 'Accuracy': accuracy}, ignore_index=True)\n"
     ]
    },
    {
     "name": "stdout",
     "output_type": "stream",
     "text": [
      "Count:  1885\n",
      "Total Rows:  15885\n",
      "Accuracy:  0.11866540761724897\n",
      "Calculating Advance Accuracy for dietitian for professional atheletes with pq_8_8....\n"
     ]
    },
    {
     "name": "stderr",
     "output_type": "stream",
     "text": [
      "/var/folders/2q/bjqpws1153b0_y18lhffmh_m0000gn/T/ipykernel_42781/3725459898.py:14: FutureWarning: The frame.append method is deprecated and will be removed from pandas in a future version. Use pandas.concat instead.\n",
      "  compute_accuracy_df = compute_accuracy_df.append({'Query': query_name, 'PQ Setting': pq_setting, 'Accuracy': accuracy}, ignore_index=True)\n"
     ]
    },
    {
     "name": "stdout",
     "output_type": "stream",
     "text": [
      "Count:  2153\n",
      "Total Rows:  15885\n",
      "Accuracy:  0.13553666981429022\n",
      "Calculating Advance Accuracy for costume designer and makeup artist with pq_8_8....\n"
     ]
    },
    {
     "name": "stderr",
     "output_type": "stream",
     "text": [
      "/var/folders/2q/bjqpws1153b0_y18lhffmh_m0000gn/T/ipykernel_42781/3725459898.py:14: FutureWarning: The frame.append method is deprecated and will be removed from pandas in a future version. Use pandas.concat instead.\n",
      "  compute_accuracy_df = compute_accuracy_df.append({'Query': query_name, 'PQ Setting': pq_setting, 'Accuracy': accuracy}, ignore_index=True)\n"
     ]
    },
    {
     "name": "stdout",
     "output_type": "stream",
     "text": [
      "Count:  2187\n",
      "Total Rows:  15885\n",
      "Accuracy:  0.1376770538243626\n",
      "Calculating Advance Accuracy for resilient investment banker with pq_8_16....\n"
     ]
    },
    {
     "name": "stderr",
     "output_type": "stream",
     "text": [
      "/var/folders/2q/bjqpws1153b0_y18lhffmh_m0000gn/T/ipykernel_42781/3725459898.py:14: FutureWarning: The frame.append method is deprecated and will be removed from pandas in a future version. Use pandas.concat instead.\n",
      "  compute_accuracy_df = compute_accuracy_df.append({'Query': query_name, 'PQ Setting': pq_setting, 'Accuracy': accuracy}, ignore_index=True)\n",
      "/var/folders/2q/bjqpws1153b0_y18lhffmh_m0000gn/T/ipykernel_42781/3725459898.py:17: FutureWarning: The frame.append method is deprecated and will be removed from pandas in a future version. Use pandas.concat instead.\n",
      "  compute_accuracy_df = compute_accuracy_df.append({'Query': 'Average', 'PQ Setting': pq_setting, 'Accuracy': compute_accuracy_df['Accuracy'].mean()}, ignore_index=True)\n"
     ]
    },
    {
     "name": "stdout",
     "output_type": "stream",
     "text": [
      "Count:  1679\n",
      "Total Rows:  15885\n",
      "Accuracy:  0.10569719861504565\n",
      "Calculating Advance Accuracy for 2 years experience product manager with pq_8_16....\n"
     ]
    },
    {
     "name": "stderr",
     "output_type": "stream",
     "text": [
      "/var/folders/2q/bjqpws1153b0_y18lhffmh_m0000gn/T/ipykernel_42781/3725459898.py:14: FutureWarning: The frame.append method is deprecated and will be removed from pandas in a future version. Use pandas.concat instead.\n",
      "  compute_accuracy_df = compute_accuracy_df.append({'Query': query_name, 'PQ Setting': pq_setting, 'Accuracy': accuracy}, ignore_index=True)\n"
     ]
    },
    {
     "name": "stdout",
     "output_type": "stream",
     "text": [
      "Count:  442\n",
      "Total Rows:  15885\n",
      "Accuracy:  0.02782499213094114\n",
      "Calculating Advance Accuracy for 10 years risk analyst problem solver with pq_8_16....\n"
     ]
    },
    {
     "name": "stderr",
     "output_type": "stream",
     "text": [
      "/var/folders/2q/bjqpws1153b0_y18lhffmh_m0000gn/T/ipykernel_42781/3725459898.py:14: FutureWarning: The frame.append method is deprecated and will be removed from pandas in a future version. Use pandas.concat instead.\n",
      "  compute_accuracy_df = compute_accuracy_df.append({'Query': query_name, 'PQ Setting': pq_setting, 'Accuracy': accuracy}, ignore_index=True)\n"
     ]
    },
    {
     "name": "stdout",
     "output_type": "stream",
     "text": [
      "Count:  926\n",
      "Total Rows:  15885\n",
      "Accuracy:  0.058293988039030534\n",
      "Calculating Advance Accuracy for tax analyst for big company with pq_8_16....\n"
     ]
    },
    {
     "name": "stderr",
     "output_type": "stream",
     "text": [
      "/var/folders/2q/bjqpws1153b0_y18lhffmh_m0000gn/T/ipykernel_42781/3725459898.py:14: FutureWarning: The frame.append method is deprecated and will be removed from pandas in a future version. Use pandas.concat instead.\n",
      "  compute_accuracy_df = compute_accuracy_df.append({'Query': query_name, 'PQ Setting': pq_setting, 'Accuracy': accuracy}, ignore_index=True)\n"
     ]
    },
    {
     "name": "stdout",
     "output_type": "stream",
     "text": [
      "Count:  1154\n",
      "Total Rows:  15885\n",
      "Accuracy:  0.07264715140069247\n",
      "Calculating Advance Accuracy for software engineer for google or amazon with pq_8_16....\n"
     ]
    },
    {
     "name": "stderr",
     "output_type": "stream",
     "text": [
      "/var/folders/2q/bjqpws1153b0_y18lhffmh_m0000gn/T/ipykernel_42781/3725459898.py:14: FutureWarning: The frame.append method is deprecated and will be removed from pandas in a future version. Use pandas.concat instead.\n",
      "  compute_accuracy_df = compute_accuracy_df.append({'Query': query_name, 'PQ Setting': pq_setting, 'Accuracy': accuracy}, ignore_index=True)\n"
     ]
    },
    {
     "name": "stdout",
     "output_type": "stream",
     "text": [
      "Count:  1170\n",
      "Total Rows:  15885\n",
      "Accuracy:  0.07365439093484419\n",
      "Calculating Advance Accuracy for video editor for advertisements with 5 year experience with pq_8_16....\n"
     ]
    },
    {
     "name": "stderr",
     "output_type": "stream",
     "text": [
      "/var/folders/2q/bjqpws1153b0_y18lhffmh_m0000gn/T/ipykernel_42781/3725459898.py:14: FutureWarning: The frame.append method is deprecated and will be removed from pandas in a future version. Use pandas.concat instead.\n",
      "  compute_accuracy_df = compute_accuracy_df.append({'Query': query_name, 'PQ Setting': pq_setting, 'Accuracy': accuracy}, ignore_index=True)\n"
     ]
    },
    {
     "name": "stdout",
     "output_type": "stream",
     "text": [
      "Count:  512\n",
      "Total Rows:  15885\n",
      "Accuracy:  0.0322316650928549\n",
      "Calculating Advance Accuracy for full time senior head nurse position with pq_8_16....\n"
     ]
    },
    {
     "name": "stderr",
     "output_type": "stream",
     "text": [
      "/var/folders/2q/bjqpws1153b0_y18lhffmh_m0000gn/T/ipykernel_42781/3725459898.py:14: FutureWarning: The frame.append method is deprecated and will be removed from pandas in a future version. Use pandas.concat instead.\n",
      "  compute_accuracy_df = compute_accuracy_df.append({'Query': query_name, 'PQ Setting': pq_setting, 'Accuracy': accuracy}, ignore_index=True)\n"
     ]
    },
    {
     "name": "stdout",
     "output_type": "stream",
     "text": [
      "Count:  790\n",
      "Total Rows:  15885\n",
      "Accuracy:  0.04973245199874095\n",
      "Calculating Advance Accuracy for after school math and science tutor with pq_8_16....\n"
     ]
    },
    {
     "name": "stderr",
     "output_type": "stream",
     "text": [
      "/var/folders/2q/bjqpws1153b0_y18lhffmh_m0000gn/T/ipykernel_42781/3725459898.py:14: FutureWarning: The frame.append method is deprecated and will be removed from pandas in a future version. Use pandas.concat instead.\n",
      "  compute_accuracy_df = compute_accuracy_df.append({'Query': query_name, 'PQ Setting': pq_setting, 'Accuracy': accuracy}, ignore_index=True)\n"
     ]
    },
    {
     "name": "stdout",
     "output_type": "stream",
     "text": [
      "Count:  1301\n",
      "Total Rows:  15885\n",
      "Accuracy:  0.08190116462071137\n",
      "Calculating Advance Accuracy for dietitian for professional atheletes with pq_8_16....\n"
     ]
    },
    {
     "name": "stderr",
     "output_type": "stream",
     "text": [
      "/var/folders/2q/bjqpws1153b0_y18lhffmh_m0000gn/T/ipykernel_42781/3725459898.py:14: FutureWarning: The frame.append method is deprecated and will be removed from pandas in a future version. Use pandas.concat instead.\n",
      "  compute_accuracy_df = compute_accuracy_df.append({'Query': query_name, 'PQ Setting': pq_setting, 'Accuracy': accuracy}, ignore_index=True)\n"
     ]
    },
    {
     "name": "stdout",
     "output_type": "stream",
     "text": [
      "Count:  1419\n",
      "Total Rows:  15885\n",
      "Accuracy:  0.08932955618508026\n",
      "Calculating Advance Accuracy for costume designer and makeup artist with pq_8_16....\n"
     ]
    },
    {
     "name": "stderr",
     "output_type": "stream",
     "text": [
      "/var/folders/2q/bjqpws1153b0_y18lhffmh_m0000gn/T/ipykernel_42781/3725459898.py:14: FutureWarning: The frame.append method is deprecated and will be removed from pandas in a future version. Use pandas.concat instead.\n",
      "  compute_accuracy_df = compute_accuracy_df.append({'Query': query_name, 'PQ Setting': pq_setting, 'Accuracy': accuracy}, ignore_index=True)\n"
     ]
    },
    {
     "name": "stdout",
     "output_type": "stream",
     "text": [
      "Count:  1429\n",
      "Total Rows:  15885\n",
      "Accuracy:  0.08995908089392508\n",
      "Calculating Advance Accuracy for resilient investment banker with pq_8_32....\n"
     ]
    },
    {
     "name": "stderr",
     "output_type": "stream",
     "text": [
      "/var/folders/2q/bjqpws1153b0_y18lhffmh_m0000gn/T/ipykernel_42781/3725459898.py:14: FutureWarning: The frame.append method is deprecated and will be removed from pandas in a future version. Use pandas.concat instead.\n",
      "  compute_accuracy_df = compute_accuracy_df.append({'Query': query_name, 'PQ Setting': pq_setting, 'Accuracy': accuracy}, ignore_index=True)\n",
      "/var/folders/2q/bjqpws1153b0_y18lhffmh_m0000gn/T/ipykernel_42781/3725459898.py:17: FutureWarning: The frame.append method is deprecated and will be removed from pandas in a future version. Use pandas.concat instead.\n",
      "  compute_accuracy_df = compute_accuracy_df.append({'Query': 'Average', 'PQ Setting': pq_setting, 'Accuracy': compute_accuracy_df['Accuracy'].mean()}, ignore_index=True)\n"
     ]
    },
    {
     "name": "stdout",
     "output_type": "stream",
     "text": [
      "Count:  922\n",
      "Total Rows:  15885\n",
      "Accuracy:  0.058042178155492605\n",
      "Calculating Advance Accuracy for 2 years experience product manager with pq_8_32....\n"
     ]
    },
    {
     "name": "stderr",
     "output_type": "stream",
     "text": [
      "/var/folders/2q/bjqpws1153b0_y18lhffmh_m0000gn/T/ipykernel_42781/3725459898.py:14: FutureWarning: The frame.append method is deprecated and will be removed from pandas in a future version. Use pandas.concat instead.\n",
      "  compute_accuracy_df = compute_accuracy_df.append({'Query': query_name, 'PQ Setting': pq_setting, 'Accuracy': accuracy}, ignore_index=True)\n"
     ]
    },
    {
     "name": "stdout",
     "output_type": "stream",
     "text": [
      "Count:  313\n",
      "Total Rows:  15885\n",
      "Accuracy:  0.019704123386842933\n",
      "Calculating Advance Accuracy for 10 years risk analyst problem solver with pq_8_32....\n"
     ]
    },
    {
     "name": "stderr",
     "output_type": "stream",
     "text": [
      "/var/folders/2q/bjqpws1153b0_y18lhffmh_m0000gn/T/ipykernel_42781/3725459898.py:14: FutureWarning: The frame.append method is deprecated and will be removed from pandas in a future version. Use pandas.concat instead.\n",
      "  compute_accuracy_df = compute_accuracy_df.append({'Query': query_name, 'PQ Setting': pq_setting, 'Accuracy': accuracy}, ignore_index=True)\n"
     ]
    },
    {
     "name": "stdout",
     "output_type": "stream",
     "text": [
      "Count:  585\n",
      "Total Rows:  15885\n",
      "Accuracy:  0.036827195467422094\n",
      "Calculating Advance Accuracy for tax analyst for big company with pq_8_32....\n"
     ]
    },
    {
     "name": "stderr",
     "output_type": "stream",
     "text": [
      "/var/folders/2q/bjqpws1153b0_y18lhffmh_m0000gn/T/ipykernel_42781/3725459898.py:14: FutureWarning: The frame.append method is deprecated and will be removed from pandas in a future version. Use pandas.concat instead.\n",
      "  compute_accuracy_df = compute_accuracy_df.append({'Query': query_name, 'PQ Setting': pq_setting, 'Accuracy': accuracy}, ignore_index=True)\n"
     ]
    },
    {
     "name": "stdout",
     "output_type": "stream",
     "text": [
      "Count:  700\n",
      "Total Rows:  15885\n",
      "Accuracy:  0.04406672961913755\n",
      "Calculating Advance Accuracy for software engineer for google or amazon with pq_8_32....\n"
     ]
    },
    {
     "name": "stderr",
     "output_type": "stream",
     "text": [
      "/var/folders/2q/bjqpws1153b0_y18lhffmh_m0000gn/T/ipykernel_42781/3725459898.py:14: FutureWarning: The frame.append method is deprecated and will be removed from pandas in a future version. Use pandas.concat instead.\n",
      "  compute_accuracy_df = compute_accuracy_df.append({'Query': query_name, 'PQ Setting': pq_setting, 'Accuracy': accuracy}, ignore_index=True)\n"
     ]
    },
    {
     "name": "stdout",
     "output_type": "stream",
     "text": [
      "Count:  711\n",
      "Total Rows:  15885\n",
      "Accuracy:  0.04475920679886686\n",
      "Calculating Advance Accuracy for video editor for advertisements with 5 year experience with pq_8_32....\n"
     ]
    },
    {
     "name": "stderr",
     "output_type": "stream",
     "text": [
      "/var/folders/2q/bjqpws1153b0_y18lhffmh_m0000gn/T/ipykernel_42781/3725459898.py:14: FutureWarning: The frame.append method is deprecated and will be removed from pandas in a future version. Use pandas.concat instead.\n",
      "  compute_accuracy_df = compute_accuracy_df.append({'Query': query_name, 'PQ Setting': pq_setting, 'Accuracy': accuracy}, ignore_index=True)\n"
     ]
    },
    {
     "name": "stdout",
     "output_type": "stream",
     "text": [
      "Count:  379\n",
      "Total Rows:  15885\n",
      "Accuracy:  0.02385898646521876\n",
      "Calculating Advance Accuracy for full time senior head nurse position with pq_8_32....\n"
     ]
    },
    {
     "name": "stderr",
     "output_type": "stream",
     "text": [
      "/var/folders/2q/bjqpws1153b0_y18lhffmh_m0000gn/T/ipykernel_42781/3725459898.py:14: FutureWarning: The frame.append method is deprecated and will be removed from pandas in a future version. Use pandas.concat instead.\n",
      "  compute_accuracy_df = compute_accuracy_df.append({'Query': query_name, 'PQ Setting': pq_setting, 'Accuracy': accuracy}, ignore_index=True)\n"
     ]
    },
    {
     "name": "stdout",
     "output_type": "stream",
     "text": [
      "Count:  508\n",
      "Total Rows:  15885\n",
      "Accuracy:  0.03197985520931697\n",
      "Calculating Advance Accuracy for after school math and science tutor with pq_8_32....\n"
     ]
    },
    {
     "name": "stderr",
     "output_type": "stream",
     "text": [
      "/var/folders/2q/bjqpws1153b0_y18lhffmh_m0000gn/T/ipykernel_42781/3725459898.py:14: FutureWarning: The frame.append method is deprecated and will be removed from pandas in a future version. Use pandas.concat instead.\n",
      "  compute_accuracy_df = compute_accuracy_df.append({'Query': query_name, 'PQ Setting': pq_setting, 'Accuracy': accuracy}, ignore_index=True)\n"
     ]
    },
    {
     "name": "stdout",
     "output_type": "stream",
     "text": [
      "Count:  782\n",
      "Total Rows:  15885\n",
      "Accuracy:  0.04922883223166509\n",
      "Calculating Advance Accuracy for dietitian for professional atheletes with pq_8_32....\n"
     ]
    },
    {
     "name": "stderr",
     "output_type": "stream",
     "text": [
      "/var/folders/2q/bjqpws1153b0_y18lhffmh_m0000gn/T/ipykernel_42781/3725459898.py:14: FutureWarning: The frame.append method is deprecated and will be removed from pandas in a future version. Use pandas.concat instead.\n",
      "  compute_accuracy_df = compute_accuracy_df.append({'Query': query_name, 'PQ Setting': pq_setting, 'Accuracy': accuracy}, ignore_index=True)\n"
     ]
    },
    {
     "name": "stdout",
     "output_type": "stream",
     "text": [
      "Count:  830\n",
      "Total Rows:  15885\n",
      "Accuracy:  0.05225055083412024\n",
      "Calculating Advance Accuracy for costume designer and makeup artist with pq_8_32....\n"
     ]
    },
    {
     "name": "stderr",
     "output_type": "stream",
     "text": [
      "/var/folders/2q/bjqpws1153b0_y18lhffmh_m0000gn/T/ipykernel_42781/3725459898.py:14: FutureWarning: The frame.append method is deprecated and will be removed from pandas in a future version. Use pandas.concat instead.\n",
      "  compute_accuracy_df = compute_accuracy_df.append({'Query': query_name, 'PQ Setting': pq_setting, 'Accuracy': accuracy}, ignore_index=True)\n"
     ]
    },
    {
     "name": "stdout",
     "output_type": "stream",
     "text": [
      "Count:  829\n",
      "Total Rows:  15885\n",
      "Accuracy:  0.052187598363235756\n",
      "Calculating Advance Accuracy for resilient investment banker with pq_8_64....\n"
     ]
    },
    {
     "name": "stderr",
     "output_type": "stream",
     "text": [
      "/var/folders/2q/bjqpws1153b0_y18lhffmh_m0000gn/T/ipykernel_42781/3725459898.py:14: FutureWarning: The frame.append method is deprecated and will be removed from pandas in a future version. Use pandas.concat instead.\n",
      "  compute_accuracy_df = compute_accuracy_df.append({'Query': query_name, 'PQ Setting': pq_setting, 'Accuracy': accuracy}, ignore_index=True)\n",
      "/var/folders/2q/bjqpws1153b0_y18lhffmh_m0000gn/T/ipykernel_42781/3725459898.py:17: FutureWarning: The frame.append method is deprecated and will be removed from pandas in a future version. Use pandas.concat instead.\n",
      "  compute_accuracy_df = compute_accuracy_df.append({'Query': 'Average', 'PQ Setting': pq_setting, 'Accuracy': compute_accuracy_df['Accuracy'].mean()}, ignore_index=True)\n"
     ]
    },
    {
     "name": "stdout",
     "output_type": "stream",
     "text": [
      "Count:  578\n",
      "Total Rows:  15885\n",
      "Accuracy:  0.03638652817123072\n",
      "Calculating Advance Accuracy for 2 years experience product manager with pq_8_64....\n"
     ]
    },
    {
     "name": "stderr",
     "output_type": "stream",
     "text": [
      "/var/folders/2q/bjqpws1153b0_y18lhffmh_m0000gn/T/ipykernel_42781/3725459898.py:14: FutureWarning: The frame.append method is deprecated and will be removed from pandas in a future version. Use pandas.concat instead.\n",
      "  compute_accuracy_df = compute_accuracy_df.append({'Query': query_name, 'PQ Setting': pq_setting, 'Accuracy': accuracy}, ignore_index=True)\n"
     ]
    },
    {
     "name": "stdout",
     "output_type": "stream",
     "text": [
      "Count:  230\n",
      "Total Rows:  15885\n",
      "Accuracy:  0.01447906830343091\n",
      "Calculating Advance Accuracy for 10 years risk analyst problem solver with pq_8_64....\n"
     ]
    },
    {
     "name": "stderr",
     "output_type": "stream",
     "text": [
      "/var/folders/2q/bjqpws1153b0_y18lhffmh_m0000gn/T/ipykernel_42781/3725459898.py:14: FutureWarning: The frame.append method is deprecated and will be removed from pandas in a future version. Use pandas.concat instead.\n",
      "  compute_accuracy_df = compute_accuracy_df.append({'Query': query_name, 'PQ Setting': pq_setting, 'Accuracy': accuracy}, ignore_index=True)\n"
     ]
    },
    {
     "name": "stdout",
     "output_type": "stream",
     "text": [
      "Count:  383\n",
      "Total Rows:  15885\n",
      "Accuracy:  0.024110796348756687\n",
      "Calculating Advance Accuracy for tax analyst for big company with pq_8_64....\n"
     ]
    },
    {
     "name": "stderr",
     "output_type": "stream",
     "text": [
      "/var/folders/2q/bjqpws1153b0_y18lhffmh_m0000gn/T/ipykernel_42781/3725459898.py:14: FutureWarning: The frame.append method is deprecated and will be removed from pandas in a future version. Use pandas.concat instead.\n",
      "  compute_accuracy_df = compute_accuracy_df.append({'Query': query_name, 'PQ Setting': pq_setting, 'Accuracy': accuracy}, ignore_index=True)\n"
     ]
    },
    {
     "name": "stdout",
     "output_type": "stream",
     "text": [
      "Count:  471\n",
      "Total Rows:  15885\n",
      "Accuracy:  0.029650613786591125\n",
      "Calculating Advance Accuracy for software engineer for google or amazon with pq_8_64....\n"
     ]
    },
    {
     "name": "stderr",
     "output_type": "stream",
     "text": [
      "/var/folders/2q/bjqpws1153b0_y18lhffmh_m0000gn/T/ipykernel_42781/3725459898.py:14: FutureWarning: The frame.append method is deprecated and will be removed from pandas in a future version. Use pandas.concat instead.\n",
      "  compute_accuracy_df = compute_accuracy_df.append({'Query': query_name, 'PQ Setting': pq_setting, 'Accuracy': accuracy}, ignore_index=True)\n"
     ]
    },
    {
     "name": "stdout",
     "output_type": "stream",
     "text": [
      "Count:  457\n",
      "Total Rows:  15885\n",
      "Accuracy:  0.028769279194208373\n",
      "Calculating Advance Accuracy for video editor for advertisements with 5 year experience with pq_8_64....\n"
     ]
    },
    {
     "name": "stderr",
     "output_type": "stream",
     "text": [
      "/var/folders/2q/bjqpws1153b0_y18lhffmh_m0000gn/T/ipykernel_42781/3725459898.py:14: FutureWarning: The frame.append method is deprecated and will be removed from pandas in a future version. Use pandas.concat instead.\n",
      "  compute_accuracy_df = compute_accuracy_df.append({'Query': query_name, 'PQ Setting': pq_setting, 'Accuracy': accuracy}, ignore_index=True)\n"
     ]
    },
    {
     "name": "stdout",
     "output_type": "stream",
     "text": [
      "Count:  272\n",
      "Total Rows:  15885\n",
      "Accuracy:  0.017123072080579164\n",
      "Calculating Advance Accuracy for full time senior head nurse position with pq_8_64....\n"
     ]
    },
    {
     "name": "stderr",
     "output_type": "stream",
     "text": [
      "/var/folders/2q/bjqpws1153b0_y18lhffmh_m0000gn/T/ipykernel_42781/3725459898.py:14: FutureWarning: The frame.append method is deprecated and will be removed from pandas in a future version. Use pandas.concat instead.\n",
      "  compute_accuracy_df = compute_accuracy_df.append({'Query': query_name, 'PQ Setting': pq_setting, 'Accuracy': accuracy}, ignore_index=True)\n"
     ]
    },
    {
     "name": "stdout",
     "output_type": "stream",
     "text": [
      "Count:  342\n",
      "Total Rows:  15885\n",
      "Accuracy:  0.02152974504249292\n",
      "Calculating Advance Accuracy for after school math and science tutor with pq_8_64....\n"
     ]
    },
    {
     "name": "stderr",
     "output_type": "stream",
     "text": [
      "/var/folders/2q/bjqpws1153b0_y18lhffmh_m0000gn/T/ipykernel_42781/3725459898.py:14: FutureWarning: The frame.append method is deprecated and will be removed from pandas in a future version. Use pandas.concat instead.\n",
      "  compute_accuracy_df = compute_accuracy_df.append({'Query': query_name, 'PQ Setting': pq_setting, 'Accuracy': accuracy}, ignore_index=True)\n"
     ]
    },
    {
     "name": "stdout",
     "output_type": "stream",
     "text": [
      "Count:  501\n",
      "Total Rows:  15885\n",
      "Accuracy:  0.03153918791312559\n",
      "Calculating Advance Accuracy for dietitian for professional atheletes with pq_8_64....\n"
     ]
    },
    {
     "name": "stderr",
     "output_type": "stream",
     "text": [
      "/var/folders/2q/bjqpws1153b0_y18lhffmh_m0000gn/T/ipykernel_42781/3725459898.py:14: FutureWarning: The frame.append method is deprecated and will be removed from pandas in a future version. Use pandas.concat instead.\n",
      "  compute_accuracy_df = compute_accuracy_df.append({'Query': query_name, 'PQ Setting': pq_setting, 'Accuracy': accuracy}, ignore_index=True)\n"
     ]
    },
    {
     "name": "stdout",
     "output_type": "stream",
     "text": [
      "Count:  522\n",
      "Total Rows:  15885\n",
      "Accuracy:  0.03286118980169972\n",
      "Calculating Advance Accuracy for costume designer and makeup artist with pq_8_64....\n"
     ]
    },
    {
     "name": "stderr",
     "output_type": "stream",
     "text": [
      "/var/folders/2q/bjqpws1153b0_y18lhffmh_m0000gn/T/ipykernel_42781/3725459898.py:14: FutureWarning: The frame.append method is deprecated and will be removed from pandas in a future version. Use pandas.concat instead.\n",
      "  compute_accuracy_df = compute_accuracy_df.append({'Query': query_name, 'PQ Setting': pq_setting, 'Accuracy': accuracy}, ignore_index=True)\n"
     ]
    },
    {
     "name": "stdout",
     "output_type": "stream",
     "text": [
      "Count:  533\n",
      "Total Rows:  15885\n",
      "Accuracy:  0.033553666981429024\n",
      "Calculating Advance Accuracy for resilient investment banker with pq_8_128....\n"
     ]
    },
    {
     "name": "stderr",
     "output_type": "stream",
     "text": [
      "/var/folders/2q/bjqpws1153b0_y18lhffmh_m0000gn/T/ipykernel_42781/3725459898.py:14: FutureWarning: The frame.append method is deprecated and will be removed from pandas in a future version. Use pandas.concat instead.\n",
      "  compute_accuracy_df = compute_accuracy_df.append({'Query': query_name, 'PQ Setting': pq_setting, 'Accuracy': accuracy}, ignore_index=True)\n",
      "/var/folders/2q/bjqpws1153b0_y18lhffmh_m0000gn/T/ipykernel_42781/3725459898.py:17: FutureWarning: The frame.append method is deprecated and will be removed from pandas in a future version. Use pandas.concat instead.\n",
      "  compute_accuracy_df = compute_accuracy_df.append({'Query': 'Average', 'PQ Setting': pq_setting, 'Accuracy': compute_accuracy_df['Accuracy'].mean()}, ignore_index=True)\n"
     ]
    },
    {
     "name": "stdout",
     "output_type": "stream",
     "text": [
      "Count:  306\n",
      "Total Rows:  15885\n",
      "Accuracy:  0.019263456090651557\n",
      "Calculating Advance Accuracy for 2 years experience product manager with pq_8_128....\n"
     ]
    },
    {
     "name": "stderr",
     "output_type": "stream",
     "text": [
      "/var/folders/2q/bjqpws1153b0_y18lhffmh_m0000gn/T/ipykernel_42781/3725459898.py:14: FutureWarning: The frame.append method is deprecated and will be removed from pandas in a future version. Use pandas.concat instead.\n",
      "  compute_accuracy_df = compute_accuracy_df.append({'Query': query_name, 'PQ Setting': pq_setting, 'Accuracy': accuracy}, ignore_index=True)\n"
     ]
    },
    {
     "name": "stdout",
     "output_type": "stream",
     "text": [
      "Count:  163\n",
      "Total Rows:  15885\n",
      "Accuracy:  0.010261252754170601\n",
      "Calculating Advance Accuracy for 10 years risk analyst problem solver with pq_8_128....\n"
     ]
    },
    {
     "name": "stderr",
     "output_type": "stream",
     "text": [
      "/var/folders/2q/bjqpws1153b0_y18lhffmh_m0000gn/T/ipykernel_42781/3725459898.py:14: FutureWarning: The frame.append method is deprecated and will be removed from pandas in a future version. Use pandas.concat instead.\n",
      "  compute_accuracy_df = compute_accuracy_df.append({'Query': query_name, 'PQ Setting': pq_setting, 'Accuracy': accuracy}, ignore_index=True)\n"
     ]
    },
    {
     "name": "stdout",
     "output_type": "stream",
     "text": [
      "Count:  234\n",
      "Total Rows:  15885\n",
      "Accuracy:  0.014730878186968839\n",
      "Calculating Advance Accuracy for tax analyst for big company with pq_8_128....\n"
     ]
    },
    {
     "name": "stderr",
     "output_type": "stream",
     "text": [
      "/var/folders/2q/bjqpws1153b0_y18lhffmh_m0000gn/T/ipykernel_42781/3725459898.py:14: FutureWarning: The frame.append method is deprecated and will be removed from pandas in a future version. Use pandas.concat instead.\n",
      "  compute_accuracy_df = compute_accuracy_df.append({'Query': query_name, 'PQ Setting': pq_setting, 'Accuracy': accuracy}, ignore_index=True)\n"
     ]
    },
    {
     "name": "stdout",
     "output_type": "stream",
     "text": [
      "Count:  269\n",
      "Total Rows:  15885\n",
      "Accuracy:  0.016934214667925718\n",
      "Calculating Advance Accuracy for software engineer for google or amazon with pq_8_128....\n"
     ]
    },
    {
     "name": "stderr",
     "output_type": "stream",
     "text": [
      "/var/folders/2q/bjqpws1153b0_y18lhffmh_m0000gn/T/ipykernel_42781/3725459898.py:14: FutureWarning: The frame.append method is deprecated and will be removed from pandas in a future version. Use pandas.concat instead.\n",
      "  compute_accuracy_df = compute_accuracy_df.append({'Query': query_name, 'PQ Setting': pq_setting, 'Accuracy': accuracy}, ignore_index=True)\n"
     ]
    },
    {
     "name": "stdout",
     "output_type": "stream",
     "text": [
      "Count:  260\n",
      "Total Rows:  15885\n",
      "Accuracy:  0.016367642429965377\n",
      "Calculating Advance Accuracy for video editor for advertisements with 5 year experience with pq_8_128....\n"
     ]
    },
    {
     "name": "stderr",
     "output_type": "stream",
     "text": [
      "/var/folders/2q/bjqpws1153b0_y18lhffmh_m0000gn/T/ipykernel_42781/3725459898.py:14: FutureWarning: The frame.append method is deprecated and will be removed from pandas in a future version. Use pandas.concat instead.\n",
      "  compute_accuracy_df = compute_accuracy_df.append({'Query': query_name, 'PQ Setting': pq_setting, 'Accuracy': accuracy}, ignore_index=True)\n"
     ]
    },
    {
     "name": "stdout",
     "output_type": "stream",
     "text": [
      "Count:  189\n",
      "Total Rows:  15885\n",
      "Accuracy:  0.01189801699716714\n",
      "Calculating Advance Accuracy for full time senior head nurse position with pq_8_128....\n"
     ]
    },
    {
     "name": "stderr",
     "output_type": "stream",
     "text": [
      "/var/folders/2q/bjqpws1153b0_y18lhffmh_m0000gn/T/ipykernel_42781/3725459898.py:14: FutureWarning: The frame.append method is deprecated and will be removed from pandas in a future version. Use pandas.concat instead.\n",
      "  compute_accuracy_df = compute_accuracy_df.append({'Query': query_name, 'PQ Setting': pq_setting, 'Accuracy': accuracy}, ignore_index=True)\n"
     ]
    },
    {
     "name": "stdout",
     "output_type": "stream",
     "text": [
      "Count:  204\n",
      "Total Rows:  15885\n",
      "Accuracy:  0.012842304060434372\n",
      "Calculating Advance Accuracy for after school math and science tutor with pq_8_128....\n"
     ]
    },
    {
     "name": "stderr",
     "output_type": "stream",
     "text": [
      "/var/folders/2q/bjqpws1153b0_y18lhffmh_m0000gn/T/ipykernel_42781/3725459898.py:14: FutureWarning: The frame.append method is deprecated and will be removed from pandas in a future version. Use pandas.concat instead.\n",
      "  compute_accuracy_df = compute_accuracy_df.append({'Query': query_name, 'PQ Setting': pq_setting, 'Accuracy': accuracy}, ignore_index=True)\n"
     ]
    },
    {
     "name": "stdout",
     "output_type": "stream",
     "text": [
      "Count:  276\n",
      "Total Rows:  15885\n",
      "Accuracy:  0.01737488196411709\n",
      "Calculating Advance Accuracy for dietitian for professional atheletes with pq_8_128....\n"
     ]
    },
    {
     "name": "stderr",
     "output_type": "stream",
     "text": [
      "/var/folders/2q/bjqpws1153b0_y18lhffmh_m0000gn/T/ipykernel_42781/3725459898.py:14: FutureWarning: The frame.append method is deprecated and will be removed from pandas in a future version. Use pandas.concat instead.\n",
      "  compute_accuracy_df = compute_accuracy_df.append({'Query': query_name, 'PQ Setting': pq_setting, 'Accuracy': accuracy}, ignore_index=True)\n"
     ]
    },
    {
     "name": "stdout",
     "output_type": "stream",
     "text": [
      "Count:  287\n",
      "Total Rows:  15885\n",
      "Accuracy:  0.018067359143846395\n",
      "Calculating Advance Accuracy for costume designer and makeup artist with pq_8_128....\n"
     ]
    },
    {
     "name": "stderr",
     "output_type": "stream",
     "text": [
      "/var/folders/2q/bjqpws1153b0_y18lhffmh_m0000gn/T/ipykernel_42781/3725459898.py:14: FutureWarning: The frame.append method is deprecated and will be removed from pandas in a future version. Use pandas.concat instead.\n",
      "  compute_accuracy_df = compute_accuracy_df.append({'Query': query_name, 'PQ Setting': pq_setting, 'Accuracy': accuracy}, ignore_index=True)\n"
     ]
    },
    {
     "name": "stdout",
     "output_type": "stream",
     "text": [
      "Count:  285\n",
      "Total Rows:  15885\n",
      "Accuracy:  0.01794145420207743\n",
      "Calculating Advance Accuracy for resilient investment banker with pq_16_8....\n"
     ]
    },
    {
     "name": "stderr",
     "output_type": "stream",
     "text": [
      "/var/folders/2q/bjqpws1153b0_y18lhffmh_m0000gn/T/ipykernel_42781/3725459898.py:14: FutureWarning: The frame.append method is deprecated and will be removed from pandas in a future version. Use pandas.concat instead.\n",
      "  compute_accuracy_df = compute_accuracy_df.append({'Query': query_name, 'PQ Setting': pq_setting, 'Accuracy': accuracy}, ignore_index=True)\n",
      "/var/folders/2q/bjqpws1153b0_y18lhffmh_m0000gn/T/ipykernel_42781/3725459898.py:17: FutureWarning: The frame.append method is deprecated and will be removed from pandas in a future version. Use pandas.concat instead.\n",
      "  compute_accuracy_df = compute_accuracy_df.append({'Query': 'Average', 'PQ Setting': pq_setting, 'Accuracy': compute_accuracy_df['Accuracy'].mean()}, ignore_index=True)\n"
     ]
    },
    {
     "name": "stdout",
     "output_type": "stream",
     "text": [
      "Count:  880\n",
      "Total Rows:  15885\n",
      "Accuracy:  0.05539817437834435\n",
      "Calculating Advance Accuracy for 2 years experience product manager with pq_16_8....\n"
     ]
    },
    {
     "name": "stderr",
     "output_type": "stream",
     "text": [
      "/var/folders/2q/bjqpws1153b0_y18lhffmh_m0000gn/T/ipykernel_42781/3725459898.py:14: FutureWarning: The frame.append method is deprecated and will be removed from pandas in a future version. Use pandas.concat instead.\n",
      "  compute_accuracy_df = compute_accuracy_df.append({'Query': query_name, 'PQ Setting': pq_setting, 'Accuracy': accuracy}, ignore_index=True)\n"
     ]
    },
    {
     "name": "stdout",
     "output_type": "stream",
     "text": [
      "Count:  286\n",
      "Total Rows:  15885\n",
      "Accuracy:  0.018004406672961912\n",
      "Calculating Advance Accuracy for 10 years risk analyst problem solver with pq_16_8....\n"
     ]
    },
    {
     "name": "stderr",
     "output_type": "stream",
     "text": [
      "/var/folders/2q/bjqpws1153b0_y18lhffmh_m0000gn/T/ipykernel_42781/3725459898.py:14: FutureWarning: The frame.append method is deprecated and will be removed from pandas in a future version. Use pandas.concat instead.\n",
      "  compute_accuracy_df = compute_accuracy_df.append({'Query': query_name, 'PQ Setting': pq_setting, 'Accuracy': accuracy}, ignore_index=True)\n"
     ]
    },
    {
     "name": "stdout",
     "output_type": "stream",
     "text": [
      "Count:  527\n",
      "Total Rows:  15885\n",
      "Accuracy:  0.03317595215612213\n",
      "Calculating Advance Accuracy for tax analyst for big company with pq_16_8....\n"
     ]
    },
    {
     "name": "stderr",
     "output_type": "stream",
     "text": [
      "/var/folders/2q/bjqpws1153b0_y18lhffmh_m0000gn/T/ipykernel_42781/3725459898.py:14: FutureWarning: The frame.append method is deprecated and will be removed from pandas in a future version. Use pandas.concat instead.\n",
      "  compute_accuracy_df = compute_accuracy_df.append({'Query': query_name, 'PQ Setting': pq_setting, 'Accuracy': accuracy}, ignore_index=True)\n"
     ]
    },
    {
     "name": "stdout",
     "output_type": "stream",
     "text": [
      "Count:  651\n",
      "Total Rows:  15885\n",
      "Accuracy:  0.04098205854579792\n",
      "Calculating Advance Accuracy for software engineer for google or amazon with pq_16_8....\n"
     ]
    },
    {
     "name": "stderr",
     "output_type": "stream",
     "text": [
      "/var/folders/2q/bjqpws1153b0_y18lhffmh_m0000gn/T/ipykernel_42781/3725459898.py:14: FutureWarning: The frame.append method is deprecated and will be removed from pandas in a future version. Use pandas.concat instead.\n",
      "  compute_accuracy_df = compute_accuracy_df.append({'Query': query_name, 'PQ Setting': pq_setting, 'Accuracy': accuracy}, ignore_index=True)\n"
     ]
    },
    {
     "name": "stdout",
     "output_type": "stream",
     "text": [
      "Count:  648\n",
      "Total Rows:  15885\n",
      "Accuracy:  0.040793201133144476\n",
      "Calculating Advance Accuracy for video editor for advertisements with 5 year experience with pq_16_8....\n"
     ]
    },
    {
     "name": "stderr",
     "output_type": "stream",
     "text": [
      "/var/folders/2q/bjqpws1153b0_y18lhffmh_m0000gn/T/ipykernel_42781/3725459898.py:14: FutureWarning: The frame.append method is deprecated and will be removed from pandas in a future version. Use pandas.concat instead.\n",
      "  compute_accuracy_df = compute_accuracy_df.append({'Query': query_name, 'PQ Setting': pq_setting, 'Accuracy': accuracy}, ignore_index=True)\n"
     ]
    },
    {
     "name": "stdout",
     "output_type": "stream",
     "text": [
      "Count:  342\n",
      "Total Rows:  15885\n",
      "Accuracy:  0.02152974504249292\n",
      "Calculating Advance Accuracy for full time senior head nurse position with pq_16_8....\n"
     ]
    },
    {
     "name": "stderr",
     "output_type": "stream",
     "text": [
      "/var/folders/2q/bjqpws1153b0_y18lhffmh_m0000gn/T/ipykernel_42781/3725459898.py:14: FutureWarning: The frame.append method is deprecated and will be removed from pandas in a future version. Use pandas.concat instead.\n",
      "  compute_accuracy_df = compute_accuracy_df.append({'Query': query_name, 'PQ Setting': pq_setting, 'Accuracy': accuracy}, ignore_index=True)\n"
     ]
    },
    {
     "name": "stdout",
     "output_type": "stream",
     "text": [
      "Count:  494\n",
      "Total Rows:  15885\n",
      "Accuracy:  0.031098520616934213\n",
      "Calculating Advance Accuracy for after school math and science tutor with pq_16_8....\n"
     ]
    },
    {
     "name": "stderr",
     "output_type": "stream",
     "text": [
      "/var/folders/2q/bjqpws1153b0_y18lhffmh_m0000gn/T/ipykernel_42781/3725459898.py:14: FutureWarning: The frame.append method is deprecated and will be removed from pandas in a future version. Use pandas.concat instead.\n",
      "  compute_accuracy_df = compute_accuracy_df.append({'Query': query_name, 'PQ Setting': pq_setting, 'Accuracy': accuracy}, ignore_index=True)\n"
     ]
    },
    {
     "name": "stdout",
     "output_type": "stream",
     "text": [
      "Count:  728\n",
      "Total Rows:  15885\n",
      "Accuracy:  0.045829398803903056\n",
      "Calculating Advance Accuracy for dietitian for professional atheletes with pq_16_8....\n"
     ]
    },
    {
     "name": "stderr",
     "output_type": "stream",
     "text": [
      "/var/folders/2q/bjqpws1153b0_y18lhffmh_m0000gn/T/ipykernel_42781/3725459898.py:14: FutureWarning: The frame.append method is deprecated and will be removed from pandas in a future version. Use pandas.concat instead.\n",
      "  compute_accuracy_df = compute_accuracy_df.append({'Query': query_name, 'PQ Setting': pq_setting, 'Accuracy': accuracy}, ignore_index=True)\n"
     ]
    },
    {
     "name": "stdout",
     "output_type": "stream",
     "text": [
      "Count:  772\n",
      "Total Rows:  15885\n",
      "Accuracy:  0.04859930752282027\n",
      "Calculating Advance Accuracy for costume designer and makeup artist with pq_16_8....\n"
     ]
    },
    {
     "name": "stderr",
     "output_type": "stream",
     "text": [
      "/var/folders/2q/bjqpws1153b0_y18lhffmh_m0000gn/T/ipykernel_42781/3725459898.py:14: FutureWarning: The frame.append method is deprecated and will be removed from pandas in a future version. Use pandas.concat instead.\n",
      "  compute_accuracy_df = compute_accuracy_df.append({'Query': query_name, 'PQ Setting': pq_setting, 'Accuracy': accuracy}, ignore_index=True)\n"
     ]
    },
    {
     "name": "stdout",
     "output_type": "stream",
     "text": [
      "Count:  774\n",
      "Total Rows:  15885\n",
      "Accuracy:  0.04872521246458923\n",
      "Calculating Advance Accuracy for resilient investment banker with pq_16_16....\n"
     ]
    },
    {
     "name": "stderr",
     "output_type": "stream",
     "text": [
      "/var/folders/2q/bjqpws1153b0_y18lhffmh_m0000gn/T/ipykernel_42781/3725459898.py:14: FutureWarning: The frame.append method is deprecated and will be removed from pandas in a future version. Use pandas.concat instead.\n",
      "  compute_accuracy_df = compute_accuracy_df.append({'Query': query_name, 'PQ Setting': pq_setting, 'Accuracy': accuracy}, ignore_index=True)\n",
      "/var/folders/2q/bjqpws1153b0_y18lhffmh_m0000gn/T/ipykernel_42781/3725459898.py:17: FutureWarning: The frame.append method is deprecated and will be removed from pandas in a future version. Use pandas.concat instead.\n",
      "  compute_accuracy_df = compute_accuracy_df.append({'Query': 'Average', 'PQ Setting': pq_setting, 'Accuracy': compute_accuracy_df['Accuracy'].mean()}, ignore_index=True)\n"
     ]
    },
    {
     "name": "stdout",
     "output_type": "stream",
     "text": [
      "Count:  521\n",
      "Total Rows:  15885\n",
      "Accuracy:  0.03279823733081524\n",
      "Calculating Advance Accuracy for 2 years experience product manager with pq_16_16....\n"
     ]
    },
    {
     "name": "stderr",
     "output_type": "stream",
     "text": [
      "/var/folders/2q/bjqpws1153b0_y18lhffmh_m0000gn/T/ipykernel_42781/3725459898.py:14: FutureWarning: The frame.append method is deprecated and will be removed from pandas in a future version. Use pandas.concat instead.\n",
      "  compute_accuracy_df = compute_accuracy_df.append({'Query': query_name, 'PQ Setting': pq_setting, 'Accuracy': accuracy}, ignore_index=True)\n"
     ]
    },
    {
     "name": "stdout",
     "output_type": "stream",
     "text": [
      "Count:  204\n",
      "Total Rows:  15885\n",
      "Accuracy:  0.012842304060434372\n",
      "Calculating Advance Accuracy for 10 years risk analyst problem solver with pq_16_16....\n"
     ]
    },
    {
     "name": "stderr",
     "output_type": "stream",
     "text": [
      "/var/folders/2q/bjqpws1153b0_y18lhffmh_m0000gn/T/ipykernel_42781/3725459898.py:14: FutureWarning: The frame.append method is deprecated and will be removed from pandas in a future version. Use pandas.concat instead.\n",
      "  compute_accuracy_df = compute_accuracy_df.append({'Query': query_name, 'PQ Setting': pq_setting, 'Accuracy': accuracy}, ignore_index=True)\n"
     ]
    },
    {
     "name": "stdout",
     "output_type": "stream",
     "text": [
      "Count:  355\n",
      "Total Rows:  15885\n",
      "Accuracy:  0.022348127163991188\n",
      "Calculating Advance Accuracy for tax analyst for big company with pq_16_16....\n"
     ]
    },
    {
     "name": "stderr",
     "output_type": "stream",
     "text": [
      "/var/folders/2q/bjqpws1153b0_y18lhffmh_m0000gn/T/ipykernel_42781/3725459898.py:14: FutureWarning: The frame.append method is deprecated and will be removed from pandas in a future version. Use pandas.concat instead.\n",
      "  compute_accuracy_df = compute_accuracy_df.append({'Query': query_name, 'PQ Setting': pq_setting, 'Accuracy': accuracy}, ignore_index=True)\n"
     ]
    },
    {
     "name": "stdout",
     "output_type": "stream",
     "text": [
      "Count:  416\n",
      "Total Rows:  15885\n",
      "Accuracy:  0.0261882278879446\n",
      "Calculating Advance Accuracy for software engineer for google or amazon with pq_16_16....\n"
     ]
    },
    {
     "name": "stderr",
     "output_type": "stream",
     "text": [
      "/var/folders/2q/bjqpws1153b0_y18lhffmh_m0000gn/T/ipykernel_42781/3725459898.py:14: FutureWarning: The frame.append method is deprecated and will be removed from pandas in a future version. Use pandas.concat instead.\n",
      "  compute_accuracy_df = compute_accuracy_df.append({'Query': query_name, 'PQ Setting': pq_setting, 'Accuracy': accuracy}, ignore_index=True)\n"
     ]
    },
    {
     "name": "stdout",
     "output_type": "stream",
     "text": [
      "Count:  422\n",
      "Total Rows:  15885\n",
      "Accuracy:  0.026565942713251495\n",
      "Calculating Advance Accuracy for video editor for advertisements with 5 year experience with pq_16_16....\n"
     ]
    },
    {
     "name": "stderr",
     "output_type": "stream",
     "text": [
      "/var/folders/2q/bjqpws1153b0_y18lhffmh_m0000gn/T/ipykernel_42781/3725459898.py:14: FutureWarning: The frame.append method is deprecated and will be removed from pandas in a future version. Use pandas.concat instead.\n",
      "  compute_accuracy_df = compute_accuracy_df.append({'Query': query_name, 'PQ Setting': pq_setting, 'Accuracy': accuracy}, ignore_index=True)\n"
     ]
    },
    {
     "name": "stdout",
     "output_type": "stream",
     "text": [
      "Count:  245\n",
      "Total Rows:  15885\n",
      "Accuracy:  0.015423355366698142\n",
      "Calculating Advance Accuracy for full time senior head nurse position with pq_16_16....\n"
     ]
    },
    {
     "name": "stderr",
     "output_type": "stream",
     "text": [
      "/var/folders/2q/bjqpws1153b0_y18lhffmh_m0000gn/T/ipykernel_42781/3725459898.py:14: FutureWarning: The frame.append method is deprecated and will be removed from pandas in a future version. Use pandas.concat instead.\n",
      "  compute_accuracy_df = compute_accuracy_df.append({'Query': query_name, 'PQ Setting': pq_setting, 'Accuracy': accuracy}, ignore_index=True)\n"
     ]
    },
    {
     "name": "stdout",
     "output_type": "stream",
     "text": [
      "Count:  326\n",
      "Total Rows:  15885\n",
      "Accuracy:  0.020522505508341202\n",
      "Calculating Advance Accuracy for after school math and science tutor with pq_16_16....\n"
     ]
    },
    {
     "name": "stderr",
     "output_type": "stream",
     "text": [
      "/var/folders/2q/bjqpws1153b0_y18lhffmh_m0000gn/T/ipykernel_42781/3725459898.py:14: FutureWarning: The frame.append method is deprecated and will be removed from pandas in a future version. Use pandas.concat instead.\n",
      "  compute_accuracy_df = compute_accuracy_df.append({'Query': query_name, 'PQ Setting': pq_setting, 'Accuracy': accuracy}, ignore_index=True)\n"
     ]
    },
    {
     "name": "stdout",
     "output_type": "stream",
     "text": [
      "Count:  464\n",
      "Total Rows:  15885\n",
      "Accuracy:  0.02920994649039975\n",
      "Calculating Advance Accuracy for dietitian for professional atheletes with pq_16_16....\n"
     ]
    },
    {
     "name": "stderr",
     "output_type": "stream",
     "text": [
      "/var/folders/2q/bjqpws1153b0_y18lhffmh_m0000gn/T/ipykernel_42781/3725459898.py:14: FutureWarning: The frame.append method is deprecated and will be removed from pandas in a future version. Use pandas.concat instead.\n",
      "  compute_accuracy_df = compute_accuracy_df.append({'Query': query_name, 'PQ Setting': pq_setting, 'Accuracy': accuracy}, ignore_index=True)\n"
     ]
    },
    {
     "name": "stdout",
     "output_type": "stream",
     "text": [
      "Count:  483\n",
      "Total Rows:  15885\n",
      "Accuracy:  0.030406043437204912\n",
      "Calculating Advance Accuracy for costume designer and makeup artist with pq_16_16....\n"
     ]
    },
    {
     "name": "stderr",
     "output_type": "stream",
     "text": [
      "/var/folders/2q/bjqpws1153b0_y18lhffmh_m0000gn/T/ipykernel_42781/3725459898.py:14: FutureWarning: The frame.append method is deprecated and will be removed from pandas in a future version. Use pandas.concat instead.\n",
      "  compute_accuracy_df = compute_accuracy_df.append({'Query': query_name, 'PQ Setting': pq_setting, 'Accuracy': accuracy}, ignore_index=True)\n"
     ]
    },
    {
     "name": "stdout",
     "output_type": "stream",
     "text": [
      "Count:  481\n",
      "Total Rows:  15885\n",
      "Accuracy:  0.030280138495435947\n",
      "Calculating Advance Accuracy for resilient investment banker with pq_16_32....\n"
     ]
    },
    {
     "name": "stderr",
     "output_type": "stream",
     "text": [
      "/var/folders/2q/bjqpws1153b0_y18lhffmh_m0000gn/T/ipykernel_42781/3725459898.py:14: FutureWarning: The frame.append method is deprecated and will be removed from pandas in a future version. Use pandas.concat instead.\n",
      "  compute_accuracy_df = compute_accuracy_df.append({'Query': query_name, 'PQ Setting': pq_setting, 'Accuracy': accuracy}, ignore_index=True)\n",
      "/var/folders/2q/bjqpws1153b0_y18lhffmh_m0000gn/T/ipykernel_42781/3725459898.py:17: FutureWarning: The frame.append method is deprecated and will be removed from pandas in a future version. Use pandas.concat instead.\n",
      "  compute_accuracy_df = compute_accuracy_df.append({'Query': 'Average', 'PQ Setting': pq_setting, 'Accuracy': compute_accuracy_df['Accuracy'].mean()}, ignore_index=True)\n"
     ]
    },
    {
     "name": "stdout",
     "output_type": "stream",
     "text": [
      "Count:  239\n",
      "Total Rows:  15885\n",
      "Accuracy:  0.01504564054139125\n",
      "Calculating Advance Accuracy for 2 years experience product manager with pq_16_32....\n"
     ]
    },
    {
     "name": "stderr",
     "output_type": "stream",
     "text": [
      "/var/folders/2q/bjqpws1153b0_y18lhffmh_m0000gn/T/ipykernel_42781/3725459898.py:14: FutureWarning: The frame.append method is deprecated and will be removed from pandas in a future version. Use pandas.concat instead.\n",
      "  compute_accuracy_df = compute_accuracy_df.append({'Query': query_name, 'PQ Setting': pq_setting, 'Accuracy': accuracy}, ignore_index=True)\n"
     ]
    },
    {
     "name": "stdout",
     "output_type": "stream",
     "text": [
      "Count:  131\n",
      "Total Rows:  15885\n",
      "Accuracy:  0.008246773685867171\n",
      "Calculating Advance Accuracy for 10 years risk analyst problem solver with pq_16_32....\n"
     ]
    },
    {
     "name": "stderr",
     "output_type": "stream",
     "text": [
      "/var/folders/2q/bjqpws1153b0_y18lhffmh_m0000gn/T/ipykernel_42781/3725459898.py:14: FutureWarning: The frame.append method is deprecated and will be removed from pandas in a future version. Use pandas.concat instead.\n",
      "  compute_accuracy_df = compute_accuracy_df.append({'Query': query_name, 'PQ Setting': pq_setting, 'Accuracy': accuracy}, ignore_index=True)\n"
     ]
    },
    {
     "name": "stdout",
     "output_type": "stream",
     "text": [
      "Count:  187\n",
      "Total Rows:  15885\n",
      "Accuracy:  0.011772112055398175\n",
      "Calculating Advance Accuracy for tax analyst for big company with pq_16_32....\n"
     ]
    },
    {
     "name": "stderr",
     "output_type": "stream",
     "text": [
      "/var/folders/2q/bjqpws1153b0_y18lhffmh_m0000gn/T/ipykernel_42781/3725459898.py:14: FutureWarning: The frame.append method is deprecated and will be removed from pandas in a future version. Use pandas.concat instead.\n",
      "  compute_accuracy_df = compute_accuracy_df.append({'Query': query_name, 'PQ Setting': pq_setting, 'Accuracy': accuracy}, ignore_index=True)\n"
     ]
    },
    {
     "name": "stdout",
     "output_type": "stream",
     "text": [
      "Count:  209\n",
      "Total Rows:  15885\n",
      "Accuracy:  0.013157066414856783\n",
      "Calculating Advance Accuracy for software engineer for google or amazon with pq_16_32....\n"
     ]
    },
    {
     "name": "stderr",
     "output_type": "stream",
     "text": [
      "/var/folders/2q/bjqpws1153b0_y18lhffmh_m0000gn/T/ipykernel_42781/3725459898.py:14: FutureWarning: The frame.append method is deprecated and will be removed from pandas in a future version. Use pandas.concat instead.\n",
      "  compute_accuracy_df = compute_accuracy_df.append({'Query': query_name, 'PQ Setting': pq_setting, 'Accuracy': accuracy}, ignore_index=True)\n"
     ]
    },
    {
     "name": "stdout",
     "output_type": "stream",
     "text": [
      "Count:  208\n",
      "Total Rows:  15885\n",
      "Accuracy:  0.0130941139439723\n",
      "Calculating Advance Accuracy for video editor for advertisements with 5 year experience with pq_16_32....\n"
     ]
    },
    {
     "name": "stderr",
     "output_type": "stream",
     "text": [
      "/var/folders/2q/bjqpws1153b0_y18lhffmh_m0000gn/T/ipykernel_42781/3725459898.py:14: FutureWarning: The frame.append method is deprecated and will be removed from pandas in a future version. Use pandas.concat instead.\n",
      "  compute_accuracy_df = compute_accuracy_df.append({'Query': query_name, 'PQ Setting': pq_setting, 'Accuracy': accuracy}, ignore_index=True)\n"
     ]
    },
    {
     "name": "stdout",
     "output_type": "stream",
     "text": [
      "Count:  151\n",
      "Total Rows:  15885\n",
      "Accuracy:  0.009505823103556814\n",
      "Calculating Advance Accuracy for full time senior head nurse position with pq_16_32....\n"
     ]
    },
    {
     "name": "stderr",
     "output_type": "stream",
     "text": [
      "/var/folders/2q/bjqpws1153b0_y18lhffmh_m0000gn/T/ipykernel_42781/3725459898.py:14: FutureWarning: The frame.append method is deprecated and will be removed from pandas in a future version. Use pandas.concat instead.\n",
      "  compute_accuracy_df = compute_accuracy_df.append({'Query': query_name, 'PQ Setting': pq_setting, 'Accuracy': accuracy}, ignore_index=True)\n"
     ]
    },
    {
     "name": "stdout",
     "output_type": "stream",
     "text": [
      "Count:  168\n",
      "Total Rows:  15885\n",
      "Accuracy:  0.010576015108593012\n",
      "Calculating Advance Accuracy for after school math and science tutor with pq_16_32....\n"
     ]
    },
    {
     "name": "stderr",
     "output_type": "stream",
     "text": [
      "/var/folders/2q/bjqpws1153b0_y18lhffmh_m0000gn/T/ipykernel_42781/3725459898.py:14: FutureWarning: The frame.append method is deprecated and will be removed from pandas in a future version. Use pandas.concat instead.\n",
      "  compute_accuracy_df = compute_accuracy_df.append({'Query': query_name, 'PQ Setting': pq_setting, 'Accuracy': accuracy}, ignore_index=True)\n"
     ]
    },
    {
     "name": "stdout",
     "output_type": "stream",
     "text": [
      "Count:  220\n",
      "Total Rows:  15885\n",
      "Accuracy:  0.013849543594586088\n",
      "Calculating Advance Accuracy for dietitian for professional atheletes with pq_16_32....\n"
     ]
    },
    {
     "name": "stderr",
     "output_type": "stream",
     "text": [
      "/var/folders/2q/bjqpws1153b0_y18lhffmh_m0000gn/T/ipykernel_42781/3725459898.py:14: FutureWarning: The frame.append method is deprecated and will be removed from pandas in a future version. Use pandas.concat instead.\n",
      "  compute_accuracy_df = compute_accuracy_df.append({'Query': query_name, 'PQ Setting': pq_setting, 'Accuracy': accuracy}, ignore_index=True)\n"
     ]
    },
    {
     "name": "stdout",
     "output_type": "stream",
     "text": [
      "Count:  224\n",
      "Total Rows:  15885\n",
      "Accuracy:  0.014101353478124017\n",
      "Calculating Advance Accuracy for costume designer and makeup artist with pq_16_32....\n"
     ]
    },
    {
     "name": "stderr",
     "output_type": "stream",
     "text": [
      "/var/folders/2q/bjqpws1153b0_y18lhffmh_m0000gn/T/ipykernel_42781/3725459898.py:14: FutureWarning: The frame.append method is deprecated and will be removed from pandas in a future version. Use pandas.concat instead.\n",
      "  compute_accuracy_df = compute_accuracy_df.append({'Query': query_name, 'PQ Setting': pq_setting, 'Accuracy': accuracy}, ignore_index=True)\n"
     ]
    },
    {
     "name": "stdout",
     "output_type": "stream",
     "text": [
      "Count:  227\n",
      "Total Rows:  15885\n",
      "Accuracy:  0.014290210890777463\n",
      "Calculating Advance Accuracy for resilient investment banker with pq_16_64....\n"
     ]
    },
    {
     "name": "stderr",
     "output_type": "stream",
     "text": [
      "/var/folders/2q/bjqpws1153b0_y18lhffmh_m0000gn/T/ipykernel_42781/3725459898.py:14: FutureWarning: The frame.append method is deprecated and will be removed from pandas in a future version. Use pandas.concat instead.\n",
      "  compute_accuracy_df = compute_accuracy_df.append({'Query': query_name, 'PQ Setting': pq_setting, 'Accuracy': accuracy}, ignore_index=True)\n",
      "/var/folders/2q/bjqpws1153b0_y18lhffmh_m0000gn/T/ipykernel_42781/3725459898.py:17: FutureWarning: The frame.append method is deprecated and will be removed from pandas in a future version. Use pandas.concat instead.\n",
      "  compute_accuracy_df = compute_accuracy_df.append({'Query': 'Average', 'PQ Setting': pq_setting, 'Accuracy': compute_accuracy_df['Accuracy'].mean()}, ignore_index=True)\n"
     ]
    },
    {
     "name": "stdout",
     "output_type": "stream",
     "text": [
      "Count:  129\n",
      "Total Rows:  15885\n",
      "Accuracy:  0.008120868744098206\n",
      "Calculating Advance Accuracy for 2 years experience product manager with pq_16_64....\n"
     ]
    },
    {
     "name": "stderr",
     "output_type": "stream",
     "text": [
      "/var/folders/2q/bjqpws1153b0_y18lhffmh_m0000gn/T/ipykernel_42781/3725459898.py:14: FutureWarning: The frame.append method is deprecated and will be removed from pandas in a future version. Use pandas.concat instead.\n",
      "  compute_accuracy_df = compute_accuracy_df.append({'Query': query_name, 'PQ Setting': pq_setting, 'Accuracy': accuracy}, ignore_index=True)\n"
     ]
    },
    {
     "name": "stdout",
     "output_type": "stream",
     "text": [
      "Count:  86\n",
      "Total Rows:  15885\n",
      "Accuracy:  0.005413912496065471\n",
      "Calculating Advance Accuracy for 10 years risk analyst problem solver with pq_16_64....\n"
     ]
    },
    {
     "name": "stderr",
     "output_type": "stream",
     "text": [
      "/var/folders/2q/bjqpws1153b0_y18lhffmh_m0000gn/T/ipykernel_42781/3725459898.py:14: FutureWarning: The frame.append method is deprecated and will be removed from pandas in a future version. Use pandas.concat instead.\n",
      "  compute_accuracy_df = compute_accuracy_df.append({'Query': query_name, 'PQ Setting': pq_setting, 'Accuracy': accuracy}, ignore_index=True)\n"
     ]
    },
    {
     "name": "stdout",
     "output_type": "stream",
     "text": [
      "Count:  2\n",
      "Total Rows:  15885\n",
      "Accuracy:  0.00012590494176896444\n",
      "Calculating Advance Accuracy for tax analyst for big company with pq_16_64....\n"
     ]
    },
    {
     "name": "stderr",
     "output_type": "stream",
     "text": [
      "/var/folders/2q/bjqpws1153b0_y18lhffmh_m0000gn/T/ipykernel_42781/3725459898.py:14: FutureWarning: The frame.append method is deprecated and will be removed from pandas in a future version. Use pandas.concat instead.\n",
      "  compute_accuracy_df = compute_accuracy_df.append({'Query': query_name, 'PQ Setting': pq_setting, 'Accuracy': accuracy}, ignore_index=True)\n"
     ]
    },
    {
     "name": "stdout",
     "output_type": "stream",
     "text": [
      "Count:  120\n",
      "Total Rows:  15885\n",
      "Accuracy:  0.007554296506137866\n",
      "Calculating Advance Accuracy for software engineer for google or amazon with pq_16_64....\n"
     ]
    },
    {
     "name": "stderr",
     "output_type": "stream",
     "text": [
      "/var/folders/2q/bjqpws1153b0_y18lhffmh_m0000gn/T/ipykernel_42781/3725459898.py:14: FutureWarning: The frame.append method is deprecated and will be removed from pandas in a future version. Use pandas.concat instead.\n",
      "  compute_accuracy_df = compute_accuracy_df.append({'Query': query_name, 'PQ Setting': pq_setting, 'Accuracy': accuracy}, ignore_index=True)\n"
     ]
    },
    {
     "name": "stdout",
     "output_type": "stream",
     "text": [
      "Count:  121\n",
      "Total Rows:  15885\n",
      "Accuracy:  0.0076172489770223485\n",
      "Calculating Advance Accuracy for video editor for advertisements with 5 year experience with pq_16_64....\n"
     ]
    },
    {
     "name": "stderr",
     "output_type": "stream",
     "text": [
      "/var/folders/2q/bjqpws1153b0_y18lhffmh_m0000gn/T/ipykernel_42781/3725459898.py:14: FutureWarning: The frame.append method is deprecated and will be removed from pandas in a future version. Use pandas.concat instead.\n",
      "  compute_accuracy_df = compute_accuracy_df.append({'Query': query_name, 'PQ Setting': pq_setting, 'Accuracy': accuracy}, ignore_index=True)\n"
     ]
    },
    {
     "name": "stdout",
     "output_type": "stream",
     "text": [
      "Count:  96\n",
      "Total Rows:  15885\n",
      "Accuracy:  0.006043437204910292\n",
      "Calculating Advance Accuracy for full time senior head nurse position with pq_16_64....\n"
     ]
    },
    {
     "name": "stderr",
     "output_type": "stream",
     "text": [
      "/var/folders/2q/bjqpws1153b0_y18lhffmh_m0000gn/T/ipykernel_42781/3725459898.py:14: FutureWarning: The frame.append method is deprecated and will be removed from pandas in a future version. Use pandas.concat instead.\n",
      "  compute_accuracy_df = compute_accuracy_df.append({'Query': query_name, 'PQ Setting': pq_setting, 'Accuracy': accuracy}, ignore_index=True)\n"
     ]
    },
    {
     "name": "stdout",
     "output_type": "stream",
     "text": [
      "Count:  102\n",
      "Total Rows:  15885\n",
      "Accuracy:  0.006421152030217186\n",
      "Calculating Advance Accuracy for after school math and science tutor with pq_16_64....\n"
     ]
    },
    {
     "name": "stderr",
     "output_type": "stream",
     "text": [
      "/var/folders/2q/bjqpws1153b0_y18lhffmh_m0000gn/T/ipykernel_42781/3725459898.py:14: FutureWarning: The frame.append method is deprecated and will be removed from pandas in a future version. Use pandas.concat instead.\n",
      "  compute_accuracy_df = compute_accuracy_df.append({'Query': query_name, 'PQ Setting': pq_setting, 'Accuracy': accuracy}, ignore_index=True)\n"
     ]
    },
    {
     "name": "stdout",
     "output_type": "stream",
     "text": [
      "Count:  117\n",
      "Total Rows:  15885\n",
      "Accuracy:  0.0073654390934844195\n",
      "Calculating Advance Accuracy for dietitian for professional atheletes with pq_16_64....\n"
     ]
    },
    {
     "name": "stderr",
     "output_type": "stream",
     "text": [
      "/var/folders/2q/bjqpws1153b0_y18lhffmh_m0000gn/T/ipykernel_42781/3725459898.py:14: FutureWarning: The frame.append method is deprecated and will be removed from pandas in a future version. Use pandas.concat instead.\n",
      "  compute_accuracy_df = compute_accuracy_df.append({'Query': query_name, 'PQ Setting': pq_setting, 'Accuracy': accuracy}, ignore_index=True)\n"
     ]
    },
    {
     "name": "stdout",
     "output_type": "stream",
     "text": [
      "Count:  128\n",
      "Total Rows:  15885\n",
      "Accuracy:  0.008057916273213724\n",
      "Calculating Advance Accuracy for costume designer and makeup artist with pq_16_64....\n"
     ]
    },
    {
     "name": "stderr",
     "output_type": "stream",
     "text": [
      "/var/folders/2q/bjqpws1153b0_y18lhffmh_m0000gn/T/ipykernel_42781/3725459898.py:14: FutureWarning: The frame.append method is deprecated and will be removed from pandas in a future version. Use pandas.concat instead.\n",
      "  compute_accuracy_df = compute_accuracy_df.append({'Query': query_name, 'PQ Setting': pq_setting, 'Accuracy': accuracy}, ignore_index=True)\n"
     ]
    },
    {
     "name": "stdout",
     "output_type": "stream",
     "text": [
      "Count:  123\n",
      "Total Rows:  15885\n",
      "Accuracy:  0.007743153918791312\n",
      "Calculating Advance Accuracy for resilient investment banker with pq_16_128....\n"
     ]
    },
    {
     "name": "stderr",
     "output_type": "stream",
     "text": [
      "/var/folders/2q/bjqpws1153b0_y18lhffmh_m0000gn/T/ipykernel_42781/3725459898.py:14: FutureWarning: The frame.append method is deprecated and will be removed from pandas in a future version. Use pandas.concat instead.\n",
      "  compute_accuracy_df = compute_accuracy_df.append({'Query': query_name, 'PQ Setting': pq_setting, 'Accuracy': accuracy}, ignore_index=True)\n",
      "/var/folders/2q/bjqpws1153b0_y18lhffmh_m0000gn/T/ipykernel_42781/3725459898.py:17: FutureWarning: The frame.append method is deprecated and will be removed from pandas in a future version. Use pandas.concat instead.\n",
      "  compute_accuracy_df = compute_accuracy_df.append({'Query': 'Average', 'PQ Setting': pq_setting, 'Accuracy': compute_accuracy_df['Accuracy'].mean()}, ignore_index=True)\n"
     ]
    },
    {
     "name": "stdout",
     "output_type": "stream",
     "text": [
      "Count:  81\n",
      "Total Rows:  15885\n",
      "Accuracy:  0.0050991501416430595\n",
      "Calculating Advance Accuracy for 2 years experience product manager with pq_16_128....\n"
     ]
    },
    {
     "name": "stderr",
     "output_type": "stream",
     "text": [
      "/var/folders/2q/bjqpws1153b0_y18lhffmh_m0000gn/T/ipykernel_42781/3725459898.py:14: FutureWarning: The frame.append method is deprecated and will be removed from pandas in a future version. Use pandas.concat instead.\n",
      "  compute_accuracy_df = compute_accuracy_df.append({'Query': query_name, 'PQ Setting': pq_setting, 'Accuracy': accuracy}, ignore_index=True)\n"
     ]
    },
    {
     "name": "stdout",
     "output_type": "stream",
     "text": [
      "Count:  56\n",
      "Total Rows:  15885\n",
      "Accuracy:  0.003525338369531004\n",
      "Calculating Advance Accuracy for 10 years risk analyst problem solver with pq_16_128....\n"
     ]
    },
    {
     "name": "stderr",
     "output_type": "stream",
     "text": [
      "/var/folders/2q/bjqpws1153b0_y18lhffmh_m0000gn/T/ipykernel_42781/3725459898.py:14: FutureWarning: The frame.append method is deprecated and will be removed from pandas in a future version. Use pandas.concat instead.\n",
      "  compute_accuracy_df = compute_accuracy_df.append({'Query': query_name, 'PQ Setting': pq_setting, 'Accuracy': accuracy}, ignore_index=True)\n"
     ]
    },
    {
     "name": "stdout",
     "output_type": "stream",
     "text": [
      "Count:  2\n",
      "Total Rows:  15885\n",
      "Accuracy:  0.00012590494176896444\n",
      "Calculating Advance Accuracy for tax analyst for big company with pq_16_128....\n"
     ]
    },
    {
     "name": "stderr",
     "output_type": "stream",
     "text": [
      "/var/folders/2q/bjqpws1153b0_y18lhffmh_m0000gn/T/ipykernel_42781/3725459898.py:14: FutureWarning: The frame.append method is deprecated and will be removed from pandas in a future version. Use pandas.concat instead.\n",
      "  compute_accuracy_df = compute_accuracy_df.append({'Query': query_name, 'PQ Setting': pq_setting, 'Accuracy': accuracy}, ignore_index=True)\n"
     ]
    },
    {
     "name": "stdout",
     "output_type": "stream",
     "text": [
      "Count:  74\n",
      "Total Rows:  15885\n",
      "Accuracy:  0.004658482845451684\n",
      "Calculating Advance Accuracy for software engineer for google or amazon with pq_16_128....\n"
     ]
    },
    {
     "name": "stderr",
     "output_type": "stream",
     "text": [
      "/var/folders/2q/bjqpws1153b0_y18lhffmh_m0000gn/T/ipykernel_42781/3725459898.py:14: FutureWarning: The frame.append method is deprecated and will be removed from pandas in a future version. Use pandas.concat instead.\n",
      "  compute_accuracy_df = compute_accuracy_df.append({'Query': query_name, 'PQ Setting': pq_setting, 'Accuracy': accuracy}, ignore_index=True)\n"
     ]
    },
    {
     "name": "stdout",
     "output_type": "stream",
     "text": [
      "Count:  78\n",
      "Total Rows:  15885\n",
      "Accuracy:  0.004910292728989613\n",
      "Calculating Advance Accuracy for video editor for advertisements with 5 year experience with pq_16_128....\n"
     ]
    },
    {
     "name": "stderr",
     "output_type": "stream",
     "text": [
      "/var/folders/2q/bjqpws1153b0_y18lhffmh_m0000gn/T/ipykernel_42781/3725459898.py:14: FutureWarning: The frame.append method is deprecated and will be removed from pandas in a future version. Use pandas.concat instead.\n",
      "  compute_accuracy_df = compute_accuracy_df.append({'Query': query_name, 'PQ Setting': pq_setting, 'Accuracy': accuracy}, ignore_index=True)\n"
     ]
    },
    {
     "name": "stdout",
     "output_type": "stream",
     "text": [
      "Count:  67\n",
      "Total Rows:  15885\n",
      "Accuracy:  0.004217815549260309\n",
      "Calculating Advance Accuracy for full time senior head nurse position with pq_16_128....\n"
     ]
    },
    {
     "name": "stderr",
     "output_type": "stream",
     "text": [
      "/var/folders/2q/bjqpws1153b0_y18lhffmh_m0000gn/T/ipykernel_42781/3725459898.py:14: FutureWarning: The frame.append method is deprecated and will be removed from pandas in a future version. Use pandas.concat instead.\n",
      "  compute_accuracy_df = compute_accuracy_df.append({'Query': query_name, 'PQ Setting': pq_setting, 'Accuracy': accuracy}, ignore_index=True)\n"
     ]
    },
    {
     "name": "stdout",
     "output_type": "stream",
     "text": [
      "Count:  2\n",
      "Total Rows:  15885\n",
      "Accuracy:  0.00012590494176896444\n",
      "Calculating Advance Accuracy for after school math and science tutor with pq_16_128....\n"
     ]
    },
    {
     "name": "stderr",
     "output_type": "stream",
     "text": [
      "/var/folders/2q/bjqpws1153b0_y18lhffmh_m0000gn/T/ipykernel_42781/3725459898.py:14: FutureWarning: The frame.append method is deprecated and will be removed from pandas in a future version. Use pandas.concat instead.\n",
      "  compute_accuracy_df = compute_accuracy_df.append({'Query': query_name, 'PQ Setting': pq_setting, 'Accuracy': accuracy}, ignore_index=True)\n"
     ]
    },
    {
     "name": "stdout",
     "output_type": "stream",
     "text": [
      "Count:  73\n",
      "Total Rows:  15885\n",
      "Accuracy:  0.0045955303745672015\n",
      "Calculating Advance Accuracy for dietitian for professional atheletes with pq_16_128....\n"
     ]
    },
    {
     "name": "stderr",
     "output_type": "stream",
     "text": [
      "/var/folders/2q/bjqpws1153b0_y18lhffmh_m0000gn/T/ipykernel_42781/3725459898.py:14: FutureWarning: The frame.append method is deprecated and will be removed from pandas in a future version. Use pandas.concat instead.\n",
      "  compute_accuracy_df = compute_accuracy_df.append({'Query': query_name, 'PQ Setting': pq_setting, 'Accuracy': accuracy}, ignore_index=True)\n"
     ]
    },
    {
     "name": "stdout",
     "output_type": "stream",
     "text": [
      "Count:  80\n",
      "Total Rows:  15885\n",
      "Accuracy:  0.005036197670758577\n",
      "Calculating Advance Accuracy for costume designer and makeup artist with pq_16_128....\n"
     ]
    },
    {
     "name": "stderr",
     "output_type": "stream",
     "text": [
      "/var/folders/2q/bjqpws1153b0_y18lhffmh_m0000gn/T/ipykernel_42781/3725459898.py:14: FutureWarning: The frame.append method is deprecated and will be removed from pandas in a future version. Use pandas.concat instead.\n",
      "  compute_accuracy_df = compute_accuracy_df.append({'Query': query_name, 'PQ Setting': pq_setting, 'Accuracy': accuracy}, ignore_index=True)\n"
     ]
    },
    {
     "name": "stdout",
     "output_type": "stream",
     "text": [
      "Count:  76\n",
      "Total Rows:  15885\n",
      "Accuracy:  0.004784387787220648\n",
      "Calculating Advance Accuracy for resilient investment banker with pq_32_8....\n"
     ]
    },
    {
     "name": "stderr",
     "output_type": "stream",
     "text": [
      "/var/folders/2q/bjqpws1153b0_y18lhffmh_m0000gn/T/ipykernel_42781/3725459898.py:14: FutureWarning: The frame.append method is deprecated and will be removed from pandas in a future version. Use pandas.concat instead.\n",
      "  compute_accuracy_df = compute_accuracy_df.append({'Query': query_name, 'PQ Setting': pq_setting, 'Accuracy': accuracy}, ignore_index=True)\n",
      "/var/folders/2q/bjqpws1153b0_y18lhffmh_m0000gn/T/ipykernel_42781/3725459898.py:17: FutureWarning: The frame.append method is deprecated and will be removed from pandas in a future version. Use pandas.concat instead.\n",
      "  compute_accuracy_df = compute_accuracy_df.append({'Query': 'Average', 'PQ Setting': pq_setting, 'Accuracy': compute_accuracy_df['Accuracy'].mean()}, ignore_index=True)\n"
     ]
    },
    {
     "name": "stdout",
     "output_type": "stream",
     "text": [
      "Count:  246\n",
      "Total Rows:  15885\n",
      "Accuracy:  0.015486307837582624\n",
      "Calculating Advance Accuracy for 2 years experience product manager with pq_32_8....\n"
     ]
    },
    {
     "name": "stderr",
     "output_type": "stream",
     "text": [
      "/var/folders/2q/bjqpws1153b0_y18lhffmh_m0000gn/T/ipykernel_42781/3725459898.py:14: FutureWarning: The frame.append method is deprecated and will be removed from pandas in a future version. Use pandas.concat instead.\n",
      "  compute_accuracy_df = compute_accuracy_df.append({'Query': query_name, 'PQ Setting': pq_setting, 'Accuracy': accuracy}, ignore_index=True)\n"
     ]
    },
    {
     "name": "stdout",
     "output_type": "stream",
     "text": [
      "Count:  121\n",
      "Total Rows:  15885\n",
      "Accuracy:  0.0076172489770223485\n",
      "Calculating Advance Accuracy for 10 years risk analyst problem solver with pq_32_8....\n"
     ]
    },
    {
     "name": "stderr",
     "output_type": "stream",
     "text": [
      "/var/folders/2q/bjqpws1153b0_y18lhffmh_m0000gn/T/ipykernel_42781/3725459898.py:14: FutureWarning: The frame.append method is deprecated and will be removed from pandas in a future version. Use pandas.concat instead.\n",
      "  compute_accuracy_df = compute_accuracy_df.append({'Query': query_name, 'PQ Setting': pq_setting, 'Accuracy': accuracy}, ignore_index=True)\n"
     ]
    },
    {
     "name": "stdout",
     "output_type": "stream",
     "text": [
      "Count:  7\n",
      "Total Rows:  15885\n",
      "Accuracy:  0.0004406672961913755\n",
      "Calculating Advance Accuracy for tax analyst for big company with pq_32_8....\n"
     ]
    },
    {
     "name": "stderr",
     "output_type": "stream",
     "text": [
      "/var/folders/2q/bjqpws1153b0_y18lhffmh_m0000gn/T/ipykernel_42781/3725459898.py:14: FutureWarning: The frame.append method is deprecated and will be removed from pandas in a future version. Use pandas.concat instead.\n",
      "  compute_accuracy_df = compute_accuracy_df.append({'Query': query_name, 'PQ Setting': pq_setting, 'Accuracy': accuracy}, ignore_index=True)\n"
     ]
    },
    {
     "name": "stdout",
     "output_type": "stream",
     "text": [
      "Count:  212\n",
      "Total Rows:  15885\n",
      "Accuracy:  0.01334592382751023\n",
      "Calculating Advance Accuracy for software engineer for google or amazon with pq_32_8....\n"
     ]
    },
    {
     "name": "stderr",
     "output_type": "stream",
     "text": [
      "/var/folders/2q/bjqpws1153b0_y18lhffmh_m0000gn/T/ipykernel_42781/3725459898.py:14: FutureWarning: The frame.append method is deprecated and will be removed from pandas in a future version. Use pandas.concat instead.\n",
      "  compute_accuracy_df = compute_accuracy_df.append({'Query': query_name, 'PQ Setting': pq_setting, 'Accuracy': accuracy}, ignore_index=True)\n"
     ]
    },
    {
     "name": "stdout",
     "output_type": "stream",
     "text": [
      "Count:  209\n",
      "Total Rows:  15885\n",
      "Accuracy:  0.013157066414856783\n",
      "Calculating Advance Accuracy for video editor for advertisements with 5 year experience with pq_32_8....\n"
     ]
    },
    {
     "name": "stderr",
     "output_type": "stream",
     "text": [
      "/var/folders/2q/bjqpws1153b0_y18lhffmh_m0000gn/T/ipykernel_42781/3725459898.py:14: FutureWarning: The frame.append method is deprecated and will be removed from pandas in a future version. Use pandas.concat instead.\n",
      "  compute_accuracy_df = compute_accuracy_df.append({'Query': query_name, 'PQ Setting': pq_setting, 'Accuracy': accuracy}, ignore_index=True)\n"
     ]
    },
    {
     "name": "stdout",
     "output_type": "stream",
     "text": [
      "Count:  142\n",
      "Total Rows:  15885\n",
      "Accuracy:  0.008939250865596474\n",
      "Calculating Advance Accuracy for full time senior head nurse position with pq_32_8....\n"
     ]
    },
    {
     "name": "stderr",
     "output_type": "stream",
     "text": [
      "/var/folders/2q/bjqpws1153b0_y18lhffmh_m0000gn/T/ipykernel_42781/3725459898.py:14: FutureWarning: The frame.append method is deprecated and will be removed from pandas in a future version. Use pandas.concat instead.\n",
      "  compute_accuracy_df = compute_accuracy_df.append({'Query': query_name, 'PQ Setting': pq_setting, 'Accuracy': accuracy}, ignore_index=True)\n"
     ]
    },
    {
     "name": "stdout",
     "output_type": "stream",
     "text": [
      "Count:  174\n",
      "Total Rows:  15885\n",
      "Accuracy:  0.010953729933899906\n",
      "Calculating Advance Accuracy for after school math and science tutor with pq_32_8....\n"
     ]
    },
    {
     "name": "stderr",
     "output_type": "stream",
     "text": [
      "/var/folders/2q/bjqpws1153b0_y18lhffmh_m0000gn/T/ipykernel_42781/3725459898.py:14: FutureWarning: The frame.append method is deprecated and will be removed from pandas in a future version. Use pandas.concat instead.\n",
      "  compute_accuracy_df = compute_accuracy_df.append({'Query': query_name, 'PQ Setting': pq_setting, 'Accuracy': accuracy}, ignore_index=True)\n"
     ]
    },
    {
     "name": "stdout",
     "output_type": "stream",
     "text": [
      "Count:  229\n",
      "Total Rows:  15885\n",
      "Accuracy:  0.014416115832546428\n",
      "Calculating Advance Accuracy for dietitian for professional atheletes with pq_32_8....\n"
     ]
    },
    {
     "name": "stderr",
     "output_type": "stream",
     "text": [
      "/var/folders/2q/bjqpws1153b0_y18lhffmh_m0000gn/T/ipykernel_42781/3725459898.py:14: FutureWarning: The frame.append method is deprecated and will be removed from pandas in a future version. Use pandas.concat instead.\n",
      "  compute_accuracy_df = compute_accuracy_df.append({'Query': query_name, 'PQ Setting': pq_setting, 'Accuracy': accuracy}, ignore_index=True)\n"
     ]
    },
    {
     "name": "stdout",
     "output_type": "stream",
     "text": [
      "Count:  233\n",
      "Total Rows:  15885\n",
      "Accuracy:  0.014667925716084357\n",
      "Calculating Advance Accuracy for costume designer and makeup artist with pq_32_8....\n"
     ]
    },
    {
     "name": "stderr",
     "output_type": "stream",
     "text": [
      "/var/folders/2q/bjqpws1153b0_y18lhffmh_m0000gn/T/ipykernel_42781/3725459898.py:14: FutureWarning: The frame.append method is deprecated and will be removed from pandas in a future version. Use pandas.concat instead.\n",
      "  compute_accuracy_df = compute_accuracy_df.append({'Query': query_name, 'PQ Setting': pq_setting, 'Accuracy': accuracy}, ignore_index=True)\n"
     ]
    },
    {
     "name": "stdout",
     "output_type": "stream",
     "text": [
      "Count:  235\n",
      "Total Rows:  15885\n",
      "Accuracy:  0.014793830657853321\n",
      "Calculating Advance Accuracy for resilient investment banker with pq_32_16....\n"
     ]
    },
    {
     "name": "stderr",
     "output_type": "stream",
     "text": [
      "/var/folders/2q/bjqpws1153b0_y18lhffmh_m0000gn/T/ipykernel_42781/3725459898.py:14: FutureWarning: The frame.append method is deprecated and will be removed from pandas in a future version. Use pandas.concat instead.\n",
      "  compute_accuracy_df = compute_accuracy_df.append({'Query': query_name, 'PQ Setting': pq_setting, 'Accuracy': accuracy}, ignore_index=True)\n",
      "/var/folders/2q/bjqpws1153b0_y18lhffmh_m0000gn/T/ipykernel_42781/3725459898.py:17: FutureWarning: The frame.append method is deprecated and will be removed from pandas in a future version. Use pandas.concat instead.\n",
      "  compute_accuracy_df = compute_accuracy_df.append({'Query': 'Average', 'PQ Setting': pq_setting, 'Accuracy': compute_accuracy_df['Accuracy'].mean()}, ignore_index=True)\n"
     ]
    },
    {
     "name": "stdout",
     "output_type": "stream",
     "text": [
      "Count:  121\n",
      "Total Rows:  15885\n",
      "Accuracy:  0.0076172489770223485\n",
      "Calculating Advance Accuracy for 2 years experience product manager with pq_32_16....\n"
     ]
    },
    {
     "name": "stderr",
     "output_type": "stream",
     "text": [
      "/var/folders/2q/bjqpws1153b0_y18lhffmh_m0000gn/T/ipykernel_42781/3725459898.py:14: FutureWarning: The frame.append method is deprecated and will be removed from pandas in a future version. Use pandas.concat instead.\n",
      "  compute_accuracy_df = compute_accuracy_df.append({'Query': query_name, 'PQ Setting': pq_setting, 'Accuracy': accuracy}, ignore_index=True)\n"
     ]
    },
    {
     "name": "stdout",
     "output_type": "stream",
     "text": [
      "Count:  78\n",
      "Total Rows:  15885\n",
      "Accuracy:  0.004910292728989613\n",
      "Calculating Advance Accuracy for 10 years risk analyst problem solver with pq_32_16....\n"
     ]
    },
    {
     "name": "stderr",
     "output_type": "stream",
     "text": [
      "/var/folders/2q/bjqpws1153b0_y18lhffmh_m0000gn/T/ipykernel_42781/3725459898.py:14: FutureWarning: The frame.append method is deprecated and will be removed from pandas in a future version. Use pandas.concat instead.\n",
      "  compute_accuracy_df = compute_accuracy_df.append({'Query': query_name, 'PQ Setting': pq_setting, 'Accuracy': accuracy}, ignore_index=True)\n"
     ]
    },
    {
     "name": "stdout",
     "output_type": "stream",
     "text": [
      "Count:  0\n",
      "Total Rows:  15885\n",
      "Accuracy:  0.0\n",
      "Calculating Advance Accuracy for tax analyst for big company with pq_32_16....\n"
     ]
    },
    {
     "name": "stderr",
     "output_type": "stream",
     "text": [
      "/var/folders/2q/bjqpws1153b0_y18lhffmh_m0000gn/T/ipykernel_42781/3725459898.py:14: FutureWarning: The frame.append method is deprecated and will be removed from pandas in a future version. Use pandas.concat instead.\n",
      "  compute_accuracy_df = compute_accuracy_df.append({'Query': query_name, 'PQ Setting': pq_setting, 'Accuracy': accuracy}, ignore_index=True)\n"
     ]
    },
    {
     "name": "stdout",
     "output_type": "stream",
     "text": [
      "Count:  109\n",
      "Total Rows:  15885\n",
      "Accuracy:  0.0068618193264085615\n",
      "Calculating Advance Accuracy for software engineer for google or amazon with pq_32_16....\n"
     ]
    },
    {
     "name": "stderr",
     "output_type": "stream",
     "text": [
      "/var/folders/2q/bjqpws1153b0_y18lhffmh_m0000gn/T/ipykernel_42781/3725459898.py:14: FutureWarning: The frame.append method is deprecated and will be removed from pandas in a future version. Use pandas.concat instead.\n",
      "  compute_accuracy_df = compute_accuracy_df.append({'Query': query_name, 'PQ Setting': pq_setting, 'Accuracy': accuracy}, ignore_index=True)\n"
     ]
    },
    {
     "name": "stdout",
     "output_type": "stream",
     "text": [
      "Count:  110\n",
      "Total Rows:  15885\n",
      "Accuracy:  0.006924771797293044\n",
      "Calculating Advance Accuracy for video editor for advertisements with 5 year experience with pq_32_16....\n"
     ]
    },
    {
     "name": "stderr",
     "output_type": "stream",
     "text": [
      "/var/folders/2q/bjqpws1153b0_y18lhffmh_m0000gn/T/ipykernel_42781/3725459898.py:14: FutureWarning: The frame.append method is deprecated and will be removed from pandas in a future version. Use pandas.concat instead.\n",
      "  compute_accuracy_df = compute_accuracy_df.append({'Query': query_name, 'PQ Setting': pq_setting, 'Accuracy': accuracy}, ignore_index=True)\n"
     ]
    },
    {
     "name": "stdout",
     "output_type": "stream",
     "text": [
      "Count:  84\n",
      "Total Rows:  15885\n",
      "Accuracy:  0.005288007554296506\n",
      "Calculating Advance Accuracy for full time senior head nurse position with pq_32_16....\n"
     ]
    },
    {
     "name": "stderr",
     "output_type": "stream",
     "text": [
      "/var/folders/2q/bjqpws1153b0_y18lhffmh_m0000gn/T/ipykernel_42781/3725459898.py:14: FutureWarning: The frame.append method is deprecated and will be removed from pandas in a future version. Use pandas.concat instead.\n",
      "  compute_accuracy_df = compute_accuracy_df.append({'Query': query_name, 'PQ Setting': pq_setting, 'Accuracy': accuracy}, ignore_index=True)\n"
     ]
    },
    {
     "name": "stdout",
     "output_type": "stream",
     "text": [
      "Count:  0\n",
      "Total Rows:  15885\n",
      "Accuracy:  0.0\n",
      "Calculating Advance Accuracy for after school math and science tutor with pq_32_16....\n"
     ]
    },
    {
     "name": "stderr",
     "output_type": "stream",
     "text": [
      "/var/folders/2q/bjqpws1153b0_y18lhffmh_m0000gn/T/ipykernel_42781/3725459898.py:14: FutureWarning: The frame.append method is deprecated and will be removed from pandas in a future version. Use pandas.concat instead.\n",
      "  compute_accuracy_df = compute_accuracy_df.append({'Query': query_name, 'PQ Setting': pq_setting, 'Accuracy': accuracy}, ignore_index=True)\n"
     ]
    },
    {
     "name": "stdout",
     "output_type": "stream",
     "text": [
      "Count:  112\n",
      "Total Rows:  15885\n",
      "Accuracy:  0.007050676739062008\n",
      "Calculating Advance Accuracy for dietitian for professional atheletes with pq_32_16....\n"
     ]
    },
    {
     "name": "stderr",
     "output_type": "stream",
     "text": [
      "/var/folders/2q/bjqpws1153b0_y18lhffmh_m0000gn/T/ipykernel_42781/3725459898.py:14: FutureWarning: The frame.append method is deprecated and will be removed from pandas in a future version. Use pandas.concat instead.\n",
      "  compute_accuracy_df = compute_accuracy_df.append({'Query': query_name, 'PQ Setting': pq_setting, 'Accuracy': accuracy}, ignore_index=True)\n"
     ]
    },
    {
     "name": "stdout",
     "output_type": "stream",
     "text": [
      "Count:  114\n",
      "Total Rows:  15885\n",
      "Accuracy:  0.007176581680830973\n",
      "Calculating Advance Accuracy for costume designer and makeup artist with pq_32_16....\n"
     ]
    },
    {
     "name": "stderr",
     "output_type": "stream",
     "text": [
      "/var/folders/2q/bjqpws1153b0_y18lhffmh_m0000gn/T/ipykernel_42781/3725459898.py:14: FutureWarning: The frame.append method is deprecated and will be removed from pandas in a future version. Use pandas.concat instead.\n",
      "  compute_accuracy_df = compute_accuracy_df.append({'Query': query_name, 'PQ Setting': pq_setting, 'Accuracy': accuracy}, ignore_index=True)\n"
     ]
    },
    {
     "name": "stdout",
     "output_type": "stream",
     "text": [
      "Count:  114\n",
      "Total Rows:  15885\n",
      "Accuracy:  0.007176581680830973\n",
      "Calculating Advance Accuracy for resilient investment banker with pq_32_32....\n"
     ]
    },
    {
     "name": "stderr",
     "output_type": "stream",
     "text": [
      "/var/folders/2q/bjqpws1153b0_y18lhffmh_m0000gn/T/ipykernel_42781/3725459898.py:14: FutureWarning: The frame.append method is deprecated and will be removed from pandas in a future version. Use pandas.concat instead.\n",
      "  compute_accuracy_df = compute_accuracy_df.append({'Query': query_name, 'PQ Setting': pq_setting, 'Accuracy': accuracy}, ignore_index=True)\n",
      "/var/folders/2q/bjqpws1153b0_y18lhffmh_m0000gn/T/ipykernel_42781/3725459898.py:17: FutureWarning: The frame.append method is deprecated and will be removed from pandas in a future version. Use pandas.concat instead.\n",
      "  compute_accuracy_df = compute_accuracy_df.append({'Query': 'Average', 'PQ Setting': pq_setting, 'Accuracy': compute_accuracy_df['Accuracy'].mean()}, ignore_index=True)\n"
     ]
    },
    {
     "name": "stdout",
     "output_type": "stream",
     "text": [
      "Count:  60\n",
      "Total Rows:  15885\n",
      "Accuracy:  0.003777148253068933\n",
      "Calculating Advance Accuracy for 2 years experience product manager with pq_32_32....\n"
     ]
    },
    {
     "name": "stderr",
     "output_type": "stream",
     "text": [
      "/var/folders/2q/bjqpws1153b0_y18lhffmh_m0000gn/T/ipykernel_42781/3725459898.py:14: FutureWarning: The frame.append method is deprecated and will be removed from pandas in a future version. Use pandas.concat instead.\n",
      "  compute_accuracy_df = compute_accuracy_df.append({'Query': query_name, 'PQ Setting': pq_setting, 'Accuracy': accuracy}, ignore_index=True)\n"
     ]
    },
    {
     "name": "stdout",
     "output_type": "stream",
     "text": [
      "Count:  44\n",
      "Total Rows:  15885\n",
      "Accuracy:  0.0027699087189172176\n",
      "Calculating Advance Accuracy for 10 years risk analyst problem solver with pq_32_32....\n"
     ]
    },
    {
     "name": "stderr",
     "output_type": "stream",
     "text": [
      "/var/folders/2q/bjqpws1153b0_y18lhffmh_m0000gn/T/ipykernel_42781/3725459898.py:14: FutureWarning: The frame.append method is deprecated and will be removed from pandas in a future version. Use pandas.concat instead.\n",
      "  compute_accuracy_df = compute_accuracy_df.append({'Query': query_name, 'PQ Setting': pq_setting, 'Accuracy': accuracy}, ignore_index=True)\n"
     ]
    },
    {
     "name": "stdout",
     "output_type": "stream",
     "text": [
      "Count:  1\n",
      "Total Rows:  15885\n",
      "Accuracy:  6.295247088448222e-05\n",
      "Calculating Advance Accuracy for tax analyst for big company with pq_32_32....\n"
     ]
    },
    {
     "name": "stderr",
     "output_type": "stream",
     "text": [
      "/var/folders/2q/bjqpws1153b0_y18lhffmh_m0000gn/T/ipykernel_42781/3725459898.py:14: FutureWarning: The frame.append method is deprecated and will be removed from pandas in a future version. Use pandas.concat instead.\n",
      "  compute_accuracy_df = compute_accuracy_df.append({'Query': query_name, 'PQ Setting': pq_setting, 'Accuracy': accuracy}, ignore_index=True)\n"
     ]
    },
    {
     "name": "stdout",
     "output_type": "stream",
     "text": [
      "Count:  55\n",
      "Total Rows:  15885\n",
      "Accuracy:  0.003462385898646522\n",
      "Calculating Advance Accuracy for software engineer for google or amazon with pq_32_32....\n"
     ]
    },
    {
     "name": "stderr",
     "output_type": "stream",
     "text": [
      "/var/folders/2q/bjqpws1153b0_y18lhffmh_m0000gn/T/ipykernel_42781/3725459898.py:14: FutureWarning: The frame.append method is deprecated and will be removed from pandas in a future version. Use pandas.concat instead.\n",
      "  compute_accuracy_df = compute_accuracy_df.append({'Query': query_name, 'PQ Setting': pq_setting, 'Accuracy': accuracy}, ignore_index=True)\n"
     ]
    },
    {
     "name": "stdout",
     "output_type": "stream",
     "text": [
      "Count:  60\n",
      "Total Rows:  15885\n",
      "Accuracy:  0.003777148253068933\n",
      "Calculating Advance Accuracy for video editor for advertisements with 5 year experience with pq_32_32....\n"
     ]
    },
    {
     "name": "stderr",
     "output_type": "stream",
     "text": [
      "/var/folders/2q/bjqpws1153b0_y18lhffmh_m0000gn/T/ipykernel_42781/3725459898.py:14: FutureWarning: The frame.append method is deprecated and will be removed from pandas in a future version. Use pandas.concat instead.\n",
      "  compute_accuracy_df = compute_accuracy_df.append({'Query': query_name, 'PQ Setting': pq_setting, 'Accuracy': accuracy}, ignore_index=True)\n"
     ]
    },
    {
     "name": "stdout",
     "output_type": "stream",
     "text": [
      "Count:  45\n",
      "Total Rows:  15885\n",
      "Accuracy:  0.0028328611898017\n",
      "Calculating Advance Accuracy for full time senior head nurse position with pq_32_32....\n"
     ]
    },
    {
     "name": "stderr",
     "output_type": "stream",
     "text": [
      "/var/folders/2q/bjqpws1153b0_y18lhffmh_m0000gn/T/ipykernel_42781/3725459898.py:14: FutureWarning: The frame.append method is deprecated and will be removed from pandas in a future version. Use pandas.concat instead.\n",
      "  compute_accuracy_df = compute_accuracy_df.append({'Query': query_name, 'PQ Setting': pq_setting, 'Accuracy': accuracy}, ignore_index=True)\n"
     ]
    },
    {
     "name": "stdout",
     "output_type": "stream",
     "text": [
      "Count:  0\n",
      "Total Rows:  15885\n",
      "Accuracy:  0.0\n",
      "Calculating Advance Accuracy for after school math and science tutor with pq_32_32....\n"
     ]
    },
    {
     "name": "stderr",
     "output_type": "stream",
     "text": [
      "/var/folders/2q/bjqpws1153b0_y18lhffmh_m0000gn/T/ipykernel_42781/3725459898.py:14: FutureWarning: The frame.append method is deprecated and will be removed from pandas in a future version. Use pandas.concat instead.\n",
      "  compute_accuracy_df = compute_accuracy_df.append({'Query': query_name, 'PQ Setting': pq_setting, 'Accuracy': accuracy}, ignore_index=True)\n"
     ]
    },
    {
     "name": "stdout",
     "output_type": "stream",
     "text": [
      "Count:  0\n",
      "Total Rows:  15885\n",
      "Accuracy:  0.0\n",
      "Calculating Advance Accuracy for dietitian for professional atheletes with pq_32_32....\n"
     ]
    },
    {
     "name": "stderr",
     "output_type": "stream",
     "text": [
      "/var/folders/2q/bjqpws1153b0_y18lhffmh_m0000gn/T/ipykernel_42781/3725459898.py:14: FutureWarning: The frame.append method is deprecated and will be removed from pandas in a future version. Use pandas.concat instead.\n",
      "  compute_accuracy_df = compute_accuracy_df.append({'Query': query_name, 'PQ Setting': pq_setting, 'Accuracy': accuracy}, ignore_index=True)\n"
     ]
    },
    {
     "name": "stdout",
     "output_type": "stream",
     "text": [
      "Count:  60\n",
      "Total Rows:  15885\n",
      "Accuracy:  0.003777148253068933\n",
      "Calculating Advance Accuracy for costume designer and makeup artist with pq_32_32....\n"
     ]
    },
    {
     "name": "stderr",
     "output_type": "stream",
     "text": [
      "/var/folders/2q/bjqpws1153b0_y18lhffmh_m0000gn/T/ipykernel_42781/3725459898.py:14: FutureWarning: The frame.append method is deprecated and will be removed from pandas in a future version. Use pandas.concat instead.\n",
      "  compute_accuracy_df = compute_accuracy_df.append({'Query': query_name, 'PQ Setting': pq_setting, 'Accuracy': accuracy}, ignore_index=True)\n"
     ]
    },
    {
     "name": "stdout",
     "output_type": "stream",
     "text": [
      "Count:  0\n",
      "Total Rows:  15885\n",
      "Accuracy:  0.0\n",
      "Calculating Advance Accuracy for resilient investment banker with pq_32_64....\n"
     ]
    },
    {
     "name": "stderr",
     "output_type": "stream",
     "text": [
      "/var/folders/2q/bjqpws1153b0_y18lhffmh_m0000gn/T/ipykernel_42781/3725459898.py:14: FutureWarning: The frame.append method is deprecated and will be removed from pandas in a future version. Use pandas.concat instead.\n",
      "  compute_accuracy_df = compute_accuracy_df.append({'Query': query_name, 'PQ Setting': pq_setting, 'Accuracy': accuracy}, ignore_index=True)\n",
      "/var/folders/2q/bjqpws1153b0_y18lhffmh_m0000gn/T/ipykernel_42781/3725459898.py:17: FutureWarning: The frame.append method is deprecated and will be removed from pandas in a future version. Use pandas.concat instead.\n",
      "  compute_accuracy_df = compute_accuracy_df.append({'Query': 'Average', 'PQ Setting': pq_setting, 'Accuracy': compute_accuracy_df['Accuracy'].mean()}, ignore_index=True)\n"
     ]
    },
    {
     "name": "stdout",
     "output_type": "stream",
     "text": [
      "Count:  20\n",
      "Total Rows:  15885\n",
      "Accuracy:  0.0012590494176896443\n",
      "Calculating Advance Accuracy for 2 years experience product manager with pq_32_64....\n"
     ]
    },
    {
     "name": "stderr",
     "output_type": "stream",
     "text": [
      "/var/folders/2q/bjqpws1153b0_y18lhffmh_m0000gn/T/ipykernel_42781/3725459898.py:14: FutureWarning: The frame.append method is deprecated and will be removed from pandas in a future version. Use pandas.concat instead.\n",
      "  compute_accuracy_df = compute_accuracy_df.append({'Query': query_name, 'PQ Setting': pq_setting, 'Accuracy': accuracy}, ignore_index=True)\n"
     ]
    },
    {
     "name": "stdout",
     "output_type": "stream",
     "text": [
      "Count:  0\n",
      "Total Rows:  15885\n",
      "Accuracy:  0.0\n",
      "Calculating Advance Accuracy for 10 years risk analyst problem solver with pq_32_64....\n"
     ]
    },
    {
     "name": "stderr",
     "output_type": "stream",
     "text": [
      "/var/folders/2q/bjqpws1153b0_y18lhffmh_m0000gn/T/ipykernel_42781/3725459898.py:14: FutureWarning: The frame.append method is deprecated and will be removed from pandas in a future version. Use pandas.concat instead.\n",
      "  compute_accuracy_df = compute_accuracy_df.append({'Query': query_name, 'PQ Setting': pq_setting, 'Accuracy': accuracy}, ignore_index=True)\n"
     ]
    },
    {
     "name": "stdout",
     "output_type": "stream",
     "text": [
      "Count:  0\n",
      "Total Rows:  15885\n",
      "Accuracy:  0.0\n",
      "Calculating Advance Accuracy for tax analyst for big company with pq_32_64....\n"
     ]
    },
    {
     "name": "stderr",
     "output_type": "stream",
     "text": [
      "/var/folders/2q/bjqpws1153b0_y18lhffmh_m0000gn/T/ipykernel_42781/3725459898.py:14: FutureWarning: The frame.append method is deprecated and will be removed from pandas in a future version. Use pandas.concat instead.\n",
      "  compute_accuracy_df = compute_accuracy_df.append({'Query': query_name, 'PQ Setting': pq_setting, 'Accuracy': accuracy}, ignore_index=True)\n"
     ]
    },
    {
     "name": "stdout",
     "output_type": "stream",
     "text": [
      "Count:  0\n",
      "Total Rows:  15885\n",
      "Accuracy:  0.0\n",
      "Calculating Advance Accuracy for software engineer for google or amazon with pq_32_64....\n"
     ]
    },
    {
     "name": "stderr",
     "output_type": "stream",
     "text": [
      "/var/folders/2q/bjqpws1153b0_y18lhffmh_m0000gn/T/ipykernel_42781/3725459898.py:14: FutureWarning: The frame.append method is deprecated and will be removed from pandas in a future version. Use pandas.concat instead.\n",
      "  compute_accuracy_df = compute_accuracy_df.append({'Query': query_name, 'PQ Setting': pq_setting, 'Accuracy': accuracy}, ignore_index=True)\n"
     ]
    },
    {
     "name": "stdout",
     "output_type": "stream",
     "text": [
      "Count:  0\n",
      "Total Rows:  15885\n",
      "Accuracy:  0.0\n",
      "Calculating Advance Accuracy for video editor for advertisements with 5 year experience with pq_32_64....\n"
     ]
    },
    {
     "name": "stderr",
     "output_type": "stream",
     "text": [
      "/var/folders/2q/bjqpws1153b0_y18lhffmh_m0000gn/T/ipykernel_42781/3725459898.py:14: FutureWarning: The frame.append method is deprecated and will be removed from pandas in a future version. Use pandas.concat instead.\n",
      "  compute_accuracy_df = compute_accuracy_df.append({'Query': query_name, 'PQ Setting': pq_setting, 'Accuracy': accuracy}, ignore_index=True)\n"
     ]
    },
    {
     "name": "stdout",
     "output_type": "stream",
     "text": [
      "Count:  0\n",
      "Total Rows:  15885\n",
      "Accuracy:  0.0\n",
      "Calculating Advance Accuracy for full time senior head nurse position with pq_32_64....\n"
     ]
    },
    {
     "name": "stderr",
     "output_type": "stream",
     "text": [
      "/var/folders/2q/bjqpws1153b0_y18lhffmh_m0000gn/T/ipykernel_42781/3725459898.py:14: FutureWarning: The frame.append method is deprecated and will be removed from pandas in a future version. Use pandas.concat instead.\n",
      "  compute_accuracy_df = compute_accuracy_df.append({'Query': query_name, 'PQ Setting': pq_setting, 'Accuracy': accuracy}, ignore_index=True)\n"
     ]
    },
    {
     "name": "stdout",
     "output_type": "stream",
     "text": [
      "Count:  0\n",
      "Total Rows:  15885\n",
      "Accuracy:  0.0\n",
      "Calculating Advance Accuracy for after school math and science tutor with pq_32_64....\n"
     ]
    },
    {
     "name": "stderr",
     "output_type": "stream",
     "text": [
      "/var/folders/2q/bjqpws1153b0_y18lhffmh_m0000gn/T/ipykernel_42781/3725459898.py:14: FutureWarning: The frame.append method is deprecated and will be removed from pandas in a future version. Use pandas.concat instead.\n",
      "  compute_accuracy_df = compute_accuracy_df.append({'Query': query_name, 'PQ Setting': pq_setting, 'Accuracy': accuracy}, ignore_index=True)\n"
     ]
    },
    {
     "name": "stdout",
     "output_type": "stream",
     "text": [
      "Count:  0\n",
      "Total Rows:  15885\n",
      "Accuracy:  0.0\n",
      "Calculating Advance Accuracy for dietitian for professional atheletes with pq_32_64....\n"
     ]
    },
    {
     "name": "stderr",
     "output_type": "stream",
     "text": [
      "/var/folders/2q/bjqpws1153b0_y18lhffmh_m0000gn/T/ipykernel_42781/3725459898.py:14: FutureWarning: The frame.append method is deprecated and will be removed from pandas in a future version. Use pandas.concat instead.\n",
      "  compute_accuracy_df = compute_accuracy_df.append({'Query': query_name, 'PQ Setting': pq_setting, 'Accuracy': accuracy}, ignore_index=True)\n"
     ]
    },
    {
     "name": "stdout",
     "output_type": "stream",
     "text": [
      "Count:  20\n",
      "Total Rows:  15885\n",
      "Accuracy:  0.0012590494176896443\n",
      "Calculating Advance Accuracy for costume designer and makeup artist with pq_32_64....\n"
     ]
    },
    {
     "name": "stderr",
     "output_type": "stream",
     "text": [
      "/var/folders/2q/bjqpws1153b0_y18lhffmh_m0000gn/T/ipykernel_42781/3725459898.py:14: FutureWarning: The frame.append method is deprecated and will be removed from pandas in a future version. Use pandas.concat instead.\n",
      "  compute_accuracy_df = compute_accuracy_df.append({'Query': query_name, 'PQ Setting': pq_setting, 'Accuracy': accuracy}, ignore_index=True)\n"
     ]
    },
    {
     "name": "stdout",
     "output_type": "stream",
     "text": [
      "Count:  20\n",
      "Total Rows:  15885\n",
      "Accuracy:  0.0012590494176896443\n",
      "Calculating Advance Accuracy for resilient investment banker with pq_32_128....\n"
     ]
    },
    {
     "name": "stderr",
     "output_type": "stream",
     "text": [
      "/var/folders/2q/bjqpws1153b0_y18lhffmh_m0000gn/T/ipykernel_42781/3725459898.py:14: FutureWarning: The frame.append method is deprecated and will be removed from pandas in a future version. Use pandas.concat instead.\n",
      "  compute_accuracy_df = compute_accuracy_df.append({'Query': query_name, 'PQ Setting': pq_setting, 'Accuracy': accuracy}, ignore_index=True)\n",
      "/var/folders/2q/bjqpws1153b0_y18lhffmh_m0000gn/T/ipykernel_42781/3725459898.py:17: FutureWarning: The frame.append method is deprecated and will be removed from pandas in a future version. Use pandas.concat instead.\n",
      "  compute_accuracy_df = compute_accuracy_df.append({'Query': 'Average', 'PQ Setting': pq_setting, 'Accuracy': compute_accuracy_df['Accuracy'].mean()}, ignore_index=True)\n"
     ]
    },
    {
     "name": "stdout",
     "output_type": "stream",
     "text": [
      "Count:  10\n",
      "Total Rows:  15885\n",
      "Accuracy:  0.0006295247088448222\n",
      "Calculating Advance Accuracy for 2 years experience product manager with pq_32_128....\n"
     ]
    },
    {
     "name": "stderr",
     "output_type": "stream",
     "text": [
      "/var/folders/2q/bjqpws1153b0_y18lhffmh_m0000gn/T/ipykernel_42781/3725459898.py:14: FutureWarning: The frame.append method is deprecated and will be removed from pandas in a future version. Use pandas.concat instead.\n",
      "  compute_accuracy_df = compute_accuracy_df.append({'Query': query_name, 'PQ Setting': pq_setting, 'Accuracy': accuracy}, ignore_index=True)\n"
     ]
    },
    {
     "name": "stdout",
     "output_type": "stream",
     "text": [
      "Count:  1\n",
      "Total Rows:  15885\n",
      "Accuracy:  6.295247088448222e-05\n",
      "Calculating Advance Accuracy for 10 years risk analyst problem solver with pq_32_128....\n"
     ]
    },
    {
     "name": "stderr",
     "output_type": "stream",
     "text": [
      "/var/folders/2q/bjqpws1153b0_y18lhffmh_m0000gn/T/ipykernel_42781/3725459898.py:14: FutureWarning: The frame.append method is deprecated and will be removed from pandas in a future version. Use pandas.concat instead.\n",
      "  compute_accuracy_df = compute_accuracy_df.append({'Query': query_name, 'PQ Setting': pq_setting, 'Accuracy': accuracy}, ignore_index=True)\n"
     ]
    },
    {
     "name": "stdout",
     "output_type": "stream",
     "text": [
      "Count:  1\n",
      "Total Rows:  15885\n",
      "Accuracy:  6.295247088448222e-05\n",
      "Calculating Advance Accuracy for tax analyst for big company with pq_32_128....\n"
     ]
    },
    {
     "name": "stderr",
     "output_type": "stream",
     "text": [
      "/var/folders/2q/bjqpws1153b0_y18lhffmh_m0000gn/T/ipykernel_42781/3725459898.py:14: FutureWarning: The frame.append method is deprecated and will be removed from pandas in a future version. Use pandas.concat instead.\n",
      "  compute_accuracy_df = compute_accuracy_df.append({'Query': query_name, 'PQ Setting': pq_setting, 'Accuracy': accuracy}, ignore_index=True)\n"
     ]
    },
    {
     "name": "stdout",
     "output_type": "stream",
     "text": [
      "Count:  2\n",
      "Total Rows:  15885\n",
      "Accuracy:  0.00012590494176896444\n"
     ]
    },
    {
     "name": "stderr",
     "output_type": "stream",
     "text": [
      "/var/folders/2q/bjqpws1153b0_y18lhffmh_m0000gn/T/ipykernel_42781/3725459898.py:14: FutureWarning: The frame.append method is deprecated and will be removed from pandas in a future version. Use pandas.concat instead.\n",
      "  compute_accuracy_df = compute_accuracy_df.append({'Query': query_name, 'PQ Setting': pq_setting, 'Accuracy': accuracy}, ignore_index=True)\n"
     ]
    },
    {
     "name": "stdout",
     "output_type": "stream",
     "text": [
      "Calculating Advance Accuracy for software engineer for google or amazon with pq_32_128....\n",
      "Count:  10\n",
      "Total Rows:  15885\n",
      "Accuracy:  0.0006295247088448222\n",
      "Calculating Advance Accuracy for video editor for advertisements with 5 year experience with pq_32_128....\n"
     ]
    },
    {
     "name": "stderr",
     "output_type": "stream",
     "text": [
      "/var/folders/2q/bjqpws1153b0_y18lhffmh_m0000gn/T/ipykernel_42781/3725459898.py:14: FutureWarning: The frame.append method is deprecated and will be removed from pandas in a future version. Use pandas.concat instead.\n",
      "  compute_accuracy_df = compute_accuracy_df.append({'Query': query_name, 'PQ Setting': pq_setting, 'Accuracy': accuracy}, ignore_index=True)\n"
     ]
    },
    {
     "name": "stdout",
     "output_type": "stream",
     "text": [
      "Count:  1\n",
      "Total Rows:  15885\n",
      "Accuracy:  6.295247088448222e-05\n",
      "Calculating Advance Accuracy for full time senior head nurse position with pq_32_128....\n"
     ]
    },
    {
     "name": "stderr",
     "output_type": "stream",
     "text": [
      "/var/folders/2q/bjqpws1153b0_y18lhffmh_m0000gn/T/ipykernel_42781/3725459898.py:14: FutureWarning: The frame.append method is deprecated and will be removed from pandas in a future version. Use pandas.concat instead.\n",
      "  compute_accuracy_df = compute_accuracy_df.append({'Query': query_name, 'PQ Setting': pq_setting, 'Accuracy': accuracy}, ignore_index=True)\n"
     ]
    },
    {
     "name": "stdout",
     "output_type": "stream",
     "text": [
      "Count:  1\n",
      "Total Rows:  15885\n",
      "Accuracy:  6.295247088448222e-05\n",
      "Calculating Advance Accuracy for after school math and science tutor with pq_32_128....\n"
     ]
    },
    {
     "name": "stderr",
     "output_type": "stream",
     "text": [
      "/var/folders/2q/bjqpws1153b0_y18lhffmh_m0000gn/T/ipykernel_42781/3725459898.py:14: FutureWarning: The frame.append method is deprecated and will be removed from pandas in a future version. Use pandas.concat instead.\n",
      "  compute_accuracy_df = compute_accuracy_df.append({'Query': query_name, 'PQ Setting': pq_setting, 'Accuracy': accuracy}, ignore_index=True)\n"
     ]
    },
    {
     "name": "stdout",
     "output_type": "stream",
     "text": [
      "Count:  2\n",
      "Total Rows:  15885\n",
      "Accuracy:  0.00012590494176896444\n",
      "Calculating Advance Accuracy for dietitian for professional atheletes with pq_32_128....\n"
     ]
    },
    {
     "name": "stderr",
     "output_type": "stream",
     "text": [
      "/var/folders/2q/bjqpws1153b0_y18lhffmh_m0000gn/T/ipykernel_42781/3725459898.py:14: FutureWarning: The frame.append method is deprecated and will be removed from pandas in a future version. Use pandas.concat instead.\n",
      "  compute_accuracy_df = compute_accuracy_df.append({'Query': query_name, 'PQ Setting': pq_setting, 'Accuracy': accuracy}, ignore_index=True)\n"
     ]
    },
    {
     "name": "stdout",
     "output_type": "stream",
     "text": [
      "Count:  10\n",
      "Total Rows:  15885\n",
      "Accuracy:  0.0006295247088448222\n",
      "Calculating Advance Accuracy for costume designer and makeup artist with pq_32_128....\n"
     ]
    },
    {
     "name": "stderr",
     "output_type": "stream",
     "text": [
      "/var/folders/2q/bjqpws1153b0_y18lhffmh_m0000gn/T/ipykernel_42781/3725459898.py:14: FutureWarning: The frame.append method is deprecated and will be removed from pandas in a future version. Use pandas.concat instead.\n",
      "  compute_accuracy_df = compute_accuracy_df.append({'Query': query_name, 'PQ Setting': pq_setting, 'Accuracy': accuracy}, ignore_index=True)\n"
     ]
    },
    {
     "name": "stdout",
     "output_type": "stream",
     "text": [
      "Count:  0\n",
      "Total Rows:  15885\n",
      "Accuracy:  0.0\n"
     ]
    },
    {
     "name": "stderr",
     "output_type": "stream",
     "text": [
      "/var/folders/2q/bjqpws1153b0_y18lhffmh_m0000gn/T/ipykernel_42781/3725459898.py:14: FutureWarning: The frame.append method is deprecated and will be removed from pandas in a future version. Use pandas.concat instead.\n",
      "  compute_accuracy_df = compute_accuracy_df.append({'Query': query_name, 'PQ Setting': pq_setting, 'Accuracy': accuracy}, ignore_index=True)\n",
      "/var/folders/2q/bjqpws1153b0_y18lhffmh_m0000gn/T/ipykernel_42781/3725459898.py:17: FutureWarning: The frame.append method is deprecated and will be removed from pandas in a future version. Use pandas.concat instead.\n",
      "  compute_accuracy_df = compute_accuracy_df.append({'Query': 'Average', 'PQ Setting': pq_setting, 'Accuracy': compute_accuracy_df['Accuracy'].mean()}, ignore_index=True)\n"
     ]
    }
   ],
   "source": [
    "# Generate the accuracy results \n",
    "for pq_setting, pq_object in PQ_Sets.items():\n",
    "    # Get the PQ Code and PQ object\n",
    "    pq_code = pq_object[0]\n",
    "    pq = pq_object[1]\n",
    "    \n",
    "    # Create dataframe to store the compute time for each query. Columns are compute time dict keys, rows are queries\n",
    "    compute_accuracy_df = pd.DataFrame(columns=['Query', 'PQ Setting', 'Accuracy'])\n",
    "    \n",
    "    # For all the queries in the query_dict, run through the search_using_query function\n",
    "    for query_name, query_text in query_dict.items():\n",
    "        # accuracy = basic_accuracy_per_query(query_text, pq_setting)\n",
    "        accuracy = advance_accuracy_per_query(query_text, pq_setting)\n",
    "        compute_accuracy_df = compute_accuracy_df.append({'Query': query_name, 'PQ Setting': pq_setting, 'Accuracy': accuracy}, ignore_index=True)\n",
    "        compute_accuracy_df.to_csv(\"PQ/PQ Search Results/{}_results/{}_accuracy.csv\".format(pq_setting, pq_setting), index=False)\n",
    "    # Compute the average compute time for each query\n",
    "    compute_accuracy_df = compute_accuracy_df.append({'Query': 'Average', 'PQ Setting': pq_setting, 'Accuracy': compute_accuracy_df['Accuracy'].mean()}, ignore_index=True)\n",
    "    # Save compute_time_df to csv\n",
    "    compute_accuracy_df.to_csv(\"PQ/PQ Search Results/{}_results/{}_accuracy.csv\".format(pq_setting, pq_setting), index=False)\n",
    "    # print(compute_accuracy_df.head())"
   ]
  },
  {
   "cell_type": "markdown",
   "metadata": {},
   "source": [
    "# Data Analysis\n",
    "\n",
    "Beyond this point is the data analysis of the results obtained from the similarity search."
   ]
  },
  {
   "cell_type": "code",
   "execution_count": null,
   "metadata": {},
   "outputs": [
    {
     "name": "stderr",
     "output_type": "stream",
     "text": [
      "/var/folders/2q/bjqpws1153b0_y18lhffmh_m0000gn/T/ipykernel_42781/60980279.py:16: FutureWarning: The frame.append method is deprecated and will be removed from pandas in a future version. Use pandas.concat instead.\n",
      "  average_compute_time_df = average_compute_time_df.append({'PQ Setting': pq_setting, 'Compute Similarity Duration': average_row['Compute Similarity Duration'].values[0], 'Get Ranking Duration': average_row['Get Ranking Duration'].values[0], 'Save to CSV Duration': average_row['Save to CSV Duration'].values[0], 'Basic Compute Duration': average_row['Basic Compute Duration'].values[0], 'True Compute Duration': average_row['True Compute Duration'].values[0]}, ignore_index=True)\n",
      "/var/folders/2q/bjqpws1153b0_y18lhffmh_m0000gn/T/ipykernel_42781/60980279.py:16: FutureWarning: The frame.append method is deprecated and will be removed from pandas in a future version. Use pandas.concat instead.\n",
      "  average_compute_time_df = average_compute_time_df.append({'PQ Setting': pq_setting, 'Compute Similarity Duration': average_row['Compute Similarity Duration'].values[0], 'Get Ranking Duration': average_row['Get Ranking Duration'].values[0], 'Save to CSV Duration': average_row['Save to CSV Duration'].values[0], 'Basic Compute Duration': average_row['Basic Compute Duration'].values[0], 'True Compute Duration': average_row['True Compute Duration'].values[0]}, ignore_index=True)\n",
      "/var/folders/2q/bjqpws1153b0_y18lhffmh_m0000gn/T/ipykernel_42781/60980279.py:16: FutureWarning: The frame.append method is deprecated and will be removed from pandas in a future version. Use pandas.concat instead.\n",
      "  average_compute_time_df = average_compute_time_df.append({'PQ Setting': pq_setting, 'Compute Similarity Duration': average_row['Compute Similarity Duration'].values[0], 'Get Ranking Duration': average_row['Get Ranking Duration'].values[0], 'Save to CSV Duration': average_row['Save to CSV Duration'].values[0], 'Basic Compute Duration': average_row['Basic Compute Duration'].values[0], 'True Compute Duration': average_row['True Compute Duration'].values[0]}, ignore_index=True)\n",
      "/var/folders/2q/bjqpws1153b0_y18lhffmh_m0000gn/T/ipykernel_42781/60980279.py:16: FutureWarning: The frame.append method is deprecated and will be removed from pandas in a future version. Use pandas.concat instead.\n",
      "  average_compute_time_df = average_compute_time_df.append({'PQ Setting': pq_setting, 'Compute Similarity Duration': average_row['Compute Similarity Duration'].values[0], 'Get Ranking Duration': average_row['Get Ranking Duration'].values[0], 'Save to CSV Duration': average_row['Save to CSV Duration'].values[0], 'Basic Compute Duration': average_row['Basic Compute Duration'].values[0], 'True Compute Duration': average_row['True Compute Duration'].values[0]}, ignore_index=True)\n",
      "/var/folders/2q/bjqpws1153b0_y18lhffmh_m0000gn/T/ipykernel_42781/60980279.py:16: FutureWarning: The frame.append method is deprecated and will be removed from pandas in a future version. Use pandas.concat instead.\n",
      "  average_compute_time_df = average_compute_time_df.append({'PQ Setting': pq_setting, 'Compute Similarity Duration': average_row['Compute Similarity Duration'].values[0], 'Get Ranking Duration': average_row['Get Ranking Duration'].values[0], 'Save to CSV Duration': average_row['Save to CSV Duration'].values[0], 'Basic Compute Duration': average_row['Basic Compute Duration'].values[0], 'True Compute Duration': average_row['True Compute Duration'].values[0]}, ignore_index=True)\n",
      "/var/folders/2q/bjqpws1153b0_y18lhffmh_m0000gn/T/ipykernel_42781/60980279.py:16: FutureWarning: The frame.append method is deprecated and will be removed from pandas in a future version. Use pandas.concat instead.\n",
      "  average_compute_time_df = average_compute_time_df.append({'PQ Setting': pq_setting, 'Compute Similarity Duration': average_row['Compute Similarity Duration'].values[0], 'Get Ranking Duration': average_row['Get Ranking Duration'].values[0], 'Save to CSV Duration': average_row['Save to CSV Duration'].values[0], 'Basic Compute Duration': average_row['Basic Compute Duration'].values[0], 'True Compute Duration': average_row['True Compute Duration'].values[0]}, ignore_index=True)\n",
      "/var/folders/2q/bjqpws1153b0_y18lhffmh_m0000gn/T/ipykernel_42781/60980279.py:16: FutureWarning: The frame.append method is deprecated and will be removed from pandas in a future version. Use pandas.concat instead.\n",
      "  average_compute_time_df = average_compute_time_df.append({'PQ Setting': pq_setting, 'Compute Similarity Duration': average_row['Compute Similarity Duration'].values[0], 'Get Ranking Duration': average_row['Get Ranking Duration'].values[0], 'Save to CSV Duration': average_row['Save to CSV Duration'].values[0], 'Basic Compute Duration': average_row['Basic Compute Duration'].values[0], 'True Compute Duration': average_row['True Compute Duration'].values[0]}, ignore_index=True)\n",
      "/var/folders/2q/bjqpws1153b0_y18lhffmh_m0000gn/T/ipykernel_42781/60980279.py:16: FutureWarning: The frame.append method is deprecated and will be removed from pandas in a future version. Use pandas.concat instead.\n",
      "  average_compute_time_df = average_compute_time_df.append({'PQ Setting': pq_setting, 'Compute Similarity Duration': average_row['Compute Similarity Duration'].values[0], 'Get Ranking Duration': average_row['Get Ranking Duration'].values[0], 'Save to CSV Duration': average_row['Save to CSV Duration'].values[0], 'Basic Compute Duration': average_row['Basic Compute Duration'].values[0], 'True Compute Duration': average_row['True Compute Duration'].values[0]}, ignore_index=True)\n",
      "/var/folders/2q/bjqpws1153b0_y18lhffmh_m0000gn/T/ipykernel_42781/60980279.py:16: FutureWarning: The frame.append method is deprecated and will be removed from pandas in a future version. Use pandas.concat instead.\n",
      "  average_compute_time_df = average_compute_time_df.append({'PQ Setting': pq_setting, 'Compute Similarity Duration': average_row['Compute Similarity Duration'].values[0], 'Get Ranking Duration': average_row['Get Ranking Duration'].values[0], 'Save to CSV Duration': average_row['Save to CSV Duration'].values[0], 'Basic Compute Duration': average_row['Basic Compute Duration'].values[0], 'True Compute Duration': average_row['True Compute Duration'].values[0]}, ignore_index=True)\n",
      "/var/folders/2q/bjqpws1153b0_y18lhffmh_m0000gn/T/ipykernel_42781/60980279.py:16: FutureWarning: The frame.append method is deprecated and will be removed from pandas in a future version. Use pandas.concat instead.\n",
      "  average_compute_time_df = average_compute_time_df.append({'PQ Setting': pq_setting, 'Compute Similarity Duration': average_row['Compute Similarity Duration'].values[0], 'Get Ranking Duration': average_row['Get Ranking Duration'].values[0], 'Save to CSV Duration': average_row['Save to CSV Duration'].values[0], 'Basic Compute Duration': average_row['Basic Compute Duration'].values[0], 'True Compute Duration': average_row['True Compute Duration'].values[0]}, ignore_index=True)\n",
      "/var/folders/2q/bjqpws1153b0_y18lhffmh_m0000gn/T/ipykernel_42781/60980279.py:16: FutureWarning: The frame.append method is deprecated and will be removed from pandas in a future version. Use pandas.concat instead.\n",
      "  average_compute_time_df = average_compute_time_df.append({'PQ Setting': pq_setting, 'Compute Similarity Duration': average_row['Compute Similarity Duration'].values[0], 'Get Ranking Duration': average_row['Get Ranking Duration'].values[0], 'Save to CSV Duration': average_row['Save to CSV Duration'].values[0], 'Basic Compute Duration': average_row['Basic Compute Duration'].values[0], 'True Compute Duration': average_row['True Compute Duration'].values[0]}, ignore_index=True)\n",
      "/var/folders/2q/bjqpws1153b0_y18lhffmh_m0000gn/T/ipykernel_42781/60980279.py:16: FutureWarning: The frame.append method is deprecated and will be removed from pandas in a future version. Use pandas.concat instead.\n",
      "  average_compute_time_df = average_compute_time_df.append({'PQ Setting': pq_setting, 'Compute Similarity Duration': average_row['Compute Similarity Duration'].values[0], 'Get Ranking Duration': average_row['Get Ranking Duration'].values[0], 'Save to CSV Duration': average_row['Save to CSV Duration'].values[0], 'Basic Compute Duration': average_row['Basic Compute Duration'].values[0], 'True Compute Duration': average_row['True Compute Duration'].values[0]}, ignore_index=True)\n",
      "/var/folders/2q/bjqpws1153b0_y18lhffmh_m0000gn/T/ipykernel_42781/60980279.py:16: FutureWarning: The frame.append method is deprecated and will be removed from pandas in a future version. Use pandas.concat instead.\n",
      "  average_compute_time_df = average_compute_time_df.append({'PQ Setting': pq_setting, 'Compute Similarity Duration': average_row['Compute Similarity Duration'].values[0], 'Get Ranking Duration': average_row['Get Ranking Duration'].values[0], 'Save to CSV Duration': average_row['Save to CSV Duration'].values[0], 'Basic Compute Duration': average_row['Basic Compute Duration'].values[0], 'True Compute Duration': average_row['True Compute Duration'].values[0]}, ignore_index=True)\n",
      "/var/folders/2q/bjqpws1153b0_y18lhffmh_m0000gn/T/ipykernel_42781/60980279.py:16: FutureWarning: The frame.append method is deprecated and will be removed from pandas in a future version. Use pandas.concat instead.\n",
      "  average_compute_time_df = average_compute_time_df.append({'PQ Setting': pq_setting, 'Compute Similarity Duration': average_row['Compute Similarity Duration'].values[0], 'Get Ranking Duration': average_row['Get Ranking Duration'].values[0], 'Save to CSV Duration': average_row['Save to CSV Duration'].values[0], 'Basic Compute Duration': average_row['Basic Compute Duration'].values[0], 'True Compute Duration': average_row['True Compute Duration'].values[0]}, ignore_index=True)\n",
      "/var/folders/2q/bjqpws1153b0_y18lhffmh_m0000gn/T/ipykernel_42781/60980279.py:16: FutureWarning: The frame.append method is deprecated and will be removed from pandas in a future version. Use pandas.concat instead.\n",
      "  average_compute_time_df = average_compute_time_df.append({'PQ Setting': pq_setting, 'Compute Similarity Duration': average_row['Compute Similarity Duration'].values[0], 'Get Ranking Duration': average_row['Get Ranking Duration'].values[0], 'Save to CSV Duration': average_row['Save to CSV Duration'].values[0], 'Basic Compute Duration': average_row['Basic Compute Duration'].values[0], 'True Compute Duration': average_row['True Compute Duration'].values[0]}, ignore_index=True)\n"
     ]
    }
   ],
   "source": [
    "# Consolidate all the Average Compute Time of each PQ Setting\n",
    "\n",
    "# Create a new dataframe to store the results\n",
    "average_compute_time_df = pd.DataFrame(columns=['PQ Setting', 'Compute Similarity Duration', 'Get Ranking Duration', 'Save to CSV Duration', 'Basic Compute Duration', 'True Compute Duration'])\n",
    "\n",
    "\n",
    "# For all the PQ Settings, load the compute time csv and append the average compute time to the average_compute_time_df\n",
    "for pq_setting in PQ_Sets.keys():\n",
    "    # Load the compute time csv\n",
    "    compute_time_df = pd.read_csv(\"PQ/PQ Search Results/{}_results/{}_compute_time.csv\".format(pq_setting, pq_setting))\n",
    "    \n",
    "    # Get row where Query is Average\n",
    "    average_row = compute_time_df.loc[compute_time_df['Query'] == 'Average']\n",
    "    \n",
    "    # Append the average row to the average_compute_time_df\n",
    "    average_compute_time_df = average_compute_time_df.append({'PQ Setting': pq_setting, 'Compute Similarity Duration': average_row['Compute Similarity Duration'].values[0], 'Get Ranking Duration': average_row['Get Ranking Duration'].values[0], 'Save to CSV Duration': average_row['Save to CSV Duration'].values[0], 'Basic Compute Duration': average_row['Basic Compute Duration'].values[0], 'True Compute Duration': average_row['True Compute Duration'].values[0]}, ignore_index=True)\n",
    "    \n",
    "# Save the average_compute_time_df to csv\n",
    "average_compute_time_df.to_csv(\"PQ/PQ Search Results/compute_time_analysis.csv\", index=False)"
   ]
  },
  {
   "cell_type": "code",
   "execution_count": 189,
   "metadata": {},
   "outputs": [
    {
     "name": "stderr",
     "output_type": "stream",
     "text": [
      "/var/folders/2q/bjqpws1153b0_y18lhffmh_m0000gn/T/ipykernel_42781/2642512031.py:15: FutureWarning: The frame.append method is deprecated and will be removed from pandas in a future version. Use pandas.concat instead.\n",
      "  average_accuracy_df = average_accuracy_df.append({'PQ Setting': pq_setting, 'Accuracy': average_row['Accuracy'].values[0]}, ignore_index=True)\n",
      "/var/folders/2q/bjqpws1153b0_y18lhffmh_m0000gn/T/ipykernel_42781/2642512031.py:15: FutureWarning: The frame.append method is deprecated and will be removed from pandas in a future version. Use pandas.concat instead.\n",
      "  average_accuracy_df = average_accuracy_df.append({'PQ Setting': pq_setting, 'Accuracy': average_row['Accuracy'].values[0]}, ignore_index=True)\n",
      "/var/folders/2q/bjqpws1153b0_y18lhffmh_m0000gn/T/ipykernel_42781/2642512031.py:15: FutureWarning: The frame.append method is deprecated and will be removed from pandas in a future version. Use pandas.concat instead.\n",
      "  average_accuracy_df = average_accuracy_df.append({'PQ Setting': pq_setting, 'Accuracy': average_row['Accuracy'].values[0]}, ignore_index=True)\n",
      "/var/folders/2q/bjqpws1153b0_y18lhffmh_m0000gn/T/ipykernel_42781/2642512031.py:15: FutureWarning: The frame.append method is deprecated and will be removed from pandas in a future version. Use pandas.concat instead.\n",
      "  average_accuracy_df = average_accuracy_df.append({'PQ Setting': pq_setting, 'Accuracy': average_row['Accuracy'].values[0]}, ignore_index=True)\n",
      "/var/folders/2q/bjqpws1153b0_y18lhffmh_m0000gn/T/ipykernel_42781/2642512031.py:15: FutureWarning: The frame.append method is deprecated and will be removed from pandas in a future version. Use pandas.concat instead.\n",
      "  average_accuracy_df = average_accuracy_df.append({'PQ Setting': pq_setting, 'Accuracy': average_row['Accuracy'].values[0]}, ignore_index=True)\n",
      "/var/folders/2q/bjqpws1153b0_y18lhffmh_m0000gn/T/ipykernel_42781/2642512031.py:15: FutureWarning: The frame.append method is deprecated and will be removed from pandas in a future version. Use pandas.concat instead.\n",
      "  average_accuracy_df = average_accuracy_df.append({'PQ Setting': pq_setting, 'Accuracy': average_row['Accuracy'].values[0]}, ignore_index=True)\n",
      "/var/folders/2q/bjqpws1153b0_y18lhffmh_m0000gn/T/ipykernel_42781/2642512031.py:15: FutureWarning: The frame.append method is deprecated and will be removed from pandas in a future version. Use pandas.concat instead.\n",
      "  average_accuracy_df = average_accuracy_df.append({'PQ Setting': pq_setting, 'Accuracy': average_row['Accuracy'].values[0]}, ignore_index=True)\n",
      "/var/folders/2q/bjqpws1153b0_y18lhffmh_m0000gn/T/ipykernel_42781/2642512031.py:15: FutureWarning: The frame.append method is deprecated and will be removed from pandas in a future version. Use pandas.concat instead.\n",
      "  average_accuracy_df = average_accuracy_df.append({'PQ Setting': pq_setting, 'Accuracy': average_row['Accuracy'].values[0]}, ignore_index=True)\n",
      "/var/folders/2q/bjqpws1153b0_y18lhffmh_m0000gn/T/ipykernel_42781/2642512031.py:15: FutureWarning: The frame.append method is deprecated and will be removed from pandas in a future version. Use pandas.concat instead.\n",
      "  average_accuracy_df = average_accuracy_df.append({'PQ Setting': pq_setting, 'Accuracy': average_row['Accuracy'].values[0]}, ignore_index=True)\n",
      "/var/folders/2q/bjqpws1153b0_y18lhffmh_m0000gn/T/ipykernel_42781/2642512031.py:15: FutureWarning: The frame.append method is deprecated and will be removed from pandas in a future version. Use pandas.concat instead.\n",
      "  average_accuracy_df = average_accuracy_df.append({'PQ Setting': pq_setting, 'Accuracy': average_row['Accuracy'].values[0]}, ignore_index=True)\n",
      "/var/folders/2q/bjqpws1153b0_y18lhffmh_m0000gn/T/ipykernel_42781/2642512031.py:15: FutureWarning: The frame.append method is deprecated and will be removed from pandas in a future version. Use pandas.concat instead.\n",
      "  average_accuracy_df = average_accuracy_df.append({'PQ Setting': pq_setting, 'Accuracy': average_row['Accuracy'].values[0]}, ignore_index=True)\n",
      "/var/folders/2q/bjqpws1153b0_y18lhffmh_m0000gn/T/ipykernel_42781/2642512031.py:15: FutureWarning: The frame.append method is deprecated and will be removed from pandas in a future version. Use pandas.concat instead.\n",
      "  average_accuracy_df = average_accuracy_df.append({'PQ Setting': pq_setting, 'Accuracy': average_row['Accuracy'].values[0]}, ignore_index=True)\n",
      "/var/folders/2q/bjqpws1153b0_y18lhffmh_m0000gn/T/ipykernel_42781/2642512031.py:15: FutureWarning: The frame.append method is deprecated and will be removed from pandas in a future version. Use pandas.concat instead.\n",
      "  average_accuracy_df = average_accuracy_df.append({'PQ Setting': pq_setting, 'Accuracy': average_row['Accuracy'].values[0]}, ignore_index=True)\n",
      "/var/folders/2q/bjqpws1153b0_y18lhffmh_m0000gn/T/ipykernel_42781/2642512031.py:15: FutureWarning: The frame.append method is deprecated and will be removed from pandas in a future version. Use pandas.concat instead.\n",
      "  average_accuracy_df = average_accuracy_df.append({'PQ Setting': pq_setting, 'Accuracy': average_row['Accuracy'].values[0]}, ignore_index=True)\n",
      "/var/folders/2q/bjqpws1153b0_y18lhffmh_m0000gn/T/ipykernel_42781/2642512031.py:15: FutureWarning: The frame.append method is deprecated and will be removed from pandas in a future version. Use pandas.concat instead.\n",
      "  average_accuracy_df = average_accuracy_df.append({'PQ Setting': pq_setting, 'Accuracy': average_row['Accuracy'].values[0]}, ignore_index=True)\n"
     ]
    }
   ],
   "source": [
    "# Consolidate all the Average Accuracy of each PQ Setting\n",
    "\n",
    "# Create a new dataframe to store the results\n",
    "average_accuracy_df = pd.DataFrame(columns=['PQ Setting', 'Accuracy'])\n",
    "\n",
    "# For all the PQ Settings, load the compute time csv and append the average compute time to the average_compute_time_df\n",
    "for pq_setting in PQ_Sets.keys():\n",
    "    # Load the compute time csv\n",
    "    accuracy_df = pd.read_csv(\"PQ/PQ Search Results/{}_results/{}_accuracy.csv\".format(pq_setting, pq_setting))\n",
    "    \n",
    "    # Get row where Query is Average\n",
    "    average_row = accuracy_df.loc[accuracy_df['Query'] == 'Average']\n",
    "    \n",
    "    # Append the average row to the average_compute_time_df\n",
    "    average_accuracy_df = average_accuracy_df.append({'PQ Setting': pq_setting, 'Accuracy': average_row['Accuracy'].values[0]}, ignore_index=True)\n",
    "    \n",
    "# Save the average_compute_time_df to csv\n",
    "average_accuracy_df.to_csv(\"PQ/PQ Search Results/accuracy_analysis.csv\", index=False)"
   ]
  },
  {
   "cell_type": "markdown",
   "metadata": {},
   "source": [
    "# Graphing"
   ]
  },
  {
   "cell_type": "code",
   "execution_count": 227,
   "metadata": {},
   "outputs": [
    {
     "data": {
      "text/html": [
       "<div>\n",
       "<style scoped>\n",
       "    .dataframe tbody tr th:only-of-type {\n",
       "        vertical-align: middle;\n",
       "    }\n",
       "\n",
       "    .dataframe tbody tr th {\n",
       "        vertical-align: top;\n",
       "    }\n",
       "\n",
       "    .dataframe thead th {\n",
       "        text-align: right;\n",
       "    }\n",
       "</style>\n",
       "<table border=\"1\" class=\"dataframe\">\n",
       "  <thead>\n",
       "    <tr style=\"text-align: right;\">\n",
       "      <th></th>\n",
       "      <th>PQ Setting</th>\n",
       "      <th>Compute Similarity Duration</th>\n",
       "      <th>Get Ranking Duration</th>\n",
       "      <th>Save to CSV Duration</th>\n",
       "      <th>Basic Compute Duration</th>\n",
       "      <th>True Compute Duration</th>\n",
       "      <th>M</th>\n",
       "      <th>Ks</th>\n",
       "    </tr>\n",
       "  </thead>\n",
       "  <tbody>\n",
       "    <tr>\n",
       "      <th>0</th>\n",
       "      <td>pq_8_8</td>\n",
       "      <td>0.002854</td>\n",
       "      <td>0.006882</td>\n",
       "      <td>1.426716</td>\n",
       "      <td>1.436577</td>\n",
       "      <td>1.436451</td>\n",
       "      <td>8</td>\n",
       "      <td>8</td>\n",
       "    </tr>\n",
       "    <tr>\n",
       "      <th>1</th>\n",
       "      <td>pq_8_16</td>\n",
       "      <td>0.003386</td>\n",
       "      <td>0.006922</td>\n",
       "      <td>1.422721</td>\n",
       "      <td>1.433146</td>\n",
       "      <td>1.433029</td>\n",
       "      <td>8</td>\n",
       "      <td>16</td>\n",
       "    </tr>\n",
       "    <tr>\n",
       "      <th>2</th>\n",
       "      <td>pq_8_32</td>\n",
       "      <td>0.006162</td>\n",
       "      <td>0.007744</td>\n",
       "      <td>1.600278</td>\n",
       "      <td>1.614319</td>\n",
       "      <td>1.614183</td>\n",
       "      <td>8</td>\n",
       "      <td>32</td>\n",
       "    </tr>\n",
       "    <tr>\n",
       "      <th>3</th>\n",
       "      <td>pq_8_64</td>\n",
       "      <td>0.020442</td>\n",
       "      <td>0.011947</td>\n",
       "      <td>1.602860</td>\n",
       "      <td>1.635440</td>\n",
       "      <td>1.635249</td>\n",
       "      <td>8</td>\n",
       "      <td>64</td>\n",
       "    </tr>\n",
       "    <tr>\n",
       "      <th>4</th>\n",
       "      <td>pq_8_128</td>\n",
       "      <td>0.043584</td>\n",
       "      <td>0.009190</td>\n",
       "      <td>1.442456</td>\n",
       "      <td>1.495350</td>\n",
       "      <td>1.495230</td>\n",
       "      <td>8</td>\n",
       "      <td>128</td>\n",
       "    </tr>\n",
       "  </tbody>\n",
       "</table>\n",
       "</div>"
      ],
      "text/plain": [
       "  PQ Setting  Compute Similarity Duration  Get Ranking Duration  \\\n",
       "0     pq_8_8                     0.002854              0.006882   \n",
       "1    pq_8_16                     0.003386              0.006922   \n",
       "2    pq_8_32                     0.006162              0.007744   \n",
       "3    pq_8_64                     0.020442              0.011947   \n",
       "4   pq_8_128                     0.043584              0.009190   \n",
       "\n",
       "   Save to CSV Duration  Basic Compute Duration  True Compute Duration  M   Ks  \n",
       "0              1.426716                1.436577               1.436451  8    8  \n",
       "1              1.422721                1.433146               1.433029  8   16  \n",
       "2              1.600278                1.614319               1.614183  8   32  \n",
       "3              1.602860                1.635440               1.635249  8   64  \n",
       "4              1.442456                1.495350               1.495230  8  128  "
      ]
     },
     "execution_count": 227,
     "metadata": {},
     "output_type": "execute_result"
    }
   ],
   "source": [
    "# Compute Time Analysis\n",
    "import matplotlib.pyplot as plt\n",
    "import numpy as np\n",
    "import pandas as pd\n",
    "\n",
    "# Load the compute time analysis csv\n",
    "compute_time_analysis_df = pd.read_csv(\"PQ/PQ Search Results/compute_time_analysis.csv\")\n",
    "\n",
    "# Create now columns M and Ks and populate them with the values from the PQ Setting column\n",
    "compute_time_analysis_df['M'] = 0\n",
    "compute_time_analysis_df['Ks'] = 0\n",
    "\n",
    "# Iterate through the dataframe and populate the M and Ks columns\n",
    "for index, row in compute_time_analysis_df.iterrows():\n",
    "    pq_setting = row['PQ Setting']\n",
    "    pq_setting = pq_setting.split(\"_\")\n",
    "    compute_time_analysis_df.at[index, 'M'] = pq_setting[1]\n",
    "    compute_time_analysis_df.at[index, 'Ks'] = pq_setting[2]\n",
    "    \n",
    "# print(compute_time_analysis_df.head())\n",
    "compute_time_analysis_df.head()\n"
   ]
  },
  {
   "cell_type": "code",
   "execution_count": 229,
   "metadata": {},
   "outputs": [
    {
     "data": {
      "image/png": "[encoded data removed]",
      "text/plain": [
       "<Figure size 640x480 with 1 Axes>"
      ]
     },
     "metadata": {},
     "output_type": "display_data"
    },
    {
     "data": {
      "image/png": "[encoded data removed]",
      "text/plain": [
       "<Figure size 640x480 with 1 Axes>"
      ]
     },
     "metadata": {},
     "output_type": "display_data"
    },
    {
     "data": {
      "image/png": "[encoded data removed]",
      "text/plain": [
       "<Figure size 640x480 with 1 Axes>"
      ]
     },
     "metadata": {},
     "output_type": "display_data"
    }
   ],
   "source": [
    "# Plotting with M as Constant and Ks as Variable\n",
    "\n",
    "# Get the rows where M = 8\n",
    "compute_time_analysis_df_M8 = compute_time_analysis_df.loc[compute_time_analysis_df['M'] == '8']\n",
    "\n",
    "# Get the rows where M = 16\n",
    "compute_time_analysis_df_M16 = compute_time_analysis_df.loc[compute_time_analysis_df['M'] == '16']\n",
    "\n",
    "# Get the rows where M = 32\n",
    "compute_time_analysis_df_M32 = compute_time_analysis_df.loc[compute_time_analysis_df['M'] == '32']\n",
    "\n",
    "# Plot the True Compute Duration with increasing Ks for M = 8\n",
    "# Time Taken vs Ks for M = 8\n",
    "plt.plot(compute_time_analysis_df_M8['Ks'], compute_time_analysis_df_M8['True Compute Duration'])\n",
    "plt.xlabel(\"Ks\")\n",
    "plt.ylabel(\"True Compute Duration\")\n",
    "plt.title(\"True Compute Duration vs Ks for M = 8\")\n",
    "plt.show()\n",
    "\n",
    "# Plot the True Compute Duration with increasing Ks for M = 16\n",
    "# Time Taken vs Ks for M = 16\n",
    "plt.plot(compute_time_analysis_df_M16['Ks'], compute_time_analysis_df_M16['True Compute Duration'])\n",
    "plt.xlabel(\"Ks\")\n",
    "plt.ylabel(\"True Compute Duration\")\n",
    "plt.title(\"True Compute Duration vs Ks for M = 16\")\n",
    "plt.show()\n",
    "\n",
    "# Plot the True Compute Duration with increasing Ks for M = 32\n",
    "# Time Taken vs Ks for M = 32\n",
    "plt.plot(compute_time_analysis_df_M32['Ks'], compute_time_analysis_df_M32['True Compute Duration'])\n",
    "plt.xlabel(\"Ks\")\n",
    "plt.ylabel(\"True Compute Duration\")\n",
    "plt.title(\"True Compute Duration vs Ks for M = 32\")\n",
    "plt.show()"
   ]
  },
  {
   "cell_type": "code",
   "execution_count": 232,
   "metadata": {},
   "outputs": [
    {
     "data": {
      "image/png": "[encoded data removed]",
      "text/plain": [
       "<Figure size 1500x500 with 15 Axes>"
      ]
     },
     "metadata": {},
     "output_type": "display_data"
    }
   ],
   "source": [
    "# Get the rows where M = 8\n",
    "compute_time_analysis_df_M8 = compute_time_analysis_df.loc[compute_time_analysis_df['M'] == '8']\n",
    "\n",
    "# Get the rows where M = 16\n",
    "compute_time_analysis_df_M16 = compute_time_analysis_df.loc[compute_time_analysis_df['M'] == '16']\n",
    "\n",
    "# Get the rows where M = 32\n",
    "compute_time_analysis_df_M32 = compute_time_analysis_df.loc[compute_time_analysis_df['M'] == '32']\n",
    "\n",
    "# Get the rows where Ks = 8\n",
    "compute_time_analysis_df_Ks8 = compute_time_analysis_df.loc[compute_time_analysis_df['Ks'] == '8']\n",
    "\n",
    "# Get the rows where Ks = 16\n",
    "compute_time_analysis_df_Ks16 = compute_time_analysis_df.loc[compute_time_analysis_df['Ks'] == '16']\n",
    "\n",
    "# Get the rows where Ks = 32\n",
    "compute_time_analysis_df_Ks32 = compute_time_analysis_df.loc[compute_time_analysis_df['Ks'] == '32']\n",
    "\n",
    "# Get the rows where Ks = 64\n",
    "compute_time_analysis_df_Ks64 = compute_time_analysis_df.loc[compute_time_analysis_df['Ks'] == '64']\n",
    "\n",
    "# Get the rows where Ks = 128\n",
    "compute_time_analysis_df_Ks128 = compute_time_analysis_df.loc[compute_time_analysis_df['Ks'] == '128']\n",
    "\n",
    "# Use subplots to plot the True Compute Duration with increasing Ks for M = 8, 16, 32\n",
    "fig, axes = plt.subplots(3, 5, figsize=(15, 5))\n",
    "plt.show()\n"
   ]
  }
 ],
 "metadata": {
  "kernelspec": {
   "display_name": "Python 3",
   "language": "python",
   "name": "python3"
  },
  "language_info": {
   "codemirror_mode": {
    "name": "ipython",
    "version": 3
   },
   "file_extension": ".py",
   "mimetype": "text/x-python",
   "name": "python",
   "nbconvert_exporter": "python",
   "pygments_lexer": "ipython3",
   "version": "3.11.4"
  },
  "orig_nbformat": 4
 },
 "nbformat": 4,
 "nbformat_minor": 2
}
