{
 "cells": [
  {
   "cell_type": "markdown",
   "id": "0563a164-0127-4a43-b2ab-7e688bf83c30",
   "metadata": {},
   "source": [
    "# Accuracy"
   ]
  },
  {
   "cell_type": "code",
   "execution_count": 4,
   "id": "51d4f637-fdbd-4b92-884c-36d2b4759c56",
   "metadata": {},
   "outputs": [],
   "source": [
    "import pandas as pd"
   ]
  },
  {
   "cell_type": "markdown",
   "id": "6cfdedab-73ea-4e34-bb43-138b5fea26cc",
   "metadata": {},
   "source": [
    "### LSH Accuracy"
   ]
  },
  {
   "cell_type": "code",
   "execution_count": 1,
   "id": "961e9ec0-0f01-4331-bad8-21de6ea1e9ef",
   "metadata": {},
   "outputs": [],
   "source": [
    "query_dict = {'Q1': \"resilient investment banker\", \n",
    "              'Q2': \"2 years experience product manager\", \n",
    "              'Q3': \"10 years risk analyst problem solver\", \n",
    "              'Q4': \"tax analyst for big company\", \n",
    "              'Q5': \"software engineer for google or amazon\", \n",
    "              'Q6': \"video editor for advertisements with 5 year experience\",\n",
    "              'Q7': \"full time senior head nurse position\",\n",
    "              'Q8': \"after school math and science tutor\",\n",
    "              'Q9': \"dietitian for professional atheletes\",\n",
    "              'Q10': \"costume designer and makeup artist\"}\n",
    "\n",
    "k = 10\n",
    "file_path = f\"LSH Search Results\\LSH Search Results with K Values\\LSH Search Results (k = {k})(Query = {query_dict['Q7']}).csv\"\n",
    "\n",
    "# Import your Output CSV here\n",
    "# lsh_df = pd.read_csv(file_path) # Enter your file and folder here\n",
    "\n",
    "# This is the base of our comparison\n",
    "# base_df = pd.read_csv(\"Linear Search Results\\\\full_time_senior_head_nurse_position.csv\")\n",
    "\n",
    "# no_of_rows = base_df.shape[0]"
   ]
  },
  {
   "cell_type": "code",
   "execution_count": 6,
   "id": "fe0a2045-fab2-4b5c-9a5b-e04111847b82",
   "metadata": {},
   "outputs": [],
   "source": [
    "# Sorting both Dataframe in descending order\n",
    "def sort_df(lsh_df,base_df):\n",
    "    lsh_df['Vector'] = lsh_df['Distance']\n",
    "    ordered_lsh = lsh_df.sort_values(\"Vector\", ascending=True, ignore_index=True)[[\"Data\",\"Vector\"]] # Enter your column name that determines the ranking, change ascending to True if needed\n",
    "\n",
    "    ordered_base = base_df.sort_values(\"Vector\", ascending=False, ignore_index=True)[[\"Data\",\"Vector\"]]\n",
    "    return ordered_lsh,ordered_base\n",
    "\n",
    "# ordered_lsh,ordered_base = sort_df(lsh_df,base_df)\n"
   ]
  },
  {
   "cell_type": "code",
   "execution_count": null,
   "id": "9f10b554",
   "metadata": {},
   "outputs": [],
   "source": [
    "ordered_lsh.head(50)"
   ]
  },
  {
   "cell_type": "code",
   "execution_count": null,
   "id": "fad83f5d",
   "metadata": {},
   "outputs": [],
   "source": [
    "ordered_base.head(50)"
   ]
  },
  {
   "cell_type": "code",
   "execution_count": 7,
   "id": "16548c85-d04c-4215-867a-3af6e867627c",
   "metadata": {},
   "outputs": [],
   "source": [
    "def calculate_accuracy(ordered_lsh,ordered_base,no_of_rows):\n",
    "    compare_df = ordered_base.compare(ordered_lsh, keep_shape = True, align_axis = 0) # Change the \"ordered_lsh\" if needed\n",
    "    counter = 0\n",
    "    for i in range(no_of_rows):\n",
    "        if compare_df['Data'][i].isna()['self']:\n",
    "            counter+=1\n",
    "\n",
    "    # print(\"Accuracy:\", str(round(((counter/no_of_rows)*100),2))+\"%\")\n",
    "    return str(round(((counter/no_of_rows)*100),2))+\"%\"\n",
    "    \n",
    "\n",
    "# calculate_accuracy(ordered_lsh,ordered_base)"
   ]
  },
  {
   "cell_type": "code",
   "execution_count": 13,
   "id": "6c6835f7",
   "metadata": {},
   "outputs": [
    {
     "data": {
      "text/plain": [
       "'resilient_investment_banker'"
      ]
     },
     "execution_count": 13,
     "metadata": {},
     "output_type": "execute_result"
    }
   ],
   "source": [
    "query_dict['Q1'].replace(' ','_')"
   ]
  },
  {
   "cell_type": "code",
   "execution_count": 9,
   "id": "4f119431",
   "metadata": {},
   "outputs": [],
   "source": [
    "# Iterate through calculate_accuracy()\n",
    "\n",
    "acc_dict = {}\n",
    "\n",
    "for k in range(10,300,20):\n",
    "\n",
    "    for i in range(len(query_dict.values())):\n",
    "        # print(\"Calculating accuracy for query: \",i)\n",
    "\n",
    "        lsh_file_path = f\"LSH Search Results\\LSH Search Results with K Values\\LSH Search Results (k = {k})(Query = {query_dict[f'Q{i+1}']}).csv\"\n",
    "        base_file_path = f\"Linear Search Results\\\\{query_dict[f'Q{i+1}'].replace(' ','_')}.csv\"\n",
    "\n",
    "        lsh_df = pd.read_csv(lsh_file_path)\n",
    "        base_df = pd.read_csv(base_file_path)\n",
    "        no_of_rows = base_df.shape[0]\n",
    "\n",
    "        ordered_lsh,ordered_base = sort_df(lsh_df,base_df)\n",
    "\n",
    "        accuracy = calculate_accuracy(ordered_lsh,ordered_base,no_of_rows)\n",
    "\n",
    "        # print(f\"LSH Search Results (k = {k})(Query = {query_dict[f'Q{i+1}']})\")\n",
    "        # print(f\"Accuracy: {accuracy}\")\n",
    "\n",
    "        acc_dict[f'LSH Search Results (k = {k})(Query = {query_dict[f\"Q{i+1}\"]})'] = accuracy\n",
    "\n",
    "    \n"
   ]
  },
  {
   "cell_type": "code",
   "execution_count": 10,
   "id": "0711c7b4",
   "metadata": {},
   "outputs": [
    {
     "data": {
      "text/plain": [
       "{'LSH Search Results (k = 10)(Query = resilient investment banker)': '0.04%',\n",
       " 'LSH Search Results (k = 10)(Query = 2 years experience product manager)': '0.01%',\n",
       " 'LSH Search Results (k = 10)(Query = 10 years risk analyst problem solver)': '0.01%',\n",
       " 'LSH Search Results (k = 10)(Query = tax analyst for big company)': '0.0%',\n",
       " 'LSH Search Results (k = 10)(Query = software engineer for google or amazon)': '0.03%',\n",
       " 'LSH Search Results (k = 10)(Query = video editor for advertisements with 5 year experience)': '0.01%',\n",
       " 'LSH Search Results (k = 10)(Query = full time senior head nurse position)': '0.01%',\n",
       " 'LSH Search Results (k = 10)(Query = after school math and science tutor)': '0.04%',\n",
       " 'LSH Search Results (k = 10)(Query = dietitian for professional atheletes)': '0.01%',\n",
       " 'LSH Search Results (k = 10)(Query = costume designer and makeup artist)': '0.03%',\n",
       " 'LSH Search Results (k = 30)(Query = resilient investment banker)': '0.04%',\n",
       " 'LSH Search Results (k = 30)(Query = 2 years experience product manager)': '0.01%',\n",
       " 'LSH Search Results (k = 30)(Query = 10 years risk analyst problem solver)': '0.02%',\n",
       " 'LSH Search Results (k = 30)(Query = tax analyst for big company)': '0.04%',\n",
       " 'LSH Search Results (k = 30)(Query = software engineer for google or amazon)': '0.01%',\n",
       " 'LSH Search Results (k = 30)(Query = video editor for advertisements with 5 year experience)': '0.03%',\n",
       " 'LSH Search Results (k = 30)(Query = full time senior head nurse position)': '0.0%',\n",
       " 'LSH Search Results (k = 30)(Query = after school math and science tutor)': '0.01%',\n",
       " 'LSH Search Results (k = 30)(Query = dietitian for professional atheletes)': '0.01%',\n",
       " 'LSH Search Results (k = 30)(Query = costume designer and makeup artist)': '0.01%',\n",
       " 'LSH Search Results (k = 50)(Query = resilient investment banker)': '0.0%',\n",
       " 'LSH Search Results (k = 50)(Query = 2 years experience product manager)': '0.01%',\n",
       " 'LSH Search Results (k = 50)(Query = 10 years risk analyst problem solver)': '0.03%',\n",
       " 'LSH Search Results (k = 50)(Query = tax analyst for big company)': '0.02%',\n",
       " 'LSH Search Results (k = 50)(Query = software engineer for google or amazon)': '0.01%',\n",
       " 'LSH Search Results (k = 50)(Query = video editor for advertisements with 5 year experience)': '0.0%',\n",
       " 'LSH Search Results (k = 50)(Query = full time senior head nurse position)': '0.04%',\n",
       " 'LSH Search Results (k = 50)(Query = after school math and science tutor)': '0.0%',\n",
       " 'LSH Search Results (k = 50)(Query = dietitian for professional atheletes)': '0.03%',\n",
       " 'LSH Search Results (k = 50)(Query = costume designer and makeup artist)': '0.03%',\n",
       " 'LSH Search Results (k = 70)(Query = resilient investment banker)': '0.02%',\n",
       " 'LSH Search Results (k = 70)(Query = 2 years experience product manager)': '0.01%',\n",
       " 'LSH Search Results (k = 70)(Query = 10 years risk analyst problem solver)': '0.02%',\n",
       " 'LSH Search Results (k = 70)(Query = tax analyst for big company)': '0.01%',\n",
       " 'LSH Search Results (k = 70)(Query = software engineer for google or amazon)': '0.01%',\n",
       " 'LSH Search Results (k = 70)(Query = video editor for advertisements with 5 year experience)': '0.01%',\n",
       " 'LSH Search Results (k = 70)(Query = full time senior head nurse position)': '0.01%',\n",
       " 'LSH Search Results (k = 70)(Query = after school math and science tutor)': '0.01%',\n",
       " 'LSH Search Results (k = 70)(Query = dietitian for professional atheletes)': '0.02%',\n",
       " 'LSH Search Results (k = 70)(Query = costume designer and makeup artist)': '0.03%',\n",
       " 'LSH Search Results (k = 90)(Query = resilient investment banker)': '0.01%',\n",
       " 'LSH Search Results (k = 90)(Query = 2 years experience product manager)': '0.04%',\n",
       " 'LSH Search Results (k = 90)(Query = 10 years risk analyst problem solver)': '0.03%',\n",
       " 'LSH Search Results (k = 90)(Query = tax analyst for big company)': '0.07%',\n",
       " 'LSH Search Results (k = 90)(Query = software engineer for google or amazon)': '0.02%',\n",
       " 'LSH Search Results (k = 90)(Query = video editor for advertisements with 5 year experience)': '0.03%',\n",
       " 'LSH Search Results (k = 90)(Query = full time senior head nurse position)': '0.01%',\n",
       " 'LSH Search Results (k = 90)(Query = after school math and science tutor)': '0.01%',\n",
       " 'LSH Search Results (k = 90)(Query = dietitian for professional atheletes)': '0.01%',\n",
       " 'LSH Search Results (k = 90)(Query = costume designer and makeup artist)': '0.08%',\n",
       " 'LSH Search Results (k = 110)(Query = resilient investment banker)': '0.01%',\n",
       " 'LSH Search Results (k = 110)(Query = 2 years experience product manager)': '0.0%',\n",
       " 'LSH Search Results (k = 110)(Query = 10 years risk analyst problem solver)': '0.0%',\n",
       " 'LSH Search Results (k = 110)(Query = tax analyst for big company)': '0.02%',\n",
       " 'LSH Search Results (k = 110)(Query = software engineer for google or amazon)': '0.0%',\n",
       " 'LSH Search Results (k = 110)(Query = video editor for advertisements with 5 year experience)': '0.01%',\n",
       " 'LSH Search Results (k = 110)(Query = full time senior head nurse position)': '0.01%',\n",
       " 'LSH Search Results (k = 110)(Query = after school math and science tutor)': '0.01%',\n",
       " 'LSH Search Results (k = 110)(Query = dietitian for professional atheletes)': '0.13%',\n",
       " 'LSH Search Results (k = 110)(Query = costume designer and makeup artist)': '0.01%',\n",
       " 'LSH Search Results (k = 130)(Query = resilient investment banker)': '0.01%',\n",
       " 'LSH Search Results (k = 130)(Query = 2 years experience product manager)': '0.06%',\n",
       " 'LSH Search Results (k = 130)(Query = 10 years risk analyst problem solver)': '0.0%',\n",
       " 'LSH Search Results (k = 130)(Query = tax analyst for big company)': '0.02%',\n",
       " 'LSH Search Results (k = 130)(Query = software engineer for google or amazon)': '0.02%',\n",
       " 'LSH Search Results (k = 130)(Query = video editor for advertisements with 5 year experience)': '0.02%',\n",
       " 'LSH Search Results (k = 130)(Query = full time senior head nurse position)': '0.01%',\n",
       " 'LSH Search Results (k = 130)(Query = after school math and science tutor)': '0.01%',\n",
       " 'LSH Search Results (k = 130)(Query = dietitian for professional atheletes)': '0.01%',\n",
       " 'LSH Search Results (k = 130)(Query = costume designer and makeup artist)': '0.01%',\n",
       " 'LSH Search Results (k = 150)(Query = resilient investment banker)': '0.0%',\n",
       " 'LSH Search Results (k = 150)(Query = 2 years experience product manager)': '0.06%',\n",
       " 'LSH Search Results (k = 150)(Query = 10 years risk analyst problem solver)': '0.01%',\n",
       " 'LSH Search Results (k = 150)(Query = tax analyst for big company)': '0.0%',\n",
       " 'LSH Search Results (k = 150)(Query = software engineer for google or amazon)': '0.02%',\n",
       " 'LSH Search Results (k = 150)(Query = video editor for advertisements with 5 year experience)': '0.01%',\n",
       " 'LSH Search Results (k = 150)(Query = full time senior head nurse position)': '0.0%',\n",
       " 'LSH Search Results (k = 150)(Query = after school math and science tutor)': '0.0%',\n",
       " 'LSH Search Results (k = 150)(Query = dietitian for professional atheletes)': '0.0%',\n",
       " 'LSH Search Results (k = 150)(Query = costume designer and makeup artist)': '0.03%',\n",
       " 'LSH Search Results (k = 170)(Query = resilient investment banker)': '0.02%',\n",
       " 'LSH Search Results (k = 170)(Query = 2 years experience product manager)': '0.01%',\n",
       " 'LSH Search Results (k = 170)(Query = 10 years risk analyst problem solver)': '0.06%',\n",
       " 'LSH Search Results (k = 170)(Query = tax analyst for big company)': '0.03%',\n",
       " 'LSH Search Results (k = 170)(Query = software engineer for google or amazon)': '0.0%',\n",
       " 'LSH Search Results (k = 170)(Query = video editor for advertisements with 5 year experience)': '0.05%',\n",
       " 'LSH Search Results (k = 170)(Query = full time senior head nurse position)': '0.0%',\n",
       " 'LSH Search Results (k = 170)(Query = after school math and science tutor)': '0.01%',\n",
       " 'LSH Search Results (k = 170)(Query = dietitian for professional atheletes)': '0.0%',\n",
       " 'LSH Search Results (k = 170)(Query = costume designer and makeup artist)': '0.03%',\n",
       " 'LSH Search Results (k = 190)(Query = resilient investment banker)': '0.0%',\n",
       " 'LSH Search Results (k = 190)(Query = 2 years experience product manager)': '0.0%',\n",
       " 'LSH Search Results (k = 190)(Query = 10 years risk analyst problem solver)': '0.01%',\n",
       " 'LSH Search Results (k = 190)(Query = tax analyst for big company)': '0.0%',\n",
       " 'LSH Search Results (k = 190)(Query = software engineer for google or amazon)': '0.01%',\n",
       " 'LSH Search Results (k = 190)(Query = video editor for advertisements with 5 year experience)': '0.01%',\n",
       " 'LSH Search Results (k = 190)(Query = full time senior head nurse position)': '0.02%',\n",
       " 'LSH Search Results (k = 190)(Query = after school math and science tutor)': '0.01%',\n",
       " 'LSH Search Results (k = 190)(Query = dietitian for professional atheletes)': '0.02%',\n",
       " 'LSH Search Results (k = 190)(Query = costume designer and makeup artist)': '0.0%',\n",
       " 'LSH Search Results (k = 210)(Query = resilient investment banker)': '0.02%',\n",
       " 'LSH Search Results (k = 210)(Query = 2 years experience product manager)': '0.01%',\n",
       " 'LSH Search Results (k = 210)(Query = 10 years risk analyst problem solver)': '0.01%',\n",
       " 'LSH Search Results (k = 210)(Query = tax analyst for big company)': '0.03%',\n",
       " 'LSH Search Results (k = 210)(Query = software engineer for google or amazon)': '0.03%',\n",
       " 'LSH Search Results (k = 210)(Query = video editor for advertisements with 5 year experience)': '0.0%',\n",
       " 'LSH Search Results (k = 210)(Query = full time senior head nurse position)': '0.02%',\n",
       " 'LSH Search Results (k = 210)(Query = after school math and science tutor)': '0.0%',\n",
       " 'LSH Search Results (k = 210)(Query = dietitian for professional atheletes)': '0.01%',\n",
       " 'LSH Search Results (k = 210)(Query = costume designer and makeup artist)': '0.01%',\n",
       " 'LSH Search Results (k = 230)(Query = resilient investment banker)': '0.03%',\n",
       " 'LSH Search Results (k = 230)(Query = 2 years experience product manager)': '0.03%',\n",
       " 'LSH Search Results (k = 230)(Query = 10 years risk analyst problem solver)': '0.01%',\n",
       " 'LSH Search Results (k = 230)(Query = tax analyst for big company)': '0.0%',\n",
       " 'LSH Search Results (k = 230)(Query = software engineer for google or amazon)': '0.01%',\n",
       " 'LSH Search Results (k = 230)(Query = video editor for advertisements with 5 year experience)': '0.01%',\n",
       " 'LSH Search Results (k = 230)(Query = full time senior head nurse position)': '0.03%',\n",
       " 'LSH Search Results (k = 230)(Query = after school math and science tutor)': '0.01%',\n",
       " 'LSH Search Results (k = 230)(Query = dietitian for professional atheletes)': '0.01%',\n",
       " 'LSH Search Results (k = 230)(Query = costume designer and makeup artist)': '0.03%',\n",
       " 'LSH Search Results (k = 250)(Query = resilient investment banker)': '0.01%',\n",
       " 'LSH Search Results (k = 250)(Query = 2 years experience product manager)': '0.01%',\n",
       " 'LSH Search Results (k = 250)(Query = 10 years risk analyst problem solver)': '0.02%',\n",
       " 'LSH Search Results (k = 250)(Query = tax analyst for big company)': '0.06%',\n",
       " 'LSH Search Results (k = 250)(Query = software engineer for google or amazon)': '0.0%',\n",
       " 'LSH Search Results (k = 250)(Query = video editor for advertisements with 5 year experience)': '0.01%',\n",
       " 'LSH Search Results (k = 250)(Query = full time senior head nurse position)': '0.06%',\n",
       " 'LSH Search Results (k = 250)(Query = after school math and science tutor)': '0.01%',\n",
       " 'LSH Search Results (k = 250)(Query = dietitian for professional atheletes)': '0.01%',\n",
       " 'LSH Search Results (k = 250)(Query = costume designer and makeup artist)': '0.01%',\n",
       " 'LSH Search Results (k = 270)(Query = resilient investment banker)': '0.02%',\n",
       " 'LSH Search Results (k = 270)(Query = 2 years experience product manager)': '0.01%',\n",
       " 'LSH Search Results (k = 270)(Query = 10 years risk analyst problem solver)': '0.0%',\n",
       " 'LSH Search Results (k = 270)(Query = tax analyst for big company)': '0.01%',\n",
       " 'LSH Search Results (k = 270)(Query = software engineer for google or amazon)': '0.01%',\n",
       " 'LSH Search Results (k = 270)(Query = video editor for advertisements with 5 year experience)': '0.02%',\n",
       " 'LSH Search Results (k = 270)(Query = full time senior head nurse position)': '0.01%',\n",
       " 'LSH Search Results (k = 270)(Query = after school math and science tutor)': '0.01%',\n",
       " 'LSH Search Results (k = 270)(Query = dietitian for professional atheletes)': '0.01%',\n",
       " 'LSH Search Results (k = 270)(Query = costume designer and makeup artist)': '0.01%',\n",
       " 'LSH Search Results (k = 290)(Query = resilient investment banker)': '0.0%',\n",
       " 'LSH Search Results (k = 290)(Query = 2 years experience product manager)': '0.01%',\n",
       " 'LSH Search Results (k = 290)(Query = 10 years risk analyst problem solver)': '0.01%',\n",
       " 'LSH Search Results (k = 290)(Query = tax analyst for big company)': '0.02%',\n",
       " 'LSH Search Results (k = 290)(Query = software engineer for google or amazon)': '0.01%',\n",
       " 'LSH Search Results (k = 290)(Query = video editor for advertisements with 5 year experience)': '0.11%',\n",
       " 'LSH Search Results (k = 290)(Query = full time senior head nurse position)': '0.0%',\n",
       " 'LSH Search Results (k = 290)(Query = after school math and science tutor)': '0.01%',\n",
       " 'LSH Search Results (k = 290)(Query = dietitian for professional atheletes)': '0.01%',\n",
       " 'LSH Search Results (k = 290)(Query = costume designer and makeup artist)': '0.04%'}"
      ]
     },
     "execution_count": 10,
     "metadata": {},
     "output_type": "execute_result"
    }
   ],
   "source": [
    "acc_results_df = pd.DataFrame(acc_dict)\n",
    "\n"
   ]
  },
  {
   "cell_type": "markdown",
   "id": "82019b1d-45d9-4dcc-b1f2-1b2d15062b3f",
   "metadata": {},
   "source": [
    "### PQ Accuracy"
   ]
  },
  {
   "cell_type": "code",
   "execution_count": null,
   "id": "ae87f73b-5f3e-4bad-8611-b5f7757dbc75",
   "metadata": {},
   "outputs": [],
   "source": []
  }
 ],
 "metadata": {
  "kernelspec": {
   "display_name": "Python 3 (ipykernel)",
   "language": "python",
   "name": "python3"
  },
  "language_info": {
   "codemirror_mode": {
    "name": "ipython",
    "version": 3
   },
   "file_extension": ".py",
   "mimetype": "text/x-python",
   "name": "python",
   "nbconvert_exporter": "python",
   "pygments_lexer": "ipython3",
   "version": "3.11.2"
  }
 },
 "nbformat": 4,
 "nbformat_minor": 5
}
