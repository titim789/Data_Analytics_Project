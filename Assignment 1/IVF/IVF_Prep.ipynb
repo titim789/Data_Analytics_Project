{
 "cells": [
  {
   "cell_type": "code",
   "execution_count": 1,
   "metadata": {
    "id": "6MJShG6iX6Q6"
   },
   "outputs": [
    {
     "name": "stderr",
     "output_type": "stream",
     "text": [
      "d:\\UsefulSoftware\\Anaconda\\lib\\site-packages\\scipy\\__init__.py:155: UserWarning: A NumPy version >=1.18.5 and <1.25.0 is required for this version of SciPy (detected version 1.25.0\n",
      "  warnings.warn(f\"A NumPy version >={np_minversion} and <{np_maxversion}\"\n"
     ]
    }
   ],
   "source": [
    "import nltk\n",
    "import numpy as np\n",
    "import pandas as pd\n",
    "import time"
   ]
  },
  {
   "cell_type": "markdown",
   "metadata": {
    "id": "npzspWkfZ4ht"
   },
   "source": [
    "downloading packages:"
   ]
  },
  {
   "cell_type": "code",
   "execution_count": 2,
   "metadata": {
    "colab": {
     "base_uri": "https://localhost:8080/"
    },
    "id": "jDNocDlRYdUV",
    "outputId": "eba9fc30-2e7b-43b0-e3f7-56d6b0b77f24"
   },
   "outputs": [
    {
     "name": "stderr",
     "output_type": "stream",
     "text": [
      "[nltk_data] Downloading package punkt to\n",
      "[nltk_data]     C:\\Users\\haosh\\AppData\\Roaming\\nltk_data...\n",
      "[nltk_data]   Package punkt is already up-to-date!\n",
      "[nltk_data] Downloading package stopwords to\n",
      "[nltk_data]     C:\\Users\\haosh\\AppData\\Roaming\\nltk_data...\n",
      "[nltk_data]   Package stopwords is already up-to-date!\n",
      "[nltk_data] Downloading package wordnet to\n",
      "[nltk_data]     C:\\Users\\haosh\\AppData\\Roaming\\nltk_data...\n",
      "[nltk_data]   Package wordnet is already up-to-date!\n",
      "[nltk_data] Downloading package omw-1.4 to\n",
      "[nltk_data]     C:\\Users\\haosh\\AppData\\Roaming\\nltk_data...\n",
      "[nltk_data]   Package omw-1.4 is already up-to-date!\n"
     ]
    }
   ],
   "source": [
    "nltk.download(\"punkt\")\n",
    "nltk.download(\"stopwords\")\n",
    "nltk.download(\"wordnet\")\n",
    "nltk.download('omw-1.4')\n"
   ]
  },
  {
   "cell_type": "markdown",
   "metadata": {
    "id": "MgTjg8bWZ_Q4"
   },
   "source": [
    "importing file."
   ]
  },
  {
   "cell_type": "code",
   "execution_count": 3,
   "metadata": {
    "id": "OluLVx0FZO2c"
   },
   "outputs": [],
   "source": [
    "# stopwords = nltk.corpus.stopwords.words('english')\n",
    "stemmer = nltk.stem.SnowballStemmer('english')\n",
    "lemmatizer = nltk.stem.WordNetLemmatizer()"
   ]
  },
  {
   "cell_type": "markdown",
   "metadata": {
    "id": "Xx1xEYSxaHFb"
   },
   "source": [
    "Reading CSV file:"
   ]
  },
  {
   "cell_type": "code",
   "execution_count": 4,
   "metadata": {
    "colab": {
     "base_uri": "https://localhost:8080/",
     "height": 354
    },
    "id": "s-whrNT5ZYgw",
    "outputId": "37b06e5f-437f-4289-97f2-d1555c98d8fa",
    "scrolled": true
   },
   "outputs": [
    {
     "data": {
      "text/html": [
       "<div>\n",
       "<style scoped>\n",
       "    .dataframe tbody tr th:only-of-type {\n",
       "        vertical-align: middle;\n",
       "    }\n",
       "\n",
       "    .dataframe tbody tr th {\n",
       "        vertical-align: top;\n",
       "    }\n",
       "\n",
       "    .dataframe thead th {\n",
       "        text-align: right;\n",
       "    }\n",
       "</style>\n",
       "<table border=\"1\" class=\"dataframe\">\n",
       "  <thead>\n",
       "    <tr style=\"text-align: right;\">\n",
       "      <th></th>\n",
       "      <th>Data</th>\n",
       "      <th>Vector</th>\n",
       "    </tr>\n",
       "  </thead>\n",
       "  <tbody>\n",
       "    <tr>\n",
       "      <th>0</th>\n",
       "      <td>Licensed Insurance Agent While many industries...</td>\n",
       "      <td>[2, 0, 0, 0, 0, 0, 0, 0, 0, 0, 0, 0, 0, 0, 0, ...</td>\n",
       "    </tr>\n",
       "    <tr>\n",
       "      <th>1</th>\n",
       "      <td>Sales Manager Are dynamic creative marketing p...</td>\n",
       "      <td>[0, 0, 0, 0, 0, 0, 0, 0, 0, 0, 0, 0, 0, 0, 0, ...</td>\n",
       "    </tr>\n",
       "    <tr>\n",
       "      <th>2</th>\n",
       "      <td>Model Risk Auditor Join Us Model Risk Auditor ...</td>\n",
       "      <td>[0, 0, 0, 0, 0, 0, 0, 0, 0, 0, 0, 0, 0, 0, 0, ...</td>\n",
       "    </tr>\n",
       "    <tr>\n",
       "      <th>3</th>\n",
       "      <td>Business Manager Business ManagerFirst Baptist...</td>\n",
       "      <td>[0, 0, 0, 0, 0, 0, 0, 0, 0, 0, 0, 0, 0, 0, 0, ...</td>\n",
       "    </tr>\n",
       "    <tr>\n",
       "      <th>4</th>\n",
       "      <td>NY Studio Assistant YOU COULD BE ONE OF THE MA...</td>\n",
       "      <td>[0, 0, 0, 0, 0, 0, 0, 0, 0, 0, 0, 0, 0, 0, 0, ...</td>\n",
       "    </tr>\n",
       "  </tbody>\n",
       "</table>\n",
       "</div>"
      ],
      "text/plain": [
       "                                                Data  \\\n",
       "0  Licensed Insurance Agent While many industries...   \n",
       "1  Sales Manager Are dynamic creative marketing p...   \n",
       "2  Model Risk Auditor Join Us Model Risk Auditor ...   \n",
       "3  Business Manager Business ManagerFirst Baptist...   \n",
       "4  NY Studio Assistant YOU COULD BE ONE OF THE MA...   \n",
       "\n",
       "                                              Vector  \n",
       "0  [2, 0, 0, 0, 0, 0, 0, 0, 0, 0, 0, 0, 0, 0, 0, ...  \n",
       "1  [0, 0, 0, 0, 0, 0, 0, 0, 0, 0, 0, 0, 0, 0, 0, ...  \n",
       "2  [0, 0, 0, 0, 0, 0, 0, 0, 0, 0, 0, 0, 0, 0, 0, ...  \n",
       "3  [0, 0, 0, 0, 0, 0, 0, 0, 0, 0, 0, 0, 0, 0, 0, ...  \n",
       "4  [0, 0, 0, 0, 0, 0, 0, 0, 0, 0, 0, 0, 0, 0, 0, ...  "
      ]
     },
     "execution_count": 4,
     "metadata": {},
     "output_type": "execute_result"
    }
   ],
   "source": [
    "# df= pd.read_csv(\"Top 1000 IMDB movies.csv\")\n",
    "# df = pd.read_csv(\"Polarity.csv\")\n",
    "df = pd.read_json(\"job_postings_prepped.json\")\n",
    "df.head()"
   ]
  },
  {
   "cell_type": "code",
   "execution_count": 5,
   "metadata": {},
   "outputs": [
    {
     "data": {
      "text/html": [
       "<div>\n",
       "<style scoped>\n",
       "    .dataframe tbody tr th:only-of-type {\n",
       "        vertical-align: middle;\n",
       "    }\n",
       "\n",
       "    .dataframe tbody tr th {\n",
       "        vertical-align: top;\n",
       "    }\n",
       "\n",
       "    .dataframe thead th {\n",
       "        text-align: right;\n",
       "    }\n",
       "</style>\n",
       "<table border=\"1\" class=\"dataframe\">\n",
       "  <thead>\n",
       "    <tr style=\"text-align: right;\">\n",
       "      <th></th>\n",
       "      <th>Data</th>\n",
       "      <th>Vector</th>\n",
       "    </tr>\n",
       "  </thead>\n",
       "  <tbody>\n",
       "    <tr>\n",
       "      <th>0</th>\n",
       "      <td>Licensed Insurance Agent While many industries...</td>\n",
       "      <td>[2, 0, 0, 0, 0, 0, 0, 0, 0, 0, 0, 0, 0, 0, 0, ...</td>\n",
       "    </tr>\n",
       "    <tr>\n",
       "      <th>1</th>\n",
       "      <td>Sales Manager Are dynamic creative marketing p...</td>\n",
       "      <td>[0, 0, 0, 0, 0, 0, 0, 0, 0, 0, 0, 0, 0, 0, 0, ...</td>\n",
       "    </tr>\n",
       "    <tr>\n",
       "      <th>2</th>\n",
       "      <td>Model Risk Auditor Join Us Model Risk Auditor ...</td>\n",
       "      <td>[0, 0, 0, 0, 0, 0, 0, 0, 0, 0, 0, 0, 0, 0, 0, ...</td>\n",
       "    </tr>\n",
       "    <tr>\n",
       "      <th>3</th>\n",
       "      <td>Business Manager Business ManagerFirst Baptist...</td>\n",
       "      <td>[0, 0, 0, 0, 0, 0, 0, 0, 0, 0, 0, 0, 0, 0, 0, ...</td>\n",
       "    </tr>\n",
       "    <tr>\n",
       "      <th>4</th>\n",
       "      <td>NY Studio Assistant YOU COULD BE ONE OF THE MA...</td>\n",
       "      <td>[0, 0, 0, 0, 0, 0, 0, 0, 0, 0, 0, 0, 0, 0, 0, ...</td>\n",
       "    </tr>\n",
       "  </tbody>\n",
       "</table>\n",
       "</div>"
      ],
      "text/plain": [
       "                                                Data  \\\n",
       "0  Licensed Insurance Agent While many industries...   \n",
       "1  Sales Manager Are dynamic creative marketing p...   \n",
       "2  Model Risk Auditor Join Us Model Risk Auditor ...   \n",
       "3  Business Manager Business ManagerFirst Baptist...   \n",
       "4  NY Studio Assistant YOU COULD BE ONE OF THE MA...   \n",
       "\n",
       "                                              Vector  \n",
       "0  [2, 0, 0, 0, 0, 0, 0, 0, 0, 0, 0, 0, 0, 0, 0, ...  \n",
       "1  [0, 0, 0, 0, 0, 0, 0, 0, 0, 0, 0, 0, 0, 0, 0, ...  \n",
       "2  [0, 0, 0, 0, 0, 0, 0, 0, 0, 0, 0, 0, 0, 0, 0, ...  \n",
       "3  [0, 0, 0, 0, 0, 0, 0, 0, 0, 0, 0, 0, 0, 0, 0, ...  \n",
       "4  [0, 0, 0, 0, 0, 0, 0, 0, 0, 0, 0, 0, 0, 0, 0, ...  "
      ]
     },
     "execution_count": 5,
     "metadata": {},
     "output_type": "execute_result"
    }
   ],
   "source": [
    "# stop_words = nltk.corpus.stopwords.words('english')\n",
    "# stop_words.append('nan')\n",
    "# stop_words.append('removed')\n",
    "# stop_words.remove('not')\n",
    "# stop_words.remove('no')\n",
    "# stop_words[:10]\n",
    "stemmer = nltk.stem.SnowballStemmer('english')\n",
    "lemmatizer = nltk.stem.WordNetLemmatizer()\n",
    "# df['Cleaned_Data'] = df['Data'].apply(lambda x: ' '.join([word for word in x.split() if word not in (stop_words)]))\n",
    "df.head()"
   ]
  },
  {
   "cell_type": "code",
   "execution_count": 6,
   "metadata": {
    "colab": {
     "base_uri": "https://localhost:8080/"
    },
    "id": "G6YX3uDBaO33",
    "outputId": "327496b3-ae8f-43d9-aa92-00f9cf0018ed"
   },
   "outputs": [
    {
     "name": "stdout",
     "output_type": "stream",
     "text": [
      "(15885, 2)\n"
     ]
    }
   ],
   "source": [
    "print(df.shape)"
   ]
  },
  {
   "cell_type": "code",
   "execution_count": 7,
   "metadata": {
    "id": "AsDyrf02aVsh"
   },
   "outputs": [
    {
     "data": {
      "text/plain": [
       "array([\"Licensed Insurance Agent While many industries hurt last years, people still need insurance! This position amazing opportunity someone wants career insurance industry. Successful agents opportunity grow develop skills position Leadership Roles even Agency Ownership future! I’m Sonia Sullivan-Aery and, almost eight years, I’ve incredibly rewarding career Allstate Insurance. My team I helped thousands families across California, need one outstanding agent join team! Here’s I’m looking for:Someone POSITIVE & SUPPORTIVE mindsetA TEAM PLAYERSomeone SELF-DRIVENSomeone CUSTOMER-FOCUSED genuinely wants help peopleAnd finally, someone COACHABLE Here’s expect me: I offer competitive base salary, PLUS commissions, PLUS bonuses, AND benefits including health, dental, vision, IRA match, much more! Entry Level: $19/hr huge opportunities development! Insurance extremely rewarding – it’s career inflation-proof, recession-proof, always changing provides many opportunities grow learn! My philosophy employer I best take excellent care team, take excellent care clients. My team receives outstanding training support, every resource need successful. HUGE BONUS POINTS IF YOU SPEAK SPANISH! Will next team member!? Apply today let's connect! Job Type: Full-time Pay: $19.00 - $22.00 per hour Benefits:401(k)401(k) matchingDental insuranceHealth insurancePaid time offParental leaveVision insuranceSupplemental pay types:Bonus payCommission payWeekly day range:Monday FridayWork setting:In-personOfficeWork Location: In person\",\n",
       "       \"Sales Manager Are dynamic creative marketing professional looking make significant impact world freight logistics? We seeking talented Marketing Manager join team drive marketing initiatives new heights. If passionate shaping brand narratives, developing strategic campaigns, thrive fast-paced environment, want hear you!Key Responsibilities:Develop execute comprehensive marketing strategies enhance brand visibility promote freight logistics services.Lead team marketing specialists, fostering collaboration guiding efforts towards achieving set goals.Analyze market trends, customer behavior, competitor activity identify growth opportunities refine strategies.Manage company's online presence, optimizing website social media channels maximum engagement conversions.Plan oversee participation industry events, conferences, trade shows showcase services network potential clients.Measure report performance marketing campaigns, using data-driven insights continuously improve strategies.Qualifications:Bachelor's degree Marketing, Business, related field (Master's preferred).Proven experience (5+ years) marketing, preferably within freight logistics industry related B2B field.Strong Customer Base Running Business.Strong understanding digital marketing tactics, including SEO, SEM, social media, content marketing.Analytical mindset proficiency data analysis tools drive informed marketing decisions.Excellent communication skills, written verbal, craft compelling narratives collaborate across teams.Ability thrive fast-paced, ever-changing environment adapt industry shifts.Strong organizational skills attention detail, ensuring flawless execution marketing campaigns.Why Join Us:Opportunity play pivotal role shaping marketing strategies leading player freight logistics industry.A collaborative inclusive work environment values innovation continuous improvement.Competitive salary benefits package.Room growth career advancement based performance results.Chance work diverse team professionals passionate making difference.If ready take rewarding challenge world freight logistics marketing, want hear you! Send resume cover letter outlining relevant experience mitch@cargo-login.com. Join us driving brand forward revolutionizing way approach marketing dynamic industry.\",\n",
       "       \"Model Risk Auditor Join Us Model Risk Auditor – Showcase Your Financial Services Auditing Expertise!Are experienced financial services auditor passion unraveling complexities? We're lookout Model Risk Auditor join us elevate model risk management practices. Position Highlights:Location: New York, NY (Hybrid work arrangement)Duration: Approximately 10 weeks (3 months)Daily Rate: Competitive rate based industry research Position Summary:As Model Risk Auditor, integral part Model Risk Management (MRM) audit assignment. You work closely Internal Audit team, following established methodology assess evaluate effectiveness model risk management framework. This includes areas Model Governance, Policies Procedures, key processes controls accordance regulatory guidelines (SR 11-7). Key Responsibilities:Collaborate lead auditor plan execute MRM audit assignment.Assess Branch's model risk management framework, evaluating conceptual soundness compliance regulatory standards.Document work papers using standardized templates provided Internal Audit team.Identify document model risk audit findings, substantiating relevant facts evidence.Develop recommendations address root causes identified issues.Provide regular project status updates auditee Internal Audit management. Qualifications & Skills:Previous experience auditing within financial services sector essential.Preference given candidates experience risk modeling familiarity SR 11-7 supervisory guidance.Strong documentation skills, ability create well-structured work papers reports.Excellent analytical problem-solving abilities.Effective communication skills interact various stakeholders present findings clearly..\",\n",
       "       ...,\n",
       "       \"Radiology Aide, Perdiem Job Title: Radiology Aide, Perdiem Department: Cat Scan FLSA Status: Non-Exempt Position Summary: Assists Radiologists technologists patient care maintenance departmental inventory equipment. Requirements Education: High School diploma equivalent. Successful completion one year Associate's Science Radiography program. Skills: Knowledge anatomical orientation universal precautions preferred. Experience: Prior Radiology experience. License/Certification: American Heart Association Basic Life Support Certification. Essential Functions Of The Job Greets patients courteous respectful manner. Effectively communicates patients compassion positive interpersonal skills.Administers oral contrast material outpatients walks patient changing area.Practice aseptic techniques. Washes hands patient contact. Strictly obeys isolation infection control procedures.Demonstrates responsibility knowing adhering departmental rules regulations performing professional manner.Demonstrates willingness help others ask help needed.Regularly assists technologists utilization PACS, RIS HIS systems.Regularly assists takes part in-service programs staff.Reports changes patient’s condition behavior technical nursing personnel.Always provides direction families, visitors patients courteous positive manner.Maintains respects confidentiality.Reports suggestions positive changes supervisor.Performs duties assignedIncorporates physiological developmental age patients overall plan delivery care.Responsibilities may require adjusted work schedule, overtime, evening/weekend hours order meet operational needs Department and/or Hospital.Responsibilities require ability read, write rationally comprehend English language.Must able work effectively member multidisciplinary team ensure quality service provided clients physicians.Utilizing Hospital provided equipment and/or safe work procedures, employee shall required lift objects practicable.The employee must able perform physical requirements job, including not limited to, standing, walking, reaching arms hands, climbing, balancing. Must able stoop, kneel and/or crouch.\",\n",
       "       \"MRI Manager Grade 105 Job Type: Officer AdministrationBargaining Unit:Regular/Temporary: RegularEnd Date Temporary:Hours Per Week: 35Standard Work Schedule:Building:Salary Range: $110,000- $135,000 The salary finalist selected role set based variety factors, including not limited departmental budgets, qualifications, experience, education, licenses, specialty, training. The hiring range represents University's good faith reasonable estimate range possible compensation time posting. Position Summary The MRI Manager position within ColumbiaDoctors/NewYork Presbyterian Imaging. In collaboration Medical Director departmental leadership, MRI Manager manage technical functions, activities operations MRI modality across multiple locations. This role provide high quality, efficient, cost-effective patient care ensure compliance departmental, CUIMC regulatory standards. Responsibilities Prioritize overall activities department assigns/delegates work meet departmental goals requirements.Ensure evaluates overall staffing needs appropriate times. This includes assuring staff schedules, personal time away staff coverage adequate recommending changes needed staffing plans relating workload, patient volume attending staff changes.Responsible hiring, onboarding, training, mentorship performance management technologists collaboration lead technologists.Monitors staff compliance department Center standards, policies procedures (e.g., patient confidentiality, waste management, infection control, fire safety).Assist Radiologists developing new procedure protocols, coordinates education new protocols work flow, ensuring scanners updated staff educated. Ensure proper policies procedures day day MR safety imposed; serve lead MRI safety standardsWork MRSO develop safe working procedures MR environment.Manage hazards posed MRI equipment staff patients; also take measures protect hazards.Ensure medical, technical, nursing, others working MR environment appropriately educated regular basis safety requirements updated information necessary.Advice selection, procurement, installation MR equipment MR-related equipment. Oversees development implementation training programs, orientation; delivers training in-service new existing staff.Monitors evaluates progress new employees training mentorship period observation discussions staff new employees themselves; reviews progress modifies development placement plans accordingly.Develops QA improvements based continuous analysis clinical operations, polices, systems, procedures ensure delivery quality service patients. Works closely Administration QA Nurse Manager plan implement new program initiatives affecting clinical care research activity. Prepares quality assessment reports per established format appropriate committees within required time frames.Reviews policies procedures required department annually ensure date comply institutional policies, procedures, quality/safety standards external legal Article 28 regulations. Ensures incident reports accurately documented per Center departmental guidelines. Retains essential employee records documents organized fashion.Coordinates activities IT resources installation security. Troubleshoots problems concerning information systems (PACS RIS). Serves point person completion ACR Accreditation applications submission images.Perform duties assignedTravel required lead training educational activities sites Minimum Qualifications Graduate 2 year AMA approved Radiology school least 4 years related experience. Other Requirements New York State Licensed X-Ray Technologist Department Health. Registered X-Ray Technologist American Registry Radiologic Technologists (ARRT)ARRT/MRI certification2 years supervisory experience Equal Opportunity Employer / Disability / Veteran Columbia University committed hiring qualified local residents.\",\n",
       "       'Area Director Business Development Nexion Health Management affiliates operate 56 skilled nursing rehabilitation well assisted living facilities Louisiana, Mississippi Texas. Each affiliate skilled nursing assisted living campuses offers home-like setting influenced unique regional cultures. Our commitment excellence reflected positive clinical outcomes, resident family member testimonials, satisfaction reports AHCA Quality Awards. Summary:Participates development implementation business development programs, assigned facilities, consistent objectives strategies organization. Responsible coordinating general business development, market research, brand management, advertising and/or promotion projects. Responsibilities:Exemplify working knowledge levels care available facility work develop specific sales programs referrals based knowledgeResponsible sales business development programs assigned facilities/areaMaximize number referrals key physicians, physician organizations, hospital accounts, local market sources meet area sales plans goalsWorks VP Business Development, Area Business Development personnel facility sales team develop implement plans satisfy customer needsUnderstand local managed care environment products impact sales process.Actively participate sales meetingsDevelopment implementation targeted weekly sales calendarsWork Director Business Development analyze referral log data report trends relating increasing referrals improving conversion percentages Qualifications:COVID-19 Vaccination requiredProficient selling skill techniqueAbility work independently collectively team membersExcellent organization skillsMinimum 2 years health care sales experienceProven track record selling physicians, hospitals case managersHave developed knowledge state, federal regulatory requirementsPosition may include late hours, weekend work, traveling overnight stays EOE M/F/D/V Hiring Locations MS'],\n",
       "      dtype=object)"
      ]
     },
     "execution_count": 7,
     "metadata": {},
     "output_type": "execute_result"
    }
   ],
   "source": [
    "corpus = df[\"Data\"].values\n",
    "corpus"
   ]
  },
  {
   "cell_type": "markdown",
   "metadata": {
    "id": "S4UWB5saacjX"
   },
   "source": [
    "Tokenization:"
   ]
  },
  {
   "cell_type": "code",
   "execution_count": 8,
   "metadata": {
    "id": "DKFIh9AMabZH"
   },
   "outputs": [],
   "source": [
    "from nltk.tokenize import word_tokenize\n",
    "def tokenize_corpus(tweets):\n",
    "    return list(map(word_tokenize, tweets))"
   ]
  },
  {
   "cell_type": "code",
   "execution_count": 9,
   "metadata": {
    "id": "rodVZtUHawTn"
   },
   "outputs": [
    {
     "data": {
      "text/plain": [
       "[['Licensed',\n",
       "  'Insurance',\n",
       "  'Agent',\n",
       "  'While',\n",
       "  'many',\n",
       "  'industries',\n",
       "  'hurt',\n",
       "  'last',\n",
       "  'years',\n",
       "  ',',\n",
       "  'people',\n",
       "  'still',\n",
       "  'need',\n",
       "  'insurance',\n",
       "  '!',\n",
       "  'This',\n",
       "  'position',\n",
       "  'amazing',\n",
       "  'opportunity',\n",
       "  'someone',\n",
       "  'wants',\n",
       "  'career',\n",
       "  'insurance',\n",
       "  'industry',\n",
       "  '.',\n",
       "  'Successful',\n",
       "  'agents',\n",
       "  'opportunity',\n",
       "  'grow',\n",
       "  'develop',\n",
       "  'skills',\n",
       "  'position',\n",
       "  'Leadership',\n",
       "  'Roles',\n",
       "  'even',\n",
       "  'Agency',\n",
       "  'Ownership',\n",
       "  'future',\n",
       "  '!',\n",
       "  'I',\n",
       "  '’',\n",
       "  'm',\n",
       "  'Sonia',\n",
       "  'Sullivan-Aery',\n",
       "  'and',\n",
       "  ',',\n",
       "  'almost',\n",
       "  'eight',\n",
       "  'years',\n",
       "  ',',\n",
       "  'I',\n",
       "  '’',\n",
       "  've',\n",
       "  'incredibly',\n",
       "  'rewarding',\n",
       "  'career',\n",
       "  'Allstate',\n",
       "  'Insurance',\n",
       "  '.',\n",
       "  'My',\n",
       "  'team',\n",
       "  'I',\n",
       "  'helped',\n",
       "  'thousands',\n",
       "  'families',\n",
       "  'across',\n",
       "  'California',\n",
       "  ',',\n",
       "  'need',\n",
       "  'one',\n",
       "  'outstanding',\n",
       "  'agent',\n",
       "  'join',\n",
       "  'team',\n",
       "  '!',\n",
       "  'Here',\n",
       "  '’',\n",
       "  's',\n",
       "  'I',\n",
       "  '’',\n",
       "  'm',\n",
       "  'looking',\n",
       "  'for',\n",
       "  ':',\n",
       "  'Someone',\n",
       "  'POSITIVE',\n",
       "  '&',\n",
       "  'SUPPORTIVE',\n",
       "  'mindsetA',\n",
       "  'TEAM',\n",
       "  'PLAYERSomeone',\n",
       "  'SELF-DRIVENSomeone',\n",
       "  'CUSTOMER-FOCUSED',\n",
       "  'genuinely',\n",
       "  'wants',\n",
       "  'help',\n",
       "  'peopleAnd',\n",
       "  'finally',\n",
       "  ',',\n",
       "  'someone',\n",
       "  'COACHABLE',\n",
       "  'Here',\n",
       "  '’',\n",
       "  's',\n",
       "  'expect',\n",
       "  'me',\n",
       "  ':',\n",
       "  'I',\n",
       "  'offer',\n",
       "  'competitive',\n",
       "  'base',\n",
       "  'salary',\n",
       "  ',',\n",
       "  'PLUS',\n",
       "  'commissions',\n",
       "  ',',\n",
       "  'PLUS',\n",
       "  'bonuses',\n",
       "  ',',\n",
       "  'AND',\n",
       "  'benefits',\n",
       "  'including',\n",
       "  'health',\n",
       "  ',',\n",
       "  'dental',\n",
       "  ',',\n",
       "  'vision',\n",
       "  ',',\n",
       "  'IRA',\n",
       "  'match',\n",
       "  ',',\n",
       "  'much',\n",
       "  'more',\n",
       "  '!',\n",
       "  'Entry',\n",
       "  'Level',\n",
       "  ':',\n",
       "  '$',\n",
       "  '19/hr',\n",
       "  'huge',\n",
       "  'opportunities',\n",
       "  'development',\n",
       "  '!',\n",
       "  'Insurance',\n",
       "  'extremely',\n",
       "  'rewarding',\n",
       "  '–',\n",
       "  'it',\n",
       "  '’',\n",
       "  's',\n",
       "  'career',\n",
       "  'inflation-proof',\n",
       "  ',',\n",
       "  'recession-proof',\n",
       "  ',',\n",
       "  'always',\n",
       "  'changing',\n",
       "  'provides',\n",
       "  'many',\n",
       "  'opportunities',\n",
       "  'grow',\n",
       "  'learn',\n",
       "  '!',\n",
       "  'My',\n",
       "  'philosophy',\n",
       "  'employer',\n",
       "  'I',\n",
       "  'best',\n",
       "  'take',\n",
       "  'excellent',\n",
       "  'care',\n",
       "  'team',\n",
       "  ',',\n",
       "  'take',\n",
       "  'excellent',\n",
       "  'care',\n",
       "  'clients',\n",
       "  '.',\n",
       "  'My',\n",
       "  'team',\n",
       "  'receives',\n",
       "  'outstanding',\n",
       "  'training',\n",
       "  'support',\n",
       "  ',',\n",
       "  'every',\n",
       "  'resource',\n",
       "  'need',\n",
       "  'successful',\n",
       "  '.',\n",
       "  'HUGE',\n",
       "  'BONUS',\n",
       "  'POINTS',\n",
       "  'IF',\n",
       "  'YOU',\n",
       "  'SPEAK',\n",
       "  'SPANISH',\n",
       "  '!',\n",
       "  'Will',\n",
       "  'next',\n",
       "  'team',\n",
       "  'member',\n",
       "  '!',\n",
       "  '?',\n",
       "  'Apply',\n",
       "  'today',\n",
       "  'let',\n",
       "  \"'s\",\n",
       "  'connect',\n",
       "  '!',\n",
       "  'Job',\n",
       "  'Type',\n",
       "  ':',\n",
       "  'Full-time',\n",
       "  'Pay',\n",
       "  ':',\n",
       "  '$',\n",
       "  '19.00',\n",
       "  '-',\n",
       "  '$',\n",
       "  '22.00',\n",
       "  'per',\n",
       "  'hour',\n",
       "  'Benefits:401',\n",
       "  '(',\n",
       "  'k',\n",
       "  ')',\n",
       "  '401',\n",
       "  '(',\n",
       "  'k',\n",
       "  ')',\n",
       "  'matchingDental',\n",
       "  'insuranceHealth',\n",
       "  'insurancePaid',\n",
       "  'time',\n",
       "  'offParental',\n",
       "  'leaveVision',\n",
       "  'insuranceSupplemental',\n",
       "  'pay',\n",
       "  'types',\n",
       "  ':',\n",
       "  'Bonus',\n",
       "  'payCommission',\n",
       "  'payWeekly',\n",
       "  'day',\n",
       "  'range',\n",
       "  ':',\n",
       "  'Monday',\n",
       "  'FridayWork',\n",
       "  'setting',\n",
       "  ':',\n",
       "  'In-personOfficeWork',\n",
       "  'Location',\n",
       "  ':',\n",
       "  'In',\n",
       "  'person']]"
      ]
     },
     "execution_count": 9,
     "metadata": {},
     "output_type": "execute_result"
    }
   ],
   "source": [
    "tokenized_nostopw_corpus = tokenize_corpus(corpus)\n",
    "tokenized_nostopw_corpus[:1]"
   ]
  },
  {
   "cell_type": "markdown",
   "metadata": {
    "id": "B4O6cdrob96L"
   },
   "source": [
    "Creating an inverted index:"
   ]
  },
  {
   "cell_type": "code",
   "execution_count": 10,
   "metadata": {
    "id": "DfRxNAubbvyU"
   },
   "outputs": [],
   "source": [
    "def case_folding(tokenized_tweets):\n",
    "    _function = lambda tweet: [word.lower() for word in tweet]\n",
    "    return list(map(_function, tokenized_tweets))\n",
    "\n",
    "def lemmatize_words(tokenized_tweets):\n",
    "    _function = lambda tweet: [lemmatizer.lemmatize(word) for word in tweet]\n",
    "    return list(map(_function, tokenized_tweets))\n",
    "\n",
    "def stem_words(tokenized_tweets):\n",
    "    _function = lambda tweet: [stemmer.stem(word) for word in tweet]\n",
    "    return list(map(_function, tokenized_tweets))\n",
    "\n",
    "def create_inverted_index(tokenized_tweets):\n",
    "    inverted_index = dict()\n",
    "    for document_idx in range(len(tokenized_tweets)):\n",
    "        for word in tokenized_tweets[document_idx]:\n",
    "            if word not in inverted_index:\n",
    "                inverted_index[word] = list()\n",
    "            inverted_index[word].append(document_idx)\n",
    "    \n",
    "    for key in inverted_index:\n",
    "        inverted_index[key] = list(set(inverted_index[key]))\n",
    "        \n",
    "    return inverted_index"
   ]
  },
  {
   "cell_type": "markdown",
   "metadata": {
    "id": "A3-9jKckcND6"
   },
   "source": [
    "calling inverted index function to create inverted index on the corpus:"
   ]
  },
  {
   "cell_type": "code",
   "execution_count": 11,
   "metadata": {
    "id": "5KH6zNRccMHy"
   },
   "outputs": [
    {
     "name": "stdout",
     "output_type": "stream",
     "text": [
      "Pre-compute time: 412.968843460083\n"
     ]
    }
   ],
   "source": [
    "# inverted_index = create_inverted_index(tokenized_nostopw_corpus)\n",
    "start_time = time.time()\n",
    "tokenized_nostopw_case_corpus = case_folding(tokenized_nostopw_corpus)\n",
    "tokenized_nostopw_case_lemm_corpus = lemmatize_words(tokenized_nostopw_case_corpus)\n",
    "tokenized_nostopw_case_stem_corpus = stem_words(tokenized_nostopw_case_corpus)\n",
    "inverted_index_processed = create_inverted_index(tokenized_nostopw_case_stem_corpus) # tokenized\n",
    "end_time = time.time()\n",
    "print(\"Pre-compute time:\", end_time - start_time)"
   ]
  },
  {
   "cell_type": "markdown",
   "metadata": {},
   "source": [
    "### Storing the processed dictionary to file"
   ]
  },
  {
   "cell_type": "code",
   "execution_count": 12,
   "metadata": {},
   "outputs": [],
   "source": [
    "import json\n",
    "with open('inverted_index_processed.json', 'w') as file:\n",
    "    json.dump(inverted_index_processed, file)\n",
    "\n",
    "with open('tokenized_nostopw_corpus.json', 'w') as file:\n",
    "    json.dump(tokenized_nostopw_corpus, file)"
   ]
  },
  {
   "cell_type": "markdown",
   "metadata": {
    "id": "BnKX3qagloyF"
   },
   "source": []
  }
 ],
 "metadata": {
  "colab": {
   "provenance": []
  },
  "kernelspec": {
   "display_name": "Python 3 (ipykernel)",
   "language": "python",
   "name": "python3"
  },
  "language_info": {
   "codemirror_mode": {
    "name": "ipython",
    "version": 3
   },
   "file_extension": ".py",
   "mimetype": "text/x-python",
   "name": "python",
   "nbconvert_exporter": "python",
   "pygments_lexer": "ipython3",
   "version": "3.9.13"
  }
 },
 "nbformat": 4,
 "nbformat_minor": 1
}
